{
 "cells": [
  {
   "cell_type": "markdown",
   "metadata": {},
   "source": [
    "# Проект 'Определение стоимости автомобилей'"
   ]
  },
  {
   "cell_type": "markdown",
   "metadata": {},
   "source": [
    "## Подготовка данных"
   ]
  },
  {
   "cell_type": "markdown",
   "metadata": {},
   "source": [
    "### Импорт библиотек"
   ]
  },
  {
   "cell_type": "markdown",
   "metadata": {},
   "source": [
    "Установим дополнительные библиотеки."
   ]
  },
  {
   "cell_type": "code",
   "execution_count": 1,
   "metadata": {
    "scrolled": true
   },
   "outputs": [
    {
     "name": "stdout",
     "output_type": "stream",
     "text": [
      "Requirement already satisfied: catboost in c:\\users\\honor\\appdata\\local\\programs\\python\\python311\\lib\\site-packages (1.2.2)\n",
      "Requirement already satisfied: graphviz in c:\\users\\honor\\appdata\\local\\programs\\python\\python311\\lib\\site-packages (from catboost) (0.20.1)\n",
      "Requirement already satisfied: matplotlib in c:\\users\\honor\\appdata\\local\\programs\\python\\python311\\lib\\site-packages (from catboost) (3.8.0)\n",
      "Requirement already satisfied: numpy>=1.16.0 in c:\\users\\honor\\appdata\\local\\programs\\python\\python311\\lib\\site-packages (from catboost) (1.25.2)\n",
      "Requirement already satisfied: pandas>=0.24 in c:\\users\\honor\\appdata\\local\\programs\\python\\python311\\lib\\site-packages (from catboost) (2.1.0)\n",
      "Requirement already satisfied: scipy in c:\\users\\honor\\appdata\\local\\programs\\python\\python311\\lib\\site-packages (from catboost) (1.11.2)\n",
      "Requirement already satisfied: plotly in c:\\users\\honor\\appdata\\local\\programs\\python\\python311\\lib\\site-packages (from catboost) (5.17.0)\n",
      "Requirement already satisfied: six in c:\\users\\honor\\appdata\\local\\programs\\python\\python311\\lib\\site-packages (from catboost) (1.16.0)\n",
      "Requirement already satisfied: python-dateutil>=2.8.2 in c:\\users\\honor\\appdata\\local\\programs\\python\\python311\\lib\\site-packages (from pandas>=0.24->catboost) (2.8.2)\n",
      "Requirement already satisfied: pytz>=2020.1 in c:\\users\\honor\\appdata\\local\\programs\\python\\python311\\lib\\site-packages (from pandas>=0.24->catboost) (2023.3.post1)\n",
      "Requirement already satisfied: tzdata>=2022.1 in c:\\users\\honor\\appdata\\local\\programs\\python\\python311\\lib\\site-packages (from pandas>=0.24->catboost) (2023.3)\n",
      "Requirement already satisfied: contourpy>=1.0.1 in c:\\users\\honor\\appdata\\local\\programs\\python\\python311\\lib\\site-packages (from matplotlib->catboost) (1.1.0)\n",
      "Requirement already satisfied: cycler>=0.10 in c:\\users\\honor\\appdata\\local\\programs\\python\\python311\\lib\\site-packages (from matplotlib->catboost) (0.11.0)\n",
      "Requirement already satisfied: fonttools>=4.22.0 in c:\\users\\honor\\appdata\\local\\programs\\python\\python311\\lib\\site-packages (from matplotlib->catboost) (4.42.1)\n",
      "Requirement already satisfied: kiwisolver>=1.0.1 in c:\\users\\honor\\appdata\\local\\programs\\python\\python311\\lib\\site-packages (from matplotlib->catboost) (1.4.5)\n",
      "Requirement already satisfied: packaging>=20.0 in c:\\users\\honor\\appdata\\local\\programs\\python\\python311\\lib\\site-packages (from matplotlib->catboost) (23.1)\n",
      "Requirement already satisfied: pillow>=6.2.0 in c:\\users\\honor\\appdata\\local\\programs\\python\\python311\\lib\\site-packages (from matplotlib->catboost) (10.0.0)\n",
      "Requirement already satisfied: pyparsing>=2.3.1 in c:\\users\\honor\\appdata\\local\\programs\\python\\python311\\lib\\site-packages (from matplotlib->catboost) (3.1.1)\n",
      "Requirement already satisfied: tenacity>=6.2.0 in c:\\users\\honor\\appdata\\local\\programs\\python\\python311\\lib\\site-packages (from plotly->catboost) (8.2.3)\n",
      "Requirement already satisfied: fast_ml in c:\\users\\honor\\appdata\\local\\programs\\python\\python311\\lib\\site-packages (3.68)\n",
      "Requirement already satisfied: lightgbm in c:\\users\\honor\\appdata\\local\\programs\\python\\python311\\lib\\site-packages (4.1.0)\n",
      "Requirement already satisfied: numpy in c:\\users\\honor\\appdata\\local\\programs\\python\\python311\\lib\\site-packages (from lightgbm) (1.25.2)\n",
      "Requirement already satisfied: scipy in c:\\users\\honor\\appdata\\local\\programs\\python\\python311\\lib\\site-packages (from lightgbm) (1.11.2)\n",
      "Looking in indexes: https://pypi.org/simple, https://pypi.anaconda.org/scipy-wheels-nightly/simple\n",
      "Requirement already satisfied: scikit-learn in c:\\users\\honor\\appdata\\local\\programs\\python\\python311\\lib\\site-packages (1.3.1)\n",
      "Requirement already satisfied: numpy<2.0,>=1.17.3 in c:\\users\\honor\\appdata\\local\\programs\\python\\python311\\lib\\site-packages (from scikit-learn) (1.25.2)\n",
      "Requirement already satisfied: scipy>=1.5.0 in c:\\users\\honor\\appdata\\local\\programs\\python\\python311\\lib\\site-packages (from scikit-learn) (1.11.2)\n",
      "Requirement already satisfied: joblib>=1.1.1 in c:\\users\\honor\\appdata\\local\\programs\\python\\python311\\lib\\site-packages (from scikit-learn) (1.3.2)\n",
      "Requirement already satisfied: threadpoolctl>=2.0.0 in c:\\users\\honor\\appdata\\local\\programs\\python\\python311\\lib\\site-packages (from scikit-learn) (3.2.0)\n"
     ]
    }
   ],
   "source": [
    "!pip install catboost\n",
    "!pip install fast_ml\n",
    "!pip install lightgbm\n",
    "!pip install --pre --extra-index https://pypi.anaconda.org/scipy-wheels-nightly/simple scikit-learn -U"
   ]
  },
  {
   "cell_type": "code",
   "execution_count": 2,
   "metadata": {},
   "outputs": [],
   "source": [
    "import matplotlib.pyplot as plt\n",
    "import numpy as np\n",
    "import pandas as pd\n",
    "from catboost import CatBoostRegressor\n",
    "from fast_ml.model_development import train_valid_test_split\n",
    "from lightgbm import LGBMRegressor\n",
    "from sklearn.compose import make_column_transformer\n",
    "from sklearn.linear_model import LinearRegression\n",
    "from sklearn.metrics import mean_squared_error\n",
    "from sklearn.model_selection import GridSearchCV\n",
    "from sklearn.preprocessing import OneHotEncoder\n",
    "from sklearn.preprocessing import StandardScaler\n",
    "from sklearn.tree import DecisionTreeRegressor"
   ]
  },
  {
   "cell_type": "markdown",
   "metadata": {},
   "source": [
    "### Считываем данные и выводим общую информацию "
   ]
  },
  {
   "cell_type": "code",
   "execution_count": 3,
   "metadata": {},
   "outputs": [],
   "source": [
    "try:\n",
    "    data = pd.read_csv('datasets/autos.csv')\n",
    "except:\n",
    "    data = pd.read_csv('autos.csv')"
   ]
  },
  {
   "cell_type": "markdown",
   "metadata": {},
   "source": [
    "Выведем общую информацию о данных:"
   ]
  },
  {
   "cell_type": "code",
   "execution_count": 4,
   "metadata": {},
   "outputs": [
    {
     "name": "stdout",
     "output_type": "stream",
     "text": [
      "<class 'pandas.core.frame.DataFrame'>\n",
      "RangeIndex: 354369 entries, 0 to 354368\n",
      "Data columns (total 16 columns):\n",
      " #   Column             Non-Null Count   Dtype \n",
      "---  ------             --------------   ----- \n",
      " 0   DateCrawled        354369 non-null  object\n",
      " 1   Price              354369 non-null  int64 \n",
      " 2   VehicleType        316879 non-null  object\n",
      " 3   RegistrationYear   354369 non-null  int64 \n",
      " 4   Gearbox            334536 non-null  object\n",
      " 5   Power              354369 non-null  int64 \n",
      " 6   Model              334664 non-null  object\n",
      " 7   Kilometer          354369 non-null  int64 \n",
      " 8   RegistrationMonth  354369 non-null  int64 \n",
      " 9   FuelType           321474 non-null  object\n",
      " 10  Brand              354369 non-null  object\n",
      " 11  Repaired           283215 non-null  object\n",
      " 12  DateCreated        354369 non-null  object\n",
      " 13  NumberOfPictures   354369 non-null  int64 \n",
      " 14  PostalCode         354369 non-null  int64 \n",
      " 15  LastSeen           354369 non-null  object\n",
      "dtypes: int64(7), object(9)\n",
      "memory usage: 43.3+ MB\n"
     ]
    }
   ],
   "source": [
    "data.info()"
   ]
  },
  {
   "cell_type": "markdown",
   "metadata": {},
   "source": [
    "Первые 5 строчек датасета:"
   ]
  },
  {
   "cell_type": "code",
   "execution_count": 5,
   "metadata": {},
   "outputs": [
    {
     "data": {
      "text/html": [
       "<div>\n",
       "<style scoped>\n",
       "    .dataframe tbody tr th:only-of-type {\n",
       "        vertical-align: middle;\n",
       "    }\n",
       "\n",
       "    .dataframe tbody tr th {\n",
       "        vertical-align: top;\n",
       "    }\n",
       "\n",
       "    .dataframe thead th {\n",
       "        text-align: right;\n",
       "    }\n",
       "</style>\n",
       "<table border=\"1\" class=\"dataframe\">\n",
       "  <thead>\n",
       "    <tr style=\"text-align: right;\">\n",
       "      <th></th>\n",
       "      <th>DateCrawled</th>\n",
       "      <th>Price</th>\n",
       "      <th>VehicleType</th>\n",
       "      <th>RegistrationYear</th>\n",
       "      <th>Gearbox</th>\n",
       "      <th>Power</th>\n",
       "      <th>Model</th>\n",
       "      <th>Kilometer</th>\n",
       "      <th>RegistrationMonth</th>\n",
       "      <th>FuelType</th>\n",
       "      <th>Brand</th>\n",
       "      <th>Repaired</th>\n",
       "      <th>DateCreated</th>\n",
       "      <th>NumberOfPictures</th>\n",
       "      <th>PostalCode</th>\n",
       "      <th>LastSeen</th>\n",
       "    </tr>\n",
       "  </thead>\n",
       "  <tbody>\n",
       "    <tr>\n",
       "      <th>0</th>\n",
       "      <td>2016-03-24 11:52:17</td>\n",
       "      <td>480</td>\n",
       "      <td>NaN</td>\n",
       "      <td>1993</td>\n",
       "      <td>manual</td>\n",
       "      <td>0</td>\n",
       "      <td>golf</td>\n",
       "      <td>150000</td>\n",
       "      <td>0</td>\n",
       "      <td>petrol</td>\n",
       "      <td>volkswagen</td>\n",
       "      <td>NaN</td>\n",
       "      <td>2016-03-24 00:00:00</td>\n",
       "      <td>0</td>\n",
       "      <td>70435</td>\n",
       "      <td>2016-04-07 03:16:57</td>\n",
       "    </tr>\n",
       "    <tr>\n",
       "      <th>1</th>\n",
       "      <td>2016-03-24 10:58:45</td>\n",
       "      <td>18300</td>\n",
       "      <td>coupe</td>\n",
       "      <td>2011</td>\n",
       "      <td>manual</td>\n",
       "      <td>190</td>\n",
       "      <td>NaN</td>\n",
       "      <td>125000</td>\n",
       "      <td>5</td>\n",
       "      <td>gasoline</td>\n",
       "      <td>audi</td>\n",
       "      <td>yes</td>\n",
       "      <td>2016-03-24 00:00:00</td>\n",
       "      <td>0</td>\n",
       "      <td>66954</td>\n",
       "      <td>2016-04-07 01:46:50</td>\n",
       "    </tr>\n",
       "    <tr>\n",
       "      <th>2</th>\n",
       "      <td>2016-03-14 12:52:21</td>\n",
       "      <td>9800</td>\n",
       "      <td>suv</td>\n",
       "      <td>2004</td>\n",
       "      <td>auto</td>\n",
       "      <td>163</td>\n",
       "      <td>grand</td>\n",
       "      <td>125000</td>\n",
       "      <td>8</td>\n",
       "      <td>gasoline</td>\n",
       "      <td>jeep</td>\n",
       "      <td>NaN</td>\n",
       "      <td>2016-03-14 00:00:00</td>\n",
       "      <td>0</td>\n",
       "      <td>90480</td>\n",
       "      <td>2016-04-05 12:47:46</td>\n",
       "    </tr>\n",
       "    <tr>\n",
       "      <th>3</th>\n",
       "      <td>2016-03-17 16:54:04</td>\n",
       "      <td>1500</td>\n",
       "      <td>small</td>\n",
       "      <td>2001</td>\n",
       "      <td>manual</td>\n",
       "      <td>75</td>\n",
       "      <td>golf</td>\n",
       "      <td>150000</td>\n",
       "      <td>6</td>\n",
       "      <td>petrol</td>\n",
       "      <td>volkswagen</td>\n",
       "      <td>no</td>\n",
       "      <td>2016-03-17 00:00:00</td>\n",
       "      <td>0</td>\n",
       "      <td>91074</td>\n",
       "      <td>2016-03-17 17:40:17</td>\n",
       "    </tr>\n",
       "    <tr>\n",
       "      <th>4</th>\n",
       "      <td>2016-03-31 17:25:20</td>\n",
       "      <td>3600</td>\n",
       "      <td>small</td>\n",
       "      <td>2008</td>\n",
       "      <td>manual</td>\n",
       "      <td>69</td>\n",
       "      <td>fabia</td>\n",
       "      <td>90000</td>\n",
       "      <td>7</td>\n",
       "      <td>gasoline</td>\n",
       "      <td>skoda</td>\n",
       "      <td>no</td>\n",
       "      <td>2016-03-31 00:00:00</td>\n",
       "      <td>0</td>\n",
       "      <td>60437</td>\n",
       "      <td>2016-04-06 10:17:21</td>\n",
       "    </tr>\n",
       "  </tbody>\n",
       "</table>\n",
       "</div>"
      ],
      "text/plain": [
       "           DateCrawled  Price VehicleType  RegistrationYear Gearbox  Power  \\\n",
       "0  2016-03-24 11:52:17    480         NaN              1993  manual      0   \n",
       "1  2016-03-24 10:58:45  18300       coupe              2011  manual    190   \n",
       "2  2016-03-14 12:52:21   9800         suv              2004    auto    163   \n",
       "3  2016-03-17 16:54:04   1500       small              2001  manual     75   \n",
       "4  2016-03-31 17:25:20   3600       small              2008  manual     69   \n",
       "\n",
       "   Model  Kilometer  RegistrationMonth  FuelType       Brand Repaired  \\\n",
       "0   golf     150000                  0    petrol  volkswagen      NaN   \n",
       "1    NaN     125000                  5  gasoline        audi      yes   \n",
       "2  grand     125000                  8  gasoline        jeep      NaN   \n",
       "3   golf     150000                  6    petrol  volkswagen       no   \n",
       "4  fabia      90000                  7  gasoline       skoda       no   \n",
       "\n",
       "           DateCreated  NumberOfPictures  PostalCode             LastSeen  \n",
       "0  2016-03-24 00:00:00                 0       70435  2016-04-07 03:16:57  \n",
       "1  2016-03-24 00:00:00                 0       66954  2016-04-07 01:46:50  \n",
       "2  2016-03-14 00:00:00                 0       90480  2016-04-05 12:47:46  \n",
       "3  2016-03-17 00:00:00                 0       91074  2016-03-17 17:40:17  \n",
       "4  2016-03-31 00:00:00                 0       60437  2016-04-06 10:17:21  "
      ]
     },
     "execution_count": 5,
     "metadata": {},
     "output_type": "execute_result"
    }
   ],
   "source": [
    "data.head()"
   ]
  },
  {
   "cell_type": "markdown",
   "metadata": {},
   "source": [
    "Покажем общую информацию о  каждом столбце:"
   ]
  },
  {
   "cell_type": "code",
   "execution_count": 6,
   "metadata": {},
   "outputs": [
    {
     "data": {
      "text/html": [
       "<div>\n",
       "<style scoped>\n",
       "    .dataframe tbody tr th:only-of-type {\n",
       "        vertical-align: middle;\n",
       "    }\n",
       "\n",
       "    .dataframe tbody tr th {\n",
       "        vertical-align: top;\n",
       "    }\n",
       "\n",
       "    .dataframe thead th {\n",
       "        text-align: right;\n",
       "    }\n",
       "</style>\n",
       "<table border=\"1\" class=\"dataframe\">\n",
       "  <thead>\n",
       "    <tr style=\"text-align: right;\">\n",
       "      <th></th>\n",
       "      <th>Price</th>\n",
       "      <th>RegistrationYear</th>\n",
       "      <th>Power</th>\n",
       "      <th>Kilometer</th>\n",
       "      <th>RegistrationMonth</th>\n",
       "      <th>NumberOfPictures</th>\n",
       "      <th>PostalCode</th>\n",
       "    </tr>\n",
       "  </thead>\n",
       "  <tbody>\n",
       "    <tr>\n",
       "      <th>count</th>\n",
       "      <td>354369.000000</td>\n",
       "      <td>354369.000000</td>\n",
       "      <td>354369.000000</td>\n",
       "      <td>354369.000000</td>\n",
       "      <td>354369.000000</td>\n",
       "      <td>354369.0</td>\n",
       "      <td>354369.000000</td>\n",
       "    </tr>\n",
       "    <tr>\n",
       "      <th>mean</th>\n",
       "      <td>4416.656776</td>\n",
       "      <td>2004.234448</td>\n",
       "      <td>110.094337</td>\n",
       "      <td>128211.172535</td>\n",
       "      <td>5.714645</td>\n",
       "      <td>0.0</td>\n",
       "      <td>50508.689087</td>\n",
       "    </tr>\n",
       "    <tr>\n",
       "      <th>std</th>\n",
       "      <td>4514.158514</td>\n",
       "      <td>90.227958</td>\n",
       "      <td>189.850405</td>\n",
       "      <td>37905.341530</td>\n",
       "      <td>3.726421</td>\n",
       "      <td>0.0</td>\n",
       "      <td>25783.096248</td>\n",
       "    </tr>\n",
       "    <tr>\n",
       "      <th>min</th>\n",
       "      <td>0.000000</td>\n",
       "      <td>1000.000000</td>\n",
       "      <td>0.000000</td>\n",
       "      <td>5000.000000</td>\n",
       "      <td>0.000000</td>\n",
       "      <td>0.0</td>\n",
       "      <td>1067.000000</td>\n",
       "    </tr>\n",
       "    <tr>\n",
       "      <th>25%</th>\n",
       "      <td>1050.000000</td>\n",
       "      <td>1999.000000</td>\n",
       "      <td>69.000000</td>\n",
       "      <td>125000.000000</td>\n",
       "      <td>3.000000</td>\n",
       "      <td>0.0</td>\n",
       "      <td>30165.000000</td>\n",
       "    </tr>\n",
       "    <tr>\n",
       "      <th>50%</th>\n",
       "      <td>2700.000000</td>\n",
       "      <td>2003.000000</td>\n",
       "      <td>105.000000</td>\n",
       "      <td>150000.000000</td>\n",
       "      <td>6.000000</td>\n",
       "      <td>0.0</td>\n",
       "      <td>49413.000000</td>\n",
       "    </tr>\n",
       "    <tr>\n",
       "      <th>75%</th>\n",
       "      <td>6400.000000</td>\n",
       "      <td>2008.000000</td>\n",
       "      <td>143.000000</td>\n",
       "      <td>150000.000000</td>\n",
       "      <td>9.000000</td>\n",
       "      <td>0.0</td>\n",
       "      <td>71083.000000</td>\n",
       "    </tr>\n",
       "    <tr>\n",
       "      <th>max</th>\n",
       "      <td>20000.000000</td>\n",
       "      <td>9999.000000</td>\n",
       "      <td>20000.000000</td>\n",
       "      <td>150000.000000</td>\n",
       "      <td>12.000000</td>\n",
       "      <td>0.0</td>\n",
       "      <td>99998.000000</td>\n",
       "    </tr>\n",
       "  </tbody>\n",
       "</table>\n",
       "</div>"
      ],
      "text/plain": [
       "               Price  RegistrationYear          Power      Kilometer  \\\n",
       "count  354369.000000     354369.000000  354369.000000  354369.000000   \n",
       "mean     4416.656776       2004.234448     110.094337  128211.172535   \n",
       "std      4514.158514         90.227958     189.850405   37905.341530   \n",
       "min         0.000000       1000.000000       0.000000    5000.000000   \n",
       "25%      1050.000000       1999.000000      69.000000  125000.000000   \n",
       "50%      2700.000000       2003.000000     105.000000  150000.000000   \n",
       "75%      6400.000000       2008.000000     143.000000  150000.000000   \n",
       "max     20000.000000       9999.000000   20000.000000  150000.000000   \n",
       "\n",
       "       RegistrationMonth  NumberOfPictures     PostalCode  \n",
       "count      354369.000000          354369.0  354369.000000  \n",
       "mean            5.714645               0.0   50508.689087  \n",
       "std             3.726421               0.0   25783.096248  \n",
       "min             0.000000               0.0    1067.000000  \n",
       "25%             3.000000               0.0   30165.000000  \n",
       "50%             6.000000               0.0   49413.000000  \n",
       "75%             9.000000               0.0   71083.000000  \n",
       "max            12.000000               0.0   99998.000000  "
      ]
     },
     "execution_count": 6,
     "metadata": {},
     "output_type": "execute_result"
    }
   ],
   "source": [
    "data.describe()"
   ]
  },
  {
   "cell_type": "markdown",
   "metadata": {},
   "source": [
    "### Предобработка данных"
   ]
  },
  {
   "cell_type": "markdown",
   "metadata": {},
   "source": [
    "#### Пропуски"
   ]
  },
  {
   "cell_type": "markdown",
   "metadata": {},
   "source": [
    "Проверим датасет на наличие пропусков (выведем количество и долю в процентах)."
   ]
  },
  {
   "cell_type": "code",
   "execution_count": 7,
   "metadata": {},
   "outputs": [
    {
     "data": {
      "text/html": [
       "<style type=\"text/css\">\n",
       "#T_e892d_row0_col0, #T_e892d_row0_col1, #T_e892d_row1_col0, #T_e892d_row1_col1, #T_e892d_row3_col0, #T_e892d_row3_col1, #T_e892d_row5_col0, #T_e892d_row5_col1, #T_e892d_row7_col0, #T_e892d_row7_col1, #T_e892d_row8_col0, #T_e892d_row8_col1, #T_e892d_row10_col0, #T_e892d_row10_col1, #T_e892d_row12_col0, #T_e892d_row12_col1, #T_e892d_row13_col0, #T_e892d_row13_col1, #T_e892d_row14_col0, #T_e892d_row14_col1, #T_e892d_row15_col0, #T_e892d_row15_col1 {\n",
       "  background-color: #3b4cc0;\n",
       "  color: #f1f1f1;\n",
       "}\n",
       "#T_e892d_row2_col0, #T_e892d_row2_col1 {\n",
       "  background-color: #e3d9d3;\n",
       "  color: #000000;\n",
       "}\n",
       "#T_e892d_row4_col0, #T_e892d_row4_col1 {\n",
       "  background-color: #97b8ff;\n",
       "  color: #000000;\n",
       "}\n",
       "#T_e892d_row6_col0, #T_e892d_row6_col1 {\n",
       "  background-color: #96b7ff;\n",
       "  color: #000000;\n",
       "}\n",
       "#T_e892d_row9_col0, #T_e892d_row9_col1 {\n",
       "  background-color: #d3dbe7;\n",
       "  color: #000000;\n",
       "}\n",
       "#T_e892d_row11_col0, #T_e892d_row11_col1 {\n",
       "  background-color: #b40426;\n",
       "  color: #f1f1f1;\n",
       "}\n",
       "</style>\n",
       "<table id=\"T_e892d\">\n",
       "  <thead>\n",
       "    <tr>\n",
       "      <th class=\"blank level0\" >&nbsp;</th>\n",
       "      <th id=\"T_e892d_level0_col0\" class=\"col_heading level0 col0\" >пропуски</th>\n",
       "      <th id=\"T_e892d_level0_col1\" class=\"col_heading level0 col1\" >доля_пропусков_%</th>\n",
       "    </tr>\n",
       "  </thead>\n",
       "  <tbody>\n",
       "    <tr>\n",
       "      <th id=\"T_e892d_level0_row0\" class=\"row_heading level0 row0\" >DateCrawled</th>\n",
       "      <td id=\"T_e892d_row0_col0\" class=\"data row0 col0\" >0</td>\n",
       "      <td id=\"T_e892d_row0_col1\" class=\"data row0 col1\" >0.000000</td>\n",
       "    </tr>\n",
       "    <tr>\n",
       "      <th id=\"T_e892d_level0_row1\" class=\"row_heading level0 row1\" >Price</th>\n",
       "      <td id=\"T_e892d_row1_col0\" class=\"data row1 col0\" >0</td>\n",
       "      <td id=\"T_e892d_row1_col1\" class=\"data row1 col1\" >0.000000</td>\n",
       "    </tr>\n",
       "    <tr>\n",
       "      <th id=\"T_e892d_level0_row2\" class=\"row_heading level0 row2\" >VehicleType</th>\n",
       "      <td id=\"T_e892d_row2_col0\" class=\"data row2 col0\" >37490</td>\n",
       "      <td id=\"T_e892d_row2_col1\" class=\"data row2 col1\" >10.580000</td>\n",
       "    </tr>\n",
       "    <tr>\n",
       "      <th id=\"T_e892d_level0_row3\" class=\"row_heading level0 row3\" >RegistrationYear</th>\n",
       "      <td id=\"T_e892d_row3_col0\" class=\"data row3 col0\" >0</td>\n",
       "      <td id=\"T_e892d_row3_col1\" class=\"data row3 col1\" >0.000000</td>\n",
       "    </tr>\n",
       "    <tr>\n",
       "      <th id=\"T_e892d_level0_row4\" class=\"row_heading level0 row4\" >Gearbox</th>\n",
       "      <td id=\"T_e892d_row4_col0\" class=\"data row4 col0\" >19833</td>\n",
       "      <td id=\"T_e892d_row4_col1\" class=\"data row4 col1\" >5.600000</td>\n",
       "    </tr>\n",
       "    <tr>\n",
       "      <th id=\"T_e892d_level0_row5\" class=\"row_heading level0 row5\" >Power</th>\n",
       "      <td id=\"T_e892d_row5_col0\" class=\"data row5 col0\" >0</td>\n",
       "      <td id=\"T_e892d_row5_col1\" class=\"data row5 col1\" >0.000000</td>\n",
       "    </tr>\n",
       "    <tr>\n",
       "      <th id=\"T_e892d_level0_row6\" class=\"row_heading level0 row6\" >Model</th>\n",
       "      <td id=\"T_e892d_row6_col0\" class=\"data row6 col0\" >19705</td>\n",
       "      <td id=\"T_e892d_row6_col1\" class=\"data row6 col1\" >5.560000</td>\n",
       "    </tr>\n",
       "    <tr>\n",
       "      <th id=\"T_e892d_level0_row7\" class=\"row_heading level0 row7\" >Kilometer</th>\n",
       "      <td id=\"T_e892d_row7_col0\" class=\"data row7 col0\" >0</td>\n",
       "      <td id=\"T_e892d_row7_col1\" class=\"data row7 col1\" >0.000000</td>\n",
       "    </tr>\n",
       "    <tr>\n",
       "      <th id=\"T_e892d_level0_row8\" class=\"row_heading level0 row8\" >RegistrationMonth</th>\n",
       "      <td id=\"T_e892d_row8_col0\" class=\"data row8 col0\" >0</td>\n",
       "      <td id=\"T_e892d_row8_col1\" class=\"data row8 col1\" >0.000000</td>\n",
       "    </tr>\n",
       "    <tr>\n",
       "      <th id=\"T_e892d_level0_row9\" class=\"row_heading level0 row9\" >FuelType</th>\n",
       "      <td id=\"T_e892d_row9_col0\" class=\"data row9 col0\" >32895</td>\n",
       "      <td id=\"T_e892d_row9_col1\" class=\"data row9 col1\" >9.280000</td>\n",
       "    </tr>\n",
       "    <tr>\n",
       "      <th id=\"T_e892d_level0_row10\" class=\"row_heading level0 row10\" >Brand</th>\n",
       "      <td id=\"T_e892d_row10_col0\" class=\"data row10 col0\" >0</td>\n",
       "      <td id=\"T_e892d_row10_col1\" class=\"data row10 col1\" >0.000000</td>\n",
       "    </tr>\n",
       "    <tr>\n",
       "      <th id=\"T_e892d_level0_row11\" class=\"row_heading level0 row11\" >Repaired</th>\n",
       "      <td id=\"T_e892d_row11_col0\" class=\"data row11 col0\" >71154</td>\n",
       "      <td id=\"T_e892d_row11_col1\" class=\"data row11 col1\" >20.080000</td>\n",
       "    </tr>\n",
       "    <tr>\n",
       "      <th id=\"T_e892d_level0_row12\" class=\"row_heading level0 row12\" >DateCreated</th>\n",
       "      <td id=\"T_e892d_row12_col0\" class=\"data row12 col0\" >0</td>\n",
       "      <td id=\"T_e892d_row12_col1\" class=\"data row12 col1\" >0.000000</td>\n",
       "    </tr>\n",
       "    <tr>\n",
       "      <th id=\"T_e892d_level0_row13\" class=\"row_heading level0 row13\" >NumberOfPictures</th>\n",
       "      <td id=\"T_e892d_row13_col0\" class=\"data row13 col0\" >0</td>\n",
       "      <td id=\"T_e892d_row13_col1\" class=\"data row13 col1\" >0.000000</td>\n",
       "    </tr>\n",
       "    <tr>\n",
       "      <th id=\"T_e892d_level0_row14\" class=\"row_heading level0 row14\" >PostalCode</th>\n",
       "      <td id=\"T_e892d_row14_col0\" class=\"data row14 col0\" >0</td>\n",
       "      <td id=\"T_e892d_row14_col1\" class=\"data row14 col1\" >0.000000</td>\n",
       "    </tr>\n",
       "    <tr>\n",
       "      <th id=\"T_e892d_level0_row15\" class=\"row_heading level0 row15\" >LastSeen</th>\n",
       "      <td id=\"T_e892d_row15_col0\" class=\"data row15 col0\" >0</td>\n",
       "      <td id=\"T_e892d_row15_col1\" class=\"data row15 col1\" >0.000000</td>\n",
       "    </tr>\n",
       "  </tbody>\n",
       "</table>\n"
      ],
      "text/plain": [
       "<pandas.io.formats.style.Styler at 0x25d140a9990>"
      ]
     },
     "execution_count": 7,
     "metadata": {},
     "output_type": "execute_result"
    }
   ],
   "source": [
    "table_of_omissions = pd.DataFrame(data=pd.Series(data.isna().sum()), columns=['пропуски'])\n",
    "table_of_omissions['доля_пропусков_%'] = round(data.isna().mean() * 100, 2)\n",
    "table_of_omissions.style.background_gradient('coolwarm')"
   ]
  },
  {
   "cell_type": "markdown",
   "metadata": {},
   "source": [
    "Большой датасет = много неидеальных данных. Попробуем разобраться с этой проблемой. \\\n",
    "Для того, чтобы оценить, можем ли мы удалить пропуски в том или ином столбце, мы показали долю пропусков в процентах. Исходя из этой информации сделаем следующие выводы:\n",
    "1. В столбце **'Repaired'** ОЧЕНЬ много пропущенных значений. Это конечно может быть ошибкой, но, скорее всего, владельцы автомобилей таким образом скрывают факт ДТП или другие причины поломок автомобилей. Удалять **1/5 часть** датасета мы не можем, поэтому поместим такие анкеты в отдельную категорию ('unknown'), тем более отсутствие информации от ремонте может сказываться на цене авто.  \n",
    "2. Второе место по пропускам занимает **'VehicleType'**, там их чуть больше **10%**. Избавляться от них не хотелось бы, к тому же у нас вроде бы есть возможность восстановить эту информацию. По названию бренда и модели можно было бы указать тип машины. Однако на деле не всё так просто: на примере автомобиля \"Volkswagen Golf\" можно увидеть, что одна и та же модель машины бывает представлена в разных кузовах. Так что пропускам будем приписывать категорию 'other'.\n",
    "3. С **типом топлива** можно поступить точно также. \n",
    "4. А вот информацию в столбцах **'Gearbox'** и **'Model'** мы угадать не сможем. Модель автомобиля можно было бы попробовать вычислить по бренду и мощности, но к уверенному ответу это нас не приблизит. В случае с типом коробки передач ситуация такая же, но в добавок этот параметр меняется почти у каждой модели автомобиля. Пропусков в двух этих параметрах не так много (**~5%**), так что удалим их.\n",
    "\n",
    "Выводы сделаны. Перейдём к действиям."
   ]
  },
  {
   "cell_type": "code",
   "execution_count": 8,
   "metadata": {},
   "outputs": [],
   "source": [
    "data['Repaired'].fillna('unknown', inplace=True) # создали отдельную категорию"
   ]
  },
  {
   "cell_type": "markdown",
   "metadata": {},
   "source": [
    "Теперь покажем неоднозначность типов кузова:"
   ]
  },
  {
   "cell_type": "code",
   "execution_count": 9,
   "metadata": {},
   "outputs": [
    {
     "data": {
      "text/plain": [
       "array([nan, 'small', 'sedan', 'bus', 'other', 'wagon', 'convertible',\n",
       "       'coupe', 'suv'], dtype=object)"
      ]
     },
     "execution_count": 9,
     "metadata": {},
     "output_type": "execute_result"
    }
   ],
   "source": [
    "data.query('Brand == \"volkswagen\" & Model == \"golf\"')['VehicleType'].unique()"
   ]
  },
  {
   "cell_type": "markdown",
   "metadata": {},
   "source": [
    "Для определения этого параметра видимо нужно отдельная модель :)\n",
    "В нашем случае будет лучше заменить на аналог 'unknown' из столбца 'Repaired'."
   ]
  },
  {
   "cell_type": "code",
   "execution_count": 10,
   "metadata": {},
   "outputs": [],
   "source": [
    "data['VehicleType'].fillna('other', inplace=True)\n",
    "data['FuelType'].fillna('other', inplace=True)\n",
    "data.dropna(subset=['Gearbox', 'Model'], inplace=True) # удалили пропуски"
   ]
  },
  {
   "cell_type": "code",
   "execution_count": 11,
   "metadata": {
    "scrolled": true
   },
   "outputs": [
    {
     "data": {
      "text/plain": [
       "DateCrawled          0\n",
       "Price                0\n",
       "VehicleType          0\n",
       "RegistrationYear     0\n",
       "Gearbox              0\n",
       "Power                0\n",
       "Model                0\n",
       "Kilometer            0\n",
       "RegistrationMonth    0\n",
       "FuelType             0\n",
       "Brand                0\n",
       "Repaired             0\n",
       "DateCreated          0\n",
       "NumberOfPictures     0\n",
       "PostalCode           0\n",
       "LastSeen             0\n",
       "dtype: int64"
      ]
     },
     "execution_count": 11,
     "metadata": {},
     "output_type": "execute_result"
    }
   ],
   "source": [
    "data.reset_index(drop=True, inplace=True) # восстановили индексы\n",
    "data.isna().sum()"
   ]
  },
  {
   "cell_type": "markdown",
   "metadata": {},
   "source": [
    "Пропусков больше нет. Ура!"
   ]
  },
  {
   "cell_type": "markdown",
   "metadata": {},
   "source": [
    "#### Дубликаты"
   ]
  },
  {
   "cell_type": "markdown",
   "metadata": {},
   "source": [
    "Теперь проверим дубликаты:"
   ]
  },
  {
   "cell_type": "code",
   "execution_count": 12,
   "metadata": {},
   "outputs": [
    {
     "data": {
      "text/plain": [
       "4"
      ]
     },
     "execution_count": 12,
     "metadata": {},
     "output_type": "execute_result"
    }
   ],
   "source": [
    "data.duplicated().sum()"
   ]
  },
  {
   "cell_type": "markdown",
   "metadata": {},
   "source": [
    "Всего 4 одинаковые строчки в датасете с сотнями тысяч автомобилей. На них можно даже не обращать внимания, но на всякий случай удалим:"
   ]
  },
  {
   "cell_type": "code",
   "execution_count": 13,
   "metadata": {},
   "outputs": [
    {
     "data": {
      "text/plain": [
       "0"
      ]
     },
     "execution_count": 13,
     "metadata": {},
     "output_type": "execute_result"
    }
   ],
   "source": [
    "data.drop_duplicates(inplace=True)\n",
    "data.duplicated().sum()"
   ]
  },
  {
   "cell_type": "markdown",
   "metadata": {},
   "source": [
    "#### Аномалии"
   ]
  },
  {
   "cell_type": "markdown",
   "metadata": {},
   "source": [
    "Для выявления чересчур больших или маленьких значений в столбцах взглянем, какие элементы встречаются в каждом из них:"
   ]
  },
  {
   "cell_type": "code",
   "execution_count": 14,
   "metadata": {},
   "outputs": [],
   "source": [
    "def unique_columns(df):\n",
    "    for column in df.columns:\n",
    "        print(f'Уникальные элементы столбца {column}')\n",
    "        print(f'{df[column].unique()}\\n')"
   ]
  },
  {
   "cell_type": "code",
   "execution_count": 15,
   "metadata": {},
   "outputs": [
    {
     "name": "stdout",
     "output_type": "stream",
     "text": [
      "Уникальные элементы столбца DateCrawled\n",
      "['2016-03-24 11:52:17' '2016-03-14 12:52:21' '2016-03-17 16:54:04' ...\n",
      " '2016-03-19 19:53:49' '2016-03-21 09:50:58' '2016-03-19 18:57:12']\n",
      "\n",
      "Уникальные элементы столбца Price\n",
      "[  480  9800  1500 ... 12395 18429 10985]\n",
      "\n",
      "Уникальные элементы столбца VehicleType\n",
      "['other' 'suv' 'small' 'sedan' 'convertible' 'bus' 'wagon' 'coupe']\n",
      "\n",
      "Уникальные элементы столбца RegistrationYear\n",
      "[1993 2004 2001 2008 1995 1980 2014 1998 2005 2011 2007 2009 2002 2018\n",
      " 1997 1990 2017 1981 2003 2016 1991 1984 2006 1999 2012 2010 2000 1992\n",
      " 2013 1994 1996 1989 2015 1985 1982 1983 1973 1969 1971 1987 1988 1986\n",
      " 1965 1970 1945 1974 1955 1978 1976 1979 1972 1977 1961 1966 1975 1968\n",
      " 1963 1954 1967 1960 1500 1964 1910 1962 2019 1937 1951 1953 1959 1958\n",
      " 1956 2900 5911 1400 1950 4000 1200 1932 1952 3700 5000 1942 1935 3000\n",
      " 6500 1957 1923 1930 1929 1943 1934 1938 9000 1936 1000 1919 6000 1928\n",
      " 1931 4500 1602 1927 7100 1933 8200 1947 7500 1600]\n",
      "\n",
      "Уникальные элементы столбца Gearbox\n",
      "['manual' 'auto']\n",
      "\n",
      "Уникальные элементы столбца Power\n",
      "[    0   163    75    69   102   109    50   125   101   105   140   115\n",
      "   131   190   136   160   231    90   118   193    99    60   113   218\n",
      "   122   129    70   306    95    61   177    80   170    55   143    64\n",
      "   232   150   156    82   155   185    87   180    86    84   224   235\n",
      "   200   178   265    77   110   144   120    54   286   116   184   126\n",
      "   204    88   194   305   197   179   250   313    45   165    98    41\n",
      "   130   114   211    56   201   213    58   107   174   100   220    85\n",
      "    73   192    66    74    52   147    65   310    71    97   239    68\n",
      "   203   300   103   258   320    63    81   148    44    83   145   280\n",
      "   260   104   188   333   117   141    59   132   234   158    39    92\n",
      "    51   135   230    53   209    43   146    67   106   166   276   344\n",
      "    72   237   245   111   299   326   279    23   138   175    96   226\n",
      "   301   334   128   133   124    33   219   241   167   182   196   238\n",
      "  1398   228    48   272   139   240   186    79   256   243   375   252\n",
      "   396   340   108   121   187   289   222   198   284    37   450   233\n",
      "   112   387   152   347   172    57   137    94   212   476   314    30\n",
      "    47    26   173   290   207   205   171    78    91    89   349    40\n",
      "    76   151   953    93   142   500   343   199   164    16   367   208\n",
      "   210    46   435  1001   225   127   176   161   603   307   354    35\n",
      "   206   771   355   273   223   255   123   154   149  7515   268   620\n",
      "   169   400   275    34     2   242  1779   162  1753   329   285   134\n",
      "   420   247   168 10317   215   360    18   330    62   325   214   183\n",
      "   254    15   321   315   952   328   600   181   119   426   599   379\n",
      "   999   264    22   157    42   195   309   507   381   271   440   401\n",
      "   249   189  1111  2729    21  1240  1704   521     1  1900   270   292\n",
      "   808   515   303    29    38  1993    14   216   610   504   267   331\n",
      "   363   261   253   696 10520   376   227   311    27   217   350    20\n",
      "    10  1999    11  1056    25   394    12   298   296    49  1659     4\n",
      "   294  6920   246     5    17  1625   368   221  1367   259   606    24\n",
      "   327  2017  1597   266   374     9   405    13   601     8   411   900\n",
      "     7   159   541  7512 10218  7544   287    19  1090   457   236   282\n",
      "   388   385  1000  5411   335  1360   202  3750  1062   750  1400  1024\n",
      " 11530  1796   269   460  1780 12012 17932   316  2005  1800  1399   191\n",
      "  1200   278  1300   380   257   449   295   153   288  1653   520   560\n",
      "   281 12510  1500   386    32  1202  2016   430  1436  1405   671   274\n",
      "  1288  1055 15016  6226  1115   277  1105   341  1223   392  8404  1968\n",
      "   338   445  1920   370   517  4400 10710 10522     6   431  1164 11509\n",
      "   371  1501   428 11635    36   304   390   348  1703  1910   579   580\n",
      "   408    31   358  1403   489  5575   262 19211   585   960   353   490\n",
      "   283   352   550  3199  7508  1312  1937   950  4700  1600  3454 19208\n",
      "   251   850   337   700  8011  2331  2789   487   519  2461  6006  5815\n",
      "  6018  1781   751   612  1506  5809 15020  5867  2172  1598 17410  1363\n",
      "   584   322  1054   382  1339   318   510   525  1700    28  1151   685\n",
      "  6011   317   703  1771 15001   514   332   324  6045   530   425   308\n",
      "  6010   475   903   640  2000   362   248   651  2799 17011   505  1521\n",
      "   351   398  9000  1998 10311   409  1230 17019  8259  1895   901   871\n",
      "   909  2201  1595   776 17700 11011  1199   459   357  1162 15033  1896\n",
      "   339   361  6512  1011   454 13616   604 16312   336 20000   416   678\n",
      "  6012  1021  1870  1401 13636  1250  9710   323  1158  2009   902  6062\n",
      "  1275   572   244   399  1016   743  1221   345  2402 16011  1362   544\n",
      "   645   907   702 12512  1995  1986  1003  1432  9013  9011  1017  1394\n",
      " 15017  1992   540  2018 11025  1433  1701  2792  1502  1239  1390  1160\n",
      "  1783   229  9007   923  1149   754  5420  1793   365   356   364  7511\n",
      "  1299   293 19312  1079  1689   998   800  1100  9012   346  1933   508\n",
      " 16311   551  1252  7529  1005  3500  2200  1707  1416  8500  1012   485\n",
      "  1503 10110   421  4507  1631  7518   377  1004  1799  2007  2598  1548\n",
      "  1241   650     3]\n",
      "\n",
      "Уникальные элементы столбца Model\n",
      "['golf' 'grand' 'fabia' '3er' '2_reihe' 'other' 'c_max' '3_reihe' 'passat'\n",
      " 'navara' 'twingo' 'a_klasse' 'scirocco' '5er' 'meriva' 'arosa' 'c4'\n",
      " 'civic' 'transporter' 'punto' 'e_klasse' 'clio' 'kadett' 'one' 'fortwo'\n",
      " '1er' 'b_klasse' 'signum' 'astra' 'a8' 'jetta' 'polo' 'fiesta' 'c_klasse'\n",
      " 'micra' 'vito' 'sprinter' '156' 'escort' 'forester' 'xc_reihe' 'scenic'\n",
      " 'a4' 'a1' 'combo' 'focus' 'tt' 'a6' 'jazz' 'omega' 'slk' '7er' 'corsa'\n",
      " '80' '147' 'z_reihe' 'sportage' 'sorento' 'v40' 'ibiza' 'mustang' 'eos'\n",
      " 'touran' 'getz' 'insignia' 'ka' 'almera' 'megane' 'a3' 'lupo' 'r19'\n",
      " 'zafira' 'caddy' 'mondeo' 'cordoba' 'colt' 'impreza' 'vectra' 'berlingo'\n",
      " 'tiguan' 'i_reihe' 'sharan' '6_reihe' 'panda' 'up' 'seicento' 'ceed'\n",
      " 'kangoo' '5_reihe' 'yeti' 'octavia' 'mii' 'rx_reihe' '6er' 'modus' 'fox'\n",
      " 'matiz' 'beetle' 'rio' 'touareg' 'logan' 'spider' 'cuore' 's_max' 'a2'\n",
      " 'galaxy' 'c3' 'viano' 's_klasse' '1_reihe' 'avensis' 'roomster' 'sl'\n",
      " 'kaefer' 'santa' 'cooper' 'leon' '4_reihe' 'a5' '500' 'laguna'\n",
      " 'ptcruiser' 'clk' 'primera' 'espace' 'x_reihe' 'exeo' '159' 'transit'\n",
      " 'juke' 'qashqai' 'carisma' 'accord' 'corolla' 'lanos' 'phaeton' 'verso'\n",
      " 'swift' 'rav' 'picanto' 'boxster' 'stilo' 'alhambra' 'mx_reihe'\n",
      " 'roadster' 'ypsilon' 'galant' 'justy' '90' 'sirion' 'crossfire' 'agila'\n",
      " 'duster' 'v50' 'c_reihe' 'v_klasse' 'm_klasse' 'yaris' 'c5' 'aygo' 'cc'\n",
      " 'carnival' '911' 'bora' 'forfour' 'm_reihe' '100' 'cl' 'tigra' '300c'\n",
      " 'cr_reihe' 'spark' 'kuga' 'x_type' 'ducato' 's_type' 'x_trail' 'toledo'\n",
      " 'altea' 'voyager' 'calibra' 'v70' 'bravo' 'antara' 'c1' 'citigo' 'jimny'\n",
      " 'cayenne' 'wrangler' 'lybra' 'q7' 'lancer' 'captiva' 'fusion' 'c2'\n",
      " 'discovery' 'freelander' 'sandero' 'note' '900' 'cherokee' 'clubman'\n",
      " 'samara' 'defender' '601' 'cx_reihe' 'legacy' 'pajero' 'auris' 'niva'\n",
      " 's60' 'nubira' 'vivaro' 'tucson' 'g_klasse' 'lodgy' 'superb' '850'\n",
      " 'range_rover' 'q3' 'serie_2' 'glk' 'charade' 'croma' 'outlander' 'doblo'\n",
      " 'musa' 'move' '9000' 'kalos' 'v60' '145' '200' 'b_max'\n",
      " 'range_rover_sport' 'aveo' 'terios' 'rangerover' 'q5'\n",
      " 'range_rover_evoque' 'materia' 'delta' 'gl' 'kalina' 'elefantino' 'i3'\n",
      " 'amarok' 'kappa' 'serie_3' 'serie_1']\n",
      "\n",
      "Уникальные элементы столбца Kilometer\n",
      "[150000 125000  90000  40000  30000  70000 100000  60000   5000  20000\n",
      "  80000  50000  10000]\n",
      "\n",
      "Уникальные элементы столбца RegistrationMonth\n",
      "[ 0  8  6  7 10 12 11  2  3  1  4  5  9]\n",
      "\n",
      "Уникальные элементы столбца FuelType\n",
      "['petrol' 'gasoline' 'other' 'lpg' 'hybrid' 'cng' 'electric']\n",
      "\n",
      "Уникальные элементы столбца Brand\n",
      "['volkswagen' 'jeep' 'skoda' 'bmw' 'peugeot' 'ford' 'mazda' 'nissan'\n",
      " 'renault' 'mercedes_benz' 'opel' 'seat' 'citroen' 'honda' 'fiat' 'mini'\n",
      " 'smart' 'hyundai' 'audi' 'alfa_romeo' 'subaru' 'volvo' 'mitsubishi' 'kia'\n",
      " 'suzuki' 'lancia' 'toyota' 'chevrolet' 'dacia' 'daihatsu' 'chrysler'\n",
      " 'jaguar' 'daewoo' 'porsche' 'rover' 'saab' 'land_rover' 'trabant' 'lada']\n",
      "\n",
      "Уникальные элементы столбца Repaired\n",
      "['unknown' 'no' 'yes']\n",
      "\n",
      "Уникальные элементы столбца DateCreated\n",
      "['2016-03-24 00:00:00' '2016-03-14 00:00:00' '2016-03-17 00:00:00'\n",
      " '2016-03-31 00:00:00' '2016-04-04 00:00:00' '2016-04-01 00:00:00'\n",
      " '2016-03-21 00:00:00' '2016-03-26 00:00:00' '2016-04-07 00:00:00'\n",
      " '2016-03-15 00:00:00' '2016-03-20 00:00:00' '2016-03-23 00:00:00'\n",
      " '2016-03-27 00:00:00' '2016-03-12 00:00:00' '2016-03-13 00:00:00'\n",
      " '2016-03-18 00:00:00' '2016-03-10 00:00:00' '2016-03-07 00:00:00'\n",
      " '2016-03-09 00:00:00' '2016-03-08 00:00:00' '2016-04-03 00:00:00'\n",
      " '2016-03-29 00:00:00' '2016-03-25 00:00:00' '2016-03-11 00:00:00'\n",
      " '2016-03-30 00:00:00' '2016-03-22 00:00:00' '2016-03-28 00:00:00'\n",
      " '2016-02-09 00:00:00' '2016-03-05 00:00:00' '2016-04-02 00:00:00'\n",
      " '2016-03-16 00:00:00' '2016-03-19 00:00:00' '2016-04-05 00:00:00'\n",
      " '2016-03-06 00:00:00' '2016-03-03 00:00:00' '2016-03-01 00:00:00'\n",
      " '2016-03-04 00:00:00' '2016-04-06 00:00:00' '2016-02-15 00:00:00'\n",
      " '2016-02-24 00:00:00' '2016-02-27 00:00:00' '2015-03-20 00:00:00'\n",
      " '2016-02-28 00:00:00' '2016-01-27 00:00:00' '2016-02-20 00:00:00'\n",
      " '2016-02-29 00:00:00' '2016-02-10 00:00:00' '2016-02-23 00:00:00'\n",
      " '2016-02-21 00:00:00' '2015-11-02 00:00:00' '2016-02-19 00:00:00'\n",
      " '2016-02-26 00:00:00' '2016-02-11 00:00:00' '2016-01-10 00:00:00'\n",
      " '2016-02-06 00:00:00' '2016-02-18 00:00:00' '2016-01-29 00:00:00'\n",
      " '2016-03-02 00:00:00' '2015-12-06 00:00:00' '2016-01-24 00:00:00'\n",
      " '2016-01-30 00:00:00' '2016-02-02 00:00:00' '2016-02-12 00:00:00'\n",
      " '2016-02-16 00:00:00' '2016-02-13 00:00:00' '2016-02-05 00:00:00'\n",
      " '2016-02-22 00:00:00' '2015-11-17 00:00:00' '2016-02-07 00:00:00'\n",
      " '2016-01-23 00:00:00' '2016-02-25 00:00:00' '2016-02-14 00:00:00'\n",
      " '2016-01-02 00:00:00' '2015-09-04 00:00:00' '2015-11-12 00:00:00'\n",
      " '2015-12-27 00:00:00' '2016-02-17 00:00:00' '2015-11-24 00:00:00'\n",
      " '2016-01-20 00:00:00' '2016-02-03 00:00:00' '2015-12-05 00:00:00'\n",
      " '2015-08-07 00:00:00' '2016-01-28 00:00:00' '2016-01-31 00:00:00'\n",
      " '2016-02-08 00:00:00' '2016-01-07 00:00:00' '2016-01-22 00:00:00'\n",
      " '2016-01-18 00:00:00' '2016-01-08 00:00:00' '2016-01-13 00:00:00'\n",
      " '2016-01-17 00:00:00' '2016-01-15 00:00:00' '2015-11-08 00:00:00'\n",
      " '2016-01-26 00:00:00' '2016-02-04 00:00:00' '2016-01-25 00:00:00'\n",
      " '2016-01-16 00:00:00' '2015-08-10 00:00:00' '2016-01-19 00:00:00'\n",
      " '2015-12-30 00:00:00' '2016-02-01 00:00:00' '2015-12-17 00:00:00'\n",
      " '2015-11-10 00:00:00' '2015-11-23 00:00:00' '2016-01-06 00:00:00'\n",
      " '2015-09-09 00:00:00']\n",
      "\n",
      "Уникальные элементы столбца NumberOfPictures\n",
      "[0]\n",
      "\n",
      "Уникальные элементы столбца PostalCode\n",
      "[70435 90480 91074 ... 67159 24363 31096]\n",
      "\n",
      "Уникальные элементы столбца LastSeen\n",
      "['2016-04-07 03:16:57' '2016-04-05 12:47:46' '2016-03-17 17:40:17' ...\n",
      " '2016-03-19 20:44:43' '2016-03-29 10:17:23' '2016-03-21 10:42:49']\n",
      "\n"
     ]
    }
   ],
   "source": [
    "unique_columns(data)"
   ]
  },
  {
   "cell_type": "markdown",
   "metadata": {},
   "source": [
    "Сразу бросаются в глаза следующие вещи:\n",
    "- в датасете есть автомобили из прошлого и будущего (годы регистрации <1900 и >2023)\n",
    "- мощность не всегда соответствует действительности\n",
    "- в 'RegistrationMonth' есть загадочный нулевой месяц\n"
   ]
  },
  {
   "cell_type": "markdown",
   "metadata": {},
   "source": [
    "Рассмотрим каждый момент подробнее. \\\n",
    "Начнём со столбцов \"год регистрации\" и \"дата скачивания анкеты из базы\". \n",
    "Преобразуемvтип последнего в 'datetime64[ns]'."
   ]
  },
  {
   "cell_type": "code",
   "execution_count": 16,
   "metadata": {},
   "outputs": [],
   "source": [
    "data['DateCrawled'] = pd.to_datetime(data['DateCrawled'])"
   ]
  },
  {
   "cell_type": "code",
   "execution_count": 17,
   "metadata": {},
   "outputs": [
    {
     "data": {
      "text/plain": [
       "296518   2016-03-05 14:06:22\n",
       "198481   2016-03-05 14:06:23\n",
       "292298   2016-03-05 14:06:24\n",
       "159128   2016-03-05 14:06:24\n",
       "198501   2016-03-05 14:06:25\n",
       "                 ...        \n",
       "183756   2016-04-07 14:36:53\n",
       "48396    2016-04-07 14:36:54\n",
       "270909   2016-04-07 14:36:55\n",
       "305679   2016-04-07 14:36:56\n",
       "81638    2016-04-07 14:36:58\n",
       "Name: DateCrawled, Length: 318958, dtype: datetime64[ns]"
      ]
     },
     "execution_count": 17,
     "metadata": {},
     "output_type": "execute_result"
    }
   ],
   "source": [
    "data['DateCrawled'].sort_values()"
   ]
  },
  {
   "cell_type": "markdown",
   "metadata": {},
   "source": [
    "Отсортировав даты, мы видим, что все анкеты были скачаны из базы с марта по апрель 2016 года. Это означает, что, если у автомобиля год и месяц регистрации позже этого периода, то это явно некорректные данные. Проверим, есть ли такие анкеты."
   ]
  },
  {
   "cell_type": "code",
   "execution_count": 18,
   "metadata": {},
   "outputs": [
    {
     "data": {
      "text/plain": [
       "14765"
      ]
     },
     "execution_count": 18,
     "metadata": {},
     "output_type": "execute_result"
    }
   ],
   "source": [
    "data.query('RegistrationYear > 2016 | (RegistrationYear == 2016 & RegistrationMonth > 4)').shape[0]"
   ]
  },
  {
   "cell_type": "markdown",
   "metadata": {},
   "source": [
    "Вот они и попались! Строк с ложным годом регистрации много, но это точно недопустимая информация. Рассмотрим нижнюю границу допустимых дат и удалим выбросы. "
   ]
  },
  {
   "cell_type": "code",
   "execution_count": 22,
   "metadata": {},
   "outputs": [
    {
     "data": {
      "image/png": "[encoded data removed]",
      "text/plain": [
       "<Figure size 640x480 with 1 Axes>"
      ]
     },
     "metadata": {},
     "output_type": "display_data"
    }
   ],
   "source": [
    "data['RegistrationYear'].hist(range=(1950, 2020), bins=20, legend=True);"
   ]
  },
  {
   "cell_type": "markdown",
   "metadata": {},
   "source": [
    "Если рассмотреть различные диаграммы, то будет видно, что большая часть автомобилей относится к 1990-2020 годам. Но по содержанию уникальных элементов мы знаем о наличии выбросов. Обозначим допустимые временные границы для даты регистрации автомобиля, чтобы не возникло никакой путаницы."
   ]
  },
  {
   "cell_type": "code",
   "execution_count": 23,
   "metadata": {},
   "outputs": [
    {
     "data": {
      "text/plain": [
       "0"
      ]
     },
     "execution_count": 23,
     "metadata": {},
     "output_type": "execute_result"
    }
   ],
   "source": [
    "data.query('RegistrationYear < 1900 | RegistrationYear > 2016 | (RegistrationYear == 2016 & RegistrationMonth > 4)').shape[0]"
   ]
  },
  {
   "cell_type": "code",
   "execution_count": 24,
   "metadata": {},
   "outputs": [],
   "source": [
    "data.query('RegistrationYear > 1900 & (RegistrationYear < 2016 | (RegistrationYear == 2016 & RegistrationMonth <= 4))', \n",
    "           inplace=True)\n",
    "data.reset_index(drop=True, inplace=True) # восстановили индексы"
   ]
  },
  {
   "cell_type": "markdown",
   "metadata": {},
   "source": [
    "Перейдём к стобцу мощностей. \\\n",
    "Немного покопавшись в интернете, можно выяснить, что у самых маломощных мини-автомобилей вполне может быть двигатель всего в несколько л.с. (а имеено от 4-х). Для высоких значений стоит иметь ввиду, что на момент 2018 года самым мощным двигателем мреди авто обладал спорткар 'Hennessey Venom F5' (1600 л.с.). Значения в >100000 л.с. характерны уже для корабельных двигателей, что в нашем случае скорее ошибка, чем правда.\n"
   ]
  },
  {
   "cell_type": "code",
   "execution_count": 25,
   "metadata": {
    "scrolled": true
   },
   "outputs": [
    {
     "data": {
      "text/plain": [
       "21013"
      ]
     },
     "execution_count": 25,
     "metadata": {},
     "output_type": "execute_result"
    }
   ],
   "source": [
    "bad_power = data.query('Power < 4 | Power > 1600')\n",
    "bad_power.shape[0]"
   ]
  },
  {
   "cell_type": "markdown",
   "metadata": {},
   "source": [
    "Такого точно никто не ожидал. У ~24 тыс. строчек некорректно указана мощность двигателя. "
   ]
  },
  {
   "cell_type": "code",
   "execution_count": 26,
   "metadata": {},
   "outputs": [
    {
     "data": {
      "text/plain": [
       "Power\n",
       "0        20855\n",
       "1           18\n",
       "2            5\n",
       "1800         5\n",
       "1700         3\n",
       "         ...  \n",
       "1910         1\n",
       "1703         1\n",
       "11635        1\n",
       "11509        1\n",
       "3            1\n",
       "Name: count, Length: 123, dtype: int64"
      ]
     },
     "execution_count": 26,
     "metadata": {},
     "output_type": "execute_result"
    }
   ],
   "source": [
    "bad_power['Power'].value_counts()"
   ]
  },
  {
   "cell_type": "markdown",
   "metadata": {},
   "source": [
    "Почти у всех них нулевая мощность. Это явно какая-то массовая ошибка. Попробуем восстановить эту информацию по медианной мощности у таких же моделей машин. \\\n",
    "Для этого заменим неправильные значения на пустые и заполним их методом 'fillna'."
   ]
  },
  {
   "cell_type": "code",
   "execution_count": 27,
   "metadata": {},
   "outputs": [],
   "source": [
    "data.loc[(data['Power'] > 1600) | (data['Power'] < 4), 'Power'] = None\n",
    "data['Power'] = data['Power'].fillna(data.groupby('Model')['Power'].transform('median'))"
   ]
  },
  {
   "cell_type": "markdown",
   "metadata": {},
   "source": [
    "Проверим результат:"
   ]
  },
  {
   "cell_type": "code",
   "execution_count": 28,
   "metadata": {
    "scrolled": true
   },
   "outputs": [
    {
     "name": "stdout",
     "output_type": "stream",
     "text": [
      "Уникальные элементы:\n",
      " [ 101.   163.    75.    69.   102.   109.    50.   125.   105.   140.\n",
      "  115.   131.   190.   136.   160.   231.   118.   193.    99.    60.\n",
      "  113.   218.   122.   129.    70.   306.    95.    61.   177.   170.\n",
      "   55.   143.   155.   232.   150.   156.    80.    82.    90.   185.\n",
      "   87.   180.    86.    84.   224.   235.   200.   178.   265.    77.\n",
      "  110.   144.   120.    54.   286.   116.   184.   126.   204.    88.\n",
      "  194.    64.   305.   197.   179.   250.   245.   313.    45.   165.\n",
      "   98.    41.   130.   114.   211.    56.   201.   213.    58.   107.\n",
      "  174.   100.   220.    73.   192.    66.    74.    52.   147.   310.\n",
      "   71.    97.    65.   239.    68.   203.   300.   103.    85.   258.\n",
      "  320.    63.    81.   148.    44.    83.   145.   280.   260.   104.\n",
      "  188.   333.   117.   141.   132.   234.   158.    39.    92.    51.\n",
      "  135.    59.   230.    53.   209.    43.   146.    67.   106.   166.\n",
      "  276.   344.    72.   237.   111.   299.   326.   279.   191.    23.\n",
      "  138.   175.    96.   226.   301.   334.   133.   128.   124.    33.\n",
      "  219.   241.   167.   182.   196.   238.  1398.   228.    48.   272.\n",
      "  139.   240.   186.    79.   256.   243.   375.   252.   396.   340.\n",
      "  121.   233.   187.   289.   222.   198.   284.    37.   450.   112.\n",
      "  387.   152.   347.   172.    57.   137.    94.   212.   476.   314.\n",
      "   30.    47.   173.   290.   207.   205.   171.    78.    91.    89.\n",
      "  349.    40.   108.    76.   953.    93.   142.   500.   343.   199.\n",
      "  164.   176.    16.   367.   208.   210.    46.   435.  1001.   225.\n",
      "  127.    26.   161.   603.   307.   354.    35.   206.   771.   355.\n",
      "  273.   223.   255.   151.   123.   154.   149.   268.   620.   400.\n",
      "  275.    34.   242.   162.   329.   285.   134.   420.   247.   168.\n",
      "  215.   360.    18.   330.    62.   325.   214.   183.   254.    15.\n",
      "  321.   315.   952.   169.   328.   600.   181.   119.   426.   379.\n",
      "  999.   264.    22.   157.    42.   195.   309.   507.   381.   271.\n",
      "  440.   401.   249.   189.  1111.    21.  1240.   521.   270.   292.\n",
      "  515.   303.    29.    38.    14.   216.   610.   504.   267.   331.\n",
      "  363.   261.   253.   696.   376.   227.   311.    27.   217.   350.\n",
      "   20.    11.  1056.    25.   394.    12.   298.   296.    49.   147.5\n",
      "    4.   294.   246.     5.    17.   368.   221.  1367.   259.   606.\n",
      "   24.  1597.   266.   374.     9.   405.    13.   601.     8.   411.\n",
      "  900.     7.   159.   541.   287.    19.  1090.   457.   236.   282.\n",
      "  388.   385.  1000.   335.  1360.   202.  1062.    10.   750.  1024.\n",
      "  269.   460.   316.  1399.   278.   210.5  380.   257.   449.   295.\n",
      "  153.   288.   520.   560.   281.  1500.   386.    32.  1202.   430.\n",
      " 1436.  1405.   671.   274.  1288.  1055.  1115.   277.  1105.   341.\n",
      " 1223.   392.   338.   445.   370.   517.     6.   431.  1164.   371.\n",
      " 1501.   428.    36.   304.   390.   348.   579.   580.   408.    31.\n",
      "  358.  1403.   489.   262.   585.   960.   353.   490.   283.   352.\n",
      "  550.  1312.   950.  1600.   251.   850.   337.   700.   487.   519.\n",
      "  751.   612.  1506.  1598.  1363.   584.   322.  1054.   382.  1339.\n",
      "  318.   510.   525.    28.  1151.   685.   317.   703.   514.   332.\n",
      "  324.   530.   425.   308.   146.5  475.   903.   640.   362.   248.\n",
      "  651.   505.  1521.   351.   398.   599.   409.  1230.   871.   909.\n",
      " 1595.   776.  1400.  1199.   459.   357.  1162.   327.   339.   361.\n",
      " 1011.   454.  1300.   604.   336.   416.   678.  1021.  1401.  1250.\n",
      "    nan 1158.   902.  1275.   572.   244.   399.  1016.   743.  1221.\n",
      "  345.  1362.   544.   645.   907.   702.  1003.  1432.  1017.   540.\n",
      " 1433.  1502.  1239.  1390.  1160.   229.  1149.   754.   365.   356.\n",
      "  364.  1299.   293.  1079.   998.  1100.   346.   508.   551.  1005.\n",
      " 1416.  1012.   485.  1503.   421.   377.  1004.  1548.  1241.   650. ]\n",
      "\n",
      "Количество пустых элементов: 0\n"
     ]
    },
    {
     "data": {
      "text/plain": [
       "dtype('float64')"
      ]
     },
     "execution_count": 28,
     "metadata": {},
     "output_type": "execute_result"
    }
   ],
   "source": [
    "print('Уникальные элементы:\\n', data['Power'].unique())\n",
    "data.dropna(subset=['Power'], inplace=True)\n",
    "print('\\nКоличество пустых элементов:', data['Power'].isna().sum())\n",
    "data['Power'].dtype"
   ]
  },
  {
   "cell_type": "markdown",
   "metadata": {},
   "source": [
    "Исправим тип c float на int."
   ]
  },
  {
   "cell_type": "code",
   "execution_count": 29,
   "metadata": {},
   "outputs": [],
   "source": [
    "data['Power'] = data['Power'].astype('int')"
   ]
  },
  {
   "cell_type": "markdown",
   "metadata": {},
   "source": [
    "Столбец 'Price'."
   ]
  },
  {
   "cell_type": "code",
   "execution_count": 30,
   "metadata": {},
   "outputs": [
    {
     "data": {
      "text/plain": [
       "Price\n",
       "0        6506\n",
       "500      4609\n",
       "1500     4491\n",
       "1200     3838\n",
       "2500     3724\n",
       "         ... \n",
       "8189        1\n",
       "19295       1\n",
       "3038        1\n",
       "15232       1\n",
       "14989       1\n",
       "Name: count, Length: 3593, dtype: int64"
      ]
     },
     "execution_count": 30,
     "metadata": {},
     "output_type": "execute_result"
    }
   ],
   "source": [
    "data['Price'].value_counts()"
   ]
  },
  {
   "cell_type": "markdown",
   "metadata": {},
   "source": [
    "Мы видим, что 7 тысяч значений целевого признака - нулевые. Это может негативно сказаться на дальнейших прогнозах моделей, но и восстановить цену по среднему для данной модели тоже будет неправильно. Такие анкеты придётся удалить."
   ]
  },
  {
   "cell_type": "code",
   "execution_count": 31,
   "metadata": {},
   "outputs": [],
   "source": [
    "data.query('Price != 0', inplace=True)"
   ]
  },
  {
   "cell_type": "markdown",
   "metadata": {},
   "source": [
    "Теперь разберемся со столбцом 'RegistrationMonth'."
   ]
  },
  {
   "cell_type": "code",
   "execution_count": 32,
   "metadata": {},
   "outputs": [
    {
     "data": {
      "text/plain": [
       "RegistrationMonth\n",
       "3     30900\n",
       "6     27194\n",
       "4     25972\n",
       "5     25312\n",
       "7     23646\n",
       "10    22847\n",
       "12    21178\n",
       "9     20987\n",
       "11    20946\n",
       "1     20392\n",
       "0     19726\n",
       "8     19618\n",
       "2     18962\n",
       "Name: count, dtype: int64"
      ]
     },
     "execution_count": 32,
     "metadata": {},
     "output_type": "execute_result"
    }
   ],
   "source": [
    "data['RegistrationMonth'].value_counts()"
   ]
  },
  {
   "cell_type": "code",
   "execution_count": 33,
   "metadata": {},
   "outputs": [
    {
     "name": "stdout",
     "output_type": "stream",
     "text": [
      "Доля странных месяцев регистрации в процентах: 6.63%\n"
     ]
    }
   ],
   "source": [
    "print('Доля странных месяцев регистрации в процентах: {:.2%}'\n",
    "      .format(data[data['RegistrationMonth'] == 0].shape[0] / data.shape[0]))"
   ]
  },
  {
   "cell_type": "markdown",
   "metadata": {},
   "source": [
    "Отнести их к отдельной категории не получится, поэтому у нас есть 2 варианта: \n",
    "- распределить их равномерно по всем остальным группам \n",
    "- удалить \n",
    "\n",
    "Первый способ может повлиять на итоговый результат, поэтому нам ничего не остаётся, кроме как убрать эти анкеты из рассмотрения. \\\n",
    "Аномалии рассмотрены. Выделим признаки, которые понадобятся для построения моделей."
   ]
  },
  {
   "cell_type": "markdown",
   "metadata": {},
   "source": [
    "#### Выделение информативных признаков"
   ]
  },
  {
   "cell_type": "code",
   "execution_count": 34,
   "metadata": {},
   "outputs": [
    {
     "data": {
      "text/plain": [
       "Index(['DateCrawled', 'Price', 'VehicleType', 'RegistrationYear', 'Gearbox',\n",
       "       'Power', 'Model', 'Kilometer', 'RegistrationMonth', 'FuelType', 'Brand',\n",
       "       'Repaired', 'DateCreated', 'NumberOfPictures', 'PostalCode',\n",
       "       'LastSeen'],\n",
       "      dtype='object')"
      ]
     },
     "execution_count": 34,
     "metadata": {},
     "output_type": "execute_result"
    }
   ],
   "source": [
    "data.columns"
   ]
  },
  {
   "cell_type": "markdown",
   "metadata": {},
   "source": [
    "Для предсказания цены, безусловно, важны **технические характеристики** автомобиля: мощность, тип коробки передач и т.д. \\\n",
    "Также может понадобится **информация о его прошлом**: дата регистрации, километраж и т.д. \\\n",
    "Исходя из этого удалим ненужные признаки."
   ]
  },
  {
   "cell_type": "code",
   "execution_count": 35,
   "metadata": {},
   "outputs": [],
   "source": [
    "data = data.drop(['DateCrawled', 'DateCreated', 'NumberOfPictures', 'PostalCode', 'LastSeen'], axis=1)"
   ]
  },
  {
   "cell_type": "code",
   "execution_count": 36,
   "metadata": {},
   "outputs": [],
   "source": [
    "data.reset_index(drop=True, inplace=True) # восстановили индексы"
   ]
  },
  {
   "cell_type": "code",
   "execution_count": 37,
   "metadata": {},
   "outputs": [
    {
     "name": "stdout",
     "output_type": "stream",
     "text": [
      "<class 'pandas.core.frame.DataFrame'>\n",
      "RangeIndex: 297680 entries, 0 to 297679\n",
      "Data columns (total 11 columns):\n",
      " #   Column             Non-Null Count   Dtype \n",
      "---  ------             --------------   ----- \n",
      " 0   Price              297680 non-null  int64 \n",
      " 1   VehicleType        297680 non-null  object\n",
      " 2   RegistrationYear   297680 non-null  int64 \n",
      " 3   Gearbox            297680 non-null  object\n",
      " 4   Power              297680 non-null  int32 \n",
      " 5   Model              297680 non-null  object\n",
      " 6   Kilometer          297680 non-null  int64 \n",
      " 7   RegistrationMonth  297680 non-null  int64 \n",
      " 8   FuelType           297680 non-null  object\n",
      " 9   Brand              297680 non-null  object\n",
      " 10  Repaired           297680 non-null  object\n",
      "dtypes: int32(1), int64(4), object(6)\n",
      "memory usage: 23.8+ MB\n"
     ]
    }
   ],
   "source": [
    "data.info()"
   ]
  },
  {
   "cell_type": "markdown",
   "metadata": {},
   "source": [
    "### Гистограммы и корреляции"
   ]
  },
  {
   "cell_type": "markdown",
   "metadata": {},
   "source": [
    "Выведем гистограммы для всех числовых столбцов."
   ]
  },
  {
   "cell_type": "code",
   "execution_count": 43,
   "metadata": {},
   "outputs": [
    {
     "data": {
      "image/png": "[encoded data removed]",
      "text/plain": [
       "<Figure size 1500x1000 with 6 Axes>"
      ]
     },
     "metadata": {},
     "output_type": "display_data"
    }
   ],
   "source": [
    "data.hist(figsize=(15, 10));"
   ]
  },
  {
   "cell_type": "markdown",
   "metadata": {},
   "source": [
    "Проверим зависимости:"
   ]
  },
  {
   "cell_type": "code",
   "execution_count": 47,
   "metadata": {},
   "outputs": [
    {
     "data": {
      "text/html": [
       "<style type=\"text/css\">\n",
       "#T_74264_row0_col0, #T_74264_row1_col1, #T_74264_row2_col2, #T_74264_row3_col3, #T_74264_row4_col4 {\n",
       "  background-color: #ff0000;\n",
       "  color: #f1f1f1;\n",
       "}\n",
       "#T_74264_row0_col1 {\n",
       "  background-color: #ffbcbc;\n",
       "  color: #000000;\n",
       "}\n",
       "#T_74264_row0_col2 {\n",
       "  background-color: #dedeff;\n",
       "  color: #000000;\n",
       "}\n",
       "#T_74264_row0_col3, #T_74264_row3_col0, #T_74264_row3_col1, #T_74264_row3_col4, #T_74264_row4_col2 {\n",
       "  background-color: #0000ff;\n",
       "  color: #f1f1f1;\n",
       "}\n",
       "#T_74264_row0_col4 {\n",
       "  background-color: #2e2eff;\n",
       "  color: #f1f1f1;\n",
       "}\n",
       "#T_74264_row1_col0 {\n",
       "  background-color: #ffb0b0;\n",
       "  color: #000000;\n",
       "}\n",
       "#T_74264_row1_col2 {\n",
       "  background-color: #3030ff;\n",
       "  color: #f1f1f1;\n",
       "}\n",
       "#T_74264_row1_col3, #T_74264_row2_col4, #T_74264_row3_col2 {\n",
       "  background-color: #1c1cff;\n",
       "  color: #f1f1f1;\n",
       "}\n",
       "#T_74264_row1_col4 {\n",
       "  background-color: #1a1aff;\n",
       "  color: #f1f1f1;\n",
       "}\n",
       "#T_74264_row2_col0 {\n",
       "  background-color: #ffc6c6;\n",
       "  color: #000000;\n",
       "}\n",
       "#T_74264_row2_col1, #T_74264_row4_col0 {\n",
       "  background-color: #aaaaff;\n",
       "  color: #000000;\n",
       "}\n",
       "#T_74264_row2_col3 {\n",
       "  background-color: #b0b0ff;\n",
       "  color: #000000;\n",
       "}\n",
       "#T_74264_row4_col1 {\n",
       "  background-color: #8686ff;\n",
       "  color: #f1f1f1;\n",
       "}\n",
       "#T_74264_row4_col3 {\n",
       "  background-color: #8888ff;\n",
       "  color: #f1f1f1;\n",
       "}\n",
       "</style>\n",
       "<table id=\"T_74264\">\n",
       "  <thead>\n",
       "    <tr>\n",
       "      <th class=\"blank level0\" >&nbsp;</th>\n",
       "      <th id=\"T_74264_level0_col0\" class=\"col_heading level0 col0\" >Price</th>\n",
       "      <th id=\"T_74264_level0_col1\" class=\"col_heading level0 col1\" >RegistrationYear</th>\n",
       "      <th id=\"T_74264_level0_col2\" class=\"col_heading level0 col2\" >Power</th>\n",
       "      <th id=\"T_74264_level0_col3\" class=\"col_heading level0 col3\" >Kilometer</th>\n",
       "      <th id=\"T_74264_level0_col4\" class=\"col_heading level0 col4\" >RegistrationMonth</th>\n",
       "    </tr>\n",
       "  </thead>\n",
       "  <tbody>\n",
       "    <tr>\n",
       "      <th id=\"T_74264_level0_row0\" class=\"row_heading level0 row0\" >Price</th>\n",
       "      <td id=\"T_74264_row0_col0\" class=\"data row0 col0\" >1.000000</td>\n",
       "      <td id=\"T_74264_row0_col1\" class=\"data row0 col1\" >0.518944</td>\n",
       "      <td id=\"T_74264_row0_col2\" class=\"data row0 col2\" >0.459628</td>\n",
       "      <td id=\"T_74264_row0_col3\" class=\"data row0 col3\" >-0.384525</td>\n",
       "      <td id=\"T_74264_row0_col4\" class=\"data row0 col4\" >0.077315</td>\n",
       "    </tr>\n",
       "    <tr>\n",
       "      <th id=\"T_74264_level0_row1\" class=\"row_heading level0 row1\" >RegistrationYear</th>\n",
       "      <td id=\"T_74264_row1_col0\" class=\"data row1 col0\" >0.518944</td>\n",
       "      <td id=\"T_74264_row1_col1\" class=\"data row1 col1\" >1.000000</td>\n",
       "      <td id=\"T_74264_row1_col2\" class=\"data row1 col2\" >0.133357</td>\n",
       "      <td id=\"T_74264_row1_col3\" class=\"data row1 col3\" >-0.304515</td>\n",
       "      <td id=\"T_74264_row1_col4\" class=\"data row1 col4\" >0.037446</td>\n",
       "    </tr>\n",
       "    <tr>\n",
       "      <th id=\"T_74264_level0_row2\" class=\"row_heading level0 row2\" >Power</th>\n",
       "      <td id=\"T_74264_row2_col0\" class=\"data row2 col0\" >0.459628</td>\n",
       "      <td id=\"T_74264_row2_col1\" class=\"data row2 col1\" >0.133357</td>\n",
       "      <td id=\"T_74264_row2_col2\" class=\"data row2 col2\" >1.000000</td>\n",
       "      <td id=\"T_74264_row2_col3\" class=\"data row2 col3\" >0.093349</td>\n",
       "      <td id=\"T_74264_row2_col4\" class=\"data row2 col4\" >0.040763</td>\n",
       "    </tr>\n",
       "    <tr>\n",
       "      <th id=\"T_74264_level0_row3\" class=\"row_heading level0 row3\" >Kilometer</th>\n",
       "      <td id=\"T_74264_row3_col0\" class=\"data row3 col0\" >-0.384525</td>\n",
       "      <td id=\"T_74264_row3_col1\" class=\"data row3 col1\" >-0.304515</td>\n",
       "      <td id=\"T_74264_row3_col2\" class=\"data row3 col2\" >0.093349</td>\n",
       "      <td id=\"T_74264_row3_col3\" class=\"data row3 col3\" >1.000000</td>\n",
       "      <td id=\"T_74264_row3_col4\" class=\"data row3 col4\" >-0.015366</td>\n",
       "    </tr>\n",
       "    <tr>\n",
       "      <th id=\"T_74264_level0_row4\" class=\"row_heading level0 row4\" >RegistrationMonth</th>\n",
       "      <td id=\"T_74264_row4_col0\" class=\"data row4 col0\" >0.077315</td>\n",
       "      <td id=\"T_74264_row4_col1\" class=\"data row4 col1\" >0.037446</td>\n",
       "      <td id=\"T_74264_row4_col2\" class=\"data row4 col2\" >0.040763</td>\n",
       "      <td id=\"T_74264_row4_col3\" class=\"data row4 col3\" >-0.015366</td>\n",
       "      <td id=\"T_74264_row4_col4\" class=\"data row4 col4\" >1.000000</td>\n",
       "    </tr>\n",
       "  </tbody>\n",
       "</table>\n"
      ],
      "text/plain": [
       "<pandas.io.formats.style.Styler at 0x25d162128d0>"
      ]
     },
     "execution_count": 47,
     "metadata": {},
     "output_type": "execute_result"
    }
   ],
   "source": [
    "data[['Price', 'RegistrationYear', 'Power', 'Kilometer', 'RegistrationMonth']].corr().style.background_gradient(cmap='bwr')"
   ]
  },
  {
   "cell_type": "markdown",
   "metadata": {},
   "source": [
    "Как видно из таблицы, очень большое влияние на цену имеют: год регистрации, мощность двигателя и километраж."
   ]
  },
  {
   "cell_type": "markdown",
   "metadata": {},
   "source": [
    "### Подготовка к обучению"
   ]
  },
  {
   "cell_type": "markdown",
   "metadata": {},
   "source": [
    "Теперь подготовим выборки для обучения моделей. \\\n",
    "Разделим данные на обучающую, валидационную и тестовую выборки (используем библиотеку fast_ml, чтобы удобно разбить данные)."
   ]
  },
  {
   "cell_type": "code",
   "execution_count": 48,
   "metadata": {},
   "outputs": [],
   "source": [
    "features_train, target_train, features_valid, \\\n",
    "target_valid, features_test, target_test =  train_valid_test_split(data, target='Price',\n",
    "                                                                   train_size=0.6, \n",
    "                                                                   valid_size=0.2, \n",
    "                                                                   test_size=0.2,\n",
    "                                                                   random_state=12345\n",
    "                                                                  )"
   ]
  },
  {
   "cell_type": "markdown",
   "metadata": {},
   "source": [
    "Проверим корректность разделения:"
   ]
  },
  {
   "cell_type": "code",
   "execution_count": 49,
   "metadata": {},
   "outputs": [
    {
     "name": "stdout",
     "output_type": "stream",
     "text": [
      "Размер обучающей выборки: 178608 или 60.0 %\n",
      "Размер валидационной выборки: 59536 или 20.0 %\n",
      "Размер тестовой выборки: 59536 или 20.0 %\n"
     ]
    }
   ],
   "source": [
    "print('Размер обучающей выборки:', len(features_train), 'или', len(features_train) / len(data) * 100, '%')\n",
    "print('Размер валидационной выборки:', len(features_valid), 'или',len(features_valid) / len(data) * 100, '%')\n",
    "print('Размер тестовой выборки:', len(features_test), 'или',len(features_test) / len(data) * 100, '%')"
   ]
  },
  {
   "cell_type": "markdown",
   "metadata": {},
   "source": [
    "Преобразуем категориальные признаки с помощью OneHotEncoder (так как OrdinalEncoder создаёт дополнительные зависимости в данных) и отмасштабируем их."
   ]
  },
  {
   "cell_type": "code",
   "execution_count": 50,
   "metadata": {},
   "outputs": [
    {
     "data": {
      "text/html": [
       "<div>\n",
       "<style scoped>\n",
       "    .dataframe tbody tr th:only-of-type {\n",
       "        vertical-align: middle;\n",
       "    }\n",
       "\n",
       "    .dataframe tbody tr th {\n",
       "        vertical-align: top;\n",
       "    }\n",
       "\n",
       "    .dataframe thead th {\n",
       "        text-align: right;\n",
       "    }\n",
       "</style>\n",
       "<table border=\"1\" class=\"dataframe\">\n",
       "  <thead>\n",
       "    <tr style=\"text-align: right;\">\n",
       "      <th></th>\n",
       "      <th>VehicleType</th>\n",
       "      <th>RegistrationYear</th>\n",
       "      <th>Gearbox</th>\n",
       "      <th>Power</th>\n",
       "      <th>Model</th>\n",
       "      <th>Kilometer</th>\n",
       "      <th>RegistrationMonth</th>\n",
       "      <th>FuelType</th>\n",
       "      <th>Brand</th>\n",
       "      <th>Repaired</th>\n",
       "    </tr>\n",
       "  </thead>\n",
       "  <tbody>\n",
       "    <tr>\n",
       "      <th>25736</th>\n",
       "      <td>sedan</td>\n",
       "      <td>1999</td>\n",
       "      <td>manual</td>\n",
       "      <td>170</td>\n",
       "      <td>3er</td>\n",
       "      <td>150000</td>\n",
       "      <td>4</td>\n",
       "      <td>petrol</td>\n",
       "      <td>bmw</td>\n",
       "      <td>yes</td>\n",
       "    </tr>\n",
       "    <tr>\n",
       "      <th>107928</th>\n",
       "      <td>other</td>\n",
       "      <td>2000</td>\n",
       "      <td>manual</td>\n",
       "      <td>116</td>\n",
       "      <td>other</td>\n",
       "      <td>150000</td>\n",
       "      <td>0</td>\n",
       "      <td>petrol</td>\n",
       "      <td>alfa_romeo</td>\n",
       "      <td>unknown</td>\n",
       "    </tr>\n",
       "    <tr>\n",
       "      <th>38997</th>\n",
       "      <td>small</td>\n",
       "      <td>1998</td>\n",
       "      <td>manual</td>\n",
       "      <td>75</td>\n",
       "      <td>polo</td>\n",
       "      <td>150000</td>\n",
       "      <td>12</td>\n",
       "      <td>petrol</td>\n",
       "      <td>volkswagen</td>\n",
       "      <td>yes</td>\n",
       "    </tr>\n",
       "  </tbody>\n",
       "</table>\n",
       "</div>"
      ],
      "text/plain": [
       "       VehicleType  RegistrationYear Gearbox  Power  Model  Kilometer  \\\n",
       "25736        sedan              1999  manual    170    3er     150000   \n",
       "107928       other              2000  manual    116  other     150000   \n",
       "38997        small              1998  manual     75   polo     150000   \n",
       "\n",
       "        RegistrationMonth FuelType       Brand Repaired  \n",
       "25736                   4   petrol         bmw      yes  \n",
       "107928                  0   petrol  alfa_romeo  unknown  \n",
       "38997                  12   petrol  volkswagen      yes  "
      ]
     },
     "execution_count": 50,
     "metadata": {},
     "output_type": "execute_result"
    }
   ],
   "source": [
    "features_train.head(3)"
   ]
  },
  {
   "cell_type": "markdown",
   "metadata": {},
   "source": [
    "Выделим категориальные и количественные признаки:"
   ]
  },
  {
   "cell_type": "code",
   "execution_count": 51,
   "metadata": {},
   "outputs": [
    {
     "name": "stdout",
     "output_type": "stream",
     "text": [
      "['VehicleType', 'Gearbox', 'Model', 'FuelType', 'Brand', 'Repaired']\n",
      "['RegistrationYear', 'Power', 'Kilometer', 'RegistrationMonth']\n"
     ]
    }
   ],
   "source": [
    "cat_features = features_train.columns[features_train.dtypes == object].to_list()\n",
    "print(cat_features)\n",
    "\n",
    "num_features = features_train.columns[features_train.dtypes != object].to_list()\n",
    "print(num_features)"
   ]
  },
  {
   "cell_type": "markdown",
   "metadata": {},
   "source": [
    "Отмасштабируем столбцы 'num_features' и сразу закодируем столбцы 'cat_features'. Для этого мы можем использовать make_column_transformer следующим образом:"
   ]
  },
  {
   "cell_type": "code",
   "execution_count": 52,
   "metadata": {
    "scrolled": true
   },
   "outputs": [
    {
     "data": {
      "text/html": [
       "<style>#sk-container-id-1 {color: black;}#sk-container-id-1 pre{padding: 0;}#sk-container-id-1 div.sk-toggleable {background-color: white;}#sk-container-id-1 label.sk-toggleable__label {cursor: pointer;display: block;width: 100%;margin-bottom: 0;padding: 0.3em;box-sizing: border-box;text-align: center;}#sk-container-id-1 label.sk-toggleable__label-arrow:before {content: \"▸\";float: left;margin-right: 0.25em;color: #696969;}#sk-container-id-1 label.sk-toggleable__label-arrow:hover:before {color: black;}#sk-container-id-1 div.sk-estimator:hover label.sk-toggleable__label-arrow:before {color: black;}#sk-container-id-1 div.sk-toggleable__content {max-height: 0;max-width: 0;overflow: hidden;text-align: left;background-color: #f0f8ff;}#sk-container-id-1 div.sk-toggleable__content pre {margin: 0.2em;color: black;border-radius: 0.25em;background-color: #f0f8ff;}#sk-container-id-1 input.sk-toggleable__control:checked~div.sk-toggleable__content {max-height: 200px;max-width: 100%;overflow: auto;}#sk-container-id-1 input.sk-toggleable__control:checked~label.sk-toggleable__label-arrow:before {content: \"▾\";}#sk-container-id-1 div.sk-estimator input.sk-toggleable__control:checked~label.sk-toggleable__label {background-color: #d4ebff;}#sk-container-id-1 div.sk-label input.sk-toggleable__control:checked~label.sk-toggleable__label {background-color: #d4ebff;}#sk-container-id-1 input.sk-hidden--visually {border: 0;clip: rect(1px 1px 1px 1px);clip: rect(1px, 1px, 1px, 1px);height: 1px;margin: -1px;overflow: hidden;padding: 0;position: absolute;width: 1px;}#sk-container-id-1 div.sk-estimator {font-family: monospace;background-color: #f0f8ff;border: 1px dotted black;border-radius: 0.25em;box-sizing: border-box;margin-bottom: 0.5em;}#sk-container-id-1 div.sk-estimator:hover {background-color: #d4ebff;}#sk-container-id-1 div.sk-parallel-item::after {content: \"\";width: 100%;border-bottom: 1px solid gray;flex-grow: 1;}#sk-container-id-1 div.sk-label:hover label.sk-toggleable__label {background-color: #d4ebff;}#sk-container-id-1 div.sk-serial::before {content: \"\";position: absolute;border-left: 1px solid gray;box-sizing: border-box;top: 0;bottom: 0;left: 50%;z-index: 0;}#sk-container-id-1 div.sk-serial {display: flex;flex-direction: column;align-items: center;background-color: white;padding-right: 0.2em;padding-left: 0.2em;position: relative;}#sk-container-id-1 div.sk-item {position: relative;z-index: 1;}#sk-container-id-1 div.sk-parallel {display: flex;align-items: stretch;justify-content: center;background-color: white;position: relative;}#sk-container-id-1 div.sk-item::before, #sk-container-id-1 div.sk-parallel-item::before {content: \"\";position: absolute;border-left: 1px solid gray;box-sizing: border-box;top: 0;bottom: 0;left: 50%;z-index: -1;}#sk-container-id-1 div.sk-parallel-item {display: flex;flex-direction: column;z-index: 1;position: relative;background-color: white;}#sk-container-id-1 div.sk-parallel-item:first-child::after {align-self: flex-end;width: 50%;}#sk-container-id-1 div.sk-parallel-item:last-child::after {align-self: flex-start;width: 50%;}#sk-container-id-1 div.sk-parallel-item:only-child::after {width: 0;}#sk-container-id-1 div.sk-dashed-wrapped {border: 1px dashed gray;margin: 0 0.4em 0.5em 0.4em;box-sizing: border-box;padding-bottom: 0.4em;background-color: white;}#sk-container-id-1 div.sk-label label {font-family: monospace;font-weight: bold;display: inline-block;line-height: 1.2em;}#sk-container-id-1 div.sk-label-container {text-align: center;}#sk-container-id-1 div.sk-container {/* jupyter's `normalize.less` sets `[hidden] { display: none; }` but bootstrap.min.css set `[hidden] { display: none !important; }` so we also need the `!important` here to be able to override the default hidden behavior on the sphinx rendered scikit-learn.org. See: https://github.com/scikit-learn/scikit-learn/issues/21755 */display: inline-block !important;position: relative;}#sk-container-id-1 div.sk-text-repr-fallback {display: none;}</style><div id=\"sk-container-id-1\" class=\"sk-top-container\"><div class=\"sk-text-repr-fallback\"><pre>ColumnTransformer(remainder=&#x27;passthrough&#x27;,\n",
       "                  transformers=[(&#x27;standardscaler&#x27;, StandardScaler(),\n",
       "                                 [&#x27;RegistrationYear&#x27;, &#x27;Power&#x27;, &#x27;Kilometer&#x27;,\n",
       "                                  &#x27;RegistrationMonth&#x27;]),\n",
       "                                (&#x27;onehotencoder&#x27;,\n",
       "                                 OneHotEncoder(sparse_output=False),\n",
       "                                 [&#x27;VehicleType&#x27;, &#x27;Gearbox&#x27;, &#x27;Model&#x27;, &#x27;FuelType&#x27;,\n",
       "                                  &#x27;Brand&#x27;, &#x27;Repaired&#x27;])])</pre><b>In a Jupyter environment, please rerun this cell to show the HTML representation or trust the notebook. <br />On GitHub, the HTML representation is unable to render, please try loading this page with nbviewer.org.</b></div><div class=\"sk-container\" hidden><div class=\"sk-item sk-dashed-wrapped\"><div class=\"sk-label-container\"><div class=\"sk-label sk-toggleable\"><input class=\"sk-toggleable__control sk-hidden--visually\" id=\"sk-estimator-id-1\" type=\"checkbox\" ><label for=\"sk-estimator-id-1\" class=\"sk-toggleable__label sk-toggleable__label-arrow\">ColumnTransformer</label><div class=\"sk-toggleable__content\"><pre>ColumnTransformer(remainder=&#x27;passthrough&#x27;,\n",
       "                  transformers=[(&#x27;standardscaler&#x27;, StandardScaler(),\n",
       "                                 [&#x27;RegistrationYear&#x27;, &#x27;Power&#x27;, &#x27;Kilometer&#x27;,\n",
       "                                  &#x27;RegistrationMonth&#x27;]),\n",
       "                                (&#x27;onehotencoder&#x27;,\n",
       "                                 OneHotEncoder(sparse_output=False),\n",
       "                                 [&#x27;VehicleType&#x27;, &#x27;Gearbox&#x27;, &#x27;Model&#x27;, &#x27;FuelType&#x27;,\n",
       "                                  &#x27;Brand&#x27;, &#x27;Repaired&#x27;])])</pre></div></div></div><div class=\"sk-parallel\"><div class=\"sk-parallel-item\"><div class=\"sk-item\"><div class=\"sk-label-container\"><div class=\"sk-label sk-toggleable\"><input class=\"sk-toggleable__control sk-hidden--visually\" id=\"sk-estimator-id-2\" type=\"checkbox\" ><label for=\"sk-estimator-id-2\" class=\"sk-toggleable__label sk-toggleable__label-arrow\">standardscaler</label><div class=\"sk-toggleable__content\"><pre>[&#x27;RegistrationYear&#x27;, &#x27;Power&#x27;, &#x27;Kilometer&#x27;, &#x27;RegistrationMonth&#x27;]</pre></div></div></div><div class=\"sk-serial\"><div class=\"sk-item\"><div class=\"sk-estimator sk-toggleable\"><input class=\"sk-toggleable__control sk-hidden--visually\" id=\"sk-estimator-id-3\" type=\"checkbox\" ><label for=\"sk-estimator-id-3\" class=\"sk-toggleable__label sk-toggleable__label-arrow\">StandardScaler</label><div class=\"sk-toggleable__content\"><pre>StandardScaler()</pre></div></div></div></div></div></div><div class=\"sk-parallel-item\"><div class=\"sk-item\"><div class=\"sk-label-container\"><div class=\"sk-label sk-toggleable\"><input class=\"sk-toggleable__control sk-hidden--visually\" id=\"sk-estimator-id-4\" type=\"checkbox\" ><label for=\"sk-estimator-id-4\" class=\"sk-toggleable__label sk-toggleable__label-arrow\">onehotencoder</label><div class=\"sk-toggleable__content\"><pre>[&#x27;VehicleType&#x27;, &#x27;Gearbox&#x27;, &#x27;Model&#x27;, &#x27;FuelType&#x27;, &#x27;Brand&#x27;, &#x27;Repaired&#x27;]</pre></div></div></div><div class=\"sk-serial\"><div class=\"sk-item\"><div class=\"sk-estimator sk-toggleable\"><input class=\"sk-toggleable__control sk-hidden--visually\" id=\"sk-estimator-id-5\" type=\"checkbox\" ><label for=\"sk-estimator-id-5\" class=\"sk-toggleable__label sk-toggleable__label-arrow\">OneHotEncoder</label><div class=\"sk-toggleable__content\"><pre>OneHotEncoder(sparse_output=False)</pre></div></div></div></div></div></div><div class=\"sk-parallel-item\"><div class=\"sk-item\"><div class=\"sk-label-container\"><div class=\"sk-label sk-toggleable\"><input class=\"sk-toggleable__control sk-hidden--visually\" id=\"sk-estimator-id-6\" type=\"checkbox\" ><label for=\"sk-estimator-id-6\" class=\"sk-toggleable__label sk-toggleable__label-arrow\">remainder</label><div class=\"sk-toggleable__content\"><pre>[]</pre></div></div></div><div class=\"sk-serial\"><div class=\"sk-item\"><div class=\"sk-estimator sk-toggleable\"><input class=\"sk-toggleable__control sk-hidden--visually\" id=\"sk-estimator-id-7\" type=\"checkbox\" ><label for=\"sk-estimator-id-7\" class=\"sk-toggleable__label sk-toggleable__label-arrow\">passthrough</label><div class=\"sk-toggleable__content\"><pre>passthrough</pre></div></div></div></div></div></div></div></div></div></div>"
      ],
      "text/plain": [
       "ColumnTransformer(remainder='passthrough',\n",
       "                  transformers=[('standardscaler', StandardScaler(),\n",
       "                                 ['RegistrationYear', 'Power', 'Kilometer',\n",
       "                                  'RegistrationMonth']),\n",
       "                                ('onehotencoder',\n",
       "                                 OneHotEncoder(sparse_output=False),\n",
       "                                 ['VehicleType', 'Gearbox', 'Model', 'FuelType',\n",
       "                                  'Brand', 'Repaired'])])"
      ]
     },
     "execution_count": 52,
     "metadata": {},
     "output_type": "execute_result"
    }
   ],
   "source": [
    "preprocessor = make_column_transformer(\n",
    "    (StandardScaler(), num_features),\n",
    "    (OneHotEncoder(sparse_output=False), cat_features),\n",
    "    remainder='passthrough'\n",
    ")\n",
    "\n",
    "preprocessor.set_output(transform='pandas').fit(features_train)"
   ]
  },
  {
   "cell_type": "code",
   "execution_count": 53,
   "metadata": {},
   "outputs": [
    {
     "name": "stdout",
     "output_type": "stream",
     "text": [
      "Признаки с закодированными категориальными переменными:\n"
     ]
    },
    {
     "data": {
      "text/html": [
       "<div>\n",
       "<style scoped>\n",
       "    .dataframe tbody tr th:only-of-type {\n",
       "        vertical-align: middle;\n",
       "    }\n",
       "\n",
       "    .dataframe tbody tr th {\n",
       "        vertical-align: top;\n",
       "    }\n",
       "\n",
       "    .dataframe thead th {\n",
       "        text-align: right;\n",
       "    }\n",
       "</style>\n",
       "<table border=\"1\" class=\"dataframe\">\n",
       "  <thead>\n",
       "    <tr style=\"text-align: right;\">\n",
       "      <th></th>\n",
       "      <th>standardscaler__RegistrationYear</th>\n",
       "      <th>standardscaler__Power</th>\n",
       "      <th>standardscaler__Kilometer</th>\n",
       "      <th>standardscaler__RegistrationMonth</th>\n",
       "      <th>onehotencoder__VehicleType_bus</th>\n",
       "      <th>onehotencoder__VehicleType_convertible</th>\n",
       "      <th>onehotencoder__VehicleType_coupe</th>\n",
       "      <th>onehotencoder__VehicleType_other</th>\n",
       "      <th>onehotencoder__VehicleType_sedan</th>\n",
       "      <th>onehotencoder__VehicleType_small</th>\n",
       "      <th>...</th>\n",
       "      <th>onehotencoder__Brand_smart</th>\n",
       "      <th>onehotencoder__Brand_subaru</th>\n",
       "      <th>onehotencoder__Brand_suzuki</th>\n",
       "      <th>onehotencoder__Brand_toyota</th>\n",
       "      <th>onehotencoder__Brand_trabant</th>\n",
       "      <th>onehotencoder__Brand_volkswagen</th>\n",
       "      <th>onehotencoder__Brand_volvo</th>\n",
       "      <th>onehotencoder__Repaired_no</th>\n",
       "      <th>onehotencoder__Repaired_unknown</th>\n",
       "      <th>onehotencoder__Repaired_yes</th>\n",
       "    </tr>\n",
       "  </thead>\n",
       "  <tbody>\n",
       "    <tr>\n",
       "      <th>25736</th>\n",
       "      <td>-0.576987</td>\n",
       "      <td>0.849039</td>\n",
       "      <td>0.585714</td>\n",
       "      <td>-0.539334</td>\n",
       "      <td>0.0</td>\n",
       "      <td>0.0</td>\n",
       "      <td>0.0</td>\n",
       "      <td>0.0</td>\n",
       "      <td>1.0</td>\n",
       "      <td>0.0</td>\n",
       "      <td>...</td>\n",
       "      <td>0.0</td>\n",
       "      <td>0.0</td>\n",
       "      <td>0.0</td>\n",
       "      <td>0.0</td>\n",
       "      <td>0.0</td>\n",
       "      <td>0.0</td>\n",
       "      <td>0.0</td>\n",
       "      <td>0.0</td>\n",
       "      <td>0.0</td>\n",
       "      <td>1.0</td>\n",
       "    </tr>\n",
       "    <tr>\n",
       "      <th>107928</th>\n",
       "      <td>-0.418723</td>\n",
       "      <td>-0.083689</td>\n",
       "      <td>0.585714</td>\n",
       "      <td>-1.648379</td>\n",
       "      <td>0.0</td>\n",
       "      <td>0.0</td>\n",
       "      <td>0.0</td>\n",
       "      <td>1.0</td>\n",
       "      <td>0.0</td>\n",
       "      <td>0.0</td>\n",
       "      <td>...</td>\n",
       "      <td>0.0</td>\n",
       "      <td>0.0</td>\n",
       "      <td>0.0</td>\n",
       "      <td>0.0</td>\n",
       "      <td>0.0</td>\n",
       "      <td>0.0</td>\n",
       "      <td>0.0</td>\n",
       "      <td>0.0</td>\n",
       "      <td>1.0</td>\n",
       "      <td>0.0</td>\n",
       "    </tr>\n",
       "    <tr>\n",
       "      <th>38997</th>\n",
       "      <td>-0.735251</td>\n",
       "      <td>-0.791871</td>\n",
       "      <td>0.585714</td>\n",
       "      <td>1.678756</td>\n",
       "      <td>0.0</td>\n",
       "      <td>0.0</td>\n",
       "      <td>0.0</td>\n",
       "      <td>0.0</td>\n",
       "      <td>0.0</td>\n",
       "      <td>1.0</td>\n",
       "      <td>...</td>\n",
       "      <td>0.0</td>\n",
       "      <td>0.0</td>\n",
       "      <td>0.0</td>\n",
       "      <td>0.0</td>\n",
       "      <td>0.0</td>\n",
       "      <td>1.0</td>\n",
       "      <td>0.0</td>\n",
       "      <td>0.0</td>\n",
       "      <td>0.0</td>\n",
       "      <td>1.0</td>\n",
       "    </tr>\n",
       "  </tbody>\n",
       "</table>\n",
       "<p>3 rows × 312 columns</p>\n",
       "</div>"
      ],
      "text/plain": [
       "        standardscaler__RegistrationYear  standardscaler__Power  \\\n",
       "25736                          -0.576987               0.849039   \n",
       "107928                         -0.418723              -0.083689   \n",
       "38997                          -0.735251              -0.791871   \n",
       "\n",
       "        standardscaler__Kilometer  standardscaler__RegistrationMonth  \\\n",
       "25736                    0.585714                          -0.539334   \n",
       "107928                   0.585714                          -1.648379   \n",
       "38997                    0.585714                           1.678756   \n",
       "\n",
       "        onehotencoder__VehicleType_bus  \\\n",
       "25736                              0.0   \n",
       "107928                             0.0   \n",
       "38997                              0.0   \n",
       "\n",
       "        onehotencoder__VehicleType_convertible  \\\n",
       "25736                                      0.0   \n",
       "107928                                     0.0   \n",
       "38997                                      0.0   \n",
       "\n",
       "        onehotencoder__VehicleType_coupe  onehotencoder__VehicleType_other  \\\n",
       "25736                                0.0                               0.0   \n",
       "107928                               0.0                               1.0   \n",
       "38997                                0.0                               0.0   \n",
       "\n",
       "        onehotencoder__VehicleType_sedan  onehotencoder__VehicleType_small  \\\n",
       "25736                                1.0                               0.0   \n",
       "107928                               0.0                               0.0   \n",
       "38997                                0.0                               1.0   \n",
       "\n",
       "        ...  onehotencoder__Brand_smart  onehotencoder__Brand_subaru  \\\n",
       "25736   ...                         0.0                          0.0   \n",
       "107928  ...                         0.0                          0.0   \n",
       "38997   ...                         0.0                          0.0   \n",
       "\n",
       "        onehotencoder__Brand_suzuki  onehotencoder__Brand_toyota  \\\n",
       "25736                           0.0                          0.0   \n",
       "107928                          0.0                          0.0   \n",
       "38997                           0.0                          0.0   \n",
       "\n",
       "        onehotencoder__Brand_trabant  onehotencoder__Brand_volkswagen  \\\n",
       "25736                            0.0                              0.0   \n",
       "107928                           0.0                              0.0   \n",
       "38997                            0.0                              1.0   \n",
       "\n",
       "        onehotencoder__Brand_volvo  onehotencoder__Repaired_no  \\\n",
       "25736                          0.0                         0.0   \n",
       "107928                         0.0                         0.0   \n",
       "38997                          0.0                         0.0   \n",
       "\n",
       "        onehotencoder__Repaired_unknown  onehotencoder__Repaired_yes  \n",
       "25736                               0.0                          1.0  \n",
       "107928                              1.0                          0.0  \n",
       "38997                               0.0                          1.0  \n",
       "\n",
       "[3 rows x 312 columns]"
      ]
     },
     "execution_count": 53,
     "metadata": {},
     "output_type": "execute_result"
    }
   ],
   "source": [
    "transformed_features_train = preprocessor.transform(features_train)\n",
    "transformed_features_valid = preprocessor.transform(features_valid)\n",
    "transformed_features_test = preprocessor.transform(features_test)\n",
    "\n",
    "print('Признаки с закодированными категориальными переменными:')\n",
    "transformed_features_train.head(3)"
   ]
  },
  {
   "cell_type": "markdown",
   "metadata": {},
   "source": [
    "### Вывод\n",
    "\n",
    "Мы изучили данные о технических характеристиках и ценах автомобилей. Провели подробную предобработку данных, чтобы исправить все пропущенные и аномальные значения датасета. Рассмотрели связь признаков друг с другом и удалили те, которые не понадобятся нам при дальнейшей работе. Также, мы подготовили данные к обучению моделей, а именно: выделили целевой признак, закодировали категориальные признаки и выполнили масштабирование.\n",
    "\n",
    "Теперь приступим к обучению моделей."
   ]
  },
  {
   "cell_type": "markdown",
   "metadata": {},
   "source": [
    "## Обучение моделей\n",
    "Для каждой будем измерять **качество предсказания**, **время обучения** и **время предсказания**."
   ]
  },
  {
   "cell_type": "markdown",
   "metadata": {},
   "source": [
    "### Линейная регрессия\n",
    "Начнём наше исследование с проверки простой модели линейной регрессии. Вдруг она окажется лучше градиентного бустинга?"
   ]
  },
  {
   "cell_type": "code",
   "execution_count": 54,
   "metadata": {},
   "outputs": [
    {
     "name": "stdout",
     "output_type": "stream",
     "text": [
      "CPU times: total: 31.2 s\n",
      "Wall time: 6.07 s\n"
     ]
    },
    {
     "data": {
      "text/html": [
       "<style>#sk-container-id-2 {color: black;}#sk-container-id-2 pre{padding: 0;}#sk-container-id-2 div.sk-toggleable {background-color: white;}#sk-container-id-2 label.sk-toggleable__label {cursor: pointer;display: block;width: 100%;margin-bottom: 0;padding: 0.3em;box-sizing: border-box;text-align: center;}#sk-container-id-2 label.sk-toggleable__label-arrow:before {content: \"▸\";float: left;margin-right: 0.25em;color: #696969;}#sk-container-id-2 label.sk-toggleable__label-arrow:hover:before {color: black;}#sk-container-id-2 div.sk-estimator:hover label.sk-toggleable__label-arrow:before {color: black;}#sk-container-id-2 div.sk-toggleable__content {max-height: 0;max-width: 0;overflow: hidden;text-align: left;background-color: #f0f8ff;}#sk-container-id-2 div.sk-toggleable__content pre {margin: 0.2em;color: black;border-radius: 0.25em;background-color: #f0f8ff;}#sk-container-id-2 input.sk-toggleable__control:checked~div.sk-toggleable__content {max-height: 200px;max-width: 100%;overflow: auto;}#sk-container-id-2 input.sk-toggleable__control:checked~label.sk-toggleable__label-arrow:before {content: \"▾\";}#sk-container-id-2 div.sk-estimator input.sk-toggleable__control:checked~label.sk-toggleable__label {background-color: #d4ebff;}#sk-container-id-2 div.sk-label input.sk-toggleable__control:checked~label.sk-toggleable__label {background-color: #d4ebff;}#sk-container-id-2 input.sk-hidden--visually {border: 0;clip: rect(1px 1px 1px 1px);clip: rect(1px, 1px, 1px, 1px);height: 1px;margin: -1px;overflow: hidden;padding: 0;position: absolute;width: 1px;}#sk-container-id-2 div.sk-estimator {font-family: monospace;background-color: #f0f8ff;border: 1px dotted black;border-radius: 0.25em;box-sizing: border-box;margin-bottom: 0.5em;}#sk-container-id-2 div.sk-estimator:hover {background-color: #d4ebff;}#sk-container-id-2 div.sk-parallel-item::after {content: \"\";width: 100%;border-bottom: 1px solid gray;flex-grow: 1;}#sk-container-id-2 div.sk-label:hover label.sk-toggleable__label {background-color: #d4ebff;}#sk-container-id-2 div.sk-serial::before {content: \"\";position: absolute;border-left: 1px solid gray;box-sizing: border-box;top: 0;bottom: 0;left: 50%;z-index: 0;}#sk-container-id-2 div.sk-serial {display: flex;flex-direction: column;align-items: center;background-color: white;padding-right: 0.2em;padding-left: 0.2em;position: relative;}#sk-container-id-2 div.sk-item {position: relative;z-index: 1;}#sk-container-id-2 div.sk-parallel {display: flex;align-items: stretch;justify-content: center;background-color: white;position: relative;}#sk-container-id-2 div.sk-item::before, #sk-container-id-2 div.sk-parallel-item::before {content: \"\";position: absolute;border-left: 1px solid gray;box-sizing: border-box;top: 0;bottom: 0;left: 50%;z-index: -1;}#sk-container-id-2 div.sk-parallel-item {display: flex;flex-direction: column;z-index: 1;position: relative;background-color: white;}#sk-container-id-2 div.sk-parallel-item:first-child::after {align-self: flex-end;width: 50%;}#sk-container-id-2 div.sk-parallel-item:last-child::after {align-self: flex-start;width: 50%;}#sk-container-id-2 div.sk-parallel-item:only-child::after {width: 0;}#sk-container-id-2 div.sk-dashed-wrapped {border: 1px dashed gray;margin: 0 0.4em 0.5em 0.4em;box-sizing: border-box;padding-bottom: 0.4em;background-color: white;}#sk-container-id-2 div.sk-label label {font-family: monospace;font-weight: bold;display: inline-block;line-height: 1.2em;}#sk-container-id-2 div.sk-label-container {text-align: center;}#sk-container-id-2 div.sk-container {/* jupyter's `normalize.less` sets `[hidden] { display: none; }` but bootstrap.min.css set `[hidden] { display: none !important; }` so we also need the `!important` here to be able to override the default hidden behavior on the sphinx rendered scikit-learn.org. See: https://github.com/scikit-learn/scikit-learn/issues/21755 */display: inline-block !important;position: relative;}#sk-container-id-2 div.sk-text-repr-fallback {display: none;}</style><div id=\"sk-container-id-2\" class=\"sk-top-container\"><div class=\"sk-text-repr-fallback\"><pre>LinearRegression()</pre><b>In a Jupyter environment, please rerun this cell to show the HTML representation or trust the notebook. <br />On GitHub, the HTML representation is unable to render, please try loading this page with nbviewer.org.</b></div><div class=\"sk-container\" hidden><div class=\"sk-item\"><div class=\"sk-estimator sk-toggleable\"><input class=\"sk-toggleable__control sk-hidden--visually\" id=\"sk-estimator-id-8\" type=\"checkbox\" checked><label for=\"sk-estimator-id-8\" class=\"sk-toggleable__label sk-toggleable__label-arrow\">LinearRegression</label><div class=\"sk-toggleable__content\"><pre>LinearRegression()</pre></div></div></div></div></div>"
      ],
      "text/plain": [
       "LinearRegression()"
      ]
     },
     "execution_count": 54,
     "metadata": {},
     "output_type": "execute_result"
    }
   ],
   "source": [
    "%%time\n",
    "linear_model = LinearRegression()\n",
    "linear_model.fit(transformed_features_train, target_train)"
   ]
  },
  {
   "cell_type": "code",
   "execution_count": 55,
   "metadata": {},
   "outputs": [
    {
     "name": "stdout",
     "output_type": "stream",
     "text": [
      "RMSE линейной регрессии на валидационной выборке: 2634.16\n"
     ]
    }
   ],
   "source": [
    "pred_linear = linear_model.predict(transformed_features_valid)\n",
    "rmse_linear = mean_squared_error(target_valid, pred_linear, squared=False)\n",
    "print(f'RMSE линейной регрессии на валидационной выборке: {round(rmse_linear, 2)}')"
   ]
  },
  {
   "cell_type": "markdown",
   "metadata": {},
   "source": [
    "Значение ошибки получилось слишком большим. Рассмотрим другие варианты."
   ]
  },
  {
   "cell_type": "markdown",
   "metadata": {},
   "source": [
    "### DecisionTreeRegressor"
   ]
  },
  {
   "cell_type": "code",
   "execution_count": 57,
   "metadata": {},
   "outputs": [
    {
     "name": "stdout",
     "output_type": "stream",
     "text": [
      "CPU times: total: 3min 54s\n",
      "Wall time: 3min 56s\n"
     ]
    },
    {
     "data": {
      "text/html": [
       "<style>#sk-container-id-3 {color: black;}#sk-container-id-3 pre{padding: 0;}#sk-container-id-3 div.sk-toggleable {background-color: white;}#sk-container-id-3 label.sk-toggleable__label {cursor: pointer;display: block;width: 100%;margin-bottom: 0;padding: 0.3em;box-sizing: border-box;text-align: center;}#sk-container-id-3 label.sk-toggleable__label-arrow:before {content: \"▸\";float: left;margin-right: 0.25em;color: #696969;}#sk-container-id-3 label.sk-toggleable__label-arrow:hover:before {color: black;}#sk-container-id-3 div.sk-estimator:hover label.sk-toggleable__label-arrow:before {color: black;}#sk-container-id-3 div.sk-toggleable__content {max-height: 0;max-width: 0;overflow: hidden;text-align: left;background-color: #f0f8ff;}#sk-container-id-3 div.sk-toggleable__content pre {margin: 0.2em;color: black;border-radius: 0.25em;background-color: #f0f8ff;}#sk-container-id-3 input.sk-toggleable__control:checked~div.sk-toggleable__content {max-height: 200px;max-width: 100%;overflow: auto;}#sk-container-id-3 input.sk-toggleable__control:checked~label.sk-toggleable__label-arrow:before {content: \"▾\";}#sk-container-id-3 div.sk-estimator input.sk-toggleable__control:checked~label.sk-toggleable__label {background-color: #d4ebff;}#sk-container-id-3 div.sk-label input.sk-toggleable__control:checked~label.sk-toggleable__label {background-color: #d4ebff;}#sk-container-id-3 input.sk-hidden--visually {border: 0;clip: rect(1px 1px 1px 1px);clip: rect(1px, 1px, 1px, 1px);height: 1px;margin: -1px;overflow: hidden;padding: 0;position: absolute;width: 1px;}#sk-container-id-3 div.sk-estimator {font-family: monospace;background-color: #f0f8ff;border: 1px dotted black;border-radius: 0.25em;box-sizing: border-box;margin-bottom: 0.5em;}#sk-container-id-3 div.sk-estimator:hover {background-color: #d4ebff;}#sk-container-id-3 div.sk-parallel-item::after {content: \"\";width: 100%;border-bottom: 1px solid gray;flex-grow: 1;}#sk-container-id-3 div.sk-label:hover label.sk-toggleable__label {background-color: #d4ebff;}#sk-container-id-3 div.sk-serial::before {content: \"\";position: absolute;border-left: 1px solid gray;box-sizing: border-box;top: 0;bottom: 0;left: 50%;z-index: 0;}#sk-container-id-3 div.sk-serial {display: flex;flex-direction: column;align-items: center;background-color: white;padding-right: 0.2em;padding-left: 0.2em;position: relative;}#sk-container-id-3 div.sk-item {position: relative;z-index: 1;}#sk-container-id-3 div.sk-parallel {display: flex;align-items: stretch;justify-content: center;background-color: white;position: relative;}#sk-container-id-3 div.sk-item::before, #sk-container-id-3 div.sk-parallel-item::before {content: \"\";position: absolute;border-left: 1px solid gray;box-sizing: border-box;top: 0;bottom: 0;left: 50%;z-index: -1;}#sk-container-id-3 div.sk-parallel-item {display: flex;flex-direction: column;z-index: 1;position: relative;background-color: white;}#sk-container-id-3 div.sk-parallel-item:first-child::after {align-self: flex-end;width: 50%;}#sk-container-id-3 div.sk-parallel-item:last-child::after {align-self: flex-start;width: 50%;}#sk-container-id-3 div.sk-parallel-item:only-child::after {width: 0;}#sk-container-id-3 div.sk-dashed-wrapped {border: 1px dashed gray;margin: 0 0.4em 0.5em 0.4em;box-sizing: border-box;padding-bottom: 0.4em;background-color: white;}#sk-container-id-3 div.sk-label label {font-family: monospace;font-weight: bold;display: inline-block;line-height: 1.2em;}#sk-container-id-3 div.sk-label-container {text-align: center;}#sk-container-id-3 div.sk-container {/* jupyter's `normalize.less` sets `[hidden] { display: none; }` but bootstrap.min.css set `[hidden] { display: none !important; }` so we also need the `!important` here to be able to override the default hidden behavior on the sphinx rendered scikit-learn.org. See: https://github.com/scikit-learn/scikit-learn/issues/21755 */display: inline-block !important;position: relative;}#sk-container-id-3 div.sk-text-repr-fallback {display: none;}</style><div id=\"sk-container-id-3\" class=\"sk-top-container\"><div class=\"sk-text-repr-fallback\"><pre>GridSearchCV(cv=5, estimator=DecisionTreeRegressor(random_state=12345),\n",
       "             param_grid={&#x27;max_depth&#x27;: [1, 3, 5, 7, 9, 11, 13, 15, 17, 19, 21,\n",
       "                                       23, 25, 27, 29]},\n",
       "             scoring=&#x27;neg_mean_squared_error&#x27;)</pre><b>In a Jupyter environment, please rerun this cell to show the HTML representation or trust the notebook. <br />On GitHub, the HTML representation is unable to render, please try loading this page with nbviewer.org.</b></div><div class=\"sk-container\" hidden><div class=\"sk-item sk-dashed-wrapped\"><div class=\"sk-label-container\"><div class=\"sk-label sk-toggleable\"><input class=\"sk-toggleable__control sk-hidden--visually\" id=\"sk-estimator-id-9\" type=\"checkbox\" ><label for=\"sk-estimator-id-9\" class=\"sk-toggleable__label sk-toggleable__label-arrow\">GridSearchCV</label><div class=\"sk-toggleable__content\"><pre>GridSearchCV(cv=5, estimator=DecisionTreeRegressor(random_state=12345),\n",
       "             param_grid={&#x27;max_depth&#x27;: [1, 3, 5, 7, 9, 11, 13, 15, 17, 19, 21,\n",
       "                                       23, 25, 27, 29]},\n",
       "             scoring=&#x27;neg_mean_squared_error&#x27;)</pre></div></div></div><div class=\"sk-parallel\"><div class=\"sk-parallel-item\"><div class=\"sk-item\"><div class=\"sk-label-container\"><div class=\"sk-label sk-toggleable\"><input class=\"sk-toggleable__control sk-hidden--visually\" id=\"sk-estimator-id-10\" type=\"checkbox\" ><label for=\"sk-estimator-id-10\" class=\"sk-toggleable__label sk-toggleable__label-arrow\">estimator: DecisionTreeRegressor</label><div class=\"sk-toggleable__content\"><pre>DecisionTreeRegressor(random_state=12345)</pre></div></div></div><div class=\"sk-serial\"><div class=\"sk-item\"><div class=\"sk-estimator sk-toggleable\"><input class=\"sk-toggleable__control sk-hidden--visually\" id=\"sk-estimator-id-11\" type=\"checkbox\" ><label for=\"sk-estimator-id-11\" class=\"sk-toggleable__label sk-toggleable__label-arrow\">DecisionTreeRegressor</label><div class=\"sk-toggleable__content\"><pre>DecisionTreeRegressor(random_state=12345)</pre></div></div></div></div></div></div></div></div></div></div>"
      ],
      "text/plain": [
       "GridSearchCV(cv=5, estimator=DecisionTreeRegressor(random_state=12345),\n",
       "             param_grid={'max_depth': [1, 3, 5, 7, 9, 11, 13, 15, 17, 19, 21,\n",
       "                                       23, 25, 27, 29]},\n",
       "             scoring='neg_mean_squared_error')"
      ]
     },
     "execution_count": 57,
     "metadata": {},
     "output_type": "execute_result"
    }
   ],
   "source": [
    "%%time\n",
    "\n",
    "tree_model = DecisionTreeRegressor(random_state=12345)\n",
    "\n",
    "# подберем оптимальные параметры глубины дерева\n",
    "parameters = {'max_depth': [x for x in range(1, 30, 2)]}\n",
    "\n",
    "grid_tree = GridSearchCV(tree_model,\n",
    "                         parameters, \n",
    "                         cv=5, \n",
    "                         scoring='neg_mean_squared_error')\n",
    "grid_tree.fit(transformed_features_train, target_train)"
   ]
  },
  {
   "cell_type": "markdown",
   "metadata": {},
   "source": [
    "Выведем гиперпараметры:"
   ]
  },
  {
   "cell_type": "code",
   "execution_count": 60,
   "metadata": {},
   "outputs": [
    {
     "name": "stdout",
     "output_type": "stream",
     "text": [
      "Гиперпараметры {'max_depth': 15}\n"
     ]
    }
   ],
   "source": [
    "print('Гиперпараметры', grid_tree.best_params_)"
   ]
  },
  {
   "cell_type": "markdown",
   "metadata": {},
   "source": [
    "Чтобы измерить время обучения модели с нужными гиперпараметрами повторим эту процедуру:"
   ]
  },
  {
   "cell_type": "code",
   "execution_count": 68,
   "metadata": {},
   "outputs": [
    {
     "name": "stdout",
     "output_type": "stream",
     "text": [
      "CPU times: total: 5.56 s\n",
      "Wall time: 5.59 s\n"
     ]
    },
    {
     "data": {
      "text/html": [
       "<style>#sk-container-id-5 {color: black;}#sk-container-id-5 pre{padding: 0;}#sk-container-id-5 div.sk-toggleable {background-color: white;}#sk-container-id-5 label.sk-toggleable__label {cursor: pointer;display: block;width: 100%;margin-bottom: 0;padding: 0.3em;box-sizing: border-box;text-align: center;}#sk-container-id-5 label.sk-toggleable__label-arrow:before {content: \"▸\";float: left;margin-right: 0.25em;color: #696969;}#sk-container-id-5 label.sk-toggleable__label-arrow:hover:before {color: black;}#sk-container-id-5 div.sk-estimator:hover label.sk-toggleable__label-arrow:before {color: black;}#sk-container-id-5 div.sk-toggleable__content {max-height: 0;max-width: 0;overflow: hidden;text-align: left;background-color: #f0f8ff;}#sk-container-id-5 div.sk-toggleable__content pre {margin: 0.2em;color: black;border-radius: 0.25em;background-color: #f0f8ff;}#sk-container-id-5 input.sk-toggleable__control:checked~div.sk-toggleable__content {max-height: 200px;max-width: 100%;overflow: auto;}#sk-container-id-5 input.sk-toggleable__control:checked~label.sk-toggleable__label-arrow:before {content: \"▾\";}#sk-container-id-5 div.sk-estimator input.sk-toggleable__control:checked~label.sk-toggleable__label {background-color: #d4ebff;}#sk-container-id-5 div.sk-label input.sk-toggleable__control:checked~label.sk-toggleable__label {background-color: #d4ebff;}#sk-container-id-5 input.sk-hidden--visually {border: 0;clip: rect(1px 1px 1px 1px);clip: rect(1px, 1px, 1px, 1px);height: 1px;margin: -1px;overflow: hidden;padding: 0;position: absolute;width: 1px;}#sk-container-id-5 div.sk-estimator {font-family: monospace;background-color: #f0f8ff;border: 1px dotted black;border-radius: 0.25em;box-sizing: border-box;margin-bottom: 0.5em;}#sk-container-id-5 div.sk-estimator:hover {background-color: #d4ebff;}#sk-container-id-5 div.sk-parallel-item::after {content: \"\";width: 100%;border-bottom: 1px solid gray;flex-grow: 1;}#sk-container-id-5 div.sk-label:hover label.sk-toggleable__label {background-color: #d4ebff;}#sk-container-id-5 div.sk-serial::before {content: \"\";position: absolute;border-left: 1px solid gray;box-sizing: border-box;top: 0;bottom: 0;left: 50%;z-index: 0;}#sk-container-id-5 div.sk-serial {display: flex;flex-direction: column;align-items: center;background-color: white;padding-right: 0.2em;padding-left: 0.2em;position: relative;}#sk-container-id-5 div.sk-item {position: relative;z-index: 1;}#sk-container-id-5 div.sk-parallel {display: flex;align-items: stretch;justify-content: center;background-color: white;position: relative;}#sk-container-id-5 div.sk-item::before, #sk-container-id-5 div.sk-parallel-item::before {content: \"\";position: absolute;border-left: 1px solid gray;box-sizing: border-box;top: 0;bottom: 0;left: 50%;z-index: -1;}#sk-container-id-5 div.sk-parallel-item {display: flex;flex-direction: column;z-index: 1;position: relative;background-color: white;}#sk-container-id-5 div.sk-parallel-item:first-child::after {align-self: flex-end;width: 50%;}#sk-container-id-5 div.sk-parallel-item:last-child::after {align-self: flex-start;width: 50%;}#sk-container-id-5 div.sk-parallel-item:only-child::after {width: 0;}#sk-container-id-5 div.sk-dashed-wrapped {border: 1px dashed gray;margin: 0 0.4em 0.5em 0.4em;box-sizing: border-box;padding-bottom: 0.4em;background-color: white;}#sk-container-id-5 div.sk-label label {font-family: monospace;font-weight: bold;display: inline-block;line-height: 1.2em;}#sk-container-id-5 div.sk-label-container {text-align: center;}#sk-container-id-5 div.sk-container {/* jupyter's `normalize.less` sets `[hidden] { display: none; }` but bootstrap.min.css set `[hidden] { display: none !important; }` so we also need the `!important` here to be able to override the default hidden behavior on the sphinx rendered scikit-learn.org. See: https://github.com/scikit-learn/scikit-learn/issues/21755 */display: inline-block !important;position: relative;}#sk-container-id-5 div.sk-text-repr-fallback {display: none;}</style><div id=\"sk-container-id-5\" class=\"sk-top-container\"><div class=\"sk-text-repr-fallback\"><pre>DecisionTreeRegressor(max_depth=15, random_state=12345)</pre><b>In a Jupyter environment, please rerun this cell to show the HTML representation or trust the notebook. <br />On GitHub, the HTML representation is unable to render, please try loading this page with nbviewer.org.</b></div><div class=\"sk-container\" hidden><div class=\"sk-item\"><div class=\"sk-estimator sk-toggleable\"><input class=\"sk-toggleable__control sk-hidden--visually\" id=\"sk-estimator-id-15\" type=\"checkbox\" checked><label for=\"sk-estimator-id-15\" class=\"sk-toggleable__label sk-toggleable__label-arrow\">DecisionTreeRegressor</label><div class=\"sk-toggleable__content\"><pre>DecisionTreeRegressor(max_depth=15, random_state=12345)</pre></div></div></div></div></div>"
      ],
      "text/plain": [
       "DecisionTreeRegressor(max_depth=15, random_state=12345)"
      ]
     },
     "execution_count": 68,
     "metadata": {},
     "output_type": "execute_result"
    }
   ],
   "source": [
    "%%time\n",
    "\n",
    "best_tree_model = DecisionTreeRegressor(random_state=12345, max_depth=15)\n",
    "\n",
    "best_tree_model.fit(transformed_features_train, target_train)"
   ]
  },
  {
   "cell_type": "code",
   "execution_count": 70,
   "metadata": {},
   "outputs": [
    {
     "name": "stdout",
     "output_type": "stream",
     "text": [
      "RMSE DecisionTreeRegressor на валидационной выборке: 1861.06\n"
     ]
    }
   ],
   "source": [
    "pred_tree = best_tree_model.predict(transformed_features_valid)\n",
    "rmse_tree = mean_squared_error(target_valid, pred_tree, squared=False)\n",
    "print(f'RMSE DecisionTreeRegressor на валидационной выборке: {round(rmse_tree, 2)}')"
   ]
  },
  {
   "cell_type": "markdown",
   "metadata": {},
   "source": [
    "У дерева решений с глубиной 15 результат уже гораздо лучше. Цель в rmse <= 2500 мы достигли, но попробуем улучшить эту метрику."
   ]
  },
  {
   "cell_type": "markdown",
   "metadata": {},
   "source": [
    "### CatBoost"
   ]
  },
  {
   "cell_type": "markdown",
   "metadata": {},
   "source": [
    "Обучим модель на исходных признаках, так как CatBoostRegressor работает с категориальными переменными напрямую."
   ]
  },
  {
   "cell_type": "code",
   "execution_count": 62,
   "metadata": {
    "scrolled": true
   },
   "outputs": [
    {
     "name": "stdout",
     "output_type": "stream",
     "text": [
      "Learning rate set to 0.5\n",
      "0:\tlearn: 3303.4883317\ttotal: 268ms\tremaining: 26.5s\n",
      "99:\tlearn: 1638.7479156\ttotal: 5.87s\tremaining: 0us\n",
      "Learning rate set to 0.5\n",
      "0:\tlearn: 3304.7548269\ttotal: 84.6ms\tremaining: 8.38s\n",
      "99:\tlearn: 1635.8649201\ttotal: 4.7s\tremaining: 0us\n",
      "Learning rate set to 0.5\n",
      "0:\tlearn: 3306.0016558\ttotal: 60.6ms\tremaining: 6s\n",
      "99:\tlearn: 1638.7526220\ttotal: 4.24s\tremaining: 0us\n",
      "Learning rate set to 0.5\n",
      "0:\tlearn: 3316.3914691\ttotal: 55.2ms\tremaining: 5.47s\n",
      "99:\tlearn: 1636.9491158\ttotal: 4.27s\tremaining: 0us\n",
      "Learning rate set to 0.5\n",
      "0:\tlearn: 3321.6115515\ttotal: 76.5ms\tremaining: 7.57s\n",
      "99:\tlearn: 1630.9676976\ttotal: 4.35s\tremaining: 0us\n",
      "Learning rate set to 0.157545\n",
      "0:\tlearn: 4140.6708380\ttotal: 91.1ms\tremaining: 45.4s\n",
      "250:\tlearn: 1620.9590482\ttotal: 16.1s\tremaining: 16s\n",
      "499:\tlearn: 1560.9827313\ttotal: 32.2s\tremaining: 0us\n",
      "Learning rate set to 0.157545\n",
      "0:\tlearn: 4141.8753468\ttotal: 85.4ms\tremaining: 42.6s\n",
      "250:\tlearn: 1623.4428929\ttotal: 16.5s\tremaining: 16.4s\n",
      "499:\tlearn: 1561.3945079\ttotal: 33s\tremaining: 0us\n",
      "Learning rate set to 0.157545\n",
      "0:\tlearn: 4146.7189154\ttotal: 99.8ms\tremaining: 49.8s\n",
      "250:\tlearn: 1625.7633450\ttotal: 16.4s\tremaining: 16.2s\n",
      "499:\tlearn: 1567.8303912\ttotal: 32.7s\tremaining: 0us\n",
      "Learning rate set to 0.157545\n",
      "0:\tlearn: 4142.5928400\ttotal: 110ms\tremaining: 54.7s\n",
      "250:\tlearn: 1619.0984830\ttotal: 16.3s\tremaining: 16.2s\n",
      "499:\tlearn: 1559.1178821\ttotal: 32.5s\tremaining: 0us\n",
      "Learning rate set to 0.157545\n",
      "0:\tlearn: 4150.4645538\ttotal: 107ms\tremaining: 53.3s\n",
      "250:\tlearn: 1612.2860264\ttotal: 16.2s\tremaining: 16.1s\n",
      "499:\tlearn: 1553.1829430\ttotal: 32.4s\tremaining: 0us\n",
      "Learning rate set to 0.5\n",
      "0:\tlearn: 3081.6226096\ttotal: 141ms\tremaining: 14s\n",
      "99:\tlearn: 1356.7268593\ttotal: 8.86s\tremaining: 0us\n",
      "Learning rate set to 0.5\n",
      "0:\tlearn: 3093.7664807\ttotal: 88.5ms\tremaining: 8.76s\n",
      "99:\tlearn: 1365.2815447\ttotal: 8.66s\tremaining: 0us\n",
      "Learning rate set to 0.5\n",
      "0:\tlearn: 3097.5584852\ttotal: 143ms\tremaining: 14.2s\n",
      "99:\tlearn: 1370.3860522\ttotal: 9s\tremaining: 0us\n",
      "Learning rate set to 0.5\n",
      "0:\tlearn: 3090.5410672\ttotal: 127ms\tremaining: 12.6s\n",
      "99:\tlearn: 1365.4284094\ttotal: 9.19s\tremaining: 0us\n",
      "Learning rate set to 0.5\n",
      "0:\tlearn: 3094.4885554\ttotal: 139ms\tremaining: 13.8s\n",
      "99:\tlearn: 1366.0880700\ttotal: 9.13s\tremaining: 0us\n",
      "Learning rate set to 0.157545\n",
      "0:\tlearn: 4075.2677797\ttotal: 226ms\tremaining: 1m 52s\n",
      "250:\tlearn: 1375.2993198\ttotal: 39.1s\tremaining: 38.7s\n",
      "499:\tlearn: 1252.3083583\ttotal: 1m 20s\tremaining: 0us\n",
      "Learning rate set to 0.157545\n",
      "0:\tlearn: 4075.7528946\ttotal: 147ms\tremaining: 1m 13s\n",
      "250:\tlearn: 1380.0250202\ttotal: 39.2s\tremaining: 38.9s\n",
      "499:\tlearn: 1266.8082418\ttotal: 1m 20s\tremaining: 0us\n",
      "Learning rate set to 0.157545\n",
      "0:\tlearn: 4078.3545017\ttotal: 179ms\tremaining: 1m 29s\n",
      "250:\tlearn: 1381.0833419\ttotal: 39.5s\tremaining: 39.2s\n",
      "499:\tlearn: 1268.7444434\ttotal: 1m 21s\tremaining: 0us\n",
      "Learning rate set to 0.157545\n",
      "0:\tlearn: 4075.5825471\ttotal: 166ms\tremaining: 1m 22s\n",
      "250:\tlearn: 1376.4074871\ttotal: 40.6s\tremaining: 40.3s\n",
      "499:\tlearn: 1263.9556352\ttotal: 1m 23s\tremaining: 0us\n",
      "Learning rate set to 0.157545\n",
      "0:\tlearn: 4082.9755899\ttotal: 196ms\tremaining: 1m 37s\n",
      "250:\tlearn: 1365.8048791\ttotal: 41.6s\tremaining: 41.2s\n",
      "499:\tlearn: 1259.0246329\ttotal: 1m 24s\tremaining: 0us\n",
      "Learning rate set to 0.163199\n",
      "0:\tlearn: 4058.3055317\ttotal: 202ms\tremaining: 1m 40s\n",
      "250:\tlearn: 1388.9300795\ttotal: 50.7s\tremaining: 50.3s\n",
      "499:\tlearn: 1282.1844966\ttotal: 1m 45s\tremaining: 0us\n",
      "CPU times: total: 1h 25min 48s\n",
      "Wall time: 12min 49s\n"
     ]
    },
    {
     "data": {
      "text/html": [
       "<style>#sk-container-id-4 {color: black;}#sk-container-id-4 pre{padding: 0;}#sk-container-id-4 div.sk-toggleable {background-color: white;}#sk-container-id-4 label.sk-toggleable__label {cursor: pointer;display: block;width: 100%;margin-bottom: 0;padding: 0.3em;box-sizing: border-box;text-align: center;}#sk-container-id-4 label.sk-toggleable__label-arrow:before {content: \"▸\";float: left;margin-right: 0.25em;color: #696969;}#sk-container-id-4 label.sk-toggleable__label-arrow:hover:before {color: black;}#sk-container-id-4 div.sk-estimator:hover label.sk-toggleable__label-arrow:before {color: black;}#sk-container-id-4 div.sk-toggleable__content {max-height: 0;max-width: 0;overflow: hidden;text-align: left;background-color: #f0f8ff;}#sk-container-id-4 div.sk-toggleable__content pre {margin: 0.2em;color: black;border-radius: 0.25em;background-color: #f0f8ff;}#sk-container-id-4 input.sk-toggleable__control:checked~div.sk-toggleable__content {max-height: 200px;max-width: 100%;overflow: auto;}#sk-container-id-4 input.sk-toggleable__control:checked~label.sk-toggleable__label-arrow:before {content: \"▾\";}#sk-container-id-4 div.sk-estimator input.sk-toggleable__control:checked~label.sk-toggleable__label {background-color: #d4ebff;}#sk-container-id-4 div.sk-label input.sk-toggleable__control:checked~label.sk-toggleable__label {background-color: #d4ebff;}#sk-container-id-4 input.sk-hidden--visually {border: 0;clip: rect(1px 1px 1px 1px);clip: rect(1px, 1px, 1px, 1px);height: 1px;margin: -1px;overflow: hidden;padding: 0;position: absolute;width: 1px;}#sk-container-id-4 div.sk-estimator {font-family: monospace;background-color: #f0f8ff;border: 1px dotted black;border-radius: 0.25em;box-sizing: border-box;margin-bottom: 0.5em;}#sk-container-id-4 div.sk-estimator:hover {background-color: #d4ebff;}#sk-container-id-4 div.sk-parallel-item::after {content: \"\";width: 100%;border-bottom: 1px solid gray;flex-grow: 1;}#sk-container-id-4 div.sk-label:hover label.sk-toggleable__label {background-color: #d4ebff;}#sk-container-id-4 div.sk-serial::before {content: \"\";position: absolute;border-left: 1px solid gray;box-sizing: border-box;top: 0;bottom: 0;left: 50%;z-index: 0;}#sk-container-id-4 div.sk-serial {display: flex;flex-direction: column;align-items: center;background-color: white;padding-right: 0.2em;padding-left: 0.2em;position: relative;}#sk-container-id-4 div.sk-item {position: relative;z-index: 1;}#sk-container-id-4 div.sk-parallel {display: flex;align-items: stretch;justify-content: center;background-color: white;position: relative;}#sk-container-id-4 div.sk-item::before, #sk-container-id-4 div.sk-parallel-item::before {content: \"\";position: absolute;border-left: 1px solid gray;box-sizing: border-box;top: 0;bottom: 0;left: 50%;z-index: -1;}#sk-container-id-4 div.sk-parallel-item {display: flex;flex-direction: column;z-index: 1;position: relative;background-color: white;}#sk-container-id-4 div.sk-parallel-item:first-child::after {align-self: flex-end;width: 50%;}#sk-container-id-4 div.sk-parallel-item:last-child::after {align-self: flex-start;width: 50%;}#sk-container-id-4 div.sk-parallel-item:only-child::after {width: 0;}#sk-container-id-4 div.sk-dashed-wrapped {border: 1px dashed gray;margin: 0 0.4em 0.5em 0.4em;box-sizing: border-box;padding-bottom: 0.4em;background-color: white;}#sk-container-id-4 div.sk-label label {font-family: monospace;font-weight: bold;display: inline-block;line-height: 1.2em;}#sk-container-id-4 div.sk-label-container {text-align: center;}#sk-container-id-4 div.sk-container {/* jupyter's `normalize.less` sets `[hidden] { display: none; }` but bootstrap.min.css set `[hidden] { display: none !important; }` so we also need the `!important` here to be able to override the default hidden behavior on the sphinx rendered scikit-learn.org. See: https://github.com/scikit-learn/scikit-learn/issues/21755 */display: inline-block !important;position: relative;}#sk-container-id-4 div.sk-text-repr-fallback {display: none;}</style><div id=\"sk-container-id-4\" class=\"sk-top-container\"><div class=\"sk-text-repr-fallback\"><pre>GridSearchCV(estimator=&lt;catboost.core.CatBoostRegressor object at 0x0000025D16EA10D0&gt;,\n",
       "             param_grid=[{&#x27;depth&#x27;: [5, 10], &#x27;iterations&#x27;: [100, 500]}])</pre><b>In a Jupyter environment, please rerun this cell to show the HTML representation or trust the notebook. <br />On GitHub, the HTML representation is unable to render, please try loading this page with nbviewer.org.</b></div><div class=\"sk-container\" hidden><div class=\"sk-item sk-dashed-wrapped\"><div class=\"sk-label-container\"><div class=\"sk-label sk-toggleable\"><input class=\"sk-toggleable__control sk-hidden--visually\" id=\"sk-estimator-id-12\" type=\"checkbox\" ><label for=\"sk-estimator-id-12\" class=\"sk-toggleable__label sk-toggleable__label-arrow\">GridSearchCV</label><div class=\"sk-toggleable__content\"><pre>GridSearchCV(estimator=&lt;catboost.core.CatBoostRegressor object at 0x0000025D16EA10D0&gt;,\n",
       "             param_grid=[{&#x27;depth&#x27;: [5, 10], &#x27;iterations&#x27;: [100, 500]}])</pre></div></div></div><div class=\"sk-parallel\"><div class=\"sk-parallel-item\"><div class=\"sk-item\"><div class=\"sk-label-container\"><div class=\"sk-label sk-toggleable\"><input class=\"sk-toggleable__control sk-hidden--visually\" id=\"sk-estimator-id-13\" type=\"checkbox\" ><label for=\"sk-estimator-id-13\" class=\"sk-toggleable__label sk-toggleable__label-arrow\">estimator: CatBoostRegressor</label><div class=\"sk-toggleable__content\"><pre>&lt;catboost.core.CatBoostRegressor object at 0x0000025D16EA10D0&gt;</pre></div></div></div><div class=\"sk-serial\"><div class=\"sk-item\"><div class=\"sk-estimator sk-toggleable\"><input class=\"sk-toggleable__control sk-hidden--visually\" id=\"sk-estimator-id-14\" type=\"checkbox\" ><label for=\"sk-estimator-id-14\" class=\"sk-toggleable__label sk-toggleable__label-arrow\">CatBoostRegressor</label><div class=\"sk-toggleable__content\"><pre>&lt;catboost.core.CatBoostRegressor object at 0x0000025D16EA10D0&gt;</pre></div></div></div></div></div></div></div></div></div></div>"
      ],
      "text/plain": [
       "GridSearchCV(estimator=<catboost.core.CatBoostRegressor object at 0x0000025D16EA10D0>,\n",
       "             param_grid=[{'depth': [5, 10], 'iterations': [100, 500]}])"
      ]
     },
     "execution_count": 62,
     "metadata": {},
     "output_type": "execute_result"
    }
   ],
   "source": [
    "%%time\n",
    "\n",
    "catboost_model = CatBoostRegressor(random_state=12345) \n",
    "\n",
    "# подберем оптимальные\n",
    "parameters = [{\n",
    "    'iterations': [100, 500],\n",
    "    'depth': [5, 10]\n",
    "}]\n",
    "\n",
    "grid_catboost = GridSearchCV(catboost_model, parameters)\n",
    "grid_catboost.fit(features_train, target_train, cat_features=cat_features, verbose=250)"
   ]
  },
  {
   "cell_type": "code",
   "execution_count": 65,
   "metadata": {},
   "outputs": [
    {
     "name": "stdout",
     "output_type": "stream",
     "text": [
      "Гиперпараметры {'depth': 10, 'iterations': 500}\n"
     ]
    }
   ],
   "source": [
    "print('Гиперпараметры', grid_catboost.best_params_)"
   ]
  },
  {
   "cell_type": "markdown",
   "metadata": {},
   "source": [
    "Таким образом мы выяснили, что наилучшей RMSE CatBoostRegressor обладает при **depth=10** и **iterations=500**. \\\n",
    "Измерим время её обучения:"
   ]
  },
  {
   "cell_type": "code",
   "execution_count": 67,
   "metadata": {},
   "outputs": [
    {
     "name": "stdout",
     "output_type": "stream",
     "text": [
      "Learning rate set to 0.163199\n",
      "0:\tlearn: 4058.3055317\ttotal: 316ms\tremaining: 2m 37s\n",
      "250:\tlearn: 1388.9300795\ttotal: 49.2s\tremaining: 48.8s\n",
      "499:\tlearn: 1282.1844966\ttotal: 1m 44s\tremaining: 0us\n",
      "CPU times: total: 12min 37s\n",
      "Wall time: 1min 46s\n"
     ]
    },
    {
     "data": {
      "text/plain": [
       "<catboost.core.CatBoostRegressor at 0x25d156dd690>"
      ]
     },
     "execution_count": 67,
     "metadata": {},
     "output_type": "execute_result"
    }
   ],
   "source": [
    "%%time\n",
    "\n",
    "best_catboost_model = CatBoostRegressor(random_state=12345, iterations=500, depth=10)\n",
    "\n",
    "best_catboost_model.fit(features_train, target_train, cat_features=cat_features, verbose=250)"
   ]
  },
  {
   "cell_type": "code",
   "execution_count": 69,
   "metadata": {},
   "outputs": [
    {
     "name": "stdout",
     "output_type": "stream",
     "text": [
      "RMSE CatBoostRegressor на валидационной выборке: 1532.74\n"
     ]
    }
   ],
   "source": [
    "pred_catboost = best_catboost_model.predict(features_valid)\n",
    "rmse_catboost = mean_squared_error(target_valid, pred_catboost, squared=False)\n",
    "print(f'RMSE CatBoostRegressor на валидационной выборке: {round(rmse_catboost, 2)}')"
   ]
  },
  {
   "cell_type": "markdown",
   "metadata": {},
   "source": [
    "Мы улучшили значение метрики качества предсказания почти на 400 единиц."
   ]
  },
  {
   "cell_type": "markdown",
   "metadata": {},
   "source": [
    "### Вывод\n",
    "\n",
    "Мы измерили временные затраты для каждой из 3-х моделей, а также нашли для всех них (кроме LinearRegression) наилучшие значения гиперпараметров. \\\n",
    "Теперь проанализиурем результаты."
   ]
  },
  {
   "cell_type": "markdown",
   "metadata": {},
   "source": [
    "## Анализ моделей"
   ]
  },
  {
   "cell_type": "markdown",
   "metadata": {},
   "source": [
    "### Сравнительная таблица"
   ]
  },
  {
   "cell_type": "markdown",
   "metadata": {},
   "source": [
    "Снова обратим внимание на критерии, которые в первую очередь важны заказчику:\n",
    "- время обучения модели\n",
    "- время предсказания модели\n",
    "- качество предсказания\n",
    "\n",
    "Для сравнение получившихся значений поместим их в один датасет."
   ]
  },
  {
   "cell_type": "code",
   "execution_count": 71,
   "metadata": {},
   "outputs": [],
   "source": [
    "results = [\n",
    "    ['32.7s', 2633.94], \n",
    "    ['5.59 s', 1861.06], \n",
    "    ['1min 46s', 1532.74]\n",
    "]\n",
    "models = ['LinearRegression', 'DecisionTreeRegressor', 'CatBoostRegressor']"
   ]
  },
  {
   "cell_type": "code",
   "execution_count": 72,
   "metadata": {},
   "outputs": [
    {
     "data": {
      "text/html": [
       "<div>\n",
       "<style scoped>\n",
       "    .dataframe tbody tr th:only-of-type {\n",
       "        vertical-align: middle;\n",
       "    }\n",
       "\n",
       "    .dataframe tbody tr th {\n",
       "        vertical-align: top;\n",
       "    }\n",
       "\n",
       "    .dataframe thead th {\n",
       "        text-align: right;\n",
       "    }\n",
       "</style>\n",
       "<table border=\"1\" class=\"dataframe\">\n",
       "  <thead>\n",
       "    <tr style=\"text-align: right;\">\n",
       "      <th></th>\n",
       "      <th>fit_time</th>\n",
       "      <th>RMSE</th>\n",
       "    </tr>\n",
       "  </thead>\n",
       "  <tbody>\n",
       "    <tr>\n",
       "      <th>LinearRegression</th>\n",
       "      <td>32.7s</td>\n",
       "      <td>2633.94</td>\n",
       "    </tr>\n",
       "    <tr>\n",
       "      <th>DecisionTreeRegressor</th>\n",
       "      <td>5.59 s</td>\n",
       "      <td>1861.06</td>\n",
       "    </tr>\n",
       "    <tr>\n",
       "      <th>CatBoostRegressor</th>\n",
       "      <td>1min 46s</td>\n",
       "      <td>1532.74</td>\n",
       "    </tr>\n",
       "  </tbody>\n",
       "</table>\n",
       "</div>"
      ],
      "text/plain": [
       "                       fit_time     RMSE\n",
       "LinearRegression          32.7s  2633.94\n",
       "DecisionTreeRegressor    5.59 s  1861.06\n",
       "CatBoostRegressor      1min 46s  1532.74"
      ]
     },
     "execution_count": 72,
     "metadata": {},
     "output_type": "execute_result"
    }
   ],
   "source": [
    "pd.DataFrame(data=results, index=models, columns=[\"fit_time\", \"RMSE\"])"
   ]
  },
  {
   "cell_type": "markdown",
   "metadata": {},
   "source": [
    "Исходя из этой таблицы, в качестве лучшей модели мы выберем **CatBoostRegressor**. Обосновать это решение можно тем, что у этой модели самое высокое качество предсказания при относительно небольшом времени обучения. Безусловно, быстрее всех обучается  **DecisionTreeRegressor**, однако точность у неё несколько хуже."
   ]
  },
  {
   "cell_type": "markdown",
   "metadata": {},
   "source": [
    "Проверим выбранную модель на тестовой выборке:"
   ]
  },
  {
   "cell_type": "code",
   "execution_count": 73,
   "metadata": {},
   "outputs": [
    {
     "name": "stdout",
     "output_type": "stream",
     "text": [
      "RMSE CatBoostRegressor на тестовой выборке: 1509.81\n"
     ]
    }
   ],
   "source": [
    "test_pred_catboost = best_catboost_model.predict(features_test)\n",
    "test_rmse_catboost = mean_squared_error(target_test, test_pred_catboost, squared=False)\n",
    "print(f'RMSE CatBoostRegressor на тестовой выборке: {round(test_rmse_catboost, 2)}')"
   ]
  },
  {
   "cell_type": "markdown",
   "metadata": {},
   "source": [
    "Также посмотрим на график важности признаков."
   ]
  },
  {
   "cell_type": "code",
   "execution_count": 76,
   "metadata": {},
   "outputs": [
    {
     "data": {
      "image/png": "[encoded data removed]",
      "text/plain": [
       "<Figure size 800x400 with 1 Axes>"
      ]
     },
     "metadata": {},
     "output_type": "display_data"
    }
   ],
   "source": [
    "feature_importance = best_catboost_model.feature_importances_\n",
    "sorted_idx = np.argsort(feature_importance)\n",
    "\n",
    "fig = plt.figure(figsize=(8, 4))\n",
    "plt.barh(range(len(sorted_idx)), feature_importance[sorted_idx], align='center')\n",
    "plt.yticks(range(len(sorted_idx)), np.array(features_test.columns)[sorted_idx])\n",
    "plt.title('Feature Importance')\n",
    "plt.grid(True)\n",
    "\n",
    "plt.show()"
   ]
  },
  {
   "cell_type": "markdown",
   "metadata": {},
   "source": [
    "### Вывод\n",
    "Мы составили сравнительную таблицу для регрессионных моделей, использованных в исследовании. Затем, основываясь на этих данных, выбрали лучшую модель (**CatBoostRegressor**) и вычислили RMSE это модели на тестовой выборке."
   ]
  },
  {
   "cell_type": "markdown",
   "metadata": {},
   "source": [
    "## Общий вывод\n",
    "\n",
    "Мы использовали данные о технических характеристиках и ценах автомобилей, чтобы помочь компании по продаже автомобилей с пробегом «Не бит, не крашен» разработать приложение с фукнцией расчёта стоимости амтомобиля. \\\n",
    "Для достижения этой цели было сделано следующее:\n",
    "1. Изучили датасет (рассмотрели значения в столбцах; разобрались с пропусками и аномалиями; удалили признаки, не влияющие на цену). Затем подготовили данные к обучению: закодировали категориальные столбцы техникой OrdinalEncoding и отмасштабировали их. Показали распределения признаков и их влияние друг на друга.\n",
    "2. Обучили модели (разделили данные на обучающую, валидационную и тестовую выборки; замерили время обучения, предсказания и качество 3-х моделей: линейной регрессии, дерева решений и градиентного бустинга из библиотеки *Catboost*)\n",
    "3. Сравнили полученные значения и выбрали лучшую модель (**CatBoostRegressor**), проверив её на тестовых данных. Показали важность признаков.\n",
    "\n",
    "В итоге, критериям заказчика лучше всего соответствует предпоследняя рассмотренная модель с гиперпараметрами depth=10, iterations=500. Она имеет высокую точность (**1532.74**-на валидационной и **1509.81**-на тестовой выборках) и относительно небольшое время обучения (**1min 46s**). "
   ]
  }
 ],
 "metadata": {
  "ExecuteTimeLog": [
   {
    "duration": 1299,
    "start_time": "2023-05-30T21:51:37.409Z"
   },
   {
    "duration": 1351,
    "start_time": "2023-05-30T21:51:38.710Z"
   },
   {
    "duration": 135,
    "start_time": "2023-05-30T21:51:40.068Z"
   },
   {
    "duration": 23,
    "start_time": "2023-05-30T21:51:53.618Z"
   },
   {
    "duration": 125,
    "start_time": "2023-05-30T21:58:11.731Z"
   },
   {
    "duration": 523,
    "start_time": "2023-05-30T21:59:57.839Z"
   },
   {
    "duration": 537,
    "start_time": "2023-05-30T22:00:55.330Z"
   },
   {
    "duration": 484,
    "start_time": "2023-05-30T22:00:59.067Z"
   },
   {
    "duration": 1017,
    "start_time": "2023-05-30T22:01:03.904Z"
   },
   {
    "duration": 656,
    "start_time": "2023-05-30T22:04:46.487Z"
   },
   {
    "duration": 1103,
    "start_time": "2023-05-31T12:06:23.585Z"
   },
   {
    "duration": 1081,
    "start_time": "2023-05-31T12:06:24.690Z"
   },
   {
    "duration": 136,
    "start_time": "2023-05-31T12:06:25.773Z"
   },
   {
    "duration": 32,
    "start_time": "2023-05-31T12:06:25.911Z"
   },
   {
    "duration": 728,
    "start_time": "2023-05-31T12:06:25.945Z"
   },
   {
    "duration": 515,
    "start_time": "2023-05-31T12:06:26.675Z"
   },
   {
    "duration": 964,
    "start_time": "2023-05-31T12:06:27.192Z"
   },
   {
    "duration": 24,
    "start_time": "2023-05-31T12:45:56.799Z"
   },
   {
    "duration": 23,
    "start_time": "2023-05-31T12:46:11.757Z"
   },
   {
    "duration": 34,
    "start_time": "2023-05-31T12:48:32.817Z"
   },
   {
    "duration": 32,
    "start_time": "2023-05-31T12:56:19.319Z"
   },
   {
    "duration": 34,
    "start_time": "2023-05-31T12:56:32.242Z"
   },
   {
    "duration": 133,
    "start_time": "2023-05-31T13:12:42.291Z"
   },
   {
    "duration": 114,
    "start_time": "2023-05-31T13:14:17.947Z"
   },
   {
    "duration": 251,
    "start_time": "2023-05-31T13:14:43.935Z"
   },
   {
    "duration": 157,
    "start_time": "2023-05-31T13:40:36.989Z"
   },
   {
    "duration": 2,
    "start_time": "2023-05-31T13:57:38.034Z"
   },
   {
    "duration": 12,
    "start_time": "2023-05-31T13:58:47.673Z"
   },
   {
    "duration": 6,
    "start_time": "2023-05-31T13:58:54.293Z"
   },
   {
    "duration": 14,
    "start_time": "2023-05-31T13:59:33.294Z"
   },
   {
    "duration": 54,
    "start_time": "2023-05-31T13:59:37.802Z"
   },
   {
    "duration": 150,
    "start_time": "2023-05-31T14:02:27.407Z"
   },
   {
    "duration": 291,
    "start_time": "2023-05-31T14:11:43.890Z"
   },
   {
    "duration": 188,
    "start_time": "2023-05-31T14:12:14.132Z"
   },
   {
    "duration": 225,
    "start_time": "2023-05-31T14:12:56.967Z"
   },
   {
    "duration": 12,
    "start_time": "2023-05-31T14:23:32.555Z"
   },
   {
    "duration": 18,
    "start_time": "2023-05-31T14:23:41.308Z"
   },
   {
    "duration": 96,
    "start_time": "2023-05-31T14:26:57.825Z"
   },
   {
    "duration": 112,
    "start_time": "2023-05-31T14:27:11.723Z"
   },
   {
    "duration": 248,
    "start_time": "2023-05-31T14:27:24.235Z"
   },
   {
    "duration": 152,
    "start_time": "2023-05-31T14:27:39.218Z"
   },
   {
    "duration": 4,
    "start_time": "2023-05-31T14:28:05.822Z"
   },
   {
    "duration": 10,
    "start_time": "2023-05-31T14:28:58.897Z"
   },
   {
    "duration": 4,
    "start_time": "2023-05-31T14:30:09.850Z"
   },
   {
    "duration": 79,
    "start_time": "2023-05-31T14:30:24.671Z"
   },
   {
    "duration": 1422,
    "start_time": "2023-06-13T20:10:20.068Z"
   },
   {
    "duration": 2174,
    "start_time": "2023-06-13T20:10:21.504Z"
   },
   {
    "duration": 168,
    "start_time": "2023-06-13T20:10:23.680Z"
   },
   {
    "duration": 23,
    "start_time": "2023-06-13T20:10:23.852Z"
   },
   {
    "duration": 1065,
    "start_time": "2023-06-13T20:10:23.877Z"
   },
   {
    "duration": 151,
    "start_time": "2023-06-13T20:10:24.943Z"
   },
   {
    "duration": 7,
    "start_time": "2023-06-13T20:10:25.095Z"
   },
   {
    "duration": 212,
    "start_time": "2023-06-13T20:10:25.103Z"
   },
   {
    "duration": 59,
    "start_time": "2023-06-13T20:10:25.318Z"
   },
   {
    "duration": 188,
    "start_time": "2023-06-13T20:10:25.380Z"
   },
   {
    "duration": 568,
    "start_time": "2023-06-13T20:10:25.569Z"
   },
   {
    "duration": 1146,
    "start_time": "2023-06-13T20:10:26.151Z"
   },
   {
    "duration": 484,
    "start_time": "2023-06-13T20:44:35.039Z"
   },
   {
    "duration": 370,
    "start_time": "2023-06-13T20:44:39.058Z"
   },
   {
    "duration": 245,
    "start_time": "2023-06-13T20:45:00.068Z"
   },
   {
    "duration": 692,
    "start_time": "2023-06-13T20:46:49.354Z"
   },
   {
    "duration": 427,
    "start_time": "2023-06-13T20:46:57.707Z"
   },
   {
    "duration": 237,
    "start_time": "2023-06-13T20:58:50.012Z"
   },
   {
    "duration": 203,
    "start_time": "2023-06-13T21:03:19.901Z"
   },
   {
    "duration": 37,
    "start_time": "2023-06-13T21:05:40.601Z"
   },
   {
    "duration": 220,
    "start_time": "2023-06-13T21:05:44.658Z"
   },
   {
    "duration": 139,
    "start_time": "2023-06-13T21:05:50.921Z"
   },
   {
    "duration": 186,
    "start_time": "2023-06-13T21:05:54.671Z"
   },
   {
    "duration": 3,
    "start_time": "2023-06-13T21:06:04.238Z"
   },
   {
    "duration": 1087,
    "start_time": "2023-06-13T21:06:04.244Z"
   },
   {
    "duration": 181,
    "start_time": "2023-06-13T21:06:05.333Z"
   },
   {
    "duration": 23,
    "start_time": "2023-06-13T21:06:05.515Z"
   },
   {
    "duration": 465,
    "start_time": "2023-06-13T21:06:05.546Z"
   },
   {
    "duration": 163,
    "start_time": "2023-06-13T21:06:06.016Z"
   },
   {
    "duration": 309,
    "start_time": "2023-06-13T21:06:06.185Z"
   },
   {
    "duration": 0,
    "start_time": "2023-06-13T21:06:06.500Z"
   },
   {
    "duration": 0,
    "start_time": "2023-06-13T21:06:06.507Z"
   },
   {
    "duration": 0,
    "start_time": "2023-06-13T21:06:06.512Z"
   },
   {
    "duration": 193,
    "start_time": "2023-06-13T21:06:33.239Z"
   },
   {
    "duration": 3,
    "start_time": "2023-06-13T21:06:58.952Z"
   },
   {
    "duration": 1210,
    "start_time": "2023-06-13T21:06:58.956Z"
   },
   {
    "duration": 203,
    "start_time": "2023-06-13T21:07:00.171Z"
   },
   {
    "duration": 20,
    "start_time": "2023-06-13T21:07:00.377Z"
   },
   {
    "duration": 614,
    "start_time": "2023-06-13T21:07:00.399Z"
   },
   {
    "duration": 211,
    "start_time": "2023-06-13T21:07:01.018Z"
   },
   {
    "duration": 234,
    "start_time": "2023-06-13T21:07:01.234Z"
   },
   {
    "duration": 0,
    "start_time": "2023-06-13T21:07:01.473Z"
   },
   {
    "duration": 0,
    "start_time": "2023-06-13T21:07:01.475Z"
   },
   {
    "duration": 0,
    "start_time": "2023-06-13T21:07:01.476Z"
   },
   {
    "duration": 205,
    "start_time": "2023-06-13T21:08:05.570Z"
   },
   {
    "duration": 139,
    "start_time": "2023-06-13T21:08:20.142Z"
   },
   {
    "duration": 7,
    "start_time": "2023-06-13T21:08:31.436Z"
   },
   {
    "duration": 958,
    "start_time": "2023-06-13T21:08:31.445Z"
   },
   {
    "duration": 157,
    "start_time": "2023-06-13T21:08:32.405Z"
   },
   {
    "duration": 11,
    "start_time": "2023-06-13T21:08:32.564Z"
   },
   {
    "duration": 335,
    "start_time": "2023-06-13T21:08:32.577Z"
   },
   {
    "duration": 137,
    "start_time": "2023-06-13T21:08:32.914Z"
   },
   {
    "duration": 0,
    "start_time": "2023-06-13T21:08:33.052Z"
   },
   {
    "duration": 0,
    "start_time": "2023-06-13T21:08:33.053Z"
   },
   {
    "duration": 0,
    "start_time": "2023-06-13T21:08:33.054Z"
   },
   {
    "duration": 0,
    "start_time": "2023-06-13T21:08:33.055Z"
   },
   {
    "duration": 136,
    "start_time": "2023-06-13T21:08:44.259Z"
   },
   {
    "duration": 37,
    "start_time": "2023-06-13T21:09:12.411Z"
   },
   {
    "duration": 241,
    "start_time": "2023-06-13T21:10:09.816Z"
   },
   {
    "duration": 267,
    "start_time": "2023-06-13T21:10:15.527Z"
   },
   {
    "duration": 594,
    "start_time": "2023-06-13T21:11:06.619Z"
   },
   {
    "duration": 346,
    "start_time": "2023-06-13T21:11:09.233Z"
   },
   {
    "duration": 332,
    "start_time": "2023-06-13T21:11:13.773Z"
   },
   {
    "duration": 386,
    "start_time": "2023-06-13T21:11:30.112Z"
   },
   {
    "duration": 259,
    "start_time": "2023-06-13T21:11:38.465Z"
   },
   {
    "duration": 309,
    "start_time": "2023-06-13T21:12:26.733Z"
   },
   {
    "duration": 16,
    "start_time": "2023-06-13T21:13:12.664Z"
   },
   {
    "duration": 229,
    "start_time": "2023-06-13T21:13:22.940Z"
   },
   {
    "duration": 28,
    "start_time": "2023-06-13T21:13:25.344Z"
   },
   {
    "duration": 18,
    "start_time": "2023-06-13T21:18:52.049Z"
   },
   {
    "duration": 40,
    "start_time": "2023-06-13T21:26:29.010Z"
   },
   {
    "duration": 2,
    "start_time": "2023-06-13T21:27:42.299Z"
   },
   {
    "duration": 34,
    "start_time": "2023-06-13T21:27:44.539Z"
   },
   {
    "duration": 132,
    "start_time": "2023-06-13T21:32:01.213Z"
   },
   {
    "duration": 4,
    "start_time": "2023-06-13T21:35:41.652Z"
   },
   {
    "duration": 1104,
    "start_time": "2023-06-13T21:35:41.658Z"
   },
   {
    "duration": 204,
    "start_time": "2023-06-13T21:35:42.764Z"
   },
   {
    "duration": 39,
    "start_time": "2023-06-13T21:35:42.970Z"
   },
   {
    "duration": 389,
    "start_time": "2023-06-13T21:35:43.014Z"
   },
   {
    "duration": 42,
    "start_time": "2023-06-13T21:35:43.404Z"
   },
   {
    "duration": 46,
    "start_time": "2023-06-13T21:35:43.448Z"
   },
   {
    "duration": 116,
    "start_time": "2023-06-13T21:35:43.496Z"
   },
   {
    "duration": 3,
    "start_time": "2023-06-13T21:35:43.614Z"
   },
   {
    "duration": 192,
    "start_time": "2023-06-13T21:35:43.619Z"
   },
   {
    "duration": 569,
    "start_time": "2023-06-13T21:35:43.813Z"
   },
   {
    "duration": 1019,
    "start_time": "2023-06-13T21:35:44.384Z"
   },
   {
    "duration": 145,
    "start_time": "2023-06-13T21:36:20.226Z"
   },
   {
    "duration": 152,
    "start_time": "2023-06-13T21:36:28.010Z"
   },
   {
    "duration": 136,
    "start_time": "2023-06-13T21:36:32.710Z"
   },
   {
    "duration": 4,
    "start_time": "2023-06-13T21:38:35.713Z"
   },
   {
    "duration": 310,
    "start_time": "2023-06-13T21:38:38.048Z"
   },
   {
    "duration": 6,
    "start_time": "2023-06-14T11:05:40.416Z"
   },
   {
    "duration": 4553,
    "start_time": "2023-06-14T11:05:40.424Z"
   },
   {
    "duration": 235,
    "start_time": "2023-06-14T11:05:44.983Z"
   },
   {
    "duration": 198,
    "start_time": "2023-06-14T11:05:45.220Z"
   },
   {
    "duration": 544,
    "start_time": "2023-06-14T11:05:45.430Z"
   },
   {
    "duration": 53,
    "start_time": "2023-06-14T11:05:45.977Z"
   },
   {
    "duration": 245,
    "start_time": "2023-06-14T11:05:46.031Z"
   },
   {
    "duration": 246,
    "start_time": "2023-06-14T11:05:46.278Z"
   },
   {
    "duration": 203,
    "start_time": "2023-06-14T11:05:46.531Z"
   },
   {
    "duration": 637,
    "start_time": "2023-06-14T11:05:46.735Z"
   },
   {
    "duration": 1024,
    "start_time": "2023-06-14T11:05:47.374Z"
   },
   {
    "duration": 6,
    "start_time": "2023-06-14T11:05:48.403Z"
   },
   {
    "duration": 592,
    "start_time": "2023-06-14T11:05:48.414Z"
   },
   {
    "duration": 11,
    "start_time": "2023-06-14T11:07:06.499Z"
   },
   {
    "duration": 470,
    "start_time": "2023-06-14T11:07:07.307Z"
   },
   {
    "duration": 210,
    "start_time": "2023-06-14T11:25:47.763Z"
   },
   {
    "duration": 20,
    "start_time": "2023-06-14T11:26:28.515Z"
   },
   {
    "duration": 10,
    "start_time": "2023-06-14T11:26:43.659Z"
   },
   {
    "duration": 9,
    "start_time": "2023-06-14T11:26:48.339Z"
   },
   {
    "duration": 7,
    "start_time": "2023-06-14T11:26:50.807Z"
   },
   {
    "duration": 37,
    "start_time": "2023-06-14T11:26:52.303Z"
   },
   {
    "duration": 247,
    "start_time": "2023-06-14T11:27:05.831Z"
   },
   {
    "duration": 265,
    "start_time": "2023-06-14T11:27:08.811Z"
   },
   {
    "duration": 16,
    "start_time": "2023-06-14T11:30:14.226Z"
   },
   {
    "duration": 25,
    "start_time": "2023-06-14T11:31:01.813Z"
   },
   {
    "duration": 20,
    "start_time": "2023-06-14T11:31:19.274Z"
   },
   {
    "duration": 23,
    "start_time": "2023-06-14T11:31:26.335Z"
   },
   {
    "duration": 205,
    "start_time": "2023-06-14T11:32:03.943Z"
   },
   {
    "duration": 214,
    "start_time": "2023-06-14T11:32:11.424Z"
   },
   {
    "duration": 151,
    "start_time": "2023-06-14T11:32:22.327Z"
   },
   {
    "duration": 172,
    "start_time": "2023-06-14T11:32:27.268Z"
   },
   {
    "duration": 154,
    "start_time": "2023-06-14T11:32:46.764Z"
   },
   {
    "duration": 50,
    "start_time": "2023-06-14T11:32:54.601Z"
   },
   {
    "duration": 183,
    "start_time": "2023-06-14T11:33:11.081Z"
   },
   {
    "duration": 161,
    "start_time": "2023-06-14T11:33:19.615Z"
   },
   {
    "duration": 180,
    "start_time": "2023-06-14T11:33:30.678Z"
   },
   {
    "duration": 220,
    "start_time": "2023-06-14T11:33:45.810Z"
   },
   {
    "duration": 196,
    "start_time": "2023-06-14T11:34:04.832Z"
   },
   {
    "duration": 197,
    "start_time": "2023-06-14T11:34:23.809Z"
   },
   {
    "duration": 235,
    "start_time": "2023-06-14T11:34:35.115Z"
   },
   {
    "duration": 277,
    "start_time": "2023-06-14T11:34:45.960Z"
   },
   {
    "duration": 196,
    "start_time": "2023-06-14T11:37:13.879Z"
   },
   {
    "duration": 205,
    "start_time": "2023-06-14T11:37:16.963Z"
   },
   {
    "duration": 179,
    "start_time": "2023-06-14T11:37:29.235Z"
   },
   {
    "duration": 181,
    "start_time": "2023-06-14T11:37:38.343Z"
   },
   {
    "duration": 37,
    "start_time": "2023-06-14T11:39:57.183Z"
   },
   {
    "duration": 5,
    "start_time": "2023-06-14T11:40:09.615Z"
   },
   {
    "duration": 4,
    "start_time": "2023-06-14T11:40:14.678Z"
   },
   {
    "duration": 31,
    "start_time": "2023-06-14T11:40:30.346Z"
   },
   {
    "duration": 38,
    "start_time": "2023-06-14T11:40:37.680Z"
   },
   {
    "duration": 14,
    "start_time": "2023-06-14T11:41:25.912Z"
   },
   {
    "duration": 9,
    "start_time": "2023-06-14T11:52:48.144Z"
   },
   {
    "duration": 5,
    "start_time": "2023-06-14T11:53:21.519Z"
   },
   {
    "duration": 2,
    "start_time": "2023-06-14T11:53:26.612Z"
   },
   {
    "duration": 823,
    "start_time": "2023-06-14T11:53:26.616Z"
   },
   {
    "duration": 139,
    "start_time": "2023-06-14T11:53:27.441Z"
   },
   {
    "duration": 22,
    "start_time": "2023-06-14T11:53:27.582Z"
   },
   {
    "duration": 311,
    "start_time": "2023-06-14T11:53:27.606Z"
   },
   {
    "duration": 25,
    "start_time": "2023-06-14T11:53:27.918Z"
   },
   {
    "duration": 40,
    "start_time": "2023-06-14T11:53:27.945Z"
   },
   {
    "duration": 109,
    "start_time": "2023-06-14T11:53:27.987Z"
   },
   {
    "duration": 140,
    "start_time": "2023-06-14T11:53:28.099Z"
   },
   {
    "duration": 412,
    "start_time": "2023-06-14T11:53:28.241Z"
   },
   {
    "duration": 769,
    "start_time": "2023-06-14T11:53:28.655Z"
   },
   {
    "duration": 3,
    "start_time": "2023-06-14T11:53:29.425Z"
   },
   {
    "duration": 318,
    "start_time": "2023-06-14T11:53:29.430Z"
   },
   {
    "duration": 189,
    "start_time": "2023-06-14T11:53:29.750Z"
   },
   {
    "duration": 8,
    "start_time": "2023-06-14T11:53:29.940Z"
   },
   {
    "duration": 77,
    "start_time": "2023-06-14T11:53:29.949Z"
   },
   {
    "duration": 53,
    "start_time": "2023-06-14T11:53:30.036Z"
   },
   {
    "duration": 28,
    "start_time": "2023-06-14T11:53:30.090Z"
   },
   {
    "duration": 165,
    "start_time": "2023-06-14T11:54:27.662Z"
   },
   {
    "duration": 157,
    "start_time": "2023-06-14T11:54:38.141Z"
   },
   {
    "duration": 170,
    "start_time": "2023-06-14T11:54:46.000Z"
   },
   {
    "duration": 137,
    "start_time": "2023-06-14T11:54:56.372Z"
   },
   {
    "duration": 123,
    "start_time": "2023-06-14T11:55:20.631Z"
   },
   {
    "duration": 12,
    "start_time": "2023-06-14T11:55:37.503Z"
   },
   {
    "duration": 25,
    "start_time": "2023-06-14T11:56:03.235Z"
   },
   {
    "duration": 32,
    "start_time": "2023-06-14T11:56:18.920Z"
   },
   {
    "duration": 127,
    "start_time": "2023-06-14T11:56:27.741Z"
   },
   {
    "duration": 9,
    "start_time": "2023-06-14T11:56:31.301Z"
   },
   {
    "duration": 3,
    "start_time": "2023-06-14T12:43:01.431Z"
   },
   {
    "duration": 1131,
    "start_time": "2023-06-14T12:43:01.435Z"
   },
   {
    "duration": 247,
    "start_time": "2023-06-14T12:43:02.567Z"
   },
   {
    "duration": 135,
    "start_time": "2023-06-14T12:43:02.831Z"
   },
   {
    "duration": 847,
    "start_time": "2023-06-14T12:43:02.968Z"
   },
   {
    "duration": 31,
    "start_time": "2023-06-14T12:43:03.819Z"
   },
   {
    "duration": 211,
    "start_time": "2023-06-14T12:43:03.851Z"
   },
   {
    "duration": 166,
    "start_time": "2023-06-14T12:43:04.064Z"
   },
   {
    "duration": 186,
    "start_time": "2023-06-14T12:43:04.232Z"
   },
   {
    "duration": 556,
    "start_time": "2023-06-14T12:43:04.422Z"
   },
   {
    "duration": 1017,
    "start_time": "2023-06-14T12:43:04.980Z"
   },
   {
    "duration": 4,
    "start_time": "2023-06-14T12:43:05.999Z"
   },
   {
    "duration": 618,
    "start_time": "2023-06-14T12:43:06.004Z"
   },
   {
    "duration": 221,
    "start_time": "2023-06-14T12:43:06.624Z"
   },
   {
    "duration": 31,
    "start_time": "2023-06-14T12:43:06.847Z"
   },
   {
    "duration": 182,
    "start_time": "2023-06-14T12:43:06.880Z"
   },
   {
    "duration": 57,
    "start_time": "2023-06-14T12:43:07.065Z"
   },
   {
    "duration": 226,
    "start_time": "2023-06-14T12:43:07.124Z"
   },
   {
    "duration": 47,
    "start_time": "2023-06-14T12:44:05.630Z"
   },
   {
    "duration": 49,
    "start_time": "2023-06-14T12:45:09.657Z"
   },
   {
    "duration": 51,
    "start_time": "2023-06-14T12:45:22.810Z"
   },
   {
    "duration": 46,
    "start_time": "2023-06-14T12:45:27.317Z"
   },
   {
    "duration": 54,
    "start_time": "2023-06-14T12:45:30.768Z"
   },
   {
    "duration": 45,
    "start_time": "2023-06-14T12:45:40.809Z"
   },
   {
    "duration": 45,
    "start_time": "2023-06-14T12:45:51.507Z"
   },
   {
    "duration": 26,
    "start_time": "2023-06-14T12:45:54.347Z"
   },
   {
    "duration": 9,
    "start_time": "2023-06-14T12:49:07.346Z"
   },
   {
    "duration": 630,
    "start_time": "2023-06-14T12:49:53.130Z"
   },
   {
    "duration": 35,
    "start_time": "2023-06-14T12:49:59.244Z"
   },
   {
    "duration": 54,
    "start_time": "2023-06-14T12:50:06.664Z"
   },
   {
    "duration": 40,
    "start_time": "2023-06-14T12:50:26.040Z"
   },
   {
    "duration": 21,
    "start_time": "2023-06-14T14:04:50.742Z"
   },
   {
    "duration": 129,
    "start_time": "2023-06-14T14:06:36.604Z"
   },
   {
    "duration": 49,
    "start_time": "2023-06-14T14:06:59.199Z"
   },
   {
    "duration": 66,
    "start_time": "2023-06-14T14:07:41.276Z"
   },
   {
    "duration": 2463,
    "start_time": "2023-06-14T14:08:48.701Z"
   },
   {
    "duration": 2601,
    "start_time": "2023-06-14T14:09:13.535Z"
   },
   {
    "duration": 2,
    "start_time": "2023-06-14T14:09:25.610Z"
   },
   {
    "duration": 47,
    "start_time": "2023-06-14T14:09:52.373Z"
   },
   {
    "duration": 3,
    "start_time": "2023-06-14T14:09:54.280Z"
   },
   {
    "duration": 928,
    "start_time": "2023-06-14T14:09:54.285Z"
   },
   {
    "duration": 134,
    "start_time": "2023-06-14T14:09:55.214Z"
   },
   {
    "duration": 28,
    "start_time": "2023-06-14T14:09:55.350Z"
   },
   {
    "duration": 298,
    "start_time": "2023-06-14T14:09:55.379Z"
   },
   {
    "duration": 22,
    "start_time": "2023-06-14T14:09:55.678Z"
   },
   {
    "duration": 64,
    "start_time": "2023-06-14T14:09:55.702Z"
   },
   {
    "duration": 105,
    "start_time": "2023-06-14T14:09:55.767Z"
   },
   {
    "duration": 149,
    "start_time": "2023-06-14T14:09:55.873Z"
   },
   {
    "duration": 485,
    "start_time": "2023-06-14T14:09:56.024Z"
   },
   {
    "duration": 768,
    "start_time": "2023-06-14T14:09:56.511Z"
   },
   {
    "duration": 3,
    "start_time": "2023-06-14T14:09:57.280Z"
   },
   {
    "duration": 362,
    "start_time": "2023-06-14T14:09:57.284Z"
   },
   {
    "duration": 172,
    "start_time": "2023-06-14T14:09:57.648Z"
   },
   {
    "duration": 8,
    "start_time": "2023-06-14T14:09:57.821Z"
   },
   {
    "duration": 44,
    "start_time": "2023-06-14T14:09:57.831Z"
   },
   {
    "duration": 2,
    "start_time": "2023-06-14T14:09:57.877Z"
   },
   {
    "duration": 5414,
    "start_time": "2023-06-14T14:09:57.880Z"
   },
   {
    "duration": 40,
    "start_time": "2023-06-14T14:10:03.296Z"
   },
   {
    "duration": 75,
    "start_time": "2023-06-14T14:10:25.089Z"
   },
   {
    "duration": 3,
    "start_time": "2023-06-14T14:10:29.308Z"
   },
   {
    "duration": 974,
    "start_time": "2023-06-14T14:10:29.321Z"
   },
   {
    "duration": 177,
    "start_time": "2023-06-14T14:10:30.297Z"
   },
   {
    "duration": 21,
    "start_time": "2023-06-14T14:10:30.476Z"
   },
   {
    "duration": 424,
    "start_time": "2023-06-14T14:10:30.498Z"
   },
   {
    "duration": 21,
    "start_time": "2023-06-14T14:10:30.934Z"
   },
   {
    "duration": 221,
    "start_time": "2023-06-14T14:10:30.957Z"
   },
   {
    "duration": 195,
    "start_time": "2023-06-14T14:10:31.180Z"
   },
   {
    "duration": 143,
    "start_time": "2023-06-14T14:10:31.377Z"
   },
   {
    "duration": 501,
    "start_time": "2023-06-14T14:10:31.522Z"
   },
   {
    "duration": 921,
    "start_time": "2023-06-14T14:10:32.025Z"
   },
   {
    "duration": 5,
    "start_time": "2023-06-14T14:10:32.955Z"
   },
   {
    "duration": 385,
    "start_time": "2023-06-14T14:10:32.962Z"
   },
   {
    "duration": 192,
    "start_time": "2023-06-14T14:10:33.348Z"
   },
   {
    "duration": 13,
    "start_time": "2023-06-14T14:10:33.543Z"
   },
   {
    "duration": 67,
    "start_time": "2023-06-14T14:10:33.557Z"
   },
   {
    "duration": 2,
    "start_time": "2023-06-14T14:10:33.630Z"
   },
   {
    "duration": 2514,
    "start_time": "2023-06-14T14:10:33.634Z"
   },
   {
    "duration": 1,
    "start_time": "2023-06-14T14:10:36.149Z"
   },
   {
    "duration": 39,
    "start_time": "2023-06-14T14:10:49.120Z"
   },
   {
    "duration": 63,
    "start_time": "2023-06-14T14:11:40.781Z"
   },
   {
    "duration": 22,
    "start_time": "2023-06-14T14:14:02.210Z"
   },
   {
    "duration": 20,
    "start_time": "2023-06-14T14:14:09.681Z"
   },
   {
    "duration": 625,
    "start_time": "2023-06-14T14:14:25.368Z"
   },
   {
    "duration": 348,
    "start_time": "2023-06-14T14:14:36.011Z"
   },
   {
    "duration": 146,
    "start_time": "2023-06-14T14:14:50.508Z"
   },
   {
    "duration": 132,
    "start_time": "2023-06-14T14:14:54.009Z"
   },
   {
    "duration": 10,
    "start_time": "2023-06-14T14:15:03.043Z"
   },
   {
    "duration": 60,
    "start_time": "2023-06-14T14:17:09.236Z"
   },
   {
    "duration": 3100,
    "start_time": "2023-06-14T14:18:19.176Z"
   },
   {
    "duration": 47670,
    "start_time": "2023-06-14T14:21:08.583Z"
   },
   {
    "duration": 11004,
    "start_time": "2023-06-14T14:23:23.573Z"
   },
   {
    "duration": 44515,
    "start_time": "2023-06-14T14:23:43.471Z"
   },
   {
    "duration": 4864,
    "start_time": "2023-06-14T14:27:53.112Z"
   },
   {
    "duration": 5263,
    "start_time": "2023-06-14T14:29:00.535Z"
   },
   {
    "duration": 20,
    "start_time": "2023-06-14T14:32:03.411Z"
   },
   {
    "duration": 8110,
    "start_time": "2023-06-14T14:35:40.072Z"
   },
   {
    "duration": 26,
    "start_time": "2023-06-14T14:36:26.445Z"
   },
   {
    "duration": 0,
    "start_time": "2023-06-14T19:16:56.962Z"
   },
   {
    "duration": 4318,
    "start_time": "2023-06-14T19:17:05.734Z"
   },
   {
    "duration": 1377,
    "start_time": "2023-06-14T19:17:11.711Z"
   },
   {
    "duration": 26,
    "start_time": "2023-06-14T19:18:20.254Z"
   },
   {
    "duration": 1318,
    "start_time": "2023-06-14T19:18:35.363Z"
   },
   {
    "duration": 16,
    "start_time": "2023-06-14T19:19:30.325Z"
   },
   {
    "duration": 20,
    "start_time": "2023-06-14T19:19:37.311Z"
   },
   {
    "duration": 55,
    "start_time": "2023-06-14T19:20:51.213Z"
   },
   {
    "duration": 16,
    "start_time": "2023-06-14T19:20:52.548Z"
   },
   {
    "duration": 2,
    "start_time": "2023-06-14T19:20:57.519Z"
   },
   {
    "duration": 17,
    "start_time": "2023-06-14T19:21:01.242Z"
   },
   {
    "duration": 7,
    "start_time": "2023-06-14T19:21:02.578Z"
   },
   {
    "duration": 2,
    "start_time": "2023-06-14T19:21:07.522Z"
   },
   {
    "duration": 1287,
    "start_time": "2023-06-14T19:21:07.527Z"
   },
   {
    "duration": 109,
    "start_time": "2023-06-14T19:21:08.816Z"
   },
   {
    "duration": 18,
    "start_time": "2023-06-14T19:21:08.926Z"
   },
   {
    "duration": 212,
    "start_time": "2023-06-14T19:21:08.946Z"
   },
   {
    "duration": 16,
    "start_time": "2023-06-14T19:21:09.159Z"
   },
   {
    "duration": 48,
    "start_time": "2023-06-14T19:21:09.176Z"
   },
   {
    "duration": 142,
    "start_time": "2023-06-14T19:21:09.226Z"
   },
   {
    "duration": 102,
    "start_time": "2023-06-14T19:21:09.369Z"
   },
   {
    "duration": 317,
    "start_time": "2023-06-14T19:21:09.473Z"
   },
   {
    "duration": 664,
    "start_time": "2023-06-14T19:21:09.792Z"
   },
   {
    "duration": 2,
    "start_time": "2023-06-14T19:21:10.458Z"
   },
   {
    "duration": 258,
    "start_time": "2023-06-14T19:21:10.462Z"
   },
   {
    "duration": 139,
    "start_time": "2023-06-14T19:21:10.723Z"
   },
   {
    "duration": 7,
    "start_time": "2023-06-14T19:21:10.864Z"
   },
   {
    "duration": 86,
    "start_time": "2023-06-14T19:21:10.872Z"
   },
   {
    "duration": 2,
    "start_time": "2023-06-14T19:21:10.959Z"
   },
   {
    "duration": 20,
    "start_time": "2023-06-14T19:21:10.963Z"
   },
   {
    "duration": 6,
    "start_time": "2023-06-14T19:21:10.985Z"
   },
   {
    "duration": 3726,
    "start_time": "2023-06-14T19:21:10.993Z"
   },
   {
    "duration": 24,
    "start_time": "2023-06-14T19:21:14.720Z"
   },
   {
    "duration": 1800,
    "start_time": "2023-06-14T19:21:14.745Z"
   },
   {
    "duration": 0,
    "start_time": "2023-06-14T19:21:16.546Z"
   },
   {
    "duration": 0,
    "start_time": "2023-06-14T19:21:16.548Z"
   },
   {
    "duration": 2,
    "start_time": "2023-06-14T19:21:28.326Z"
   },
   {
    "duration": 1938,
    "start_time": "2023-06-14T19:21:36.732Z"
   },
   {
    "duration": 2651,
    "start_time": "2023-06-14T19:21:44.368Z"
   },
   {
    "duration": 3601,
    "start_time": "2023-06-14T19:22:25.232Z"
   },
   {
    "duration": 3628,
    "start_time": "2023-06-14T19:23:57.415Z"
   },
   {
    "duration": 3,
    "start_time": "2023-06-14T19:24:40.948Z"
   },
   {
    "duration": 2063,
    "start_time": "2023-06-14T19:25:45.540Z"
   },
   {
    "duration": 24,
    "start_time": "2023-06-14T19:26:08.016Z"
   },
   {
    "duration": 20,
    "start_time": "2023-06-14T19:26:22.198Z"
   },
   {
    "duration": 4,
    "start_time": "2023-06-14T19:27:42.014Z"
   },
   {
    "duration": 83,
    "start_time": "2023-06-14T19:28:27.536Z"
   },
   {
    "duration": 3,
    "start_time": "2023-06-14T19:28:41.623Z"
   },
   {
    "duration": 1971,
    "start_time": "2023-06-14T19:31:49.318Z"
   },
   {
    "duration": 3,
    "start_time": "2023-06-14T19:32:00.660Z"
   },
   {
    "duration": 1747,
    "start_time": "2023-06-14T19:32:00.665Z"
   },
   {
    "duration": 179,
    "start_time": "2023-06-14T19:32:02.414Z"
   },
   {
    "duration": 45,
    "start_time": "2023-06-14T19:32:02.595Z"
   },
   {
    "duration": 279,
    "start_time": "2023-06-14T19:32:02.642Z"
   },
   {
    "duration": 16,
    "start_time": "2023-06-14T19:32:02.922Z"
   },
   {
    "duration": 49,
    "start_time": "2023-06-14T19:32:02.940Z"
   },
   {
    "duration": 249,
    "start_time": "2023-06-14T19:32:02.991Z"
   },
   {
    "duration": 103,
    "start_time": "2023-06-14T19:32:03.244Z"
   },
   {
    "duration": 492,
    "start_time": "2023-06-14T19:32:03.348Z"
   },
   {
    "duration": 813,
    "start_time": "2023-06-14T19:32:03.842Z"
   },
   {
    "duration": 4,
    "start_time": "2023-06-14T19:32:04.657Z"
   },
   {
    "duration": 265,
    "start_time": "2023-06-14T19:32:04.663Z"
   },
   {
    "duration": 216,
    "start_time": "2023-06-14T19:32:04.930Z"
   },
   {
    "duration": 7,
    "start_time": "2023-06-14T19:32:05.148Z"
   },
   {
    "duration": 57,
    "start_time": "2023-06-14T19:32:05.156Z"
   },
   {
    "duration": 47,
    "start_time": "2023-06-14T19:32:05.214Z"
   },
   {
    "duration": 5,
    "start_time": "2023-06-14T19:32:05.263Z"
   },
   {
    "duration": 4812,
    "start_time": "2023-06-14T19:32:05.269Z"
   },
   {
    "duration": 4,
    "start_time": "2023-06-14T19:32:10.083Z"
   },
   {
    "duration": 58,
    "start_time": "2023-06-14T19:32:10.089Z"
   },
   {
    "duration": 3203,
    "start_time": "2023-06-14T19:32:10.149Z"
   },
   {
    "duration": 0,
    "start_time": "2023-06-14T19:32:13.354Z"
   },
   {
    "duration": 0,
    "start_time": "2023-06-14T19:32:13.355Z"
   },
   {
    "duration": 2,
    "start_time": "2023-06-14T19:32:24.855Z"
   },
   {
    "duration": 970,
    "start_time": "2023-06-14T19:32:24.859Z"
   },
   {
    "duration": 112,
    "start_time": "2023-06-14T19:32:25.830Z"
   },
   {
    "duration": 21,
    "start_time": "2023-06-14T19:32:25.944Z"
   },
   {
    "duration": 296,
    "start_time": "2023-06-14T19:32:25.966Z"
   },
   {
    "duration": 21,
    "start_time": "2023-06-14T19:32:26.264Z"
   },
   {
    "duration": 88,
    "start_time": "2023-06-14T19:32:26.287Z"
   },
   {
    "duration": 163,
    "start_time": "2023-06-14T19:32:26.377Z"
   },
   {
    "duration": 110,
    "start_time": "2023-06-14T19:32:26.541Z"
   },
   {
    "duration": 364,
    "start_time": "2023-06-14T19:32:26.654Z"
   },
   {
    "duration": 804,
    "start_time": "2023-06-14T19:32:27.020Z"
   },
   {
    "duration": 3,
    "start_time": "2023-06-14T19:32:27.826Z"
   },
   {
    "duration": 302,
    "start_time": "2023-06-14T19:32:27.830Z"
   },
   {
    "duration": 159,
    "start_time": "2023-06-14T19:32:28.134Z"
   },
   {
    "duration": 20,
    "start_time": "2023-06-14T19:32:28.295Z"
   },
   {
    "duration": 47,
    "start_time": "2023-06-14T19:32:28.317Z"
   },
   {
    "duration": 46,
    "start_time": "2023-06-14T19:32:28.365Z"
   },
   {
    "duration": 7,
    "start_time": "2023-06-14T19:32:28.412Z"
   },
   {
    "duration": 4340,
    "start_time": "2023-06-14T19:32:28.421Z"
   },
   {
    "duration": 3,
    "start_time": "2023-06-14T19:32:32.763Z"
   },
   {
    "duration": 9,
    "start_time": "2023-06-14T19:32:32.768Z"
   },
   {
    "duration": 33891,
    "start_time": "2023-06-14T19:32:32.778Z"
   },
   {
    "duration": 45,
    "start_time": "2023-06-14T19:33:06.670Z"
   },
   {
    "duration": 43,
    "start_time": "2023-06-14T19:33:06.718Z"
   },
   {
    "duration": 2036,
    "start_time": "2023-06-14T19:33:40.822Z"
   },
   {
    "duration": 996,
    "start_time": "2023-06-14T19:33:42.860Z"
   },
   {
    "duration": 147,
    "start_time": "2023-06-14T19:33:43.858Z"
   },
   {
    "duration": 21,
    "start_time": "2023-06-14T19:33:44.008Z"
   },
   {
    "duration": 1141,
    "start_time": "2023-06-14T19:33:44.032Z"
   },
   {
    "duration": 17,
    "start_time": "2023-06-14T19:33:45.174Z"
   },
   {
    "duration": 64,
    "start_time": "2023-06-14T19:33:45.193Z"
   },
   {
    "duration": 116,
    "start_time": "2023-06-14T19:33:45.259Z"
   },
   {
    "duration": 173,
    "start_time": "2023-06-14T19:33:45.378Z"
   },
   {
    "duration": 572,
    "start_time": "2023-06-14T19:33:45.554Z"
   },
   {
    "duration": 904,
    "start_time": "2023-06-14T19:33:46.128Z"
   },
   {
    "duration": 3,
    "start_time": "2023-06-14T19:33:47.033Z"
   },
   {
    "duration": 312,
    "start_time": "2023-06-14T19:33:47.037Z"
   },
   {
    "duration": 270,
    "start_time": "2023-06-14T19:33:47.351Z"
   },
   {
    "duration": 9,
    "start_time": "2023-06-14T19:33:47.623Z"
   },
   {
    "duration": 84,
    "start_time": "2023-06-14T19:33:47.634Z"
   },
   {
    "duration": 38,
    "start_time": "2023-06-14T19:33:47.720Z"
   },
   {
    "duration": 8,
    "start_time": "2023-06-14T19:33:47.760Z"
   },
   {
    "duration": 4960,
    "start_time": "2023-06-14T19:33:47.772Z"
   },
   {
    "duration": 5,
    "start_time": "2023-06-14T19:33:52.734Z"
   },
   {
    "duration": 35493,
    "start_time": "2023-06-14T19:33:52.740Z"
   },
   {
    "duration": 20,
    "start_time": "2023-06-14T19:34:28.235Z"
   },
   {
    "duration": 20,
    "start_time": "2023-06-14T19:34:28.256Z"
   },
   {
    "duration": 9,
    "start_time": "2023-06-14T19:34:28.314Z"
   },
   {
    "duration": 19,
    "start_time": "2023-06-14T19:35:19.501Z"
   },
   {
    "duration": 176,
    "start_time": "2023-06-14T19:39:09.357Z"
   },
   {
    "duration": 2077,
    "start_time": "2023-06-14T19:39:18.830Z"
   },
   {
    "duration": 3,
    "start_time": "2023-06-14T19:39:31.862Z"
   },
   {
    "duration": 9,
    "start_time": "2023-06-14T19:39:41.278Z"
   },
   {
    "duration": 12,
    "start_time": "2023-06-14T19:39:59.924Z"
   },
   {
    "duration": 18,
    "start_time": "2023-06-14T19:40:09.923Z"
   },
   {
    "duration": 3,
    "start_time": "2023-06-14T19:40:31.623Z"
   },
   {
    "duration": 55,
    "start_time": "2023-06-14T19:43:40.038Z"
   },
   {
    "duration": 2013,
    "start_time": "2023-06-14T19:43:41.122Z"
   },
   {
    "duration": 12,
    "start_time": "2023-06-14T19:43:45.726Z"
   },
   {
    "duration": 21,
    "start_time": "2023-06-14T19:45:00.927Z"
   },
   {
    "duration": 53,
    "start_time": "2023-06-14T19:49:25.126Z"
   },
   {
    "duration": 126,
    "start_time": "2023-06-14T19:50:44.600Z"
   },
   {
    "duration": 7,
    "start_time": "2023-06-14T19:50:54.456Z"
   },
   {
    "duration": 112,
    "start_time": "2023-06-14T19:51:33.826Z"
   },
   {
    "duration": 28,
    "start_time": "2023-06-14T19:51:36.569Z"
   },
   {
    "duration": 6,
    "start_time": "2023-06-14T19:52:34.972Z"
   },
   {
    "duration": 18,
    "start_time": "2023-06-14T20:00:10.643Z"
   },
   {
    "duration": 13,
    "start_time": "2023-06-14T20:00:13.927Z"
   },
   {
    "duration": 5,
    "start_time": "2023-06-14T20:13:05.214Z"
   },
   {
    "duration": 85,
    "start_time": "2023-06-14T20:13:10.968Z"
   },
   {
    "duration": 7,
    "start_time": "2023-06-14T20:13:14.016Z"
   },
   {
    "duration": 19,
    "start_time": "2023-06-14T20:15:58.594Z"
   },
   {
    "duration": 47,
    "start_time": "2023-06-14T20:18:21.501Z"
   },
   {
    "duration": 4,
    "start_time": "2023-06-14T20:18:29.119Z"
   },
   {
    "duration": 700,
    "start_time": "2023-06-14T20:18:29.125Z"
   },
   {
    "duration": 125,
    "start_time": "2023-06-14T20:18:29.827Z"
   },
   {
    "duration": 12,
    "start_time": "2023-06-14T20:18:29.953Z"
   },
   {
    "duration": 254,
    "start_time": "2023-06-14T20:18:29.967Z"
   },
   {
    "duration": 17,
    "start_time": "2023-06-14T20:18:30.222Z"
   },
   {
    "duration": 85,
    "start_time": "2023-06-14T20:18:30.240Z"
   },
   {
    "duration": 98,
    "start_time": "2023-06-14T20:18:30.326Z"
   },
   {
    "duration": 101,
    "start_time": "2023-06-14T20:18:30.426Z"
   },
   {
    "duration": 344,
    "start_time": "2023-06-14T20:18:30.528Z"
   },
   {
    "duration": 656,
    "start_time": "2023-06-14T20:18:30.874Z"
   },
   {
    "duration": 3,
    "start_time": "2023-06-14T20:18:31.532Z"
   },
   {
    "duration": 288,
    "start_time": "2023-06-14T20:18:31.537Z"
   },
   {
    "duration": 147,
    "start_time": "2023-06-14T20:18:31.827Z"
   },
   {
    "duration": 7,
    "start_time": "2023-06-14T20:18:31.975Z"
   },
   {
    "duration": 115,
    "start_time": "2023-06-14T20:18:31.984Z"
   },
   {
    "duration": 16,
    "start_time": "2023-06-14T20:18:32.100Z"
   },
   {
    "duration": 20,
    "start_time": "2023-06-14T20:18:32.118Z"
   },
   {
    "duration": 2098,
    "start_time": "2023-06-14T20:18:32.139Z"
   },
   {
    "duration": 2,
    "start_time": "2023-06-14T20:18:34.238Z"
   },
   {
    "duration": 19,
    "start_time": "2023-06-14T20:18:34.241Z"
   },
   {
    "duration": 60,
    "start_time": "2023-06-14T20:18:34.261Z"
   },
   {
    "duration": 21859,
    "start_time": "2023-06-14T20:18:34.328Z"
   },
   {
    "duration": 37,
    "start_time": "2023-06-14T20:18:56.188Z"
   },
   {
    "duration": 68,
    "start_time": "2023-06-14T20:18:56.226Z"
   },
   {
    "duration": 33,
    "start_time": "2023-06-14T20:18:56.296Z"
   },
   {
    "duration": 56,
    "start_time": "2023-06-14T20:18:56.331Z"
   },
   {
    "duration": 29,
    "start_time": "2023-06-14T20:18:56.388Z"
   },
   {
    "duration": 23,
    "start_time": "2023-06-14T20:18:56.418Z"
   },
   {
    "duration": 22,
    "start_time": "2023-06-14T20:22:48.021Z"
   },
   {
    "duration": 7,
    "start_time": "2023-06-14T20:22:55.323Z"
   },
   {
    "duration": 69,
    "start_time": "2023-06-14T20:23:05.118Z"
   },
   {
    "duration": 3,
    "start_time": "2023-06-14T20:23:49.467Z"
   },
   {
    "duration": 708,
    "start_time": "2023-06-14T20:23:49.472Z"
   },
   {
    "duration": 122,
    "start_time": "2023-06-14T20:23:50.181Z"
   },
   {
    "duration": 25,
    "start_time": "2023-06-14T20:23:50.318Z"
   },
   {
    "duration": 242,
    "start_time": "2023-06-14T20:23:50.344Z"
   },
   {
    "duration": 23,
    "start_time": "2023-06-14T20:23:50.587Z"
   },
   {
    "duration": 72,
    "start_time": "2023-06-14T20:23:50.611Z"
   },
   {
    "duration": 86,
    "start_time": "2023-06-14T20:23:50.684Z"
   },
   {
    "duration": 97,
    "start_time": "2023-06-14T20:23:50.772Z"
   },
   {
    "duration": 340,
    "start_time": "2023-06-14T20:23:50.871Z"
   },
   {
    "duration": 630,
    "start_time": "2023-06-14T20:23:51.212Z"
   },
   {
    "duration": 2,
    "start_time": "2023-06-14T20:23:51.844Z"
   },
   {
    "duration": 270,
    "start_time": "2023-06-14T20:23:51.847Z"
   },
   {
    "duration": 141,
    "start_time": "2023-06-14T20:23:52.122Z"
   },
   {
    "duration": 7,
    "start_time": "2023-06-14T20:23:52.264Z"
   },
   {
    "duration": 52,
    "start_time": "2023-06-14T20:23:52.272Z"
   },
   {
    "duration": 15,
    "start_time": "2023-06-14T20:23:52.330Z"
   },
   {
    "duration": 24,
    "start_time": "2023-06-14T20:23:52.347Z"
   },
   {
    "duration": 2152,
    "start_time": "2023-06-14T20:23:52.373Z"
   },
   {
    "duration": 0,
    "start_time": "2023-06-14T20:23:54.526Z"
   },
   {
    "duration": 0,
    "start_time": "2023-06-14T20:23:54.527Z"
   },
   {
    "duration": 0,
    "start_time": "2023-06-14T20:23:54.528Z"
   },
   {
    "duration": 0,
    "start_time": "2023-06-14T20:23:54.528Z"
   },
   {
    "duration": 0,
    "start_time": "2023-06-14T20:23:54.529Z"
   },
   {
    "duration": 0,
    "start_time": "2023-06-14T20:23:54.531Z"
   },
   {
    "duration": 0,
    "start_time": "2023-06-14T20:23:54.532Z"
   },
   {
    "duration": 0,
    "start_time": "2023-06-14T20:23:54.533Z"
   },
   {
    "duration": 0,
    "start_time": "2023-06-14T20:23:54.533Z"
   },
   {
    "duration": 0,
    "start_time": "2023-06-14T20:23:54.534Z"
   },
   {
    "duration": 0,
    "start_time": "2023-06-14T20:23:54.535Z"
   },
   {
    "duration": 0,
    "start_time": "2023-06-14T20:23:54.535Z"
   },
   {
    "duration": 0,
    "start_time": "2023-06-14T20:23:54.536Z"
   },
   {
    "duration": 2,
    "start_time": "2023-06-14T20:25:55.949Z"
   },
   {
    "duration": 768,
    "start_time": "2023-06-14T20:25:55.953Z"
   },
   {
    "duration": 117,
    "start_time": "2023-06-14T20:25:56.723Z"
   },
   {
    "duration": 20,
    "start_time": "2023-06-14T20:25:56.842Z"
   },
   {
    "duration": 232,
    "start_time": "2023-06-14T20:25:56.864Z"
   },
   {
    "duration": 23,
    "start_time": "2023-06-14T20:25:57.098Z"
   },
   {
    "duration": 60,
    "start_time": "2023-06-14T20:25:57.122Z"
   },
   {
    "duration": 92,
    "start_time": "2023-06-14T20:25:57.183Z"
   },
   {
    "duration": 104,
    "start_time": "2023-06-14T20:25:57.278Z"
   },
   {
    "duration": 347,
    "start_time": "2023-06-14T20:25:57.383Z"
   },
   {
    "duration": 696,
    "start_time": "2023-06-14T20:25:57.731Z"
   },
   {
    "duration": 4,
    "start_time": "2023-06-14T20:25:58.430Z"
   },
   {
    "duration": 280,
    "start_time": "2023-06-14T20:25:58.435Z"
   },
   {
    "duration": 166,
    "start_time": "2023-06-14T20:25:58.722Z"
   },
   {
    "duration": 23,
    "start_time": "2023-06-14T20:25:58.890Z"
   },
   {
    "duration": 69,
    "start_time": "2023-06-14T20:25:58.916Z"
   },
   {
    "duration": 28,
    "start_time": "2023-06-14T20:25:58.986Z"
   },
   {
    "duration": 26,
    "start_time": "2023-06-14T20:25:59.015Z"
   },
   {
    "duration": 2235,
    "start_time": "2023-06-14T20:25:59.042Z"
   },
   {
    "duration": 3,
    "start_time": "2023-06-14T20:26:01.278Z"
   },
   {
    "duration": 84,
    "start_time": "2023-06-14T20:26:01.282Z"
   },
   {
    "duration": 222,
    "start_time": "2023-06-14T20:26:01.368Z"
   },
   {
    "duration": 22758,
    "start_time": "2023-06-14T20:26:01.591Z"
   },
   {
    "duration": 6,
    "start_time": "2023-06-14T20:26:24.352Z"
   },
   {
    "duration": 64,
    "start_time": "2023-06-14T20:26:24.360Z"
   },
   {
    "duration": 15,
    "start_time": "2023-06-14T20:26:24.430Z"
   },
   {
    "duration": 72,
    "start_time": "2023-06-14T20:26:24.447Z"
   },
   {
    "duration": 24,
    "start_time": "2023-06-14T20:26:24.522Z"
   },
   {
    "duration": 23,
    "start_time": "2023-06-14T20:26:24.547Z"
   },
   {
    "duration": 62,
    "start_time": "2023-06-14T20:26:24.571Z"
   },
   {
    "duration": 8,
    "start_time": "2023-06-14T20:26:24.638Z"
   },
   {
    "duration": 90,
    "start_time": "2023-06-14T20:26:24.647Z"
   },
   {
    "duration": 37,
    "start_time": "2023-06-14T20:28:47.648Z"
   },
   {
    "duration": 2,
    "start_time": "2023-06-14T20:28:51.371Z"
   },
   {
    "duration": 739,
    "start_time": "2023-06-14T20:28:51.376Z"
   },
   {
    "duration": 117,
    "start_time": "2023-06-14T20:28:52.126Z"
   },
   {
    "duration": 16,
    "start_time": "2023-06-14T20:28:52.244Z"
   },
   {
    "duration": 268,
    "start_time": "2023-06-14T20:28:52.261Z"
   },
   {
    "duration": 18,
    "start_time": "2023-06-14T20:28:52.537Z"
   },
   {
    "duration": 61,
    "start_time": "2023-06-14T20:28:52.556Z"
   },
   {
    "duration": 102,
    "start_time": "2023-06-14T20:28:52.618Z"
   },
   {
    "duration": 131,
    "start_time": "2023-06-14T20:28:52.729Z"
   },
   {
    "duration": 381,
    "start_time": "2023-06-14T20:28:52.861Z"
   },
   {
    "duration": 696,
    "start_time": "2023-06-14T20:28:53.244Z"
   },
   {
    "duration": 2,
    "start_time": "2023-06-14T20:28:53.942Z"
   },
   {
    "duration": 297,
    "start_time": "2023-06-14T20:28:53.945Z"
   },
   {
    "duration": 188,
    "start_time": "2023-06-14T20:28:54.243Z"
   },
   {
    "duration": 10,
    "start_time": "2023-06-14T20:28:54.434Z"
   },
   {
    "duration": 37,
    "start_time": "2023-06-14T20:28:54.445Z"
   },
   {
    "duration": 14,
    "start_time": "2023-06-14T20:28:54.484Z"
   },
   {
    "duration": 24,
    "start_time": "2023-06-14T20:28:54.517Z"
   },
   {
    "duration": 2195,
    "start_time": "2023-06-14T20:28:54.543Z"
   },
   {
    "duration": 2,
    "start_time": "2023-06-14T20:28:56.739Z"
   },
   {
    "duration": 40,
    "start_time": "2023-06-14T20:28:56.743Z"
   },
   {
    "duration": 58,
    "start_time": "2023-06-14T20:28:56.784Z"
   },
   {
    "duration": 22920,
    "start_time": "2023-06-14T20:28:56.843Z"
   },
   {
    "duration": 6,
    "start_time": "2023-06-14T20:29:19.765Z"
   },
   {
    "duration": 79,
    "start_time": "2023-06-14T20:29:19.772Z"
   },
   {
    "duration": 8,
    "start_time": "2023-06-14T20:29:19.852Z"
   },
   {
    "duration": 35,
    "start_time": "2023-06-14T20:29:19.861Z"
   },
   {
    "duration": 15,
    "start_time": "2023-06-14T20:29:19.898Z"
   },
   {
    "duration": 38,
    "start_time": "2023-06-14T20:29:19.916Z"
   },
   {
    "duration": 24,
    "start_time": "2023-06-14T20:29:19.955Z"
   },
   {
    "duration": 3,
    "start_time": "2023-06-14T20:29:19.980Z"
   },
   {
    "duration": 94,
    "start_time": "2023-06-14T20:29:19.984Z"
   },
   {
    "duration": 41,
    "start_time": "2023-06-14T20:35:43.447Z"
   },
   {
    "duration": 70,
    "start_time": "2023-06-14T20:35:51.460Z"
   },
   {
    "duration": 42,
    "start_time": "2023-06-14T20:37:06.939Z"
   },
   {
    "duration": 33,
    "start_time": "2023-06-14T20:37:20.251Z"
   },
   {
    "duration": 29,
    "start_time": "2023-06-14T20:37:29.950Z"
   },
   {
    "duration": 8,
    "start_time": "2023-06-14T20:37:29.981Z"
   },
   {
    "duration": 44,
    "start_time": "2023-06-14T20:37:29.990Z"
   },
   {
    "duration": 12,
    "start_time": "2023-06-14T20:37:30.042Z"
   },
   {
    "duration": 97,
    "start_time": "2023-06-14T20:37:30.057Z"
   },
   {
    "duration": 32,
    "start_time": "2023-06-14T20:37:30.156Z"
   },
   {
    "duration": 0,
    "start_time": "2023-06-14T20:37:30.189Z"
   },
   {
    "duration": 0,
    "start_time": "2023-06-14T20:37:30.190Z"
   },
   {
    "duration": 3,
    "start_time": "2023-06-14T20:37:41.155Z"
   },
   {
    "duration": 1323,
    "start_time": "2023-06-14T20:37:41.160Z"
   },
   {
    "duration": 154,
    "start_time": "2023-06-14T20:37:42.485Z"
   },
   {
    "duration": 34,
    "start_time": "2023-06-14T20:37:42.641Z"
   },
   {
    "duration": 323,
    "start_time": "2023-06-14T20:37:42.676Z"
   },
   {
    "duration": 27,
    "start_time": "2023-06-14T20:37:43.004Z"
   },
   {
    "duration": 61,
    "start_time": "2023-06-14T20:37:43.033Z"
   },
   {
    "duration": 138,
    "start_time": "2023-06-14T20:37:43.095Z"
   },
   {
    "duration": 127,
    "start_time": "2023-06-14T20:37:43.242Z"
   },
   {
    "duration": 407,
    "start_time": "2023-06-14T20:37:43.372Z"
   },
   {
    "duration": 781,
    "start_time": "2023-06-14T20:37:43.780Z"
   },
   {
    "duration": 3,
    "start_time": "2023-06-14T20:37:44.562Z"
   },
   {
    "duration": 363,
    "start_time": "2023-06-14T20:37:44.566Z"
   },
   {
    "duration": 146,
    "start_time": "2023-06-14T20:37:44.937Z"
   },
   {
    "duration": 7,
    "start_time": "2023-06-14T20:37:45.085Z"
   },
   {
    "duration": 94,
    "start_time": "2023-06-14T20:37:45.094Z"
   },
   {
    "duration": 55,
    "start_time": "2023-06-14T20:37:45.190Z"
   },
   {
    "duration": 24,
    "start_time": "2023-06-14T20:37:45.250Z"
   },
   {
    "duration": 2482,
    "start_time": "2023-06-14T20:37:45.275Z"
   },
   {
    "duration": 2,
    "start_time": "2023-06-14T20:37:47.759Z"
   },
   {
    "duration": 21,
    "start_time": "2023-06-14T20:37:47.763Z"
   },
   {
    "duration": 82,
    "start_time": "2023-06-14T20:37:47.785Z"
   },
   {
    "duration": 24227,
    "start_time": "2023-06-14T20:37:47.869Z"
   },
   {
    "duration": 36,
    "start_time": "2023-06-14T20:38:12.098Z"
   },
   {
    "duration": 72,
    "start_time": "2023-06-14T20:38:12.136Z"
   },
   {
    "duration": 16,
    "start_time": "2023-06-14T20:38:12.213Z"
   },
   {
    "duration": 80,
    "start_time": "2023-06-14T20:38:12.232Z"
   },
   {
    "duration": 21,
    "start_time": "2023-06-14T20:38:12.315Z"
   },
   {
    "duration": 23,
    "start_time": "2023-06-14T20:38:12.338Z"
   },
   {
    "duration": 33,
    "start_time": "2023-06-14T20:38:12.362Z"
   },
   {
    "duration": 57,
    "start_time": "2023-06-14T20:38:12.396Z"
   },
   {
    "duration": 100,
    "start_time": "2023-06-14T20:38:12.454Z"
   },
   {
    "duration": 579,
    "start_time": "2023-06-14T20:40:24.262Z"
   },
   {
    "duration": 44,
    "start_time": "2023-06-14T20:40:28.836Z"
   },
   {
    "duration": 55,
    "start_time": "2023-06-14T20:49:57.833Z"
   },
   {
    "duration": 57,
    "start_time": "2023-06-14T20:49:58.029Z"
   },
   {
    "duration": 3,
    "start_time": "2023-06-14T21:02:42.241Z"
   },
   {
    "duration": 24,
    "start_time": "2023-06-14T21:11:36.425Z"
   },
   {
    "duration": 2955,
    "start_time": "2023-06-14T23:07:03.342Z"
   },
   {
    "duration": 4,
    "start_time": "2023-06-14T23:27:56.472Z"
   },
   {
    "duration": 4,
    "start_time": "2023-06-14T23:28:08.126Z"
   },
   {
    "duration": 4,
    "start_time": "2023-06-14T23:28:21.939Z"
   },
   {
    "duration": 5,
    "start_time": "2023-06-14T23:28:42.939Z"
   },
   {
    "duration": 3,
    "start_time": "2023-06-14T23:28:50.045Z"
   },
   {
    "duration": 1182,
    "start_time": "2023-06-14T23:29:02.462Z"
   },
   {
    "duration": 901,
    "start_time": "2023-06-14T23:29:03.646Z"
   },
   {
    "duration": 105,
    "start_time": "2023-06-14T23:29:04.548Z"
   },
   {
    "duration": 16,
    "start_time": "2023-06-14T23:29:04.654Z"
   },
   {
    "duration": 92,
    "start_time": "2023-06-14T23:29:04.672Z"
   },
   {
    "duration": 478,
    "start_time": "2023-06-14T23:29:04.765Z"
   },
   {
    "duration": 18,
    "start_time": "2023-06-14T23:29:05.244Z"
   },
   {
    "duration": 45,
    "start_time": "2023-06-14T23:29:05.263Z"
   },
   {
    "duration": 115,
    "start_time": "2023-06-14T23:29:05.310Z"
   },
   {
    "duration": 110,
    "start_time": "2023-06-14T23:29:05.426Z"
   },
   {
    "duration": 376,
    "start_time": "2023-06-14T23:29:05.538Z"
   },
   {
    "duration": 765,
    "start_time": "2023-06-14T23:29:05.915Z"
   },
   {
    "duration": 2,
    "start_time": "2023-06-14T23:29:06.682Z"
   },
   {
    "duration": 259,
    "start_time": "2023-06-14T23:29:06.687Z"
   },
   {
    "duration": 173,
    "start_time": "2023-06-14T23:29:06.948Z"
   },
   {
    "duration": 8,
    "start_time": "2023-06-14T23:29:07.122Z"
   },
   {
    "duration": 75,
    "start_time": "2023-06-14T23:29:07.131Z"
   },
   {
    "duration": 14,
    "start_time": "2023-06-14T23:29:07.208Z"
   },
   {
    "duration": 6,
    "start_time": "2023-06-14T23:29:07.224Z"
   },
   {
    "duration": 2163,
    "start_time": "2023-06-14T23:29:07.231Z"
   },
   {
    "duration": 5,
    "start_time": "2023-06-14T23:29:09.396Z"
   },
   {
    "duration": 49,
    "start_time": "2023-06-14T23:29:09.402Z"
   },
   {
    "duration": 66,
    "start_time": "2023-06-14T23:29:09.453Z"
   },
   {
    "duration": 21839,
    "start_time": "2023-06-14T23:29:09.520Z"
   },
   {
    "duration": 6,
    "start_time": "2023-06-14T23:29:31.361Z"
   },
   {
    "duration": 79,
    "start_time": "2023-06-14T23:29:31.368Z"
   },
   {
    "duration": 34,
    "start_time": "2023-06-14T23:29:31.449Z"
   },
   {
    "duration": 98,
    "start_time": "2023-06-14T23:29:31.484Z"
   },
   {
    "duration": 14,
    "start_time": "2023-06-14T23:29:31.583Z"
   },
   {
    "duration": 35,
    "start_time": "2023-06-14T23:29:31.598Z"
   },
   {
    "duration": 195,
    "start_time": "2023-06-14T23:29:31.634Z"
   },
   {
    "duration": 35,
    "start_time": "2023-06-14T23:29:31.831Z"
   },
   {
    "duration": 106,
    "start_time": "2023-06-14T23:29:31.867Z"
   },
   {
    "duration": 561,
    "start_time": "2023-06-14T23:29:31.975Z"
   },
   {
    "duration": 47,
    "start_time": "2023-06-14T23:29:32.537Z"
   },
   {
    "duration": 152,
    "start_time": "2023-06-14T23:29:32.586Z"
   },
   {
    "duration": 6,
    "start_time": "2023-06-14T23:30:05.336Z"
   },
   {
    "duration": 4,
    "start_time": "2023-06-14T23:30:12.513Z"
   },
   {
    "duration": 4,
    "start_time": "2023-06-14T23:30:13.567Z"
   },
   {
    "duration": 3,
    "start_time": "2023-06-14T23:30:26.515Z"
   },
   {
    "duration": 4,
    "start_time": "2023-06-14T23:30:57.515Z"
   },
   {
    "duration": 2377,
    "start_time": "2023-06-14T23:33:01.790Z"
   },
   {
    "duration": 1900,
    "start_time": "2023-06-14T23:33:22.060Z"
   },
   {
    "duration": 5,
    "start_time": "2023-06-14T23:37:47.551Z"
   },
   {
    "duration": 5,
    "start_time": "2023-06-14T23:38:50.752Z"
   },
   {
    "duration": 14,
    "start_time": "2023-06-14T23:41:45.499Z"
   },
   {
    "duration": 55,
    "start_time": "2023-06-14T23:41:53.619Z"
   },
   {
    "duration": 409,
    "start_time": "2023-06-14T23:42:11.188Z"
   },
   {
    "duration": 6768,
    "start_time": "2023-06-14T23:43:56.291Z"
   },
   {
    "duration": 11,
    "start_time": "2023-06-14T23:44:52.065Z"
   },
   {
    "duration": 3,
    "start_time": "2023-06-14T23:45:17.868Z"
   },
   {
    "duration": 2,
    "start_time": "2023-06-14T23:52:40.089Z"
   },
   {
    "duration": 302,
    "start_time": "2023-06-14T23:54:54.380Z"
   },
   {
    "duration": 272,
    "start_time": "2023-06-14T23:55:02.066Z"
   },
   {
    "duration": 16,
    "start_time": "2023-06-14T23:55:26.642Z"
   },
   {
    "duration": 1942,
    "start_time": "2023-06-14T23:55:32.410Z"
   },
   {
    "duration": 5,
    "start_time": "2023-06-14T23:55:34.355Z"
   },
   {
    "duration": 15,
    "start_time": "2023-06-14T23:55:35.438Z"
   },
   {
    "duration": 330,
    "start_time": "2023-06-14T23:55:38.193Z"
   },
   {
    "duration": 237,
    "start_time": "2023-06-14T23:55:57.563Z"
   },
   {
    "duration": 495,
    "start_time": "2023-06-14T23:56:58.369Z"
   },
   {
    "duration": 264,
    "start_time": "2023-06-14T23:57:34.384Z"
   },
   {
    "duration": 250,
    "start_time": "2023-06-14T23:58:26.383Z"
   },
   {
    "duration": 3,
    "start_time": "2023-06-14T23:58:31.210Z"
   },
   {
    "duration": 709,
    "start_time": "2023-06-14T23:58:31.214Z"
   },
   {
    "duration": 97,
    "start_time": "2023-06-14T23:58:31.924Z"
   },
   {
    "duration": 12,
    "start_time": "2023-06-14T23:58:32.023Z"
   },
   {
    "duration": 92,
    "start_time": "2023-06-14T23:58:32.037Z"
   },
   {
    "duration": 299,
    "start_time": "2023-06-14T23:58:32.131Z"
   },
   {
    "duration": 20,
    "start_time": "2023-06-14T23:58:32.432Z"
   },
   {
    "duration": 71,
    "start_time": "2023-06-14T23:58:32.454Z"
   },
   {
    "duration": 80,
    "start_time": "2023-06-14T23:58:32.527Z"
   },
   {
    "duration": 100,
    "start_time": "2023-06-14T23:58:32.608Z"
   },
   {
    "duration": 293,
    "start_time": "2023-06-14T23:58:32.709Z"
   },
   {
    "duration": 609,
    "start_time": "2023-06-14T23:58:33.004Z"
   },
   {
    "duration": 3,
    "start_time": "2023-06-14T23:58:33.614Z"
   },
   {
    "duration": 234,
    "start_time": "2023-06-14T23:58:33.618Z"
   },
   {
    "duration": 139,
    "start_time": "2023-06-14T23:58:33.854Z"
   },
   {
    "duration": 8,
    "start_time": "2023-06-14T23:58:33.995Z"
   },
   {
    "duration": 39,
    "start_time": "2023-06-14T23:58:34.005Z"
   },
   {
    "duration": 30,
    "start_time": "2023-06-14T23:58:34.046Z"
   },
   {
    "duration": 24,
    "start_time": "2023-06-14T23:58:34.078Z"
   },
   {
    "duration": 1979,
    "start_time": "2023-06-14T23:58:34.104Z"
   },
   {
    "duration": 3,
    "start_time": "2023-06-14T23:58:36.084Z"
   },
   {
    "duration": 36,
    "start_time": "2023-06-14T23:58:36.089Z"
   },
   {
    "duration": 41,
    "start_time": "2023-06-14T23:58:36.126Z"
   },
   {
    "duration": 22110,
    "start_time": "2023-06-14T23:58:36.170Z"
   },
   {
    "duration": 8,
    "start_time": "2023-06-14T23:58:58.281Z"
   },
   {
    "duration": 96,
    "start_time": "2023-06-14T23:58:58.299Z"
   },
   {
    "duration": 9,
    "start_time": "2023-06-14T23:58:58.396Z"
   },
   {
    "duration": 186,
    "start_time": "2023-06-14T23:58:58.406Z"
   },
   {
    "duration": 71,
    "start_time": "2023-06-14T23:58:58.593Z"
   },
   {
    "duration": 142,
    "start_time": "2023-06-14T23:58:58.665Z"
   },
   {
    "duration": 122,
    "start_time": "2023-06-14T23:58:58.808Z"
   },
   {
    "duration": 139,
    "start_time": "2023-06-14T23:58:58.931Z"
   },
   {
    "duration": 167,
    "start_time": "2023-06-14T23:58:59.072Z"
   },
   {
    "duration": 692,
    "start_time": "2023-06-14T23:58:59.241Z"
   },
   {
    "duration": 42,
    "start_time": "2023-06-14T23:58:59.935Z"
   },
   {
    "duration": 2175,
    "start_time": "2023-06-14T23:58:59.979Z"
   },
   {
    "duration": 6,
    "start_time": "2023-06-14T23:59:02.156Z"
   },
   {
    "duration": 41,
    "start_time": "2023-06-14T23:59:02.164Z"
   },
   {
    "duration": 578,
    "start_time": "2023-06-14T23:59:02.206Z"
   },
   {
    "duration": 510,
    "start_time": "2023-06-15T00:03:47.252Z"
   },
   {
    "duration": 14,
    "start_time": "2023-06-15T00:04:13.507Z"
   },
   {
    "duration": 2,
    "start_time": "2023-06-15T00:04:19.330Z"
   },
   {
    "duration": 9,
    "start_time": "2023-06-15T00:04:22.827Z"
   },
   {
    "duration": 9,
    "start_time": "2023-06-15T00:04:34.483Z"
   },
   {
    "duration": 96,
    "start_time": "2023-06-15T00:04:36.438Z"
   },
   {
    "duration": 74,
    "start_time": "2023-06-15T00:04:56.103Z"
   },
   {
    "duration": 164,
    "start_time": "2023-06-15T00:18:36.513Z"
   },
   {
    "duration": 3,
    "start_time": "2023-06-15T00:18:42.671Z"
   },
   {
    "duration": 81,
    "start_time": "2023-06-15T00:18:49.325Z"
   },
   {
    "duration": 96,
    "start_time": "2023-06-15T00:18:59.909Z"
   },
   {
    "duration": 13,
    "start_time": "2023-06-15T00:25:48.705Z"
   },
   {
    "duration": 57,
    "start_time": "2023-06-15T00:26:09.466Z"
   },
   {
    "duration": 46,
    "start_time": "2023-06-15T00:26:10.915Z"
   },
   {
    "duration": 46,
    "start_time": "2023-06-15T00:26:11.540Z"
   },
   {
    "duration": 46,
    "start_time": "2023-06-15T00:26:12.058Z"
   },
   {
    "duration": 47,
    "start_time": "2023-06-15T00:26:12.510Z"
   },
   {
    "duration": 47,
    "start_time": "2023-06-15T00:26:12.942Z"
   },
   {
    "duration": 48,
    "start_time": "2023-06-15T00:26:13.376Z"
   },
   {
    "duration": 55,
    "start_time": "2023-06-15T00:26:13.754Z"
   },
   {
    "duration": 44,
    "start_time": "2023-06-15T00:26:13.997Z"
   },
   {
    "duration": 44,
    "start_time": "2023-06-15T00:26:14.209Z"
   },
   {
    "duration": 49,
    "start_time": "2023-06-15T00:26:14.412Z"
   },
   {
    "duration": 55,
    "start_time": "2023-06-15T00:26:14.599Z"
   },
   {
    "duration": 44,
    "start_time": "2023-06-15T00:26:14.800Z"
   },
   {
    "duration": 42,
    "start_time": "2023-06-15T00:26:15.000Z"
   },
   {
    "duration": 61,
    "start_time": "2023-06-15T00:26:15.178Z"
   },
   {
    "duration": 53,
    "start_time": "2023-06-15T00:26:15.508Z"
   },
   {
    "duration": 42,
    "start_time": "2023-06-15T00:26:15.720Z"
   },
   {
    "duration": 47,
    "start_time": "2023-06-15T00:26:15.906Z"
   },
   {
    "duration": 16,
    "start_time": "2023-06-15T00:26:17.009Z"
   },
   {
    "duration": 6,
    "start_time": "2023-06-15T00:26:17.200Z"
   },
   {
    "duration": 11,
    "start_time": "2023-06-15T00:26:17.406Z"
   },
   {
    "duration": 12,
    "start_time": "2023-06-15T00:26:17.601Z"
   },
   {
    "duration": 7,
    "start_time": "2023-06-15T00:26:18.005Z"
   },
   {
    "duration": 9,
    "start_time": "2023-06-15T00:26:18.239Z"
   },
   {
    "duration": 1047,
    "start_time": "2023-06-15T00:26:29.791Z"
   },
   {
    "duration": 720,
    "start_time": "2023-06-15T00:26:30.840Z"
   },
   {
    "duration": 106,
    "start_time": "2023-06-15T00:26:31.562Z"
   },
   {
    "duration": 17,
    "start_time": "2023-06-15T00:26:31.669Z"
   },
   {
    "duration": 149,
    "start_time": "2023-06-15T00:26:31.688Z"
   },
   {
    "duration": 490,
    "start_time": "2023-06-15T00:26:31.838Z"
   },
   {
    "duration": 17,
    "start_time": "2023-06-15T00:26:32.330Z"
   },
   {
    "duration": 118,
    "start_time": "2023-06-15T00:26:32.349Z"
   },
   {
    "duration": 93,
    "start_time": "2023-06-15T00:26:32.469Z"
   },
   {
    "duration": 85,
    "start_time": "2023-06-15T00:26:32.564Z"
   },
   {
    "duration": 335,
    "start_time": "2023-06-15T00:26:32.651Z"
   },
   {
    "duration": 696,
    "start_time": "2023-06-15T00:26:32.987Z"
   },
   {
    "duration": 3,
    "start_time": "2023-06-15T00:26:33.685Z"
   },
   {
    "duration": 259,
    "start_time": "2023-06-15T00:26:33.700Z"
   },
   {
    "duration": 151,
    "start_time": "2023-06-15T00:26:33.960Z"
   },
   {
    "duration": 7,
    "start_time": "2023-06-15T00:26:34.112Z"
   },
   {
    "duration": 41,
    "start_time": "2023-06-15T00:26:34.121Z"
   },
   {
    "duration": 14,
    "start_time": "2023-06-15T00:26:34.164Z"
   },
   {
    "duration": 24,
    "start_time": "2023-06-15T00:26:34.180Z"
   },
   {
    "duration": 2161,
    "start_time": "2023-06-15T00:26:34.205Z"
   },
   {
    "duration": 3,
    "start_time": "2023-06-15T00:26:36.368Z"
   },
   {
    "duration": 28,
    "start_time": "2023-06-15T00:26:36.372Z"
   },
   {
    "duration": 52,
    "start_time": "2023-06-15T00:26:36.401Z"
   },
   {
    "duration": 21315,
    "start_time": "2023-06-15T00:26:36.455Z"
   },
   {
    "duration": 7,
    "start_time": "2023-06-15T00:26:57.771Z"
   },
   {
    "duration": 68,
    "start_time": "2023-06-15T00:26:57.779Z"
   },
   {
    "duration": 11,
    "start_time": "2023-06-15T00:26:57.849Z"
   },
   {
    "duration": 64,
    "start_time": "2023-06-15T00:26:57.862Z"
   },
   {
    "duration": 14,
    "start_time": "2023-06-15T00:26:57.927Z"
   },
   {
    "duration": 4,
    "start_time": "2023-06-15T00:26:57.942Z"
   },
   {
    "duration": 43,
    "start_time": "2023-06-15T00:26:57.948Z"
   },
   {
    "duration": 7,
    "start_time": "2023-06-15T00:26:57.993Z"
   },
   {
    "duration": 105,
    "start_time": "2023-06-15T00:26:58.001Z"
   },
   {
    "duration": 517,
    "start_time": "2023-06-15T00:26:58.108Z"
   },
   {
    "duration": 44,
    "start_time": "2023-06-15T00:26:58.627Z"
   },
   {
    "duration": 2116,
    "start_time": "2023-06-15T00:26:58.673Z"
   },
   {
    "duration": 5,
    "start_time": "2023-06-15T00:27:00.790Z"
   },
   {
    "duration": 121,
    "start_time": "2023-06-15T00:27:00.799Z"
   },
   {
    "duration": 528,
    "start_time": "2023-06-15T00:27:00.922Z"
   },
   {
    "duration": 87,
    "start_time": "2023-06-15T00:27:01.451Z"
   },
   {
    "duration": 71,
    "start_time": "2023-06-15T00:27:01.541Z"
   },
   {
    "duration": 187,
    "start_time": "2023-06-15T00:27:01.614Z"
   },
   {
    "duration": 13,
    "start_time": "2023-06-15T00:28:04.903Z"
   },
   {
    "duration": 185,
    "start_time": "2023-06-15T00:28:34.378Z"
   },
   {
    "duration": 2,
    "start_time": "2023-06-15T00:28:43.554Z"
   },
   {
    "duration": 4,
    "start_time": "2023-06-15T00:28:47.648Z"
   },
   {
    "duration": 4,
    "start_time": "2023-06-15T00:30:27.892Z"
   },
   {
    "duration": 41,
    "start_time": "2023-06-15T00:32:08.502Z"
   },
   {
    "duration": 6,
    "start_time": "2023-06-15T00:32:10.115Z"
   },
   {
    "duration": 5,
    "start_time": "2023-06-15T00:32:11.586Z"
   },
   {
    "duration": 40,
    "start_time": "2023-06-15T00:32:16.987Z"
   },
   {
    "duration": 9,
    "start_time": "2023-06-15T00:32:18.061Z"
   },
   {
    "duration": 4,
    "start_time": "2023-06-15T00:32:18.993Z"
   },
   {
    "duration": 3,
    "start_time": "2023-06-15T00:32:24.809Z"
   },
   {
    "duration": 694,
    "start_time": "2023-06-15T00:32:24.818Z"
   },
   {
    "duration": 105,
    "start_time": "2023-06-15T00:32:25.514Z"
   },
   {
    "duration": 98,
    "start_time": "2023-06-15T00:32:25.620Z"
   },
   {
    "duration": 81,
    "start_time": "2023-06-15T00:32:25.719Z"
   },
   {
    "duration": 218,
    "start_time": "2023-06-15T00:32:25.801Z"
   },
   {
    "duration": 19,
    "start_time": "2023-06-15T00:32:26.021Z"
   },
   {
    "duration": 44,
    "start_time": "2023-06-15T00:32:26.042Z"
   },
   {
    "duration": 83,
    "start_time": "2023-06-15T00:32:26.087Z"
   },
   {
    "duration": 94,
    "start_time": "2023-06-15T00:32:26.171Z"
   },
   {
    "duration": 355,
    "start_time": "2023-06-15T00:32:26.267Z"
   },
   {
    "duration": 618,
    "start_time": "2023-06-15T00:32:26.623Z"
   },
   {
    "duration": 3,
    "start_time": "2023-06-15T00:32:27.243Z"
   },
   {
    "duration": 238,
    "start_time": "2023-06-15T00:32:27.247Z"
   },
   {
    "duration": 141,
    "start_time": "2023-06-15T00:32:27.486Z"
   },
   {
    "duration": 7,
    "start_time": "2023-06-15T00:32:27.628Z"
   },
   {
    "duration": 37,
    "start_time": "2023-06-15T00:32:27.636Z"
   },
   {
    "duration": 42,
    "start_time": "2023-06-15T00:32:27.675Z"
   },
   {
    "duration": 5,
    "start_time": "2023-06-15T00:32:27.719Z"
   },
   {
    "duration": 1923,
    "start_time": "2023-06-15T00:32:27.725Z"
   },
   {
    "duration": 3,
    "start_time": "2023-06-15T00:32:29.649Z"
   },
   {
    "duration": 22,
    "start_time": "2023-06-15T00:32:29.653Z"
   },
   {
    "duration": 45,
    "start_time": "2023-06-15T00:32:29.676Z"
   },
   {
    "duration": 21126,
    "start_time": "2023-06-15T00:32:29.722Z"
   },
   {
    "duration": 6,
    "start_time": "2023-06-15T00:32:50.849Z"
   },
   {
    "duration": 73,
    "start_time": "2023-06-15T00:32:50.857Z"
   },
   {
    "duration": 7,
    "start_time": "2023-06-15T00:32:50.932Z"
   },
   {
    "duration": 61,
    "start_time": "2023-06-15T00:32:50.941Z"
   },
   {
    "duration": 13,
    "start_time": "2023-06-15T00:32:51.005Z"
   },
   {
    "duration": 16,
    "start_time": "2023-06-15T00:32:51.020Z"
   },
   {
    "duration": 47,
    "start_time": "2023-06-15T00:32:51.038Z"
   },
   {
    "duration": 2,
    "start_time": "2023-06-15T00:32:51.087Z"
   },
   {
    "duration": 92,
    "start_time": "2023-06-15T00:32:51.090Z"
   },
   {
    "duration": 541,
    "start_time": "2023-06-15T00:32:51.183Z"
   },
   {
    "duration": 41,
    "start_time": "2023-06-15T00:32:51.725Z"
   },
   {
    "duration": 1889,
    "start_time": "2023-06-15T00:32:51.767Z"
   },
   {
    "duration": 6,
    "start_time": "2023-06-15T00:32:53.658Z"
   },
   {
    "duration": 29,
    "start_time": "2023-06-15T00:32:53.665Z"
   },
   {
    "duration": 561,
    "start_time": "2023-06-15T00:32:53.695Z"
   },
   {
    "duration": 95,
    "start_time": "2023-06-15T00:32:54.257Z"
   },
   {
    "duration": 147,
    "start_time": "2023-06-15T00:32:54.354Z"
   },
   {
    "duration": 100,
    "start_time": "2023-06-15T00:32:54.503Z"
   },
   {
    "duration": 102,
    "start_time": "2023-06-15T00:32:54.604Z"
   },
   {
    "duration": 46,
    "start_time": "2023-06-15T00:33:01.103Z"
   },
   {
    "duration": 10,
    "start_time": "2023-06-15T00:33:01.895Z"
   },
   {
    "duration": 5,
    "start_time": "2023-06-15T00:33:02.549Z"
   },
   {
    "duration": 1263,
    "start_time": "2023-06-15T07:15:26.390Z"
   },
   {
    "duration": 1366,
    "start_time": "2023-06-15T07:15:27.655Z"
   },
   {
    "duration": 140,
    "start_time": "2023-06-15T07:15:29.022Z"
   },
   {
    "duration": 18,
    "start_time": "2023-06-15T07:15:29.163Z"
   },
   {
    "duration": 113,
    "start_time": "2023-06-15T07:15:29.184Z"
   },
   {
    "duration": 885,
    "start_time": "2023-06-15T07:15:29.304Z"
   },
   {
    "duration": 38,
    "start_time": "2023-06-15T07:15:30.190Z"
   },
   {
    "duration": 132,
    "start_time": "2023-06-15T07:15:30.229Z"
   },
   {
    "duration": 118,
    "start_time": "2023-06-15T07:15:30.363Z"
   },
   {
    "duration": 129,
    "start_time": "2023-06-15T07:15:30.483Z"
   },
   {
    "duration": 616,
    "start_time": "2023-06-15T07:15:30.614Z"
   },
   {
    "duration": 834,
    "start_time": "2023-06-15T07:15:31.232Z"
   },
   {
    "duration": 3,
    "start_time": "2023-06-15T07:15:32.068Z"
   },
   {
    "duration": 390,
    "start_time": "2023-06-15T07:15:32.075Z"
   },
   {
    "duration": 241,
    "start_time": "2023-06-15T07:15:32.467Z"
   },
   {
    "duration": 21,
    "start_time": "2023-06-15T07:15:32.724Z"
   },
   {
    "duration": 65,
    "start_time": "2023-06-15T07:15:32.748Z"
   },
   {
    "duration": 25,
    "start_time": "2023-06-15T07:15:32.815Z"
   },
   {
    "duration": 90,
    "start_time": "2023-06-15T07:15:32.843Z"
   },
   {
    "duration": 2504,
    "start_time": "2023-06-15T07:15:32.936Z"
   },
   {
    "duration": 6,
    "start_time": "2023-06-15T07:15:35.449Z"
   },
   {
    "duration": 45,
    "start_time": "2023-06-15T07:15:35.457Z"
   },
   {
    "duration": 136,
    "start_time": "2023-06-15T07:15:35.504Z"
   },
   {
    "duration": 23723,
    "start_time": "2023-06-15T07:15:35.642Z"
   },
   {
    "duration": 9,
    "start_time": "2023-06-15T07:15:59.366Z"
   },
   {
    "duration": 67,
    "start_time": "2023-06-15T07:15:59.376Z"
   },
   {
    "duration": 11,
    "start_time": "2023-06-15T07:15:59.444Z"
   },
   {
    "duration": 83,
    "start_time": "2023-06-15T07:15:59.458Z"
   },
   {
    "duration": 24,
    "start_time": "2023-06-15T07:15:59.549Z"
   },
   {
    "duration": 5,
    "start_time": "2023-06-15T07:15:59.575Z"
   },
   {
    "duration": 45,
    "start_time": "2023-06-15T07:15:59.582Z"
   },
   {
    "duration": 7,
    "start_time": "2023-06-15T07:15:59.629Z"
   },
   {
    "duration": 171,
    "start_time": "2023-06-15T07:15:59.641Z"
   },
   {
    "duration": 620,
    "start_time": "2023-06-15T07:15:59.829Z"
   },
   {
    "duration": 77,
    "start_time": "2023-06-15T07:16:00.452Z"
   },
   {
    "duration": 4605,
    "start_time": "2023-06-15T07:16:00.538Z"
   },
   {
    "duration": 8,
    "start_time": "2023-06-15T07:16:05.147Z"
   },
   {
    "duration": 30,
    "start_time": "2023-06-15T07:16:05.156Z"
   },
   {
    "duration": 754,
    "start_time": "2023-06-15T07:16:05.187Z"
   },
   {
    "duration": 112,
    "start_time": "2023-06-15T07:16:05.942Z"
   },
   {
    "duration": 94,
    "start_time": "2023-06-15T07:16:06.058Z"
   },
   {
    "duration": 137,
    "start_time": "2023-06-15T07:16:06.168Z"
   },
   {
    "duration": 118,
    "start_time": "2023-06-15T07:16:06.317Z"
   },
   {
    "duration": 3,
    "start_time": "2023-06-15T07:21:00.664Z"
   },
   {
    "duration": 171,
    "start_time": "2023-06-15T08:32:55.362Z"
   },
   {
    "duration": 5,
    "start_time": "2023-06-15T08:32:59.108Z"
   },
   {
    "duration": 2808,
    "start_time": "2023-06-15T08:32:59.115Z"
   },
   {
    "duration": 211,
    "start_time": "2023-06-15T08:33:01.933Z"
   },
   {
    "duration": 259,
    "start_time": "2023-06-15T08:33:02.146Z"
   },
   {
    "duration": 414,
    "start_time": "2023-06-15T08:33:02.407Z"
   },
   {
    "duration": 443,
    "start_time": "2023-06-15T08:33:02.822Z"
   },
   {
    "duration": 27,
    "start_time": "2023-06-15T08:33:03.266Z"
   },
   {
    "duration": 349,
    "start_time": "2023-06-15T08:33:03.294Z"
   },
   {
    "duration": 283,
    "start_time": "2023-06-15T08:33:03.645Z"
   },
   {
    "duration": 206,
    "start_time": "2023-06-15T08:33:03.931Z"
   },
   {
    "duration": 519,
    "start_time": "2023-06-15T08:33:04.138Z"
   },
   {
    "duration": 970,
    "start_time": "2023-06-15T08:33:04.661Z"
   },
   {
    "duration": 10,
    "start_time": "2023-06-15T08:33:05.640Z"
   },
   {
    "duration": 567,
    "start_time": "2023-06-15T08:33:05.659Z"
   },
   {
    "duration": 187,
    "start_time": "2023-06-15T08:33:06.230Z"
   },
   {
    "duration": 69,
    "start_time": "2023-06-15T08:33:06.421Z"
   },
   {
    "duration": 275,
    "start_time": "2023-06-15T08:33:06.495Z"
   },
   {
    "duration": 188,
    "start_time": "2023-06-15T08:33:06.777Z"
   },
   {
    "duration": 67,
    "start_time": "2023-06-15T08:33:06.974Z"
   },
   {
    "duration": 3866,
    "start_time": "2023-06-15T08:33:07.045Z"
   },
   {
    "duration": 8,
    "start_time": "2023-06-15T08:33:10.918Z"
   },
   {
    "duration": 114,
    "start_time": "2023-06-15T08:33:10.931Z"
   },
   {
    "duration": 199,
    "start_time": "2023-06-15T08:33:11.050Z"
   },
   {
    "duration": 27177,
    "start_time": "2023-06-15T08:33:11.257Z"
   },
   {
    "duration": 11,
    "start_time": "2023-06-15T08:33:38.436Z"
   },
   {
    "duration": 255,
    "start_time": "2023-06-15T08:33:38.450Z"
   },
   {
    "duration": 52,
    "start_time": "2023-06-15T08:33:38.714Z"
   },
   {
    "duration": 217,
    "start_time": "2023-06-15T08:33:38.768Z"
   },
   {
    "duration": 54,
    "start_time": "2023-06-15T08:33:38.986Z"
   },
   {
    "duration": 68,
    "start_time": "2023-06-15T08:33:39.045Z"
   },
   {
    "duration": 117,
    "start_time": "2023-06-15T08:33:39.115Z"
   },
   {
    "duration": 56,
    "start_time": "2023-06-15T08:33:39.234Z"
   },
   {
    "duration": 287,
    "start_time": "2023-06-15T08:33:39.291Z"
   },
   {
    "duration": 809,
    "start_time": "2023-06-15T08:33:39.580Z"
   },
   {
    "duration": 59,
    "start_time": "2023-06-15T08:33:40.391Z"
   },
   {
    "duration": 3114,
    "start_time": "2023-06-15T08:33:40.452Z"
   },
   {
    "duration": 7,
    "start_time": "2023-06-15T08:33:43.572Z"
   },
   {
    "duration": 64,
    "start_time": "2023-06-15T08:33:43.580Z"
   },
   {
    "duration": 820,
    "start_time": "2023-06-15T08:33:43.653Z"
   },
   {
    "duration": 106,
    "start_time": "2023-06-15T08:33:44.475Z"
   },
   {
    "duration": 3,
    "start_time": "2023-06-15T08:33:44.583Z"
   },
   {
    "duration": 184,
    "start_time": "2023-06-15T08:33:44.587Z"
   },
   {
    "duration": 81,
    "start_time": "2023-06-15T08:33:44.777Z"
   },
   {
    "duration": 107,
    "start_time": "2023-06-15T08:33:44.874Z"
   },
   {
    "duration": 67,
    "start_time": "2023-06-15T08:33:44.982Z"
   },
   {
    "duration": 199,
    "start_time": "2023-06-15T08:56:27.599Z"
   },
   {
    "duration": 11,
    "start_time": "2023-06-15T08:56:29.067Z"
   },
   {
    "duration": 153,
    "start_time": "2023-06-15T08:56:29.866Z"
   },
   {
    "duration": 13,
    "start_time": "2023-06-15T08:56:30.880Z"
   },
   {
    "duration": 279,
    "start_time": "2023-06-15T08:56:31.473Z"
   },
   {
    "duration": 11,
    "start_time": "2023-06-15T08:57:22.154Z"
   },
   {
    "duration": 2157,
    "start_time": "2023-06-15T08:57:35.176Z"
   },
   {
    "duration": 3721,
    "start_time": "2023-06-15T08:57:49.916Z"
   },
   {
    "duration": 2,
    "start_time": "2023-06-15T09:01:30.367Z"
   },
   {
    "duration": 73,
    "start_time": "2023-06-15T09:01:58.914Z"
   },
   {
    "duration": 56,
    "start_time": "2023-06-15T09:01:59.714Z"
   },
   {
    "duration": 92,
    "start_time": "2023-06-15T09:02:00.392Z"
   },
   {
    "duration": 5,
    "start_time": "2023-06-15T09:02:07.463Z"
   },
   {
    "duration": 7,
    "start_time": "2023-06-15T09:02:16.960Z"
   },
   {
    "duration": 26616,
    "start_time": "2023-06-15T09:06:26.152Z"
   },
   {
    "duration": 3328,
    "start_time": "2023-06-15T09:06:53.759Z"
   },
   {
    "duration": 3333,
    "start_time": "2023-06-15T09:07:09.830Z"
   },
   {
    "duration": 75,
    "start_time": "2023-06-15T09:07:56.990Z"
   },
   {
    "duration": 44338,
    "start_time": "2023-06-15T09:08:15.532Z"
   },
   {
    "duration": 39919,
    "start_time": "2023-06-15T09:09:09.334Z"
   },
   {
    "duration": 29,
    "start_time": "2023-06-15T09:10:17.924Z"
   },
   {
    "duration": 22,
    "start_time": "2023-06-15T09:10:21.627Z"
   },
   {
    "duration": 38472,
    "start_time": "2023-06-15T09:10:27.889Z"
   },
   {
    "duration": 10,
    "start_time": "2023-06-15T09:11:06.373Z"
   },
   {
    "duration": 38547,
    "start_time": "2023-06-15T09:13:07.682Z"
   },
   {
    "duration": 26,
    "start_time": "2023-06-15T09:13:58.135Z"
   },
   {
    "duration": 9,
    "start_time": "2023-06-15T09:14:25.936Z"
   },
   {
    "duration": 9,
    "start_time": "2023-06-15T09:14:59.136Z"
   },
   {
    "duration": 4,
    "start_time": "2023-06-15T09:15:09.368Z"
   },
   {
    "duration": 57,
    "start_time": "2023-06-15T09:36:30.450Z"
   },
   {
    "duration": 252,
    "start_time": "2023-06-15T09:37:26.899Z"
   },
   {
    "duration": 3373,
    "start_time": "2023-06-15T09:39:26.214Z"
   },
   {
    "duration": 273,
    "start_time": "2023-06-15T09:39:30.993Z"
   },
   {
    "duration": 50,
    "start_time": "2023-06-15T09:39:37.866Z"
   },
   {
    "duration": 442,
    "start_time": "2023-06-15T09:39:41.246Z"
   },
   {
    "duration": 5135,
    "start_time": "2023-06-15T09:39:50.430Z"
   },
   {
    "duration": 4995,
    "start_time": "2023-06-15T09:40:04.951Z"
   },
   {
    "duration": 7792,
    "start_time": "2023-06-15T09:40:36.696Z"
   },
   {
    "duration": 18510,
    "start_time": "2023-06-15T09:53:47.634Z"
   },
   {
    "duration": 570282,
    "start_time": "2023-06-15T09:58:06.441Z"
   },
   {
    "duration": 664093,
    "start_time": "2023-06-15T18:15:20.581Z"
   },
   {
    "duration": 9044,
    "start_time": "2023-06-15T18:26:24.677Z"
   },
   {
    "duration": 1592749,
    "start_time": "2023-06-15T18:27:01.389Z"
   },
   {
    "duration": 9769,
    "start_time": "2023-06-15T18:53:34.140Z"
   },
   {
    "duration": 6,
    "start_time": "2023-06-15T19:14:55.925Z"
   },
   {
    "duration": 230342,
    "start_time": "2023-06-15T19:23:33.272Z"
   },
   {
    "duration": 558,
    "start_time": "2023-06-15T19:37:56.837Z"
   },
   {
    "duration": 4,
    "start_time": "2023-06-15T19:37:58.640Z"
   },
   {
    "duration": 4,
    "start_time": "2023-06-15T19:38:40.634Z"
   },
   {
    "duration": 9,
    "start_time": "2023-06-15T19:38:47.718Z"
   },
   {
    "duration": 5,
    "start_time": "2023-06-15T19:38:54.728Z"
   },
   {
    "duration": 524,
    "start_time": "2023-06-15T19:43:35.018Z"
   },
   {
    "duration": 13,
    "start_time": "2023-06-15T19:43:40.447Z"
   },
   {
    "duration": 5,
    "start_time": "2023-06-15T19:43:41.455Z"
   },
   {
    "duration": 32307,
    "start_time": "2023-06-15T19:44:35.948Z"
   },
   {
    "duration": 3390,
    "start_time": "2023-06-15T19:45:28.444Z"
   },
   {
    "duration": 19,
    "start_time": "2023-06-15T19:47:22.898Z"
   },
   {
    "duration": 9,
    "start_time": "2023-06-15T19:47:23.630Z"
   },
   {
    "duration": 2178,
    "start_time": "2023-06-15T19:54:20.925Z"
   },
   {
    "duration": 30,
    "start_time": "2023-06-15T19:54:23.294Z"
   },
   {
    "duration": 2001,
    "start_time": "2023-06-15T22:02:57.328Z"
   },
   {
    "duration": 962,
    "start_time": "2023-06-15T22:04:48.349Z"
   },
   {
    "duration": 41259,
    "start_time": "2023-06-15T22:05:29.062Z"
   },
   {
    "duration": 67,
    "start_time": "2023-06-15T22:06:15.317Z"
   },
   {
    "duration": 0,
    "start_time": "2023-06-15T22:19:23.000Z"
   },
   {
    "duration": 20973,
    "start_time": "2023-06-15T22:19:28.335Z"
   },
   {
    "duration": 9,
    "start_time": "2023-06-15T22:20:22.889Z"
   },
   {
    "duration": 22,
    "start_time": "2023-06-15T22:20:28.125Z"
   },
   {
    "duration": 3,
    "start_time": "2023-06-15T22:27:02.263Z"
   },
   {
    "duration": 1057,
    "start_time": "2023-06-15T22:27:02.279Z"
   },
   {
    "duration": 110,
    "start_time": "2023-06-15T22:27:03.337Z"
   },
   {
    "duration": 120,
    "start_time": "2023-06-15T22:27:03.449Z"
   },
   {
    "duration": 157,
    "start_time": "2023-06-15T22:27:03.571Z"
   },
   {
    "duration": 215,
    "start_time": "2023-06-15T22:27:03.730Z"
   },
   {
    "duration": 15,
    "start_time": "2023-06-15T22:27:03.946Z"
   },
   {
    "duration": 52,
    "start_time": "2023-06-15T22:27:03.962Z"
   },
   {
    "duration": 83,
    "start_time": "2023-06-15T22:27:04.022Z"
   },
   {
    "duration": 100,
    "start_time": "2023-06-15T22:27:04.106Z"
   },
   {
    "duration": 344,
    "start_time": "2023-06-15T22:27:04.207Z"
   },
   {
    "duration": 633,
    "start_time": "2023-06-15T22:27:04.552Z"
   },
   {
    "duration": 3,
    "start_time": "2023-06-15T22:27:05.186Z"
   },
   {
    "duration": 292,
    "start_time": "2023-06-15T22:27:05.190Z"
   },
   {
    "duration": 165,
    "start_time": "2023-06-15T22:27:05.486Z"
   },
   {
    "duration": 7,
    "start_time": "2023-06-15T22:27:05.653Z"
   },
   {
    "duration": 68,
    "start_time": "2023-06-15T22:27:05.661Z"
   },
   {
    "duration": 28,
    "start_time": "2023-06-15T22:27:05.731Z"
   },
   {
    "duration": 5,
    "start_time": "2023-06-15T22:27:05.761Z"
   },
   {
    "duration": 2462,
    "start_time": "2023-06-15T22:27:05.767Z"
   },
   {
    "duration": 3,
    "start_time": "2023-06-15T22:27:08.231Z"
   },
   {
    "duration": 108,
    "start_time": "2023-06-15T22:27:08.236Z"
   },
   {
    "duration": 46,
    "start_time": "2023-06-15T22:27:08.346Z"
   },
   {
    "duration": 23416,
    "start_time": "2023-06-15T22:27:08.394Z"
   },
   {
    "duration": 18,
    "start_time": "2023-06-15T22:27:31.811Z"
   },
   {
    "duration": 101,
    "start_time": "2023-06-15T22:27:31.830Z"
   },
   {
    "duration": 7,
    "start_time": "2023-06-15T22:27:31.933Z"
   },
   {
    "duration": 75,
    "start_time": "2023-06-15T22:27:31.942Z"
   },
   {
    "duration": 14,
    "start_time": "2023-06-15T22:27:32.034Z"
   },
   {
    "duration": 12,
    "start_time": "2023-06-15T22:27:32.049Z"
   },
   {
    "duration": 24,
    "start_time": "2023-06-15T22:27:32.063Z"
   },
   {
    "duration": 3,
    "start_time": "2023-06-15T22:27:32.088Z"
   },
   {
    "duration": 104,
    "start_time": "2023-06-15T22:27:32.092Z"
   },
   {
    "duration": 595,
    "start_time": "2023-06-15T22:27:32.198Z"
   },
   {
    "duration": 47,
    "start_time": "2023-06-15T22:27:32.794Z"
   },
   {
    "duration": 2209,
    "start_time": "2023-06-15T22:27:32.842Z"
   },
   {
    "duration": 7,
    "start_time": "2023-06-15T22:27:35.053Z"
   },
   {
    "duration": 20,
    "start_time": "2023-06-15T22:27:35.061Z"
   },
   {
    "duration": 696,
    "start_time": "2023-06-15T22:27:35.083Z"
   },
   {
    "duration": 104,
    "start_time": "2023-06-15T22:27:35.781Z"
   },
   {
    "duration": 127,
    "start_time": "2023-06-15T22:27:35.886Z"
   },
   {
    "duration": 102,
    "start_time": "2023-06-15T22:27:36.018Z"
   },
   {
    "duration": 129,
    "start_time": "2023-06-15T22:27:36.124Z"
   },
   {
    "duration": 32195,
    "start_time": "2023-06-15T22:27:36.256Z"
   },
   {
    "duration": 502,
    "start_time": "2023-06-15T22:28:08.453Z"
   },
   {
    "duration": 13,
    "start_time": "2023-06-15T22:28:08.957Z"
   },
   {
    "duration": 4,
    "start_time": "2023-06-15T22:28:08.972Z"
   },
   {
    "duration": 2106,
    "start_time": "2023-06-15T22:28:08.998Z"
   },
   {
    "duration": 9,
    "start_time": "2023-06-15T22:31:15.935Z"
   },
   {
    "duration": 0,
    "start_time": "2023-06-15T22:31:15.946Z"
   },
   {
    "duration": 0,
    "start_time": "2023-06-15T22:31:15.946Z"
   },
   {
    "duration": 0,
    "start_time": "2023-06-15T22:31:15.948Z"
   },
   {
    "duration": 0,
    "start_time": "2023-06-15T22:31:15.949Z"
   },
   {
    "duration": 0,
    "start_time": "2023-06-15T22:31:15.950Z"
   },
   {
    "duration": 0,
    "start_time": "2023-06-15T22:31:15.950Z"
   },
   {
    "duration": 0,
    "start_time": "2023-06-15T22:31:15.951Z"
   },
   {
    "duration": 3,
    "start_time": "2023-06-15T22:31:18.035Z"
   },
   {
    "duration": 2,
    "start_time": "2023-06-15T22:31:32.743Z"
   },
   {
    "duration": 192082,
    "start_time": "2023-06-15T22:31:44.839Z"
   },
   {
    "duration": 560,
    "start_time": "2023-06-15T22:34:56.922Z"
   },
   {
    "duration": 4,
    "start_time": "2023-06-15T22:34:57.484Z"
   },
   {
    "duration": 2150,
    "start_time": "2023-06-15T22:34:57.501Z"
   },
   {
    "duration": 28784,
    "start_time": "2023-06-15T22:34:59.653Z"
   },
   {
    "duration": 45,
    "start_time": "2023-06-15T22:35:33.824Z"
   },
   {
    "duration": 61051,
    "start_time": "2023-06-15T22:42:20.874Z"
   },
   {
    "duration": 4,
    "start_time": "2023-06-15T22:49:23.822Z"
   },
   {
    "duration": 10,
    "start_time": "2023-06-15T22:49:25.947Z"
   },
   {
    "duration": 20,
    "start_time": "2023-06-15T22:49:34.622Z"
   },
   {
    "duration": 294929,
    "start_time": "2023-06-15T22:52:28.698Z"
   },
   {
    "duration": 9,
    "start_time": "2023-06-15T22:57:48.760Z"
   },
   {
    "duration": 28,
    "start_time": "2023-06-15T22:58:49.295Z"
   },
   {
    "duration": 4670,
    "start_time": "2023-06-15T22:58:59.995Z"
   },
   {
    "duration": 3,
    "start_time": "2023-06-15T22:59:09.423Z"
   },
   {
    "duration": 11,
    "start_time": "2023-06-15T22:59:15.912Z"
   },
   {
    "duration": 14,
    "start_time": "2023-06-15T22:59:21.595Z"
   },
   {
    "duration": 3,
    "start_time": "2023-06-15T22:59:23.968Z"
   },
   {
    "duration": 395,
    "start_time": "2023-06-15T23:07:08.186Z"
   },
   {
    "duration": 16620,
    "start_time": "2023-06-15T23:08:06.559Z"
   },
   {
    "duration": 19423,
    "start_time": "2023-06-15T23:11:26.050Z"
   },
   {
    "duration": 0,
    "start_time": "2023-06-15T23:11:55.928Z"
   },
   {
    "duration": 206852,
    "start_time": "2023-06-15T23:11:57.877Z"
   },
   {
    "duration": 3,
    "start_time": "2023-06-15T23:16:18.629Z"
   },
   {
    "duration": 10954,
    "start_time": "2023-06-15T23:16:36.761Z"
   },
   {
    "duration": 366831,
    "start_time": "2023-06-15T23:16:59.794Z"
   },
   {
    "duration": 2827716,
    "start_time": "2023-06-15T23:29:42.192Z"
   },
   {
    "duration": 4,
    "start_time": "2023-06-16T00:31:00.394Z"
   },
   {
    "duration": 62,
    "start_time": "2023-06-16T00:52:12.329Z"
   },
   {
    "duration": 4990,
    "start_time": "2023-06-16T00:52:17.818Z"
   },
   {
    "duration": 674,
    "start_time": "2023-06-16T00:53:00.828Z"
   },
   {
    "duration": 4,
    "start_time": "2023-06-16T00:53:28.318Z"
   },
   {
    "duration": 655,
    "start_time": "2023-06-16T00:53:34.644Z"
   },
   {
    "duration": 4,
    "start_time": "2023-06-16T00:53:36.429Z"
   },
   {
    "duration": 4,
    "start_time": "2023-06-16T00:53:39.281Z"
   },
   {
    "duration": 599,
    "start_time": "2023-06-16T00:53:40.912Z"
   },
   {
    "duration": 4,
    "start_time": "2023-06-16T00:53:42.289Z"
   },
   {
    "duration": 3,
    "start_time": "2023-06-16T01:10:25.388Z"
   },
   {
    "duration": 8,
    "start_time": "2023-06-16T01:10:42.989Z"
   },
   {
    "duration": 499,
    "start_time": "2023-06-16T01:12:18.518Z"
   },
   {
    "duration": 4,
    "start_time": "2023-06-16T01:12:19.544Z"
   },
   {
    "duration": 5,
    "start_time": "2023-06-16T01:21:07.381Z"
   },
   {
    "duration": 4,
    "start_time": "2023-06-16T01:21:23.412Z"
   },
   {
    "duration": 4,
    "start_time": "2023-06-16T01:21:37.533Z"
   },
   {
    "duration": 687,
    "start_time": "2023-06-16T01:22:53.414Z"
   },
   {
    "duration": 622,
    "start_time": "2023-06-16T01:23:16.083Z"
   },
   {
    "duration": 52,
    "start_time": "2023-06-18T09:05:02.046Z"
   },
   {
    "duration": 1204,
    "start_time": "2023-06-18T09:05:07.368Z"
   },
   {
    "duration": 1792,
    "start_time": "2023-06-18T09:05:08.574Z"
   },
   {
    "duration": 415,
    "start_time": "2023-06-18T09:05:10.402Z"
   },
   {
    "duration": 33,
    "start_time": "2023-06-18T09:05:10.829Z"
   },
   {
    "duration": 237,
    "start_time": "2023-06-18T09:05:10.900Z"
   },
   {
    "duration": 1254,
    "start_time": "2023-06-18T09:05:11.139Z"
   },
   {
    "duration": 43,
    "start_time": "2023-06-18T09:05:12.395Z"
   },
   {
    "duration": 79,
    "start_time": "2023-06-18T09:05:12.442Z"
   },
   {
    "duration": 130,
    "start_time": "2023-06-18T09:05:12.526Z"
   },
   {
    "duration": 137,
    "start_time": "2023-06-18T09:05:12.657Z"
   },
   {
    "duration": 479,
    "start_time": "2023-06-18T09:05:12.796Z"
   },
   {
    "duration": 851,
    "start_time": "2023-06-18T09:05:13.277Z"
   },
   {
    "duration": 7,
    "start_time": "2023-06-18T09:05:14.130Z"
   },
   {
    "duration": 321,
    "start_time": "2023-06-18T09:05:14.140Z"
   },
   {
    "duration": 209,
    "start_time": "2023-06-18T09:05:14.462Z"
   },
   {
    "duration": 0,
    "start_time": "2023-06-18T09:05:14.674Z"
   },
   {
    "duration": 0,
    "start_time": "2023-06-18T09:05:14.675Z"
   },
   {
    "duration": 0,
    "start_time": "2023-06-18T09:05:14.677Z"
   },
   {
    "duration": 0,
    "start_time": "2023-06-18T09:05:14.679Z"
   },
   {
    "duration": 0,
    "start_time": "2023-06-18T09:05:14.680Z"
   },
   {
    "duration": 0,
    "start_time": "2023-06-18T09:05:14.682Z"
   },
   {
    "duration": 0,
    "start_time": "2023-06-18T09:05:14.683Z"
   },
   {
    "duration": 0,
    "start_time": "2023-06-18T09:05:14.684Z"
   },
   {
    "duration": 0,
    "start_time": "2023-06-18T09:05:14.685Z"
   },
   {
    "duration": 0,
    "start_time": "2023-06-18T09:05:14.687Z"
   },
   {
    "duration": 0,
    "start_time": "2023-06-18T09:05:14.688Z"
   },
   {
    "duration": 0,
    "start_time": "2023-06-18T09:05:14.689Z"
   },
   {
    "duration": 0,
    "start_time": "2023-06-18T09:05:14.691Z"
   },
   {
    "duration": 0,
    "start_time": "2023-06-18T09:05:14.692Z"
   },
   {
    "duration": 0,
    "start_time": "2023-06-18T09:05:14.693Z"
   },
   {
    "duration": 0,
    "start_time": "2023-06-18T09:05:14.694Z"
   },
   {
    "duration": 0,
    "start_time": "2023-06-18T09:05:14.696Z"
   },
   {
    "duration": 0,
    "start_time": "2023-06-18T09:05:14.697Z"
   },
   {
    "duration": 0,
    "start_time": "2023-06-18T09:05:14.698Z"
   },
   {
    "duration": 0,
    "start_time": "2023-06-18T09:05:14.699Z"
   },
   {
    "duration": 0,
    "start_time": "2023-06-18T09:05:14.700Z"
   },
   {
    "duration": 0,
    "start_time": "2023-06-18T09:05:14.700Z"
   },
   {
    "duration": 0,
    "start_time": "2023-06-18T09:05:14.701Z"
   },
   {
    "duration": 0,
    "start_time": "2023-06-18T09:05:14.702Z"
   },
   {
    "duration": 0,
    "start_time": "2023-06-18T09:05:14.702Z"
   },
   {
    "duration": 0,
    "start_time": "2023-06-18T09:05:14.703Z"
   },
   {
    "duration": 0,
    "start_time": "2023-06-18T09:05:14.704Z"
   },
   {
    "duration": 0,
    "start_time": "2023-06-18T09:05:14.708Z"
   },
   {
    "duration": 0,
    "start_time": "2023-06-18T09:05:14.709Z"
   },
   {
    "duration": 0,
    "start_time": "2023-06-18T09:05:14.710Z"
   },
   {
    "duration": 0,
    "start_time": "2023-06-18T09:05:14.710Z"
   },
   {
    "duration": 0,
    "start_time": "2023-06-18T09:05:14.711Z"
   },
   {
    "duration": 0,
    "start_time": "2023-06-18T09:05:14.712Z"
   },
   {
    "duration": 0,
    "start_time": "2023-06-18T09:05:14.713Z"
   },
   {
    "duration": 0,
    "start_time": "2023-06-18T09:05:14.714Z"
   },
   {
    "duration": 1,
    "start_time": "2023-06-18T09:05:14.714Z"
   },
   {
    "duration": 0,
    "start_time": "2023-06-18T09:05:14.715Z"
   },
   {
    "duration": 0,
    "start_time": "2023-06-18T09:05:14.716Z"
   },
   {
    "duration": 1,
    "start_time": "2023-06-18T09:05:14.721Z"
   },
   {
    "duration": 0,
    "start_time": "2023-06-18T09:05:14.722Z"
   },
   {
    "duration": 0,
    "start_time": "2023-06-18T09:05:14.723Z"
   },
   {
    "duration": 0,
    "start_time": "2023-06-18T09:05:14.724Z"
   },
   {
    "duration": 0,
    "start_time": "2023-06-18T09:05:14.725Z"
   },
   {
    "duration": 0,
    "start_time": "2023-06-18T09:05:14.726Z"
   },
   {
    "duration": 0,
    "start_time": "2023-06-18T09:05:14.726Z"
   },
   {
    "duration": 0,
    "start_time": "2023-06-18T09:05:14.727Z"
   },
   {
    "duration": 0,
    "start_time": "2023-06-18T09:05:14.728Z"
   },
   {
    "duration": 0,
    "start_time": "2023-06-18T09:05:14.728Z"
   },
   {
    "duration": 437,
    "start_time": "2023-06-18T09:05:34.649Z"
   },
   {
    "duration": 494,
    "start_time": "2023-06-18T09:06:18.662Z"
   },
   {
    "duration": 111,
    "start_time": "2023-06-18T09:14:31.628Z"
   },
   {
    "duration": 36,
    "start_time": "2023-06-18T09:14:50.934Z"
   },
   {
    "duration": 15,
    "start_time": "2023-06-18T09:15:59.551Z"
   },
   {
    "duration": 4,
    "start_time": "2023-06-18T09:16:12.671Z"
   },
   {
    "duration": 1109,
    "start_time": "2023-06-18T09:16:12.677Z"
   },
   {
    "duration": 198,
    "start_time": "2023-06-18T09:16:13.790Z"
   },
   {
    "duration": 50,
    "start_time": "2023-06-18T09:16:13.989Z"
   },
   {
    "duration": 149,
    "start_time": "2023-06-18T09:16:14.042Z"
   },
   {
    "duration": 386,
    "start_time": "2023-06-18T09:16:14.200Z"
   },
   {
    "duration": 49,
    "start_time": "2023-06-18T09:16:14.590Z"
   },
   {
    "duration": 49,
    "start_time": "2023-06-18T09:16:14.641Z"
   },
   {
    "duration": 144,
    "start_time": "2023-06-18T09:16:14.692Z"
   },
   {
    "duration": 178,
    "start_time": "2023-06-18T09:16:14.840Z"
   },
   {
    "duration": 634,
    "start_time": "2023-06-18T09:16:15.021Z"
   },
   {
    "duration": 1101,
    "start_time": "2023-06-18T09:16:15.660Z"
   },
   {
    "duration": 3,
    "start_time": "2023-06-18T09:16:16.767Z"
   },
   {
    "duration": 457,
    "start_time": "2023-06-18T09:16:16.772Z"
   },
   {
    "duration": 149,
    "start_time": "2023-06-18T09:16:17.235Z"
   },
   {
    "duration": 17,
    "start_time": "2023-06-18T09:16:22.328Z"
   },
   {
    "duration": 486,
    "start_time": "2023-06-18T09:16:26.142Z"
   },
   {
    "duration": 16,
    "start_time": "2023-06-18T09:20:58.464Z"
   },
   {
    "duration": 11,
    "start_time": "2023-06-18T09:21:30.577Z"
   },
   {
    "duration": 329,
    "start_time": "2023-06-18T09:25:56.838Z"
   },
   {
    "duration": 239,
    "start_time": "2023-06-18T09:26:15.349Z"
   },
   {
    "duration": 292,
    "start_time": "2023-06-18T09:26:27.146Z"
   },
   {
    "duration": 41,
    "start_time": "2023-06-18T09:27:08.340Z"
   },
   {
    "duration": 59,
    "start_time": "2023-06-18T09:27:31.638Z"
   },
   {
    "duration": 158,
    "start_time": "2023-06-18T09:30:09.426Z"
   },
   {
    "duration": 15,
    "start_time": "2023-06-18T09:30:56.135Z"
   },
   {
    "duration": 1084,
    "start_time": "2023-06-18T09:30:56.153Z"
   },
   {
    "duration": 219,
    "start_time": "2023-06-18T09:30:57.239Z"
   },
   {
    "duration": 28,
    "start_time": "2023-06-18T09:30:57.463Z"
   },
   {
    "duration": 197,
    "start_time": "2023-06-18T09:30:57.493Z"
   },
   {
    "duration": 300,
    "start_time": "2023-06-18T09:30:57.692Z"
   },
   {
    "duration": 40,
    "start_time": "2023-06-18T09:30:57.993Z"
   },
   {
    "duration": 46,
    "start_time": "2023-06-18T09:30:58.038Z"
   },
   {
    "duration": 198,
    "start_time": "2023-06-18T09:30:58.085Z"
   },
   {
    "duration": 199,
    "start_time": "2023-06-18T09:30:58.286Z"
   },
   {
    "duration": 496,
    "start_time": "2023-06-18T09:30:58.487Z"
   },
   {
    "duration": 788,
    "start_time": "2023-06-18T09:30:58.986Z"
   },
   {
    "duration": 3,
    "start_time": "2023-06-18T09:30:59.777Z"
   },
   {
    "duration": 499,
    "start_time": "2023-06-18T09:30:59.782Z"
   },
   {
    "duration": 140,
    "start_time": "2023-06-18T09:31:00.283Z"
   },
   {
    "duration": 129,
    "start_time": "2023-06-18T09:31:00.424Z"
   },
   {
    "duration": 218,
    "start_time": "2023-06-18T09:31:22.751Z"
   },
   {
    "duration": 31,
    "start_time": "2023-06-18T09:35:27.463Z"
   },
   {
    "duration": 36,
    "start_time": "2023-06-18T09:36:29.399Z"
   },
   {
    "duration": 44,
    "start_time": "2023-06-18T09:36:43.918Z"
   },
   {
    "duration": 13,
    "start_time": "2023-06-18T09:37:17.055Z"
   },
   {
    "duration": 10,
    "start_time": "2023-06-18T09:40:03.636Z"
   },
   {
    "duration": 67,
    "start_time": "2023-06-18T09:41:02.772Z"
   },
   {
    "duration": 14,
    "start_time": "2023-06-18T09:41:08.222Z"
   },
   {
    "duration": 13,
    "start_time": "2023-06-18T09:43:28.542Z"
   },
   {
    "duration": 13,
    "start_time": "2023-06-18T09:43:28.725Z"
   },
   {
    "duration": 41,
    "start_time": "2023-06-18T09:44:35.728Z"
   },
   {
    "duration": 3,
    "start_time": "2023-06-18T09:52:05.550Z"
   },
   {
    "duration": 831,
    "start_time": "2023-06-18T09:52:05.555Z"
   },
   {
    "duration": 129,
    "start_time": "2023-06-18T09:52:06.388Z"
   },
   {
    "duration": 35,
    "start_time": "2023-06-18T09:52:06.518Z"
   },
   {
    "duration": 109,
    "start_time": "2023-06-18T09:52:06.555Z"
   },
   {
    "duration": 228,
    "start_time": "2023-06-18T09:52:06.666Z"
   },
   {
    "duration": 39,
    "start_time": "2023-06-18T09:52:06.895Z"
   },
   {
    "duration": 32,
    "start_time": "2023-06-18T09:52:06.935Z"
   },
   {
    "duration": 109,
    "start_time": "2023-06-18T09:52:06.969Z"
   },
   {
    "duration": 102,
    "start_time": "2023-06-18T09:52:07.079Z"
   },
   {
    "duration": 382,
    "start_time": "2023-06-18T09:52:07.183Z"
   },
   {
    "duration": 729,
    "start_time": "2023-06-18T09:52:07.567Z"
   },
   {
    "duration": 3,
    "start_time": "2023-06-18T09:52:08.299Z"
   },
   {
    "duration": 287,
    "start_time": "2023-06-18T09:52:08.303Z"
   },
   {
    "duration": 84,
    "start_time": "2023-06-18T09:52:08.592Z"
   },
   {
    "duration": 61,
    "start_time": "2023-06-18T09:52:08.678Z"
   },
   {
    "duration": 13,
    "start_time": "2023-06-18T09:52:08.741Z"
   },
   {
    "duration": 173,
    "start_time": "2023-06-18T09:52:08.756Z"
   },
   {
    "duration": 15,
    "start_time": "2023-06-18T09:52:08.935Z"
   },
   {
    "duration": 43,
    "start_time": "2023-06-18T09:52:08.951Z"
   },
   {
    "duration": 15,
    "start_time": "2023-06-18T09:52:08.995Z"
   },
   {
    "duration": 40,
    "start_time": "2023-06-18T09:52:09.011Z"
   },
   {
    "duration": 2183,
    "start_time": "2023-06-18T09:52:09.052Z"
   },
   {
    "duration": 4,
    "start_time": "2023-06-18T09:52:11.236Z"
   },
   {
    "duration": 38,
    "start_time": "2023-06-18T09:52:11.242Z"
   },
   {
    "duration": 54,
    "start_time": "2023-06-18T09:52:11.282Z"
   },
   {
    "duration": 20259,
    "start_time": "2023-06-18T09:52:11.337Z"
   },
   {
    "duration": 19,
    "start_time": "2023-06-18T09:52:31.598Z"
   },
   {
    "duration": 96,
    "start_time": "2023-06-18T09:52:31.625Z"
   },
   {
    "duration": 54,
    "start_time": "2023-06-18T09:52:31.724Z"
   },
   {
    "duration": 230,
    "start_time": "2023-06-18T09:52:31.779Z"
   },
   {
    "duration": 1307,
    "start_time": "2023-06-18T18:11:47.769Z"
   },
   {
    "duration": 3628,
    "start_time": "2023-06-18T18:11:49.079Z"
   },
   {
    "duration": 127,
    "start_time": "2023-06-18T18:11:52.709Z"
   },
   {
    "duration": 37,
    "start_time": "2023-06-18T18:11:52.839Z"
   },
   {
    "duration": 137,
    "start_time": "2023-06-18T18:11:52.881Z"
   },
   {
    "duration": 726,
    "start_time": "2023-06-18T18:11:53.020Z"
   },
   {
    "duration": 27,
    "start_time": "2023-06-18T18:11:53.749Z"
   },
   {
    "duration": 66,
    "start_time": "2023-06-18T18:11:53.778Z"
   },
   {
    "duration": 136,
    "start_time": "2023-06-18T18:11:53.846Z"
   },
   {
    "duration": 132,
    "start_time": "2023-06-18T18:11:53.985Z"
   },
   {
    "duration": 484,
    "start_time": "2023-06-18T18:11:54.119Z"
   },
   {
    "duration": 880,
    "start_time": "2023-06-18T18:11:54.605Z"
   },
   {
    "duration": 3,
    "start_time": "2023-06-18T18:11:55.487Z"
   },
   {
    "duration": 325,
    "start_time": "2023-06-18T18:11:55.492Z"
   },
   {
    "duration": 102,
    "start_time": "2023-06-18T18:11:55.819Z"
   },
   {
    "duration": 65,
    "start_time": "2023-06-18T18:11:55.922Z"
   },
   {
    "duration": 22,
    "start_time": "2023-06-18T18:11:55.990Z"
   },
   {
    "duration": 205,
    "start_time": "2023-06-18T18:11:56.015Z"
   },
   {
    "duration": 16,
    "start_time": "2023-06-18T18:11:56.222Z"
   },
   {
    "duration": 64,
    "start_time": "2023-06-18T18:11:56.240Z"
   },
   {
    "duration": 17,
    "start_time": "2023-06-18T18:11:56.306Z"
   },
   {
    "duration": 7,
    "start_time": "2023-06-18T18:11:56.325Z"
   },
   {
    "duration": 2811,
    "start_time": "2023-06-18T18:11:56.333Z"
   },
   {
    "duration": 5,
    "start_time": "2023-06-18T18:11:59.146Z"
   },
   {
    "duration": 43,
    "start_time": "2023-06-18T18:11:59.158Z"
   },
   {
    "duration": 48,
    "start_time": "2023-06-18T18:11:59.203Z"
   },
   {
    "duration": 27146,
    "start_time": "2023-06-18T18:11:59.253Z"
   },
   {
    "duration": 8,
    "start_time": "2023-06-18T18:12:26.403Z"
   },
   {
    "duration": 47,
    "start_time": "2023-06-18T18:12:26.412Z"
   },
   {
    "duration": 11,
    "start_time": "2023-06-18T18:12:26.462Z"
   },
   {
    "duration": 45,
    "start_time": "2023-06-18T18:12:26.475Z"
   },
   {
    "duration": 40,
    "start_time": "2023-06-18T18:12:26.522Z"
   },
   {
    "duration": 6,
    "start_time": "2023-06-18T18:12:26.564Z"
   },
   {
    "duration": 35,
    "start_time": "2023-06-18T18:12:26.572Z"
   },
   {
    "duration": 11,
    "start_time": "2023-06-18T18:12:26.609Z"
   },
   {
    "duration": 79,
    "start_time": "2023-06-18T18:12:26.622Z"
   },
   {
    "duration": 754,
    "start_time": "2023-06-18T18:12:26.703Z"
   },
   {
    "duration": 49,
    "start_time": "2023-06-18T18:12:27.458Z"
   },
   {
    "duration": 3482,
    "start_time": "2023-06-18T18:12:27.509Z"
   },
   {
    "duration": 7,
    "start_time": "2023-06-18T18:12:30.993Z"
   },
   {
    "duration": 70,
    "start_time": "2023-06-18T18:12:31.002Z"
   },
   {
    "duration": 607,
    "start_time": "2023-06-18T18:12:31.077Z"
   },
   {
    "duration": 100,
    "start_time": "2023-06-18T18:12:31.685Z"
   },
   {
    "duration": 176,
    "start_time": "2023-06-18T18:12:31.787Z"
   },
   {
    "duration": 11,
    "start_time": "2023-06-18T18:12:31.965Z"
   },
   {
    "duration": 7,
    "start_time": "2023-06-18T18:12:31.978Z"
   },
   {
    "duration": 34060,
    "start_time": "2023-06-18T18:12:31.986Z"
   },
   {
    "duration": 533,
    "start_time": "2023-06-18T18:13:06.047Z"
   },
   {
    "duration": 15,
    "start_time": "2023-06-18T18:13:06.582Z"
   },
   {
    "duration": 27,
    "start_time": "2023-06-18T18:13:06.599Z"
   },
   {
    "duration": 2159,
    "start_time": "2023-06-18T18:13:06.628Z"
   },
   {
    "duration": 23,
    "start_time": "2023-06-18T18:13:08.790Z"
   },
   {
    "duration": 2,
    "start_time": "2023-06-18T18:13:08.815Z"
   },
   {
    "duration": 193994,
    "start_time": "2023-06-18T18:13:08.819Z"
   },
   {
    "duration": 578,
    "start_time": "2023-06-18T18:16:22.815Z"
   },
   {
    "duration": 6,
    "start_time": "2023-06-18T18:16:23.394Z"
   },
   {
    "duration": 2283,
    "start_time": "2023-06-18T18:16:23.402Z"
   },
   {
    "duration": 31,
    "start_time": "2023-06-18T18:16:25.688Z"
   },
   {
    "duration": 142,
    "start_time": "2023-06-18T18:16:25.722Z"
   },
   {
    "duration": 0,
    "start_time": "2023-06-18T18:16:25.867Z"
   },
   {
    "duration": 0,
    "start_time": "2023-06-18T18:16:25.869Z"
   },
   {
    "duration": 0,
    "start_time": "2023-06-18T18:16:25.870Z"
   },
   {
    "duration": 0,
    "start_time": "2023-06-18T18:16:25.872Z"
   },
   {
    "duration": 1,
    "start_time": "2023-06-18T18:16:25.873Z"
   },
   {
    "duration": 0,
    "start_time": "2023-06-18T18:16:25.875Z"
   },
   {
    "duration": 2,
    "start_time": "2023-06-18T18:17:49.418Z"
   },
   {
    "duration": 14,
    "start_time": "2023-06-18T18:31:25.879Z"
   },
   {
    "duration": 34,
    "start_time": "2023-06-18T18:35:12.062Z"
   },
   {
    "duration": 11,
    "start_time": "2023-06-18T18:35:16.711Z"
   },
   {
    "duration": 61,
    "start_time": "2023-06-18T18:35:29.532Z"
   },
   {
    "duration": 7,
    "start_time": "2023-06-18T18:35:33.505Z"
   },
   {
    "duration": 5,
    "start_time": "2023-06-18T18:35:37.398Z"
   },
   {
    "duration": 6,
    "start_time": "2023-06-18T18:36:00.395Z"
   },
   {
    "duration": 8,
    "start_time": "2023-06-18T18:36:37.826Z"
   },
   {
    "duration": 5,
    "start_time": "2023-06-18T18:37:34.937Z"
   },
   {
    "duration": 11,
    "start_time": "2023-06-18T18:38:50.757Z"
   },
   {
    "duration": 15,
    "start_time": "2023-06-18T18:40:02.393Z"
   },
   {
    "duration": 11,
    "start_time": "2023-06-18T18:40:12.109Z"
   },
   {
    "duration": 144,
    "start_time": "2023-06-18T19:11:22.304Z"
   },
   {
    "duration": 10,
    "start_time": "2023-06-18T19:11:38.648Z"
   },
   {
    "duration": 26,
    "start_time": "2023-06-18T19:16:03.474Z"
   },
   {
    "duration": 14,
    "start_time": "2023-06-18T19:16:14.248Z"
   },
   {
    "duration": 10,
    "start_time": "2023-06-18T19:16:22.520Z"
   },
   {
    "duration": 12,
    "start_time": "2023-06-18T19:25:12.847Z"
   },
   {
    "duration": 9,
    "start_time": "2023-06-18T19:25:19.007Z"
   },
   {
    "duration": 9,
    "start_time": "2023-06-18T19:25:33.799Z"
   },
   {
    "duration": 158,
    "start_time": "2023-06-18T19:33:35.540Z"
   },
   {
    "duration": 4716,
    "start_time": "2023-06-18T19:50:49.611Z"
   },
   {
    "duration": 4,
    "start_time": "2023-06-18T20:02:10.652Z"
   },
   {
    "duration": 24,
    "start_time": "2023-06-18T20:17:54.544Z"
   },
   {
    "duration": 5722,
    "start_time": "2023-06-18T20:17:59.233Z"
   },
   {
    "duration": 8,
    "start_time": "2023-06-18T20:18:04.958Z"
   },
   {
    "duration": 951,
    "start_time": "2023-06-18T20:18:04.968Z"
   },
   {
    "duration": 122,
    "start_time": "2023-06-18T20:18:05.921Z"
   },
   {
    "duration": 25,
    "start_time": "2023-06-18T20:18:06.045Z"
   },
   {
    "duration": 100,
    "start_time": "2023-06-18T20:18:06.071Z"
   },
   {
    "duration": 228,
    "start_time": "2023-06-18T20:18:06.173Z"
   },
   {
    "duration": 16,
    "start_time": "2023-06-18T20:18:06.402Z"
   },
   {
    "duration": 54,
    "start_time": "2023-06-18T20:18:06.419Z"
   },
   {
    "duration": 129,
    "start_time": "2023-06-18T20:18:06.475Z"
   },
   {
    "duration": 100,
    "start_time": "2023-06-18T20:18:06.606Z"
   },
   {
    "duration": 461,
    "start_time": "2023-06-18T20:18:06.707Z"
   },
   {
    "duration": 822,
    "start_time": "2023-06-18T20:18:07.169Z"
   },
   {
    "duration": 3,
    "start_time": "2023-06-18T20:18:07.994Z"
   },
   {
    "duration": 293,
    "start_time": "2023-06-18T20:18:07.998Z"
   },
   {
    "duration": 78,
    "start_time": "2023-06-18T20:18:08.292Z"
   },
   {
    "duration": 53,
    "start_time": "2023-06-18T20:18:08.371Z"
   },
   {
    "duration": 35,
    "start_time": "2023-06-18T20:18:08.426Z"
   },
   {
    "duration": 209,
    "start_time": "2023-06-18T20:18:08.463Z"
   },
   {
    "duration": 20,
    "start_time": "2023-06-18T20:18:08.674Z"
   },
   {
    "duration": 40,
    "start_time": "2023-06-18T20:18:08.696Z"
   },
   {
    "duration": 46,
    "start_time": "2023-06-18T20:18:08.738Z"
   },
   {
    "duration": 7,
    "start_time": "2023-06-18T20:18:08.785Z"
   },
   {
    "duration": 54,
    "start_time": "2023-06-18T20:18:08.793Z"
   },
   {
    "duration": 19,
    "start_time": "2023-06-18T20:18:08.849Z"
   },
   {
    "duration": 34,
    "start_time": "2023-06-18T20:18:08.869Z"
   },
   {
    "duration": 0,
    "start_time": "2023-06-18T20:18:08.906Z"
   },
   {
    "duration": 0,
    "start_time": "2023-06-18T20:18:08.906Z"
   },
   {
    "duration": 0,
    "start_time": "2023-06-18T20:18:08.908Z"
   },
   {
    "duration": 0,
    "start_time": "2023-06-18T20:18:08.909Z"
   },
   {
    "duration": 0,
    "start_time": "2023-06-18T20:18:08.910Z"
   },
   {
    "duration": 0,
    "start_time": "2023-06-18T20:18:08.911Z"
   },
   {
    "duration": 0,
    "start_time": "2023-06-18T20:18:08.912Z"
   },
   {
    "duration": 0,
    "start_time": "2023-06-18T20:18:08.913Z"
   },
   {
    "duration": 1,
    "start_time": "2023-06-18T20:18:08.914Z"
   },
   {
    "duration": 0,
    "start_time": "2023-06-18T20:18:08.915Z"
   },
   {
    "duration": 0,
    "start_time": "2023-06-18T20:18:08.917Z"
   },
   {
    "duration": 0,
    "start_time": "2023-06-18T20:18:08.918Z"
   },
   {
    "duration": 0,
    "start_time": "2023-06-18T20:18:08.919Z"
   },
   {
    "duration": 0,
    "start_time": "2023-06-18T20:18:08.920Z"
   },
   {
    "duration": 0,
    "start_time": "2023-06-18T20:18:08.921Z"
   },
   {
    "duration": 0,
    "start_time": "2023-06-18T20:18:08.922Z"
   },
   {
    "duration": 0,
    "start_time": "2023-06-18T20:18:08.923Z"
   },
   {
    "duration": 0,
    "start_time": "2023-06-18T20:18:08.925Z"
   },
   {
    "duration": 0,
    "start_time": "2023-06-18T20:18:08.926Z"
   },
   {
    "duration": 0,
    "start_time": "2023-06-18T20:18:08.927Z"
   },
   {
    "duration": 0,
    "start_time": "2023-06-18T20:18:08.929Z"
   },
   {
    "duration": 0,
    "start_time": "2023-06-18T20:18:08.930Z"
   },
   {
    "duration": 0,
    "start_time": "2023-06-18T20:18:08.959Z"
   },
   {
    "duration": 0,
    "start_time": "2023-06-18T20:18:08.959Z"
   },
   {
    "duration": 0,
    "start_time": "2023-06-18T20:18:08.960Z"
   },
   {
    "duration": 0,
    "start_time": "2023-06-18T20:18:08.961Z"
   },
   {
    "duration": 0,
    "start_time": "2023-06-18T20:18:08.963Z"
   },
   {
    "duration": 0,
    "start_time": "2023-06-18T20:18:08.964Z"
   },
   {
    "duration": 0,
    "start_time": "2023-06-18T20:18:08.965Z"
   },
   {
    "duration": 0,
    "start_time": "2023-06-18T20:18:08.966Z"
   },
   {
    "duration": 0,
    "start_time": "2023-06-18T20:18:08.968Z"
   },
   {
    "duration": 0,
    "start_time": "2023-06-18T20:18:08.969Z"
   },
   {
    "duration": 0,
    "start_time": "2023-06-18T20:18:08.970Z"
   },
   {
    "duration": 0,
    "start_time": "2023-06-18T20:18:08.971Z"
   },
   {
    "duration": 0,
    "start_time": "2023-06-18T20:18:08.972Z"
   },
   {
    "duration": 0,
    "start_time": "2023-06-18T20:18:08.973Z"
   },
   {
    "duration": 52,
    "start_time": "2023-06-18T20:20:52.396Z"
   },
   {
    "duration": 50,
    "start_time": "2023-06-18T20:20:59.694Z"
   },
   {
    "duration": 10,
    "start_time": "2023-06-18T20:21:06.285Z"
   },
   {
    "duration": 7,
    "start_time": "2023-06-18T20:21:11.356Z"
   },
   {
    "duration": 18,
    "start_time": "2023-06-18T20:21:11.365Z"
   },
   {
    "duration": 53,
    "start_time": "2023-06-18T20:21:11.386Z"
   },
   {
    "duration": 6,
    "start_time": "2023-06-18T20:21:11.441Z"
   },
   {
    "duration": 26,
    "start_time": "2023-06-18T20:21:11.466Z"
   },
   {
    "duration": 9,
    "start_time": "2023-06-18T20:21:11.494Z"
   },
   {
    "duration": 19,
    "start_time": "2023-06-18T20:21:11.505Z"
   },
   {
    "duration": 3,
    "start_time": "2023-06-18T20:21:11.526Z"
   },
   {
    "duration": 94,
    "start_time": "2023-06-18T20:21:11.530Z"
   },
   {
    "duration": 699,
    "start_time": "2023-06-18T20:21:11.625Z"
   },
   {
    "duration": 53,
    "start_time": "2023-06-18T20:21:12.326Z"
   },
   {
    "duration": 128,
    "start_time": "2023-06-18T20:21:12.383Z"
   },
   {
    "duration": 7,
    "start_time": "2023-06-18T20:21:12.512Z"
   },
   {
    "duration": 20,
    "start_time": "2023-06-18T20:21:12.520Z"
   },
   {
    "duration": 31,
    "start_time": "2023-06-18T20:21:12.541Z"
   },
   {
    "duration": 0,
    "start_time": "2023-06-18T20:21:12.574Z"
   },
   {
    "duration": 0,
    "start_time": "2023-06-18T20:21:12.576Z"
   },
   {
    "duration": 0,
    "start_time": "2023-06-18T20:21:12.576Z"
   },
   {
    "duration": 0,
    "start_time": "2023-06-18T20:21:12.577Z"
   },
   {
    "duration": 0,
    "start_time": "2023-06-18T20:21:12.578Z"
   },
   {
    "duration": 0,
    "start_time": "2023-06-18T20:21:12.579Z"
   },
   {
    "duration": 0,
    "start_time": "2023-06-18T20:21:12.580Z"
   },
   {
    "duration": 0,
    "start_time": "2023-06-18T20:21:12.581Z"
   },
   {
    "duration": 0,
    "start_time": "2023-06-18T20:21:12.583Z"
   },
   {
    "duration": 0,
    "start_time": "2023-06-18T20:21:12.584Z"
   },
   {
    "duration": 0,
    "start_time": "2023-06-18T20:21:12.585Z"
   },
   {
    "duration": 0,
    "start_time": "2023-06-18T20:21:12.585Z"
   },
   {
    "duration": 0,
    "start_time": "2023-06-18T20:21:12.586Z"
   },
   {
    "duration": 0,
    "start_time": "2023-06-18T20:21:12.587Z"
   },
   {
    "duration": 0,
    "start_time": "2023-06-18T20:21:12.587Z"
   },
   {
    "duration": 0,
    "start_time": "2023-06-18T20:21:12.589Z"
   },
   {
    "duration": 0,
    "start_time": "2023-06-18T20:21:12.590Z"
   },
   {
    "duration": 0,
    "start_time": "2023-06-18T20:21:12.591Z"
   },
   {
    "duration": 0,
    "start_time": "2023-06-18T20:21:12.592Z"
   },
   {
    "duration": 0,
    "start_time": "2023-06-18T20:21:12.592Z"
   },
   {
    "duration": 0,
    "start_time": "2023-06-18T20:21:12.593Z"
   },
   {
    "duration": 0,
    "start_time": "2023-06-18T20:21:12.594Z"
   },
   {
    "duration": 8762,
    "start_time": "2023-06-18T20:21:42.502Z"
   },
   {
    "duration": 67,
    "start_time": "2023-06-18T20:24:29.500Z"
   },
   {
    "duration": 8213,
    "start_time": "2023-06-18T20:24:55.293Z"
   },
   {
    "duration": 8648,
    "start_time": "2023-06-18T20:25:45.598Z"
   },
   {
    "duration": 7663,
    "start_time": "2023-06-18T20:26:16.544Z"
   },
   {
    "duration": 3,
    "start_time": "2023-06-18T20:28:26.208Z"
   },
   {
    "duration": 19,
    "start_time": "2023-06-18T20:29:10.368Z"
   },
   {
    "duration": 8278,
    "start_time": "2023-06-18T20:29:40.032Z"
   },
   {
    "duration": 13,
    "start_time": "2023-06-18T20:30:21.835Z"
   },
   {
    "duration": 13,
    "start_time": "2023-06-18T20:33:08.092Z"
   },
   {
    "duration": 34,
    "start_time": "2023-06-18T20:34:11.437Z"
   },
   {
    "duration": 13,
    "start_time": "2023-06-18T20:34:17.605Z"
   },
   {
    "duration": 300,
    "start_time": "2023-06-18T20:34:55.198Z"
   },
   {
    "duration": 5,
    "start_time": "2023-06-18T20:43:47.463Z"
   },
   {
    "duration": 7,
    "start_time": "2023-06-18T20:43:51.462Z"
   },
   {
    "duration": 10,
    "start_time": "2023-06-18T20:44:34.777Z"
   },
   {
    "duration": 341,
    "start_time": "2023-06-18T20:45:02.375Z"
   },
   {
    "duration": 322,
    "start_time": "2023-06-18T20:45:10.478Z"
   },
   {
    "duration": 323,
    "start_time": "2023-06-18T20:45:17.456Z"
   },
   {
    "duration": 74,
    "start_time": "2023-06-18T20:45:27.751Z"
   },
   {
    "duration": 1725,
    "start_time": "2023-06-18T20:45:40.139Z"
   },
   {
    "duration": 1771,
    "start_time": "2023-06-18T20:46:00.975Z"
   },
   {
    "duration": 11,
    "start_time": "2023-06-18T20:49:39.797Z"
   },
   {
    "duration": 4,
    "start_time": "2023-06-18T20:49:59.873Z"
   },
   {
    "duration": 11,
    "start_time": "2023-06-18T20:58:14.722Z"
   },
   {
    "duration": 6,
    "start_time": "2023-06-18T20:58:18.704Z"
   },
   {
    "duration": 10,
    "start_time": "2023-06-18T20:58:53.519Z"
   },
   {
    "duration": 5,
    "start_time": "2023-06-18T20:59:02.638Z"
   },
   {
    "duration": 10,
    "start_time": "2023-06-18T20:59:12.681Z"
   },
   {
    "duration": 4,
    "start_time": "2023-06-18T21:00:15.100Z"
   },
   {
    "duration": 5,
    "start_time": "2023-06-18T21:00:38.384Z"
   },
   {
    "duration": 5,
    "start_time": "2023-06-18T21:01:21.815Z"
   },
   {
    "duration": 6,
    "start_time": "2023-06-18T21:01:38.087Z"
   },
   {
    "duration": 3,
    "start_time": "2023-06-18T21:01:39.687Z"
   },
   {
    "duration": 1671,
    "start_time": "2023-06-18T21:05:01.178Z"
   },
   {
    "duration": 100,
    "start_time": "2023-06-18T21:07:10.786Z"
   },
   {
    "duration": 1387,
    "start_time": "2023-06-18T21:07:18.599Z"
   },
   {
    "duration": 4874,
    "start_time": "2023-06-18T21:07:29.097Z"
   },
   {
    "duration": 5,
    "start_time": "2023-06-18T21:07:33.975Z"
   },
   {
    "duration": 854,
    "start_time": "2023-06-18T21:07:33.982Z"
   },
   {
    "duration": 138,
    "start_time": "2023-06-18T21:07:34.838Z"
   },
   {
    "duration": 21,
    "start_time": "2023-06-18T21:07:34.978Z"
   },
   {
    "duration": 111,
    "start_time": "2023-06-18T21:07:35.001Z"
   },
   {
    "duration": 228,
    "start_time": "2023-06-18T21:07:35.113Z"
   },
   {
    "duration": 28,
    "start_time": "2023-06-18T21:07:35.343Z"
   },
   {
    "duration": 41,
    "start_time": "2023-06-18T21:07:35.372Z"
   },
   {
    "duration": 105,
    "start_time": "2023-06-18T21:07:35.416Z"
   },
   {
    "duration": 102,
    "start_time": "2023-06-18T21:07:35.523Z"
   },
   {
    "duration": 416,
    "start_time": "2023-06-18T21:07:35.627Z"
   },
   {
    "duration": 813,
    "start_time": "2023-06-18T21:07:36.045Z"
   },
   {
    "duration": 3,
    "start_time": "2023-06-18T21:07:36.860Z"
   },
   {
    "duration": 301,
    "start_time": "2023-06-18T21:07:36.865Z"
   },
   {
    "duration": 80,
    "start_time": "2023-06-18T21:07:37.168Z"
   },
   {
    "duration": 53,
    "start_time": "2023-06-18T21:07:37.250Z"
   },
   {
    "duration": 17,
    "start_time": "2023-06-18T21:07:37.305Z"
   },
   {
    "duration": 210,
    "start_time": "2023-06-18T21:07:37.323Z"
   },
   {
    "duration": 35,
    "start_time": "2023-06-18T21:07:37.536Z"
   },
   {
    "duration": 40,
    "start_time": "2023-06-18T21:07:37.573Z"
   },
   {
    "duration": 37,
    "start_time": "2023-06-18T21:07:37.615Z"
   },
   {
    "duration": 7,
    "start_time": "2023-06-18T21:07:37.654Z"
   },
   {
    "duration": 54,
    "start_time": "2023-06-18T21:07:37.662Z"
   },
   {
    "duration": 57,
    "start_time": "2023-06-18T21:07:37.718Z"
   },
   {
    "duration": 7,
    "start_time": "2023-06-18T21:07:37.777Z"
   },
   {
    "duration": 15,
    "start_time": "2023-06-18T21:07:37.786Z"
   },
   {
    "duration": 56,
    "start_time": "2023-06-18T21:07:37.804Z"
   },
   {
    "duration": 8,
    "start_time": "2023-06-18T21:07:37.862Z"
   },
   {
    "duration": 29,
    "start_time": "2023-06-18T21:07:37.872Z"
   },
   {
    "duration": 4,
    "start_time": "2023-06-18T21:07:37.903Z"
   },
   {
    "duration": 25,
    "start_time": "2023-06-18T21:07:37.908Z"
   },
   {
    "duration": 3,
    "start_time": "2023-06-18T21:07:37.935Z"
   },
   {
    "duration": 86,
    "start_time": "2023-06-18T21:07:37.939Z"
   },
   {
    "duration": 1259,
    "start_time": "2023-06-18T21:07:38.027Z"
   },
   {
    "duration": 103,
    "start_time": "2023-06-18T21:07:39.288Z"
   },
   {
    "duration": 301,
    "start_time": "2023-06-18T21:07:39.394Z"
   },
   {
    "duration": 5,
    "start_time": "2023-06-18T21:07:39.697Z"
   },
   {
    "duration": 67,
    "start_time": "2023-06-18T21:07:39.703Z"
   },
   {
    "duration": 6,
    "start_time": "2023-06-18T21:07:39.772Z"
   },
   {
    "duration": 1258,
    "start_time": "2023-06-18T21:07:39.781Z"
   },
   {
    "duration": 0,
    "start_time": "2023-06-18T21:07:41.041Z"
   },
   {
    "duration": 0,
    "start_time": "2023-06-18T21:07:41.042Z"
   },
   {
    "duration": 0,
    "start_time": "2023-06-18T21:07:41.043Z"
   },
   {
    "duration": 0,
    "start_time": "2023-06-18T21:07:41.045Z"
   },
   {
    "duration": 0,
    "start_time": "2023-06-18T21:07:41.046Z"
   },
   {
    "duration": 0,
    "start_time": "2023-06-18T21:07:41.046Z"
   },
   {
    "duration": 0,
    "start_time": "2023-06-18T21:07:41.048Z"
   },
   {
    "duration": 0,
    "start_time": "2023-06-18T21:07:41.048Z"
   },
   {
    "duration": 0,
    "start_time": "2023-06-18T21:07:41.050Z"
   },
   {
    "duration": 0,
    "start_time": "2023-06-18T21:07:41.051Z"
   },
   {
    "duration": 0,
    "start_time": "2023-06-18T21:07:41.052Z"
   },
   {
    "duration": 0,
    "start_time": "2023-06-18T21:07:41.053Z"
   },
   {
    "duration": 0,
    "start_time": "2023-06-18T21:07:41.055Z"
   },
   {
    "duration": 0,
    "start_time": "2023-06-18T21:07:41.056Z"
   },
   {
    "duration": 0,
    "start_time": "2023-06-18T21:07:41.056Z"
   },
   {
    "duration": 0,
    "start_time": "2023-06-18T21:07:41.057Z"
   },
   {
    "duration": 0,
    "start_time": "2023-06-18T21:07:41.057Z"
   },
   {
    "duration": 0,
    "start_time": "2023-06-18T21:07:41.060Z"
   },
   {
    "duration": 0,
    "start_time": "2023-06-18T21:07:41.061Z"
   },
   {
    "duration": 0,
    "start_time": "2023-06-18T21:07:41.062Z"
   },
   {
    "duration": 0,
    "start_time": "2023-06-18T21:07:41.063Z"
   },
   {
    "duration": 0,
    "start_time": "2023-06-18T21:07:41.064Z"
   },
   {
    "duration": 16,
    "start_time": "2023-06-18T21:08:27.085Z"
   },
   {
    "duration": 15,
    "start_time": "2023-06-18T21:08:54.153Z"
   },
   {
    "duration": 1345,
    "start_time": "2023-06-18T21:08:56.392Z"
   },
   {
    "duration": 4862,
    "start_time": "2023-06-18T21:09:07.992Z"
   },
   {
    "duration": 10,
    "start_time": "2023-06-18T21:09:12.857Z"
   },
   {
    "duration": 847,
    "start_time": "2023-06-18T21:09:12.869Z"
   },
   {
    "duration": 128,
    "start_time": "2023-06-18T21:09:13.718Z"
   },
   {
    "duration": 19,
    "start_time": "2023-06-18T21:09:13.857Z"
   },
   {
    "duration": 118,
    "start_time": "2023-06-18T21:09:13.878Z"
   },
   {
    "duration": 293,
    "start_time": "2023-06-18T21:09:13.999Z"
   },
   {
    "duration": 23,
    "start_time": "2023-06-18T21:09:14.293Z"
   },
   {
    "duration": 74,
    "start_time": "2023-06-18T21:09:14.318Z"
   },
   {
    "duration": 121,
    "start_time": "2023-06-18T21:09:14.394Z"
   },
   {
    "duration": 133,
    "start_time": "2023-06-18T21:09:14.517Z"
   },
   {
    "duration": 455,
    "start_time": "2023-06-18T21:09:14.652Z"
   },
   {
    "duration": 925,
    "start_time": "2023-06-18T21:09:15.108Z"
   },
   {
    "duration": 3,
    "start_time": "2023-06-18T21:09:16.036Z"
   },
   {
    "duration": 353,
    "start_time": "2023-06-18T21:09:16.041Z"
   },
   {
    "duration": 79,
    "start_time": "2023-06-18T21:09:16.396Z"
   },
   {
    "duration": 49,
    "start_time": "2023-06-18T21:09:16.477Z"
   },
   {
    "duration": 41,
    "start_time": "2023-06-18T21:09:16.527Z"
   },
   {
    "duration": 216,
    "start_time": "2023-06-18T21:09:16.570Z"
   },
   {
    "duration": 23,
    "start_time": "2023-06-18T21:09:16.788Z"
   },
   {
    "duration": 82,
    "start_time": "2023-06-18T21:09:16.813Z"
   },
   {
    "duration": 24,
    "start_time": "2023-06-18T21:09:16.897Z"
   },
   {
    "duration": 7,
    "start_time": "2023-06-18T21:09:16.922Z"
   },
   {
    "duration": 52,
    "start_time": "2023-06-18T21:09:16.931Z"
   },
   {
    "duration": 75,
    "start_time": "2023-06-18T21:09:16.985Z"
   },
   {
    "duration": 9,
    "start_time": "2023-06-18T21:09:17.064Z"
   },
   {
    "duration": 16,
    "start_time": "2023-06-18T21:09:17.084Z"
   },
   {
    "duration": 44,
    "start_time": "2023-06-18T21:09:17.103Z"
   },
   {
    "duration": 11,
    "start_time": "2023-06-18T21:09:17.149Z"
   },
   {
    "duration": 15,
    "start_time": "2023-06-18T21:09:17.162Z"
   },
   {
    "duration": 5,
    "start_time": "2023-06-18T21:09:17.180Z"
   },
   {
    "duration": 25,
    "start_time": "2023-06-18T21:09:17.192Z"
   },
   {
    "duration": 4,
    "start_time": "2023-06-18T21:09:17.219Z"
   },
   {
    "duration": 96,
    "start_time": "2023-06-18T21:09:17.225Z"
   },
   {
    "duration": 691,
    "start_time": "2023-06-18T21:09:17.323Z"
   },
   {
    "duration": 57,
    "start_time": "2023-06-18T21:09:18.016Z"
   },
   {
    "duration": 139,
    "start_time": "2023-06-18T21:09:18.074Z"
   },
   {
    "duration": 7,
    "start_time": "2023-06-18T21:09:18.215Z"
   },
   {
    "duration": 21,
    "start_time": "2023-06-18T21:09:18.224Z"
   },
   {
    "duration": 17,
    "start_time": "2023-06-18T21:09:18.247Z"
   },
   {
    "duration": 1430,
    "start_time": "2023-06-18T21:09:18.278Z"
   },
   {
    "duration": 0,
    "start_time": "2023-06-18T21:09:19.710Z"
   },
   {
    "duration": 0,
    "start_time": "2023-06-18T21:09:19.712Z"
   },
   {
    "duration": 0,
    "start_time": "2023-06-18T21:09:19.714Z"
   },
   {
    "duration": 0,
    "start_time": "2023-06-18T21:09:19.716Z"
   },
   {
    "duration": 0,
    "start_time": "2023-06-18T21:09:19.718Z"
   },
   {
    "duration": 0,
    "start_time": "2023-06-18T21:09:19.720Z"
   },
   {
    "duration": 0,
    "start_time": "2023-06-18T21:09:19.722Z"
   },
   {
    "duration": 0,
    "start_time": "2023-06-18T21:09:19.723Z"
   },
   {
    "duration": 0,
    "start_time": "2023-06-18T21:09:19.725Z"
   },
   {
    "duration": 0,
    "start_time": "2023-06-18T21:09:19.726Z"
   },
   {
    "duration": 0,
    "start_time": "2023-06-18T21:09:19.728Z"
   },
   {
    "duration": 0,
    "start_time": "2023-06-18T21:09:19.729Z"
   },
   {
    "duration": 0,
    "start_time": "2023-06-18T21:09:19.731Z"
   },
   {
    "duration": 0,
    "start_time": "2023-06-18T21:09:19.732Z"
   },
   {
    "duration": 0,
    "start_time": "2023-06-18T21:09:19.733Z"
   },
   {
    "duration": 0,
    "start_time": "2023-06-18T21:09:19.735Z"
   },
   {
    "duration": 0,
    "start_time": "2023-06-18T21:09:19.736Z"
   },
   {
    "duration": 0,
    "start_time": "2023-06-18T21:09:19.737Z"
   },
   {
    "duration": 0,
    "start_time": "2023-06-18T21:09:19.738Z"
   },
   {
    "duration": 0,
    "start_time": "2023-06-18T21:09:19.740Z"
   },
   {
    "duration": 0,
    "start_time": "2023-06-18T21:09:19.741Z"
   },
   {
    "duration": 0,
    "start_time": "2023-06-18T21:09:19.743Z"
   },
   {
    "duration": 1268,
    "start_time": "2023-06-18T21:11:00.518Z"
   },
   {
    "duration": 1659,
    "start_time": "2023-06-18T21:11:10.588Z"
   },
   {
    "duration": 1240,
    "start_time": "2023-06-18T21:12:05.695Z"
   },
   {
    "duration": 1278,
    "start_time": "2023-06-18T21:12:13.188Z"
   },
   {
    "duration": 5,
    "start_time": "2023-06-18T21:12:30.037Z"
   },
   {
    "duration": 1222,
    "start_time": "2023-06-18T21:12:31.557Z"
   },
   {
    "duration": 1090,
    "start_time": "2023-06-18T21:14:05.947Z"
   },
   {
    "duration": 10,
    "start_time": "2023-06-18T21:14:41.379Z"
   },
   {
    "duration": 15,
    "start_time": "2023-06-18T21:15:49.035Z"
   },
   {
    "duration": 4061,
    "start_time": "2023-06-18T21:17:18.274Z"
   },
   {
    "duration": 1485,
    "start_time": "2023-06-18T21:17:22.338Z"
   },
   {
    "duration": 865,
    "start_time": "2023-06-18T21:17:23.825Z"
   },
   {
    "duration": 121,
    "start_time": "2023-06-18T21:17:24.692Z"
   },
   {
    "duration": 17,
    "start_time": "2023-06-18T21:17:24.814Z"
   },
   {
    "duration": 110,
    "start_time": "2023-06-18T21:17:24.833Z"
   },
   {
    "duration": 255,
    "start_time": "2023-06-18T21:17:24.944Z"
   },
   {
    "duration": 15,
    "start_time": "2023-06-18T21:17:25.201Z"
   },
   {
    "duration": 54,
    "start_time": "2023-06-18T21:17:25.218Z"
   },
   {
    "duration": 107,
    "start_time": "2023-06-18T21:17:25.274Z"
   },
   {
    "duration": 90,
    "start_time": "2023-06-18T21:17:25.382Z"
   },
   {
    "duration": 408,
    "start_time": "2023-06-18T21:17:25.474Z"
   },
   {
    "duration": 811,
    "start_time": "2023-06-18T21:17:25.883Z"
   },
   {
    "duration": 3,
    "start_time": "2023-06-18T21:17:26.696Z"
   },
   {
    "duration": 279,
    "start_time": "2023-06-18T21:17:26.700Z"
   },
   {
    "duration": 89,
    "start_time": "2023-06-18T21:17:26.982Z"
   },
   {
    "duration": 46,
    "start_time": "2023-06-18T21:17:27.073Z"
   },
   {
    "duration": 20,
    "start_time": "2023-06-18T21:17:27.121Z"
   },
   {
    "duration": 178,
    "start_time": "2023-06-18T21:17:27.162Z"
   },
   {
    "duration": 30,
    "start_time": "2023-06-18T21:17:27.342Z"
   },
   {
    "duration": 46,
    "start_time": "2023-06-18T21:17:27.374Z"
   },
   {
    "duration": 18,
    "start_time": "2023-06-18T21:17:27.422Z"
   },
   {
    "duration": 30,
    "start_time": "2023-06-18T21:17:27.442Z"
   },
   {
    "duration": 39,
    "start_time": "2023-06-18T21:17:27.473Z"
   },
   {
    "duration": 139,
    "start_time": "2023-06-18T21:17:27.514Z"
   },
   {
    "duration": 19,
    "start_time": "2023-06-18T21:17:27.654Z"
   },
   {
    "duration": 8,
    "start_time": "2023-06-18T21:17:27.675Z"
   },
   {
    "duration": 45,
    "start_time": "2023-06-18T21:17:27.686Z"
   },
   {
    "duration": 7,
    "start_time": "2023-06-18T21:17:27.733Z"
   },
   {
    "duration": 30,
    "start_time": "2023-06-18T21:17:27.742Z"
   },
   {
    "duration": 4,
    "start_time": "2023-06-18T21:17:27.774Z"
   },
   {
    "duration": 29,
    "start_time": "2023-06-18T21:17:27.780Z"
   },
   {
    "duration": 3,
    "start_time": "2023-06-18T21:17:27.811Z"
   },
   {
    "duration": 93,
    "start_time": "2023-06-18T21:17:27.815Z"
   },
   {
    "duration": 615,
    "start_time": "2023-06-18T21:17:27.910Z"
   },
   {
    "duration": 52,
    "start_time": "2023-06-18T21:17:28.527Z"
   },
   {
    "duration": 114,
    "start_time": "2023-06-18T21:17:28.581Z"
   },
   {
    "duration": 6,
    "start_time": "2023-06-18T21:17:28.697Z"
   },
   {
    "duration": 14,
    "start_time": "2023-06-18T21:17:28.704Z"
   },
   {
    "duration": 7,
    "start_time": "2023-06-18T21:17:28.720Z"
   },
   {
    "duration": 143,
    "start_time": "2023-06-18T21:17:28.729Z"
   },
   {
    "duration": 0,
    "start_time": "2023-06-18T21:17:28.874Z"
   },
   {
    "duration": 0,
    "start_time": "2023-06-18T21:17:28.876Z"
   },
   {
    "duration": 0,
    "start_time": "2023-06-18T21:17:28.877Z"
   },
   {
    "duration": 0,
    "start_time": "2023-06-18T21:17:28.879Z"
   },
   {
    "duration": 0,
    "start_time": "2023-06-18T21:17:28.880Z"
   },
   {
    "duration": 0,
    "start_time": "2023-06-18T21:17:28.881Z"
   },
   {
    "duration": 0,
    "start_time": "2023-06-18T21:17:28.883Z"
   },
   {
    "duration": 0,
    "start_time": "2023-06-18T21:17:28.885Z"
   },
   {
    "duration": 0,
    "start_time": "2023-06-18T21:17:28.886Z"
   },
   {
    "duration": 0,
    "start_time": "2023-06-18T21:17:28.887Z"
   },
   {
    "duration": 0,
    "start_time": "2023-06-18T21:17:28.889Z"
   },
   {
    "duration": 0,
    "start_time": "2023-06-18T21:17:28.890Z"
   },
   {
    "duration": 0,
    "start_time": "2023-06-18T21:17:28.891Z"
   },
   {
    "duration": 0,
    "start_time": "2023-06-18T21:17:28.893Z"
   },
   {
    "duration": 0,
    "start_time": "2023-06-18T21:17:28.895Z"
   },
   {
    "duration": 0,
    "start_time": "2023-06-18T21:17:28.896Z"
   },
   {
    "duration": 0,
    "start_time": "2023-06-18T21:17:28.897Z"
   },
   {
    "duration": 0,
    "start_time": "2023-06-18T21:17:28.899Z"
   },
   {
    "duration": 0,
    "start_time": "2023-06-18T21:17:28.901Z"
   },
   {
    "duration": 0,
    "start_time": "2023-06-18T21:17:28.902Z"
   },
   {
    "duration": 0,
    "start_time": "2023-06-18T21:17:28.903Z"
   },
   {
    "duration": 770,
    "start_time": "2023-06-18T21:18:09.473Z"
   },
   {
    "duration": 903,
    "start_time": "2023-06-18T21:18:43.076Z"
   },
   {
    "duration": 796,
    "start_time": "2023-06-18T21:18:59.082Z"
   },
   {
    "duration": 7658,
    "start_time": "2023-06-18T21:20:08.993Z"
   },
   {
    "duration": 11,
    "start_time": "2023-06-18T21:26:15.104Z"
   },
   {
    "duration": 9914,
    "start_time": "2023-06-18T21:26:33.886Z"
   },
   {
    "duration": 21,
    "start_time": "2023-06-18T21:26:49.580Z"
   },
   {
    "duration": 12,
    "start_time": "2023-06-18T21:26:52.011Z"
   },
   {
    "duration": 20,
    "start_time": "2023-06-18T21:26:52.653Z"
   },
   {
    "duration": 12,
    "start_time": "2023-06-18T21:26:53.114Z"
   },
   {
    "duration": 13,
    "start_time": "2023-06-18T21:26:53.373Z"
   },
   {
    "duration": 11,
    "start_time": "2023-06-18T21:26:53.622Z"
   },
   {
    "duration": 15,
    "start_time": "2023-06-18T21:26:53.884Z"
   },
   {
    "duration": 18,
    "start_time": "2023-06-18T21:26:54.121Z"
   },
   {
    "duration": 15,
    "start_time": "2023-06-18T21:26:54.403Z"
   },
   {
    "duration": 12,
    "start_time": "2023-06-18T21:26:54.626Z"
   },
   {
    "duration": 4506,
    "start_time": "2023-06-18T21:27:02.145Z"
   },
   {
    "duration": 1391,
    "start_time": "2023-06-18T21:27:06.653Z"
   },
   {
    "duration": 905,
    "start_time": "2023-06-18T21:27:08.046Z"
   },
   {
    "duration": 142,
    "start_time": "2023-06-18T21:27:08.953Z"
   },
   {
    "duration": 18,
    "start_time": "2023-06-18T21:27:09.096Z"
   },
   {
    "duration": 133,
    "start_time": "2023-06-18T21:27:09.116Z"
   },
   {
    "duration": 280,
    "start_time": "2023-06-18T21:27:09.251Z"
   },
   {
    "duration": 33,
    "start_time": "2023-06-18T21:27:09.533Z"
   },
   {
    "duration": 38,
    "start_time": "2023-06-18T21:27:09.573Z"
   },
   {
    "duration": 113,
    "start_time": "2023-06-18T21:27:09.614Z"
   },
   {
    "duration": 103,
    "start_time": "2023-06-18T21:27:09.729Z"
   },
   {
    "duration": 456,
    "start_time": "2023-06-18T21:27:09.834Z"
   },
   {
    "duration": 908,
    "start_time": "2023-06-18T21:27:10.292Z"
   },
   {
    "duration": 4,
    "start_time": "2023-06-18T21:27:11.203Z"
   },
   {
    "duration": 334,
    "start_time": "2023-06-18T21:27:11.209Z"
   },
   {
    "duration": 100,
    "start_time": "2023-06-18T21:27:11.545Z"
   },
   {
    "duration": 436,
    "start_time": "2023-06-18T21:27:11.647Z"
   },
   {
    "duration": 157,
    "start_time": "2023-06-18T21:27:12.085Z"
   },
   {
    "duration": 210,
    "start_time": "2023-06-18T21:27:12.244Z"
   },
   {
    "duration": 22,
    "start_time": "2023-06-18T21:27:12.455Z"
   },
   {
    "duration": 46,
    "start_time": "2023-06-18T21:27:12.479Z"
   },
   {
    "duration": 44,
    "start_time": "2023-06-18T21:27:12.527Z"
   },
   {
    "duration": 7,
    "start_time": "2023-06-18T21:27:12.573Z"
   },
   {
    "duration": 51,
    "start_time": "2023-06-18T21:27:12.581Z"
   },
   {
    "duration": 65,
    "start_time": "2023-06-18T21:27:12.635Z"
   },
   {
    "duration": 6,
    "start_time": "2023-06-18T21:27:12.702Z"
   },
   {
    "duration": 68,
    "start_time": "2023-06-18T21:27:12.711Z"
   },
   {
    "duration": 84,
    "start_time": "2023-06-18T21:27:12.783Z"
   },
   {
    "duration": 9,
    "start_time": "2023-06-18T21:27:12.875Z"
   },
   {
    "duration": 35,
    "start_time": "2023-06-18T21:27:12.886Z"
   },
   {
    "duration": 5,
    "start_time": "2023-06-18T21:27:12.924Z"
   },
   {
    "duration": 42,
    "start_time": "2023-06-18T21:27:12.931Z"
   },
   {
    "duration": 4,
    "start_time": "2023-06-18T21:27:12.976Z"
   },
   {
    "duration": 146,
    "start_time": "2023-06-18T21:27:12.983Z"
   },
   {
    "duration": 779,
    "start_time": "2023-06-18T21:27:13.132Z"
   },
   {
    "duration": 80,
    "start_time": "2023-06-18T21:27:13.913Z"
   },
   {
    "duration": 151,
    "start_time": "2023-06-18T21:27:13.996Z"
   },
   {
    "duration": 10,
    "start_time": "2023-06-18T21:27:14.150Z"
   },
   {
    "duration": 29,
    "start_time": "2023-06-18T21:27:14.162Z"
   },
   {
    "duration": 5,
    "start_time": "2023-06-18T21:27:14.193Z"
   },
   {
    "duration": 3482,
    "start_time": "2023-06-18T21:27:14.199Z"
   },
   {
    "duration": 135,
    "start_time": "2023-06-18T21:27:17.683Z"
   },
   {
    "duration": 0,
    "start_time": "2023-06-18T21:27:17.820Z"
   },
   {
    "duration": 0,
    "start_time": "2023-06-18T21:27:17.821Z"
   },
   {
    "duration": 0,
    "start_time": "2023-06-18T21:27:17.823Z"
   },
   {
    "duration": 0,
    "start_time": "2023-06-18T21:27:17.824Z"
   },
   {
    "duration": 0,
    "start_time": "2023-06-18T21:27:17.828Z"
   },
   {
    "duration": 0,
    "start_time": "2023-06-18T21:27:17.829Z"
   },
   {
    "duration": 0,
    "start_time": "2023-06-18T21:27:17.831Z"
   },
   {
    "duration": 0,
    "start_time": "2023-06-18T21:27:17.833Z"
   },
   {
    "duration": 0,
    "start_time": "2023-06-18T21:27:17.834Z"
   },
   {
    "duration": 0,
    "start_time": "2023-06-18T21:27:17.861Z"
   },
   {
    "duration": 0,
    "start_time": "2023-06-18T21:27:17.862Z"
   },
   {
    "duration": 0,
    "start_time": "2023-06-18T21:27:17.866Z"
   },
   {
    "duration": 0,
    "start_time": "2023-06-18T21:27:17.867Z"
   },
   {
    "duration": 0,
    "start_time": "2023-06-18T21:27:17.867Z"
   },
   {
    "duration": 0,
    "start_time": "2023-06-18T21:27:17.871Z"
   },
   {
    "duration": 0,
    "start_time": "2023-06-18T21:27:17.872Z"
   },
   {
    "duration": 0,
    "start_time": "2023-06-18T21:27:17.873Z"
   },
   {
    "duration": 0,
    "start_time": "2023-06-18T21:27:17.873Z"
   },
   {
    "duration": 0,
    "start_time": "2023-06-18T21:27:17.877Z"
   },
   {
    "duration": 0,
    "start_time": "2023-06-18T21:27:17.879Z"
   },
   {
    "duration": 0,
    "start_time": "2023-06-18T21:27:17.880Z"
   },
   {
    "duration": 11,
    "start_time": "2023-06-18T21:27:35.314Z"
   },
   {
    "duration": 11,
    "start_time": "2023-06-18T21:29:10.805Z"
   },
   {
    "duration": 320,
    "start_time": "2023-06-18T21:29:34.704Z"
   },
   {
    "duration": 7523,
    "start_time": "2023-06-18T21:30:21.501Z"
   },
   {
    "duration": 2966,
    "start_time": "2023-06-18T21:30:51.206Z"
   },
   {
    "duration": 6836,
    "start_time": "2023-06-18T21:31:06.814Z"
   },
   {
    "duration": 6806,
    "start_time": "2023-06-18T21:31:31.629Z"
   },
   {
    "duration": 2767,
    "start_time": "2023-06-18T21:32:10.220Z"
   },
   {
    "duration": 4190,
    "start_time": "2023-06-18T21:32:14.306Z"
   },
   {
    "duration": 7730,
    "start_time": "2023-06-18T21:38:16.251Z"
   },
   {
    "duration": 126,
    "start_time": "2023-06-18T21:38:51.988Z"
   },
   {
    "duration": 32755,
    "start_time": "2023-06-18T21:39:02.319Z"
   },
   {
    "duration": 213,
    "start_time": "2023-06-18T21:39:35.081Z"
   },
   {
    "duration": 6,
    "start_time": "2023-06-18T21:39:47.814Z"
   },
   {
    "duration": 6,
    "start_time": "2023-06-18T21:42:51.705Z"
   },
   {
    "duration": 259626,
    "start_time": "2023-06-18T21:43:04.340Z"
   },
   {
    "duration": 0,
    "start_time": "2023-06-18T21:47:24.112Z"
   },
   {
    "duration": 0,
    "start_time": "2023-06-18T21:47:24.113Z"
   },
   {
    "duration": 0,
    "start_time": "2023-06-18T21:47:24.116Z"
   },
   {
    "duration": 4,
    "start_time": "2023-06-18T21:47:52.648Z"
   },
   {
    "duration": 5,
    "start_time": "2023-06-18T21:48:22.406Z"
   },
   {
    "duration": 74,
    "start_time": "2023-06-18T21:48:29.012Z"
   },
   {
    "duration": 5,
    "start_time": "2023-06-18T21:48:31.132Z"
   },
   {
    "duration": 208459,
    "start_time": "2023-06-18T21:49:17.264Z"
   },
   {
    "duration": 785,
    "start_time": "2023-06-18T21:52:45.726Z"
   },
   {
    "duration": 6,
    "start_time": "2023-06-18T21:52:46.513Z"
   },
   {
    "duration": 10949,
    "start_time": "2023-06-18T21:52:46.521Z"
   },
   {
    "duration": 4,
    "start_time": "2023-06-18T21:53:06.306Z"
   },
   {
    "duration": 15,
    "start_time": "2023-06-18T21:53:08.792Z"
   },
   {
    "duration": 101,
    "start_time": "2023-06-18T21:53:10.992Z"
   },
   {
    "duration": 39,
    "start_time": "2023-06-18T21:53:21.898Z"
   },
   {
    "duration": 5,
    "start_time": "2023-06-18T21:53:31.905Z"
   },
   {
    "duration": 17,
    "start_time": "2023-06-18T21:53:32.934Z"
   },
   {
    "duration": 93,
    "start_time": "2023-06-18T21:56:22.973Z"
   },
   {
    "duration": 22,
    "start_time": "2023-06-18T21:56:23.067Z"
   },
   {
    "duration": 0,
    "start_time": "2023-06-18T21:56:23.094Z"
   },
   {
    "duration": 0,
    "start_time": "2023-06-18T21:56:23.095Z"
   },
   {
    "duration": 351169,
    "start_time": "2023-06-18T21:56:32.206Z"
   },
   {
    "duration": 7,
    "start_time": "2023-06-18T22:02:23.380Z"
   },
   {
    "duration": 27,
    "start_time": "2023-06-18T22:02:23.389Z"
   },
   {
    "duration": 862,
    "start_time": "2023-06-18T22:02:23.418Z"
   },
   {
    "duration": 5,
    "start_time": "2023-06-18T22:02:24.282Z"
   },
   {
    "duration": 3,
    "start_time": "2023-06-18T22:03:27.088Z"
   },
   {
    "duration": 10,
    "start_time": "2023-06-18T22:03:27.995Z"
   },
   {
    "duration": 4,
    "start_time": "2023-06-18T22:03:35.188Z"
   },
   {
    "duration": 9,
    "start_time": "2023-06-18T22:03:37.089Z"
   },
   {
    "duration": 12,
    "start_time": "2023-06-18T22:04:15.529Z"
   },
   {
    "duration": 2140,
    "start_time": "2023-06-18T22:04:30.406Z"
   },
   {
    "duration": 696,
    "start_time": "2023-06-18T22:04:51.658Z"
   },
   {
    "duration": 640,
    "start_time": "2023-06-18T22:06:35.723Z"
   },
   {
    "duration": 626,
    "start_time": "2023-06-18T22:08:22.616Z"
   },
   {
    "duration": 611,
    "start_time": "2023-06-18T22:08:33.091Z"
   },
   {
    "duration": 7,
    "start_time": "2023-06-18T22:18:25.080Z"
   },
   {
    "duration": 12,
    "start_time": "2023-06-18T22:20:07.289Z"
   },
   {
    "duration": 154,
    "start_time": "2023-06-18T22:20:19.008Z"
   },
   {
    "duration": 171,
    "start_time": "2023-06-18T22:20:33.052Z"
   },
   {
    "duration": 160,
    "start_time": "2023-06-18T22:20:54.106Z"
   },
   {
    "duration": 38,
    "start_time": "2023-06-18T22:34:15.587Z"
   },
   {
    "duration": 151,
    "start_time": "2023-06-20T11:16:06.005Z"
   }
  ],
  "kernelspec": {
   "display_name": "Python 3 (ipykernel)",
   "language": "python",
   "name": "python3"
  },
  "language_info": {
   "codemirror_mode": {
    "name": "ipython",
    "version": 3
   },
   "file_extension": ".py",
   "mimetype": "text/x-python",
   "name": "python",
   "nbconvert_exporter": "python",
   "pygments_lexer": "ipython3",
   "version": "3.11.5"
  },
  "toc": {
   "base_numbering": 1,
   "nav_menu": {},
   "number_sections": true,
   "sideBar": true,
   "skip_h1_title": true,
   "title_cell": "Table of Contents",
   "title_sidebar": "Contents",
   "toc_cell": false,
   "toc_position": {
    "height": "calc(100% - 180px)",
    "left": "10px",
    "top": "150px",
    "width": "371px"
   },
   "toc_section_display": true,
   "toc_window_display": true
  }
 },
 "nbformat": 4,
 "nbformat_minor": 4
}
