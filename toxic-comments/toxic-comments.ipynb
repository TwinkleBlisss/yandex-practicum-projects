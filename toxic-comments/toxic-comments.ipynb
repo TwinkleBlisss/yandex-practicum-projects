{
 "cells": [
  {
   "cell_type": "markdown",
   "metadata": {},
   "source": [
    "# Проект 'Классификация комментариев'"
   ]
  },
  {
   "cell_type": "markdown",
   "metadata": {},
   "source": [
    "## Подготовка"
   ]
  },
  {
   "cell_type": "markdown",
   "metadata": {},
   "source": [
    "### Импорт библиотек"
   ]
  },
  {
   "cell_type": "code",
   "execution_count": 1,
   "metadata": {},
   "outputs": [],
   "source": [
    "import numpy as np\n",
    "import pandas as pd\n",
    "import re \n",
    "from nltk.corpus import stopwords\n",
    "from sklearn.ensemble import RandomForestClassifier\n",
    "from sklearn.feature_extraction.text import TfidfVectorizer\n",
    "\n",
    "from sklearn.metrics import f1_score\n",
    "from sklearn.model_selection import GridSearchCV\n",
    "from sklearn.model_selection import train_test_split\n",
    "from sklearn.linear_model import LogisticRegression\n",
    "from sklearn.tree import DecisionTreeClassifier\n",
    "from tqdm.auto import tqdm\n",
    "\n",
    "from pandarallel import pandarallel"
   ]
  },
  {
   "cell_type": "markdown",
   "metadata": {},
   "source": [
    "### Загрузка датасета"
   ]
  },
  {
   "cell_type": "code",
   "execution_count": 4,
   "metadata": {},
   "outputs": [],
   "source": [
    "try:\n",
    "    df = pd.read_csv(\"datasets/toxic_comments.csv\", index_col=0)\n",
    "except:\n",
    "    df = pd.read_csv(\"toxic_comments.csv\", index_col=0)"
   ]
  },
  {
   "cell_type": "code",
   "execution_count": 5,
   "metadata": {},
   "outputs": [
    {
     "name": "stdout",
     "output_type": "stream",
     "text": [
      "<class 'pandas.core.frame.DataFrame'>\n",
      "Index: 159292 entries, 0 to 159450\n",
      "Data columns (total 2 columns):\n",
      " #   Column  Non-Null Count   Dtype \n",
      "---  ------  --------------   ----- \n",
      " 0   text    159292 non-null  object\n",
      " 1   toxic   159292 non-null  int64 \n",
      "dtypes: int64(1), object(1)\n",
      "memory usage: 3.6+ MB\n"
     ]
    }
   ],
   "source": [
    "df.info()"
   ]
  },
  {
   "cell_type": "code",
   "execution_count": 6,
   "metadata": {},
   "outputs": [
    {
     "data": {
      "text/html": [
       "<div>\n",
       "<style scoped>\n",
       "    .dataframe tbody tr th:only-of-type {\n",
       "        vertical-align: middle;\n",
       "    }\n",
       "\n",
       "    .dataframe tbody tr th {\n",
       "        vertical-align: top;\n",
       "    }\n",
       "\n",
       "    .dataframe thead th {\n",
       "        text-align: right;\n",
       "    }\n",
       "</style>\n",
       "<table border=\"1\" class=\"dataframe\">\n",
       "  <thead>\n",
       "    <tr style=\"text-align: right;\">\n",
       "      <th></th>\n",
       "      <th>text</th>\n",
       "      <th>toxic</th>\n",
       "    </tr>\n",
       "  </thead>\n",
       "  <tbody>\n",
       "    <tr>\n",
       "      <th>0</th>\n",
       "      <td>Explanation\\nWhy the edits made under my usern...</td>\n",
       "      <td>0</td>\n",
       "    </tr>\n",
       "    <tr>\n",
       "      <th>1</th>\n",
       "      <td>D'aww! He matches this background colour I'm s...</td>\n",
       "      <td>0</td>\n",
       "    </tr>\n",
       "    <tr>\n",
       "      <th>2</th>\n",
       "      <td>Hey man, I'm really not trying to edit war. It...</td>\n",
       "      <td>0</td>\n",
       "    </tr>\n",
       "    <tr>\n",
       "      <th>3</th>\n",
       "      <td>\"\\nMore\\nI can't make any real suggestions on ...</td>\n",
       "      <td>0</td>\n",
       "    </tr>\n",
       "    <tr>\n",
       "      <th>4</th>\n",
       "      <td>You, sir, are my hero. Any chance you remember...</td>\n",
       "      <td>0</td>\n",
       "    </tr>\n",
       "  </tbody>\n",
       "</table>\n",
       "</div>"
      ],
      "text/plain": [
       "                                                text  toxic\n",
       "0  Explanation\\nWhy the edits made under my usern...      0\n",
       "1  D'aww! He matches this background colour I'm s...      0\n",
       "2  Hey man, I'm really not trying to edit war. It...      0\n",
       "3  \"\\nMore\\nI can't make any real suggestions on ...      0\n",
       "4  You, sir, are my hero. Any chance you remember...      0"
      ]
     },
     "execution_count": 6,
     "metadata": {},
     "output_type": "execute_result"
    }
   ],
   "source": [
    "df.head()"
   ]
  },
  {
   "cell_type": "markdown",
   "metadata": {},
   "source": [
    "В первом стобце мы видим непонятные значения (скорее всего это индексы, в дальнейшем они нам не понадобятся). Также можно заметить, что комментарии на **английском языке**. "
   ]
  },
  {
   "cell_type": "markdown",
   "metadata": {},
   "source": [
    "### Создание признаков"
   ]
  },
  {
   "cell_type": "markdown",
   "metadata": {},
   "source": [
    "В исходном виде модели не воспримут имеющуюся информацию. Для его анализа на эмоционально окрашнные слова сначала **лемматизируем текст**, затем по корпусам рассчитаем **TF-IDF**."
   ]
  },
  {
   "cell_type": "markdown",
   "metadata": {},
   "source": [
    "#### Лемматизация"
   ]
  },
  {
   "cell_type": "markdown",
   "metadata": {},
   "source": [
    "Создадим функцию для очищения текста:"
   ]
  },
  {
   "cell_type": "code",
   "execution_count": 7,
   "metadata": {},
   "outputs": [],
   "source": [
    "def clear_text(text):\n",
    "    return \" \".join(re.sub(r'[^a-zA-Z ]', ' ', text).lower().split())"
   ]
  },
  {
   "cell_type": "markdown",
   "metadata": {},
   "source": [
    "Применим её и поместим результат в столбец **'clear_text'**."
   ]
  },
  {
   "cell_type": "code",
   "execution_count": 8,
   "metadata": {},
   "outputs": [],
   "source": [
    "df['clear_text'] = df['text'].apply(clear_text)"
   ]
  },
  {
   "cell_type": "markdown",
   "metadata": {},
   "source": [
    "Для лемматизации воспользуемся пакетом **spaCy**. \\\n",
    "Напишем функцию для лемматизации текста: "
   ]
  },
  {
   "cell_type": "code",
   "execution_count": 18,
   "metadata": {},
   "outputs": [],
   "source": [
    "def lemmatize(text):\n",
    "    # имортируем библиотеку spacy именно здесь,\n",
    "    # так как далее функция будет выполняться \n",
    "    # с помощью параллельных вычислений, а библиотека\n",
    "    # pandarallel имеет особенности работы на Windows\n",
    "    import spacy\n",
    "    sp = spacy.load('en_core_web_sm')\n",
    "    return \" \".join([token.lemma_ for token in sp(text)])"
   ]
  },
  {
   "cell_type": "markdown",
   "metadata": {},
   "source": [
    "\n",
    "Проверим лемматизатор для 1-й строчки датасета:"
   ]
  },
  {
   "cell_type": "code",
   "execution_count": 19,
   "metadata": {},
   "outputs": [
    {
     "name": "stdout",
     "output_type": "stream",
     "text": [
      "explanation why the edit make under my username hardcore metallica fan be revert they weren t vandalism just closure on some gas after I vote at new york dolls fac and please don t remove the template from the talk page since I m retire now\n",
      "CPU times: total: 781 ms\n",
      "Wall time: 774 ms\n"
     ]
    }
   ],
   "source": [
    "%%time \n",
    "\n",
    "# lemmatize a sentence\n",
    "sentence = df.loc[0, 'clear_text']\n",
    "print(lemmatize(sentence))"
   ]
  },
  {
   "cell_type": "markdown",
   "metadata": {},
   "source": [
    "Работает корректно, применим к датасету. Поместим результат в столбец **'lemm_text'**:"
   ]
  },
  {
   "cell_type": "code",
   "execution_count": 20,
   "metadata": {},
   "outputs": [
    {
     "name": "stdout",
     "output_type": "stream",
     "text": [
      "INFO: Pandarallel will run on 6 workers.\n",
      "INFO: Pandarallel will use standard multiprocessing data transfer (pipe) to transfer data between the main process and workers.\n",
      "\n",
      "WARNING: You are on Windows. If you detect any issue with pandarallel, be sure you checked out the Troubleshooting page:\n",
      "https://nalepae.github.io/pandarallel/troubleshooting/\n"
     ]
    },
    {
     "data": {
      "application/vnd.jupyter.widget-view+json": {
       "model_id": "975419ec177243c4825a2af28bca4378",
       "version_major": 2,
       "version_minor": 0
      },
      "text/plain": [
       "VBox(children=(HBox(children=(IntProgress(value=0, description='0.00%', max=26549), Label(value='0 / 26549')))…"
      ]
     },
     "metadata": {},
     "output_type": "display_data"
    },
    {
     "name": "stdout",
     "output_type": "stream",
     "text": [
      "CPU times: total: 2min 32s\n",
      "Wall time: 4h 6min 21s\n"
     ]
    }
   ],
   "source": [
    "%%time\n",
    "\n",
    "# tqdm.pandas()\n",
    "tqdm.pandas(desc=\"progress\")\n",
    "pandarallel.initialize(progress_bar = True)\n",
    "df['lemm_text'] = df['clear_text'].parallel_apply(lemmatize)"
   ]
  },
  {
   "cell_type": "markdown",
   "metadata": {},
   "source": [
    "Взглянем на данные:"
   ]
  },
  {
   "cell_type": "code",
   "execution_count": 21,
   "metadata": {},
   "outputs": [
    {
     "data": {
      "text/html": [
       "<div>\n",
       "<style scoped>\n",
       "    .dataframe tbody tr th:only-of-type {\n",
       "        vertical-align: middle;\n",
       "    }\n",
       "\n",
       "    .dataframe tbody tr th {\n",
       "        vertical-align: top;\n",
       "    }\n",
       "\n",
       "    .dataframe thead th {\n",
       "        text-align: right;\n",
       "    }\n",
       "</style>\n",
       "<table border=\"1\" class=\"dataframe\">\n",
       "  <thead>\n",
       "    <tr style=\"text-align: right;\">\n",
       "      <th></th>\n",
       "      <th>text</th>\n",
       "      <th>toxic</th>\n",
       "      <th>clear_text</th>\n",
       "      <th>lemm_text</th>\n",
       "    </tr>\n",
       "  </thead>\n",
       "  <tbody>\n",
       "    <tr>\n",
       "      <th>0</th>\n",
       "      <td>Explanation\\nWhy the edits made under my usern...</td>\n",
       "      <td>0</td>\n",
       "      <td>explanation why the edits made under my userna...</td>\n",
       "      <td>explanation why the edit make under my usernam...</td>\n",
       "    </tr>\n",
       "    <tr>\n",
       "      <th>1</th>\n",
       "      <td>D'aww! He matches this background colour I'm s...</td>\n",
       "      <td>0</td>\n",
       "      <td>d aww he matches this background colour i m se...</td>\n",
       "      <td>d aww he match this background colour I m seem...</td>\n",
       "    </tr>\n",
       "    <tr>\n",
       "      <th>2</th>\n",
       "      <td>Hey man, I'm really not trying to edit war. It...</td>\n",
       "      <td>0</td>\n",
       "      <td>hey man i m really not trying to edit war it s...</td>\n",
       "      <td>hey man I m really not try to edit war it s ju...</td>\n",
       "    </tr>\n",
       "  </tbody>\n",
       "</table>\n",
       "</div>"
      ],
      "text/plain": [
       "                                                text  toxic  \\\n",
       "0  Explanation\\nWhy the edits made under my usern...      0   \n",
       "1  D'aww! He matches this background colour I'm s...      0   \n",
       "2  Hey man, I'm really not trying to edit war. It...      0   \n",
       "\n",
       "                                          clear_text  \\\n",
       "0  explanation why the edits made under my userna...   \n",
       "1  d aww he matches this background colour i m se...   \n",
       "2  hey man i m really not trying to edit war it s...   \n",
       "\n",
       "                                           lemm_text  \n",
       "0  explanation why the edit make under my usernam...  \n",
       "1  d aww he match this background colour I m seem...  \n",
       "2  hey man I m really not try to edit war it s ju...  "
      ]
     },
     "execution_count": 21,
     "metadata": {},
     "output_type": "execute_result"
    }
   ],
   "source": [
    "df.head(3)"
   ]
  },
  {
   "cell_type": "markdown",
   "metadata": {},
   "source": [
    "Можно заметить, что преобразовались далеко не все слова. Эту проблему можно исправить, добавив функцию определения части речи, но это существенно замедлит процесс. Поэтому будем работать с таким корпусом.\n",
    "\n",
    "Теперь нас будут интересовать два столбца: **lemm_text** (по нему сформируем TF-IDF) и **toxic** (целевой признак)."
   ]
  },
  {
   "cell_type": "markdown",
   "metadata": {},
   "source": [
    "#### Разделение на выборки"
   ]
  },
  {
   "cell_type": "markdown",
   "metadata": {},
   "source": [
    "Из датасета выделим обучающую, валидационную и тестовую выборки:"
   ]
  },
  {
   "cell_type": "code",
   "execution_count": 22,
   "metadata": {},
   "outputs": [],
   "source": [
    "train, test = train_test_split(df, stratify=df['toxic'], test_size=0.25, random_state=12345)\n",
    "\n",
    "features_train = train['lemm_text']\n",
    "target_train = train['toxic']\n",
    "\n",
    "features_test = test['lemm_text']\n",
    "target_test = test['toxic']"
   ]
  },
  {
   "cell_type": "markdown",
   "metadata": {},
   "source": [
    "#### TF-IDF"
   ]
  },
  {
   "cell_type": "markdown",
   "metadata": {},
   "source": [
    "Укажем стоп-слова (они не будут учитываться при расчёте TF-IDF)."
   ]
  },
  {
   "cell_type": "code",
   "execution_count": 23,
   "metadata": {},
   "outputs": [],
   "source": [
    "stopwords = stopwords.words('english')"
   ]
  },
  {
   "cell_type": "markdown",
   "metadata": {},
   "source": [
    "Создадим счётчик:"
   ]
  },
  {
   "cell_type": "code",
   "execution_count": 51,
   "metadata": {},
   "outputs": [],
   "source": [
    "tfidf_vect= TfidfVectorizer(stop_words=stopwords)\t"
   ]
  },
  {
   "cell_type": "markdown",
   "metadata": {},
   "source": [
    "Посчитаем TF-IDF для корпусов:"
   ]
  },
  {
   "cell_type": "code",
   "execution_count": 53,
   "metadata": {},
   "outputs": [],
   "source": [
    "tf_idf_train = tfidf_vect.fit_transform(features_train)\n",
    "tf_idf_test = tfidf_vect.transform(features_test)"
   ]
  },
  {
   "cell_type": "code",
   "execution_count": 54,
   "metadata": {},
   "outputs": [
    {
     "name": "stdout",
     "output_type": "stream",
     "text": [
      "(119469, 127877)\n",
      "  (0, 82192)\t0.14503539277098515\n",
      "  (0, 109900)\t0.15009693926571613\n",
      "  (0, 93629)\t0.20176327782300096\n",
      "  (0, 67330)\t0.16461216614546184\n",
      "  (0, 89958)\t0.31496432165615434\n",
      "  (0, 17929)\t0.29467213127582514\n",
      "  (0, 119396)\t0.5039259503987833\n",
      "  (0, 834)\t0.6698167703137718\n"
     ]
    }
   ],
   "source": [
    "print(tf_idf_train.shape)\n",
    "print(tf_idf_train[0])"
   ]
  },
  {
   "cell_type": "markdown",
   "metadata": {},
   "source": [
    "### Вывод\n",
    "\n",
    "Мы загрузили датасет и все необходимые библиотеки. Текстовые данные были подготовлены и помещены в 2 выборки для обучения и проверки моделей. \\\n",
    "Теперь выясним, какая из них лучше справится с задачей классификации комментариев."
   ]
  },
  {
   "cell_type": "markdown",
   "metadata": {},
   "source": [
    "## Обучение"
   ]
  },
  {
   "cell_type": "markdown",
   "metadata": {},
   "source": [
    "### DecisionTreeClassifier\n",
    "\n",
    "Начнём с дерева решений."
   ]
  },
  {
   "cell_type": "code",
   "execution_count": 28,
   "metadata": {},
   "outputs": [
    {
     "name": "stdout",
     "output_type": "stream",
     "text": [
      "best_score: 0.64\n",
      "best_params: {'max_depth': 15}\n",
      "CPU times: total: 2min 32s\n",
      "Wall time: 2min 32s\n"
     ]
    }
   ],
   "source": [
    "%%time\n",
    "\n",
    "tree_model = DecisionTreeClassifier(random_state=12345)\n",
    "\n",
    "# подберем оптимальные параметры глубины дерева\n",
    "parameters_1 = {'max_depth': [5, 10, 15]}\n",
    "\n",
    "grid_tree = GridSearchCV(tree_model,\n",
    "                         parameters_1, \n",
    "                         cv=3, \n",
    "                         scoring='f1')\n",
    "\n",
    "grid_tree.fit(tf_idf_train, target_train)\n",
    "\n",
    "grid_tree_params = grid_tree.best_params_\n",
    "grid_tree_score = grid_tree.best_score_\n",
    "\n",
    "# лучшее значение F1 на кросс-валидации\n",
    "print(f'best_score: {round(grid_tree_score, 2)}')\n",
    "# лучшие гиперпараметры\n",
    "print(f'best_params: {grid_tree_params}')"
   ]
  },
  {
   "cell_type": "markdown",
   "metadata": {},
   "source": [
    "Значение метрики пока маленькое, будем продолжать."
   ]
  },
  {
   "cell_type": "markdown",
   "metadata": {},
   "source": [
    "### LogisticRegression"
   ]
  },
  {
   "cell_type": "markdown",
   "metadata": {},
   "source": [
    "Обучим логистическую регрессию."
   ]
  },
  {
   "cell_type": "code",
   "execution_count": 29,
   "metadata": {},
   "outputs": [
    {
     "name": "stdout",
     "output_type": "stream",
     "text": [
      "best_score: 0.76\n",
      "best_params: {'C': 10}\n",
      "CPU times: total: 15 s\n",
      "Wall time: 14.9 s\n"
     ]
    }
   ],
   "source": [
    "%%time\n",
    "\n",
    "regr_model = LogisticRegression(fit_intercept=True, \n",
    "                                class_weight='balanced', \n",
    "                                random_state=12345,\n",
    "                                solver='liblinear'\n",
    "                               )\n",
    "\n",
    "# параметры\n",
    "parameters_2 = [{'max_iter': [50, 100]}, \n",
    "                {'C': [0.1, 1, 10]}]\n",
    "\n",
    "grid_regr = GridSearchCV(regr_model,\n",
    "                         parameters_2, \n",
    "                         cv=3, \n",
    "                         scoring='f1')\n",
    "\n",
    "grid_regr.fit(tf_idf_train, target_train)\n",
    "\n",
    "grid_regr_params = grid_regr.best_params_\n",
    "grid_regr_score = grid_regr.best_score_\n",
    "\n",
    "# лучшее значение F1 на кросс-валидации\n",
    "print(f'best_score: {round(grid_regr_score, 2)}')\n",
    "# лучшие гиперпараметры\n",
    "print(f'best_params: {grid_regr_params}')"
   ]
  },
  {
   "cell_type": "markdown",
   "metadata": {},
   "source": [
    "Метод **fit** работает **3 минуты**:"
   ]
  },
  {
   "cell_type": "markdown",
   "metadata": {},
   "source": [
    "Метрика достигла необходимого значения!"
   ]
  },
  {
   "cell_type": "markdown",
   "metadata": {},
   "source": [
    "### Проверка на тестовых данных"
   ]
  },
  {
   "cell_type": "markdown",
   "metadata": {},
   "source": [
    "Наилучшую модель (**LogisticRegression**) проверим на тестовой выборке:"
   ]
  },
  {
   "cell_type": "code",
   "execution_count": 31,
   "metadata": {},
   "outputs": [
    {
     "name": "stdout",
     "output_type": "stream",
     "text": [
      "F1 LogisticRegression на тестовой выборке: 0.77\n"
     ]
    }
   ],
   "source": [
    "test_pred_regr = grid_regr.predict(tf_idf_test)\n",
    "f1_regr_test = f1_score(target_test, test_pred_regr)\n",
    "print(f'F1 LogisticRegression на тестовой выборке: {round(f1_regr_test, 2)}')"
   ]
  }
 ],
 "metadata": {
  "ExecuteTimeLog": [
   {
    "duration": 46,
    "start_time": "2023-06-24T09:40:53.700Z"
   },
   {
    "duration": 1189,
    "start_time": "2023-06-24T09:40:55.744Z"
   },
   {
    "duration": 105,
    "start_time": "2023-06-24T09:40:57.835Z"
   },
   {
    "duration": 3349,
    "start_time": "2023-06-24T09:41:39.679Z"
   },
   {
    "duration": 831,
    "start_time": "2023-06-24T09:41:52.660Z"
   },
   {
    "duration": 29,
    "start_time": "2023-06-24T09:41:56.118Z"
   },
   {
    "duration": 13,
    "start_time": "2023-06-24T09:42:03.189Z"
   },
   {
    "duration": 13,
    "start_time": "2023-06-24T10:23:16.652Z"
   },
   {
    "duration": 4,
    "start_time": "2023-06-24T10:25:03.802Z"
   },
   {
    "duration": 3,
    "start_time": "2023-06-24T10:25:06.464Z"
   },
   {
    "duration": 4,
    "start_time": "2023-06-24T10:26:36.092Z"
   },
   {
    "duration": 4,
    "start_time": "2023-06-24T10:26:37.892Z"
   },
   {
    "duration": 19,
    "start_time": "2023-06-24T10:27:22.940Z"
   },
   {
    "duration": 0,
    "start_time": "2023-06-24T10:29:54.255Z"
   },
   {
    "duration": 0,
    "start_time": "2023-06-24T10:36:57.944Z"
   },
   {
    "duration": 1109,
    "start_time": "2023-06-24T10:37:05.389Z"
   },
   {
    "duration": 922,
    "start_time": "2023-06-24T10:37:06.501Z"
   },
   {
    "duration": 40,
    "start_time": "2023-06-24T10:37:07.425Z"
   },
   {
    "duration": 18,
    "start_time": "2023-06-24T10:37:07.468Z"
   },
   {
    "duration": 4,
    "start_time": "2023-06-24T10:37:07.488Z"
   },
   {
    "duration": 9,
    "start_time": "2023-06-24T10:37:07.495Z"
   },
   {
    "duration": 40690,
    "start_time": "2023-06-24T10:37:07.506Z"
   },
   {
    "duration": 35,
    "start_time": "2023-06-24T10:37:48.198Z"
   },
   {
    "duration": 4,
    "start_time": "2023-06-24T10:38:24.420Z"
   },
   {
    "duration": 28290,
    "start_time": "2023-06-24T10:49:34.544Z"
   },
   {
    "duration": 5,
    "start_time": "2023-06-24T10:50:02.836Z"
   },
   {
    "duration": 10,
    "start_time": "2023-06-24T10:50:49.022Z"
   },
   {
    "duration": 744,
    "start_time": "2023-06-24T10:51:33.521Z"
   },
   {
    "duration": 779,
    "start_time": "2023-06-24T10:52:16.817Z"
   },
   {
    "duration": 4,
    "start_time": "2023-06-24T10:52:41.119Z"
   },
   {
    "duration": 711,
    "start_time": "2023-06-24T10:52:42.402Z"
   },
   {
    "duration": 743,
    "start_time": "2023-06-24T10:52:48.263Z"
   },
   {
    "duration": 748,
    "start_time": "2023-06-24T10:53:28.280Z"
   },
   {
    "duration": 4,
    "start_time": "2023-06-24T10:55:04.550Z"
   },
   {
    "duration": 735,
    "start_time": "2023-06-24T10:55:05.514Z"
   },
   {
    "duration": 37689,
    "start_time": "2023-06-24T10:58:52.788Z"
   },
   {
    "duration": 218,
    "start_time": "2023-06-24T10:59:30.482Z"
   },
   {
    "duration": 181,
    "start_time": "2023-06-24T11:00:05.048Z"
   },
   {
    "duration": 245031,
    "start_time": "2023-06-24T11:00:25.005Z"
   },
   {
    "duration": 93,
    "start_time": "2023-06-24T11:05:41.734Z"
   },
   {
    "duration": 2202,
    "start_time": "2023-06-24T11:06:11.849Z"
   },
   {
    "duration": 2217,
    "start_time": "2023-06-24T11:06:34.618Z"
   },
   {
    "duration": 2134,
    "start_time": "2023-06-24T11:10:20.872Z"
   },
   {
    "duration": 602096,
    "start_time": "2023-06-24T11:10:29.026Z"
   },
   {
    "duration": 3,
    "start_time": "2023-06-24T11:21:06.242Z"
   },
   {
    "duration": 2,
    "start_time": "2023-06-24T11:21:09.302Z"
   },
   {
    "duration": 4,
    "start_time": "2023-06-24T11:22:05.925Z"
   },
   {
    "duration": 33,
    "start_time": "2023-06-24T11:23:28.476Z"
   },
   {
    "duration": 5,
    "start_time": "2023-06-24T11:23:53.065Z"
   },
   {
    "duration": 39,
    "start_time": "2023-06-24T11:24:12.698Z"
   },
   {
    "duration": 310,
    "start_time": "2023-06-24T11:24:52.658Z"
   },
   {
    "duration": 23,
    "start_time": "2023-06-24T11:24:56.155Z"
   },
   {
    "duration": 373,
    "start_time": "2023-06-24T11:25:08.347Z"
   },
   {
    "duration": 1394,
    "start_time": "2023-06-24T11:25:10.394Z"
   },
   {
    "duration": 11,
    "start_time": "2023-06-24T11:25:24.292Z"
   },
   {
    "duration": 2040,
    "start_time": "2023-06-24T11:28:31.072Z"
   },
   {
    "duration": 1377,
    "start_time": "2023-06-24T11:28:47.303Z"
   },
   {
    "duration": 878,
    "start_time": "2023-06-24T11:28:48.684Z"
   },
   {
    "duration": 30,
    "start_time": "2023-06-24T11:28:49.564Z"
   },
   {
    "duration": 11,
    "start_time": "2023-06-24T11:28:49.596Z"
   },
   {
    "duration": 3,
    "start_time": "2023-06-24T11:28:52.919Z"
   },
   {
    "duration": 3,
    "start_time": "2023-06-24T11:28:54.201Z"
   },
   {
    "duration": 2042,
    "start_time": "2023-06-24T11:28:58.637Z"
   },
   {
    "duration": 4,
    "start_time": "2023-06-24T11:43:23.603Z"
   },
   {
    "duration": 3,
    "start_time": "2023-06-24T11:44:04.507Z"
   },
   {
    "duration": 1505,
    "start_time": "2023-06-24T11:49:02.891Z"
   },
   {
    "duration": 6,
    "start_time": "2023-06-24T11:49:56.715Z"
   },
   {
    "duration": 7,
    "start_time": "2023-06-24T11:49:58.362Z"
   },
   {
    "duration": 7,
    "start_time": "2023-06-24T11:50:00.932Z"
   },
   {
    "duration": 6,
    "start_time": "2023-06-24T11:50:01.453Z"
   },
   {
    "duration": 6,
    "start_time": "2023-06-24T11:50:01.838Z"
   },
   {
    "duration": 5,
    "start_time": "2023-06-24T11:50:02.181Z"
   },
   {
    "duration": 5,
    "start_time": "2023-06-24T11:50:02.539Z"
   },
   {
    "duration": 6,
    "start_time": "2023-06-24T11:50:02.893Z"
   },
   {
    "duration": 6,
    "start_time": "2023-06-24T11:50:03.208Z"
   },
   {
    "duration": 5,
    "start_time": "2023-06-24T11:50:03.495Z"
   },
   {
    "duration": 5,
    "start_time": "2023-06-24T11:50:03.669Z"
   },
   {
    "duration": 6,
    "start_time": "2023-06-24T11:50:03.867Z"
   },
   {
    "duration": 6,
    "start_time": "2023-06-24T11:50:04.047Z"
   },
   {
    "duration": 4,
    "start_time": "2023-06-24T11:50:04.207Z"
   },
   {
    "duration": 4,
    "start_time": "2023-06-24T11:50:04.369Z"
   },
   {
    "duration": 5,
    "start_time": "2023-06-24T11:50:04.525Z"
   },
   {
    "duration": 12,
    "start_time": "2023-06-24T11:50:06.515Z"
   },
   {
    "duration": 11,
    "start_time": "2023-06-24T11:50:06.886Z"
   },
   {
    "duration": 11,
    "start_time": "2023-06-24T11:50:07.269Z"
   },
   {
    "duration": 12,
    "start_time": "2023-06-24T11:50:07.667Z"
   },
   {
    "duration": 11,
    "start_time": "2023-06-24T11:50:08.903Z"
   },
   {
    "duration": 13,
    "start_time": "2023-06-24T11:50:09.370Z"
   },
   {
    "duration": 12,
    "start_time": "2023-06-24T11:50:09.732Z"
   },
   {
    "duration": 11,
    "start_time": "2023-06-24T11:50:10.171Z"
   },
   {
    "duration": 12,
    "start_time": "2023-06-24T11:50:10.602Z"
   },
   {
    "duration": 15,
    "start_time": "2023-06-24T11:50:10.974Z"
   },
   {
    "duration": 10,
    "start_time": "2023-06-24T11:50:11.369Z"
   },
   {
    "duration": 12,
    "start_time": "2023-06-24T11:50:11.720Z"
   },
   {
    "duration": 15,
    "start_time": "2023-06-24T11:50:12.052Z"
   },
   {
    "duration": 11,
    "start_time": "2023-06-24T11:50:12.329Z"
   },
   {
    "duration": 19,
    "start_time": "2023-06-24T11:50:12.549Z"
   },
   {
    "duration": 11,
    "start_time": "2023-06-24T11:50:12.791Z"
   },
   {
    "duration": 13,
    "start_time": "2023-06-24T11:50:13.001Z"
   },
   {
    "duration": 10,
    "start_time": "2023-06-24T11:50:13.221Z"
   },
   {
    "duration": 17,
    "start_time": "2023-06-24T11:50:13.451Z"
   },
   {
    "duration": 12,
    "start_time": "2023-06-24T11:50:13.668Z"
   },
   {
    "duration": 10,
    "start_time": "2023-06-24T11:50:13.894Z"
   },
   {
    "duration": 11,
    "start_time": "2023-06-24T11:50:14.119Z"
   },
   {
    "duration": 11,
    "start_time": "2023-06-24T11:50:14.298Z"
   },
   {
    "duration": 14,
    "start_time": "2023-06-24T11:50:14.493Z"
   },
   {
    "duration": 12,
    "start_time": "2023-06-24T11:50:14.669Z"
   },
   {
    "duration": 12,
    "start_time": "2023-06-24T11:50:14.833Z"
   },
   {
    "duration": 11,
    "start_time": "2023-06-24T11:50:15.007Z"
   },
   {
    "duration": 16,
    "start_time": "2023-06-24T11:50:15.180Z"
   },
   {
    "duration": 17,
    "start_time": "2023-06-24T11:50:15.352Z"
   },
   {
    "duration": 13,
    "start_time": "2023-06-24T11:50:15.514Z"
   },
   {
    "duration": 14,
    "start_time": "2023-06-24T11:50:15.664Z"
   },
   {
    "duration": 9,
    "start_time": "2023-06-24T11:50:15.800Z"
   },
   {
    "duration": 4,
    "start_time": "2023-06-24T11:50:18.836Z"
   },
   {
    "duration": 5,
    "start_time": "2023-06-24T11:50:19.169Z"
   },
   {
    "duration": 6,
    "start_time": "2023-06-24T11:50:19.533Z"
   },
   {
    "duration": 6,
    "start_time": "2023-06-24T11:50:19.910Z"
   },
   {
    "duration": 5,
    "start_time": "2023-06-24T11:50:20.190Z"
   },
   {
    "duration": 5,
    "start_time": "2023-06-24T11:50:20.373Z"
   },
   {
    "duration": 8,
    "start_time": "2023-06-24T11:50:20.548Z"
   },
   {
    "duration": 5,
    "start_time": "2023-06-24T11:50:20.720Z"
   },
   {
    "duration": 4,
    "start_time": "2023-06-24T11:50:20.877Z"
   },
   {
    "duration": 5,
    "start_time": "2023-06-24T11:50:21.031Z"
   },
   {
    "duration": 6,
    "start_time": "2023-06-24T11:50:21.177Z"
   },
   {
    "duration": 6,
    "start_time": "2023-06-24T11:50:21.330Z"
   },
   {
    "duration": 6,
    "start_time": "2023-06-24T11:50:21.474Z"
   },
   {
    "duration": 5,
    "start_time": "2023-06-24T11:50:21.612Z"
   },
   {
    "duration": 6,
    "start_time": "2023-06-24T11:50:21.793Z"
   },
   {
    "duration": 6,
    "start_time": "2023-06-24T11:50:21.942Z"
   },
   {
    "duration": 5,
    "start_time": "2023-06-24T11:50:22.112Z"
   },
   {
    "duration": 3,
    "start_time": "2023-06-24T11:50:29.493Z"
   },
   {
    "duration": 4,
    "start_time": "2023-06-24T11:56:42.449Z"
   },
   {
    "duration": 4,
    "start_time": "2023-06-24T11:56:45.577Z"
   },
   {
    "duration": 5,
    "start_time": "2023-06-24T11:56:54.090Z"
   },
   {
    "duration": 193,
    "start_time": "2023-06-24T11:58:02.171Z"
   },
   {
    "duration": 84756,
    "start_time": "2023-06-24T11:58:10.174Z"
   },
   {
    "duration": 8,
    "start_time": "2023-06-24T12:00:09.529Z"
   },
   {
    "duration": 85,
    "start_time": "2023-06-24T12:02:49.206Z"
   },
   {
    "duration": 60,
    "start_time": "2023-06-24T12:05:02.226Z"
   },
   {
    "duration": 38,
    "start_time": "2023-06-24T12:05:16.009Z"
   },
   {
    "duration": 3031,
    "start_time": "2023-06-24T12:07:15.608Z"
   },
   {
    "duration": 16,
    "start_time": "2023-06-24T12:07:47.770Z"
   },
   {
    "duration": 2207,
    "start_time": "2023-06-24T12:07:54.708Z"
   },
   {
    "duration": 18,
    "start_time": "2023-06-24T12:07:56.917Z"
   },
   {
    "duration": 608,
    "start_time": "2023-06-24T12:11:01.298Z"
   },
   {
    "duration": 79,
    "start_time": "2023-06-24T12:11:42.098Z"
   },
   {
    "duration": 28,
    "start_time": "2023-06-24T12:11:52.903Z"
   },
   {
    "duration": 7,
    "start_time": "2023-06-24T12:12:06.708Z"
   },
   {
    "duration": 232,
    "start_time": "2023-06-24T12:12:40.797Z"
   },
   {
    "duration": 32,
    "start_time": "2023-06-24T12:14:12.313Z"
   },
   {
    "duration": 2172,
    "start_time": "2023-06-24T12:16:37.842Z"
   },
   {
    "duration": 2251,
    "start_time": "2023-06-24T12:18:05.904Z"
   },
   {
    "duration": 1799,
    "start_time": "2023-06-24T12:18:08.159Z"
   },
   {
    "duration": 318,
    "start_time": "2023-06-24T12:18:09.959Z"
   },
   {
    "duration": 3130,
    "start_time": "2023-06-24T12:18:10.279Z"
   },
   {
    "duration": 37,
    "start_time": "2023-06-24T12:18:13.412Z"
   },
   {
    "duration": 10,
    "start_time": "2023-06-24T12:18:13.451Z"
   },
   {
    "duration": 3,
    "start_time": "2023-06-24T12:18:13.463Z"
   },
   {
    "duration": 2009,
    "start_time": "2023-06-24T12:18:13.468Z"
   },
   {
    "duration": 4,
    "start_time": "2023-06-24T12:18:15.479Z"
   },
   {
    "duration": 1291,
    "start_time": "2023-06-24T12:18:15.485Z"
   },
   {
    "duration": 81840,
    "start_time": "2023-06-24T12:18:16.778Z"
   },
   {
    "duration": 10,
    "start_time": "2023-06-24T12:19:38.620Z"
   },
   {
    "duration": 113,
    "start_time": "2023-06-24T12:19:38.632Z"
   },
   {
    "duration": 152,
    "start_time": "2023-06-24T12:19:38.755Z"
   },
   {
    "duration": 0,
    "start_time": "2023-06-24T12:19:38.909Z"
   },
   {
    "duration": 0,
    "start_time": "2023-06-24T12:19:38.910Z"
   },
   {
    "duration": 6,
    "start_time": "2023-06-24T12:19:48.551Z"
   },
   {
    "duration": 2004,
    "start_time": "2023-06-24T12:19:50.739Z"
   },
   {
    "duration": 4,
    "start_time": "2023-06-24T12:21:34.531Z"
   },
   {
    "duration": 4,
    "start_time": "2023-06-24T12:22:33.367Z"
   },
   {
    "duration": 2,
    "start_time": "2023-06-24T12:22:59.822Z"
   },
   {
    "duration": 24,
    "start_time": "2023-06-24T12:25:44.938Z"
   },
   {
    "duration": 23,
    "start_time": "2023-06-24T12:25:54.209Z"
   },
   {
    "duration": 2326,
    "start_time": "2023-06-24T12:26:43.837Z"
   },
   {
    "duration": 2208,
    "start_time": "2023-06-24T12:26:46.165Z"
   },
   {
    "duration": 373,
    "start_time": "2023-06-24T12:26:48.375Z"
   },
   {
    "duration": 3071,
    "start_time": "2023-06-24T12:26:48.751Z"
   },
   {
    "duration": 31,
    "start_time": "2023-06-24T12:26:51.823Z"
   },
   {
    "duration": 8,
    "start_time": "2023-06-24T12:26:51.856Z"
   },
   {
    "duration": 11,
    "start_time": "2023-06-24T12:26:51.866Z"
   },
   {
    "duration": 2029,
    "start_time": "2023-06-24T12:26:51.879Z"
   },
   {
    "duration": 3,
    "start_time": "2023-06-24T12:26:53.910Z"
   },
   {
    "duration": 1239,
    "start_time": "2023-06-24T12:26:53.915Z"
   },
   {
    "duration": 77965,
    "start_time": "2023-06-24T12:26:55.156Z"
   },
   {
    "duration": 9,
    "start_time": "2023-06-24T12:28:13.123Z"
   },
   {
    "duration": 99,
    "start_time": "2023-06-24T12:28:13.134Z"
   },
   {
    "duration": 6,
    "start_time": "2023-06-24T12:28:13.235Z"
   },
   {
    "duration": 2156,
    "start_time": "2023-06-24T12:28:13.254Z"
   },
   {
    "duration": 4,
    "start_time": "2023-06-24T12:28:15.413Z"
   },
   {
    "duration": 4,
    "start_time": "2023-06-24T12:28:15.418Z"
   },
   {
    "duration": 9141,
    "start_time": "2023-06-24T12:28:15.423Z"
   },
   {
    "duration": 62,
    "start_time": "2023-06-24T12:28:48.544Z"
   },
   {
    "duration": 2207,
    "start_time": "2023-06-24T12:28:57.102Z"
   },
   {
    "duration": 2703,
    "start_time": "2023-06-24T12:28:59.311Z"
   },
   {
    "duration": 318,
    "start_time": "2023-06-24T12:29:02.016Z"
   },
   {
    "duration": 3150,
    "start_time": "2023-06-24T12:29:02.336Z"
   },
   {
    "duration": 33,
    "start_time": "2023-06-24T12:29:05.488Z"
   },
   {
    "duration": 8,
    "start_time": "2023-06-24T12:29:05.523Z"
   },
   {
    "duration": 3,
    "start_time": "2023-06-24T12:29:05.533Z"
   },
   {
    "duration": 2268,
    "start_time": "2023-06-24T12:29:05.538Z"
   },
   {
    "duration": 3,
    "start_time": "2023-06-24T12:29:07.808Z"
   },
   {
    "duration": 1284,
    "start_time": "2023-06-24T12:29:07.814Z"
   },
   {
    "duration": 86373,
    "start_time": "2023-06-24T12:29:09.100Z"
   },
   {
    "duration": 8,
    "start_time": "2023-06-24T12:30:35.474Z"
   },
   {
    "duration": 104,
    "start_time": "2023-06-24T12:30:35.484Z"
   },
   {
    "duration": 5,
    "start_time": "2023-06-24T12:30:35.590Z"
   },
   {
    "duration": 3310,
    "start_time": "2023-06-24T12:30:35.597Z"
   },
   {
    "duration": 5,
    "start_time": "2023-06-24T12:30:38.909Z"
   },
   {
    "duration": 8,
    "start_time": "2023-06-24T12:30:38.915Z"
   },
   {
    "duration": 10755,
    "start_time": "2023-06-24T12:30:38.925Z"
   },
   {
    "duration": 4978,
    "start_time": "2023-06-24T12:32:59.133Z"
   },
   {
    "duration": 59,
    "start_time": "2023-06-24T12:33:04.115Z"
   },
   {
    "duration": 6,
    "start_time": "2023-06-24T12:33:44.228Z"
   },
   {
    "duration": 4,
    "start_time": "2023-06-24T12:40:01.152Z"
   },
   {
    "duration": 4,
    "start_time": "2023-06-24T12:41:17.912Z"
   },
   {
    "duration": 181,
    "start_time": "2023-06-24T12:41:55.933Z"
   },
   {
    "duration": 4,
    "start_time": "2023-06-24T12:42:04.968Z"
   },
   {
    "duration": 108,
    "start_time": "2023-06-24T12:42:28.365Z"
   },
   {
    "duration": 270616,
    "start_time": "2023-06-24T12:42:39.702Z"
   },
   {
    "duration": 3,
    "start_time": "2023-06-24T12:47:10.320Z"
   },
   {
    "duration": 4,
    "start_time": "2023-06-24T12:47:21.499Z"
   },
   {
    "duration": 15512,
    "start_time": "2023-06-24T12:47:22.515Z"
   },
   {
    "duration": 3,
    "start_time": "2023-06-24T12:47:44.950Z"
   },
   {
    "duration": 49373,
    "start_time": "2023-06-24T12:47:47.599Z"
   },
   {
    "duration": 3,
    "start_time": "2023-06-24T12:49:15.851Z"
   },
   {
    "duration": 20,
    "start_time": "2023-06-24T12:49:19.169Z"
   },
   {
    "duration": 12,
    "start_time": "2023-06-24T12:49:20.167Z"
   },
   {
    "duration": 5,
    "start_time": "2023-06-24T12:50:21.131Z"
   },
   {
    "duration": 4,
    "start_time": "2023-06-24T12:50:59.046Z"
   },
   {
    "duration": 5,
    "start_time": "2023-06-24T12:54:15.313Z"
   },
   {
    "duration": 17,
    "start_time": "2023-06-24T12:54:39.147Z"
   },
   {
    "duration": 513317,
    "start_time": "2023-06-24T12:54:51.961Z"
   },
   {
    "duration": 3,
    "start_time": "2023-06-24T13:03:25.280Z"
   },
   {
    "duration": 3,
    "start_time": "2023-06-24T13:03:27.746Z"
   },
   {
    "duration": 735614,
    "start_time": "2023-06-24T13:03:28.794Z"
   },
   {
    "duration": 14,
    "start_time": "2023-06-24T13:15:44.410Z"
   },
   {
    "duration": 1,
    "start_time": "2023-06-24T13:15:44.425Z"
   },
   {
    "duration": 0,
    "start_time": "2023-06-24T13:15:44.427Z"
   },
   {
    "duration": 4,
    "start_time": "2023-06-24T13:15:54.927Z"
   },
   {
    "duration": 646458,
    "start_time": "2023-06-24T13:15:56.116Z"
   },
   {
    "duration": 11,
    "start_time": "2023-06-24T13:26:42.576Z"
   },
   {
    "duration": 0,
    "start_time": "2023-06-24T13:26:42.589Z"
   },
   {
    "duration": 0,
    "start_time": "2023-06-24T13:26:42.590Z"
   },
   {
    "duration": 1159,
    "start_time": "2023-06-24T13:27:23.743Z"
   },
   {
    "duration": 188,
    "start_time": "2023-06-24T13:27:27.029Z"
   },
   {
    "duration": 12,
    "start_time": "2023-06-24T13:27:27.913Z"
   },
   {
    "duration": 14,
    "start_time": "2023-06-24T13:27:41.738Z"
   },
   {
    "duration": 198,
    "start_time": "2023-06-24T13:27:43.560Z"
   },
   {
    "duration": 12,
    "start_time": "2023-06-24T13:27:44.634Z"
   },
   {
    "duration": 1158,
    "start_time": "2023-06-24T13:27:49.613Z"
   },
   {
    "duration": 194,
    "start_time": "2023-06-24T13:27:52.747Z"
   },
   {
    "duration": 11,
    "start_time": "2023-06-24T13:27:54.518Z"
   },
   {
    "duration": 12,
    "start_time": "2023-06-24T13:27:55.805Z"
   },
   {
    "duration": 12,
    "start_time": "2023-06-24T13:28:03.313Z"
   },
   {
    "duration": 194,
    "start_time": "2023-06-24T13:28:05.437Z"
   },
   {
    "duration": 16,
    "start_time": "2023-06-24T13:28:06.302Z"
   },
   {
    "duration": 6,
    "start_time": "2023-06-24T13:28:51.847Z"
   },
   {
    "duration": 8346,
    "start_time": "2023-06-24T13:28:52.909Z"
   },
   {
    "duration": 4,
    "start_time": "2023-06-24T13:36:30.895Z"
   },
   {
    "duration": 288688,
    "start_time": "2023-06-24T13:36:33.030Z"
   },
   {
    "duration": 5471,
    "start_time": "2023-06-24T13:49:49.054Z"
   },
   {
    "duration": 1856,
    "start_time": "2023-06-24T13:49:54.528Z"
   },
   {
    "duration": 496,
    "start_time": "2023-06-24T13:49:56.386Z"
   },
   {
    "duration": 3232,
    "start_time": "2023-06-24T13:49:56.884Z"
   },
   {
    "duration": 31,
    "start_time": "2023-06-24T13:50:00.118Z"
   },
   {
    "duration": 58,
    "start_time": "2023-06-24T13:50:00.151Z"
   },
   {
    "duration": 18,
    "start_time": "2023-06-24T13:50:00.211Z"
   },
   {
    "duration": 2078,
    "start_time": "2023-06-24T13:50:00.231Z"
   },
   {
    "duration": 4,
    "start_time": "2023-06-24T13:50:02.310Z"
   },
   {
    "duration": 1226,
    "start_time": "2023-06-24T13:50:02.317Z"
   },
   {
    "duration": 81907,
    "start_time": "2023-06-24T13:50:03.545Z"
   },
   {
    "duration": 15,
    "start_time": "2023-06-24T13:51:25.454Z"
   },
   {
    "duration": 91,
    "start_time": "2023-06-24T13:51:25.477Z"
   },
   {
    "duration": 8,
    "start_time": "2023-06-24T13:51:25.570Z"
   },
   {
    "duration": 2059,
    "start_time": "2023-06-24T13:51:25.582Z"
   },
   {
    "duration": 4,
    "start_time": "2023-06-24T13:51:27.642Z"
   },
   {
    "duration": 4,
    "start_time": "2023-06-24T13:51:27.647Z"
   },
   {
    "duration": 10047,
    "start_time": "2023-06-24T13:51:27.653Z"
   },
   {
    "duration": 3,
    "start_time": "2023-06-24T13:51:37.702Z"
   },
   {
    "duration": 25,
    "start_time": "2023-06-24T13:51:37.707Z"
   },
   {
    "duration": 67165,
    "start_time": "2023-06-24T13:51:37.733Z"
   },
   {
    "duration": 3,
    "start_time": "2023-06-24T13:52:44.899Z"
   },
   {
    "duration": 28,
    "start_time": "2023-06-24T13:52:44.904Z"
   },
   {
    "duration": 11,
    "start_time": "2023-06-24T13:52:44.934Z"
   },
   {
    "duration": 3,
    "start_time": "2023-06-24T13:52:44.946Z"
   },
   {
    "duration": 1044049,
    "start_time": "2023-06-24T13:52:44.951Z"
   },
   {
    "duration": 3,
    "start_time": "2023-06-24T14:10:09.002Z"
   },
   {
    "duration": 1278,
    "start_time": "2023-06-24T14:10:09.008Z"
   },
   {
    "duration": 210,
    "start_time": "2023-06-24T14:10:10.287Z"
   },
   {
    "duration": 17,
    "start_time": "2023-06-24T14:10:10.500Z"
   },
   {
    "duration": 5,
    "start_time": "2023-06-24T14:10:10.519Z"
   },
   {
    "duration": 10376,
    "start_time": "2023-06-24T14:10:10.526Z"
   },
   {
    "duration": 0,
    "start_time": "2023-06-24T14:10:20.903Z"
   },
   {
    "duration": 0,
    "start_time": "2023-06-24T14:10:20.905Z"
   },
   {
    "duration": 0,
    "start_time": "2023-06-24T14:10:20.906Z"
   },
   {
    "duration": 3,
    "start_time": "2023-06-24T14:11:28.604Z"
   },
   {
    "duration": 1208,
    "start_time": "2023-06-24T14:11:37.459Z"
   },
   {
    "duration": 185,
    "start_time": "2023-06-24T14:11:42.515Z"
   },
   {
    "duration": 20,
    "start_time": "2023-06-24T14:11:44.056Z"
   },
   {
    "duration": 4,
    "start_time": "2023-06-24T14:12:05.550Z"
   },
   {
    "duration": 191,
    "start_time": "2023-06-24T14:12:52.131Z"
   },
   {
    "duration": 14,
    "start_time": "2023-06-24T14:13:51.866Z"
   },
   {
    "duration": 3,
    "start_time": "2023-06-24T14:14:27.616Z"
   },
   {
    "duration": 1451,
    "start_time": "2023-06-24T14:14:33.863Z"
   },
   {
    "duration": 214,
    "start_time": "2023-06-24T14:14:36.334Z"
   },
   {
    "duration": 15,
    "start_time": "2023-06-24T14:14:39.085Z"
   },
   {
    "duration": 233,
    "start_time": "2023-06-24T14:14:51.696Z"
   },
   {
    "duration": 265,
    "start_time": "2023-06-24T14:14:53.746Z"
   },
   {
    "duration": 19,
    "start_time": "2023-06-24T14:14:55.711Z"
   },
   {
    "duration": 15,
    "start_time": "2023-06-24T14:15:06.959Z"
   },
   {
    "duration": 181,
    "start_time": "2023-06-24T14:15:13.508Z"
   },
   {
    "duration": 10,
    "start_time": "2023-06-24T14:15:14.504Z"
   },
   {
    "duration": 4,
    "start_time": "2023-06-24T14:17:08.240Z"
   },
   {
    "duration": 5,
    "start_time": "2023-06-24T14:17:17.956Z"
   },
   {
    "duration": 4,
    "start_time": "2023-06-24T14:17:26.102Z"
   },
   {
    "duration": 5,
    "start_time": "2023-06-24T14:17:34.508Z"
   },
   {
    "duration": 5,
    "start_time": "2023-06-24T14:17:38.227Z"
   },
   {
    "duration": 5,
    "start_time": "2023-06-24T14:17:41.664Z"
   },
   {
    "duration": 4,
    "start_time": "2023-06-24T14:17:45.249Z"
   },
   {
    "duration": 33,
    "start_time": "2023-06-24T14:18:37.766Z"
   },
   {
    "duration": 85,
    "start_time": "2023-06-24T14:18:43.639Z"
   },
   {
    "duration": 5022,
    "start_time": "2023-06-24T14:21:41.022Z"
   },
   {
    "duration": 1876,
    "start_time": "2023-06-24T14:21:46.046Z"
   },
   {
    "duration": 289,
    "start_time": "2023-06-24T14:21:47.924Z"
   },
   {
    "duration": 4174,
    "start_time": "2023-06-24T14:21:48.217Z"
   },
   {
    "duration": 44,
    "start_time": "2023-06-24T14:21:52.402Z"
   },
   {
    "duration": 11,
    "start_time": "2023-06-24T14:21:52.448Z"
   },
   {
    "duration": 3,
    "start_time": "2023-06-24T14:21:52.461Z"
   },
   {
    "duration": 2562,
    "start_time": "2023-06-24T14:21:52.466Z"
   },
   {
    "duration": 3,
    "start_time": "2023-06-24T14:21:55.029Z"
   },
   {
    "duration": 1421,
    "start_time": "2023-06-24T14:21:55.035Z"
   },
   {
    "duration": 91037,
    "start_time": "2023-06-24T14:21:56.457Z"
   },
   {
    "duration": 8,
    "start_time": "2023-06-24T14:23:27.499Z"
   },
   {
    "duration": 137,
    "start_time": "2023-06-24T14:23:27.509Z"
   },
   {
    "duration": 6,
    "start_time": "2023-06-24T14:23:27.648Z"
   },
   {
    "duration": 2007,
    "start_time": "2023-06-24T14:23:27.656Z"
   },
   {
    "duration": 9,
    "start_time": "2023-06-24T14:23:29.664Z"
   },
   {
    "duration": 8,
    "start_time": "2023-06-24T14:23:29.679Z"
   },
   {
    "duration": 10165,
    "start_time": "2023-06-24T14:23:29.694Z"
   },
   {
    "duration": 10,
    "start_time": "2023-06-24T14:23:39.861Z"
   },
   {
    "duration": 9,
    "start_time": "2023-06-24T14:23:39.874Z"
   },
   {
    "duration": 69543,
    "start_time": "2023-06-24T14:23:39.885Z"
   },
   {
    "duration": 4,
    "start_time": "2023-06-24T14:24:49.430Z"
   },
   {
    "duration": 44,
    "start_time": "2023-06-24T14:24:49.436Z"
   },
   {
    "duration": 19,
    "start_time": "2023-06-24T14:24:49.482Z"
   },
   {
    "duration": 45973,
    "start_time": "2023-06-24T14:24:49.508Z"
   },
   {
    "duration": 16,
    "start_time": "2023-06-24T14:25:35.482Z"
   },
   {
    "duration": 0,
    "start_time": "2023-06-24T14:25:35.500Z"
   },
   {
    "duration": 0,
    "start_time": "2023-06-24T14:25:35.501Z"
   },
   {
    "duration": 0,
    "start_time": "2023-06-24T14:25:35.502Z"
   },
   {
    "duration": 0,
    "start_time": "2023-06-24T14:25:35.504Z"
   },
   {
    "duration": 0,
    "start_time": "2023-06-24T14:25:35.504Z"
   },
   {
    "duration": 0,
    "start_time": "2023-06-24T14:25:35.506Z"
   },
   {
    "duration": 0,
    "start_time": "2023-06-24T14:25:35.507Z"
   },
   {
    "duration": 0,
    "start_time": "2023-06-24T14:25:35.508Z"
   },
   {
    "duration": 0,
    "start_time": "2023-06-24T14:25:35.509Z"
   },
   {
    "duration": 0,
    "start_time": "2023-06-24T14:25:35.510Z"
   },
   {
    "duration": 3,
    "start_time": "2023-06-24T14:25:41.134Z"
   },
   {
    "duration": 2,
    "start_time": "2023-06-24T14:25:44.798Z"
   },
   {
    "duration": 1187,
    "start_time": "2023-06-24T14:25:46.590Z"
   },
   {
    "duration": 185,
    "start_time": "2023-06-24T14:25:49.764Z"
   },
   {
    "duration": 13,
    "start_time": "2023-06-24T14:25:52.241Z"
   },
   {
    "duration": 7,
    "start_time": "2023-06-24T14:26:54.986Z"
   },
   {
    "duration": 3,
    "start_time": "2023-06-24T14:26:57.305Z"
   },
   {
    "duration": 3,
    "start_time": "2023-06-24T14:27:00.560Z"
   },
   {
    "duration": 4202,
    "start_time": "2023-06-24T14:27:48.783Z"
   },
   {
    "duration": 1741,
    "start_time": "2023-06-24T14:27:52.988Z"
   },
   {
    "duration": 190,
    "start_time": "2023-06-24T14:27:54.731Z"
   },
   {
    "duration": 3257,
    "start_time": "2023-06-24T14:27:54.924Z"
   },
   {
    "duration": 37,
    "start_time": "2023-06-24T14:27:58.183Z"
   },
   {
    "duration": 9,
    "start_time": "2023-06-24T14:27:58.222Z"
   },
   {
    "duration": 3,
    "start_time": "2023-06-24T14:27:58.232Z"
   },
   {
    "duration": 2000,
    "start_time": "2023-06-24T14:27:58.236Z"
   },
   {
    "duration": 2,
    "start_time": "2023-06-24T14:28:00.238Z"
   },
   {
    "duration": 1381,
    "start_time": "2023-06-24T14:28:00.243Z"
   },
   {
    "duration": 76457,
    "start_time": "2023-06-24T14:28:01.626Z"
   },
   {
    "duration": 8,
    "start_time": "2023-06-24T14:29:18.085Z"
   },
   {
    "duration": 100,
    "start_time": "2023-06-24T14:29:18.095Z"
   },
   {
    "duration": 5,
    "start_time": "2023-06-24T14:29:18.197Z"
   },
   {
    "duration": 1948,
    "start_time": "2023-06-24T14:29:18.203Z"
   },
   {
    "duration": 6,
    "start_time": "2023-06-24T14:29:20.152Z"
   },
   {
    "duration": 5,
    "start_time": "2023-06-24T14:29:20.159Z"
   },
   {
    "duration": 9213,
    "start_time": "2023-06-24T14:29:20.170Z"
   },
   {
    "duration": 4,
    "start_time": "2023-06-24T14:29:29.385Z"
   },
   {
    "duration": 7,
    "start_time": "2023-06-24T14:29:29.390Z"
   },
   {
    "duration": 61126,
    "start_time": "2023-06-24T14:29:29.398Z"
   },
   {
    "duration": 3,
    "start_time": "2023-06-24T14:30:30.526Z"
   },
   {
    "duration": 66,
    "start_time": "2023-06-24T14:30:30.530Z"
   },
   {
    "duration": 26,
    "start_time": "2023-06-24T14:30:30.597Z"
   },
   {
    "duration": 55,
    "start_time": "2023-06-24T14:30:30.624Z"
   },
   {
    "duration": 33,
    "start_time": "2023-06-24T14:30:30.680Z"
   },
   {
    "duration": 43,
    "start_time": "2023-06-24T14:30:30.714Z"
   },
   {
    "duration": 1195,
    "start_time": "2023-06-24T14:30:30.760Z"
   },
   {
    "duration": 188,
    "start_time": "2023-06-24T14:30:31.956Z"
   },
   {
    "duration": 11,
    "start_time": "2023-06-24T14:30:32.145Z"
   },
   {
    "duration": 28,
    "start_time": "2023-06-24T14:30:32.157Z"
   },
   {
    "duration": 20,
    "start_time": "2023-06-24T14:30:32.186Z"
   },
   {
    "duration": 7,
    "start_time": "2023-06-24T14:30:32.208Z"
   },
   {
    "duration": 107,
    "start_time": "2023-06-24T14:33:25.325Z"
   },
   {
    "duration": 4222,
    "start_time": "2023-06-24T14:33:42.859Z"
   },
   {
    "duration": 1658,
    "start_time": "2023-06-24T14:33:47.083Z"
   },
   {
    "duration": 196,
    "start_time": "2023-06-24T14:33:48.742Z"
   },
   {
    "duration": 3232,
    "start_time": "2023-06-24T14:33:48.940Z"
   },
   {
    "duration": 35,
    "start_time": "2023-06-24T14:33:52.174Z"
   },
   {
    "duration": 10,
    "start_time": "2023-06-24T14:33:52.211Z"
   },
   {
    "duration": 3,
    "start_time": "2023-06-24T14:33:52.222Z"
   },
   {
    "duration": 2065,
    "start_time": "2023-06-24T14:33:52.227Z"
   },
   {
    "duration": 3,
    "start_time": "2023-06-24T14:33:54.295Z"
   },
   {
    "duration": 1214,
    "start_time": "2023-06-24T14:33:54.300Z"
   },
   {
    "duration": 76920,
    "start_time": "2023-06-24T14:33:55.515Z"
   },
   {
    "duration": 8,
    "start_time": "2023-06-24T14:35:12.437Z"
   },
   {
    "duration": 102,
    "start_time": "2023-06-24T14:35:12.447Z"
   },
   {
    "duration": 6,
    "start_time": "2023-06-24T14:35:12.551Z"
   },
   {
    "duration": 2005,
    "start_time": "2023-06-24T14:35:12.559Z"
   },
   {
    "duration": 13,
    "start_time": "2023-06-24T14:35:14.565Z"
   },
   {
    "duration": 3,
    "start_time": "2023-06-24T14:35:14.581Z"
   },
   {
    "duration": 9211,
    "start_time": "2023-06-24T14:35:14.586Z"
   },
   {
    "duration": 4,
    "start_time": "2023-06-24T14:35:23.799Z"
   },
   {
    "duration": 12,
    "start_time": "2023-06-24T14:35:23.805Z"
   },
   {
    "duration": 63273,
    "start_time": "2023-06-24T14:35:23.820Z"
   },
   {
    "duration": 4,
    "start_time": "2023-06-24T14:36:27.094Z"
   },
   {
    "duration": 22,
    "start_time": "2023-06-24T14:36:27.100Z"
   },
   {
    "duration": 15,
    "start_time": "2023-06-24T14:36:27.124Z"
   },
   {
    "duration": 3,
    "start_time": "2023-06-24T14:36:27.141Z"
   },
   {
    "duration": 9,
    "start_time": "2023-06-24T14:36:27.171Z"
   },
   {
    "duration": 4,
    "start_time": "2023-06-24T14:36:27.183Z"
   },
   {
    "duration": 1137,
    "start_time": "2023-06-24T14:36:27.190Z"
   },
   {
    "duration": 180,
    "start_time": "2023-06-24T14:36:28.329Z"
   },
   {
    "duration": 11,
    "start_time": "2023-06-24T14:36:28.511Z"
   },
   {
    "duration": 0,
    "start_time": "2023-06-24T14:36:28.698Z"
   },
   {
    "duration": 0,
    "start_time": "2023-06-24T14:36:28.699Z"
   },
   {
    "duration": 5,
    "start_time": "2023-06-24T14:36:33.808Z"
   },
   {
    "duration": 3,
    "start_time": "2023-06-24T14:37:02.085Z"
   },
   {
    "duration": 57966,
    "start_time": "2023-06-24T14:37:06.123Z"
   },
   {
    "duration": 3,
    "start_time": "2023-06-24T14:38:20.228Z"
   },
   {
    "duration": 8,
    "start_time": "2023-06-24T14:39:18.224Z"
   },
   {
    "duration": 16,
    "start_time": "2023-06-24T14:41:06.935Z"
   },
   {
    "duration": 18,
    "start_time": "2023-06-24T15:02:34.076Z"
   },
   {
    "duration": 11,
    "start_time": "2023-06-24T15:07:30.836Z"
   },
   {
    "duration": 6,
    "start_time": "2023-06-24T15:08:07.219Z"
   },
   {
    "duration": 24,
    "start_time": "2023-06-24T15:08:21.781Z"
   },
   {
    "duration": 15,
    "start_time": "2023-06-24T15:10:07.965Z"
   },
   {
    "duration": 15,
    "start_time": "2023-06-24T15:10:28.266Z"
   },
   {
    "duration": 151,
    "start_time": "2023-06-24T15:12:39.617Z"
   },
   {
    "duration": 6,
    "start_time": "2023-06-24T15:12:42.608Z"
   },
   {
    "duration": 790,
    "start_time": "2023-06-24T15:12:49.447Z"
   },
   {
    "duration": 157,
    "start_time": "2023-06-24T15:13:09.406Z"
   },
   {
    "duration": 167,
    "start_time": "2023-06-24T15:13:24.993Z"
   },
   {
    "duration": 8,
    "start_time": "2023-06-24T15:13:26.369Z"
   },
   {
    "duration": 4136,
    "start_time": "2023-06-24T15:14:53.263Z"
   },
   {
    "duration": 1658,
    "start_time": "2023-06-24T15:14:57.402Z"
   },
   {
    "duration": 271,
    "start_time": "2023-06-24T15:14:59.062Z"
   },
   {
    "duration": 3053,
    "start_time": "2023-06-24T15:14:59.334Z"
   },
   {
    "duration": 30,
    "start_time": "2023-06-24T15:15:02.389Z"
   },
   {
    "duration": 49,
    "start_time": "2023-06-24T15:15:02.421Z"
   },
   {
    "duration": 49,
    "start_time": "2023-06-24T15:15:02.471Z"
   },
   {
    "duration": 1901,
    "start_time": "2023-06-24T15:15:02.521Z"
   },
   {
    "duration": 3,
    "start_time": "2023-06-24T15:15:04.423Z"
   },
   {
    "duration": 1131,
    "start_time": "2023-06-24T15:15:04.428Z"
   },
   {
    "duration": 72043,
    "start_time": "2023-06-24T15:15:05.561Z"
   },
   {
    "duration": 8,
    "start_time": "2023-06-24T15:16:17.605Z"
   },
   {
    "duration": 173,
    "start_time": "2023-06-24T15:16:17.614Z"
   },
   {
    "duration": 6,
    "start_time": "2023-06-24T15:16:17.790Z"
   },
   {
    "duration": 1914,
    "start_time": "2023-06-24T15:16:17.798Z"
   },
   {
    "duration": 10,
    "start_time": "2023-06-24T15:16:19.714Z"
   },
   {
    "duration": 8,
    "start_time": "2023-06-24T15:16:19.725Z"
   },
   {
    "duration": 8592,
    "start_time": "2023-06-24T15:16:19.735Z"
   },
   {
    "duration": 5,
    "start_time": "2023-06-24T15:16:28.328Z"
   },
   {
    "duration": 9,
    "start_time": "2023-06-24T15:16:28.335Z"
   },
   {
    "duration": 66915,
    "start_time": "2023-06-24T15:16:28.350Z"
   },
   {
    "duration": 4,
    "start_time": "2023-06-24T15:17:35.269Z"
   },
   {
    "duration": 29,
    "start_time": "2023-06-24T15:17:35.276Z"
   },
   {
    "duration": 13,
    "start_time": "2023-06-24T15:17:35.307Z"
   },
   {
    "duration": 3,
    "start_time": "2023-06-24T15:17:35.322Z"
   },
   {
    "duration": 4,
    "start_time": "2023-06-24T15:17:35.328Z"
   },
   {
    "duration": 36,
    "start_time": "2023-06-24T15:17:35.333Z"
   },
   {
    "duration": 1204,
    "start_time": "2023-06-24T15:17:35.372Z"
   },
   {
    "duration": 208,
    "start_time": "2023-06-24T15:17:36.578Z"
   },
   {
    "duration": 11,
    "start_time": "2023-06-24T15:17:36.788Z"
   },
   {
    "duration": 3,
    "start_time": "2023-06-24T15:17:36.801Z"
   },
   {
    "duration": 56298,
    "start_time": "2023-06-24T15:17:36.806Z"
   },
   {
    "duration": 4,
    "start_time": "2023-06-24T15:18:33.105Z"
   },
   {
    "duration": 15,
    "start_time": "2023-06-24T15:18:33.110Z"
   },
   {
    "duration": 13,
    "start_time": "2023-06-24T15:18:33.126Z"
   },
   {
    "duration": 16,
    "start_time": "2023-06-24T15:18:33.140Z"
   },
   {
    "duration": 3,
    "start_time": "2023-06-24T15:19:00.183Z"
   },
   {
    "duration": 92759,
    "start_time": "2023-06-24T15:19:01.628Z"
   },
   {
    "duration": 4,
    "start_time": "2023-06-24T15:20:34.388Z"
   },
   {
    "duration": 13,
    "start_time": "2023-06-24T15:20:34.394Z"
   },
   {
    "duration": 12,
    "start_time": "2023-06-24T15:20:34.409Z"
   },
   {
    "duration": 15,
    "start_time": "2023-06-24T15:20:43.299Z"
   },
   {
    "duration": 3,
    "start_time": "2023-06-24T15:21:21.242Z"
   },
   {
    "duration": 132183,
    "start_time": "2023-06-24T15:21:22.345Z"
   },
   {
    "duration": 14,
    "start_time": "2023-06-24T15:23:34.530Z"
   },
   {
    "duration": 0,
    "start_time": "2023-06-24T15:23:34.546Z"
   },
   {
    "duration": 0,
    "start_time": "2023-06-24T15:23:34.547Z"
   },
   {
    "duration": 0,
    "start_time": "2023-06-24T15:23:34.548Z"
   },
   {
    "duration": 3,
    "start_time": "2023-06-24T15:23:37.507Z"
   },
   {
    "duration": 182094,
    "start_time": "2023-06-24T15:23:38.694Z"
   },
   {
    "duration": 3,
    "start_time": "2023-06-24T15:28:05.799Z"
   },
   {
    "duration": 7,
    "start_time": "2023-06-24T15:28:08.067Z"
   },
   {
    "duration": 17,
    "start_time": "2023-06-24T15:28:09.068Z"
   },
   {
    "duration": 22,
    "start_time": "2023-06-24T15:28:11.775Z"
   },
   {
    "duration": 13491,
    "start_time": "2023-06-24T19:50:24.169Z"
   },
   {
    "duration": 12440,
    "start_time": "2023-06-24T19:53:19.337Z"
   },
   {
    "duration": 45,
    "start_time": "2023-06-24T19:54:39.559Z"
   },
   {
    "duration": 4366,
    "start_time": "2023-06-24T19:55:05.117Z"
   },
   {
    "duration": 592,
    "start_time": "2023-06-24T19:55:17.519Z"
   },
   {
    "duration": 2370,
    "start_time": "2023-06-24T19:55:37.925Z"
   },
   {
    "duration": 38,
    "start_time": "2023-06-24T19:55:42.371Z"
   },
   {
    "duration": 9,
    "start_time": "2023-06-24T19:55:46.575Z"
   },
   {
    "duration": 3,
    "start_time": "2023-06-24T19:55:57.494Z"
   },
   {
    "duration": 2104,
    "start_time": "2023-06-24T19:55:59.563Z"
   },
   {
    "duration": 8,
    "start_time": "2023-06-24T19:56:11.632Z"
   },
   {
    "duration": 505,
    "start_time": "2023-06-24T19:56:29.413Z"
   },
   {
    "duration": 522,
    "start_time": "2023-06-24T20:00:27.899Z"
   },
   {
    "duration": 469,
    "start_time": "2023-06-24T20:00:33.090Z"
   },
   {
    "duration": 34,
    "start_time": "2023-06-24T20:00:40.286Z"
   },
   {
    "duration": 329225,
    "start_time": "2023-06-24T20:01:03.826Z"
   },
   {
    "duration": 4,
    "start_time": "2023-06-24T20:06:33.053Z"
   },
   {
    "duration": 3,
    "start_time": "2023-06-24T20:06:37.044Z"
   },
   {
    "duration": 97,
    "start_time": "2023-06-24T20:06:49.901Z"
   },
   {
    "duration": 91,
    "start_time": "2023-06-24T20:09:22.021Z"
   },
   {
    "duration": 21,
    "start_time": "2023-06-24T20:09:28.690Z"
   },
   {
    "duration": 16173,
    "start_time": "2023-06-24T20:09:44.324Z"
   },
   {
    "duration": 74,
    "start_time": "2023-06-24T20:10:00.500Z"
   }
  ],
  "kernelspec": {
   "display_name": "Python 3 (ipykernel)",
   "language": "python",
   "name": "python3"
  },
  "language_info": {
   "codemirror_mode": {
    "name": "ipython",
    "version": 3
   },
   "file_extension": ".py",
   "mimetype": "text/x-python",
   "name": "python",
   "nbconvert_exporter": "python",
   "pygments_lexer": "ipython3",
   "version": "3.11.5"
  },
  "toc": {
   "base_numbering": 1,
   "nav_menu": {},
   "number_sections": true,
   "sideBar": true,
   "skip_h1_title": true,
   "title_cell": "Содержание",
   "title_sidebar": "Contents",
   "toc_cell": true,
   "toc_position": {
    "height": "calc(100% - 180px)",
    "left": "10px",
    "top": "150px",
    "width": "302.391px"
   },
   "toc_section_display": true,
   "toc_window_display": true
  }
 },
 "nbformat": 4,
 "nbformat_minor": 4
}
