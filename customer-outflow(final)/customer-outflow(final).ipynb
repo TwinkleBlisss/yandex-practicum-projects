{
 "cells": [
  {
   "cell_type": "markdown",
   "id": "08d03978-ec83-4787-9a7f-0ec4d81a24ff",
   "metadata": {},
   "source": [
    "# Проект \"Прогнозирование оттока клиентов\""
   ]
  },
  {
   "cell_type": "markdown",
   "id": "f5b3ef1d-176f-46e4-8792-ba1828b543e3",
   "metadata": {},
   "source": [
    "## Общая информация"
   ]
  },
  {
   "cell_type": "markdown",
   "id": "0b85d6a5-121c-4da4-81bc-22007185f48e",
   "metadata": {},
   "source": [
    "### Установка сторонних библиотек"
   ]
  },
  {
   "cell_type": "code",
   "execution_count": 5,
   "id": "f34d10eb-0abe-47eb-9068-6c3d3138d80f",
   "metadata": {
    "scrolled": true
   },
   "outputs": [
    {
     "name": "stdout",
     "output_type": "stream",
     "text": [
      "Collecting phik\n",
      "  Downloading phik-0.12.3-cp311-cp311-win_amd64.whl (663 kB)\n",
      "     ---------------------------------------- 0.0/663.4 kB ? eta -:--:--\n",
      "      --------------------------------------- 10.2/663.4 kB ? eta -:--:--\n",
      "     - ----------------------------------- 30.7/663.4 kB 435.7 kB/s eta 0:00:02\n",
      "     --- --------------------------------- 61.4/663.4 kB 544.7 kB/s eta 0:00:02\n",
      "     ----------- -------------------------- 204.8/663.4 kB 1.4 MB/s eta 0:00:01\n",
      "     ----------------------- -------------- 409.6/663.4 kB 2.1 MB/s eta 0:00:01\n",
      "     -------------------------------------  655.4/663.4 kB 2.9 MB/s eta 0:00:01\n",
      "     -------------------------------------- 663.4/663.4 kB 2.5 MB/s eta 0:00:00\n",
      "Requirement already satisfied: numpy>=1.18.0 in c:\\users\\honor\\appdata\\local\\programs\\python\\python311\\lib\\site-packages (from phik) (1.25.2)\n",
      "Requirement already satisfied: scipy>=1.5.2 in c:\\users\\honor\\appdata\\local\\programs\\python\\python311\\lib\\site-packages (from phik) (1.11.2)\n",
      "Requirement already satisfied: pandas>=0.25.1 in c:\\users\\honor\\appdata\\local\\programs\\python\\python311\\lib\\site-packages (from phik) (2.1.0)\n",
      "Requirement already satisfied: matplotlib>=2.2.3 in c:\\users\\honor\\appdata\\local\\programs\\python\\python311\\lib\\site-packages (from phik) (3.8.0)\n",
      "Requirement already satisfied: joblib>=0.14.1 in c:\\users\\honor\\appdata\\local\\programs\\python\\python311\\lib\\site-packages (from phik) (1.3.2)\n",
      "Requirement already satisfied: contourpy>=1.0.1 in c:\\users\\honor\\appdata\\local\\programs\\python\\python311\\lib\\site-packages (from matplotlib>=2.2.3->phik) (1.1.0)\n",
      "Requirement already satisfied: cycler>=0.10 in c:\\users\\honor\\appdata\\local\\programs\\python\\python311\\lib\\site-packages (from matplotlib>=2.2.3->phik) (0.11.0)\n",
      "Requirement already satisfied: fonttools>=4.22.0 in c:\\users\\honor\\appdata\\local\\programs\\python\\python311\\lib\\site-packages (from matplotlib>=2.2.3->phik) (4.42.1)\n",
      "Requirement already satisfied: kiwisolver>=1.0.1 in c:\\users\\honor\\appdata\\local\\programs\\python\\python311\\lib\\site-packages (from matplotlib>=2.2.3->phik) (1.4.5)\n",
      "Requirement already satisfied: packaging>=20.0 in c:\\users\\honor\\appdata\\local\\programs\\python\\python311\\lib\\site-packages (from matplotlib>=2.2.3->phik) (23.1)\n",
      "Requirement already satisfied: pillow>=6.2.0 in c:\\users\\honor\\appdata\\local\\programs\\python\\python311\\lib\\site-packages (from matplotlib>=2.2.3->phik) (10.0.0)\n",
      "Requirement already satisfied: pyparsing>=2.3.1 in c:\\users\\honor\\appdata\\local\\programs\\python\\python311\\lib\\site-packages (from matplotlib>=2.2.3->phik) (3.1.1)\n",
      "Requirement already satisfied: python-dateutil>=2.7 in c:\\users\\honor\\appdata\\local\\programs\\python\\python311\\lib\\site-packages (from matplotlib>=2.2.3->phik) (2.8.2)\n",
      "Requirement already satisfied: pytz>=2020.1 in c:\\users\\honor\\appdata\\local\\programs\\python\\python311\\lib\\site-packages (from pandas>=0.25.1->phik) (2023.3.post1)\n",
      "Requirement already satisfied: tzdata>=2022.1 in c:\\users\\honor\\appdata\\local\\programs\\python\\python311\\lib\\site-packages (from pandas>=0.25.1->phik) (2023.3)\n",
      "Requirement already satisfied: six>=1.5 in c:\\users\\honor\\appdata\\local\\programs\\python\\python311\\lib\\site-packages (from python-dateutil>=2.7->matplotlib>=2.2.3->phik) (1.16.0)\n",
      "Installing collected packages: phik\n",
      "Successfully installed phik-0.12.3\n",
      "Requirement already satisfied: seaborn in c:\\users\\honor\\appdata\\local\\programs\\python\\python311\\lib\\site-packages (0.12.2)\n",
      "Requirement already satisfied: numpy!=1.24.0,>=1.17 in c:\\users\\honor\\appdata\\local\\programs\\python\\python311\\lib\\site-packages (from seaborn) (1.25.2)\n",
      "Requirement already satisfied: pandas>=0.25 in c:\\users\\honor\\appdata\\local\\programs\\python\\python311\\lib\\site-packages (from seaborn) (2.1.0)\n",
      "Requirement already satisfied: matplotlib!=3.6.1,>=3.1 in c:\\users\\honor\\appdata\\local\\programs\\python\\python311\\lib\\site-packages (from seaborn) (3.8.0)\n",
      "Requirement already satisfied: contourpy>=1.0.1 in c:\\users\\honor\\appdata\\local\\programs\\python\\python311\\lib\\site-packages (from matplotlib!=3.6.1,>=3.1->seaborn) (1.1.0)\n",
      "Requirement already satisfied: cycler>=0.10 in c:\\users\\honor\\appdata\\local\\programs\\python\\python311\\lib\\site-packages (from matplotlib!=3.6.1,>=3.1->seaborn) (0.11.0)\n",
      "Requirement already satisfied: fonttools>=4.22.0 in c:\\users\\honor\\appdata\\local\\programs\\python\\python311\\lib\\site-packages (from matplotlib!=3.6.1,>=3.1->seaborn) (4.42.1)\n",
      "Requirement already satisfied: kiwisolver>=1.0.1 in c:\\users\\honor\\appdata\\local\\programs\\python\\python311\\lib\\site-packages (from matplotlib!=3.6.1,>=3.1->seaborn) (1.4.5)\n",
      "Requirement already satisfied: packaging>=20.0 in c:\\users\\honor\\appdata\\local\\programs\\python\\python311\\lib\\site-packages (from matplotlib!=3.6.1,>=3.1->seaborn) (23.1)\n",
      "Requirement already satisfied: pillow>=6.2.0 in c:\\users\\honor\\appdata\\local\\programs\\python\\python311\\lib\\site-packages (from matplotlib!=3.6.1,>=3.1->seaborn) (10.0.0)\n",
      "Requirement already satisfied: pyparsing>=2.3.1 in c:\\users\\honor\\appdata\\local\\programs\\python\\python311\\lib\\site-packages (from matplotlib!=3.6.1,>=3.1->seaborn) (3.1.1)\n",
      "Requirement already satisfied: python-dateutil>=2.7 in c:\\users\\honor\\appdata\\local\\programs\\python\\python311\\lib\\site-packages (from matplotlib!=3.6.1,>=3.1->seaborn) (2.8.2)\n",
      "Requirement already satisfied: pytz>=2020.1 in c:\\users\\honor\\appdata\\local\\programs\\python\\python311\\lib\\site-packages (from pandas>=0.25->seaborn) (2023.3.post1)\n",
      "Requirement already satisfied: tzdata>=2022.1 in c:\\users\\honor\\appdata\\local\\programs\\python\\python311\\lib\\site-packages (from pandas>=0.25->seaborn) (2023.3)\n",
      "Requirement already satisfied: six>=1.5 in c:\\users\\honor\\appdata\\local\\programs\\python\\python311\\lib\\site-packages (from python-dateutil>=2.7->matplotlib!=3.6.1,>=3.1->seaborn) (1.16.0)\n",
      "Requirement already satisfied: matplotlib in c:\\users\\honor\\appdata\\local\\programs\\python\\python311\\lib\\site-packages (3.8.0)\n",
      "Requirement already satisfied: contourpy>=1.0.1 in c:\\users\\honor\\appdata\\local\\programs\\python\\python311\\lib\\site-packages (from matplotlib) (1.1.0)\n",
      "Requirement already satisfied: cycler>=0.10 in c:\\users\\honor\\appdata\\local\\programs\\python\\python311\\lib\\site-packages (from matplotlib) (0.11.0)\n",
      "Requirement already satisfied: fonttools>=4.22.0 in c:\\users\\honor\\appdata\\local\\programs\\python\\python311\\lib\\site-packages (from matplotlib) (4.42.1)\n",
      "Requirement already satisfied: kiwisolver>=1.0.1 in c:\\users\\honor\\appdata\\local\\programs\\python\\python311\\lib\\site-packages (from matplotlib) (1.4.5)\n",
      "Requirement already satisfied: numpy<2,>=1.21 in c:\\users\\honor\\appdata\\local\\programs\\python\\python311\\lib\\site-packages (from matplotlib) (1.25.2)\n",
      "Requirement already satisfied: packaging>=20.0 in c:\\users\\honor\\appdata\\local\\programs\\python\\python311\\lib\\site-packages (from matplotlib) (23.1)\n",
      "Requirement already satisfied: pillow>=6.2.0 in c:\\users\\honor\\appdata\\local\\programs\\python\\python311\\lib\\site-packages (from matplotlib) (10.0.0)\n",
      "Requirement already satisfied: pyparsing>=2.3.1 in c:\\users\\honor\\appdata\\local\\programs\\python\\python311\\lib\\site-packages (from matplotlib) (3.1.1)\n",
      "Requirement already satisfied: python-dateutil>=2.7 in c:\\users\\honor\\appdata\\local\\programs\\python\\python311\\lib\\site-packages (from matplotlib) (2.8.2)\n",
      "Requirement already satisfied: six>=1.5 in c:\\users\\honor\\appdata\\local\\programs\\python\\python311\\lib\\site-packages (from python-dateutil>=2.7->matplotlib) (1.16.0)\n",
      "Collecting catboost\n",
      "  Obtaining dependency information for catboost from https://files.pythonhosted.org/packages/e2/63/379617e3d982e8a66c9d66ebf4621d3357c7c18ad356473c335bffd5aba6/catboost-1.2.2-cp311-cp311-win_amd64.whl.metadata\n",
      "  Downloading catboost-1.2.2-cp311-cp311-win_amd64.whl.metadata (1.2 kB)\n",
      "Collecting graphviz (from catboost)\n",
      "  Downloading graphviz-0.20.1-py3-none-any.whl (47 kB)\n",
      "     ---------------------------------------- 0.0/47.0 kB ? eta -:--:--\n",
      "     -------- ------------------------------- 10.2/47.0 kB ? eta -:--:--\n",
      "     ---------------- --------------------- 20.5/47.0 kB 330.3 kB/s eta 0:00:01\n",
      "     -------------------------------------- 47.0/47.0 kB 391.5 kB/s eta 0:00:00\n",
      "Requirement already satisfied: matplotlib in c:\\users\\honor\\appdata\\local\\programs\\python\\python311\\lib\\site-packages (from catboost) (3.8.0)\n",
      "Requirement already satisfied: numpy>=1.16.0 in c:\\users\\honor\\appdata\\local\\programs\\python\\python311\\lib\\site-packages (from catboost) (1.25.2)\n",
      "Requirement already satisfied: pandas>=0.24 in c:\\users\\honor\\appdata\\local\\programs\\python\\python311\\lib\\site-packages (from catboost) (2.1.0)\n",
      "Requirement already satisfied: scipy in c:\\users\\honor\\appdata\\local\\programs\\python\\python311\\lib\\site-packages (from catboost) (1.11.2)\n",
      "Collecting plotly (from catboost)\n",
      "  Obtaining dependency information for plotly from https://files.pythonhosted.org/packages/df/79/c80174d711ee26ee5da55a9cc3e248f1ec7a0188b5e4d6bbbbcd09b974b0/plotly-5.17.0-py2.py3-none-any.whl.metadata\n",
      "  Downloading plotly-5.17.0-py2.py3-none-any.whl.metadata (7.0 kB)\n",
      "Requirement already satisfied: six in c:\\users\\honor\\appdata\\local\\programs\\python\\python311\\lib\\site-packages (from catboost) (1.16.0)\n",
      "Requirement already satisfied: python-dateutil>=2.8.2 in c:\\users\\honor\\appdata\\local\\programs\\python\\python311\\lib\\site-packages (from pandas>=0.24->catboost) (2.8.2)\n",
      "Requirement already satisfied: pytz>=2020.1 in c:\\users\\honor\\appdata\\local\\programs\\python\\python311\\lib\\site-packages (from pandas>=0.24->catboost) (2023.3.post1)\n",
      "Requirement already satisfied: tzdata>=2022.1 in c:\\users\\honor\\appdata\\local\\programs\\python\\python311\\lib\\site-packages (from pandas>=0.24->catboost) (2023.3)\n",
      "Requirement already satisfied: contourpy>=1.0.1 in c:\\users\\honor\\appdata\\local\\programs\\python\\python311\\lib\\site-packages (from matplotlib->catboost) (1.1.0)\n",
      "Requirement already satisfied: cycler>=0.10 in c:\\users\\honor\\appdata\\local\\programs\\python\\python311\\lib\\site-packages (from matplotlib->catboost) (0.11.0)\n",
      "Requirement already satisfied: fonttools>=4.22.0 in c:\\users\\honor\\appdata\\local\\programs\\python\\python311\\lib\\site-packages (from matplotlib->catboost) (4.42.1)\n",
      "Requirement already satisfied: kiwisolver>=1.0.1 in c:\\users\\honor\\appdata\\local\\programs\\python\\python311\\lib\\site-packages (from matplotlib->catboost) (1.4.5)\n",
      "Requirement already satisfied: packaging>=20.0 in c:\\users\\honor\\appdata\\local\\programs\\python\\python311\\lib\\site-packages (from matplotlib->catboost) (23.1)\n",
      "Requirement already satisfied: pillow>=6.2.0 in c:\\users\\honor\\appdata\\local\\programs\\python\\python311\\lib\\site-packages (from matplotlib->catboost) (10.0.0)\n",
      "Requirement already satisfied: pyparsing>=2.3.1 in c:\\users\\honor\\appdata\\local\\programs\\python\\python311\\lib\\site-packages (from matplotlib->catboost) (3.1.1)\n",
      "Collecting tenacity>=6.2.0 (from plotly->catboost)\n",
      "  Obtaining dependency information for tenacity>=6.2.0 from https://files.pythonhosted.org/packages/f4/f1/990741d5bb2487d529d20a433210ffa136a367751e454214013b441c4575/tenacity-8.2.3-py3-none-any.whl.metadata\n",
      "  Downloading tenacity-8.2.3-py3-none-any.whl.metadata (1.0 kB)\n",
      "Downloading catboost-1.2.2-cp311-cp311-win_amd64.whl (101.0 MB)\n",
      "   ---------------------------------------- 0.0/101.0 MB ? eta -:--:--\n",
      "   ---------------------------------------- 0.0/101.0 MB 1.9 MB/s eta 0:00:53\n",
      "   ---------------------------------------- 0.2/101.0 MB 1.8 MB/s eta 0:00:55\n",
      "   ---------------------------------------- 0.3/101.0 MB 2.0 MB/s eta 0:00:52\n",
      "   ---------------------------------------- 0.4/101.0 MB 1.9 MB/s eta 0:00:53\n",
      "   ---------------------------------------- 0.6/101.0 MB 2.6 MB/s eta 0:00:39\n",
      "   ---------------------------------------- 0.9/101.0 MB 3.2 MB/s eta 0:00:32\n",
      "    --------------------------------------- 1.4/101.0 MB 4.4 MB/s eta 0:00:23\n",
      "    --------------------------------------- 1.9/101.0 MB 5.2 MB/s eta 0:00:20\n",
      "    --------------------------------------- 2.2/101.0 MB 5.7 MB/s eta 0:00:18\n",
      "    --------------------------------------- 2.2/101.0 MB 5.7 MB/s eta 0:00:18\n",
      "    --------------------------------------- 2.2/101.0 MB 5.7 MB/s eta 0:00:18\n",
      "    --------------------------------------- 2.5/101.0 MB 4.7 MB/s eta 0:00:21\n",
      "   - -------------------------------------- 3.6/101.0 MB 6.0 MB/s eta 0:00:17\n",
      "   - -------------------------------------- 4.0/101.0 MB 6.2 MB/s eta 0:00:16\n",
      "   - -------------------------------------- 4.6/101.0 MB 6.6 MB/s eta 0:00:15\n",
      "   - -------------------------------------- 4.8/101.0 MB 6.7 MB/s eta 0:00:15\n",
      "   - -------------------------------------- 4.8/101.0 MB 6.7 MB/s eta 0:00:15\n",
      "   -- ------------------------------------- 5.8/101.0 MB 7.0 MB/s eta 0:00:14\n",
      "   -- ------------------------------------- 6.1/101.0 MB 6.8 MB/s eta 0:00:14\n",
      "   -- ------------------------------------- 6.6/101.0 MB 7.0 MB/s eta 0:00:14\n",
      "   -- ------------------------------------- 6.9/101.0 MB 7.0 MB/s eta 0:00:14\n",
      "   -- ------------------------------------- 7.5/101.0 MB 7.3 MB/s eta 0:00:13\n",
      "   --- ------------------------------------ 8.0/101.0 MB 7.4 MB/s eta 0:00:13\n",
      "   --- ------------------------------------ 8.6/101.0 MB 7.6 MB/s eta 0:00:13\n",
      "   --- ------------------------------------ 8.7/101.0 MB 7.5 MB/s eta 0:00:13\n",
      "   --- ------------------------------------ 9.4/101.0 MB 7.7 MB/s eta 0:00:12\n",
      "   --- ------------------------------------ 9.7/101.0 MB 7.6 MB/s eta 0:00:12\n",
      "   --- ------------------------------------ 10.0/101.0 MB 7.7 MB/s eta 0:00:12\n",
      "   ---- ----------------------------------- 10.5/101.0 MB 8.4 MB/s eta 0:00:11\n",
      "   ---- ----------------------------------- 10.9/101.0 MB 9.0 MB/s eta 0:00:11\n",
      "   ---- ----------------------------------- 11.4/101.0 MB 9.2 MB/s eta 0:00:10\n",
      "   ---- ----------------------------------- 11.9/101.0 MB 9.1 MB/s eta 0:00:10\n",
      "   ---- ----------------------------------- 12.3/101.0 MB 9.0 MB/s eta 0:00:10\n",
      "   ---- ----------------------------------- 12.5/101.0 MB 9.9 MB/s eta 0:00:09\n",
      "   ----- ---------------------------------- 13.0/101.0 MB 10.2 MB/s eta 0:00:09\n",
      "   ----- ---------------------------------- 13.3/101.0 MB 9.9 MB/s eta 0:00:09\n",
      "   ----- ---------------------------------- 13.7/101.0 MB 9.5 MB/s eta 0:00:10\n",
      "   ----- ---------------------------------- 14.2/101.0 MB 9.5 MB/s eta 0:00:10\n",
      "   ----- ---------------------------------- 14.8/101.0 MB 9.5 MB/s eta 0:00:10\n",
      "   ------ --------------------------------- 15.3/101.0 MB 10.4 MB/s eta 0:00:09\n",
      "   ------ --------------------------------- 15.6/101.0 MB 10.1 MB/s eta 0:00:09\n",
      "   ------ --------------------------------- 16.1/101.0 MB 10.1 MB/s eta 0:00:09\n",
      "   ------ --------------------------------- 16.3/101.0 MB 9.9 MB/s eta 0:00:09\n",
      "   ------ --------------------------------- 16.6/101.0 MB 9.5 MB/s eta 0:00:09\n",
      "   ------ --------------------------------- 17.1/101.0 MB 9.9 MB/s eta 0:00:09\n",
      "   ------ --------------------------------- 17.7/101.0 MB 9.9 MB/s eta 0:00:09\n",
      "   ------- -------------------------------- 18.2/101.0 MB 9.9 MB/s eta 0:00:09\n",
      "   ------- -------------------------------- 18.7/101.0 MB 10.1 MB/s eta 0:00:09\n",
      "   ------- -------------------------------- 19.2/101.0 MB 10.1 MB/s eta 0:00:09\n",
      "   ------- -------------------------------- 19.7/101.0 MB 10.1 MB/s eta 0:00:09\n",
      "   -------- ------------------------------- 20.2/101.0 MB 10.4 MB/s eta 0:00:08\n",
      "   -------- ------------------------------- 20.8/101.0 MB 10.6 MB/s eta 0:00:08\n",
      "   -------- ------------------------------- 21.3/101.0 MB 10.4 MB/s eta 0:00:08\n",
      "   -------- ------------------------------- 21.7/101.0 MB 10.6 MB/s eta 0:00:08\n",
      "   -------- ------------------------------- 22.3/101.0 MB 10.6 MB/s eta 0:00:08\n",
      "   -------- ------------------------------- 22.5/101.0 MB 10.2 MB/s eta 0:00:08\n",
      "   --------- ------------------------------ 22.8/101.0 MB 10.2 MB/s eta 0:00:08\n",
      "   --------- ------------------------------ 23.3/101.0 MB 10.1 MB/s eta 0:00:08\n",
      "   --------- ------------------------------ 23.8/101.0 MB 10.2 MB/s eta 0:00:08\n",
      "   --------- ------------------------------ 24.3/101.0 MB 10.2 MB/s eta 0:00:08\n",
      "   --------- ------------------------------ 24.9/101.0 MB 10.2 MB/s eta 0:00:08\n",
      "   ---------- ----------------------------- 25.5/101.0 MB 10.2 MB/s eta 0:00:08\n",
      "   ---------- ----------------------------- 26.0/101.0 MB 10.2 MB/s eta 0:00:08\n",
      "   ---------- ----------------------------- 26.4/101.0 MB 10.4 MB/s eta 0:00:08\n",
      "   ---------- ----------------------------- 26.9/101.0 MB 10.7 MB/s eta 0:00:07\n",
      "   ---------- ----------------------------- 27.5/101.0 MB 10.7 MB/s eta 0:00:07\n",
      "   ----------- ---------------------------- 28.1/101.0 MB 10.7 MB/s eta 0:00:07\n",
      "   ----------- ---------------------------- 28.6/101.0 MB 10.7 MB/s eta 0:00:07\n",
      "   ----------- ---------------------------- 29.2/101.0 MB 10.9 MB/s eta 0:00:07\n",
      "   ----------- ---------------------------- 29.2/101.0 MB 10.7 MB/s eta 0:00:07\n",
      "   ----------- ---------------------------- 29.6/101.0 MB 10.1 MB/s eta 0:00:08\n",
      "   ----------- ---------------------------- 30.1/101.0 MB 10.1 MB/s eta 0:00:08\n",
      "   ------------ --------------------------- 30.6/101.0 MB 10.2 MB/s eta 0:00:07\n",
      "   ------------ --------------------------- 31.0/101.0 MB 10.2 MB/s eta 0:00:07\n",
      "   ------------ --------------------------- 31.6/101.0 MB 10.2 MB/s eta 0:00:07\n",
      "   ------------ --------------------------- 32.2/101.0 MB 10.2 MB/s eta 0:00:07\n",
      "   ------------ --------------------------- 32.6/101.0 MB 10.1 MB/s eta 0:00:07\n",
      "   ------------- -------------------------- 33.1/101.0 MB 10.9 MB/s eta 0:00:07\n",
      "   ------------- -------------------------- 33.6/101.0 MB 10.9 MB/s eta 0:00:07\n",
      "   ------------- -------------------------- 34.2/101.0 MB 10.9 MB/s eta 0:00:07\n",
      "   ------------- -------------------------- 34.7/101.0 MB 10.9 MB/s eta 0:00:07\n",
      "   ------------- -------------------------- 34.9/101.0 MB 10.6 MB/s eta 0:00:07\n",
      "   -------------- ------------------------- 35.4/101.0 MB 10.6 MB/s eta 0:00:07\n",
      "   -------------- ------------------------- 35.9/101.0 MB 10.6 MB/s eta 0:00:07\n",
      "   -------------- ------------------------- 36.6/101.0 MB 10.6 MB/s eta 0:00:07\n",
      "   -------------- ------------------------- 37.0/101.0 MB 10.7 MB/s eta 0:00:06\n",
      "   -------------- ------------------------- 37.6/101.0 MB 10.6 MB/s eta 0:00:07\n",
      "   --------------- ------------------------ 37.9/101.0 MB 10.6 MB/s eta 0:00:06\n",
      "   --------------- ------------------------ 38.5/101.0 MB 10.4 MB/s eta 0:00:07\n",
      "   --------------- ------------------------ 39.0/101.0 MB 10.2 MB/s eta 0:00:07\n",
      "   --------------- ------------------------ 39.6/101.0 MB 11.1 MB/s eta 0:00:06\n",
      "   --------------- ------------------------ 40.2/101.0 MB 11.1 MB/s eta 0:00:06\n",
      "   ---------------- ----------------------- 40.6/101.0 MB 11.1 MB/s eta 0:00:06\n",
      "   ---------------- ----------------------- 41.0/101.0 MB 11.1 MB/s eta 0:00:06\n",
      "   ---------------- ----------------------- 41.7/101.0 MB 11.3 MB/s eta 0:00:06\n",
      "   ---------------- ----------------------- 42.2/101.0 MB 11.1 MB/s eta 0:00:06\n",
      "   ---------------- ----------------------- 42.7/101.0 MB 11.1 MB/s eta 0:00:06\n",
      "   ----------------- ---------------------- 43.2/101.0 MB 11.1 MB/s eta 0:00:06\n",
      "   ----------------- ---------------------- 43.8/101.0 MB 11.1 MB/s eta 0:00:06\n",
      "   ----------------- ---------------------- 44.2/101.0 MB 11.1 MB/s eta 0:00:06\n",
      "   ----------------- ---------------------- 44.7/101.0 MB 10.9 MB/s eta 0:00:06\n",
      "   ----------------- ---------------------- 45.1/101.0 MB 11.1 MB/s eta 0:00:06\n",
      "   ------------------ --------------------- 45.7/101.0 MB 11.5 MB/s eta 0:00:05\n",
      "   ------------------ --------------------- 46.2/101.0 MB 11.5 MB/s eta 0:00:05\n",
      "   ------------------ --------------------- 46.6/101.0 MB 11.3 MB/s eta 0:00:05\n",
      "   ------------------ --------------------- 47.1/101.0 MB 11.5 MB/s eta 0:00:05\n",
      "   ------------------ --------------------- 47.3/101.0 MB 11.3 MB/s eta 0:00:05\n",
      "   ------------------ --------------------- 47.5/101.0 MB 10.7 MB/s eta 0:00:05\n",
      "   ------------------- -------------------- 48.0/101.0 MB 10.6 MB/s eta 0:00:06\n",
      "   ------------------- -------------------- 48.6/101.0 MB 10.9 MB/s eta 0:00:05\n",
      "   ------------------- -------------------- 49.0/101.0 MB 10.7 MB/s eta 0:00:05\n",
      "   ------------------- -------------------- 49.3/101.0 MB 10.4 MB/s eta 0:00:05\n",
      "   ------------------- -------------------- 50.0/101.0 MB 10.6 MB/s eta 0:00:05\n",
      "   ------------------- -------------------- 50.5/101.0 MB 10.4 MB/s eta 0:00:05\n",
      "   -------------------- ------------------- 50.7/101.0 MB 10.6 MB/s eta 0:00:05\n",
      "   -------------------- ------------------- 51.1/101.0 MB 10.1 MB/s eta 0:00:05\n",
      "   -------------------- ------------------- 51.4/101.0 MB 9.9 MB/s eta 0:00:05\n",
      "   -------------------- ------------------- 51.4/101.0 MB 9.9 MB/s eta 0:00:05\n",
      "   -------------------- ------------------- 51.4/101.0 MB 9.9 MB/s eta 0:00:05\n",
      "   -------------------- ------------------- 51.5/101.0 MB 8.8 MB/s eta 0:00:06\n",
      "   -------------------- ------------------- 52.4/101.0 MB 8.8 MB/s eta 0:00:06\n",
      "   -------------------- ------------------- 52.7/101.0 MB 8.7 MB/s eta 0:00:06\n",
      "   --------------------- ------------------ 53.1/101.0 MB 8.7 MB/s eta 0:00:06\n",
      "   --------------------- ------------------ 53.5/101.0 MB 8.7 MB/s eta 0:00:06\n",
      "   --------------------- ------------------ 53.9/101.0 MB 8.6 MB/s eta 0:00:06\n",
      "   --------------------- ------------------ 54.3/101.0 MB 8.5 MB/s eta 0:00:06\n",
      "   --------------------- ------------------ 54.6/101.0 MB 8.5 MB/s eta 0:00:06\n",
      "   --------------------- ------------------ 55.2/101.0 MB 8.4 MB/s eta 0:00:06\n",
      "   --------------------- ------------------ 55.4/101.0 MB 8.3 MB/s eta 0:00:06\n",
      "   ---------------------- ----------------- 55.8/101.0 MB 8.2 MB/s eta 0:00:06\n",
      "   ---------------------- ----------------- 56.1/101.0 MB 8.0 MB/s eta 0:00:06\n",
      "   ---------------------- ----------------- 56.5/101.0 MB 8.0 MB/s eta 0:00:06\n",
      "   ---------------------- ----------------- 56.8/101.0 MB 8.0 MB/s eta 0:00:06\n",
      "   ---------------------- ----------------- 57.1/101.0 MB 7.8 MB/s eta 0:00:06\n",
      "   ---------------------- ----------------- 57.7/101.0 MB 7.9 MB/s eta 0:00:06\n",
      "   ---------------------- ----------------- 58.0/101.0 MB 8.0 MB/s eta 0:00:06\n",
      "   ----------------------- ---------------- 58.6/101.0 MB 7.9 MB/s eta 0:00:06\n",
      "   ----------------------- ---------------- 59.0/101.0 MB 7.8 MB/s eta 0:00:06\n",
      "   ----------------------- ---------------- 59.4/101.0 MB 7.9 MB/s eta 0:00:06\n",
      "   ----------------------- ---------------- 59.8/101.0 MB 7.9 MB/s eta 0:00:06\n",
      "   ----------------------- ---------------- 60.2/101.0 MB 7.8 MB/s eta 0:00:06\n",
      "   ------------------------ --------------- 60.8/101.0 MB 7.8 MB/s eta 0:00:06\n",
      "   ------------------------ --------------- 61.1/101.0 MB 7.8 MB/s eta 0:00:06\n",
      "   ------------------------ --------------- 61.7/101.0 MB 8.7 MB/s eta 0:00:05\n",
      "   ------------------------ --------------- 62.1/101.0 MB 8.8 MB/s eta 0:00:05\n",
      "   ------------------------ --------------- 62.5/101.0 MB 8.6 MB/s eta 0:00:05\n",
      "   ------------------------ --------------- 62.8/101.0 MB 8.6 MB/s eta 0:00:05\n",
      "   ------------------------- -------------- 63.4/101.0 MB 8.7 MB/s eta 0:00:05\n",
      "   ------------------------- -------------- 63.7/101.0 MB 8.6 MB/s eta 0:00:05\n",
      "   ------------------------- -------------- 64.1/101.0 MB 8.7 MB/s eta 0:00:05\n",
      "   ------------------------- -------------- 64.7/101.0 MB 8.7 MB/s eta 0:00:05\n",
      "   ------------------------- -------------- 65.0/101.0 MB 8.8 MB/s eta 0:00:05\n",
      "   ------------------------- -------------- 65.5/101.0 MB 8.8 MB/s eta 0:00:05\n",
      "   -------------------------- ------------- 65.9/101.0 MB 8.7 MB/s eta 0:00:05\n",
      "   -------------------------- ------------- 66.3/101.0 MB 9.1 MB/s eta 0:00:04\n",
      "   -------------------------- ------------- 66.8/101.0 MB 9.0 MB/s eta 0:00:04\n",
      "   -------------------------- ------------- 67.2/101.0 MB 9.4 MB/s eta 0:00:04\n",
      "   -------------------------- ------------- 67.6/101.0 MB 9.2 MB/s eta 0:00:04\n",
      "   --------------------------- ------------ 68.3/101.0 MB 9.5 MB/s eta 0:00:04\n",
      "   --------------------------- ------------ 68.8/101.0 MB 9.4 MB/s eta 0:00:04\n",
      "   --------------------------- ------------ 69.1/101.0 MB 9.5 MB/s eta 0:00:04\n",
      "   --------------------------- ------------ 69.7/101.0 MB 9.5 MB/s eta 0:00:04\n",
      "   --------------------------- ------------ 70.2/101.0 MB 9.6 MB/s eta 0:00:04\n",
      "   --------------------------- ------------ 70.6/101.0 MB 9.6 MB/s eta 0:00:04\n",
      "   ---------------------------- ----------- 71.0/101.0 MB 9.5 MB/s eta 0:00:04\n",
      "   ---------------------------- ----------- 71.6/101.0 MB 9.6 MB/s eta 0:00:04\n",
      "   ---------------------------- ----------- 71.9/101.0 MB 9.5 MB/s eta 0:00:04\n",
      "   ---------------------------- ----------- 72.5/101.0 MB 9.6 MB/s eta 0:00:03\n",
      "   ---------------------------- ----------- 73.0/101.0 MB 9.9 MB/s eta 0:00:03\n",
      "   ----------------------------- ---------- 73.4/101.0 MB 9.8 MB/s eta 0:00:03\n",
      "   ----------------------------- ---------- 73.9/101.0 MB 9.8 MB/s eta 0:00:03\n",
      "   ----------------------------- ---------- 74.4/101.0 MB 10.1 MB/s eta 0:00:03\n",
      "   ----------------------------- ---------- 74.9/101.0 MB 10.1 MB/s eta 0:00:03\n",
      "   ----------------------------- ---------- 75.4/101.0 MB 10.4 MB/s eta 0:00:03\n",
      "   ------------------------------ --------- 75.9/101.0 MB 10.4 MB/s eta 0:00:03\n",
      "   ------------------------------ --------- 76.3/101.0 MB 10.4 MB/s eta 0:00:03\n",
      "   ------------------------------ --------- 76.3/101.0 MB 9.9 MB/s eta 0:00:03\n",
      "   ------------------------------ --------- 76.9/101.0 MB 10.1 MB/s eta 0:00:03\n",
      "   ------------------------------ --------- 77.4/101.0 MB 10.1 MB/s eta 0:00:03\n",
      "   ------------------------------ --------- 77.8/101.0 MB 10.2 MB/s eta 0:00:03\n",
      "   ------------------------------- -------- 78.4/101.0 MB 10.2 MB/s eta 0:00:03\n",
      "   ------------------------------- -------- 79.0/101.0 MB 10.4 MB/s eta 0:00:03\n",
      "   ------------------------------- -------- 79.5/101.0 MB 10.4 MB/s eta 0:00:03\n",
      "   ------------------------------- -------- 80.0/101.0 MB 10.2 MB/s eta 0:00:03\n",
      "   ------------------------------- -------- 80.4/101.0 MB 10.2 MB/s eta 0:00:03\n",
      "   -------------------------------- ------- 80.9/101.0 MB 10.4 MB/s eta 0:00:02\n",
      "   -------------------------------- ------- 81.3/101.0 MB 10.4 MB/s eta 0:00:02\n",
      "   -------------------------------- ------- 81.7/101.0 MB 10.2 MB/s eta 0:00:02\n",
      "   -------------------------------- ------- 82.2/101.0 MB 10.4 MB/s eta 0:00:02\n",
      "   -------------------------------- ------- 82.6/101.0 MB 10.4 MB/s eta 0:00:02\n",
      "   -------------------------------- ------- 83.2/101.0 MB 10.4 MB/s eta 0:00:02\n",
      "   --------------------------------- ------ 83.7/101.0 MB 10.4 MB/s eta 0:00:02\n",
      "   --------------------------------- ------ 84.2/101.0 MB 10.4 MB/s eta 0:00:02\n",
      "   --------------------------------- ------ 84.6/101.0 MB 10.4 MB/s eta 0:00:02\n",
      "   --------------------------------- ------ 85.2/101.0 MB 10.4 MB/s eta 0:00:02\n",
      "   --------------------------------- ------ 85.5/101.0 MB 10.4 MB/s eta 0:00:02\n",
      "   ---------------------------------- ----- 86.0/101.0 MB 10.2 MB/s eta 0:00:02\n",
      "   ---------------------------------- ----- 86.4/101.0 MB 10.2 MB/s eta 0:00:02\n",
      "   ---------------------------------- ----- 87.0/101.0 MB 10.7 MB/s eta 0:00:02\n",
      "   ---------------------------------- ----- 87.6/101.0 MB 10.7 MB/s eta 0:00:02\n",
      "   ---------------------------------- ----- 88.0/101.0 MB 10.7 MB/s eta 0:00:02\n",
      "   ---------------------------------- ----- 88.3/101.0 MB 10.4 MB/s eta 0:00:02\n",
      "   ----------------------------------- ---- 89.0/101.0 MB 10.7 MB/s eta 0:00:02\n",
      "   ----------------------------------- ---- 89.4/101.0 MB 10.4 MB/s eta 0:00:02\n",
      "   ----------------------------------- ---- 90.0/101.0 MB 10.6 MB/s eta 0:00:02\n",
      "   ----------------------------------- ---- 90.1/101.0 MB 10.6 MB/s eta 0:00:02\n",
      "   ----------------------------------- ---- 90.5/101.0 MB 10.2 MB/s eta 0:00:02\n",
      "   ------------------------------------ --- 91.0/101.0 MB 10.2 MB/s eta 0:00:01\n",
      "   ------------------------------------ --- 91.5/101.0 MB 10.2 MB/s eta 0:00:01\n",
      "   ------------------------------------ --- 92.1/101.0 MB 10.2 MB/s eta 0:00:01\n",
      "   ------------------------------------ --- 92.5/101.0 MB 10.2 MB/s eta 0:00:01\n",
      "   ------------------------------------ --- 93.1/101.0 MB 10.6 MB/s eta 0:00:01\n",
      "   ------------------------------------- -- 93.5/101.0 MB 10.4 MB/s eta 0:00:01\n",
      "   ------------------------------------- -- 93.8/101.0 MB 10.2 MB/s eta 0:00:01\n",
      "   ------------------------------------- -- 94.4/101.0 MB 10.2 MB/s eta 0:00:01\n",
      "   ------------------------------------- -- 94.8/101.0 MB 10.1 MB/s eta 0:00:01\n",
      "   ------------------------------------- -- 95.3/101.0 MB 10.1 MB/s eta 0:00:01\n",
      "   ------------------------------------- -- 95.8/101.0 MB 10.2 MB/s eta 0:00:01\n",
      "   -------------------------------------- - 96.0/101.0 MB 9.9 MB/s eta 0:00:01\n",
      "   -------------------------------------- - 96.6/101.0 MB 10.1 MB/s eta 0:00:01\n",
      "   -------------------------------------- - 96.9/101.0 MB 9.9 MB/s eta 0:00:01\n",
      "   -------------------------------------- - 97.5/101.0 MB 9.9 MB/s eta 0:00:01\n",
      "   -------------------------------------- - 97.8/101.0 MB 9.8 MB/s eta 0:00:01\n",
      "   -------------------------------------- - 98.3/101.0 MB 9.6 MB/s eta 0:00:01\n",
      "   ---------------------------------------  98.7/101.0 MB 9.6 MB/s eta 0:00:01\n",
      "   ---------------------------------------  99.2/101.0 MB 9.6 MB/s eta 0:00:01\n",
      "   ---------------------------------------  99.7/101.0 MB 9.9 MB/s eta 0:00:01\n",
      "   ---------------------------------------  100.0/101.0 MB 9.6 MB/s eta 0:00:01\n",
      "   ---------------------------------------  100.7/101.0 MB 9.9 MB/s eta 0:00:01\n",
      "   ---------------------------------------  101.0/101.0 MB 9.8 MB/s eta 0:00:01\n",
      "   ---------------------------------------  101.0/101.0 MB 9.8 MB/s eta 0:00:01\n",
      "   ---------------------------------------  101.0/101.0 MB 9.8 MB/s eta 0:00:01\n",
      "   ---------------------------------------  101.0/101.0 MB 9.8 MB/s eta 0:00:01\n",
      "   ---------------------------------------  101.0/101.0 MB 9.8 MB/s eta 0:00:01\n",
      "   ---------------------------------------  101.0/101.0 MB 9.8 MB/s eta 0:00:01\n",
      "   ---------------------------------------  101.0/101.0 MB 9.8 MB/s eta 0:00:01\n",
      "   ---------------------------------------- 101.0/101.0 MB 7.0 MB/s eta 0:00:00\n",
      "Downloading plotly-5.17.0-py2.py3-none-any.whl (15.6 MB)\n",
      "   ---------------------------------------- 0.0/15.6 MB ? eta -:--:--\n",
      "   - -------------------------------------- 0.4/15.6 MB 8.3 MB/s eta 0:00:02\n",
      "   -- ------------------------------------- 0.9/15.6 MB 9.5 MB/s eta 0:00:02\n",
      "   --- ------------------------------------ 1.3/15.6 MB 10.3 MB/s eta 0:00:02\n",
      "   ---- ----------------------------------- 1.8/15.6 MB 10.2 MB/s eta 0:00:02\n",
      "   ----- ---------------------------------- 2.1/15.6 MB 10.3 MB/s eta 0:00:02\n",
      "   ------ --------------------------------- 2.5/15.6 MB 9.9 MB/s eta 0:00:02\n",
      "   ------- -------------------------------- 3.1/15.6 MB 10.3 MB/s eta 0:00:02\n",
      "   -------- ------------------------------- 3.2/15.6 MB 9.8 MB/s eta 0:00:02\n",
      "   --------- ------------------------------ 3.8/15.6 MB 10.0 MB/s eta 0:00:02\n",
      "   ---------- ----------------------------- 4.1/15.6 MB 9.6 MB/s eta 0:00:02\n",
      "   ------------ --------------------------- 4.8/15.6 MB 10.2 MB/s eta 0:00:02\n",
      "   ------------- -------------------------- 5.2/15.6 MB 9.7 MB/s eta 0:00:02\n",
      "   -------------- ------------------------- 5.7/15.6 MB 9.8 MB/s eta 0:00:02\n",
      "   ---------------- ----------------------- 6.3/15.6 MB 10.0 MB/s eta 0:00:01\n",
      "   ----------------- ---------------------- 6.7/15.6 MB 10.0 MB/s eta 0:00:01\n",
      "   ------------------ --------------------- 7.2/15.6 MB 9.8 MB/s eta 0:00:01\n",
      "   ------------------- -------------------- 7.7/15.6 MB 10.0 MB/s eta 0:00:01\n",
      "   ------------------- -------------------- 7.7/15.6 MB 10.0 MB/s eta 0:00:01\n",
      "   -------------------- ------------------- 8.2/15.6 MB 9.5 MB/s eta 0:00:01\n",
      "   --------------------- ------------------ 8.6/15.6 MB 9.5 MB/s eta 0:00:01\n",
      "   ----------------------- ---------------- 9.1/15.6 MB 9.5 MB/s eta 0:00:01\n",
      "   ------------------------ --------------- 9.4/15.6 MB 9.4 MB/s eta 0:00:01\n",
      "   ------------------------- -------------- 9.9/15.6 MB 9.3 MB/s eta 0:00:01\n",
      "   -------------------------- ------------- 10.4/15.6 MB 9.5 MB/s eta 0:00:01\n",
      "   --------------------------- ------------ 10.9/15.6 MB 9.4 MB/s eta 0:00:01\n",
      "   ----------------------------- ---------- 11.4/15.6 MB 9.4 MB/s eta 0:00:01\n",
      "   ------------------------------ --------- 11.9/15.6 MB 9.5 MB/s eta 0:00:01\n",
      "   ------------------------------ --------- 12.0/15.6 MB 9.5 MB/s eta 0:00:01\n",
      "   ------------------------------- -------- 12.4/15.6 MB 9.2 MB/s eta 0:00:01\n",
      "   -------------------------------- ------- 12.7/15.6 MB 9.0 MB/s eta 0:00:01\n",
      "   --------------------------------- ------ 13.0/15.6 MB 9.0 MB/s eta 0:00:01\n",
      "   --------------------------------- ------ 13.0/15.6 MB 9.0 MB/s eta 0:00:01\n",
      "   ---------------------------------- ----- 13.5/15.6 MB 8.7 MB/s eta 0:00:01\n",
      "   ------------------------------------ --- 14.2/15.6 MB 9.0 MB/s eta 0:00:01\n",
      "   ------------------------------------- -- 14.5/15.6 MB 8.7 MB/s eta 0:00:01\n",
      "   ------------------------------------- -- 14.6/15.6 MB 8.5 MB/s eta 0:00:01\n",
      "   -------------------------------------- - 15.0/15.6 MB 8.4 MB/s eta 0:00:01\n",
      "   -------------------------------------- - 15.0/15.6 MB 8.1 MB/s eta 0:00:01\n",
      "   ---------------------------------------  15.3/15.6 MB 8.1 MB/s eta 0:00:01\n",
      "   ---------------------------------------  15.6/15.6 MB 8.0 MB/s eta 0:00:01\n",
      "   ---------------------------------------  15.6/15.6 MB 7.9 MB/s eta 0:00:01\n",
      "   ---------------------------------------- 15.6/15.6 MB 7.4 MB/s eta 0:00:00\n",
      "Downloading tenacity-8.2.3-py3-none-any.whl (24 kB)\n",
      "Installing collected packages: tenacity, graphviz, plotly, catboost\n",
      "Successfully installed catboost-1.2.2 graphviz-0.20.1 plotly-5.17.0 tenacity-8.2.3\n"
     ]
    }
   ],
   "source": [
    "!pip install phik\n",
    "!pip install seaborn \n",
    "!pip install matplotlib\n",
    "!pip install catboost"
   ]
  },
  {
   "cell_type": "markdown",
   "id": "2dcfcf2a-819f-4d76-b379-f6b086ef279e",
   "metadata": {},
   "source": [
    "### Импорт библиотек"
   ]
  },
  {
   "cell_type": "code",
   "execution_count": 6,
   "id": "7cd472ed-e504-4a80-ac8a-13f7ef93574e",
   "metadata": {},
   "outputs": [],
   "source": [
    "#импорты из стандартной библиотеки\n",
    "import warnings\n",
    "from functools import reduce\n",
    "\n",
    "#импорты сторонних библиотек\n",
    "import matplotlib.pyplot as plt\n",
    "import numpy as np\n",
    "import pandas as pd\n",
    "\n",
    "#импорты модулей текущего проекта\n",
    "from catboost import CatBoostClassifier\n",
    "from phik import phik_matrix\n",
    "from phik.report import plot_correlation_matrix\n",
    "from sklearn.compose import make_column_transformer\n",
    "from sklearn.ensemble import RandomForestClassifier\n",
    "from sklearn.linear_model import LogisticRegression\n",
    "from sklearn.metrics import (\n",
    "    auc,\n",
    "    confusion_matrix,\n",
    "    ConfusionMatrixDisplay,\n",
    "    roc_auc_score, \n",
    "    roc_curve\n",
    ")    \n",
    "from sklearn.model_selection import (\n",
    "    GridSearchCV, \n",
    "    RandomizedSearchCV,\n",
    "    train_test_split\n",
    ")\n",
    "from sklearn.pipeline import make_pipeline\n",
    "from sklearn.preprocessing import (\n",
    "    OneHotEncoder,\n",
    "    StandardScaler\n",
    ")\n",
    "\n",
    "#настройки\n",
    "warnings.filterwarnings(\"ignore\")\n",
    "\n",
    "#константы заглавными буквами\n",
    "RANDOM_STATE = 310723"
   ]
  },
  {
   "cell_type": "markdown",
   "id": "14d8c8b6-9402-4c9a-bb43-955c55fd2214",
   "metadata": {},
   "source": [
    "### Загрузка датасетов"
   ]
  },
  {
   "cell_type": "code",
   "execution_count": 7,
   "id": "28787df5-397b-40b6-8395-909802f3b58a",
   "metadata": {},
   "outputs": [],
   "source": [
    "try:\n",
    "    contract = pd.read_csv('contract_new.csv')\n",
    "    personal = pd.read_csv('personal_new.csv')\n",
    "    internet = pd.read_csv('internet_new.csv')\n",
    "    phone = pd.read_csv('phone_new.csv')\n",
    "except:\n",
    "    contract = pd.read_csv('datasets/contract_new.csv')\n",
    "    personal = pd.read_csv('datasets/personal_new.csv')\n",
    "    internet = pd.read_csv('datasets/internet_new.csv')\n",
    "    phone = pd.read_csv('datasets/phone_new.csv')"
   ]
  },
  {
   "cell_type": "code",
   "execution_count": 8,
   "id": "1e4df7de-8174-4b3e-85d6-cf276cdaa0f1",
   "metadata": {},
   "outputs": [],
   "source": [
    "def get_data_info(data):\n",
    "    display(data.info())\n",
    "    display(data.head())\n",
    "    display(data.describe())\n",
    "    try:\n",
    "        display(data.hist())\n",
    "    except:\n",
    "        print('Nothing to plot!')"
   ]
  },
  {
   "cell_type": "markdown",
   "id": "9d92a09b-9122-4fb6-8d40-fff65f24af0d",
   "metadata": {},
   "source": [
    "### Таблица '**contract**'"
   ]
  },
  {
   "cell_type": "code",
   "execution_count": 9,
   "id": "db387c21-0aa1-4355-8833-fc63ce141ffa",
   "metadata": {
    "scrolled": true
   },
   "outputs": [
    {
     "name": "stdout",
     "output_type": "stream",
     "text": [
      "<class 'pandas.core.frame.DataFrame'>\n",
      "RangeIndex: 7043 entries, 0 to 7042\n",
      "Data columns (total 8 columns):\n",
      " #   Column            Non-Null Count  Dtype  \n",
      "---  ------            --------------  -----  \n",
      " 0   customerID        7043 non-null   object \n",
      " 1   BeginDate         7043 non-null   object \n",
      " 2   EndDate           7043 non-null   object \n",
      " 3   Type              7043 non-null   object \n",
      " 4   PaperlessBilling  7043 non-null   object \n",
      " 5   PaymentMethod     7043 non-null   object \n",
      " 6   MonthlyCharges    7043 non-null   float64\n",
      " 7   TotalCharges      7043 non-null   object \n",
      "dtypes: float64(1), object(7)\n",
      "memory usage: 440.3+ KB\n"
     ]
    },
    {
     "data": {
      "text/plain": [
       "None"
      ]
     },
     "metadata": {},
     "output_type": "display_data"
    },
    {
     "data": {
      "text/html": [
       "<div>\n",
       "<style scoped>\n",
       "    .dataframe tbody tr th:only-of-type {\n",
       "        vertical-align: middle;\n",
       "    }\n",
       "\n",
       "    .dataframe tbody tr th {\n",
       "        vertical-align: top;\n",
       "    }\n",
       "\n",
       "    .dataframe thead th {\n",
       "        text-align: right;\n",
       "    }\n",
       "</style>\n",
       "<table border=\"1\" class=\"dataframe\">\n",
       "  <thead>\n",
       "    <tr style=\"text-align: right;\">\n",
       "      <th></th>\n",
       "      <th>customerID</th>\n",
       "      <th>BeginDate</th>\n",
       "      <th>EndDate</th>\n",
       "      <th>Type</th>\n",
       "      <th>PaperlessBilling</th>\n",
       "      <th>PaymentMethod</th>\n",
       "      <th>MonthlyCharges</th>\n",
       "      <th>TotalCharges</th>\n",
       "    </tr>\n",
       "  </thead>\n",
       "  <tbody>\n",
       "    <tr>\n",
       "      <th>0</th>\n",
       "      <td>7590-VHVEG</td>\n",
       "      <td>2020-01-01</td>\n",
       "      <td>No</td>\n",
       "      <td>Month-to-month</td>\n",
       "      <td>Yes</td>\n",
       "      <td>Electronic check</td>\n",
       "      <td>29.85</td>\n",
       "      <td>31.04</td>\n",
       "    </tr>\n",
       "    <tr>\n",
       "      <th>1</th>\n",
       "      <td>5575-GNVDE</td>\n",
       "      <td>2017-04-01</td>\n",
       "      <td>No</td>\n",
       "      <td>One year</td>\n",
       "      <td>No</td>\n",
       "      <td>Mailed check</td>\n",
       "      <td>56.95</td>\n",
       "      <td>2071.84</td>\n",
       "    </tr>\n",
       "    <tr>\n",
       "      <th>2</th>\n",
       "      <td>3668-QPYBK</td>\n",
       "      <td>2019-10-01</td>\n",
       "      <td>No</td>\n",
       "      <td>Month-to-month</td>\n",
       "      <td>Yes</td>\n",
       "      <td>Mailed check</td>\n",
       "      <td>53.85</td>\n",
       "      <td>226.17</td>\n",
       "    </tr>\n",
       "    <tr>\n",
       "      <th>3</th>\n",
       "      <td>7795-CFOCW</td>\n",
       "      <td>2016-05-01</td>\n",
       "      <td>No</td>\n",
       "      <td>One year</td>\n",
       "      <td>No</td>\n",
       "      <td>Bank transfer (automatic)</td>\n",
       "      <td>42.30</td>\n",
       "      <td>1960.6</td>\n",
       "    </tr>\n",
       "    <tr>\n",
       "      <th>4</th>\n",
       "      <td>9237-HQITU</td>\n",
       "      <td>2019-09-01</td>\n",
       "      <td>No</td>\n",
       "      <td>Month-to-month</td>\n",
       "      <td>Yes</td>\n",
       "      <td>Electronic check</td>\n",
       "      <td>70.70</td>\n",
       "      <td>353.5</td>\n",
       "    </tr>\n",
       "  </tbody>\n",
       "</table>\n",
       "</div>"
      ],
      "text/plain": [
       "   customerID   BeginDate EndDate            Type PaperlessBilling  \\\n",
       "0  7590-VHVEG  2020-01-01      No  Month-to-month              Yes   \n",
       "1  5575-GNVDE  2017-04-01      No        One year               No   \n",
       "2  3668-QPYBK  2019-10-01      No  Month-to-month              Yes   \n",
       "3  7795-CFOCW  2016-05-01      No        One year               No   \n",
       "4  9237-HQITU  2019-09-01      No  Month-to-month              Yes   \n",
       "\n",
       "               PaymentMethod  MonthlyCharges TotalCharges  \n",
       "0           Electronic check           29.85        31.04  \n",
       "1               Mailed check           56.95      2071.84  \n",
       "2               Mailed check           53.85       226.17  \n",
       "3  Bank transfer (automatic)           42.30       1960.6  \n",
       "4           Electronic check           70.70        353.5  "
      ]
     },
     "metadata": {},
     "output_type": "display_data"
    },
    {
     "data": {
      "text/html": [
       "<div>\n",
       "<style scoped>\n",
       "    .dataframe tbody tr th:only-of-type {\n",
       "        vertical-align: middle;\n",
       "    }\n",
       "\n",
       "    .dataframe tbody tr th {\n",
       "        vertical-align: top;\n",
       "    }\n",
       "\n",
       "    .dataframe thead th {\n",
       "        text-align: right;\n",
       "    }\n",
       "</style>\n",
       "<table border=\"1\" class=\"dataframe\">\n",
       "  <thead>\n",
       "    <tr style=\"text-align: right;\">\n",
       "      <th></th>\n",
       "      <th>MonthlyCharges</th>\n",
       "    </tr>\n",
       "  </thead>\n",
       "  <tbody>\n",
       "    <tr>\n",
       "      <th>count</th>\n",
       "      <td>7043.000000</td>\n",
       "    </tr>\n",
       "    <tr>\n",
       "      <th>mean</th>\n",
       "      <td>64.761692</td>\n",
       "    </tr>\n",
       "    <tr>\n",
       "      <th>std</th>\n",
       "      <td>30.090047</td>\n",
       "    </tr>\n",
       "    <tr>\n",
       "      <th>min</th>\n",
       "      <td>18.250000</td>\n",
       "    </tr>\n",
       "    <tr>\n",
       "      <th>25%</th>\n",
       "      <td>35.500000</td>\n",
       "    </tr>\n",
       "    <tr>\n",
       "      <th>50%</th>\n",
       "      <td>70.350000</td>\n",
       "    </tr>\n",
       "    <tr>\n",
       "      <th>75%</th>\n",
       "      <td>89.850000</td>\n",
       "    </tr>\n",
       "    <tr>\n",
       "      <th>max</th>\n",
       "      <td>118.750000</td>\n",
       "    </tr>\n",
       "  </tbody>\n",
       "</table>\n",
       "</div>"
      ],
      "text/plain": [
       "       MonthlyCharges\n",
       "count     7043.000000\n",
       "mean        64.761692\n",
       "std         30.090047\n",
       "min         18.250000\n",
       "25%         35.500000\n",
       "50%         70.350000\n",
       "75%         89.850000\n",
       "max        118.750000"
      ]
     },
     "metadata": {},
     "output_type": "display_data"
    },
    {
     "data": {
      "text/plain": [
       "array([[<Axes: title={'center': 'MonthlyCharges'}>]], dtype=object)"
      ]
     },
     "metadata": {},
     "output_type": "display_data"
    },
    {
     "data": {
      "image/png": "[encoded data removed]",
      "text/plain": [
       "<Figure size 640x480 with 1 Axes>"
      ]
     },
     "metadata": {},
     "output_type": "display_data"
    }
   ],
   "source": [
    "get_data_info(contract)"
   ]
  },
  {
   "cell_type": "markdown",
   "id": "4a46089e-4b10-401e-bf0d-a8686c342b43",
   "metadata": {},
   "source": [
    "- В таблице '**contract**' находятся 7043 строчки и 8 столбцов с информацией о контрактах клиентов с оператором связи. Пропусков в данных нет.\n",
    "- Также в ней располагается целевой признак (**EndDate**). В дальнейшем мы несколько изменим его форму для более удобной работы.\n",
    "- Среднее значение ежемесячных сборов составляет **65**.\n",
    "- Гистограмма была построена только по одному из двух числовых столбцов. Во время предобработки все недочёты подобного рода будут устранены."
   ]
  },
  {
   "cell_type": "markdown",
   "id": "6b73b43a-c1ef-4e0a-bad8-7850aa0b7796",
   "metadata": {},
   "source": [
    "### Таблица '**personal**'"
   ]
  },
  {
   "cell_type": "code",
   "execution_count": 10,
   "id": "08d507fd-29b2-4f2b-8064-189c07d03f90",
   "metadata": {
    "scrolled": true
   },
   "outputs": [
    {
     "name": "stdout",
     "output_type": "stream",
     "text": [
      "<class 'pandas.core.frame.DataFrame'>\n",
      "RangeIndex: 7043 entries, 0 to 7042\n",
      "Data columns (total 5 columns):\n",
      " #   Column         Non-Null Count  Dtype \n",
      "---  ------         --------------  ----- \n",
      " 0   customerID     7043 non-null   object\n",
      " 1   gender         7043 non-null   object\n",
      " 2   SeniorCitizen  7043 non-null   int64 \n",
      " 3   Partner        7043 non-null   object\n",
      " 4   Dependents     7043 non-null   object\n",
      "dtypes: int64(1), object(4)\n",
      "memory usage: 275.2+ KB\n"
     ]
    },
    {
     "data": {
      "text/plain": [
       "None"
      ]
     },
     "metadata": {},
     "output_type": "display_data"
    },
    {
     "data": {
      "text/html": [
       "<div>\n",
       "<style scoped>\n",
       "    .dataframe tbody tr th:only-of-type {\n",
       "        vertical-align: middle;\n",
       "    }\n",
       "\n",
       "    .dataframe tbody tr th {\n",
       "        vertical-align: top;\n",
       "    }\n",
       "\n",
       "    .dataframe thead th {\n",
       "        text-align: right;\n",
       "    }\n",
       "</style>\n",
       "<table border=\"1\" class=\"dataframe\">\n",
       "  <thead>\n",
       "    <tr style=\"text-align: right;\">\n",
       "      <th></th>\n",
       "      <th>customerID</th>\n",
       "      <th>gender</th>\n",
       "      <th>SeniorCitizen</th>\n",
       "      <th>Partner</th>\n",
       "      <th>Dependents</th>\n",
       "    </tr>\n",
       "  </thead>\n",
       "  <tbody>\n",
       "    <tr>\n",
       "      <th>0</th>\n",
       "      <td>7590-VHVEG</td>\n",
       "      <td>Female</td>\n",
       "      <td>0</td>\n",
       "      <td>Yes</td>\n",
       "      <td>No</td>\n",
       "    </tr>\n",
       "    <tr>\n",
       "      <th>1</th>\n",
       "      <td>5575-GNVDE</td>\n",
       "      <td>Male</td>\n",
       "      <td>0</td>\n",
       "      <td>No</td>\n",
       "      <td>No</td>\n",
       "    </tr>\n",
       "    <tr>\n",
       "      <th>2</th>\n",
       "      <td>3668-QPYBK</td>\n",
       "      <td>Male</td>\n",
       "      <td>0</td>\n",
       "      <td>No</td>\n",
       "      <td>No</td>\n",
       "    </tr>\n",
       "    <tr>\n",
       "      <th>3</th>\n",
       "      <td>7795-CFOCW</td>\n",
       "      <td>Male</td>\n",
       "      <td>0</td>\n",
       "      <td>No</td>\n",
       "      <td>No</td>\n",
       "    </tr>\n",
       "    <tr>\n",
       "      <th>4</th>\n",
       "      <td>9237-HQITU</td>\n",
       "      <td>Female</td>\n",
       "      <td>0</td>\n",
       "      <td>No</td>\n",
       "      <td>No</td>\n",
       "    </tr>\n",
       "  </tbody>\n",
       "</table>\n",
       "</div>"
      ],
      "text/plain": [
       "   customerID  gender  SeniorCitizen Partner Dependents\n",
       "0  7590-VHVEG  Female              0     Yes         No\n",
       "1  5575-GNVDE    Male              0      No         No\n",
       "2  3668-QPYBK    Male              0      No         No\n",
       "3  7795-CFOCW    Male              0      No         No\n",
       "4  9237-HQITU  Female              0      No         No"
      ]
     },
     "metadata": {},
     "output_type": "display_data"
    },
    {
     "data": {
      "text/html": [
       "<div>\n",
       "<style scoped>\n",
       "    .dataframe tbody tr th:only-of-type {\n",
       "        vertical-align: middle;\n",
       "    }\n",
       "\n",
       "    .dataframe tbody tr th {\n",
       "        vertical-align: top;\n",
       "    }\n",
       "\n",
       "    .dataframe thead th {\n",
       "        text-align: right;\n",
       "    }\n",
       "</style>\n",
       "<table border=\"1\" class=\"dataframe\">\n",
       "  <thead>\n",
       "    <tr style=\"text-align: right;\">\n",
       "      <th></th>\n",
       "      <th>SeniorCitizen</th>\n",
       "    </tr>\n",
       "  </thead>\n",
       "  <tbody>\n",
       "    <tr>\n",
       "      <th>count</th>\n",
       "      <td>7043.000000</td>\n",
       "    </tr>\n",
       "    <tr>\n",
       "      <th>mean</th>\n",
       "      <td>0.162147</td>\n",
       "    </tr>\n",
       "    <tr>\n",
       "      <th>std</th>\n",
       "      <td>0.368612</td>\n",
       "    </tr>\n",
       "    <tr>\n",
       "      <th>min</th>\n",
       "      <td>0.000000</td>\n",
       "    </tr>\n",
       "    <tr>\n",
       "      <th>25%</th>\n",
       "      <td>0.000000</td>\n",
       "    </tr>\n",
       "    <tr>\n",
       "      <th>50%</th>\n",
       "      <td>0.000000</td>\n",
       "    </tr>\n",
       "    <tr>\n",
       "      <th>75%</th>\n",
       "      <td>0.000000</td>\n",
       "    </tr>\n",
       "    <tr>\n",
       "      <th>max</th>\n",
       "      <td>1.000000</td>\n",
       "    </tr>\n",
       "  </tbody>\n",
       "</table>\n",
       "</div>"
      ],
      "text/plain": [
       "       SeniorCitizen\n",
       "count    7043.000000\n",
       "mean        0.162147\n",
       "std         0.368612\n",
       "min         0.000000\n",
       "25%         0.000000\n",
       "50%         0.000000\n",
       "75%         0.000000\n",
       "max         1.000000"
      ]
     },
     "metadata": {},
     "output_type": "display_data"
    },
    {
     "data": {
      "text/plain": [
       "array([[<Axes: title={'center': 'SeniorCitizen'}>]], dtype=object)"
      ]
     },
     "metadata": {},
     "output_type": "display_data"
    },
    {
     "data": {
      "image/png": "[encoded data removed]",
      "text/plain": [
       "<Figure size 640x480 with 1 Axes>"
      ]
     },
     "metadata": {},
     "output_type": "display_data"
    }
   ],
   "source": [
    "get_data_info(personal)"
   ]
  },
  {
   "cell_type": "markdown",
   "id": "0488e5db-04c1-4fd9-99b9-3d9807d62cd3",
   "metadata": {},
   "source": [
    "- В таблице '**personal**' находятся 7043 строчки и 5 столбцов с личной информацией о клиентах. Пропусков в данных нет.\n",
    "- Мы знаем факты о **поле**, **возрасте** (пенсионный или нет), **наличии партнера**, **наличии детей** (иждивенцев).\n",
    "- Гистограмма показывает, что **~1100** человек - это пенсионеры."
   ]
  },
  {
   "cell_type": "markdown",
   "id": "5aba91de-4b7c-41ce-9045-cd188cc82992",
   "metadata": {},
   "source": [
    "### Таблица '**internet**'"
   ]
  },
  {
   "cell_type": "code",
   "execution_count": 11,
   "id": "24e86824-aeb8-4e3b-8ae6-e72aa3c88ef9",
   "metadata": {
    "scrolled": true
   },
   "outputs": [
    {
     "name": "stdout",
     "output_type": "stream",
     "text": [
      "<class 'pandas.core.frame.DataFrame'>\n",
      "RangeIndex: 5517 entries, 0 to 5516\n",
      "Data columns (total 8 columns):\n",
      " #   Column            Non-Null Count  Dtype \n",
      "---  ------            --------------  ----- \n",
      " 0   customerID        5517 non-null   object\n",
      " 1   InternetService   5517 non-null   object\n",
      " 2   OnlineSecurity    5517 non-null   object\n",
      " 3   OnlineBackup      5517 non-null   object\n",
      " 4   DeviceProtection  5517 non-null   object\n",
      " 5   TechSupport       5517 non-null   object\n",
      " 6   StreamingTV       5517 non-null   object\n",
      " 7   StreamingMovies   5517 non-null   object\n",
      "dtypes: object(8)\n",
      "memory usage: 344.9+ KB\n"
     ]
    },
    {
     "data": {
      "text/plain": [
       "None"
      ]
     },
     "metadata": {},
     "output_type": "display_data"
    },
    {
     "data": {
      "text/html": [
       "<div>\n",
       "<style scoped>\n",
       "    .dataframe tbody tr th:only-of-type {\n",
       "        vertical-align: middle;\n",
       "    }\n",
       "\n",
       "    .dataframe tbody tr th {\n",
       "        vertical-align: top;\n",
       "    }\n",
       "\n",
       "    .dataframe thead th {\n",
       "        text-align: right;\n",
       "    }\n",
       "</style>\n",
       "<table border=\"1\" class=\"dataframe\">\n",
       "  <thead>\n",
       "    <tr style=\"text-align: right;\">\n",
       "      <th></th>\n",
       "      <th>customerID</th>\n",
       "      <th>InternetService</th>\n",
       "      <th>OnlineSecurity</th>\n",
       "      <th>OnlineBackup</th>\n",
       "      <th>DeviceProtection</th>\n",
       "      <th>TechSupport</th>\n",
       "      <th>StreamingTV</th>\n",
       "      <th>StreamingMovies</th>\n",
       "    </tr>\n",
       "  </thead>\n",
       "  <tbody>\n",
       "    <tr>\n",
       "      <th>0</th>\n",
       "      <td>7590-VHVEG</td>\n",
       "      <td>DSL</td>\n",
       "      <td>No</td>\n",
       "      <td>Yes</td>\n",
       "      <td>No</td>\n",
       "      <td>No</td>\n",
       "      <td>No</td>\n",
       "      <td>No</td>\n",
       "    </tr>\n",
       "    <tr>\n",
       "      <th>1</th>\n",
       "      <td>5575-GNVDE</td>\n",
       "      <td>DSL</td>\n",
       "      <td>Yes</td>\n",
       "      <td>No</td>\n",
       "      <td>Yes</td>\n",
       "      <td>No</td>\n",
       "      <td>No</td>\n",
       "      <td>No</td>\n",
       "    </tr>\n",
       "    <tr>\n",
       "      <th>2</th>\n",
       "      <td>3668-QPYBK</td>\n",
       "      <td>DSL</td>\n",
       "      <td>Yes</td>\n",
       "      <td>Yes</td>\n",
       "      <td>No</td>\n",
       "      <td>No</td>\n",
       "      <td>No</td>\n",
       "      <td>No</td>\n",
       "    </tr>\n",
       "    <tr>\n",
       "      <th>3</th>\n",
       "      <td>7795-CFOCW</td>\n",
       "      <td>DSL</td>\n",
       "      <td>Yes</td>\n",
       "      <td>No</td>\n",
       "      <td>Yes</td>\n",
       "      <td>Yes</td>\n",
       "      <td>No</td>\n",
       "      <td>No</td>\n",
       "    </tr>\n",
       "    <tr>\n",
       "      <th>4</th>\n",
       "      <td>9237-HQITU</td>\n",
       "      <td>Fiber optic</td>\n",
       "      <td>No</td>\n",
       "      <td>No</td>\n",
       "      <td>No</td>\n",
       "      <td>No</td>\n",
       "      <td>No</td>\n",
       "      <td>No</td>\n",
       "    </tr>\n",
       "  </tbody>\n",
       "</table>\n",
       "</div>"
      ],
      "text/plain": [
       "   customerID InternetService OnlineSecurity OnlineBackup DeviceProtection  \\\n",
       "0  7590-VHVEG             DSL             No          Yes               No   \n",
       "1  5575-GNVDE             DSL            Yes           No              Yes   \n",
       "2  3668-QPYBK             DSL            Yes          Yes               No   \n",
       "3  7795-CFOCW             DSL            Yes           No              Yes   \n",
       "4  9237-HQITU     Fiber optic             No           No               No   \n",
       "\n",
       "  TechSupport StreamingTV StreamingMovies  \n",
       "0          No          No              No  \n",
       "1          No          No              No  \n",
       "2          No          No              No  \n",
       "3         Yes          No              No  \n",
       "4          No          No              No  "
      ]
     },
     "metadata": {},
     "output_type": "display_data"
    },
    {
     "data": {
      "text/html": [
       "<div>\n",
       "<style scoped>\n",
       "    .dataframe tbody tr th:only-of-type {\n",
       "        vertical-align: middle;\n",
       "    }\n",
       "\n",
       "    .dataframe tbody tr th {\n",
       "        vertical-align: top;\n",
       "    }\n",
       "\n",
       "    .dataframe thead th {\n",
       "        text-align: right;\n",
       "    }\n",
       "</style>\n",
       "<table border=\"1\" class=\"dataframe\">\n",
       "  <thead>\n",
       "    <tr style=\"text-align: right;\">\n",
       "      <th></th>\n",
       "      <th>customerID</th>\n",
       "      <th>InternetService</th>\n",
       "      <th>OnlineSecurity</th>\n",
       "      <th>OnlineBackup</th>\n",
       "      <th>DeviceProtection</th>\n",
       "      <th>TechSupport</th>\n",
       "      <th>StreamingTV</th>\n",
       "      <th>StreamingMovies</th>\n",
       "    </tr>\n",
       "  </thead>\n",
       "  <tbody>\n",
       "    <tr>\n",
       "      <th>count</th>\n",
       "      <td>5517</td>\n",
       "      <td>5517</td>\n",
       "      <td>5517</td>\n",
       "      <td>5517</td>\n",
       "      <td>5517</td>\n",
       "      <td>5517</td>\n",
       "      <td>5517</td>\n",
       "      <td>5517</td>\n",
       "    </tr>\n",
       "    <tr>\n",
       "      <th>unique</th>\n",
       "      <td>5517</td>\n",
       "      <td>2</td>\n",
       "      <td>2</td>\n",
       "      <td>2</td>\n",
       "      <td>2</td>\n",
       "      <td>2</td>\n",
       "      <td>2</td>\n",
       "      <td>2</td>\n",
       "    </tr>\n",
       "    <tr>\n",
       "      <th>top</th>\n",
       "      <td>7590-VHVEG</td>\n",
       "      <td>Fiber optic</td>\n",
       "      <td>No</td>\n",
       "      <td>No</td>\n",
       "      <td>No</td>\n",
       "      <td>No</td>\n",
       "      <td>No</td>\n",
       "      <td>No</td>\n",
       "    </tr>\n",
       "    <tr>\n",
       "      <th>freq</th>\n",
       "      <td>1</td>\n",
       "      <td>3096</td>\n",
       "      <td>3498</td>\n",
       "      <td>3088</td>\n",
       "      <td>3095</td>\n",
       "      <td>3473</td>\n",
       "      <td>2810</td>\n",
       "      <td>2785</td>\n",
       "    </tr>\n",
       "  </tbody>\n",
       "</table>\n",
       "</div>"
      ],
      "text/plain": [
       "        customerID InternetService OnlineSecurity OnlineBackup  \\\n",
       "count         5517            5517           5517         5517   \n",
       "unique        5517               2              2            2   \n",
       "top     7590-VHVEG     Fiber optic             No           No   \n",
       "freq             1            3096           3498         3088   \n",
       "\n",
       "       DeviceProtection TechSupport StreamingTV StreamingMovies  \n",
       "count              5517        5517        5517            5517  \n",
       "unique                2           2           2               2  \n",
       "top                  No          No          No              No  \n",
       "freq               3095        3473        2810            2785  "
      ]
     },
     "metadata": {},
     "output_type": "display_data"
    },
    {
     "name": "stdout",
     "output_type": "stream",
     "text": [
      "Nothing to plot!\n"
     ]
    }
   ],
   "source": [
    "get_data_info(internet)"
   ]
  },
  {
   "cell_type": "markdown",
   "id": "e3ca0a76-7e56-45bd-81da-18b882f5490c",
   "metadata": {},
   "source": [
    "- В таблице '**internet**' находятся 5517 строчки и 8 столбцов с информацией об интернет услугах клиентов. Пропусков в данных нет.\n",
    "- В каждом столбце, кроме **ID клиента** по 2 уникальных значения.\n",
    "- Числовых столбцов нет, поэтому нет и гистограммы.\n",
    "- При дальнейшем объединении датасетов в столбцах датасета **internet** будет много пропусков. Их нужно будет заменить **иными значениями**, или **нулями, если услуга не предоставляется**."
   ]
  },
  {
   "cell_type": "markdown",
   "id": "30ba56dc-b883-4940-899e-0e56678f3b97",
   "metadata": {},
   "source": [
    "### Таблица '**phone**'"
   ]
  },
  {
   "cell_type": "code",
   "execution_count": 12,
   "id": "1abd5a0f-12da-4cc7-8305-403d6385fda6",
   "metadata": {
    "scrolled": true
   },
   "outputs": [
    {
     "name": "stdout",
     "output_type": "stream",
     "text": [
      "<class 'pandas.core.frame.DataFrame'>\n",
      "RangeIndex: 6361 entries, 0 to 6360\n",
      "Data columns (total 2 columns):\n",
      " #   Column         Non-Null Count  Dtype \n",
      "---  ------         --------------  ----- \n",
      " 0   customerID     6361 non-null   object\n",
      " 1   MultipleLines  6361 non-null   object\n",
      "dtypes: object(2)\n",
      "memory usage: 99.5+ KB\n"
     ]
    },
    {
     "data": {
      "text/plain": [
       "None"
      ]
     },
     "metadata": {},
     "output_type": "display_data"
    },
    {
     "data": {
      "text/html": [
       "<div>\n",
       "<style scoped>\n",
       "    .dataframe tbody tr th:only-of-type {\n",
       "        vertical-align: middle;\n",
       "    }\n",
       "\n",
       "    .dataframe tbody tr th {\n",
       "        vertical-align: top;\n",
       "    }\n",
       "\n",
       "    .dataframe thead th {\n",
       "        text-align: right;\n",
       "    }\n",
       "</style>\n",
       "<table border=\"1\" class=\"dataframe\">\n",
       "  <thead>\n",
       "    <tr style=\"text-align: right;\">\n",
       "      <th></th>\n",
       "      <th>customerID</th>\n",
       "      <th>MultipleLines</th>\n",
       "    </tr>\n",
       "  </thead>\n",
       "  <tbody>\n",
       "    <tr>\n",
       "      <th>0</th>\n",
       "      <td>5575-GNVDE</td>\n",
       "      <td>No</td>\n",
       "    </tr>\n",
       "    <tr>\n",
       "      <th>1</th>\n",
       "      <td>3668-QPYBK</td>\n",
       "      <td>No</td>\n",
       "    </tr>\n",
       "    <tr>\n",
       "      <th>2</th>\n",
       "      <td>9237-HQITU</td>\n",
       "      <td>No</td>\n",
       "    </tr>\n",
       "    <tr>\n",
       "      <th>3</th>\n",
       "      <td>9305-CDSKC</td>\n",
       "      <td>Yes</td>\n",
       "    </tr>\n",
       "    <tr>\n",
       "      <th>4</th>\n",
       "      <td>1452-KIOVK</td>\n",
       "      <td>Yes</td>\n",
       "    </tr>\n",
       "  </tbody>\n",
       "</table>\n",
       "</div>"
      ],
      "text/plain": [
       "   customerID MultipleLines\n",
       "0  5575-GNVDE            No\n",
       "1  3668-QPYBK            No\n",
       "2  9237-HQITU            No\n",
       "3  9305-CDSKC           Yes\n",
       "4  1452-KIOVK           Yes"
      ]
     },
     "metadata": {},
     "output_type": "display_data"
    },
    {
     "data": {
      "text/html": [
       "<div>\n",
       "<style scoped>\n",
       "    .dataframe tbody tr th:only-of-type {\n",
       "        vertical-align: middle;\n",
       "    }\n",
       "\n",
       "    .dataframe tbody tr th {\n",
       "        vertical-align: top;\n",
       "    }\n",
       "\n",
       "    .dataframe thead th {\n",
       "        text-align: right;\n",
       "    }\n",
       "</style>\n",
       "<table border=\"1\" class=\"dataframe\">\n",
       "  <thead>\n",
       "    <tr style=\"text-align: right;\">\n",
       "      <th></th>\n",
       "      <th>customerID</th>\n",
       "      <th>MultipleLines</th>\n",
       "    </tr>\n",
       "  </thead>\n",
       "  <tbody>\n",
       "    <tr>\n",
       "      <th>count</th>\n",
       "      <td>6361</td>\n",
       "      <td>6361</td>\n",
       "    </tr>\n",
       "    <tr>\n",
       "      <th>unique</th>\n",
       "      <td>6361</td>\n",
       "      <td>2</td>\n",
       "    </tr>\n",
       "    <tr>\n",
       "      <th>top</th>\n",
       "      <td>5575-GNVDE</td>\n",
       "      <td>No</td>\n",
       "    </tr>\n",
       "    <tr>\n",
       "      <th>freq</th>\n",
       "      <td>1</td>\n",
       "      <td>3390</td>\n",
       "    </tr>\n",
       "  </tbody>\n",
       "</table>\n",
       "</div>"
      ],
      "text/plain": [
       "        customerID MultipleLines\n",
       "count         6361          6361\n",
       "unique        6361             2\n",
       "top     5575-GNVDE            No\n",
       "freq             1          3390"
      ]
     },
     "metadata": {},
     "output_type": "display_data"
    },
    {
     "name": "stdout",
     "output_type": "stream",
     "text": [
      "Nothing to plot!\n"
     ]
    }
   ],
   "source": [
    "get_data_info(phone)"
   ]
  },
  {
   "cell_type": "markdown",
   "id": "380781c0-f6cd-4f02-aed8-6e30c064a3cc",
   "metadata": {},
   "source": [
    "- В таблице '**phone**' находятся 6361 строчка и 2 столбца с информацией о телефонных услугах клиентов. Пропусков в данных нет, а вот их **тип нужно будет поменять**.\n",
    "- Также, как и в предыдущих данных, далее в стобце **MultipleLines** будет много пропусков. Их нужно будет заполнить **значением 'No'**, так как, скорее всего, если ID клиента здесь не указано, то этой услугой он не пользуется.."
   ]
  },
  {
   "cell_type": "markdown",
   "id": "3b7e4c11",
   "metadata": {},
   "source": [
    "## Предобработка данных"
   ]
  },
  {
   "cell_type": "markdown",
   "id": "3f74161d",
   "metadata": {},
   "source": [
    "Прежде чем начинать работу с данными нам следует объединить их в одну таблицу **df_all**. Сделаем это, используя метод **merge**."
   ]
  },
  {
   "cell_type": "code",
   "execution_count": 13,
   "id": "ef36368f",
   "metadata": {},
   "outputs": [
    {
     "name": "stdout",
     "output_type": "stream",
     "text": [
      "<class 'pandas.core.frame.DataFrame'>\n",
      "RangeIndex: 7043 entries, 0 to 7042\n",
      "Data columns (total 20 columns):\n",
      " #   Column            Non-Null Count  Dtype  \n",
      "---  ------            --------------  -----  \n",
      " 0   customerID        7043 non-null   object \n",
      " 1   BeginDate         7043 non-null   object \n",
      " 2   EndDate           7043 non-null   object \n",
      " 3   Type              7043 non-null   object \n",
      " 4   PaperlessBilling  7043 non-null   object \n",
      " 5   PaymentMethod     7043 non-null   object \n",
      " 6   MonthlyCharges    7043 non-null   float64\n",
      " 7   TotalCharges      7043 non-null   object \n",
      " 8   gender            7043 non-null   object \n",
      " 9   SeniorCitizen     7043 non-null   int64  \n",
      " 10  Partner           7043 non-null   object \n",
      " 11  Dependents        7043 non-null   object \n",
      " 12  InternetService   5517 non-null   object \n",
      " 13  OnlineSecurity    5517 non-null   object \n",
      " 14  OnlineBackup      5517 non-null   object \n",
      " 15  DeviceProtection  5517 non-null   object \n",
      " 16  TechSupport       5517 non-null   object \n",
      " 17  StreamingTV       5517 non-null   object \n",
      " 18  StreamingMovies   5517 non-null   object \n",
      " 19  MultipleLines     6361 non-null   object \n",
      "dtypes: float64(1), int64(1), object(18)\n",
      "memory usage: 1.1+ MB\n"
     ]
    }
   ],
   "source": [
    "data_frames = [contract, personal, internet, phone]\n",
    "df_all = reduce(lambda  left, right: pd.merge(left, right, on=['customerID'], \n",
    "                                                 how='left'), data_frames)\n",
    "df_all.info()"
   ]
  },
  {
   "cell_type": "markdown",
   "id": "49fcca3a",
   "metadata": {},
   "source": [
    "В полном датафрейме целых **20 столбцов**! \\\n",
    "Теперь пора изменить типы, разобраться с пропусками и аномалиями, а затем создать новые признаки."
   ]
  },
  {
   "cell_type": "markdown",
   "id": "7147f089",
   "metadata": {},
   "source": [
    "### Приведение данных к нужным типам"
   ]
  },
  {
   "cell_type": "code",
   "execution_count": 14,
   "id": "6317209d",
   "metadata": {},
   "outputs": [
    {
     "data": {
      "text/plain": [
       "customerID           object\n",
       "BeginDate            object\n",
       "EndDate              object\n",
       "Type                 object\n",
       "PaperlessBilling     object\n",
       "PaymentMethod        object\n",
       "MonthlyCharges      float64\n",
       "TotalCharges         object\n",
       "gender               object\n",
       "SeniorCitizen         int64\n",
       "Partner              object\n",
       "Dependents           object\n",
       "InternetService      object\n",
       "OnlineSecurity       object\n",
       "OnlineBackup         object\n",
       "DeviceProtection     object\n",
       "TechSupport          object\n",
       "StreamingTV          object\n",
       "StreamingMovies      object\n",
       "MultipleLines        object\n",
       "dtype: object"
      ]
     },
     "execution_count": 14,
     "metadata": {},
     "output_type": "execute_result"
    }
   ],
   "source": [
    "df_all.dtypes"
   ]
  },
  {
   "cell_type": "code",
   "execution_count": 15,
   "id": "b7de0ada",
   "metadata": {},
   "outputs": [
    {
     "data": {
      "text/html": [
       "<div>\n",
       "<style scoped>\n",
       "    .dataframe tbody tr th:only-of-type {\n",
       "        vertical-align: middle;\n",
       "    }\n",
       "\n",
       "    .dataframe tbody tr th {\n",
       "        vertical-align: top;\n",
       "    }\n",
       "\n",
       "    .dataframe thead th {\n",
       "        text-align: right;\n",
       "    }\n",
       "</style>\n",
       "<table border=\"1\" class=\"dataframe\">\n",
       "  <thead>\n",
       "    <tr style=\"text-align: right;\">\n",
       "      <th></th>\n",
       "      <th>customerID</th>\n",
       "      <th>BeginDate</th>\n",
       "      <th>EndDate</th>\n",
       "      <th>Type</th>\n",
       "      <th>PaperlessBilling</th>\n",
       "      <th>PaymentMethod</th>\n",
       "      <th>MonthlyCharges</th>\n",
       "      <th>TotalCharges</th>\n",
       "      <th>gender</th>\n",
       "      <th>SeniorCitizen</th>\n",
       "      <th>Partner</th>\n",
       "      <th>Dependents</th>\n",
       "      <th>InternetService</th>\n",
       "      <th>OnlineSecurity</th>\n",
       "      <th>OnlineBackup</th>\n",
       "      <th>DeviceProtection</th>\n",
       "      <th>TechSupport</th>\n",
       "      <th>StreamingTV</th>\n",
       "      <th>StreamingMovies</th>\n",
       "      <th>MultipleLines</th>\n",
       "    </tr>\n",
       "  </thead>\n",
       "  <tbody>\n",
       "    <tr>\n",
       "      <th>0</th>\n",
       "      <td>7590-VHVEG</td>\n",
       "      <td>2020-01-01</td>\n",
       "      <td>No</td>\n",
       "      <td>Month-to-month</td>\n",
       "      <td>Yes</td>\n",
       "      <td>Electronic check</td>\n",
       "      <td>29.85</td>\n",
       "      <td>31.04</td>\n",
       "      <td>Female</td>\n",
       "      <td>0</td>\n",
       "      <td>Yes</td>\n",
       "      <td>No</td>\n",
       "      <td>DSL</td>\n",
       "      <td>No</td>\n",
       "      <td>Yes</td>\n",
       "      <td>No</td>\n",
       "      <td>No</td>\n",
       "      <td>No</td>\n",
       "      <td>No</td>\n",
       "      <td>NaN</td>\n",
       "    </tr>\n",
       "    <tr>\n",
       "      <th>1</th>\n",
       "      <td>5575-GNVDE</td>\n",
       "      <td>2017-04-01</td>\n",
       "      <td>No</td>\n",
       "      <td>One year</td>\n",
       "      <td>No</td>\n",
       "      <td>Mailed check</td>\n",
       "      <td>56.95</td>\n",
       "      <td>2071.84</td>\n",
       "      <td>Male</td>\n",
       "      <td>0</td>\n",
       "      <td>No</td>\n",
       "      <td>No</td>\n",
       "      <td>DSL</td>\n",
       "      <td>Yes</td>\n",
       "      <td>No</td>\n",
       "      <td>Yes</td>\n",
       "      <td>No</td>\n",
       "      <td>No</td>\n",
       "      <td>No</td>\n",
       "      <td>No</td>\n",
       "    </tr>\n",
       "    <tr>\n",
       "      <th>2</th>\n",
       "      <td>3668-QPYBK</td>\n",
       "      <td>2019-10-01</td>\n",
       "      <td>No</td>\n",
       "      <td>Month-to-month</td>\n",
       "      <td>Yes</td>\n",
       "      <td>Mailed check</td>\n",
       "      <td>53.85</td>\n",
       "      <td>226.17</td>\n",
       "      <td>Male</td>\n",
       "      <td>0</td>\n",
       "      <td>No</td>\n",
       "      <td>No</td>\n",
       "      <td>DSL</td>\n",
       "      <td>Yes</td>\n",
       "      <td>Yes</td>\n",
       "      <td>No</td>\n",
       "      <td>No</td>\n",
       "      <td>No</td>\n",
       "      <td>No</td>\n",
       "      <td>No</td>\n",
       "    </tr>\n",
       "  </tbody>\n",
       "</table>\n",
       "</div>"
      ],
      "text/plain": [
       "   customerID   BeginDate EndDate            Type PaperlessBilling  \\\n",
       "0  7590-VHVEG  2020-01-01      No  Month-to-month              Yes   \n",
       "1  5575-GNVDE  2017-04-01      No        One year               No   \n",
       "2  3668-QPYBK  2019-10-01      No  Month-to-month              Yes   \n",
       "\n",
       "      PaymentMethod  MonthlyCharges TotalCharges  gender  SeniorCitizen  \\\n",
       "0  Electronic check           29.85        31.04  Female              0   \n",
       "1      Mailed check           56.95      2071.84    Male              0   \n",
       "2      Mailed check           53.85       226.17    Male              0   \n",
       "\n",
       "  Partner Dependents InternetService OnlineSecurity OnlineBackup  \\\n",
       "0     Yes         No             DSL             No          Yes   \n",
       "1      No         No             DSL            Yes           No   \n",
       "2      No         No             DSL            Yes          Yes   \n",
       "\n",
       "  DeviceProtection TechSupport StreamingTV StreamingMovies MultipleLines  \n",
       "0               No          No          No              No           NaN  \n",
       "1              Yes          No          No              No            No  \n",
       "2               No          No          No              No            No  "
      ]
     },
     "execution_count": 15,
     "metadata": {},
     "output_type": "execute_result"
    }
   ],
   "source": [
    "df_all.head(3)"
   ]
  },
  {
   "cell_type": "markdown",
   "id": "07ddfabf",
   "metadata": {},
   "source": [
    "По общей информации о датасете и первым нескольким строчкам установим, в каких столбцах поменять типы данных:\n",
    "- BeginDate -> **datetime**\n",
    "- TotalCharges-> **float**\n",
    "\n",
    "Остальные столбцы оставим как есть. Многие из них содержат в себе всего по 2 уникальных значения: 'Yes' и 'No'. Мы могли бы заменить их на '0' и '1', но делать этого не будем."
   ]
  },
  {
   "cell_type": "code",
   "execution_count": 16,
   "id": "6fe51ac7",
   "metadata": {},
   "outputs": [
    {
     "data": {
      "text/plain": [
       "0   2020-01-01\n",
       "1   2017-04-01\n",
       "2   2019-10-01\n",
       "Name: BeginDate, dtype: datetime64[ns]"
      ]
     },
     "execution_count": 16,
     "metadata": {},
     "output_type": "execute_result"
    }
   ],
   "source": [
    "df_all['BeginDate'] = pd.to_datetime(df_all['BeginDate'])\n",
    "df_all['BeginDate'].head(3)"
   ]
  },
  {
   "cell_type": "markdown",
   "id": "894b5a40",
   "metadata": {},
   "source": [
    "Чтобы корректно обработать столбец **TotalCharges** нужно обработать строки, содержащие пробел. Всего их столько:"
   ]
  },
  {
   "cell_type": "code",
   "execution_count": 17,
   "id": "ec556967",
   "metadata": {},
   "outputs": [
    {
     "data": {
      "text/plain": [
       "11"
      ]
     },
     "execution_count": 17,
     "metadata": {},
     "output_type": "execute_result"
    }
   ],
   "source": [
    "df_all[df_all['TotalCharges'] == ' ']['TotalCharges'].count()"
   ]
  },
  {
   "cell_type": "code",
   "execution_count": 18,
   "id": "c6956982",
   "metadata": {},
   "outputs": [],
   "source": [
    "df_all['TotalCharges'] = np.where(df_all['TotalCharges'] == ' ', '0', df_all['TotalCharges'])"
   ]
  },
  {
   "cell_type": "markdown",
   "id": "fc334722",
   "metadata": {},
   "source": [
    "Теперь выполним замену:"
   ]
  },
  {
   "cell_type": "code",
   "execution_count": 19,
   "id": "005331ff",
   "metadata": {},
   "outputs": [],
   "source": [
    "df_all['TotalCharges'] = pd.to_numeric(df_all['TotalCharges'], downcast=\"float\")"
   ]
  },
  {
   "cell_type": "markdown",
   "id": "02cdd8fe",
   "metadata": {},
   "source": [
    "Проверим результат:"
   ]
  },
  {
   "cell_type": "code",
   "execution_count": 20,
   "id": "98001442",
   "metadata": {},
   "outputs": [
    {
     "data": {
      "text/plain": [
       "customerID                  object\n",
       "BeginDate           datetime64[ns]\n",
       "EndDate                     object\n",
       "Type                        object\n",
       "PaperlessBilling            object\n",
       "PaymentMethod               object\n",
       "MonthlyCharges             float64\n",
       "TotalCharges               float32\n",
       "gender                      object\n",
       "SeniorCitizen                int64\n",
       "Partner                     object\n",
       "Dependents                  object\n",
       "InternetService             object\n",
       "OnlineSecurity              object\n",
       "OnlineBackup                object\n",
       "DeviceProtection            object\n",
       "TechSupport                 object\n",
       "StreamingTV                 object\n",
       "StreamingMovies             object\n",
       "MultipleLines               object\n",
       "dtype: object"
      ]
     },
     "execution_count": 20,
     "metadata": {},
     "output_type": "execute_result"
    }
   ],
   "source": [
    "df_all.dtypes"
   ]
  },
  {
   "cell_type": "markdown",
   "id": "e2ed80a8",
   "metadata": {},
   "source": [
    "Перейдём к пропускам и дубликатам."
   ]
  },
  {
   "cell_type": "markdown",
   "id": "86e3bdda",
   "metadata": {},
   "source": [
    "### Удаление дубликатов и заполнение пропусков."
   ]
  },
  {
   "cell_type": "markdown",
   "id": "002ad398",
   "metadata": {},
   "source": [
    "##### Дубликаты"
   ]
  },
  {
   "cell_type": "code",
   "execution_count": 21,
   "id": "bda4b37d",
   "metadata": {},
   "outputs": [
    {
     "data": {
      "text/plain": [
       "0"
      ]
     },
     "execution_count": 21,
     "metadata": {},
     "output_type": "execute_result"
    }
   ],
   "source": [
    "df_all.duplicated().sum()"
   ]
  },
  {
   "cell_type": "markdown",
   "id": "8ed0afe5",
   "metadata": {},
   "source": [
    "Их в данных нет."
   ]
  },
  {
   "cell_type": "markdown",
   "id": "a216009f",
   "metadata": {},
   "source": [
    "##### Пропуски"
   ]
  },
  {
   "cell_type": "markdown",
   "id": "934b9fc8",
   "metadata": {},
   "source": [
    "Выведем количество пропущенных значений в каждом столбце:"
   ]
  },
  {
   "cell_type": "code",
   "execution_count": 22,
   "id": "f047bfab",
   "metadata": {},
   "outputs": [
    {
     "data": {
      "text/plain": [
       "customerID             0\n",
       "BeginDate              0\n",
       "EndDate                0\n",
       "Type                   0\n",
       "PaperlessBilling       0\n",
       "PaymentMethod          0\n",
       "MonthlyCharges         0\n",
       "TotalCharges           0\n",
       "gender                 0\n",
       "SeniorCitizen          0\n",
       "Partner                0\n",
       "Dependents             0\n",
       "InternetService     1526\n",
       "OnlineSecurity      1526\n",
       "OnlineBackup        1526\n",
       "DeviceProtection    1526\n",
       "TechSupport         1526\n",
       "StreamingTV         1526\n",
       "StreamingMovies     1526\n",
       "MultipleLines        682\n",
       "dtype: int64"
      ]
     },
     "execution_count": 22,
     "metadata": {},
     "output_type": "execute_result"
    }
   ],
   "source": [
    "df_all.isna().sum()"
   ]
  },
  {
   "cell_type": "markdown",
   "id": "b1c09ca5",
   "metadata": {},
   "source": [
    "Как и ожидалось, пропуски есть только в столбцах, которые были в файлах **internet** и **phone**. \\\n",
    "Попробуем понять, что с ними делать."
   ]
  },
  {
   "cell_type": "markdown",
   "id": "ce1048fa",
   "metadata": {},
   "source": [
    "В столбце **InternetService** указаны не просто 'Yes' или 'No', а конкретные категории: **DSL**, **Fiber optic**."
   ]
  },
  {
   "cell_type": "code",
   "execution_count": 23,
   "id": "454979e7",
   "metadata": {},
   "outputs": [
    {
     "data": {
      "image/png": "[encoded data removed]",
      "text/plain": [
       "<Figure size 640x480 with 1 Axes>"
      ]
     },
     "metadata": {},
     "output_type": "display_data"
    }
   ],
   "source": [
    "df_all['InternetService'].hist(legend=True);"
   ]
  },
  {
   "cell_type": "markdown",
   "id": "2ff4ac31",
   "metadata": {},
   "source": [
    "В случае с этим столбцом мы не можем использовать для заполнения одно из этих значений. Поэтому создадим отдельную группу **Other**."
   ]
  },
  {
   "cell_type": "code",
   "execution_count": 24,
   "id": "8a5078f2",
   "metadata": {},
   "outputs": [
    {
     "data": {
      "image/png": "[encoded data removed]",
      "text/plain": [
       "<Figure size 640x480 with 1 Axes>"
      ]
     },
     "metadata": {},
     "output_type": "display_data"
    }
   ],
   "source": [
    "df_all['InternetService'].fillna('Other', inplace=True)\n",
    "df_all['InternetService'].hist(legend=True);"
   ]
  },
  {
   "cell_type": "markdown",
   "id": "407f3087",
   "metadata": {},
   "source": [
    "Далее все столбцы содержат только значения **'да-нет'**. Можно предположить, что если клиент не был указан в таблицах **internet** или **phone**, то он этими услугами не пользуется. Поэтому пропуски заменим на **'No'**."
   ]
  },
  {
   "cell_type": "code",
   "execution_count": 23,
   "id": "ffaa960a",
   "metadata": {},
   "outputs": [
    {
     "data": {
      "image/png": "[encoded data removed]",
      "text/plain": [
       "<Figure size 432x288 with 1 Axes>"
      ]
     },
     "metadata": {
      "needs_background": "light"
     },
     "output_type": "display_data"
    }
   ],
   "source": [
    "df_all['OnlineSecurity'].hist(legend=True);"
   ]
  },
  {
   "cell_type": "code",
   "execution_count": 24,
   "id": "d297c06d",
   "metadata": {},
   "outputs": [
    {
     "data": {
      "image/png": "[encoded data removed]",
      "text/plain": [
       "<Figure size 432x288 with 1 Axes>"
      ]
     },
     "metadata": {
      "needs_background": "light"
     },
     "output_type": "display_data"
    }
   ],
   "source": [
    "df_all['OnlineBackup'].hist(legend=True);"
   ]
  },
  {
   "cell_type": "code",
   "execution_count": 25,
   "id": "6f9abd17",
   "metadata": {},
   "outputs": [
    {
     "data": {
      "image/png": "[encoded data removed]",
      "text/plain": [
       "<Figure size 432x288 with 1 Axes>"
      ]
     },
     "metadata": {
      "needs_background": "light"
     },
     "output_type": "display_data"
    }
   ],
   "source": [
    "df_all['DeviceProtection'].hist(legend=True);"
   ]
  },
  {
   "cell_type": "code",
   "execution_count": 26,
   "id": "67243a23",
   "metadata": {},
   "outputs": [
    {
     "data": {
      "image/png": "[encoded data removed]",
      "text/plain": [
       "<Figure size 432x288 with 1 Axes>"
      ]
     },
     "metadata": {
      "needs_background": "light"
     },
     "output_type": "display_data"
    }
   ],
   "source": [
    "df_all['TechSupport'].hist(legend=True);"
   ]
  },
  {
   "cell_type": "code",
   "execution_count": 27,
   "id": "e8a8f83a",
   "metadata": {},
   "outputs": [
    {
     "data": {
      "image/png": "[encoded data removed]",
      "text/plain": [
       "<Figure size 432x288 with 1 Axes>"
      ]
     },
     "metadata": {
      "needs_background": "light"
     },
     "output_type": "display_data"
    }
   ],
   "source": [
    "df_all['StreamingTV'].hist(legend=True);"
   ]
  },
  {
   "cell_type": "code",
   "execution_count": 28,
   "id": "1e7574b9",
   "metadata": {},
   "outputs": [
    {
     "data": {
      "image/png": "[encoded data removed]",
      "text/plain": [
       "<Figure size 432x288 with 1 Axes>"
      ]
     },
     "metadata": {
      "needs_background": "light"
     },
     "output_type": "display_data"
    }
   ],
   "source": [
    "df_all['StreamingMovies'].hist(legend=True);"
   ]
  },
  {
   "cell_type": "code",
   "execution_count": 29,
   "id": "0d93c13b",
   "metadata": {},
   "outputs": [
    {
     "data": {
      "image/png": "[encoded data removed]",
      "text/plain": [
       "<Figure size 432x288 with 1 Axes>"
      ]
     },
     "metadata": {
      "needs_background": "light"
     },
     "output_type": "display_data"
    }
   ],
   "source": [
    "df_all['MultipleLines'].hist(legend=True);"
   ]
  },
  {
   "cell_type": "markdown",
   "id": "37c04dfa",
   "metadata": {},
   "source": [
    "Приведенные выше гистограммы показывают, что большая часть людей не пользуется этими услугами. Значит можно быть уверенными, что мы никого не потеряем при замене."
   ]
  },
  {
   "cell_type": "code",
   "execution_count": 30,
   "id": "c79952b6",
   "metadata": {},
   "outputs": [
    {
     "data": {
      "text/plain": [
       "array(['OnlineSecurity', 'OnlineBackup', 'DeviceProtection',\n",
       "       'TechSupport', 'StreamingTV', 'StreamingMovies', 'MultipleLines'],\n",
       "      dtype=object)"
      ]
     },
     "execution_count": 30,
     "metadata": {},
     "output_type": "execute_result"
    }
   ],
   "source": [
    "services = np.array(df_all.columns)[13:]\n",
    "services"
   ]
  },
  {
   "cell_type": "code",
   "execution_count": 31,
   "id": "e8f9d077",
   "metadata": {},
   "outputs": [],
   "source": [
    "df_all.loc[:, services] = df_all.loc[:, services].fillna('No')"
   ]
  },
  {
   "cell_type": "markdown",
   "id": "3d97aa24",
   "metadata": {},
   "source": [
    "Проверим пропуски ещё раз:"
   ]
  },
  {
   "cell_type": "code",
   "execution_count": 32,
   "id": "22a0c79e",
   "metadata": {},
   "outputs": [
    {
     "data": {
      "text/plain": [
       "customerID          0\n",
       "BeginDate           0\n",
       "EndDate             0\n",
       "Type                0\n",
       "PaperlessBilling    0\n",
       "PaymentMethod       0\n",
       "MonthlyCharges      0\n",
       "TotalCharges        0\n",
       "gender              0\n",
       "SeniorCitizen       0\n",
       "Partner             0\n",
       "Dependents          0\n",
       "InternetService     0\n",
       "OnlineSecurity      0\n",
       "OnlineBackup        0\n",
       "DeviceProtection    0\n",
       "TechSupport         0\n",
       "StreamingTV         0\n",
       "StreamingMovies     0\n",
       "MultipleLines       0\n",
       "dtype: int64"
      ]
     },
     "execution_count": 32,
     "metadata": {},
     "output_type": "execute_result"
    }
   ],
   "source": [
    "df_all.isna().sum()"
   ]
  },
  {
   "cell_type": "markdown",
   "id": "831646fd",
   "metadata": {},
   "source": [
    "Их не осталось! \\\n",
    "Перейдём к аномалиям."
   ]
  },
  {
   "cell_type": "markdown",
   "id": "956b1c21",
   "metadata": {},
   "source": [
    "### Анализ аномальных значений"
   ]
  },
  {
   "cell_type": "markdown",
   "id": "64093af8",
   "metadata": {},
   "source": [
    "Создадим функцию, которая покажет уникальные элементы столбцов:"
   ]
  },
  {
   "cell_type": "code",
   "execution_count": 33,
   "id": "e96d43f5",
   "metadata": {
    "scrolled": true
   },
   "outputs": [
    {
     "name": "stdout",
     "output_type": "stream",
     "text": [
      "customerID\n",
      "['7590-VHVEG' '5575-GNVDE' '3668-QPYBK' ... '4801-JZAZL' '8361-LTMKD'\n",
      " '3186-AJIEK']\n",
      "\n",
      "BeginDate\n",
      "['2020-01-01T00:00:00.000000000' '2017-04-01T00:00:00.000000000'\n",
      " '2019-10-01T00:00:00.000000000' '2016-05-01T00:00:00.000000000'\n",
      " '2019-09-01T00:00:00.000000000' '2019-03-01T00:00:00.000000000'\n",
      " '2018-04-01T00:00:00.000000000' '2019-04-01T00:00:00.000000000'\n",
      " '2017-07-01T00:00:00.000000000' '2014-12-01T00:00:00.000000000'\n",
      " '2019-01-01T00:00:00.000000000' '2018-10-01T00:00:00.000000000'\n",
      " '2015-04-01T00:00:00.000000000' '2015-09-01T00:00:00.000000000'\n",
      " '2018-01-01T00:00:00.000000000' '2014-05-01T00:00:00.000000000'\n",
      " '2015-10-01T00:00:00.000000000' '2014-03-01T00:00:00.000000000'\n",
      " '2018-05-01T00:00:00.000000000' '2019-11-01T00:00:00.000000000'\n",
      " '2019-02-01T00:00:00.000000000' '2016-01-01T00:00:00.000000000'\n",
      " '2017-08-01T00:00:00.000000000' '2015-12-01T00:00:00.000000000'\n",
      " '2014-02-01T00:00:00.000000000' '2018-06-01T00:00:00.000000000'\n",
      " '2019-12-01T00:00:00.000000000' '2017-11-01T00:00:00.000000000'\n",
      " '2019-06-01T00:00:00.000000000' '2016-04-01T00:00:00.000000000'\n",
      " '2017-02-01T00:00:00.000000000' '2018-12-01T00:00:00.000000000'\n",
      " '2014-04-01T00:00:00.000000000' '2018-09-01T00:00:00.000000000'\n",
      " '2014-11-01T00:00:00.000000000' '2016-07-01T00:00:00.000000000'\n",
      " '2015-02-01T00:00:00.000000000' '2018-07-01T00:00:00.000000000'\n",
      " '2014-08-01T00:00:00.000000000' '2016-03-01T00:00:00.000000000'\n",
      " '2018-08-01T00:00:00.000000000' '2014-10-01T00:00:00.000000000'\n",
      " '2015-06-01T00:00:00.000000000' '2016-08-01T00:00:00.000000000'\n",
      " '2019-05-01T00:00:00.000000000' '2017-03-01T00:00:00.000000000'\n",
      " '2016-02-01T00:00:00.000000000' '2017-09-01T00:00:00.000000000'\n",
      " '2014-09-01T00:00:00.000000000' '2017-12-01T00:00:00.000000000'\n",
      " '2016-12-01T00:00:00.000000000' '2017-06-01T00:00:00.000000000'\n",
      " '2015-05-01T00:00:00.000000000' '2016-10-01T00:00:00.000000000'\n",
      " '2016-09-01T00:00:00.000000000' '2019-08-01T00:00:00.000000000'\n",
      " '2019-07-01T00:00:00.000000000' '2017-05-01T00:00:00.000000000'\n",
      " '2017-10-01T00:00:00.000000000' '2014-07-01T00:00:00.000000000'\n",
      " '2018-03-01T00:00:00.000000000' '2015-01-01T00:00:00.000000000'\n",
      " '2018-11-01T00:00:00.000000000' '2015-03-01T00:00:00.000000000'\n",
      " '2018-02-01T00:00:00.000000000' '2016-06-01T00:00:00.000000000'\n",
      " '2015-08-01T00:00:00.000000000' '2015-11-01T00:00:00.000000000'\n",
      " '2014-06-01T00:00:00.000000000' '2017-01-01T00:00:00.000000000'\n",
      " '2015-07-01T00:00:00.000000000' '2020-02-01T00:00:00.000000000'\n",
      " '2016-11-01T00:00:00.000000000' '2013-11-01T00:00:00.000000000'\n",
      " '2014-01-01T00:00:00.000000000' '2013-10-01T00:00:00.000000000'\n",
      " '2013-12-01T00:00:00.000000000']\n",
      "\n",
      "EndDate\n",
      "['No' '2017-05-01' '2016-03-01' '2018-09-01' '2018-11-01' '2018-12-01'\n",
      " '2019-08-01' '2018-07-01' '2017-09-01' '2015-09-01' '2016-07-01'\n",
      " '2016-06-01' '2018-03-01' '2019-02-01' '2018-06-01' '2019-06-01'\n",
      " '2020-01-01' '2019-11-01' '2016-09-01' '2015-06-01' '2016-12-01'\n",
      " '2019-05-01' '2019-04-01' '2017-06-01' '2017-08-01' '2018-04-01'\n",
      " '2018-08-01' '2018-02-01' '2019-07-01' '2015-12-01' '2014-06-01'\n",
      " '2018-10-01' '2019-01-01' '2017-07-01' '2017-12-01' '2018-05-01'\n",
      " '2015-11-01' '2019-10-01' '2019-03-01' '2016-02-01' '2016-10-01'\n",
      " '2018-01-01' '2017-11-01' '2015-10-01' '2019-12-01' '2015-07-01'\n",
      " '2017-04-01' '2015-02-01' '2017-03-01' '2016-05-01' '2016-11-01'\n",
      " '2015-08-01' '2019-09-01' '2017-10-01' '2017-02-01' '2016-08-01'\n",
      " '2016-04-01' '2015-05-01' '2014-09-01' '2014-10-01' '2017-01-01'\n",
      " '2015-03-01' '2015-01-01' '2016-01-01' '2015-04-01' '2014-12-01'\n",
      " '2014-11-01']\n",
      "\n",
      "Type\n",
      "['Month-to-month' 'One year' 'Two year']\n",
      "\n",
      "PaperlessBilling\n",
      "['Yes' 'No']\n",
      "\n",
      "PaymentMethod\n",
      "['Electronic check' 'Mailed check' 'Bank transfer (automatic)'\n",
      " 'Credit card (automatic)']\n",
      "\n",
      "MonthlyCharges\n",
      "[29.85 56.95 53.85 ... 63.1  44.2  78.7 ]\n",
      "\n",
      "TotalCharges\n",
      "[  31.04 2071.84  226.17 ...  325.6   520.8  7251.82]\n",
      "\n",
      "gender\n",
      "['Female' 'Male']\n",
      "\n",
      "SeniorCitizen\n",
      "[0 1]\n",
      "\n",
      "Partner\n",
      "['Yes' 'No']\n",
      "\n",
      "Dependents\n",
      "['No' 'Yes']\n",
      "\n",
      "InternetService\n",
      "['DSL' 'Fiber optic' 'Other']\n",
      "\n",
      "OnlineSecurity\n",
      "['No' 'Yes']\n",
      "\n",
      "OnlineBackup\n",
      "['Yes' 'No']\n",
      "\n",
      "DeviceProtection\n",
      "['No' 'Yes']\n",
      "\n",
      "TechSupport\n",
      "['No' 'Yes']\n",
      "\n",
      "StreamingTV\n",
      "['No' 'Yes']\n",
      "\n",
      "StreamingMovies\n",
      "['No' 'Yes']\n",
      "\n",
      "MultipleLines\n",
      "['No' 'Yes']\n",
      "\n"
     ]
    }
   ],
   "source": [
    "for column in np.array(df_all.columns):\n",
    "    print(column)\n",
    "    print(df_all[column].unique())\n",
    "    print()"
   ]
  },
  {
   "cell_type": "markdown",
   "id": "9bdc8462",
   "metadata": {},
   "source": [
    "Рассмотрим поближе количественные столбцы: **MonthlyCharges** и **TotalCharges**."
   ]
  },
  {
   "cell_type": "code",
   "execution_count": 34,
   "id": "16b8c6e2",
   "metadata": {},
   "outputs": [
    {
     "data": {
      "text/plain": [
       "3719     18.25\n",
       "1529     18.40\n",
       "6652     18.55\n",
       "6906     18.70\n",
       "1156     18.70\n",
       "         ...  \n",
       "5127    118.35\n",
       "3894    118.60\n",
       "4804    118.60\n",
       "2115    118.65\n",
       "4586    118.75\n",
       "Name: MonthlyCharges, Length: 7043, dtype: float64"
      ]
     },
     "execution_count": 34,
     "metadata": {},
     "output_type": "execute_result"
    }
   ],
   "source": [
    "df_all['MonthlyCharges'].sort_values()"
   ]
  },
  {
   "cell_type": "code",
   "execution_count": 35,
   "id": "a1347ce8",
   "metadata": {},
   "outputs": [
    {
     "data": {
      "image/png": "[encoded data removed]",
      "text/plain": [
       "<Figure size 432x288 with 1 Axes>"
      ]
     },
     "metadata": {
      "needs_background": "light"
     },
     "output_type": "display_data"
    }
   ],
   "source": [
    "df_all['MonthlyCharges'].hist(bins=25);"
   ]
  },
  {
   "cell_type": "markdown",
   "id": "aa7e3c1b",
   "metadata": {},
   "source": [
    "С ежемесячными сборами всё хорошо, большая часть клиентов платят за связь **около 20** денежных единиц в месяц. "
   ]
  },
  {
   "cell_type": "code",
   "execution_count": 36,
   "id": "f7b6aff0",
   "metadata": {},
   "outputs": [
    {
     "data": {
      "text/plain": [
       "3826       0.000000\n",
       "4380       0.000000\n",
       "1082       0.000000\n",
       "6670       0.000000\n",
       "936        0.000000\n",
       "           ...     \n",
       "540     8957.519531\n",
       "4206    8998.269531\n",
       "2559    9068.360352\n",
       "5558    9218.879883\n",
       "4610    9221.379883\n",
       "Name: TotalCharges, Length: 7043, dtype: float32"
      ]
     },
     "execution_count": 36,
     "metadata": {},
     "output_type": "execute_result"
    }
   ],
   "source": [
    "df_all['TotalCharges'].sort_values()"
   ]
  },
  {
   "cell_type": "code",
   "execution_count": 37,
   "id": "0cac1132",
   "metadata": {},
   "outputs": [
    {
     "data": {
      "image/png": "[encoded data removed]",
      "text/plain": [
       "<Figure size 432x288 with 1 Axes>"
      ]
     },
     "metadata": {
      "needs_background": "light"
     },
     "output_type": "display_data"
    }
   ],
   "source": [
    "df_all['TotalCharges'].hist(bins=40);"
   ]
  },
  {
   "cell_type": "markdown",
   "id": "a91f902c",
   "metadata": {},
   "source": [
    "А вот с общей суммой сборов всё сложнее. Слишком много случаев около нуля. Рассмотрим детальнее:"
   ]
  },
  {
   "cell_type": "code",
   "execution_count": 38,
   "id": "3d363571",
   "metadata": {},
   "outputs": [
    {
     "data": {
      "text/plain": [
       "(2965, 20)"
      ]
     },
     "execution_count": 38,
     "metadata": {},
     "output_type": "execute_result"
    }
   ],
   "source": [
    "df_all.query('TotalCharges < 1000').shape"
   ]
  },
  {
   "cell_type": "code",
   "execution_count": 39,
   "id": "35d6ce5a",
   "metadata": {},
   "outputs": [
    {
     "data": {
      "image/png": "[encoded data removed]",
      "text/plain": [
       "<Figure size 432x288 with 1 Axes>"
      ]
     },
     "metadata": {
      "needs_background": "light"
     },
     "output_type": "display_data"
    }
   ],
   "source": [
    "df_all.query('TotalCharges < 1000')['TotalCharges'].hist(bins=80);"
   ]
  },
  {
   "cell_type": "markdown",
   "id": "e85a69c4",
   "metadata": {},
   "source": [
    "Почти половина клиентов заплатили **менее 1000**. Сузим диапазон."
   ]
  },
  {
   "cell_type": "code",
   "execution_count": 40,
   "id": "eb3a950b",
   "metadata": {},
   "outputs": [
    {
     "data": {
      "text/plain": [
       "(472, 20)"
      ]
     },
     "execution_count": 40,
     "metadata": {},
     "output_type": "execute_result"
    }
   ],
   "source": [
    "df_all.query('TotalCharges < 100').shape"
   ]
  },
  {
   "cell_type": "code",
   "execution_count": 41,
   "id": "f61d2711",
   "metadata": {},
   "outputs": [
    {
     "data": {
      "image/png": "[encoded data removed]",
      "text/plain": [
       "<Figure size 432x288 with 1 Axes>"
      ]
     },
     "metadata": {
      "needs_background": "light"
     },
     "output_type": "display_data"
    }
   ],
   "source": [
    "df_all.query('TotalCharges < 100')['TotalCharges'].hist(bins=50);"
   ]
  },
  {
   "cell_type": "markdown",
   "id": "36aabd00",
   "metadata": {},
   "source": [
    "Вот и подозрительные нули."
   ]
  },
  {
   "cell_type": "code",
   "execution_count": 42,
   "id": "15d9ebb1",
   "metadata": {},
   "outputs": [
    {
     "data": {
      "text/html": [
       "<div>\n",
       "<style scoped>\n",
       "    .dataframe tbody tr th:only-of-type {\n",
       "        vertical-align: middle;\n",
       "    }\n",
       "\n",
       "    .dataframe tbody tr th {\n",
       "        vertical-align: top;\n",
       "    }\n",
       "\n",
       "    .dataframe thead th {\n",
       "        text-align: right;\n",
       "    }\n",
       "</style>\n",
       "<table border=\"1\" class=\"dataframe\">\n",
       "  <thead>\n",
       "    <tr style=\"text-align: right;\">\n",
       "      <th></th>\n",
       "      <th>customerID</th>\n",
       "      <th>BeginDate</th>\n",
       "      <th>EndDate</th>\n",
       "      <th>Type</th>\n",
       "      <th>PaperlessBilling</th>\n",
       "      <th>PaymentMethod</th>\n",
       "      <th>MonthlyCharges</th>\n",
       "      <th>TotalCharges</th>\n",
       "      <th>gender</th>\n",
       "      <th>SeniorCitizen</th>\n",
       "      <th>Partner</th>\n",
       "      <th>Dependents</th>\n",
       "      <th>InternetService</th>\n",
       "      <th>OnlineSecurity</th>\n",
       "      <th>OnlineBackup</th>\n",
       "      <th>DeviceProtection</th>\n",
       "      <th>TechSupport</th>\n",
       "      <th>StreamingTV</th>\n",
       "      <th>StreamingMovies</th>\n",
       "      <th>MultipleLines</th>\n",
       "    </tr>\n",
       "  </thead>\n",
       "  <tbody>\n",
       "    <tr>\n",
       "      <th>488</th>\n",
       "      <td>4472-LVYGI</td>\n",
       "      <td>2020-02-01</td>\n",
       "      <td>No</td>\n",
       "      <td>Two year</td>\n",
       "      <td>Yes</td>\n",
       "      <td>Bank transfer (automatic)</td>\n",
       "      <td>52.55</td>\n",
       "      <td>0.0</td>\n",
       "      <td>Female</td>\n",
       "      <td>0</td>\n",
       "      <td>Yes</td>\n",
       "      <td>Yes</td>\n",
       "      <td>DSL</td>\n",
       "      <td>Yes</td>\n",
       "      <td>No</td>\n",
       "      <td>Yes</td>\n",
       "      <td>Yes</td>\n",
       "      <td>Yes</td>\n",
       "      <td>No</td>\n",
       "      <td>No</td>\n",
       "    </tr>\n",
       "    <tr>\n",
       "      <th>753</th>\n",
       "      <td>3115-CZMZD</td>\n",
       "      <td>2020-02-01</td>\n",
       "      <td>No</td>\n",
       "      <td>Two year</td>\n",
       "      <td>No</td>\n",
       "      <td>Mailed check</td>\n",
       "      <td>20.25</td>\n",
       "      <td>0.0</td>\n",
       "      <td>Male</td>\n",
       "      <td>0</td>\n",
       "      <td>No</td>\n",
       "      <td>Yes</td>\n",
       "      <td>Other</td>\n",
       "      <td>No</td>\n",
       "      <td>No</td>\n",
       "      <td>No</td>\n",
       "      <td>No</td>\n",
       "      <td>No</td>\n",
       "      <td>No</td>\n",
       "      <td>No</td>\n",
       "    </tr>\n",
       "    <tr>\n",
       "      <th>936</th>\n",
       "      <td>5709-LVOEQ</td>\n",
       "      <td>2020-02-01</td>\n",
       "      <td>No</td>\n",
       "      <td>Two year</td>\n",
       "      <td>No</td>\n",
       "      <td>Mailed check</td>\n",
       "      <td>80.85</td>\n",
       "      <td>0.0</td>\n",
       "      <td>Female</td>\n",
       "      <td>0</td>\n",
       "      <td>Yes</td>\n",
       "      <td>Yes</td>\n",
       "      <td>DSL</td>\n",
       "      <td>Yes</td>\n",
       "      <td>Yes</td>\n",
       "      <td>Yes</td>\n",
       "      <td>No</td>\n",
       "      <td>Yes</td>\n",
       "      <td>Yes</td>\n",
       "      <td>No</td>\n",
       "    </tr>\n",
       "    <tr>\n",
       "      <th>1082</th>\n",
       "      <td>4367-NUYAO</td>\n",
       "      <td>2020-02-01</td>\n",
       "      <td>No</td>\n",
       "      <td>Two year</td>\n",
       "      <td>No</td>\n",
       "      <td>Mailed check</td>\n",
       "      <td>25.75</td>\n",
       "      <td>0.0</td>\n",
       "      <td>Male</td>\n",
       "      <td>0</td>\n",
       "      <td>Yes</td>\n",
       "      <td>Yes</td>\n",
       "      <td>Other</td>\n",
       "      <td>No</td>\n",
       "      <td>No</td>\n",
       "      <td>No</td>\n",
       "      <td>No</td>\n",
       "      <td>No</td>\n",
       "      <td>No</td>\n",
       "      <td>Yes</td>\n",
       "    </tr>\n",
       "    <tr>\n",
       "      <th>1340</th>\n",
       "      <td>1371-DWPAZ</td>\n",
       "      <td>2020-02-01</td>\n",
       "      <td>No</td>\n",
       "      <td>Two year</td>\n",
       "      <td>No</td>\n",
       "      <td>Credit card (automatic)</td>\n",
       "      <td>56.05</td>\n",
       "      <td>0.0</td>\n",
       "      <td>Female</td>\n",
       "      <td>0</td>\n",
       "      <td>Yes</td>\n",
       "      <td>Yes</td>\n",
       "      <td>DSL</td>\n",
       "      <td>Yes</td>\n",
       "      <td>Yes</td>\n",
       "      <td>Yes</td>\n",
       "      <td>Yes</td>\n",
       "      <td>Yes</td>\n",
       "      <td>No</td>\n",
       "      <td>No</td>\n",
       "    </tr>\n",
       "    <tr>\n",
       "      <th>3331</th>\n",
       "      <td>7644-OMVMY</td>\n",
       "      <td>2020-02-01</td>\n",
       "      <td>No</td>\n",
       "      <td>Two year</td>\n",
       "      <td>No</td>\n",
       "      <td>Mailed check</td>\n",
       "      <td>19.85</td>\n",
       "      <td>0.0</td>\n",
       "      <td>Male</td>\n",
       "      <td>0</td>\n",
       "      <td>Yes</td>\n",
       "      <td>Yes</td>\n",
       "      <td>Other</td>\n",
       "      <td>No</td>\n",
       "      <td>No</td>\n",
       "      <td>No</td>\n",
       "      <td>No</td>\n",
       "      <td>No</td>\n",
       "      <td>No</td>\n",
       "      <td>No</td>\n",
       "    </tr>\n",
       "    <tr>\n",
       "      <th>3826</th>\n",
       "      <td>3213-VVOLG</td>\n",
       "      <td>2020-02-01</td>\n",
       "      <td>No</td>\n",
       "      <td>Two year</td>\n",
       "      <td>No</td>\n",
       "      <td>Mailed check</td>\n",
       "      <td>25.35</td>\n",
       "      <td>0.0</td>\n",
       "      <td>Male</td>\n",
       "      <td>0</td>\n",
       "      <td>Yes</td>\n",
       "      <td>Yes</td>\n",
       "      <td>Other</td>\n",
       "      <td>No</td>\n",
       "      <td>No</td>\n",
       "      <td>No</td>\n",
       "      <td>No</td>\n",
       "      <td>No</td>\n",
       "      <td>No</td>\n",
       "      <td>Yes</td>\n",
       "    </tr>\n",
       "    <tr>\n",
       "      <th>4380</th>\n",
       "      <td>2520-SGTTA</td>\n",
       "      <td>2020-02-01</td>\n",
       "      <td>No</td>\n",
       "      <td>Two year</td>\n",
       "      <td>No</td>\n",
       "      <td>Mailed check</td>\n",
       "      <td>20.00</td>\n",
       "      <td>0.0</td>\n",
       "      <td>Female</td>\n",
       "      <td>0</td>\n",
       "      <td>Yes</td>\n",
       "      <td>Yes</td>\n",
       "      <td>Other</td>\n",
       "      <td>No</td>\n",
       "      <td>No</td>\n",
       "      <td>No</td>\n",
       "      <td>No</td>\n",
       "      <td>No</td>\n",
       "      <td>No</td>\n",
       "      <td>No</td>\n",
       "    </tr>\n",
       "    <tr>\n",
       "      <th>5218</th>\n",
       "      <td>2923-ARZLG</td>\n",
       "      <td>2020-02-01</td>\n",
       "      <td>No</td>\n",
       "      <td>One year</td>\n",
       "      <td>Yes</td>\n",
       "      <td>Mailed check</td>\n",
       "      <td>19.70</td>\n",
       "      <td>0.0</td>\n",
       "      <td>Male</td>\n",
       "      <td>0</td>\n",
       "      <td>Yes</td>\n",
       "      <td>Yes</td>\n",
       "      <td>Other</td>\n",
       "      <td>No</td>\n",
       "      <td>No</td>\n",
       "      <td>No</td>\n",
       "      <td>No</td>\n",
       "      <td>No</td>\n",
       "      <td>No</td>\n",
       "      <td>No</td>\n",
       "    </tr>\n",
       "    <tr>\n",
       "      <th>6670</th>\n",
       "      <td>4075-WKNIU</td>\n",
       "      <td>2020-02-01</td>\n",
       "      <td>No</td>\n",
       "      <td>Two year</td>\n",
       "      <td>No</td>\n",
       "      <td>Mailed check</td>\n",
       "      <td>73.35</td>\n",
       "      <td>0.0</td>\n",
       "      <td>Female</td>\n",
       "      <td>0</td>\n",
       "      <td>Yes</td>\n",
       "      <td>Yes</td>\n",
       "      <td>DSL</td>\n",
       "      <td>No</td>\n",
       "      <td>Yes</td>\n",
       "      <td>Yes</td>\n",
       "      <td>Yes</td>\n",
       "      <td>Yes</td>\n",
       "      <td>No</td>\n",
       "      <td>Yes</td>\n",
       "    </tr>\n",
       "    <tr>\n",
       "      <th>6754</th>\n",
       "      <td>2775-SEFEE</td>\n",
       "      <td>2020-02-01</td>\n",
       "      <td>No</td>\n",
       "      <td>Two year</td>\n",
       "      <td>Yes</td>\n",
       "      <td>Bank transfer (automatic)</td>\n",
       "      <td>61.90</td>\n",
       "      <td>0.0</td>\n",
       "      <td>Male</td>\n",
       "      <td>0</td>\n",
       "      <td>No</td>\n",
       "      <td>Yes</td>\n",
       "      <td>DSL</td>\n",
       "      <td>Yes</td>\n",
       "      <td>Yes</td>\n",
       "      <td>No</td>\n",
       "      <td>Yes</td>\n",
       "      <td>No</td>\n",
       "      <td>No</td>\n",
       "      <td>Yes</td>\n",
       "    </tr>\n",
       "  </tbody>\n",
       "</table>\n",
       "</div>"
      ],
      "text/plain": [
       "      customerID  BeginDate EndDate      Type PaperlessBilling  \\\n",
       "488   4472-LVYGI 2020-02-01      No  Two year              Yes   \n",
       "753   3115-CZMZD 2020-02-01      No  Two year               No   \n",
       "936   5709-LVOEQ 2020-02-01      No  Two year               No   \n",
       "1082  4367-NUYAO 2020-02-01      No  Two year               No   \n",
       "1340  1371-DWPAZ 2020-02-01      No  Two year               No   \n",
       "3331  7644-OMVMY 2020-02-01      No  Two year               No   \n",
       "3826  3213-VVOLG 2020-02-01      No  Two year               No   \n",
       "4380  2520-SGTTA 2020-02-01      No  Two year               No   \n",
       "5218  2923-ARZLG 2020-02-01      No  One year              Yes   \n",
       "6670  4075-WKNIU 2020-02-01      No  Two year               No   \n",
       "6754  2775-SEFEE 2020-02-01      No  Two year              Yes   \n",
       "\n",
       "                  PaymentMethod  MonthlyCharges  TotalCharges  gender  \\\n",
       "488   Bank transfer (automatic)           52.55           0.0  Female   \n",
       "753                Mailed check           20.25           0.0    Male   \n",
       "936                Mailed check           80.85           0.0  Female   \n",
       "1082               Mailed check           25.75           0.0    Male   \n",
       "1340    Credit card (automatic)           56.05           0.0  Female   \n",
       "3331               Mailed check           19.85           0.0    Male   \n",
       "3826               Mailed check           25.35           0.0    Male   \n",
       "4380               Mailed check           20.00           0.0  Female   \n",
       "5218               Mailed check           19.70           0.0    Male   \n",
       "6670               Mailed check           73.35           0.0  Female   \n",
       "6754  Bank transfer (automatic)           61.90           0.0    Male   \n",
       "\n",
       "      SeniorCitizen Partner Dependents InternetService OnlineSecurity  \\\n",
       "488               0     Yes        Yes             DSL            Yes   \n",
       "753               0      No        Yes           Other             No   \n",
       "936               0     Yes        Yes             DSL            Yes   \n",
       "1082              0     Yes        Yes           Other             No   \n",
       "1340              0     Yes        Yes             DSL            Yes   \n",
       "3331              0     Yes        Yes           Other             No   \n",
       "3826              0     Yes        Yes           Other             No   \n",
       "4380              0     Yes        Yes           Other             No   \n",
       "5218              0     Yes        Yes           Other             No   \n",
       "6670              0     Yes        Yes             DSL             No   \n",
       "6754              0      No        Yes             DSL            Yes   \n",
       "\n",
       "     OnlineBackup DeviceProtection TechSupport StreamingTV StreamingMovies  \\\n",
       "488            No              Yes         Yes         Yes              No   \n",
       "753            No               No          No          No              No   \n",
       "936           Yes              Yes          No         Yes             Yes   \n",
       "1082           No               No          No          No              No   \n",
       "1340          Yes              Yes         Yes         Yes              No   \n",
       "3331           No               No          No          No              No   \n",
       "3826           No               No          No          No              No   \n",
       "4380           No               No          No          No              No   \n",
       "5218           No               No          No          No              No   \n",
       "6670          Yes              Yes         Yes         Yes              No   \n",
       "6754          Yes               No         Yes          No              No   \n",
       "\n",
       "     MultipleLines  \n",
       "488             No  \n",
       "753             No  \n",
       "936             No  \n",
       "1082           Yes  \n",
       "1340            No  \n",
       "3331            No  \n",
       "3826           Yes  \n",
       "4380            No  \n",
       "5218            No  \n",
       "6670           Yes  \n",
       "6754           Yes  "
      ]
     },
     "execution_count": 42,
     "metadata": {},
     "output_type": "execute_result"
    }
   ],
   "source": [
    "df_all.query('TotalCharges < 10')"
   ]
  },
  {
   "cell_type": "markdown",
   "id": "7f9c19a5",
   "metadata": {},
   "source": [
    "Но оказывается всё в порядке. Эти 11 человек начали пользоваться услугами связи в день выгрузки датасета **1 февраля 2020 года**. \\\n",
    "Перейдём к самым большим значениям."
   ]
  },
  {
   "cell_type": "code",
   "execution_count": 43,
   "id": "5918db7c",
   "metadata": {},
   "outputs": [
    {
     "data": {
      "text/html": [
       "<div>\n",
       "<style scoped>\n",
       "    .dataframe tbody tr th:only-of-type {\n",
       "        vertical-align: middle;\n",
       "    }\n",
       "\n",
       "    .dataframe tbody tr th {\n",
       "        vertical-align: top;\n",
       "    }\n",
       "\n",
       "    .dataframe thead th {\n",
       "        text-align: right;\n",
       "    }\n",
       "</style>\n",
       "<table border=\"1\" class=\"dataframe\">\n",
       "  <thead>\n",
       "    <tr style=\"text-align: right;\">\n",
       "      <th></th>\n",
       "      <th>customerID</th>\n",
       "      <th>BeginDate</th>\n",
       "      <th>EndDate</th>\n",
       "      <th>Type</th>\n",
       "      <th>PaperlessBilling</th>\n",
       "      <th>PaymentMethod</th>\n",
       "      <th>MonthlyCharges</th>\n",
       "      <th>TotalCharges</th>\n",
       "      <th>gender</th>\n",
       "      <th>SeniorCitizen</th>\n",
       "      <th>Partner</th>\n",
       "      <th>Dependents</th>\n",
       "      <th>InternetService</th>\n",
       "      <th>OnlineSecurity</th>\n",
       "      <th>OnlineBackup</th>\n",
       "      <th>DeviceProtection</th>\n",
       "      <th>TechSupport</th>\n",
       "      <th>StreamingTV</th>\n",
       "      <th>StreamingMovies</th>\n",
       "      <th>MultipleLines</th>\n",
       "    </tr>\n",
       "  </thead>\n",
       "  <tbody>\n",
       "    <tr>\n",
       "      <th>17</th>\n",
       "      <td>9959-WOFKT</td>\n",
       "      <td>2014-03-01</td>\n",
       "      <td>No</td>\n",
       "      <td>Two year</td>\n",
       "      <td>No</td>\n",
       "      <td>Bank transfer (automatic)</td>\n",
       "      <td>106.70</td>\n",
       "      <td>8257.509766</td>\n",
       "      <td>Male</td>\n",
       "      <td>0</td>\n",
       "      <td>No</td>\n",
       "      <td>Yes</td>\n",
       "      <td>Fiber optic</td>\n",
       "      <td>Yes</td>\n",
       "      <td>No</td>\n",
       "      <td>Yes</td>\n",
       "      <td>No</td>\n",
       "      <td>Yes</td>\n",
       "      <td>Yes</td>\n",
       "      <td>Yes</td>\n",
       "    </tr>\n",
       "    <tr>\n",
       "      <th>198</th>\n",
       "      <td>7255-SSFBC</td>\n",
       "      <td>2014-02-01</td>\n",
       "      <td>No</td>\n",
       "      <td>Two year</td>\n",
       "      <td>Yes</td>\n",
       "      <td>Bank transfer (automatic)</td>\n",
       "      <td>112.25</td>\n",
       "      <td>8324.459961</td>\n",
       "      <td>Male</td>\n",
       "      <td>0</td>\n",
       "      <td>Yes</td>\n",
       "      <td>Yes</td>\n",
       "      <td>Fiber optic</td>\n",
       "      <td>No</td>\n",
       "      <td>Yes</td>\n",
       "      <td>Yes</td>\n",
       "      <td>Yes</td>\n",
       "      <td>Yes</td>\n",
       "      <td>Yes</td>\n",
       "      <td>Yes</td>\n",
       "    </tr>\n",
       "    <tr>\n",
       "      <th>369</th>\n",
       "      <td>3520-FJGCV</td>\n",
       "      <td>2014-02-01</td>\n",
       "      <td>No</td>\n",
       "      <td>Two year</td>\n",
       "      <td>Yes</td>\n",
       "      <td>Credit card (automatic)</td>\n",
       "      <td>112.60</td>\n",
       "      <td>8755.780273</td>\n",
       "      <td>Male</td>\n",
       "      <td>0</td>\n",
       "      <td>Yes</td>\n",
       "      <td>Yes</td>\n",
       "      <td>Fiber optic</td>\n",
       "      <td>Yes</td>\n",
       "      <td>Yes</td>\n",
       "      <td>Yes</td>\n",
       "      <td>Yes</td>\n",
       "      <td>Yes</td>\n",
       "      <td>Yes</td>\n",
       "      <td>Yes</td>\n",
       "    </tr>\n",
       "    <tr>\n",
       "      <th>437</th>\n",
       "      <td>4376-KFVRS</td>\n",
       "      <td>2014-02-01</td>\n",
       "      <td>No</td>\n",
       "      <td>Two year</td>\n",
       "      <td>Yes</td>\n",
       "      <td>Credit card (automatic)</td>\n",
       "      <td>114.05</td>\n",
       "      <td>8211.599609</td>\n",
       "      <td>Male</td>\n",
       "      <td>0</td>\n",
       "      <td>Yes</td>\n",
       "      <td>Yes</td>\n",
       "      <td>Fiber optic</td>\n",
       "      <td>Yes</td>\n",
       "      <td>Yes</td>\n",
       "      <td>Yes</td>\n",
       "      <td>Yes</td>\n",
       "      <td>Yes</td>\n",
       "      <td>Yes</td>\n",
       "      <td>Yes</td>\n",
       "    </tr>\n",
       "    <tr>\n",
       "      <th>464</th>\n",
       "      <td>1480-BKXGA</td>\n",
       "      <td>2014-02-01</td>\n",
       "      <td>No</td>\n",
       "      <td>Two year</td>\n",
       "      <td>Yes</td>\n",
       "      <td>Bank transfer (automatic)</td>\n",
       "      <td>116.05</td>\n",
       "      <td>8355.599609</td>\n",
       "      <td>Male</td>\n",
       "      <td>1</td>\n",
       "      <td>Yes</td>\n",
       "      <td>No</td>\n",
       "      <td>Fiber optic</td>\n",
       "      <td>Yes</td>\n",
       "      <td>Yes</td>\n",
       "      <td>Yes</td>\n",
       "      <td>Yes</td>\n",
       "      <td>Yes</td>\n",
       "      <td>Yes</td>\n",
       "      <td>Yes</td>\n",
       "    </tr>\n",
       "    <tr>\n",
       "      <th>...</th>\n",
       "      <td>...</td>\n",
       "      <td>...</td>\n",
       "      <td>...</td>\n",
       "      <td>...</td>\n",
       "      <td>...</td>\n",
       "      <td>...</td>\n",
       "      <td>...</td>\n",
       "      <td>...</td>\n",
       "      <td>...</td>\n",
       "      <td>...</td>\n",
       "      <td>...</td>\n",
       "      <td>...</td>\n",
       "      <td>...</td>\n",
       "      <td>...</td>\n",
       "      <td>...</td>\n",
       "      <td>...</td>\n",
       "      <td>...</td>\n",
       "      <td>...</td>\n",
       "      <td>...</td>\n",
       "      <td>...</td>\n",
       "    </tr>\n",
       "    <tr>\n",
       "      <th>6700</th>\n",
       "      <td>8107-RZLNV</td>\n",
       "      <td>2014-02-01</td>\n",
       "      <td>No</td>\n",
       "      <td>Two year</td>\n",
       "      <td>Yes</td>\n",
       "      <td>Bank transfer (automatic)</td>\n",
       "      <td>106.30</td>\n",
       "      <td>8342.419922</td>\n",
       "      <td>Male</td>\n",
       "      <td>0</td>\n",
       "      <td>Yes</td>\n",
       "      <td>No</td>\n",
       "      <td>Fiber optic</td>\n",
       "      <td>No</td>\n",
       "      <td>Yes</td>\n",
       "      <td>Yes</td>\n",
       "      <td>No</td>\n",
       "      <td>Yes</td>\n",
       "      <td>Yes</td>\n",
       "      <td>Yes</td>\n",
       "    </tr>\n",
       "    <tr>\n",
       "      <th>6728</th>\n",
       "      <td>2380-DAMQP</td>\n",
       "      <td>2014-02-01</td>\n",
       "      <td>No</td>\n",
       "      <td>Two year</td>\n",
       "      <td>No</td>\n",
       "      <td>Electronic check</td>\n",
       "      <td>115.15</td>\n",
       "      <td>8788.250000</td>\n",
       "      <td>Female</td>\n",
       "      <td>0</td>\n",
       "      <td>Yes</td>\n",
       "      <td>No</td>\n",
       "      <td>Fiber optic</td>\n",
       "      <td>Yes</td>\n",
       "      <td>Yes</td>\n",
       "      <td>Yes</td>\n",
       "      <td>Yes</td>\n",
       "      <td>Yes</td>\n",
       "      <td>Yes</td>\n",
       "      <td>Yes</td>\n",
       "    </tr>\n",
       "    <tr>\n",
       "      <th>6768</th>\n",
       "      <td>9739-JLPQJ</td>\n",
       "      <td>2014-02-01</td>\n",
       "      <td>No</td>\n",
       "      <td>Two year</td>\n",
       "      <td>No</td>\n",
       "      <td>Credit card (automatic)</td>\n",
       "      <td>117.50</td>\n",
       "      <td>8713.799805</td>\n",
       "      <td>Female</td>\n",
       "      <td>0</td>\n",
       "      <td>Yes</td>\n",
       "      <td>Yes</td>\n",
       "      <td>Fiber optic</td>\n",
       "      <td>Yes</td>\n",
       "      <td>Yes</td>\n",
       "      <td>Yes</td>\n",
       "      <td>Yes</td>\n",
       "      <td>Yes</td>\n",
       "      <td>Yes</td>\n",
       "      <td>Yes</td>\n",
       "    </tr>\n",
       "    <tr>\n",
       "      <th>6910</th>\n",
       "      <td>0530-IJVDB</td>\n",
       "      <td>2014-04-01</td>\n",
       "      <td>No</td>\n",
       "      <td>Two year</td>\n",
       "      <td>Yes</td>\n",
       "      <td>Electronic check</td>\n",
       "      <td>114.60</td>\n",
       "      <td>8182.439941</td>\n",
       "      <td>Male</td>\n",
       "      <td>0</td>\n",
       "      <td>No</td>\n",
       "      <td>Yes</td>\n",
       "      <td>Fiber optic</td>\n",
       "      <td>Yes</td>\n",
       "      <td>Yes</td>\n",
       "      <td>Yes</td>\n",
       "      <td>Yes</td>\n",
       "      <td>Yes</td>\n",
       "      <td>Yes</td>\n",
       "      <td>Yes</td>\n",
       "    </tr>\n",
       "    <tr>\n",
       "      <th>7022</th>\n",
       "      <td>7203-OYKCT</td>\n",
       "      <td>2014-02-01</td>\n",
       "      <td>No</td>\n",
       "      <td>One year</td>\n",
       "      <td>Yes</td>\n",
       "      <td>Electronic check</td>\n",
       "      <td>104.95</td>\n",
       "      <td>8085.350098</td>\n",
       "      <td>Male</td>\n",
       "      <td>0</td>\n",
       "      <td>No</td>\n",
       "      <td>No</td>\n",
       "      <td>Fiber optic</td>\n",
       "      <td>No</td>\n",
       "      <td>Yes</td>\n",
       "      <td>Yes</td>\n",
       "      <td>No</td>\n",
       "      <td>Yes</td>\n",
       "      <td>Yes</td>\n",
       "      <td>Yes</td>\n",
       "    </tr>\n",
       "  </tbody>\n",
       "</table>\n",
       "<p>99 rows × 20 columns</p>\n",
       "</div>"
      ],
      "text/plain": [
       "      customerID  BeginDate EndDate      Type PaperlessBilling  \\\n",
       "17    9959-WOFKT 2014-03-01      No  Two year               No   \n",
       "198   7255-SSFBC 2014-02-01      No  Two year              Yes   \n",
       "369   3520-FJGCV 2014-02-01      No  Two year              Yes   \n",
       "437   4376-KFVRS 2014-02-01      No  Two year              Yes   \n",
       "464   1480-BKXGA 2014-02-01      No  Two year              Yes   \n",
       "...          ...        ...     ...       ...              ...   \n",
       "6700  8107-RZLNV 2014-02-01      No  Two year              Yes   \n",
       "6728  2380-DAMQP 2014-02-01      No  Two year               No   \n",
       "6768  9739-JLPQJ 2014-02-01      No  Two year               No   \n",
       "6910  0530-IJVDB 2014-04-01      No  Two year              Yes   \n",
       "7022  7203-OYKCT 2014-02-01      No  One year              Yes   \n",
       "\n",
       "                  PaymentMethod  MonthlyCharges  TotalCharges  gender  \\\n",
       "17    Bank transfer (automatic)          106.70   8257.509766    Male   \n",
       "198   Bank transfer (automatic)          112.25   8324.459961    Male   \n",
       "369     Credit card (automatic)          112.60   8755.780273    Male   \n",
       "437     Credit card (automatic)          114.05   8211.599609    Male   \n",
       "464   Bank transfer (automatic)          116.05   8355.599609    Male   \n",
       "...                         ...             ...           ...     ...   \n",
       "6700  Bank transfer (automatic)          106.30   8342.419922    Male   \n",
       "6728           Electronic check          115.15   8788.250000  Female   \n",
       "6768    Credit card (automatic)          117.50   8713.799805  Female   \n",
       "6910           Electronic check          114.60   8182.439941    Male   \n",
       "7022           Electronic check          104.95   8085.350098    Male   \n",
       "\n",
       "      SeniorCitizen Partner Dependents InternetService OnlineSecurity  \\\n",
       "17                0      No        Yes     Fiber optic            Yes   \n",
       "198               0     Yes        Yes     Fiber optic             No   \n",
       "369               0     Yes        Yes     Fiber optic            Yes   \n",
       "437               0     Yes        Yes     Fiber optic            Yes   \n",
       "464               1     Yes         No     Fiber optic            Yes   \n",
       "...             ...     ...        ...             ...            ...   \n",
       "6700              0     Yes         No     Fiber optic             No   \n",
       "6728              0     Yes         No     Fiber optic            Yes   \n",
       "6768              0     Yes        Yes     Fiber optic            Yes   \n",
       "6910              0      No        Yes     Fiber optic            Yes   \n",
       "7022              0      No         No     Fiber optic             No   \n",
       "\n",
       "     OnlineBackup DeviceProtection TechSupport StreamingTV StreamingMovies  \\\n",
       "17             No              Yes          No         Yes             Yes   \n",
       "198           Yes              Yes         Yes         Yes             Yes   \n",
       "369           Yes              Yes         Yes         Yes             Yes   \n",
       "437           Yes              Yes         Yes         Yes             Yes   \n",
       "464           Yes              Yes         Yes         Yes             Yes   \n",
       "...           ...              ...         ...         ...             ...   \n",
       "6700          Yes              Yes          No         Yes             Yes   \n",
       "6728          Yes              Yes         Yes         Yes             Yes   \n",
       "6768          Yes              Yes         Yes         Yes             Yes   \n",
       "6910          Yes              Yes         Yes         Yes             Yes   \n",
       "7022          Yes              Yes          No         Yes             Yes   \n",
       "\n",
       "     MultipleLines  \n",
       "17             Yes  \n",
       "198            Yes  \n",
       "369            Yes  \n",
       "437            Yes  \n",
       "464            Yes  \n",
       "...            ...  \n",
       "6700           Yes  \n",
       "6728           Yes  \n",
       "6768           Yes  \n",
       "6910           Yes  \n",
       "7022           Yes  \n",
       "\n",
       "[99 rows x 20 columns]"
      ]
     },
     "execution_count": 43,
     "metadata": {},
     "output_type": "execute_result"
    }
   ],
   "source": [
    "df_all.query('TotalCharges > 8000')"
   ]
  },
  {
   "cell_type": "markdown",
   "id": "31f43216",
   "metadata": {},
   "source": [
    "Тут тоже всё законно: давно пользуются услугами и много платят каждый месяц, поэтому и общая сумма высокая. \\\n",
    "Аномалий нет!"
   ]
  },
  {
   "cell_type": "markdown",
   "id": "c76c7d2a",
   "metadata": {},
   "source": [
    "### Генерация признаков"
   ]
  },
  {
   "cell_type": "markdown",
   "id": "421d5ca7",
   "metadata": {},
   "source": [
    "В этом проекте мы решаем задачу классификации клиентов на лояльных и отточных. Но как используя то, что мы имеем, определить класс, к которому принадлежит тот или иной клиент? \\\n",
    "В этом вопросе нам помогут столбцы **BeginDate** и **EndDate**. Основываясь на дате ухода или её отсутствия создадим **целевой признак**. А из даты начала действия контракта мы получим **количество дней**, которые пользователь провёл вместе с нашим сотовым оператором."
   ]
  },
  {
   "cell_type": "code",
   "execution_count": 44,
   "id": "869b2f9b",
   "metadata": {},
   "outputs": [
    {
     "data": {
      "text/html": [
       "<div>\n",
       "<style scoped>\n",
       "    .dataframe tbody tr th:only-of-type {\n",
       "        vertical-align: middle;\n",
       "    }\n",
       "\n",
       "    .dataframe tbody tr th {\n",
       "        vertical-align: top;\n",
       "    }\n",
       "\n",
       "    .dataframe thead th {\n",
       "        text-align: right;\n",
       "    }\n",
       "</style>\n",
       "<table border=\"1\" class=\"dataframe\">\n",
       "  <thead>\n",
       "    <tr style=\"text-align: right;\">\n",
       "      <th></th>\n",
       "      <th>customerID</th>\n",
       "      <th>BeginDate</th>\n",
       "      <th>EndDate</th>\n",
       "      <th>Type</th>\n",
       "      <th>PaperlessBilling</th>\n",
       "      <th>PaymentMethod</th>\n",
       "      <th>MonthlyCharges</th>\n",
       "      <th>TotalCharges</th>\n",
       "      <th>gender</th>\n",
       "      <th>SeniorCitizen</th>\n",
       "      <th>...</th>\n",
       "      <th>Dependents</th>\n",
       "      <th>InternetService</th>\n",
       "      <th>OnlineSecurity</th>\n",
       "      <th>OnlineBackup</th>\n",
       "      <th>DeviceProtection</th>\n",
       "      <th>TechSupport</th>\n",
       "      <th>StreamingTV</th>\n",
       "      <th>StreamingMovies</th>\n",
       "      <th>MultipleLines</th>\n",
       "      <th>leaving</th>\n",
       "    </tr>\n",
       "  </thead>\n",
       "  <tbody>\n",
       "    <tr>\n",
       "      <th>0</th>\n",
       "      <td>7590-VHVEG</td>\n",
       "      <td>2020-01-01</td>\n",
       "      <td>No</td>\n",
       "      <td>Month-to-month</td>\n",
       "      <td>Yes</td>\n",
       "      <td>Electronic check</td>\n",
       "      <td>29.85</td>\n",
       "      <td>31.040001</td>\n",
       "      <td>Female</td>\n",
       "      <td>0</td>\n",
       "      <td>...</td>\n",
       "      <td>No</td>\n",
       "      <td>DSL</td>\n",
       "      <td>No</td>\n",
       "      <td>Yes</td>\n",
       "      <td>No</td>\n",
       "      <td>No</td>\n",
       "      <td>No</td>\n",
       "      <td>No</td>\n",
       "      <td>No</td>\n",
       "      <td>0</td>\n",
       "    </tr>\n",
       "    <tr>\n",
       "      <th>1</th>\n",
       "      <td>5575-GNVDE</td>\n",
       "      <td>2017-04-01</td>\n",
       "      <td>No</td>\n",
       "      <td>One year</td>\n",
       "      <td>No</td>\n",
       "      <td>Mailed check</td>\n",
       "      <td>56.95</td>\n",
       "      <td>2071.840088</td>\n",
       "      <td>Male</td>\n",
       "      <td>0</td>\n",
       "      <td>...</td>\n",
       "      <td>No</td>\n",
       "      <td>DSL</td>\n",
       "      <td>Yes</td>\n",
       "      <td>No</td>\n",
       "      <td>Yes</td>\n",
       "      <td>No</td>\n",
       "      <td>No</td>\n",
       "      <td>No</td>\n",
       "      <td>No</td>\n",
       "      <td>0</td>\n",
       "    </tr>\n",
       "    <tr>\n",
       "      <th>2</th>\n",
       "      <td>3668-QPYBK</td>\n",
       "      <td>2019-10-01</td>\n",
       "      <td>No</td>\n",
       "      <td>Month-to-month</td>\n",
       "      <td>Yes</td>\n",
       "      <td>Mailed check</td>\n",
       "      <td>53.85</td>\n",
       "      <td>226.169998</td>\n",
       "      <td>Male</td>\n",
       "      <td>0</td>\n",
       "      <td>...</td>\n",
       "      <td>No</td>\n",
       "      <td>DSL</td>\n",
       "      <td>Yes</td>\n",
       "      <td>Yes</td>\n",
       "      <td>No</td>\n",
       "      <td>No</td>\n",
       "      <td>No</td>\n",
       "      <td>No</td>\n",
       "      <td>No</td>\n",
       "      <td>0</td>\n",
       "    </tr>\n",
       "  </tbody>\n",
       "</table>\n",
       "<p>3 rows × 21 columns</p>\n",
       "</div>"
      ],
      "text/plain": [
       "   customerID  BeginDate EndDate            Type PaperlessBilling  \\\n",
       "0  7590-VHVEG 2020-01-01      No  Month-to-month              Yes   \n",
       "1  5575-GNVDE 2017-04-01      No        One year               No   \n",
       "2  3668-QPYBK 2019-10-01      No  Month-to-month              Yes   \n",
       "\n",
       "      PaymentMethod  MonthlyCharges  TotalCharges  gender  SeniorCitizen  ...  \\\n",
       "0  Electronic check           29.85     31.040001  Female              0  ...   \n",
       "1      Mailed check           56.95   2071.840088    Male              0  ...   \n",
       "2      Mailed check           53.85    226.169998    Male              0  ...   \n",
       "\n",
       "  Dependents InternetService OnlineSecurity OnlineBackup DeviceProtection  \\\n",
       "0         No             DSL             No          Yes               No   \n",
       "1         No             DSL            Yes           No              Yes   \n",
       "2         No             DSL            Yes          Yes               No   \n",
       "\n",
       "  TechSupport StreamingTV StreamingMovies MultipleLines leaving  \n",
       "0          No          No              No            No       0  \n",
       "1          No          No              No            No       0  \n",
       "2          No          No              No            No       0  \n",
       "\n",
       "[3 rows x 21 columns]"
      ]
     },
     "execution_count": 44,
     "metadata": {},
     "output_type": "execute_result"
    }
   ],
   "source": [
    "df_all['leaving'] = np.where(df_all['EndDate'] == 'No', 0, 1)\n",
    "df_all.head(3)"
   ]
  },
  {
   "cell_type": "code",
   "execution_count": 45,
   "id": "01969192",
   "metadata": {},
   "outputs": [],
   "source": [
    "def duration(row):\n",
    "    if row['EndDate'] == 'No':\n",
    "        return pd.to_datetime('2020-02-01') - row['BeginDate']\n",
    "    else:\n",
    "        return pd.to_datetime(row['EndDate']) - row['BeginDate']"
   ]
  },
  {
   "cell_type": "code",
   "execution_count": 46,
   "id": "1e078095",
   "metadata": {},
   "outputs": [
    {
     "data": {
      "text/html": [
       "<div>\n",
       "<style scoped>\n",
       "    .dataframe tbody tr th:only-of-type {\n",
       "        vertical-align: middle;\n",
       "    }\n",
       "\n",
       "    .dataframe tbody tr th {\n",
       "        vertical-align: top;\n",
       "    }\n",
       "\n",
       "    .dataframe thead th {\n",
       "        text-align: right;\n",
       "    }\n",
       "</style>\n",
       "<table border=\"1\" class=\"dataframe\">\n",
       "  <thead>\n",
       "    <tr style=\"text-align: right;\">\n",
       "      <th></th>\n",
       "      <th>customerID</th>\n",
       "      <th>BeginDate</th>\n",
       "      <th>EndDate</th>\n",
       "      <th>Type</th>\n",
       "      <th>PaperlessBilling</th>\n",
       "      <th>PaymentMethod</th>\n",
       "      <th>MonthlyCharges</th>\n",
       "      <th>TotalCharges</th>\n",
       "      <th>gender</th>\n",
       "      <th>SeniorCitizen</th>\n",
       "      <th>...</th>\n",
       "      <th>InternetService</th>\n",
       "      <th>OnlineSecurity</th>\n",
       "      <th>OnlineBackup</th>\n",
       "      <th>DeviceProtection</th>\n",
       "      <th>TechSupport</th>\n",
       "      <th>StreamingTV</th>\n",
       "      <th>StreamingMovies</th>\n",
       "      <th>MultipleLines</th>\n",
       "      <th>leaving</th>\n",
       "      <th>duration</th>\n",
       "    </tr>\n",
       "  </thead>\n",
       "  <tbody>\n",
       "    <tr>\n",
       "      <th>0</th>\n",
       "      <td>7590-VHVEG</td>\n",
       "      <td>2020-01-01</td>\n",
       "      <td>No</td>\n",
       "      <td>Month-to-month</td>\n",
       "      <td>Yes</td>\n",
       "      <td>Electronic check</td>\n",
       "      <td>29.85</td>\n",
       "      <td>31.040001</td>\n",
       "      <td>Female</td>\n",
       "      <td>0</td>\n",
       "      <td>...</td>\n",
       "      <td>DSL</td>\n",
       "      <td>No</td>\n",
       "      <td>Yes</td>\n",
       "      <td>No</td>\n",
       "      <td>No</td>\n",
       "      <td>No</td>\n",
       "      <td>No</td>\n",
       "      <td>No</td>\n",
       "      <td>0</td>\n",
       "      <td>31</td>\n",
       "    </tr>\n",
       "    <tr>\n",
       "      <th>1</th>\n",
       "      <td>5575-GNVDE</td>\n",
       "      <td>2017-04-01</td>\n",
       "      <td>No</td>\n",
       "      <td>One year</td>\n",
       "      <td>No</td>\n",
       "      <td>Mailed check</td>\n",
       "      <td>56.95</td>\n",
       "      <td>2071.840088</td>\n",
       "      <td>Male</td>\n",
       "      <td>0</td>\n",
       "      <td>...</td>\n",
       "      <td>DSL</td>\n",
       "      <td>Yes</td>\n",
       "      <td>No</td>\n",
       "      <td>Yes</td>\n",
       "      <td>No</td>\n",
       "      <td>No</td>\n",
       "      <td>No</td>\n",
       "      <td>No</td>\n",
       "      <td>0</td>\n",
       "      <td>1036</td>\n",
       "    </tr>\n",
       "    <tr>\n",
       "      <th>2</th>\n",
       "      <td>3668-QPYBK</td>\n",
       "      <td>2019-10-01</td>\n",
       "      <td>No</td>\n",
       "      <td>Month-to-month</td>\n",
       "      <td>Yes</td>\n",
       "      <td>Mailed check</td>\n",
       "      <td>53.85</td>\n",
       "      <td>226.169998</td>\n",
       "      <td>Male</td>\n",
       "      <td>0</td>\n",
       "      <td>...</td>\n",
       "      <td>DSL</td>\n",
       "      <td>Yes</td>\n",
       "      <td>Yes</td>\n",
       "      <td>No</td>\n",
       "      <td>No</td>\n",
       "      <td>No</td>\n",
       "      <td>No</td>\n",
       "      <td>No</td>\n",
       "      <td>0</td>\n",
       "      <td>123</td>\n",
       "    </tr>\n",
       "  </tbody>\n",
       "</table>\n",
       "<p>3 rows × 22 columns</p>\n",
       "</div>"
      ],
      "text/plain": [
       "   customerID  BeginDate EndDate            Type PaperlessBilling  \\\n",
       "0  7590-VHVEG 2020-01-01      No  Month-to-month              Yes   \n",
       "1  5575-GNVDE 2017-04-01      No        One year               No   \n",
       "2  3668-QPYBK 2019-10-01      No  Month-to-month              Yes   \n",
       "\n",
       "      PaymentMethod  MonthlyCharges  TotalCharges  gender  SeniorCitizen  ...  \\\n",
       "0  Electronic check           29.85     31.040001  Female              0  ...   \n",
       "1      Mailed check           56.95   2071.840088    Male              0  ...   \n",
       "2      Mailed check           53.85    226.169998    Male              0  ...   \n",
       "\n",
       "  InternetService OnlineSecurity OnlineBackup DeviceProtection TechSupport  \\\n",
       "0             DSL             No          Yes               No          No   \n",
       "1             DSL            Yes           No              Yes          No   \n",
       "2             DSL            Yes          Yes               No          No   \n",
       "\n",
       "  StreamingTV StreamingMovies MultipleLines leaving duration  \n",
       "0          No              No            No       0       31  \n",
       "1          No              No            No       0     1036  \n",
       "2          No              No            No       0      123  \n",
       "\n",
       "[3 rows x 22 columns]"
      ]
     },
     "execution_count": 46,
     "metadata": {},
     "output_type": "execute_result"
    }
   ],
   "source": [
    "df_all['duration'] = df_all.apply(duration, axis=1).dt.days\n",
    "df_all.head(3)"
   ]
  },
  {
   "cell_type": "markdown",
   "id": "9a51b50a",
   "metadata": {},
   "source": [
    "Два новых признака успешно добавлены в таблицу! \\\n",
    "На этом **преобработка завершена**. Перейдём к **исследовательскому анализу данных**."
   ]
  },
  {
   "cell_type": "markdown",
   "id": "d45d55f8",
   "metadata": {},
   "source": [
    "## Исследовательский анализ данных"
   ]
  },
  {
   "cell_type": "markdown",
   "id": "c8e6db33",
   "metadata": {},
   "source": [
    "Попробуем сделать дополнительные выводы о данных, более подробно исследовав группы клиентов. "
   ]
  },
  {
   "cell_type": "markdown",
   "id": "03c88450",
   "metadata": {},
   "source": [
    "### Лояльные клиенты"
   ]
  },
  {
   "cell_type": "markdown",
   "id": "52bd2ef2",
   "metadata": {},
   "source": [
    "Начнём с тех людей, которые всё ещё пользуются услугами компании."
   ]
  },
  {
   "cell_type": "code",
   "execution_count": 47,
   "id": "32790494",
   "metadata": {},
   "outputs": [
    {
     "name": "stdout",
     "output_type": "stream",
     "text": [
      "Процент лояльных клиентов на момент выгрузки данных: 84%\n"
     ]
    }
   ],
   "source": [
    "loyal = df_all.query('leaving == 0')\n",
    "print(f'Процент лояльных клиентов на момент выгрузки данных: {round(loyal.shape[0] / df_all.shape[0] * 100)}%')"
   ]
  },
  {
   "cell_type": "markdown",
   "id": "299ca763",
   "metadata": {},
   "source": [
    "Как видно, к 2020 году оператор потерял лишь 16% пользователей.  "
   ]
  },
  {
   "cell_type": "code",
   "execution_count": 48,
   "id": "82f78023",
   "metadata": {},
   "outputs": [
    {
     "data": {
      "text/plain": [
       "2013"
      ]
     },
     "execution_count": 48,
     "metadata": {},
     "output_type": "execute_result"
    }
   ],
   "source": [
    "df_all['BeginDate'].min().year"
   ]
  },
  {
   "cell_type": "markdown",
   "id": "9d3c4a7a",
   "metadata": {},
   "source": [
    "Учитывая то, что первый контракт заключён в 2013 году, результат неплохой. Но это число всё равно хотелось бы сократить. \\\n",
    "Взглянем на данные, а именно на **использование услуг клиентами**:"
   ]
  },
  {
   "cell_type": "code",
   "execution_count": 49,
   "id": "604915f2",
   "metadata": {},
   "outputs": [],
   "source": [
    "def service_use(data, show=True):\n",
    "    use_of_services = []\n",
    "    for service in services:\n",
    "        statistics = data[service].value_counts()\n",
    "        percentage = round(statistics[1] / data.shape[0] * 100)\n",
    "        use_of_services.append(percentage)\n",
    "        if show:\n",
    "            print(f'Услугой {service} пользуется {percentage}% лояльных клиентов')\n",
    "    return use_of_services"
   ]
  },
  {
   "cell_type": "code",
   "execution_count": 50,
   "id": "097bef56",
   "metadata": {},
   "outputs": [],
   "source": [
    "loyal_services = service_use(loyal, False)"
   ]
  },
  {
   "cell_type": "code",
   "execution_count": 51,
   "id": "0aa7c33a",
   "metadata": {},
   "outputs": [
    {
     "data": {
      "image/png": "[encoded data removed]",
      "text/plain": [
       "<Figure size 1080x360 with 1 Axes>"
      ]
     },
     "metadata": {
      "needs_background": "light"
     },
     "output_type": "display_data"
    }
   ],
   "source": [
    "fig = plt.figure(figsize = (15, 5))\n",
    "\n",
    "plt.bar(services, loyal_services)\n",
    "\n",
    "plt.title(\"Использование услуг лояльными клиентами\")\n",
    "\n",
    "plt.xlabel('service')\n",
    "plt.ylabel('percentage')\n",
    "plt.grid(True)\n",
    " \n",
    "plt.show()"
   ]
  },
  {
   "cell_type": "markdown",
   "id": "f8a41d53",
   "metadata": {},
   "source": [
    "Для необязательных сервисов результат очень хороший! Самые востребованные из них **тв**, **кино** и **мнококанальность для телефона**. \\\n",
    "Рассмотрим персональные данные:"
   ]
  },
  {
   "cell_type": "code",
   "execution_count": 52,
   "id": "d832ead6",
   "metadata": {},
   "outputs": [
    {
     "data": {
      "image/png": "[encoded data removed]",
      "text/plain": [
       "<Figure size 1152x288 with 3 Axes>"
      ]
     },
     "metadata": {
      "needs_background": "light"
     },
     "output_type": "display_data"
    }
   ],
   "source": [
    "plt.figure(figsize=(16, 4))\n",
    "\n",
    "\n",
    "plt.subplot(131)\n",
    "plt.grid(True)\n",
    "plt.xlabel('Пол')\n",
    "plt.ylabel('Частота')\n",
    "plt.hist(loyal['gender'])\n",
    "\n",
    "\n",
    "plt.subplot(132)\n",
    "plt.grid(True)\n",
    "plt.xlabel('Граждане старшего возраста')\n",
    "# plt.ylabel('Частота')\n",
    "plt.hist(loyal['SeniorCitizen'])\n",
    "\n",
    "plt.title('Персональные данные')\n",
    "\n",
    "plt.subplot(133)\n",
    "plt.grid(True)\n",
    "plt.xlabel('Дети')\n",
    "# plt.ylabel('Частота')\n",
    "plt.hist(loyal['Dependents'])\n",
    "\n",
    "plt.show()"
   ]
  },
  {
   "cell_type": "markdown",
   "id": "c6d061d7",
   "metadata": {},
   "source": [
    "**Мужчины и женщины разделены** ровно **пополам**, пенсионеров **чуть меньше 1000**, а клиентов без детей в **~2,5 раза** больше, чем с детьми. \\\n",
    "Теперь проанализируем длительность пользования услугами в сравнении с типом контракта:"
   ]
  },
  {
   "cell_type": "code",
   "execution_count": 53,
   "id": "f66ac85d",
   "metadata": {
    "scrolled": true
   },
   "outputs": [
    {
     "data": {
      "image/png": "[encoded data removed]",
      "text/plain": [
       "<Figure size 432x288 with 1 Axes>"
      ]
     },
     "metadata": {
      "needs_background": "light"
     },
     "output_type": "display_data"
    }
   ],
   "source": [
    "loyal['Type'].hist();"
   ]
  },
  {
   "cell_type": "markdown",
   "id": "3f2aa179",
   "metadata": {},
   "source": [
    "Месячные договоры **гораздо популярнее** годовых или 2-х годовых. "
   ]
  },
  {
   "cell_type": "code",
   "execution_count": 54,
   "id": "05de5a93",
   "metadata": {},
   "outputs": [
    {
     "data": {
      "text/plain": [
       "Type\n",
       "Month-to-month     500.477797\n",
       "One year          1193.392241\n",
       "Two year          1666.865297\n",
       "Name: duration, dtype: float64"
      ]
     },
     "execution_count": 54,
     "metadata": {},
     "output_type": "execute_result"
    }
   ],
   "source": [
    "loyal.groupby(['Type'])['duration'].mean()"
   ]
  },
  {
   "cell_type": "markdown",
   "id": "4102d8d7",
   "metadata": {},
   "source": [
    "Однако чем выше срок действия контракта, тем выше средняя длительность пользования. Разберёмся что к чему."
   ]
  },
  {
   "cell_type": "code",
   "execution_count": 55,
   "id": "c94699fd",
   "metadata": {},
   "outputs": [
    {
     "data": {
      "image/png": "[encoded data removed]",
      "text/plain": [
       "<Figure size 1152x288 with 3 Axes>"
      ]
     },
     "metadata": {
      "needs_background": "light"
     },
     "output_type": "display_data"
    }
   ],
   "source": [
    "plt.figure(figsize=(16, 4))\n",
    "\n",
    "\n",
    "plt.subplot(131)\n",
    "plt.grid(True)\n",
    "plt.title('Month-to-month')\n",
    "plt.xlabel('Длительность пользования')\n",
    "plt.ylabel('Частота')\n",
    "plt.hist(loyal.query('Type == \"Month-to-month\"')['duration'], bins=30)\n",
    "\n",
    "plt.subplot(132)\n",
    "plt.grid(True)\n",
    "plt.title('One year')\n",
    "plt.xlabel('Длительность пользования')\n",
    "# plt.ylabel('Частота')\n",
    "plt.hist(loyal.query('Type == \"One year\"')['duration'], bins=40)\n",
    "\n",
    "plt.subplot(133)\n",
    "plt.grid(True)\n",
    "plt.title('Two year')\n",
    "plt.xlabel('Длительность пользования')\n",
    "# plt.ylabel('Частота')\n",
    "plt.hist(loyal.query('Type == \"Two year\"')['duration'], bins=30)\n",
    "\n",
    "plt.show()"
   ]
  },
  {
   "cell_type": "markdown",
   "id": "6c6dae4b",
   "metadata": {},
   "source": [
    "- **Месяц**: много новых пользователей, но мало постоянных.\n",
    "- **Год**: одинаково для каждого срока.\n",
    "- **Два года**: мало новых клиентов, много постоянных."
   ]
  },
  {
   "cell_type": "markdown",
   "id": "0f4bdd83",
   "metadata": {},
   "source": [
    "Для лояльных клиентов все важные признаки мы рассмотрели. \\\n",
    "Перейдём к отточным."
   ]
  },
  {
   "cell_type": "markdown",
   "id": "78cd047f",
   "metadata": {},
   "source": [
    "### Отточные клиенты"
   ]
  },
  {
   "cell_type": "code",
   "execution_count": 56,
   "id": "6d9965de",
   "metadata": {},
   "outputs": [
    {
     "name": "stdout",
     "output_type": "stream",
     "text": [
      "Процент отточных клиентов на момент выгрузки данных: 16%\n"
     ]
    }
   ],
   "source": [
    "outflow = df_all.query('leaving == 1')\n",
    "print(f'Процент отточных клиентов на момент выгрузки данных: {round(outflow.shape[0] / df_all.shape[0] * 100)}%')"
   ]
  },
  {
   "cell_type": "code",
   "execution_count": 57,
   "id": "59b10921",
   "metadata": {},
   "outputs": [],
   "source": [
    "outflow_services = service_use(outflow, False)"
   ]
  },
  {
   "cell_type": "code",
   "execution_count": 58,
   "id": "e3caf173",
   "metadata": {},
   "outputs": [
    {
     "data": {
      "image/png": "[encoded data removed]",
      "text/plain": [
       "<Figure size 1080x360 with 1 Axes>"
      ]
     },
     "metadata": {
      "needs_background": "light"
     },
     "output_type": "display_data"
    }
   ],
   "source": [
    "fig = plt.figure(figsize = (15, 5))\n",
    "\n",
    "plt.bar(services, outflow_services)\n",
    "\n",
    "plt.title(\"Использование услуг отточными клиентами\")\n",
    "\n",
    "plt.xlabel('service')\n",
    "plt.ylabel('percentage')\n",
    "plt.grid(True)\n",
    " \n",
    "plt.show()"
   ]
  },
  {
   "cell_type": "markdown",
   "id": "146ad7f8",
   "metadata": {},
   "source": [
    "Уже видны значительные различия. Клиенты, разорвавшие контракты с нашим оператором связи, более активно пользовались дополнительными сервисами. Особенно выделяются: **OnlineBackup**, **DeviceProtection**, **StreamingTV**, **StreamingMovies**. \\\n",
    "Последние два пункта были и у лояльных клиентов, в отличие от **первого и второго**. Поэтому можно сделать предположение, что именно из-за этих пунктов компания теряет пользователей. \\\n",
    "Теперь покажем статистику по **персональным данным**."
   ]
  },
  {
   "cell_type": "code",
   "execution_count": 59,
   "id": "1d9bd791",
   "metadata": {},
   "outputs": [
    {
     "data": {
      "image/png": "[encoded data removed]",
      "text/plain": [
       "<Figure size 1152x288 with 3 Axes>"
      ]
     },
     "metadata": {
      "needs_background": "light"
     },
     "output_type": "display_data"
    }
   ],
   "source": [
    "plt.figure(figsize=(16, 4))\n",
    "\n",
    "\n",
    "plt.subplot(131)\n",
    "plt.grid(True)\n",
    "plt.xlabel('Пол')\n",
    "plt.ylabel('Частота')\n",
    "plt.hist(outflow['gender'])\n",
    "\n",
    "\n",
    "plt.subplot(132)\n",
    "plt.grid(True)\n",
    "plt.xlabel('Граждане старшего возраста')\n",
    "# plt.ylabel('Частота')\n",
    "plt.hist(outflow['SeniorCitizen'])\n",
    "\n",
    "plt.title('Персональные данные')\n",
    "\n",
    "plt.subplot(133)\n",
    "plt.grid(True)\n",
    "plt.xlabel('Дети')\n",
    "# plt.ylabel('Частота')\n",
    "plt.hist(outflow['Dependents'])\n",
    "\n",
    "plt.show()"
   ]
  },
  {
   "cell_type": "markdown",
   "id": "ed9a494b",
   "metadata": {},
   "source": [
    "Мужчин **незначительно больше**, **доля** пенсионеров **такая же**, а граждан **без детей в 2 раза больше**, чем с ними. \\\n",
    "Исходя из этого никаких выводов сделать, увы, не получится. \\\n",
    "Взглянем на типы контрактов."
   ]
  },
  {
   "cell_type": "code",
   "execution_count": 60,
   "id": "c69cc91c",
   "metadata": {},
   "outputs": [
    {
     "data": {
      "image/png": "[encoded data removed]",
      "text/plain": [
       "<Figure size 432x288 with 1 Axes>"
      ]
     },
     "metadata": {
      "needs_background": "light"
     },
     "output_type": "display_data"
    }
   ],
   "source": [
    "outflow['Type'].hist();"
   ]
  },
  {
   "cell_type": "markdown",
   "id": "28e805e8",
   "metadata": {},
   "source": [
    "Здесь число всех контрактов примерно одинаковое."
   ]
  },
  {
   "cell_type": "code",
   "execution_count": 61,
   "id": "b719dfbb",
   "metadata": {},
   "outputs": [
    {
     "data": {
      "text/plain": [
       "Type\n",
       "Month-to-month     751.331695\n",
       "One year           954.099042\n",
       "Two year          1086.220472\n",
       "Name: duration, dtype: float64"
      ]
     },
     "execution_count": 61,
     "metadata": {},
     "output_type": "execute_result"
    }
   ],
   "source": [
    "outflow.groupby(['Type'])['duration'].mean()"
   ]
  },
  {
   "cell_type": "markdown",
   "id": "4d90c8b4",
   "metadata": {},
   "source": [
    "Средняя длительность пользования услугами оператора **выше у месячных договоров**, но **ниже у остальных**."
   ]
  },
  {
   "cell_type": "code",
   "execution_count": 62,
   "id": "5f70d2e4",
   "metadata": {},
   "outputs": [
    {
     "data": {
      "image/png": "[encoded data removed]",
      "text/plain": [
       "<Figure size 1152x288 with 3 Axes>"
      ]
     },
     "metadata": {
      "needs_background": "light"
     },
     "output_type": "display_data"
    }
   ],
   "source": [
    "plt.figure(figsize=(16, 4))\n",
    "\n",
    "\n",
    "plt.subplot(131)\n",
    "plt.grid(True)\n",
    "plt.title('Month-to-month')\n",
    "plt.xlabel('Длительность пользования')\n",
    "plt.ylabel('Частота')\n",
    "plt.hist(outflow.query('Type == \"Month-to-month\"')['duration'], bins=30)\n",
    "\n",
    "plt.subplot(132)\n",
    "plt.grid(True)\n",
    "plt.title('One year')\n",
    "plt.xlabel('Длительность пользования')\n",
    "# plt.ylabel('Частота')\n",
    "plt.hist(outflow.query('Type == \"One year\"')['duration'], bins=30)\n",
    "\n",
    "plt.subplot(133)\n",
    "plt.grid(True)\n",
    "plt.title('Two year')\n",
    "plt.xlabel('Длительность пользования')\n",
    "# plt.ylabel('Частота')\n",
    "plt.hist(outflow.query('Type == \"Two year\"')['duration'], bins=30)\n",
    "\n",
    "plt.show()"
   ]
  },
  {
   "cell_type": "markdown",
   "id": "82621f09",
   "metadata": {},
   "source": [
    "У **одно-** и **двухгодовых** контрактов графики одинаковые (на обоих преобладают клиенты со сроком пользования **от 500 до 1000 дней**). В случае с **месячными договорами** всё также, но **побольше новых пользователей**."
   ]
  },
  {
   "cell_type": "markdown",
   "id": "e704de2f",
   "metadata": {},
   "source": [
    "Теперь рассмотрим ещё один параметр: количество уходов в течении времени."
   ]
  },
  {
   "cell_type": "code",
   "execution_count": 63,
   "id": "41a0a690",
   "metadata": {},
   "outputs": [],
   "source": [
    "# изменим тип данных\n",
    "outflow.loc[:, 'EndDate'] = pd.to_datetime(outflow.loc[:, 'EndDate'])"
   ]
  },
  {
   "cell_type": "code",
   "execution_count": 64,
   "id": "e242c4fd",
   "metadata": {},
   "outputs": [
    {
     "data": {
      "image/png": "[encoded data removed]",
      "text/plain": [
       "<Figure size 1080x288 with 1 Axes>"
      ]
     },
     "metadata": {
      "needs_background": "light"
     },
     "output_type": "display_data"
    }
   ],
   "source": [
    "# нарисуем график\n",
    "month_outflow = outflow['EndDate'].dt.normalize()\n",
    "\n",
    "plt.title('Статистика уходов по месяцам')\n",
    "plt.xlabel('Дата')\n",
    "plt.ylabel('Количество')\n",
    "\n",
    "month_outflow.hist(figsize=(15, 4), bins=60);"
   ]
  },
  {
   "cell_type": "markdown",
   "id": "e2dd13e9",
   "metadata": {},
   "source": [
    "С каждым годом уходов всё больше. Также присутствует несколько пиковых моментов, когда компания теряет больше клиентов, чем обычно. Однако вполне возможно, что это компенсируется приходом новых. Давайте проверим это."
   ]
  },
  {
   "cell_type": "code",
   "execution_count": 65,
   "id": "ed66bb4b",
   "metadata": {},
   "outputs": [],
   "source": [
    "new_clients = df_all['BeginDate']\n",
    "new_clients = new_clients.dt.normalize()"
   ]
  },
  {
   "cell_type": "code",
   "execution_count": 66,
   "id": "c92ecfd9",
   "metadata": {},
   "outputs": [
    {
     "data": {
      "image/png": "[encoded data removed]",
      "text/plain": [
       "<Figure size 1080x432 with 1 Axes>"
      ]
     },
     "metadata": {
      "needs_background": "light"
     },
     "output_type": "display_data"
    }
   ],
   "source": [
    "plt.figure(figsize=(15, 6))\n",
    "\n",
    "plt.title('Пользовательская статистика')\n",
    "plt.xlabel('Дата')\n",
    "plt.ylabel('Количество')\n",
    "plt.grid(True)\n",
    "\n",
    "plt.hist(new_clients, bins=60, alpha = 0.5, label='новые клиенты');\n",
    "plt.hist(month_outflow, bins=60, alpha = 0.5, label='уходы');\n",
    "\n",
    "plt.legend(loc='upper right')\n",
    "plt.show()"
   ]
  },
  {
   "cell_type": "markdown",
   "id": "d01e2b3a",
   "metadata": {},
   "source": [
    "Здесь всё уже не так плачевно. Число уходов действительно учеличилось, но новые контракты компенсируют потери. "
   ]
  },
  {
   "cell_type": "markdown",
   "id": "31bc887c",
   "metadata": {},
   "source": [
    "### Корреляция признаков"
   ]
  },
  {
   "cell_type": "markdown",
   "id": "9649e783",
   "metadata": {},
   "source": [
    "Теперь с помощью библиотеки **phik** построим корреляционную матрицу."
   ]
  },
  {
   "cell_type": "code",
   "execution_count": 67,
   "id": "33cb6c74",
   "metadata": {},
   "outputs": [
    {
     "name": "stdout",
     "output_type": "stream",
     "text": [
      "interval columns not set, guessing: ['MonthlyCharges', 'TotalCharges', 'SeniorCitizen', 'leaving', 'duration']\n"
     ]
    }
   ],
   "source": [
    "phik_corr = df_all.drop(['customerID', 'BeginDate', 'EndDate'], axis=1).phik_matrix()"
   ]
  },
  {
   "cell_type": "code",
   "execution_count": 68,
   "id": "e108ae8f",
   "metadata": {},
   "outputs": [
    {
     "data": {
      "image/png": "[encoded data removed]",
      "text/plain": [
       "<Figure size 1440x720 with 2 Axes>"
      ]
     },
     "metadata": {
      "needs_background": "light"
     },
     "output_type": "display_data"
    }
   ],
   "source": [
    "plot_correlation_matrix(phik_corr.values, \n",
    "                        x_labels=phik_corr.columns[::-1],\n",
    "                        y_labels=phik_corr.index[::-1],\n",
    "                        vmin=0, vmax=1, color_map=\"Greens\",\n",
    "                        title=r\"correlation $\\phi_K$\",\n",
    "                        figsize=(20, 10))"
   ]
  },
  {
   "cell_type": "markdown",
   "id": "f58c23ab",
   "metadata": {},
   "source": [
    "На этой таблице можно увидеть много скрытых взаимосвязей между признаками: например, стриминговые сервисы влияют на размер ежемесячной платы. Взаимосвязаны также и некоторые сервисы. Высоких коэффициентов корреляции **с целевым признаком** нет ни у кого."
   ]
  },
  {
   "cell_type": "markdown",
   "id": "2f2235ac",
   "metadata": {},
   "source": [
    "### Вывод по EDA"
   ]
  },
  {
   "cell_type": "markdown",
   "id": "d47e7c41",
   "metadata": {},
   "source": [
    "Мы рассмотрели много параметров, разделив данные на классы клиентов (**лояльные** и **отточные**). **Отобразили признаки на графиках** и сделали всевозможные выводы касаемо того, что **влияет на отказ пользователя от услуг** нашего оператора связи. Также было сделано **предположение** о том, что клиенты **недовольны дополнительными сервисами**, так как среди **отточных** клиентов был замечен **повышенный интерес** ко многим из них. \\\n",
    "Перейдём к **подготовке признаков** для обучения моделей."
   ]
  },
  {
   "cell_type": "markdown",
   "id": "697c100e",
   "metadata": {},
   "source": [
    "## Подготовка признаков"
   ]
  },
  {
   "cell_type": "markdown",
   "id": "328f77ed",
   "metadata": {},
   "source": [
    "### Разделение на выборки"
   ]
  },
  {
   "cell_type": "markdown",
   "id": "623630d9",
   "metadata": {},
   "source": [
    "Выделим **целевой признак** и выкинем **избыточные признаки**: **customerID**, **BeginDate**, **EndDate**."
   ]
  },
  {
   "cell_type": "code",
   "execution_count": 70,
   "id": "5d968e7d",
   "metadata": {},
   "outputs": [],
   "source": [
    "features = df_all.drop(['customerID', 'BeginDate', 'EndDate', 'leaving'], axis=1)\n",
    "target = df_all['leaving']\n",
    "\n",
    "features_train, features_test, target_train, target_test = train_test_split(\n",
    "    features, target, test_size=0.25, random_state=RANDOM_STATE\n",
    ")"
   ]
  },
  {
   "cell_type": "markdown",
   "id": "3febf384",
   "metadata": {},
   "source": [
    "Проверим корректность разбиения:"
   ]
  },
  {
   "cell_type": "code",
   "execution_count": 69,
   "id": "6ee80a59",
   "metadata": {},
   "outputs": [
    {
     "name": "stdout",
     "output_type": "stream",
     "text": [
      "Размер обучающей выборки: 5282 или 74.99645037626011 %\n",
      "Размер тестовой выборки: 1761 или 25.003549623739886 %\n"
     ]
    }
   ],
   "source": [
    "print('Размер обучающей выборки:', len(features_train), 'или', len(features_train) / len(df_all) * 100, '%')\n",
    "print('Размер тестовой выборки:', len(features_test), 'или', len(features_test) / len(df_all) * 100, '%')"
   ]
  },
  {
   "cell_type": "markdown",
   "id": "072bad92",
   "metadata": {},
   "source": [
    "Выделим категориальные и численные признаки для кодирования и масштабирования перед обучением моделей:"
   ]
  },
  {
   "cell_type": "code",
   "execution_count": 70,
   "id": "3040354e",
   "metadata": {},
   "outputs": [
    {
     "data": {
      "text/plain": [
       "['Type',\n",
       " 'PaperlessBilling',\n",
       " 'PaymentMethod',\n",
       " 'gender',\n",
       " 'Partner',\n",
       " 'Dependents',\n",
       " 'InternetService',\n",
       " 'OnlineSecurity',\n",
       " 'OnlineBackup',\n",
       " 'DeviceProtection',\n",
       " 'TechSupport',\n",
       " 'StreamingTV',\n",
       " 'StreamingMovies',\n",
       " 'MultipleLines']"
      ]
     },
     "execution_count": 70,
     "metadata": {},
     "output_type": "execute_result"
    }
   ],
   "source": [
    "# категориальные признаки\n",
    "ohe_features = features_train.select_dtypes(include='object').columns.to_list()\n",
    "ohe_features"
   ]
  },
  {
   "cell_type": "code",
   "execution_count": 71,
   "id": "c411674c",
   "metadata": {},
   "outputs": [
    {
     "data": {
      "text/plain": [
       "['MonthlyCharges', 'TotalCharges', 'duration']"
      ]
     },
     "execution_count": 71,
     "metadata": {},
     "output_type": "execute_result"
    }
   ],
   "source": [
    "#численные признаки\n",
    "num_features = features_train.select_dtypes(exclude='object').columns.to_list()\n",
    "\n",
    "# 'SeniorCitizen' — категориальный бинарный признак.\n",
    "num_features.remove('SeniorCitizen') \n",
    "num_features"
   ]
  },
  {
   "cell_type": "markdown",
   "id": "17377be9",
   "metadata": {},
   "source": [
    "Наконец, перейдём к делу."
   ]
  },
  {
   "cell_type": "markdown",
   "id": "1cd39ec6",
   "metadata": {},
   "source": [
    "## Обучение моделей"
   ]
  },
  {
   "cell_type": "markdown",
   "id": "a0038877",
   "metadata": {},
   "source": [
    "### Логистическая регрессия"
   ]
  },
  {
   "cell_type": "markdown",
   "id": "c46e60af",
   "metadata": {},
   "source": [
    "Выполним кодирование и масштабирование, а также перебор гиперпараметров модели логистической регрессии, используя **make_column_transformer** и **make_pipeline**."
   ]
  },
  {
   "cell_type": "code",
   "execution_count": 72,
   "id": "fef359e9",
   "metadata": {},
   "outputs": [],
   "source": [
    "features_train_lr = features_train.copy()\n",
    "features_test_lr = features_test.copy()"
   ]
  },
  {
   "cell_type": "code",
   "execution_count": 73,
   "id": "f3fdb2ab",
   "metadata": {},
   "outputs": [],
   "source": [
    "col_transformer_lr = make_column_transformer(\n",
    "    (\n",
    "        OneHotEncoder(drop='first', handle_unknown='ignore'),\n",
    "        ohe_features\n",
    "    ),\n",
    "    (\n",
    "        StandardScaler(), \n",
    "        num_features\n",
    "    ),\n",
    "    remainder='passthrough'\n",
    ")"
   ]
  },
  {
   "cell_type": "code",
   "execution_count": 125,
   "id": "9bd66c9c",
   "metadata": {},
   "outputs": [
    {
     "name": "stdout",
     "output_type": "stream",
     "text": [
      "best_score: 0.7696108127217427\n",
      "best_params: {'logisticregression__max_iter': 50, 'logisticregression__solver': 'lbfgs'}\n",
      "CPU times: user 8.12 s, sys: 14 s, total: 22.2 s\n",
      "Wall time: 22.2 s\n"
     ]
    }
   ],
   "source": [
    "%%time\n",
    "\n",
    "model_lr = LogisticRegression(class_weight='balanced', random_state=RANDOM_STATE)\n",
    "\n",
    "pipeline_lr = make_pipeline(col_transformer_lr, model_lr)\n",
    "\n",
    "param_grid_lr = {\n",
    "    'logisticregression__solver': ['lbfgs', 'liblinear'],\n",
    "    'logisticregression__max_iter': [50, 100, 150]\n",
    "}\n",
    "\n",
    "gs_lr = GridSearchCV(\n",
    "    pipeline_lr, \n",
    "    param_grid=param_grid_lr, \n",
    "    scoring='roc_auc', \n",
    "    n_jobs=-1\n",
    ")\n",
    "\n",
    "gs_lr.fit(features_train_lr, target_train)\n",
    "\n",
    "\n",
    "gs_lr_best_score = gs_lr.best_score_\n",
    "gs_lr_best_params = gs_lr.best_params_\n",
    "\n",
    "# лучшее значение RMSE на кросс-валидации\n",
    "print(f'best_score: {gs_lr_best_score}')\n",
    "# лучшие гиперпараметры\n",
    "print(f'best_params: {gs_lr_best_params}')"
   ]
  },
  {
   "cell_type": "markdown",
   "id": "c3c2e3f6",
   "metadata": {},
   "source": [
    "Для первой модели результат хороший, попробуем его улучшить."
   ]
  },
  {
   "cell_type": "markdown",
   "id": "cb46545d",
   "metadata": {},
   "source": [
    "### Случайный лес"
   ]
  },
  {
   "cell_type": "markdown",
   "id": "8ec1d846",
   "metadata": {},
   "source": [
    "Здесь будем действовать также, но не будем применять масштабирование."
   ]
  },
  {
   "cell_type": "code",
   "execution_count": 75,
   "id": "030afcff",
   "metadata": {},
   "outputs": [],
   "source": [
    "features_train_rf = features_train.copy()\n",
    "features_test_rf = features_test.copy()"
   ]
  },
  {
   "cell_type": "code",
   "execution_count": 82,
   "id": "e1c82206",
   "metadata": {},
   "outputs": [
    {
     "name": "stdout",
     "output_type": "stream",
     "text": [
      "best_score: 0.819788870267196\n",
      "best_params: {'randomforestclassifier__n_estimators': 150, 'randomforestclassifier__min_samples_split': 5, 'randomforestclassifier__min_samples_leaf': 5, 'randomforestclassifier__max_depth': 11}\n",
      "CPU times: user 29.8 s, sys: 162 ms, total: 30 s\n",
      "Wall time: 30.1 s\n"
     ]
    }
   ],
   "source": [
    "%%time\n",
    "\n",
    "col_transformer_rf= make_column_transformer(\n",
    "    (\n",
    "        OneHotEncoder(drop='first', handle_unknown='ignore'), \n",
    "        ohe_features\n",
    "    ),\n",
    "    remainder='passthrough'\n",
    ")\n",
    "\n",
    "model_rf = RandomForestClassifier(class_weight='balanced', random_state=RANDOM_STATE)\n",
    "\n",
    "pipline_rf = make_pipeline(col_transformer_rf, model_rf)\n",
    "\n",
    "param_grid_rf = {\n",
    "    'randomforestclassifier__n_estimators': range(50, 251, 50),\n",
    "    'randomforestclassifier__max_depth': range(1, 16),\n",
    "    'randomforestclassifier__min_samples_split': range(1, 6),\n",
    "    'randomforestclassifier__min_samples_leaf': range(1, 6)\n",
    "}\n",
    "\n",
    "gs_rf = RandomizedSearchCV(\n",
    "    pipline_rf, \n",
    "    param_distributions=param_grid_rf, \n",
    "    scoring='roc_auc', \n",
    "    n_jobs=-1, \n",
    "    random_state=RANDOM_STATE\n",
    ")\n",
    "\n",
    "gs_rf.fit(features_train_rf, target_train)\n",
    "\n",
    "gs_rf_best_score = gs_rf.best_score_\n",
    "gs_rf_best_params = gs_rf.best_params_\n",
    "print(f'best_score: {gs_rf_best_score}')\n",
    "print(f'best_params: {gs_rf_best_params}')"
   ]
  },
  {
   "cell_type": "markdown",
   "id": "ac6b895f",
   "metadata": {},
   "source": [
    "Теперь перейдём к бустингу."
   ]
  },
  {
   "cell_type": "markdown",
   "id": "15175c7b",
   "metadata": {},
   "source": [
    "### Градиентный бустинг"
   ]
  },
  {
   "cell_type": "markdown",
   "id": "b0e94eb7",
   "metadata": {},
   "source": [
    "Обучим модель на исходных признаках, так как CatBoostClassifier работает с категориальными переменными напрямую."
   ]
  },
  {
   "cell_type": "code",
   "execution_count": 88,
   "id": "3e2b3a9c",
   "metadata": {
    "scrolled": true
   },
   "outputs": [
    {
     "name": "stdout",
     "output_type": "stream",
     "text": [
      "0:\tlearn: 0.6794997\ttotal: 10.5ms\tremaining: 5.24s\n",
      "250:\tlearn: 0.3965062\ttotal: 1.83s\tremaining: 1.81s\n",
      "499:\tlearn: 0.2949555\ttotal: 3.59s\tremaining: 0us\n",
      "0:\tlearn: 0.6769341\ttotal: 9.29ms\tremaining: 4.64s\n",
      "250:\tlearn: 0.3918772\ttotal: 1.59s\tremaining: 1.58s\n",
      "499:\tlearn: 0.2847081\ttotal: 3.37s\tremaining: 0us\n",
      "0:\tlearn: 0.6765698\ttotal: 5.71ms\tremaining: 2.85s\n",
      "250:\tlearn: 0.4089652\ttotal: 1.46s\tremaining: 1.45s\n",
      "499:\tlearn: 0.2950718\ttotal: 3.21s\tremaining: 0us\n",
      "0:\tlearn: 0.6779007\ttotal: 10.2ms\tremaining: 5.11s\n",
      "250:\tlearn: 0.4057871\ttotal: 1.9s\tremaining: 1.88s\n",
      "499:\tlearn: 0.2950074\ttotal: 4.05s\tremaining: 0us\n",
      "0:\tlearn: 0.6774274\ttotal: 6.5ms\tremaining: 3.25s\n",
      "250:\tlearn: 0.4012448\ttotal: 1.57s\tremaining: 1.55s\n",
      "499:\tlearn: 0.2980954\ttotal: 3.2s\tremaining: 0us\n",
      "0:\tlearn: 0.6667330\ttotal: 9.7ms\tremaining: 4.84s\n",
      "250:\tlearn: 0.2855283\ttotal: 1.68s\tremaining: 1.67s\n",
      "499:\tlearn: 0.1767586\ttotal: 3.28s\tremaining: 0us\n",
      "0:\tlearn: 0.6618294\ttotal: 6.18ms\tremaining: 3.08s\n",
      "250:\tlearn: 0.2780974\ttotal: 1.62s\tremaining: 1.61s\n",
      "499:\tlearn: 0.1658830\ttotal: 3.28s\tremaining: 0us\n",
      "0:\tlearn: 0.6610976\ttotal: 11.9ms\tremaining: 5.96s\n",
      "250:\tlearn: 0.2915484\ttotal: 1.81s\tremaining: 1.8s\n",
      "499:\tlearn: 0.1810116\ttotal: 3.43s\tremaining: 0us\n",
      "0:\tlearn: 0.6636822\ttotal: 11.3ms\tremaining: 5.63s\n",
      "250:\tlearn: 0.2911375\ttotal: 1.6s\tremaining: 1.59s\n",
      "499:\tlearn: 0.1848153\ttotal: 3.37s\tremaining: 0us\n",
      "0:\tlearn: 0.6627538\ttotal: 5.79ms\tremaining: 2.89s\n",
      "250:\tlearn: 0.2947855\ttotal: 1.58s\tremaining: 1.57s\n",
      "499:\tlearn: 0.1904140\ttotal: 3.39s\tremaining: 0us\n",
      "0:\tlearn: 0.6794997\ttotal: 9.69ms\tremaining: 7.25s\n",
      "250:\tlearn: 0.3965062\ttotal: 1.79s\tremaining: 3.55s\n",
      "500:\tlearn: 0.2947884\ttotal: 3.85s\tremaining: 1.91s\n",
      "749:\tlearn: 0.2332328\ttotal: 5.75s\tremaining: 0us\n",
      "0:\tlearn: 0.6769341\ttotal: 5.72ms\tremaining: 4.28s\n",
      "250:\tlearn: 0.3918772\ttotal: 1.6s\tremaining: 3.18s\n",
      "500:\tlearn: 0.2843975\ttotal: 3.34s\tremaining: 1.66s\n",
      "749:\tlearn: 0.2193993\ttotal: 5.21s\tremaining: 0us\n",
      "0:\tlearn: 0.6765698\ttotal: 6.98ms\tremaining: 5.23s\n",
      "250:\tlearn: 0.4089652\ttotal: 1.52s\tremaining: 3.02s\n",
      "500:\tlearn: 0.2947156\ttotal: 3.05s\tremaining: 1.51s\n",
      "749:\tlearn: 0.2285824\ttotal: 4.81s\tremaining: 0us\n",
      "0:\tlearn: 0.6779007\ttotal: 9.27ms\tremaining: 6.94s\n",
      "250:\tlearn: 0.4057871\ttotal: 1.76s\tremaining: 3.5s\n",
      "500:\tlearn: 0.2948655\ttotal: 3.6s\tremaining: 1.79s\n",
      "749:\tlearn: 0.2260626\ttotal: 5.15s\tremaining: 0us\n",
      "0:\tlearn: 0.6774274\ttotal: 6.01ms\tremaining: 4.5s\n",
      "250:\tlearn: 0.4012448\ttotal: 1.53s\tremaining: 3.04s\n",
      "500:\tlearn: 0.2978136\ttotal: 3.32s\tremaining: 1.65s\n",
      "749:\tlearn: 0.2331879\ttotal: 5.15s\tremaining: 0us\n",
      "0:\tlearn: 0.6667330\ttotal: 12.1ms\tremaining: 9.08s\n",
      "250:\tlearn: 0.2855283\ttotal: 1.57s\tremaining: 3.12s\n",
      "500:\tlearn: 0.1766115\ttotal: 3.49s\tremaining: 1.73s\n",
      "749:\tlearn: 0.1225193\ttotal: 5.32s\tremaining: 0us\n",
      "0:\tlearn: 0.6618294\ttotal: 5.92ms\tremaining: 4.43s\n",
      "250:\tlearn: 0.2780974\ttotal: 1.71s\tremaining: 3.39s\n",
      "500:\tlearn: 0.1657632\ttotal: 3.34s\tremaining: 1.66s\n",
      "749:\tlearn: 0.1113416\ttotal: 5.51s\tremaining: 0us\n",
      "0:\tlearn: 0.6610976\ttotal: 9.97ms\tremaining: 7.47s\n",
      "250:\tlearn: 0.2915484\ttotal: 1.91s\tremaining: 3.8s\n",
      "500:\tlearn: 0.1805279\ttotal: 3.84s\tremaining: 1.91s\n",
      "749:\tlearn: 0.1223327\ttotal: 5.75s\tremaining: 0us\n",
      "0:\tlearn: 0.6636822\ttotal: 6.69ms\tremaining: 5.01s\n",
      "250:\tlearn: 0.2911375\ttotal: 1.84s\tremaining: 3.65s\n",
      "500:\tlearn: 0.1844020\ttotal: 3.69s\tremaining: 1.83s\n",
      "749:\tlearn: 0.1248846\ttotal: 5.51s\tremaining: 0us\n",
      "0:\tlearn: 0.6627538\ttotal: 9.04ms\tremaining: 6.77s\n",
      "250:\tlearn: 0.2947855\ttotal: 1.76s\tremaining: 3.5s\n",
      "500:\tlearn: 0.1900770\ttotal: 3.53s\tremaining: 1.75s\n",
      "749:\tlearn: 0.1315292\ttotal: 5.43s\tremaining: 0us\n",
      "0:\tlearn: 0.6794997\ttotal: 12.3ms\tremaining: 6.12s\n",
      "250:\tlearn: 0.2024666\ttotal: 7.56s\tremaining: 7.5s\n",
      "499:\tlearn: 0.0949213\ttotal: 18.2s\tremaining: 0us\n",
      "0:\tlearn: 0.6769341\ttotal: 10.6ms\tremaining: 5.29s\n",
      "250:\tlearn: 0.1893098\ttotal: 7.49s\tremaining: 7.43s\n",
      "499:\tlearn: 0.0845229\ttotal: 17.4s\tremaining: 0us\n",
      "0:\tlearn: 0.6721942\ttotal: 11.5ms\tremaining: 5.74s\n",
      "250:\tlearn: 0.2121873\ttotal: 6.97s\tremaining: 6.91s\n",
      "499:\tlearn: 0.0925729\ttotal: 16.9s\tremaining: 0us\n",
      "0:\tlearn: 0.6741265\ttotal: 18.9ms\tremaining: 9.45s\n",
      "250:\tlearn: 0.2066121\ttotal: 6.55s\tremaining: 6.5s\n",
      "499:\tlearn: 0.0919657\ttotal: 16.2s\tremaining: 0us\n",
      "0:\tlearn: 0.6732449\ttotal: 22.1ms\tremaining: 11s\n",
      "250:\tlearn: 0.2116221\ttotal: 7.52s\tremaining: 7.46s\n",
      "499:\tlearn: 0.0977458\ttotal: 17.6s\tremaining: 0us\n",
      "0:\tlearn: 0.6667330\ttotal: 12.5ms\tremaining: 6.24s\n",
      "250:\tlearn: 0.0960605\ttotal: 8.97s\tremaining: 8.9s\n",
      "499:\tlearn: 0.0347218\ttotal: 19.8s\tremaining: 0us\n",
      "0:\tlearn: 0.6618294\ttotal: 9.11ms\tremaining: 4.54s\n",
      "250:\tlearn: 0.0825587\ttotal: 8.77s\tremaining: 8.7s\n",
      "499:\tlearn: 0.0311577\ttotal: 18.8s\tremaining: 0us\n",
      "0:\tlearn: 0.6528398\ttotal: 25.2ms\tremaining: 12.6s\n",
      "250:\tlearn: 0.0915021\ttotal: 10.1s\tremaining: 9.97s\n",
      "499:\tlearn: 0.0320044\ttotal: 20s\tremaining: 0us\n",
      "0:\tlearn: 0.6565008\ttotal: 21.6ms\tremaining: 10.8s\n",
      "250:\tlearn: 0.0936781\ttotal: 10.2s\tremaining: 10.1s\n",
      "499:\tlearn: 0.0350019\ttotal: 20.9s\tremaining: 0us\n",
      "0:\tlearn: 0.6547857\ttotal: 21.3ms\tremaining: 10.6s\n",
      "250:\tlearn: 0.0923181\ttotal: 8.65s\tremaining: 8.58s\n",
      "499:\tlearn: 0.0343205\ttotal: 18.4s\tremaining: 0us\n",
      "0:\tlearn: 0.6794997\ttotal: 15.3ms\tremaining: 11.5s\n",
      "250:\tlearn: 0.2024666\ttotal: 7.57s\tremaining: 15.1s\n",
      "500:\tlearn: 0.0944457\ttotal: 18.2s\tremaining: 9.04s\n",
      "749:\tlearn: 0.0553889\ttotal: 29.3s\tremaining: 0us\n",
      "0:\tlearn: 0.6769341\ttotal: 9.1ms\tremaining: 6.82s\n",
      "250:\tlearn: 0.1893098\ttotal: 7.66s\tremaining: 15.2s\n",
      "500:\tlearn: 0.0842905\ttotal: 17.8s\tremaining: 8.87s\n",
      "749:\tlearn: 0.0480280\ttotal: 28.6s\tremaining: 0us\n",
      "0:\tlearn: 0.6721942\ttotal: 21.1ms\tremaining: 15.8s\n",
      "250:\tlearn: 0.2121873\ttotal: 7.2s\tremaining: 14.3s\n",
      "500:\tlearn: 0.0924217\ttotal: 18s\tremaining: 8.97s\n",
      "749:\tlearn: 0.0522019\ttotal: 28.3s\tremaining: 0us\n",
      "0:\tlearn: 0.6741265\ttotal: 18.7ms\tremaining: 14s\n",
      "250:\tlearn: 0.2066121\ttotal: 8.2s\tremaining: 16.3s\n",
      "500:\tlearn: 0.0917855\ttotal: 19.6s\tremaining: 9.74s\n",
      "749:\tlearn: 0.0516631\ttotal: 28.9s\tremaining: 0us\n",
      "0:\tlearn: 0.6732449\ttotal: 17.7ms\tremaining: 13.3s\n",
      "250:\tlearn: 0.2116221\ttotal: 5.94s\tremaining: 11.8s\n",
      "500:\tlearn: 0.0974625\ttotal: 14.1s\tremaining: 7s\n",
      "749:\tlearn: 0.0574911\ttotal: 22.9s\tremaining: 0us\n",
      "0:\tlearn: 0.6667330\ttotal: 6.99ms\tremaining: 5.23s\n",
      "250:\tlearn: 0.0960605\ttotal: 6.65s\tremaining: 13.2s\n",
      "500:\tlearn: 0.0345471\ttotal: 14.7s\tremaining: 7.3s\n",
      "749:\tlearn: 0.0182301\ttotal: 23.3s\tremaining: 0us\n",
      "0:\tlearn: 0.6618294\ttotal: 6.05ms\tremaining: 4.54s\n",
      "250:\tlearn: 0.0825587\ttotal: 7.42s\tremaining: 14.7s\n",
      "500:\tlearn: 0.0310275\ttotal: 16.7s\tremaining: 8.29s\n",
      "749:\tlearn: 0.0171903\ttotal: 25.8s\tremaining: 0us\n",
      "0:\tlearn: 0.6528398\ttotal: 13.7ms\tremaining: 10.3s\n",
      "250:\tlearn: 0.0915021\ttotal: 8.51s\tremaining: 16.9s\n",
      "500:\tlearn: 0.0319490\ttotal: 17.7s\tremaining: 8.82s\n",
      "749:\tlearn: 0.0175138\ttotal: 27.1s\tremaining: 0us\n",
      "0:\tlearn: 0.6565008\ttotal: 20.6ms\tremaining: 15.4s\n",
      "250:\tlearn: 0.0936781\ttotal: 9.63s\tremaining: 19.1s\n",
      "500:\tlearn: 0.0348842\ttotal: 19.9s\tremaining: 9.89s\n",
      "749:\tlearn: 0.0196537\ttotal: 30.1s\tremaining: 0us\n",
      "0:\tlearn: 0.6547857\ttotal: 24.8ms\tremaining: 18.6s\n",
      "250:\tlearn: 0.0923181\ttotal: 7.57s\tremaining: 15s\n",
      "500:\tlearn: 0.0342141\ttotal: 18s\tremaining: 8.95s\n",
      "749:\tlearn: 0.0183025\ttotal: 28.2s\tremaining: 0us\n",
      "0:\tlearn: 0.6642794\ttotal: 11.7ms\tremaining: 8.8s\n",
      "250:\tlearn: 0.3021850\ttotal: 2.59s\tremaining: 5.15s\n",
      "500:\tlearn: 0.1955001\ttotal: 5.18s\tremaining: 2.58s\n",
      "749:\tlearn: 0.1396063\ttotal: 7.92s\tremaining: 0us\n",
      "best_score: 0.8951164946257123\n",
      "best_params: {'depth': 5, 'iterations': 750, 'learning_rate': 0.1}\n",
      "CPU times: user 9min 4s, sys: 8.95 s, total: 9min 13s\n",
      "Wall time: 10min 23s\n"
     ]
    }
   ],
   "source": [
    "%%time\n",
    "\n",
    "model_cat = CatBoostClassifier(auto_class_weights='Balanced', random_state=RANDOM_STATE)\n",
    "\n",
    "param_grid_cat = {\n",
    "    'iterations': [500, 750],\n",
    "    'depth': [5, 10],\n",
    "    'learning_rate': [0.05, 0.1]\n",
    "}\n",
    "\n",
    "gs_cat = GridSearchCV(\n",
    "    model_cat,\n",
    "    param_grid=param_grid_cat, \n",
    "    scoring='roc_auc', \n",
    "    n_jobs=-1\n",
    ")\n",
    "\n",
    "gs_cat.fit(features_train, target_train, cat_features=ohe_features, verbose=250)\n",
    "\n",
    "gs_cat_best_score = gs_cat.best_score_\n",
    "gs_cat_best_params = gs_cat.best_params_\n",
    "print(f'best_score: {gs_cat_best_score}')\n",
    "print(f'best_params: {gs_cat_best_params}')"
   ]
  },
  {
   "cell_type": "markdown",
   "id": "df2cf963",
   "metadata": {},
   "source": [
    "Необходимая граница метрики AUC-ROC достигнута!"
   ]
  },
  {
   "cell_type": "markdown",
   "id": "5979c312",
   "metadata": {},
   "source": [
    "### Результаты"
   ]
  },
  {
   "cell_type": "markdown",
   "id": "68368ae3",
   "metadata": {},
   "source": [
    "Запишем получившиеся результаты в таблицу."
   ]
  },
  {
   "cell_type": "code",
   "execution_count": 90,
   "id": "e0ba34e3",
   "metadata": {},
   "outputs": [
    {
     "data": {
      "text/html": [
       "<div>\n",
       "<style scoped>\n",
       "    .dataframe tbody tr th:only-of-type {\n",
       "        vertical-align: middle;\n",
       "    }\n",
       "\n",
       "    .dataframe tbody tr th {\n",
       "        vertical-align: top;\n",
       "    }\n",
       "\n",
       "    .dataframe thead th {\n",
       "        text-align: right;\n",
       "    }\n",
       "</style>\n",
       "<table border=\"1\" class=\"dataframe\">\n",
       "  <thead>\n",
       "    <tr style=\"text-align: right;\">\n",
       "      <th></th>\n",
       "      <th>AUC-ROC</th>\n",
       "    </tr>\n",
       "  </thead>\n",
       "  <tbody>\n",
       "    <tr>\n",
       "      <th>LogisticRegression</th>\n",
       "      <td>0.769611</td>\n",
       "    </tr>\n",
       "    <tr>\n",
       "      <th>RandomForestRegressor</th>\n",
       "      <td>0.819789</td>\n",
       "    </tr>\n",
       "    <tr>\n",
       "      <th>CatBoostClassifier</th>\n",
       "      <td>0.895116</td>\n",
       "    </tr>\n",
       "  </tbody>\n",
       "</table>\n",
       "</div>"
      ],
      "text/plain": [
       "                        AUC-ROC\n",
       "LogisticRegression     0.769611\n",
       "RandomForestRegressor  0.819789\n",
       "CatBoostClassifier     0.895116"
      ]
     },
     "execution_count": 90,
     "metadata": {},
     "output_type": "execute_result"
    }
   ],
   "source": [
    "result = pd.DataFrame(\n",
    "    [gs_lr_best_score, gs_rf_best_score, gs_cat_best_score], \n",
    "    index=['LogisticRegression', 'RandomForestRegressor', 'CatBoostClassifier'], \n",
    "    columns=['AUC-ROC']\n",
    ")\n",
    "result"
   ]
  },
  {
   "cell_type": "markdown",
   "id": "1aa81c2c",
   "metadata": {},
   "source": [
    "Таким образом самой лучшей оказалась модель градиентного бустинга **CatBoostClassifier**. Значение AUC-ROC на тренировочных данных для неё составило **0.895116**."
   ]
  },
  {
   "cell_type": "markdown",
   "id": "4d72ecae",
   "metadata": {},
   "source": [
    "## Проверка лучшей модели на тестовой выборке"
   ]
  },
  {
   "cell_type": "markdown",
   "id": "d032f463",
   "metadata": {},
   "source": [
    "Вычислим метрику AUC-ROC на тестовых данных."
   ]
  },
  {
   "cell_type": "code",
   "execution_count": 115,
   "id": "1cf2738c",
   "metadata": {},
   "outputs": [
    {
     "name": "stdout",
     "output_type": "stream",
     "text": [
      "Метрика на тесте: 0.9111721075489192\n",
      "Отличие от тренировочной: 0.016055612923206897\n"
     ]
    }
   ],
   "source": [
    "cat_test_result = roc_auc_score(target_test, gs_cat.predict_proba(features_test)[:, 1])\n",
    "print('Метрика на тесте:', cat_test_result)\n",
    "print('Отличие от тренировочной:', cat_test_result - gs_cat_best_score)"
   ]
  },
  {
   "cell_type": "markdown",
   "id": "ae5401f5",
   "metadata": {},
   "source": [
    "Результат отличный! Но сделаем ещё пару вещей. \\\n",
    "Изучим лучшую модель подробнее:\n",
    "1. Покажем важность признаков\n",
    "2. Построим ROC-кривую\n",
    "3. Выведем матрицу ошибок"
   ]
  },
  {
   "cell_type": "code",
   "execution_count": 102,
   "id": "d2964fd4",
   "metadata": {},
   "outputs": [
    {
     "data": {
      "image/png": "[encoded data removed]",
      "text/plain": [
       "<Figure size 864x432 with 1 Axes>"
      ]
     },
     "metadata": {
      "needs_background": "light"
     },
     "output_type": "display_data"
    }
   ],
   "source": [
    "feature_importance = gs_cat.best_estimator_.feature_importances_\n",
    "sorted_idx = np.argsort(feature_importance)\n",
    "\n",
    "fig = plt.figure(figsize=(12, 6))\n",
    "plt.barh(range(len(sorted_idx)), feature_importance[sorted_idx], align='center')\n",
    "plt.yticks(range(len(sorted_idx)), np.array(features_test.columns)[sorted_idx])\n",
    "plt.title('Feature Importance')\n",
    "plt.grid(True)\n",
    "\n",
    "plt.show()"
   ]
  },
  {
   "cell_type": "code",
   "execution_count": 116,
   "id": "36887126",
   "metadata": {},
   "outputs": [
    {
     "name": "stdout",
     "output_type": "stream",
     "text": [
      "CatBoostClassifier: ROC AUC=0.911\n"
     ]
    },
    {
     "data": {
      "image/png": "[encoded data removed]",
      "text/plain": [
       "<Figure size 432x288 with 1 Axes>"
      ]
     },
     "metadata": {
      "needs_background": "light"
     },
     "output_type": "display_data"
    }
   ],
   "source": [
    "# получаем предказания\n",
    "lr_probs = gs_cat.predict_proba(features_test)\n",
    "\n",
    "# сохраняем вероятности только для положительного исхода\n",
    "lr_probs = lr_probs[:, 1]\n",
    "\n",
    "# рассчитываем ROC AUC\n",
    "lr_auc = roc_auc_score(target_test, lr_probs)\n",
    "print('CatBoostClassifier: ROC AUC=%.3f' % (lr_auc))\n",
    "\n",
    "# рассчитываем roc-кривую\n",
    "fpr, tpr, treshold = roc_curve(target_test, lr_probs)\n",
    "roc_auc = auc(fpr, tpr)\n",
    "\n",
    "# строим график\n",
    "plt.plot(fpr, tpr, color='darkorange',\n",
    "         label='ROC кривая (area = %0.2f)' % roc_auc)\n",
    "plt.plot([0, 1], [0, 1], color='navy', linestyle='--')\n",
    "plt.xlim([0.0, 1.0])\n",
    "plt.ylim([0.0, 1.05])\n",
    "plt.xlabel('False Positive Rate')\n",
    "plt.ylabel('True Positive Rate')\n",
    "plt.title('ROC-кривая')\n",
    "plt.legend(loc=\"lower right\")\n",
    "plt.show()"
   ]
  },
  {
   "cell_type": "code",
   "execution_count": 124,
   "id": "92459ffb",
   "metadata": {},
   "outputs": [
    {
     "data": {
      "image/png": "[encoded data removed]",
      "text/plain": [
       "<Figure size 432x288 with 2 Axes>"
      ]
     },
     "metadata": {
      "needs_background": "light"
     },
     "output_type": "display_data"
    }
   ],
   "source": [
    "cm = confusion_matrix(target_test, gs_cat.predict(features_test), labels=gs_cat.classes_)\n",
    "disp = ConfusionMatrixDisplay(confusion_matrix=cm,\n",
    "                              display_labels=gs_cat.classes_)\n",
    "disp.plot()\n",
    "plt.show()"
   ]
  },
  {
   "cell_type": "markdown",
   "id": "dcbdee91",
   "metadata": {},
   "source": [
    "Как оказалось наибольшую важность имеет признак **duration**, затем идут параметры, связанные с **оплатой**. А вот **дополнительные сервисы** почти ни на что не влияют."
   ]
  },
  {
   "cell_type": "markdown",
   "id": "2e0e9749",
   "metadata": {},
   "source": [
    "## Вывод"
   ]
  },
  {
   "cell_type": "markdown",
   "id": "17086524",
   "metadata": {},
   "source": [
    "Мы провели подробное исследование, в ходе которого сделали следующее:\n",
    "- Изучили данные в исходных файлах.\n",
    "- Объединили их и провели предобработку, сгенерировали новые признаки (в том числе целевой).\n",
    "- Провели EDA и сделали предположения по поводу влияния характеристик на уход клиента.\n",
    "- Разделили данные на выборки\n",
    "- Обучили 3 модели (для некоторых провели кодирование и масштабирование признаков).\n",
    "- По результатам обучения лучшей была выбрана модель CatBoostClassifier с метрикой **0.89**. На тесте же она увеличилась до **0.91**. Также были показаны характеристики итоговой модели."
   ]
  }
 ],
 "metadata": {
  "ExecuteTimeLog": [
   {
    "duration": 49,
    "start_time": "2023-08-08T11:44:27.956Z"
   },
   {
    "duration": 4806,
    "start_time": "2023-08-08T11:44:33.644Z"
   },
   {
    "duration": 369,
    "start_time": "2023-08-08T11:44:38.453Z"
   },
   {
    "duration": 450,
    "start_time": "2023-08-08T11:44:38.824Z"
   },
   {
    "duration": 4,
    "start_time": "2023-08-08T11:44:39.276Z"
   },
   {
    "duration": 701,
    "start_time": "2023-08-08T11:44:39.282Z"
   },
   {
    "duration": 197,
    "start_time": "2023-08-08T11:44:39.986Z"
   },
   {
    "duration": 56,
    "start_time": "2023-08-08T11:44:40.185Z"
   },
   {
    "duration": 31,
    "start_time": "2023-08-08T11:44:40.242Z"
   },
   {
    "duration": 45,
    "start_time": "2023-08-08T11:44:40.275Z"
   },
   {
    "duration": 11,
    "start_time": "2023-08-08T11:46:13.437Z"
   },
   {
    "duration": 9,
    "start_time": "2023-08-08T11:46:19.900Z"
   },
   {
    "duration": 49,
    "start_time": "2023-08-08T11:48:04.682Z"
   },
   {
    "duration": 32,
    "start_time": "2023-08-08T11:51:06.687Z"
   },
   {
    "duration": 24,
    "start_time": "2023-08-08T11:51:14.008Z"
   },
   {
    "duration": 33,
    "start_time": "2023-08-08T11:51:55.228Z"
   },
   {
    "duration": 14,
    "start_time": "2023-08-08T11:52:05.273Z"
   },
   {
    "duration": 31,
    "start_time": "2023-08-08T11:52:33.618Z"
   },
   {
    "duration": 9,
    "start_time": "2023-08-08T11:53:02.294Z"
   },
   {
    "duration": 42,
    "start_time": "2023-08-08T11:53:04.505Z"
   },
   {
    "duration": 40,
    "start_time": "2023-08-08T11:53:22.852Z"
   },
   {
    "duration": 11,
    "start_time": "2023-08-08T11:58:55.865Z"
   },
   {
    "duration": 3,
    "start_time": "2023-08-08T11:59:14.814Z"
   },
   {
    "duration": 45,
    "start_time": "2023-08-08T11:59:18.231Z"
   },
   {
    "duration": 40,
    "start_time": "2023-08-08T11:59:30.231Z"
   },
   {
    "duration": 45,
    "start_time": "2023-08-08T11:59:45.544Z"
   },
   {
    "duration": 58,
    "start_time": "2023-08-08T11:59:51.779Z"
   },
   {
    "duration": 43,
    "start_time": "2023-08-08T11:59:53.518Z"
   },
   {
    "duration": 39,
    "start_time": "2023-08-08T12:01:02.059Z"
   },
   {
    "duration": 19,
    "start_time": "2023-08-08T12:02:29.691Z"
   },
   {
    "duration": 24,
    "start_time": "2023-08-08T12:04:49.617Z"
   },
   {
    "duration": 8,
    "start_time": "2023-08-08T12:13:27.008Z"
   },
   {
    "duration": 6,
    "start_time": "2023-08-08T12:13:29.125Z"
   },
   {
    "duration": 17,
    "start_time": "2023-08-08T12:17:32.152Z"
   },
   {
    "duration": 9,
    "start_time": "2023-08-08T12:18:31.976Z"
   },
   {
    "duration": 3,
    "start_time": "2023-08-08T12:18:47.598Z"
   },
   {
    "duration": 691,
    "start_time": "2023-08-08T12:18:52.003Z"
   },
   {
    "duration": 18,
    "start_time": "2023-08-08T12:18:59.831Z"
   },
   {
    "duration": 17,
    "start_time": "2023-08-08T12:19:38.087Z"
   },
   {
    "duration": 9,
    "start_time": "2023-08-08T12:19:47.375Z"
   },
   {
    "duration": 10,
    "start_time": "2023-08-08T12:20:24.886Z"
   },
   {
    "duration": 952,
    "start_time": "2023-08-08T12:20:57.969Z"
   },
   {
    "duration": 9,
    "start_time": "2023-08-08T12:21:25.337Z"
   },
   {
    "duration": 5,
    "start_time": "2023-08-08T12:21:34.048Z"
   },
   {
    "duration": 9,
    "start_time": "2023-08-08T12:21:50.645Z"
   },
   {
    "duration": 10,
    "start_time": "2023-08-08T12:21:55.358Z"
   },
   {
    "duration": 125,
    "start_time": "2023-08-08T12:23:36.308Z"
   },
   {
    "duration": 4,
    "start_time": "2023-08-08T12:24:42.388Z"
   },
   {
    "duration": 7,
    "start_time": "2023-08-08T12:24:46.348Z"
   },
   {
    "duration": 11,
    "start_time": "2023-08-08T12:24:55.134Z"
   },
   {
    "duration": 12,
    "start_time": "2023-08-08T12:26:13.900Z"
   },
   {
    "duration": 11,
    "start_time": "2023-08-08T12:26:18.155Z"
   },
   {
    "duration": 15,
    "start_time": "2023-08-08T12:26:21.543Z"
   },
   {
    "duration": 2311,
    "start_time": "2023-08-08T12:53:39.383Z"
   },
   {
    "duration": 2925,
    "start_time": "2023-08-08T12:53:46.961Z"
   },
   {
    "duration": 4,
    "start_time": "2023-08-08T12:53:58.439Z"
   },
   {
    "duration": 11,
    "start_time": "2023-08-08T12:54:10.806Z"
   },
   {
    "duration": 8,
    "start_time": "2023-08-08T13:57:28.762Z"
   },
   {
    "duration": 8,
    "start_time": "2023-08-08T13:57:32.065Z"
   },
   {
    "duration": 8,
    "start_time": "2023-08-08T13:57:36.999Z"
   },
   {
    "duration": 6,
    "start_time": "2023-08-08T13:57:42.429Z"
   },
   {
    "duration": 7,
    "start_time": "2023-08-08T13:57:53.823Z"
   },
   {
    "duration": 8,
    "start_time": "2023-08-08T13:58:05.566Z"
   },
   {
    "duration": 8,
    "start_time": "2023-08-08T13:58:08.864Z"
   },
   {
    "duration": 9,
    "start_time": "2023-08-08T13:58:15.008Z"
   },
   {
    "duration": 8,
    "start_time": "2023-08-08T13:58:28.936Z"
   },
   {
    "duration": 16,
    "start_time": "2023-08-08T13:58:48.556Z"
   },
   {
    "duration": 9,
    "start_time": "2023-08-08T13:59:00.836Z"
   },
   {
    "duration": 8,
    "start_time": "2023-08-08T13:59:28.461Z"
   },
   {
    "duration": 4184,
    "start_time": "2023-08-08T13:59:36.928Z"
   },
   {
    "duration": 4,
    "start_time": "2023-08-08T13:59:41.115Z"
   },
   {
    "duration": 172,
    "start_time": "2023-08-08T13:59:41.121Z"
   },
   {
    "duration": 4,
    "start_time": "2023-08-08T13:59:41.296Z"
   },
   {
    "duration": 214,
    "start_time": "2023-08-08T13:59:41.302Z"
   },
   {
    "duration": 193,
    "start_time": "2023-08-08T13:59:41.518Z"
   },
   {
    "duration": 50,
    "start_time": "2023-08-08T13:59:41.713Z"
   },
   {
    "duration": 69,
    "start_time": "2023-08-08T13:59:41.765Z"
   },
   {
    "duration": 43,
    "start_time": "2023-08-08T13:59:41.835Z"
   },
   {
    "duration": 29,
    "start_time": "2023-08-08T13:59:41.881Z"
   },
   {
    "duration": 84,
    "start_time": "2023-08-08T13:59:41.911Z"
   },
   {
    "duration": 45,
    "start_time": "2023-08-08T13:59:41.997Z"
   },
   {
    "duration": 18,
    "start_time": "2023-08-08T13:59:42.044Z"
   },
   {
    "duration": 787,
    "start_time": "2023-08-08T13:59:42.064Z"
   },
   {
    "duration": 11,
    "start_time": "2023-08-08T13:59:50.794Z"
   },
   {
    "duration": 8,
    "start_time": "2023-08-08T13:59:54.945Z"
   },
   {
    "duration": 7,
    "start_time": "2023-08-08T14:00:05.823Z"
   },
   {
    "duration": 14,
    "start_time": "2023-08-08T14:00:18.272Z"
   },
   {
    "duration": 7,
    "start_time": "2023-08-08T14:00:33.654Z"
   },
   {
    "duration": 7,
    "start_time": "2023-08-08T14:01:25.677Z"
   },
   {
    "duration": 4475,
    "start_time": "2023-08-08T14:01:32.837Z"
   },
   {
    "duration": 4,
    "start_time": "2023-08-08T14:01:37.316Z"
   },
   {
    "duration": 176,
    "start_time": "2023-08-08T14:01:37.322Z"
   },
   {
    "duration": 3,
    "start_time": "2023-08-08T14:01:37.501Z"
   },
   {
    "duration": 284,
    "start_time": "2023-08-08T14:01:37.506Z"
   },
   {
    "duration": 192,
    "start_time": "2023-08-08T14:01:37.792Z"
   },
   {
    "duration": 66,
    "start_time": "2023-08-08T14:01:37.986Z"
   },
   {
    "duration": 62,
    "start_time": "2023-08-08T14:01:38.054Z"
   },
   {
    "duration": 42,
    "start_time": "2023-08-08T14:01:38.118Z"
   },
   {
    "duration": 9,
    "start_time": "2023-08-08T14:01:38.163Z"
   },
   {
    "duration": 77,
    "start_time": "2023-08-08T14:01:38.173Z"
   },
   {
    "duration": 25,
    "start_time": "2023-08-08T14:01:38.253Z"
   },
   {
    "duration": 49,
    "start_time": "2023-08-08T14:01:38.280Z"
   },
   {
    "duration": 2102,
    "start_time": "2023-08-08T14:01:38.331Z"
   },
   {
    "duration": 5,
    "start_time": "2023-08-08T14:02:58.716Z"
   },
   {
    "duration": 6,
    "start_time": "2023-08-08T14:03:17.460Z"
   },
   {
    "duration": 5,
    "start_time": "2023-08-08T14:03:28.841Z"
   },
   {
    "duration": 16,
    "start_time": "2023-08-08T14:04:34.729Z"
   },
   {
    "duration": 12,
    "start_time": "2023-08-08T14:05:36.887Z"
   },
   {
    "duration": 6,
    "start_time": "2023-08-08T14:05:53.789Z"
   },
   {
    "duration": 7,
    "start_time": "2023-08-08T14:05:56.061Z"
   },
   {
    "duration": 6,
    "start_time": "2023-08-08T14:07:34.647Z"
   },
   {
    "duration": 4,
    "start_time": "2023-08-08T14:08:23.747Z"
   },
   {
    "duration": 10,
    "start_time": "2023-08-08T14:08:32.423Z"
   },
   {
    "duration": 12,
    "start_time": "2023-08-08T14:08:38.863Z"
   },
   {
    "duration": 13,
    "start_time": "2023-08-08T14:10:14.457Z"
   },
   {
    "duration": 18,
    "start_time": "2023-08-08T14:10:30.253Z"
   },
   {
    "duration": 15,
    "start_time": "2023-08-08T14:10:34.441Z"
   },
   {
    "duration": 26,
    "start_time": "2023-08-08T14:12:59.449Z"
   },
   {
    "duration": 14,
    "start_time": "2023-08-08T14:13:04.874Z"
   },
   {
    "duration": 11,
    "start_time": "2023-08-08T14:14:58.665Z"
   },
   {
    "duration": 11,
    "start_time": "2023-08-08T14:19:35.663Z"
   },
   {
    "duration": 11,
    "start_time": "2023-08-08T14:19:39.517Z"
   },
   {
    "duration": 105,
    "start_time": "2023-08-08T14:27:54.282Z"
   },
   {
    "duration": 104,
    "start_time": "2023-08-08T14:28:00.160Z"
   },
   {
    "duration": 102,
    "start_time": "2023-08-08T14:28:50.784Z"
   },
   {
    "duration": 115,
    "start_time": "2023-08-08T14:29:21.598Z"
   },
   {
    "duration": 7,
    "start_time": "2023-08-08T14:36:56.563Z"
   },
   {
    "duration": 104,
    "start_time": "2023-08-08T14:37:03.661Z"
   },
   {
    "duration": 7,
    "start_time": "2023-08-08T14:37:14.089Z"
   },
   {
    "duration": 6,
    "start_time": "2023-08-08T14:37:28.818Z"
   },
   {
    "duration": 6,
    "start_time": "2023-08-08T14:37:40.907Z"
   },
   {
    "duration": 105,
    "start_time": "2023-08-08T14:37:47.618Z"
   },
   {
    "duration": 118,
    "start_time": "2023-08-08T14:59:49.548Z"
   },
   {
    "duration": 193,
    "start_time": "2023-08-08T15:00:07.090Z"
   },
   {
    "duration": 116,
    "start_time": "2023-08-08T15:00:25.574Z"
   },
   {
    "duration": 4,
    "start_time": "2023-08-08T15:02:12.562Z"
   },
   {
    "duration": 4,
    "start_time": "2023-08-08T15:02:29.654Z"
   },
   {
    "duration": 8,
    "start_time": "2023-08-08T15:02:48.240Z"
   },
   {
    "duration": 8,
    "start_time": "2023-08-08T15:03:22.883Z"
   },
   {
    "duration": 8,
    "start_time": "2023-08-08T15:03:34.842Z"
   },
   {
    "duration": 4,
    "start_time": "2023-08-08T15:03:53.048Z"
   },
   {
    "duration": 4,
    "start_time": "2023-08-08T15:04:11.791Z"
   },
   {
    "duration": 4,
    "start_time": "2023-08-08T15:04:55.466Z"
   },
   {
    "duration": 2450,
    "start_time": "2023-08-08T15:05:07.797Z"
   },
   {
    "duration": 4,
    "start_time": "2023-08-08T15:05:30.872Z"
   },
   {
    "duration": 307,
    "start_time": "2023-08-08T15:05:50.171Z"
   },
   {
    "duration": 27,
    "start_time": "2023-08-08T15:08:37.111Z"
   },
   {
    "duration": 109,
    "start_time": "2023-08-08T15:08:45.134Z"
   },
   {
    "duration": 25,
    "start_time": "2023-08-08T15:08:57.171Z"
   },
   {
    "duration": 5,
    "start_time": "2023-08-08T15:18:22.340Z"
   },
   {
    "duration": 11,
    "start_time": "2023-08-08T15:19:38.797Z"
   },
   {
    "duration": 3,
    "start_time": "2023-08-08T15:19:57.623Z"
   },
   {
    "duration": 3,
    "start_time": "2023-08-08T15:20:01.786Z"
   },
   {
    "duration": 614,
    "start_time": "2023-08-08T15:20:07.276Z"
   },
   {
    "duration": 13,
    "start_time": "2023-08-08T15:21:52.385Z"
   },
   {
    "duration": 15,
    "start_time": "2023-08-08T15:22:21.716Z"
   },
   {
    "duration": 80,
    "start_time": "2023-08-08T15:27:33.427Z"
   },
   {
    "duration": 3,
    "start_time": "2023-08-08T15:28:38.989Z"
   },
   {
    "duration": 3,
    "start_time": "2023-08-08T15:28:43.493Z"
   },
   {
    "duration": 3,
    "start_time": "2023-08-08T15:28:46.592Z"
   },
   {
    "duration": 5,
    "start_time": "2023-08-08T16:02:12.116Z"
   },
   {
    "duration": 160,
    "start_time": "2023-08-08T16:04:09.316Z"
   },
   {
    "duration": 124,
    "start_time": "2023-08-08T16:04:10.381Z"
   },
   {
    "duration": 209,
    "start_time": "2023-08-08T16:04:11.093Z"
   },
   {
    "duration": 136,
    "start_time": "2023-08-08T16:04:12.100Z"
   },
   {
    "duration": 3,
    "start_time": "2023-08-08T16:04:57.855Z"
   },
   {
    "duration": 5,
    "start_time": "2023-08-08T16:07:41.786Z"
   },
   {
    "duration": 4,
    "start_time": "2023-08-08T16:08:14.239Z"
   },
   {
    "duration": 22,
    "start_time": "2023-08-08T16:08:32.785Z"
   },
   {
    "duration": 8,
    "start_time": "2023-08-08T16:08:39.900Z"
   },
   {
    "duration": 8,
    "start_time": "2023-08-08T16:10:23.047Z"
   },
   {
    "duration": 11,
    "start_time": "2023-08-08T16:10:47.144Z"
   },
   {
    "duration": 8,
    "start_time": "2023-08-08T16:10:59.011Z"
   },
   {
    "duration": 11,
    "start_time": "2023-08-08T16:11:01.275Z"
   },
   {
    "duration": 4379,
    "start_time": "2023-08-08T16:11:03.797Z"
   },
   {
    "duration": 4,
    "start_time": "2023-08-08T16:11:08.178Z"
   },
   {
    "duration": 166,
    "start_time": "2023-08-08T16:11:08.184Z"
   },
   {
    "duration": 3,
    "start_time": "2023-08-08T16:11:08.352Z"
   },
   {
    "duration": 181,
    "start_time": "2023-08-08T16:11:08.357Z"
   },
   {
    "duration": 168,
    "start_time": "2023-08-08T16:11:08.540Z"
   },
   {
    "duration": 44,
    "start_time": "2023-08-08T16:11:08.710Z"
   },
   {
    "duration": 57,
    "start_time": "2023-08-08T16:11:08.755Z"
   },
   {
    "duration": 42,
    "start_time": "2023-08-08T16:11:08.814Z"
   },
   {
    "duration": 5,
    "start_time": "2023-08-08T16:11:08.858Z"
   },
   {
    "duration": 70,
    "start_time": "2023-08-08T16:11:08.865Z"
   },
   {
    "duration": 14,
    "start_time": "2023-08-08T16:11:08.937Z"
   },
   {
    "duration": 28,
    "start_time": "2023-08-08T16:11:08.952Z"
   },
   {
    "duration": 30,
    "start_time": "2023-08-08T16:11:08.982Z"
   },
   {
    "duration": 11,
    "start_time": "2023-08-08T16:11:09.014Z"
   },
   {
    "duration": 21,
    "start_time": "2023-08-08T16:11:09.026Z"
   },
   {
    "duration": 32,
    "start_time": "2023-08-08T16:11:09.049Z"
   },
   {
    "duration": 17,
    "start_time": "2023-08-08T16:11:09.083Z"
   },
   {
    "duration": 135,
    "start_time": "2023-08-08T16:11:09.102Z"
   },
   {
    "duration": 129,
    "start_time": "2023-08-08T16:11:09.238Z"
   },
   {
    "duration": 149,
    "start_time": "2023-08-08T16:11:09.369Z"
   },
   {
    "duration": 124,
    "start_time": "2023-08-08T16:11:09.519Z"
   },
   {
    "duration": 127,
    "start_time": "2023-08-08T16:11:09.646Z"
   },
   {
    "duration": 135,
    "start_time": "2023-08-08T16:11:09.775Z"
   },
   {
    "duration": 132,
    "start_time": "2023-08-08T16:11:09.912Z"
   },
   {
    "duration": 238,
    "start_time": "2023-08-08T16:11:10.047Z"
   },
   {
    "duration": 139,
    "start_time": "2023-08-08T16:11:10.287Z"
   },
   {
    "duration": 4,
    "start_time": "2023-08-08T16:11:10.430Z"
   },
   {
    "duration": 24,
    "start_time": "2023-08-08T16:11:10.435Z"
   },
   {
    "duration": 37,
    "start_time": "2023-08-08T16:11:10.461Z"
   },
   {
    "duration": 18,
    "start_time": "2023-08-08T16:11:10.500Z"
   },
   {
    "duration": 66,
    "start_time": "2023-08-08T16:11:10.520Z"
   },
   {
    "duration": 92,
    "start_time": "2023-08-08T16:11:10.588Z"
   },
   {
    "duration": 12,
    "start_time": "2023-08-08T16:11:10.682Z"
   },
   {
    "duration": 12,
    "start_time": "2023-08-08T16:11:48.970Z"
   },
   {
    "duration": 12,
    "start_time": "2023-08-08T16:11:49.944Z"
   },
   {
    "duration": 20,
    "start_time": "2023-08-08T16:12:03.486Z"
   },
   {
    "duration": 5,
    "start_time": "2023-08-08T16:16:08.237Z"
   },
   {
    "duration": 22,
    "start_time": "2023-08-08T16:16:52.387Z"
   },
   {
    "duration": 3,
    "start_time": "2023-08-08T16:18:14.204Z"
   },
   {
    "duration": 4600,
    "start_time": "2023-08-08T16:18:17.742Z"
   },
   {
    "duration": 3,
    "start_time": "2023-08-08T16:18:22.345Z"
   },
   {
    "duration": 212,
    "start_time": "2023-08-08T16:18:22.349Z"
   },
   {
    "duration": 4,
    "start_time": "2023-08-08T16:18:22.563Z"
   },
   {
    "duration": 233,
    "start_time": "2023-08-08T16:18:22.568Z"
   },
   {
    "duration": 186,
    "start_time": "2023-08-08T16:18:22.808Z"
   },
   {
    "duration": 58,
    "start_time": "2023-08-08T16:18:22.995Z"
   },
   {
    "duration": 55,
    "start_time": "2023-08-08T16:18:23.054Z"
   },
   {
    "duration": 42,
    "start_time": "2023-08-08T16:18:23.111Z"
   },
   {
    "duration": 6,
    "start_time": "2023-08-08T16:18:23.155Z"
   },
   {
    "duration": 36,
    "start_time": "2023-08-08T16:18:23.162Z"
   },
   {
    "duration": 3,
    "start_time": "2023-08-08T16:18:23.209Z"
   },
   {
    "duration": 40,
    "start_time": "2023-08-08T16:18:23.217Z"
   },
   {
    "duration": 29,
    "start_time": "2023-08-08T16:18:23.259Z"
   },
   {
    "duration": 46,
    "start_time": "2023-08-08T16:18:23.290Z"
   },
   {
    "duration": 21,
    "start_time": "2023-08-08T16:18:23.338Z"
   },
   {
    "duration": 34,
    "start_time": "2023-08-08T16:18:23.361Z"
   },
   {
    "duration": 19,
    "start_time": "2023-08-08T16:18:23.397Z"
   },
   {
    "duration": 168,
    "start_time": "2023-08-08T16:18:23.418Z"
   },
   {
    "duration": 143,
    "start_time": "2023-08-08T16:18:23.588Z"
   },
   {
    "duration": 140,
    "start_time": "2023-08-08T16:18:23.733Z"
   },
   {
    "duration": 136,
    "start_time": "2023-08-08T16:18:23.874Z"
   },
   {
    "duration": 136,
    "start_time": "2023-08-08T16:18:24.012Z"
   },
   {
    "duration": 136,
    "start_time": "2023-08-08T16:18:24.150Z"
   },
   {
    "duration": 128,
    "start_time": "2023-08-08T16:18:24.288Z"
   },
   {
    "duration": 238,
    "start_time": "2023-08-08T16:18:24.418Z"
   },
   {
    "duration": 147,
    "start_time": "2023-08-08T16:18:24.658Z"
   },
   {
    "duration": 4,
    "start_time": "2023-08-08T16:18:24.809Z"
   },
   {
    "duration": 62,
    "start_time": "2023-08-08T16:18:24.814Z"
   },
   {
    "duration": 18,
    "start_time": "2023-08-08T16:18:24.878Z"
   },
   {
    "duration": 30,
    "start_time": "2023-08-08T16:18:24.898Z"
   },
   {
    "duration": 3,
    "start_time": "2023-08-08T16:18:24.931Z"
   },
   {
    "duration": 11,
    "start_time": "2023-08-08T16:18:24.935Z"
   },
   {
    "duration": 12,
    "start_time": "2023-08-08T16:18:24.947Z"
   },
   {
    "duration": 4025,
    "start_time": "2023-08-08T16:19:46.347Z"
   },
   {
    "duration": 6,
    "start_time": "2023-08-08T16:19:54.437Z"
   },
   {
    "duration": 10,
    "start_time": "2023-08-08T16:20:02.650Z"
   },
   {
    "duration": 9,
    "start_time": "2023-08-08T16:20:24.835Z"
   },
   {
    "duration": 10,
    "start_time": "2023-08-08T16:20:33.287Z"
   },
   {
    "duration": 9,
    "start_time": "2023-08-08T16:20:49.090Z"
   },
   {
    "duration": 10,
    "start_time": "2023-08-08T16:20:51.452Z"
   },
   {
    "duration": 9,
    "start_time": "2023-08-08T16:20:57.053Z"
   },
   {
    "duration": 7,
    "start_time": "2023-08-08T16:21:16.623Z"
   },
   {
    "duration": 155,
    "start_time": "2023-08-08T16:21:24.913Z"
   },
   {
    "duration": 141,
    "start_time": "2023-08-08T16:21:27.071Z"
   },
   {
    "duration": 177,
    "start_time": "2023-08-08T16:21:33.282Z"
   },
   {
    "duration": 161,
    "start_time": "2023-08-08T16:21:36.083Z"
   },
   {
    "duration": 148,
    "start_time": "2023-08-08T16:21:39.500Z"
   },
   {
    "duration": 9,
    "start_time": "2023-08-08T16:22:03.180Z"
   },
   {
    "duration": 167,
    "start_time": "2023-08-08T16:22:11.983Z"
   },
   {
    "duration": 7,
    "start_time": "2023-08-08T16:23:35.488Z"
   },
   {
    "duration": 157,
    "start_time": "2023-08-08T16:23:36.456Z"
   },
   {
    "duration": 29,
    "start_time": "2023-08-08T16:28:58.504Z"
   },
   {
    "duration": 29,
    "start_time": "2023-08-08T16:29:14.874Z"
   },
   {
    "duration": 13,
    "start_time": "2023-08-08T16:29:51.209Z"
   },
   {
    "duration": 8,
    "start_time": "2023-08-08T16:29:56.442Z"
   },
   {
    "duration": 8,
    "start_time": "2023-08-08T16:30:45.333Z"
   },
   {
    "duration": 202,
    "start_time": "2023-08-08T16:31:01.029Z"
   },
   {
    "duration": 8,
    "start_time": "2023-08-08T16:31:30.132Z"
   },
   {
    "duration": 441,
    "start_time": "2023-08-08T16:32:24.299Z"
   },
   {
    "duration": 142,
    "start_time": "2023-08-08T16:32:38.667Z"
   },
   {
    "duration": 171,
    "start_time": "2023-08-08T16:32:47.166Z"
   },
   {
    "duration": 197,
    "start_time": "2023-08-08T16:32:50.676Z"
   },
   {
    "duration": 230,
    "start_time": "2023-08-08T16:32:54.596Z"
   },
   {
    "duration": 27,
    "start_time": "2023-08-08T16:33:14.295Z"
   },
   {
    "duration": 232,
    "start_time": "2023-08-08T16:33:37.203Z"
   },
   {
    "duration": 214,
    "start_time": "2023-08-08T16:33:40.021Z"
   },
   {
    "duration": 233,
    "start_time": "2023-08-08T16:48:24.293Z"
   },
   {
    "duration": 284,
    "start_time": "2023-08-08T16:48:27.625Z"
   },
   {
    "duration": 172,
    "start_time": "2023-08-08T16:48:31.298Z"
   },
   {
    "duration": 211,
    "start_time": "2023-08-08T16:48:34.752Z"
   },
   {
    "duration": 259,
    "start_time": "2023-08-08T16:48:39.200Z"
   },
   {
    "duration": 32,
    "start_time": "2023-08-08T16:49:04.247Z"
   },
   {
    "duration": 12,
    "start_time": "2023-08-08T16:49:36.598Z"
   },
   {
    "duration": 30,
    "start_time": "2023-08-08T16:49:43.014Z"
   },
   {
    "duration": 27,
    "start_time": "2023-08-08T16:49:52.555Z"
   },
   {
    "duration": 30,
    "start_time": "2023-08-08T16:49:56.363Z"
   },
   {
    "duration": 9,
    "start_time": "2023-08-08T17:06:00.207Z"
   },
   {
    "duration": 4472,
    "start_time": "2023-08-08T17:10:20.448Z"
   },
   {
    "duration": 30,
    "start_time": "2023-08-08T17:10:53.470Z"
   },
   {
    "duration": 6,
    "start_time": "2023-08-08T17:12:25.601Z"
   },
   {
    "duration": 1053,
    "start_time": "2023-08-08T17:12:51.270Z"
   },
   {
    "duration": 10,
    "start_time": "2023-08-08T17:14:05.045Z"
   },
   {
    "duration": 5,
    "start_time": "2023-08-08T17:14:08.583Z"
   },
   {
    "duration": 9,
    "start_time": "2023-08-08T17:14:14.421Z"
   },
   {
    "duration": 5,
    "start_time": "2023-08-08T17:14:20.293Z"
   },
   {
    "duration": 4,
    "start_time": "2023-08-08T17:14:22.830Z"
   },
   {
    "duration": 12,
    "start_time": "2023-08-08T17:14:44.066Z"
   },
   {
    "duration": 3848,
    "start_time": "2023-08-08T17:15:09.175Z"
   },
   {
    "duration": 10,
    "start_time": "2023-08-08T17:15:24.636Z"
   },
   {
    "duration": 8,
    "start_time": "2023-08-08T17:15:28.275Z"
   },
   {
    "duration": 7,
    "start_time": "2023-08-08T17:15:53.514Z"
   },
   {
    "duration": 9,
    "start_time": "2023-08-08T17:15:59.740Z"
   },
   {
    "duration": 8,
    "start_time": "2023-08-08T17:16:04.115Z"
   },
   {
    "duration": 8,
    "start_time": "2023-08-08T17:16:44.740Z"
   },
   {
    "duration": 7,
    "start_time": "2023-08-08T17:46:39.938Z"
   },
   {
    "duration": 3,
    "start_time": "2023-08-08T17:50:24.787Z"
   },
   {
    "duration": 912,
    "start_time": "2023-08-08T17:52:06.899Z"
   },
   {
    "duration": 5911,
    "start_time": "2023-08-08T17:54:39.608Z"
   },
   {
    "duration": 299,
    "start_time": "2023-08-08T17:54:52.635Z"
   },
   {
    "duration": 3,
    "start_time": "2023-08-08T17:57:19.401Z"
   },
   {
    "duration": 404,
    "start_time": "2023-08-08T17:57:20.437Z"
   },
   {
    "duration": 400,
    "start_time": "2023-08-08T17:57:47.174Z"
   },
   {
    "duration": 433,
    "start_time": "2023-08-08T18:00:42.198Z"
   },
   {
    "duration": 1046,
    "start_time": "2023-08-08T18:17:59.497Z"
   },
   {
    "duration": 4070,
    "start_time": "2023-08-08T18:18:07.656Z"
   },
   {
    "duration": 3,
    "start_time": "2023-08-08T18:18:11.729Z"
   },
   {
    "duration": 153,
    "start_time": "2023-08-08T18:18:11.734Z"
   },
   {
    "duration": 4,
    "start_time": "2023-08-08T18:18:11.890Z"
   },
   {
    "duration": 202,
    "start_time": "2023-08-08T18:18:11.895Z"
   },
   {
    "duration": 195,
    "start_time": "2023-08-08T18:18:12.100Z"
   },
   {
    "duration": 53,
    "start_time": "2023-08-08T18:18:12.296Z"
   },
   {
    "duration": 58,
    "start_time": "2023-08-08T18:18:12.351Z"
   },
   {
    "duration": 41,
    "start_time": "2023-08-08T18:18:12.411Z"
   },
   {
    "duration": 7,
    "start_time": "2023-08-08T18:18:12.455Z"
   },
   {
    "duration": 23,
    "start_time": "2023-08-08T18:18:12.463Z"
   },
   {
    "duration": 9,
    "start_time": "2023-08-08T18:18:12.510Z"
   },
   {
    "duration": 14,
    "start_time": "2023-08-08T18:18:12.520Z"
   },
   {
    "duration": 4,
    "start_time": "2023-08-08T18:18:12.536Z"
   },
   {
    "duration": 10,
    "start_time": "2023-08-08T18:18:12.542Z"
   },
   {
    "duration": 11,
    "start_time": "2023-08-08T18:18:12.554Z"
   },
   {
    "duration": 19,
    "start_time": "2023-08-08T18:18:12.567Z"
   },
   {
    "duration": 30,
    "start_time": "2023-08-08T18:18:12.587Z"
   },
   {
    "duration": 131,
    "start_time": "2023-08-08T18:18:12.618Z"
   },
   {
    "duration": 140,
    "start_time": "2023-08-08T18:18:12.751Z"
   },
   {
    "duration": 250,
    "start_time": "2023-08-08T18:18:12.892Z"
   },
   {
    "duration": 144,
    "start_time": "2023-08-08T18:18:13.143Z"
   },
   {
    "duration": 132,
    "start_time": "2023-08-08T18:18:13.288Z"
   },
   {
    "duration": 161,
    "start_time": "2023-08-08T18:18:13.422Z"
   },
   {
    "duration": 130,
    "start_time": "2023-08-08T18:18:13.585Z"
   },
   {
    "duration": 131,
    "start_time": "2023-08-08T18:18:13.717Z"
   },
   {
    "duration": 139,
    "start_time": "2023-08-08T18:18:13.850Z"
   },
   {
    "duration": 4,
    "start_time": "2023-08-08T18:18:13.993Z"
   },
   {
    "duration": 20,
    "start_time": "2023-08-08T18:18:14.008Z"
   },
   {
    "duration": 16,
    "start_time": "2023-08-08T18:18:14.030Z"
   },
   {
    "duration": 43,
    "start_time": "2023-08-08T18:18:14.048Z"
   },
   {
    "duration": 8,
    "start_time": "2023-08-08T18:18:14.093Z"
   },
   {
    "duration": 157,
    "start_time": "2023-08-08T18:18:14.103Z"
   },
   {
    "duration": 8,
    "start_time": "2023-08-08T18:18:14.262Z"
   },
   {
    "duration": 166,
    "start_time": "2023-08-08T18:18:14.272Z"
   },
   {
    "duration": 8,
    "start_time": "2023-08-08T18:18:14.440Z"
   },
   {
    "duration": 216,
    "start_time": "2023-08-08T18:18:14.449Z"
   },
   {
    "duration": 8,
    "start_time": "2023-08-08T18:18:14.666Z"
   },
   {
    "duration": 291,
    "start_time": "2023-08-08T18:18:14.676Z"
   },
   {
    "duration": 24,
    "start_time": "2023-08-08T18:18:14.969Z"
   },
   {
    "duration": 41,
    "start_time": "2023-08-08T18:18:14.995Z"
   },
   {
    "duration": 26,
    "start_time": "2023-08-08T18:18:15.038Z"
   },
   {
    "duration": 29,
    "start_time": "2023-08-08T18:18:15.066Z"
   },
   {
    "duration": 777,
    "start_time": "2023-08-08T18:18:15.097Z"
   },
   {
    "duration": 8,
    "start_time": "2023-08-08T18:18:15.876Z"
   },
   {
    "duration": 2842,
    "start_time": "2023-08-08T18:18:15.886Z"
   },
   {
    "duration": 0,
    "start_time": "2023-08-08T18:18:18.730Z"
   },
   {
    "duration": 0,
    "start_time": "2023-08-08T18:18:18.732Z"
   },
   {
    "duration": 0,
    "start_time": "2023-08-08T18:18:18.733Z"
   },
   {
    "duration": 0,
    "start_time": "2023-08-08T18:18:18.734Z"
   },
   {
    "duration": 0,
    "start_time": "2023-08-08T18:18:18.735Z"
   },
   {
    "duration": 33,
    "start_time": "2023-08-08T18:18:23.854Z"
   },
   {
    "duration": 4532,
    "start_time": "2023-08-08T18:59:00.604Z"
   },
   {
    "duration": 723,
    "start_time": "2023-08-08T18:59:05.139Z"
   },
   {
    "duration": 161,
    "start_time": "2023-08-08T18:59:05.864Z"
   },
   {
    "duration": 7,
    "start_time": "2023-08-08T18:59:06.028Z"
   },
   {
    "duration": 303,
    "start_time": "2023-08-08T18:59:06.038Z"
   },
   {
    "duration": 206,
    "start_time": "2023-08-08T18:59:06.343Z"
   },
   {
    "duration": 75,
    "start_time": "2023-08-08T18:59:06.551Z"
   },
   {
    "duration": 35,
    "start_time": "2023-08-08T18:59:06.629Z"
   },
   {
    "duration": 76,
    "start_time": "2023-08-08T18:59:06.667Z"
   },
   {
    "duration": 6,
    "start_time": "2023-08-08T18:59:06.747Z"
   },
   {
    "duration": 69,
    "start_time": "2023-08-08T18:59:06.756Z"
   },
   {
    "duration": 28,
    "start_time": "2023-08-08T18:59:06.827Z"
   },
   {
    "duration": 44,
    "start_time": "2023-08-08T18:59:06.857Z"
   },
   {
    "duration": 36,
    "start_time": "2023-08-08T18:59:06.903Z"
   },
   {
    "duration": 25,
    "start_time": "2023-08-08T18:59:06.941Z"
   },
   {
    "duration": 83,
    "start_time": "2023-08-08T18:59:06.968Z"
   },
   {
    "duration": 84,
    "start_time": "2023-08-08T18:59:07.053Z"
   },
   {
    "duration": 28,
    "start_time": "2023-08-08T18:59:07.139Z"
   },
   {
    "duration": 187,
    "start_time": "2023-08-08T18:59:07.169Z"
   },
   {
    "duration": 167,
    "start_time": "2023-08-08T18:59:07.358Z"
   },
   {
    "duration": 233,
    "start_time": "2023-08-08T18:59:07.527Z"
   },
   {
    "duration": 149,
    "start_time": "2023-08-08T18:59:07.762Z"
   },
   {
    "duration": 147,
    "start_time": "2023-08-08T18:59:07.913Z"
   },
   {
    "duration": 149,
    "start_time": "2023-08-08T18:59:08.062Z"
   },
   {
    "duration": 146,
    "start_time": "2023-08-08T18:59:08.213Z"
   },
   {
    "duration": 137,
    "start_time": "2023-08-08T18:59:08.360Z"
   },
   {
    "duration": 146,
    "start_time": "2023-08-08T18:59:08.499Z"
   },
   {
    "duration": 6,
    "start_time": "2023-08-08T18:59:08.650Z"
   },
   {
    "duration": 68,
    "start_time": "2023-08-08T18:59:08.658Z"
   },
   {
    "duration": 19,
    "start_time": "2023-08-08T18:59:08.728Z"
   },
   {
    "duration": 53,
    "start_time": "2023-08-08T18:59:08.749Z"
   },
   {
    "duration": 10,
    "start_time": "2023-08-08T18:59:08.805Z"
   },
   {
    "duration": 212,
    "start_time": "2023-08-08T18:59:08.818Z"
   },
   {
    "duration": 8,
    "start_time": "2023-08-08T18:59:09.032Z"
   },
   {
    "duration": 198,
    "start_time": "2023-08-08T18:59:09.042Z"
   },
   {
    "duration": 9,
    "start_time": "2023-08-08T18:59:09.242Z"
   },
   {
    "duration": 267,
    "start_time": "2023-08-08T18:59:09.253Z"
   },
   {
    "duration": 10,
    "start_time": "2023-08-08T18:59:09.523Z"
   },
   {
    "duration": 323,
    "start_time": "2023-08-08T18:59:09.535Z"
   },
   {
    "duration": 25,
    "start_time": "2023-08-08T18:59:09.860Z"
   },
   {
    "duration": 47,
    "start_time": "2023-08-08T18:59:09.887Z"
   },
   {
    "duration": 5,
    "start_time": "2023-08-08T18:59:09.936Z"
   },
   {
    "duration": 45,
    "start_time": "2023-08-08T18:59:09.943Z"
   },
   {
    "duration": 20,
    "start_time": "2023-08-08T18:59:09.991Z"
   },
   {
    "duration": 882,
    "start_time": "2023-08-08T18:59:10.014Z"
   },
   {
    "duration": 16,
    "start_time": "2023-08-08T18:59:10.898Z"
   },
   {
    "duration": 2039,
    "start_time": "2023-08-08T18:59:10.916Z"
   },
   {
    "duration": 0,
    "start_time": "2023-08-08T18:59:12.957Z"
   },
   {
    "duration": 0,
    "start_time": "2023-08-08T18:59:12.958Z"
   },
   {
    "duration": 0,
    "start_time": "2023-08-08T18:59:12.960Z"
   },
   {
    "duration": 0,
    "start_time": "2023-08-08T18:59:12.961Z"
   },
   {
    "duration": 0,
    "start_time": "2023-08-08T18:59:12.963Z"
   },
   {
    "duration": 29,
    "start_time": "2023-08-08T18:59:42.503Z"
   },
   {
    "duration": 4457,
    "start_time": "2023-08-08T19:00:07.303Z"
   },
   {
    "duration": 690,
    "start_time": "2023-08-08T19:00:11.763Z"
   },
   {
    "duration": 158,
    "start_time": "2023-08-08T19:00:12.455Z"
   },
   {
    "duration": 4,
    "start_time": "2023-08-08T19:00:12.615Z"
   },
   {
    "duration": 269,
    "start_time": "2023-08-08T19:00:12.622Z"
   },
   {
    "duration": 234,
    "start_time": "2023-08-08T19:00:12.894Z"
   },
   {
    "duration": 55,
    "start_time": "2023-08-08T19:00:13.131Z"
   },
   {
    "duration": 39,
    "start_time": "2023-08-08T19:00:13.208Z"
   },
   {
    "duration": 102,
    "start_time": "2023-08-08T19:00:13.250Z"
   },
   {
    "duration": 7,
    "start_time": "2023-08-08T19:00:13.355Z"
   },
   {
    "duration": 87,
    "start_time": "2023-08-08T19:00:13.364Z"
   },
   {
    "duration": 59,
    "start_time": "2023-08-08T19:00:13.454Z"
   },
   {
    "duration": 38,
    "start_time": "2023-08-08T19:00:13.516Z"
   },
   {
    "duration": 22,
    "start_time": "2023-08-08T19:00:13.558Z"
   },
   {
    "duration": 15,
    "start_time": "2023-08-08T19:00:13.581Z"
   },
   {
    "duration": 58,
    "start_time": "2023-08-08T19:00:13.598Z"
   },
   {
    "duration": 43,
    "start_time": "2023-08-08T19:00:13.658Z"
   },
   {
    "duration": 11,
    "start_time": "2023-08-08T19:00:13.703Z"
   },
   {
    "duration": 164,
    "start_time": "2023-08-08T19:00:13.715Z"
   },
   {
    "duration": 182,
    "start_time": "2023-08-08T19:00:13.881Z"
   },
   {
    "duration": 229,
    "start_time": "2023-08-08T19:00:14.065Z"
   },
   {
    "duration": 142,
    "start_time": "2023-08-08T19:00:14.297Z"
   },
   {
    "duration": 153,
    "start_time": "2023-08-08T19:00:14.441Z"
   },
   {
    "duration": 149,
    "start_time": "2023-08-08T19:00:14.596Z"
   },
   {
    "duration": 147,
    "start_time": "2023-08-08T19:00:14.747Z"
   },
   {
    "duration": 153,
    "start_time": "2023-08-08T19:00:14.895Z"
   },
   {
    "duration": 149,
    "start_time": "2023-08-08T19:00:15.050Z"
   },
   {
    "duration": 10,
    "start_time": "2023-08-08T19:00:15.201Z"
   },
   {
    "duration": 38,
    "start_time": "2023-08-08T19:00:15.212Z"
   },
   {
    "duration": 26,
    "start_time": "2023-08-08T19:00:15.252Z"
   },
   {
    "duration": 62,
    "start_time": "2023-08-08T19:00:15.280Z"
   },
   {
    "duration": 18,
    "start_time": "2023-08-08T19:00:15.344Z"
   },
   {
    "duration": 206,
    "start_time": "2023-08-08T19:00:15.364Z"
   },
   {
    "duration": 7,
    "start_time": "2023-08-08T19:00:15.572Z"
   },
   {
    "duration": 184,
    "start_time": "2023-08-08T19:00:15.581Z"
   },
   {
    "duration": 8,
    "start_time": "2023-08-08T19:00:15.767Z"
   },
   {
    "duration": 383,
    "start_time": "2023-08-08T19:00:15.777Z"
   },
   {
    "duration": 15,
    "start_time": "2023-08-08T19:00:16.163Z"
   },
   {
    "duration": 326,
    "start_time": "2023-08-08T19:00:16.180Z"
   },
   {
    "duration": 27,
    "start_time": "2023-08-08T19:00:16.509Z"
   },
   {
    "duration": 64,
    "start_time": "2023-08-08T19:00:16.541Z"
   },
   {
    "duration": 34,
    "start_time": "2023-08-08T19:00:16.608Z"
   },
   {
    "duration": 27,
    "start_time": "2023-08-08T19:00:16.643Z"
   },
   {
    "duration": 781,
    "start_time": "2023-08-08T19:00:16.672Z"
   },
   {
    "duration": 7,
    "start_time": "2023-08-08T19:00:17.455Z"
   },
   {
    "duration": 2081,
    "start_time": "2023-08-08T19:00:17.463Z"
   },
   {
    "duration": 0,
    "start_time": "2023-08-08T19:00:19.546Z"
   },
   {
    "duration": 0,
    "start_time": "2023-08-08T19:00:19.547Z"
   },
   {
    "duration": 0,
    "start_time": "2023-08-08T19:00:19.548Z"
   },
   {
    "duration": 0,
    "start_time": "2023-08-08T19:00:19.550Z"
   },
   {
    "duration": 0,
    "start_time": "2023-08-08T19:00:19.551Z"
   },
   {
    "duration": 8,
    "start_time": "2023-08-08T19:01:11.304Z"
   },
   {
    "duration": 15,
    "start_time": "2023-08-08T19:01:31.808Z"
   },
   {
    "duration": 12,
    "start_time": "2023-08-08T19:01:52.894Z"
   },
   {
    "duration": 5,
    "start_time": "2023-08-08T19:02:12.615Z"
   },
   {
    "duration": 9,
    "start_time": "2023-08-08T19:04:00.001Z"
   },
   {
    "duration": 10,
    "start_time": "2023-08-08T19:04:12.034Z"
   },
   {
    "duration": 8,
    "start_time": "2023-08-08T19:04:33.408Z"
   },
   {
    "duration": 784,
    "start_time": "2023-08-08T19:04:43.304Z"
   },
   {
    "duration": 35,
    "start_time": "2023-08-08T19:05:53.833Z"
   },
   {
    "duration": 4705,
    "start_time": "2023-08-09T10:02:30.920Z"
   },
   {
    "duration": 829,
    "start_time": "2023-08-09T10:02:35.627Z"
   },
   {
    "duration": 453,
    "start_time": "2023-08-09T10:02:36.468Z"
   },
   {
    "duration": 3,
    "start_time": "2023-08-09T10:02:36.923Z"
   },
   {
    "duration": 228,
    "start_time": "2023-08-09T10:02:36.928Z"
   },
   {
    "duration": 176,
    "start_time": "2023-08-09T10:02:37.159Z"
   },
   {
    "duration": 59,
    "start_time": "2023-08-09T10:02:37.336Z"
   },
   {
    "duration": 28,
    "start_time": "2023-08-09T10:02:37.397Z"
   },
   {
    "duration": 78,
    "start_time": "2023-08-09T10:02:37.427Z"
   },
   {
    "duration": 6,
    "start_time": "2023-08-09T10:02:37.508Z"
   },
   {
    "duration": 46,
    "start_time": "2023-08-09T10:02:37.516Z"
   },
   {
    "duration": 9,
    "start_time": "2023-08-09T10:02:37.572Z"
   },
   {
    "duration": 12,
    "start_time": "2023-08-09T10:02:37.583Z"
   },
   {
    "duration": 5,
    "start_time": "2023-08-09T10:02:37.597Z"
   },
   {
    "duration": 15,
    "start_time": "2023-08-09T10:02:37.603Z"
   },
   {
    "duration": 15,
    "start_time": "2023-08-09T10:02:37.619Z"
   },
   {
    "duration": 29,
    "start_time": "2023-08-09T10:02:37.636Z"
   },
   {
    "duration": 19,
    "start_time": "2023-08-09T10:02:37.668Z"
   },
   {
    "duration": 131,
    "start_time": "2023-08-09T10:02:37.688Z"
   },
   {
    "duration": 135,
    "start_time": "2023-08-09T10:02:37.821Z"
   },
   {
    "duration": 216,
    "start_time": "2023-08-09T10:02:37.958Z"
   },
   {
    "duration": 142,
    "start_time": "2023-08-09T10:02:38.177Z"
   },
   {
    "duration": 127,
    "start_time": "2023-08-09T10:02:38.321Z"
   },
   {
    "duration": 150,
    "start_time": "2023-08-09T10:02:38.450Z"
   },
   {
    "duration": 124,
    "start_time": "2023-08-09T10:02:38.601Z"
   },
   {
    "duration": 150,
    "start_time": "2023-08-09T10:02:38.727Z"
   },
   {
    "duration": 207,
    "start_time": "2023-08-09T10:02:38.879Z"
   },
   {
    "duration": 4,
    "start_time": "2023-08-09T10:02:39.089Z"
   },
   {
    "duration": 74,
    "start_time": "2023-08-09T10:02:39.095Z"
   },
   {
    "duration": 12,
    "start_time": "2023-08-09T10:02:39.171Z"
   },
   {
    "duration": 38,
    "start_time": "2023-08-09T10:02:39.185Z"
   },
   {
    "duration": 7,
    "start_time": "2023-08-09T10:02:39.225Z"
   },
   {
    "duration": 186,
    "start_time": "2023-08-09T10:02:39.233Z"
   },
   {
    "duration": 6,
    "start_time": "2023-08-09T10:02:39.421Z"
   },
   {
    "duration": 177,
    "start_time": "2023-08-09T10:02:39.428Z"
   },
   {
    "duration": 8,
    "start_time": "2023-08-09T10:02:39.607Z"
   },
   {
    "duration": 262,
    "start_time": "2023-08-09T10:02:39.616Z"
   },
   {
    "duration": 8,
    "start_time": "2023-08-09T10:02:39.880Z"
   },
   {
    "duration": 286,
    "start_time": "2023-08-09T10:02:39.890Z"
   },
   {
    "duration": 25,
    "start_time": "2023-08-09T10:02:40.178Z"
   },
   {
    "duration": 35,
    "start_time": "2023-08-09T10:02:40.205Z"
   },
   {
    "duration": 41,
    "start_time": "2023-08-09T10:02:40.241Z"
   },
   {
    "duration": 3,
    "start_time": "2023-08-09T10:02:40.284Z"
   },
   {
    "duration": 728,
    "start_time": "2023-08-09T10:02:40.289Z"
   },
   {
    "duration": 2,
    "start_time": "2023-08-09T10:02:41.019Z"
   },
   {
    "duration": 7,
    "start_time": "2023-08-09T10:02:41.023Z"
   },
   {
    "duration": 9,
    "start_time": "2023-08-09T10:02:41.032Z"
   },
   {
    "duration": 38,
    "start_time": "2023-08-09T11:59:30.664Z"
   },
   {
    "duration": 4366,
    "start_time": "2023-08-09T17:06:39.447Z"
   },
   {
    "duration": 4,
    "start_time": "2023-08-09T17:06:43.816Z"
   },
   {
    "duration": 228,
    "start_time": "2023-08-09T17:06:43.821Z"
   },
   {
    "duration": 4,
    "start_time": "2023-08-09T17:06:44.052Z"
   },
   {
    "duration": 256,
    "start_time": "2023-08-09T17:06:44.058Z"
   },
   {
    "duration": 214,
    "start_time": "2023-08-09T17:06:44.316Z"
   },
   {
    "duration": 68,
    "start_time": "2023-08-09T17:06:44.532Z"
   },
   {
    "duration": 28,
    "start_time": "2023-08-09T17:06:44.602Z"
   },
   {
    "duration": 65,
    "start_time": "2023-08-09T17:06:44.632Z"
   },
   {
    "duration": 6,
    "start_time": "2023-08-09T17:06:44.701Z"
   },
   {
    "duration": 33,
    "start_time": "2023-08-09T17:06:44.709Z"
   },
   {
    "duration": 34,
    "start_time": "2023-08-09T17:06:44.743Z"
   },
   {
    "duration": 19,
    "start_time": "2023-08-09T17:06:44.778Z"
   },
   {
    "duration": 4,
    "start_time": "2023-08-09T17:06:44.799Z"
   },
   {
    "duration": 10,
    "start_time": "2023-08-09T17:06:44.804Z"
   },
   {
    "duration": 10,
    "start_time": "2023-08-09T17:06:44.815Z"
   },
   {
    "duration": 18,
    "start_time": "2023-08-09T17:06:44.827Z"
   },
   {
    "duration": 15,
    "start_time": "2023-08-09T17:06:44.847Z"
   },
   {
    "duration": 132,
    "start_time": "2023-08-09T17:06:44.863Z"
   },
   {
    "duration": 148,
    "start_time": "2023-08-09T17:06:44.996Z"
   },
   {
    "duration": 135,
    "start_time": "2023-08-09T17:06:45.146Z"
   },
   {
    "duration": 145,
    "start_time": "2023-08-09T17:06:45.283Z"
   },
   {
    "duration": 135,
    "start_time": "2023-08-09T17:06:45.430Z"
   },
   {
    "duration": 137,
    "start_time": "2023-08-09T17:06:45.566Z"
   },
   {
    "duration": 220,
    "start_time": "2023-08-09T17:06:45.705Z"
   },
   {
    "duration": 140,
    "start_time": "2023-08-09T17:06:45.927Z"
   },
   {
    "duration": 135,
    "start_time": "2023-08-09T17:06:46.075Z"
   },
   {
    "duration": 5,
    "start_time": "2023-08-09T17:06:46.215Z"
   },
   {
    "duration": 11,
    "start_time": "2023-08-09T17:06:46.222Z"
   },
   {
    "duration": 37,
    "start_time": "2023-08-09T17:06:46.235Z"
   },
   {
    "duration": 27,
    "start_time": "2023-08-09T17:06:46.274Z"
   },
   {
    "duration": 8,
    "start_time": "2023-08-09T17:06:46.303Z"
   },
   {
    "duration": 182,
    "start_time": "2023-08-09T17:06:46.313Z"
   },
   {
    "duration": 7,
    "start_time": "2023-08-09T17:06:46.497Z"
   },
   {
    "duration": 180,
    "start_time": "2023-08-09T17:06:46.505Z"
   },
   {
    "duration": 7,
    "start_time": "2023-08-09T17:06:46.687Z"
   },
   {
    "duration": 227,
    "start_time": "2023-08-09T17:06:46.696Z"
   },
   {
    "duration": 7,
    "start_time": "2023-08-09T17:06:46.925Z"
   },
   {
    "duration": 215,
    "start_time": "2023-08-09T17:06:46.934Z"
   },
   {
    "duration": 33,
    "start_time": "2023-08-09T17:06:47.151Z"
   },
   {
    "duration": 49,
    "start_time": "2023-08-09T17:06:47.186Z"
   },
   {
    "duration": 36,
    "start_time": "2023-08-09T17:06:47.236Z"
   },
   {
    "duration": 7,
    "start_time": "2023-08-09T17:06:47.276Z"
   },
   {
    "duration": 774,
    "start_time": "2023-08-09T17:06:47.284Z"
   },
   {
    "duration": 47,
    "start_time": "2023-08-09T17:06:48.062Z"
   },
   {
    "duration": 3,
    "start_time": "2023-08-09T17:06:48.110Z"
   },
   {
    "duration": 13,
    "start_time": "2023-08-09T17:06:48.114Z"
   },
   {
    "duration": 5,
    "start_time": "2023-08-09T17:06:48.129Z"
   },
   {
    "duration": 13,
    "start_time": "2023-08-09T17:08:29.338Z"
   },
   {
    "duration": 5342,
    "start_time": "2023-08-10T12:35:10.771Z"
   },
   {
    "duration": 7666,
    "start_time": "2023-08-10T12:35:22.730Z"
   },
   {
    "duration": 1358,
    "start_time": "2023-08-10T12:36:35.759Z"
   },
   {
    "duration": 119,
    "start_time": "2023-08-10T12:36:53.260Z"
   },
   {
    "duration": 6747,
    "start_time": "2023-08-10T12:36:56.880Z"
   },
   {
    "duration": 3,
    "start_time": "2023-08-10T12:37:03.630Z"
   },
   {
    "duration": 434,
    "start_time": "2023-08-10T12:37:03.634Z"
   },
   {
    "duration": 4,
    "start_time": "2023-08-10T12:37:04.070Z"
   },
   {
    "duration": 222,
    "start_time": "2023-08-10T12:37:04.075Z"
   },
   {
    "duration": 169,
    "start_time": "2023-08-10T12:37:04.299Z"
   },
   {
    "duration": 62,
    "start_time": "2023-08-10T12:37:04.469Z"
   },
   {
    "duration": 38,
    "start_time": "2023-08-10T12:37:04.532Z"
   },
   {
    "duration": 83,
    "start_time": "2023-08-10T12:37:04.572Z"
   },
   {
    "duration": 5,
    "start_time": "2023-08-10T12:37:04.658Z"
   },
   {
    "duration": 56,
    "start_time": "2023-08-10T12:37:04.665Z"
   },
   {
    "duration": 30,
    "start_time": "2023-08-10T12:37:04.723Z"
   },
   {
    "duration": 35,
    "start_time": "2023-08-10T12:37:04.754Z"
   },
   {
    "duration": 11,
    "start_time": "2023-08-10T12:37:04.791Z"
   },
   {
    "duration": 40,
    "start_time": "2023-08-10T12:37:04.807Z"
   },
   {
    "duration": 20,
    "start_time": "2023-08-10T12:37:04.849Z"
   },
   {
    "duration": 61,
    "start_time": "2023-08-10T12:37:04.870Z"
   },
   {
    "duration": 10,
    "start_time": "2023-08-10T12:37:04.932Z"
   },
   {
    "duration": 119,
    "start_time": "2023-08-10T12:37:04.943Z"
   },
   {
    "duration": 123,
    "start_time": "2023-08-10T12:37:05.064Z"
   },
   {
    "duration": 149,
    "start_time": "2023-08-10T12:37:05.189Z"
   },
   {
    "duration": 124,
    "start_time": "2023-08-10T12:37:05.339Z"
   },
   {
    "duration": 115,
    "start_time": "2023-08-10T12:37:05.465Z"
   },
   {
    "duration": 144,
    "start_time": "2023-08-10T12:37:05.582Z"
   },
   {
    "duration": 195,
    "start_time": "2023-08-10T12:37:05.728Z"
   },
   {
    "duration": 164,
    "start_time": "2023-08-10T12:37:05.927Z"
   },
   {
    "duration": 134,
    "start_time": "2023-08-10T12:37:06.093Z"
   },
   {
    "duration": 10,
    "start_time": "2023-08-10T12:37:06.231Z"
   },
   {
    "duration": 44,
    "start_time": "2023-08-10T12:37:06.244Z"
   },
   {
    "duration": 74,
    "start_time": "2023-08-10T12:37:06.290Z"
   },
   {
    "duration": 21,
    "start_time": "2023-08-10T12:37:06.365Z"
   },
   {
    "duration": 5,
    "start_time": "2023-08-10T12:37:06.388Z"
   },
   {
    "duration": 181,
    "start_time": "2023-08-10T12:37:06.395Z"
   },
   {
    "duration": 7,
    "start_time": "2023-08-10T12:37:06.578Z"
   },
   {
    "duration": 234,
    "start_time": "2023-08-10T12:37:06.587Z"
   },
   {
    "duration": 7,
    "start_time": "2023-08-10T12:37:06.822Z"
   },
   {
    "duration": 192,
    "start_time": "2023-08-10T12:37:06.830Z"
   },
   {
    "duration": 6,
    "start_time": "2023-08-10T12:37:07.024Z"
   },
   {
    "duration": 166,
    "start_time": "2023-08-10T12:37:07.032Z"
   },
   {
    "duration": 30,
    "start_time": "2023-08-10T12:37:07.205Z"
   },
   {
    "duration": 38,
    "start_time": "2023-08-10T12:37:07.236Z"
   },
   {
    "duration": 29,
    "start_time": "2023-08-10T12:37:07.276Z"
   },
   {
    "duration": 34,
    "start_time": "2023-08-10T12:37:07.306Z"
   },
   {
    "duration": 752,
    "start_time": "2023-08-10T12:37:07.341Z"
   },
   {
    "duration": 58,
    "start_time": "2023-08-10T12:37:08.096Z"
   },
   {
    "duration": 15,
    "start_time": "2023-08-10T12:37:08.157Z"
   },
   {
    "duration": 21408,
    "start_time": "2023-08-10T12:37:08.174Z"
   },
   {
    "duration": 3,
    "start_time": "2023-08-10T12:37:29.583Z"
   },
   {
    "duration": 20,
    "start_time": "2023-08-10T12:37:29.587Z"
   },
   {
    "duration": 18,
    "start_time": "2023-08-10T12:37:29.623Z"
   },
   {
    "duration": 1990,
    "start_time": "2023-08-10T12:38:15.319Z"
   },
   {
    "duration": 4,
    "start_time": "2023-08-10T12:38:38.261Z"
   },
   {
    "duration": 4,
    "start_time": "2023-08-10T12:38:47.157Z"
   },
   {
    "duration": 8772,
    "start_time": "2023-08-10T12:42:25.774Z"
   },
   {
    "duration": 99,
    "start_time": "2023-08-10T12:42:52.010Z"
   },
   {
    "duration": 39,
    "start_time": "2023-08-10T12:43:18.394Z"
   },
   {
    "duration": 2,
    "start_time": "2023-08-10T12:43:26.578Z"
   },
   {
    "duration": 2408,
    "start_time": "2023-08-10T12:43:34.027Z"
   },
   {
    "duration": 3843,
    "start_time": "2023-08-10T12:44:47.304Z"
   },
   {
    "duration": 2356,
    "start_time": "2023-08-10T12:46:47.776Z"
   },
   {
    "duration": 3,
    "start_time": "2023-08-10T12:49:08.906Z"
   },
   {
    "duration": 2,
    "start_time": "2023-08-10T12:49:12.125Z"
   },
   {
    "duration": 1754,
    "start_time": "2023-08-10T12:49:40.706Z"
   },
   {
    "duration": 2,
    "start_time": "2023-08-10T12:49:42.652Z"
   },
   {
    "duration": 12,
    "start_time": "2023-08-10T12:49:49.762Z"
   },
   {
    "duration": 8,
    "start_time": "2023-08-10T12:50:24.107Z"
   },
   {
    "duration": 8,
    "start_time": "2023-08-10T12:51:14.907Z"
   },
   {
    "duration": 8,
    "start_time": "2023-08-10T12:51:21.074Z"
   },
   {
    "duration": 78,
    "start_time": "2023-08-10T12:53:19.316Z"
   },
   {
    "duration": 77,
    "start_time": "2023-08-10T12:53:53.671Z"
   },
   {
    "duration": 11,
    "start_time": "2023-08-10T12:54:02.359Z"
   },
   {
    "duration": 1628,
    "start_time": "2023-08-10T12:54:06.577Z"
   },
   {
    "duration": 2880,
    "start_time": "2023-08-10T12:54:08.207Z"
   },
   {
    "duration": 2826,
    "start_time": "2023-08-10T12:54:18.952Z"
   },
   {
    "duration": 2970,
    "start_time": "2023-08-10T12:55:02.004Z"
   },
   {
    "duration": 2718,
    "start_time": "2023-08-10T12:55:13.533Z"
   },
   {
    "duration": 2853,
    "start_time": "2023-08-10T12:55:25.265Z"
   },
   {
    "duration": 19,
    "start_time": "2023-08-10T13:04:28.615Z"
   },
   {
    "duration": 59,
    "start_time": "2023-08-10T13:05:30.578Z"
   },
   {
    "duration": 988,
    "start_time": "2023-08-10T13:35:29.112Z"
   },
   {
    "duration": 2422,
    "start_time": "2023-08-10T13:35:36.272Z"
   },
   {
    "duration": 3,
    "start_time": "2023-08-10T13:36:56.611Z"
   },
   {
    "duration": 3,
    "start_time": "2023-08-10T13:38:14.570Z"
   },
   {
    "duration": 7905,
    "start_time": "2023-08-10T13:41:33.759Z"
   },
   {
    "duration": 1076,
    "start_time": "2023-08-10T13:41:41.667Z"
   },
   {
    "duration": 136,
    "start_time": "2023-08-10T13:41:42.744Z"
   },
   {
    "duration": 3,
    "start_time": "2023-08-10T13:41:42.882Z"
   },
   {
    "duration": 176,
    "start_time": "2023-08-10T13:41:42.887Z"
   },
   {
    "duration": 159,
    "start_time": "2023-08-10T13:41:43.064Z"
   },
   {
    "duration": 41,
    "start_time": "2023-08-10T13:41:43.224Z"
   },
   {
    "duration": 42,
    "start_time": "2023-08-10T13:41:43.267Z"
   },
   {
    "duration": 30,
    "start_time": "2023-08-10T13:41:43.311Z"
   },
   {
    "duration": 4,
    "start_time": "2023-08-10T13:41:43.343Z"
   },
   {
    "duration": 19,
    "start_time": "2023-08-10T13:41:43.348Z"
   },
   {
    "duration": 9,
    "start_time": "2023-08-10T13:41:43.368Z"
   },
   {
    "duration": 27,
    "start_time": "2023-08-10T13:41:43.378Z"
   },
   {
    "duration": 5,
    "start_time": "2023-08-10T13:41:43.408Z"
   },
   {
    "duration": 6,
    "start_time": "2023-08-10T13:41:43.415Z"
   },
   {
    "duration": 11,
    "start_time": "2023-08-10T13:41:43.423Z"
   },
   {
    "duration": 20,
    "start_time": "2023-08-10T13:41:43.435Z"
   },
   {
    "duration": 9,
    "start_time": "2023-08-10T13:41:43.457Z"
   },
   {
    "duration": 125,
    "start_time": "2023-08-10T13:41:43.467Z"
   },
   {
    "duration": 124,
    "start_time": "2023-08-10T13:41:43.593Z"
   },
   {
    "duration": 122,
    "start_time": "2023-08-10T13:41:43.719Z"
   },
   {
    "duration": 102,
    "start_time": "2023-08-10T13:41:43.842Z"
   },
   {
    "duration": 110,
    "start_time": "2023-08-10T13:41:43.945Z"
   },
   {
    "duration": 168,
    "start_time": "2023-08-10T13:41:44.056Z"
   },
   {
    "duration": 106,
    "start_time": "2023-08-10T13:41:44.225Z"
   },
   {
    "duration": 105,
    "start_time": "2023-08-10T13:41:44.332Z"
   },
   {
    "duration": 107,
    "start_time": "2023-08-10T13:41:44.438Z"
   },
   {
    "duration": 4,
    "start_time": "2023-08-10T13:41:44.546Z"
   },
   {
    "duration": 22,
    "start_time": "2023-08-10T13:41:44.551Z"
   },
   {
    "duration": 9,
    "start_time": "2023-08-10T13:41:44.575Z"
   },
   {
    "duration": 28,
    "start_time": "2023-08-10T13:41:44.585Z"
   },
   {
    "duration": 7,
    "start_time": "2023-08-10T13:41:44.615Z"
   },
   {
    "duration": 127,
    "start_time": "2023-08-10T13:41:44.624Z"
   },
   {
    "duration": 6,
    "start_time": "2023-08-10T13:41:44.752Z"
   },
   {
    "duration": 139,
    "start_time": "2023-08-10T13:41:44.760Z"
   },
   {
    "duration": 6,
    "start_time": "2023-08-10T13:41:44.901Z"
   },
   {
    "duration": 169,
    "start_time": "2023-08-10T13:41:44.909Z"
   },
   {
    "duration": 6,
    "start_time": "2023-08-10T13:41:45.079Z"
   },
   {
    "duration": 160,
    "start_time": "2023-08-10T13:41:45.087Z"
   },
   {
    "duration": 20,
    "start_time": "2023-08-10T13:41:45.248Z"
   },
   {
    "duration": 29,
    "start_time": "2023-08-10T13:41:45.271Z"
   },
   {
    "duration": 19,
    "start_time": "2023-08-10T13:41:45.301Z"
   },
   {
    "duration": 34,
    "start_time": "2023-08-10T13:41:45.322Z"
   },
   {
    "duration": 743,
    "start_time": "2023-08-10T13:41:45.358Z"
   },
   {
    "duration": 2,
    "start_time": "2023-08-10T13:41:46.102Z"
   },
   {
    "duration": 11,
    "start_time": "2023-08-10T13:41:46.106Z"
   },
   {
    "duration": 19,
    "start_time": "2023-08-10T13:41:46.119Z"
   },
   {
    "duration": 12,
    "start_time": "2023-08-10T13:41:46.139Z"
   },
   {
    "duration": 17192,
    "start_time": "2023-08-10T13:41:46.153Z"
   },
   {
    "duration": 154,
    "start_time": "2023-08-10T13:42:03.347Z"
   },
   {
    "duration": 0,
    "start_time": "2023-08-10T13:42:03.502Z"
   },
   {
    "duration": 0,
    "start_time": "2023-08-10T13:42:03.504Z"
   },
   {
    "duration": 0,
    "start_time": "2023-08-10T13:42:03.505Z"
   },
   {
    "duration": 17313,
    "start_time": "2023-08-10T13:45:03.520Z"
   },
   {
    "duration": 2,
    "start_time": "2023-08-10T13:45:20.834Z"
   },
   {
    "duration": 1005,
    "start_time": "2023-08-10T13:46:47.911Z"
   },
   {
    "duration": 2311,
    "start_time": "2023-08-10T13:46:49.591Z"
   },
   {
    "duration": 37,
    "start_time": "2023-08-10T13:58:41.657Z"
   },
   {
    "duration": 500,
    "start_time": "2023-08-10T13:58:47.891Z"
   },
   {
    "duration": 758,
    "start_time": "2023-08-10T13:59:08.887Z"
   },
   {
    "duration": 713,
    "start_time": "2023-08-10T13:59:17.001Z"
   },
   {
    "duration": 6,
    "start_time": "2023-08-10T14:00:37.152Z"
   },
   {
    "duration": 703,
    "start_time": "2023-08-10T14:00:44.291Z"
   },
   {
    "duration": 289,
    "start_time": "2023-08-10T14:01:05.972Z"
   },
   {
    "duration": 166,
    "start_time": "2023-08-10T14:01:17.456Z"
   },
   {
    "duration": 673,
    "start_time": "2023-08-10T14:09:42.047Z"
   },
   {
    "duration": 2,
    "start_time": "2023-08-10T14:10:35.051Z"
   },
   {
    "duration": 2,
    "start_time": "2023-08-10T14:10:38.548Z"
   },
   {
    "duration": 4,
    "start_time": "2023-08-10T14:10:49.070Z"
   },
   {
    "duration": 16,
    "start_time": "2023-08-10T14:12:14.280Z"
   },
   {
    "duration": 14,
    "start_time": "2023-08-10T14:13:03.459Z"
   },
   {
    "duration": 13,
    "start_time": "2023-08-10T14:13:07.410Z"
   },
   {
    "duration": 14,
    "start_time": "2023-08-10T14:13:10.270Z"
   },
   {
    "duration": 11,
    "start_time": "2023-08-10T14:13:32.988Z"
   },
   {
    "duration": 15,
    "start_time": "2023-08-10T14:13:38.671Z"
   },
   {
    "duration": 13,
    "start_time": "2023-08-10T14:13:44.070Z"
   },
   {
    "duration": 23,
    "start_time": "2023-08-10T14:13:50.568Z"
   },
   {
    "duration": 14,
    "start_time": "2023-08-10T14:14:02.263Z"
   },
   {
    "duration": 87,
    "start_time": "2023-08-10T14:15:18.039Z"
   },
   {
    "duration": 88,
    "start_time": "2023-08-10T14:15:25.289Z"
   },
   {
    "duration": 15,
    "start_time": "2023-08-10T14:15:52.839Z"
   },
   {
    "duration": 5,
    "start_time": "2023-08-10T14:16:07.779Z"
   },
   {
    "duration": 3,
    "start_time": "2023-08-10T14:17:24.889Z"
   },
   {
    "duration": 4,
    "start_time": "2023-08-10T14:17:28.646Z"
   },
   {
    "duration": 2,
    "start_time": "2023-08-10T14:17:31.647Z"
   },
   {
    "duration": 35,
    "start_time": "2023-08-10T14:18:45.534Z"
   },
   {
    "duration": 3,
    "start_time": "2023-08-10T14:19:02.054Z"
   },
   {
    "duration": 31,
    "start_time": "2023-08-10T14:19:03.363Z"
   },
   {
    "duration": 3,
    "start_time": "2023-08-10T14:19:23.509Z"
   },
   {
    "duration": 28,
    "start_time": "2023-08-10T14:19:25.843Z"
   },
   {
    "duration": 12,
    "start_time": "2023-08-10T14:21:39.590Z"
   },
   {
    "duration": 8,
    "start_time": "2023-08-10T14:21:43.270Z"
   },
   {
    "duration": 7,
    "start_time": "2023-08-10T14:23:19.851Z"
   },
   {
    "duration": 7,
    "start_time": "2023-08-10T14:23:25.679Z"
   },
   {
    "duration": 4,
    "start_time": "2023-08-10T14:24:39.221Z"
   },
   {
    "duration": 22,
    "start_time": "2023-08-10T14:24:40.471Z"
   },
   {
    "duration": 28,
    "start_time": "2023-08-10T14:24:53.491Z"
   },
   {
    "duration": 20,
    "start_time": "2023-08-10T14:25:06.971Z"
   },
   {
    "duration": 22,
    "start_time": "2023-08-10T14:25:20.657Z"
   },
   {
    "duration": 24,
    "start_time": "2023-08-10T14:25:28.064Z"
   },
   {
    "duration": 3,
    "start_time": "2023-08-10T14:28:24.490Z"
   },
   {
    "duration": 2,
    "start_time": "2023-08-10T14:28:33.960Z"
   },
   {
    "duration": 10712,
    "start_time": "2023-08-11T07:37:39.520Z"
   },
   {
    "duration": 1383,
    "start_time": "2023-08-11T07:37:50.235Z"
   },
   {
    "duration": 476,
    "start_time": "2023-08-11T07:37:51.623Z"
   },
   {
    "duration": 3,
    "start_time": "2023-08-11T07:37:52.102Z"
   },
   {
    "duration": 236,
    "start_time": "2023-08-11T07:37:52.106Z"
   },
   {
    "duration": 205,
    "start_time": "2023-08-11T07:37:52.344Z"
   },
   {
    "duration": 59,
    "start_time": "2023-08-11T07:37:52.551Z"
   },
   {
    "duration": 35,
    "start_time": "2023-08-11T07:37:52.614Z"
   },
   {
    "duration": 49,
    "start_time": "2023-08-11T07:37:52.650Z"
   },
   {
    "duration": 6,
    "start_time": "2023-08-11T07:37:52.707Z"
   },
   {
    "duration": 78,
    "start_time": "2023-08-11T07:37:52.715Z"
   },
   {
    "duration": 12,
    "start_time": "2023-08-11T07:37:52.797Z"
   },
   {
    "duration": 14,
    "start_time": "2023-08-11T07:37:52.810Z"
   },
   {
    "duration": 18,
    "start_time": "2023-08-11T07:37:52.825Z"
   },
   {
    "duration": 8,
    "start_time": "2023-08-11T07:37:52.845Z"
   },
   {
    "duration": 6,
    "start_time": "2023-08-11T07:37:52.855Z"
   },
   {
    "duration": 18,
    "start_time": "2023-08-11T07:37:52.862Z"
   },
   {
    "duration": 16,
    "start_time": "2023-08-11T07:37:52.887Z"
   },
   {
    "duration": 132,
    "start_time": "2023-08-11T07:37:52.904Z"
   },
   {
    "duration": 136,
    "start_time": "2023-08-11T07:37:53.038Z"
   },
   {
    "duration": 145,
    "start_time": "2023-08-11T07:37:53.175Z"
   },
   {
    "duration": 134,
    "start_time": "2023-08-11T07:37:53.322Z"
   },
   {
    "duration": 142,
    "start_time": "2023-08-11T07:37:53.458Z"
   },
   {
    "duration": 202,
    "start_time": "2023-08-11T07:37:53.603Z"
   },
   {
    "duration": 134,
    "start_time": "2023-08-11T07:37:53.806Z"
   },
   {
    "duration": 119,
    "start_time": "2023-08-11T07:37:53.941Z"
   },
   {
    "duration": 137,
    "start_time": "2023-08-11T07:37:54.062Z"
   },
   {
    "duration": 4,
    "start_time": "2023-08-11T07:37:54.202Z"
   },
   {
    "duration": 10,
    "start_time": "2023-08-11T07:37:54.208Z"
   },
   {
    "duration": 9,
    "start_time": "2023-08-11T07:37:54.220Z"
   },
   {
    "duration": 23,
    "start_time": "2023-08-11T07:37:54.231Z"
   },
   {
    "duration": 6,
    "start_time": "2023-08-11T07:37:54.255Z"
   },
   {
    "duration": 149,
    "start_time": "2023-08-11T07:37:54.289Z"
   },
   {
    "duration": 7,
    "start_time": "2023-08-11T07:37:54.440Z"
   },
   {
    "duration": 185,
    "start_time": "2023-08-11T07:37:54.449Z"
   },
   {
    "duration": 9,
    "start_time": "2023-08-11T07:37:54.635Z"
   },
   {
    "duration": 223,
    "start_time": "2023-08-11T07:37:54.646Z"
   },
   {
    "duration": 7,
    "start_time": "2023-08-11T07:37:54.871Z"
   },
   {
    "duration": 252,
    "start_time": "2023-08-11T07:37:54.888Z"
   },
   {
    "duration": 25,
    "start_time": "2023-08-11T07:37:55.142Z"
   },
   {
    "duration": 68,
    "start_time": "2023-08-11T07:37:55.169Z"
   },
   {
    "duration": 32,
    "start_time": "2023-08-11T07:37:55.239Z"
   },
   {
    "duration": 41,
    "start_time": "2023-08-11T07:37:55.273Z"
   },
   {
    "duration": 813,
    "start_time": "2023-08-11T07:37:55.316Z"
   },
   {
    "duration": 7,
    "start_time": "2023-08-11T07:37:56.131Z"
   },
   {
    "duration": 24,
    "start_time": "2023-08-11T07:37:56.139Z"
   },
   {
    "duration": 36,
    "start_time": "2023-08-11T07:37:56.165Z"
   },
   {
    "duration": 27,
    "start_time": "2023-08-11T07:37:56.204Z"
   },
   {
    "duration": 24,
    "start_time": "2023-08-11T07:37:56.233Z"
   },
   {
    "duration": 27,
    "start_time": "2023-08-11T07:37:56.259Z"
   },
   {
    "duration": 46,
    "start_time": "2023-08-11T07:37:56.292Z"
   },
   {
    "duration": 6,
    "start_time": "2023-08-11T07:37:56.340Z"
   },
   {
    "duration": 1126,
    "start_time": "2023-08-11T07:37:56.348Z"
   },
   {
    "duration": 3059,
    "start_time": "2023-08-11T07:37:57.476Z"
   },
   {
    "duration": 9,
    "start_time": "2023-08-11T07:40:06.263Z"
   },
   {
    "duration": 10,
    "start_time": "2023-08-11T07:41:16.694Z"
   },
   {
    "duration": 13,
    "start_time": "2023-08-11T07:41:24.253Z"
   },
   {
    "duration": 11,
    "start_time": "2023-08-11T07:41:32.540Z"
   },
   {
    "duration": 18,
    "start_time": "2023-08-11T07:41:35.584Z"
   },
   {
    "duration": 10,
    "start_time": "2023-08-11T07:42:36.713Z"
   },
   {
    "duration": 13,
    "start_time": "2023-08-11T07:44:10.333Z"
   },
   {
    "duration": 12,
    "start_time": "2023-08-11T07:44:16.322Z"
   },
   {
    "duration": 11,
    "start_time": "2023-08-11T07:44:19.349Z"
   },
   {
    "duration": 13,
    "start_time": "2023-08-11T07:44:22.543Z"
   },
   {
    "duration": 11,
    "start_time": "2023-08-11T07:44:35.912Z"
   },
   {
    "duration": 12,
    "start_time": "2023-08-11T07:48:33.511Z"
   },
   {
    "duration": 114,
    "start_time": "2023-08-11T07:49:08.210Z"
   },
   {
    "duration": 138,
    "start_time": "2023-08-11T07:50:26.540Z"
   },
   {
    "duration": 143,
    "start_time": "2023-08-11T07:51:22.269Z"
   },
   {
    "duration": 134,
    "start_time": "2023-08-11T07:51:33.051Z"
   },
   {
    "duration": 194,
    "start_time": "2023-08-11T07:52:04.699Z"
   },
   {
    "duration": 162,
    "start_time": "2023-08-11T07:52:09.220Z"
   },
   {
    "duration": 162,
    "start_time": "2023-08-11T07:52:15.359Z"
   },
   {
    "duration": 111,
    "start_time": "2023-08-11T07:52:33.802Z"
   },
   {
    "duration": 230,
    "start_time": "2023-08-11T07:52:40.470Z"
   },
   {
    "duration": 146,
    "start_time": "2023-08-11T07:52:43.621Z"
   },
   {
    "duration": 163,
    "start_time": "2023-08-11T07:52:57.778Z"
   },
   {
    "duration": 3,
    "start_time": "2023-08-11T07:54:41.571Z"
   },
   {
    "duration": 11,
    "start_time": "2023-08-11T07:55:45.751Z"
   },
   {
    "duration": 3,
    "start_time": "2023-08-11T07:55:49.822Z"
   },
   {
    "duration": 10,
    "start_time": "2023-08-11T07:55:57.176Z"
   },
   {
    "duration": 157,
    "start_time": "2023-08-11T07:55:59.999Z"
   },
   {
    "duration": 11,
    "start_time": "2023-08-11T07:59:14.510Z"
   },
   {
    "duration": 20,
    "start_time": "2023-08-11T07:59:16.949Z"
   },
   {
    "duration": 6,
    "start_time": "2023-08-11T07:59:34.927Z"
   },
   {
    "duration": 8,
    "start_time": "2023-08-11T07:59:41.827Z"
   },
   {
    "duration": 132,
    "start_time": "2023-08-11T07:59:45.019Z"
   },
   {
    "duration": 118,
    "start_time": "2023-08-11T07:59:48.300Z"
   },
   {
    "duration": 108,
    "start_time": "2023-08-11T08:00:11.969Z"
   },
   {
    "duration": 114,
    "start_time": "2023-08-11T08:00:47.769Z"
   },
   {
    "duration": 132,
    "start_time": "2023-08-11T08:02:28.526Z"
   },
   {
    "duration": 146,
    "start_time": "2023-08-11T08:02:36.448Z"
   },
   {
    "duration": 140,
    "start_time": "2023-08-11T08:02:39.299Z"
   },
   {
    "duration": 264,
    "start_time": "2023-08-11T08:02:42.366Z"
   },
   {
    "duration": 168,
    "start_time": "2023-08-11T08:02:57.349Z"
   },
   {
    "duration": 165,
    "start_time": "2023-08-11T08:03:01.103Z"
   },
   {
    "duration": 131,
    "start_time": "2023-08-11T08:03:19.808Z"
   },
   {
    "duration": 180,
    "start_time": "2023-08-11T08:03:35.517Z"
   },
   {
    "duration": 153,
    "start_time": "2023-08-11T08:03:40.406Z"
   },
   {
    "duration": 169,
    "start_time": "2023-08-11T08:03:42.568Z"
   },
   {
    "duration": 135,
    "start_time": "2023-08-11T08:03:55.906Z"
   },
   {
    "duration": 158,
    "start_time": "2023-08-11T08:04:11.177Z"
   },
   {
    "duration": 146,
    "start_time": "2023-08-11T08:06:04.694Z"
   },
   {
    "duration": 1802,
    "start_time": "2023-08-11T08:06:54.389Z"
   },
   {
    "duration": 157,
    "start_time": "2023-08-11T08:06:56.588Z"
   },
   {
    "duration": 216,
    "start_time": "2023-08-11T08:07:08.157Z"
   },
   {
    "duration": 142,
    "start_time": "2023-08-11T08:07:20.377Z"
   },
   {
    "duration": 137,
    "start_time": "2023-08-11T08:07:23.139Z"
   },
   {
    "duration": 199,
    "start_time": "2023-08-11T08:11:05.128Z"
   },
   {
    "duration": 4,
    "start_time": "2023-08-11T08:11:57.057Z"
   },
   {
    "duration": 25,
    "start_time": "2023-08-11T08:12:17.000Z"
   },
   {
    "duration": 24,
    "start_time": "2023-08-11T08:13:19.555Z"
   },
   {
    "duration": 4,
    "start_time": "2023-08-11T08:13:23.068Z"
   },
   {
    "duration": 7,
    "start_time": "2023-08-11T08:13:51.361Z"
   },
   {
    "duration": 127,
    "start_time": "2023-08-11T08:14:42.399Z"
   },
   {
    "duration": 24,
    "start_time": "2023-08-11T08:15:04.891Z"
   },
   {
    "duration": 133,
    "start_time": "2023-08-11T08:15:08.085Z"
   },
   {
    "duration": 94,
    "start_time": "2023-08-11T08:15:27.657Z"
   },
   {
    "duration": 136,
    "start_time": "2023-08-11T08:17:47.400Z"
   },
   {
    "duration": 111,
    "start_time": "2023-08-11T08:18:07.402Z"
   },
   {
    "duration": 132,
    "start_time": "2023-08-11T08:18:10.399Z"
   },
   {
    "duration": 128,
    "start_time": "2023-08-11T08:18:18.426Z"
   },
   {
    "duration": 243,
    "start_time": "2023-08-11T08:18:21.328Z"
   },
   {
    "duration": 187,
    "start_time": "2023-08-11T08:18:30.030Z"
   },
   {
    "duration": 188,
    "start_time": "2023-08-11T08:18:35.318Z"
   },
   {
    "duration": 162,
    "start_time": "2023-08-11T08:18:43.302Z"
   },
   {
    "duration": 5,
    "start_time": "2023-08-11T08:28:18.203Z"
   },
   {
    "duration": 4,
    "start_time": "2023-08-11T08:28:27.732Z"
   },
   {
    "duration": 912,
    "start_time": "2023-08-11T08:30:18.704Z"
   },
   {
    "duration": 1055,
    "start_time": "2023-08-11T08:30:26.110Z"
   },
   {
    "duration": 5,
    "start_time": "2023-08-11T08:32:40.241Z"
   },
   {
    "duration": 3,
    "start_time": "2023-08-11T08:32:44.031Z"
   },
   {
    "duration": 163,
    "start_time": "2023-08-11T08:47:45.404Z"
   },
   {
    "duration": 87,
    "start_time": "2023-08-11T08:55:16.038Z"
   },
   {
    "duration": 91,
    "start_time": "2023-08-11T08:55:28.583Z"
   },
   {
    "duration": 234,
    "start_time": "2023-08-11T08:55:52.982Z"
   },
   {
    "duration": 234,
    "start_time": "2023-08-11T08:56:09.273Z"
   },
   {
    "duration": 378,
    "start_time": "2023-08-11T08:59:20.103Z"
   },
   {
    "duration": 275,
    "start_time": "2023-08-11T08:59:26.203Z"
   },
   {
    "duration": 283,
    "start_time": "2023-08-11T08:59:31.414Z"
   },
   {
    "duration": 296,
    "start_time": "2023-08-11T08:59:34.986Z"
   },
   {
    "duration": 260,
    "start_time": "2023-08-11T08:59:39.181Z"
   },
   {
    "duration": 364,
    "start_time": "2023-08-11T09:00:58.505Z"
   },
   {
    "duration": 299,
    "start_time": "2023-08-11T09:01:05.033Z"
   },
   {
    "duration": 281,
    "start_time": "2023-08-11T09:01:11.982Z"
   },
   {
    "duration": 286,
    "start_time": "2023-08-11T09:02:13.824Z"
   },
   {
    "duration": 283,
    "start_time": "2023-08-11T09:02:19.956Z"
   },
   {
    "duration": 290,
    "start_time": "2023-08-11T09:02:57.745Z"
   },
   {
    "duration": 393,
    "start_time": "2023-08-11T09:03:03.885Z"
   },
   {
    "duration": 295,
    "start_time": "2023-08-11T09:03:09.244Z"
   },
   {
    "duration": 333,
    "start_time": "2023-08-11T09:03:15.251Z"
   },
   {
    "duration": 305,
    "start_time": "2023-08-11T09:03:22.906Z"
   },
   {
    "duration": 276,
    "start_time": "2023-08-11T09:03:40.205Z"
   },
   {
    "duration": 438,
    "start_time": "2023-08-11T09:03:59.013Z"
   },
   {
    "duration": 316,
    "start_time": "2023-08-11T09:04:06.575Z"
   },
   {
    "duration": 322,
    "start_time": "2023-08-11T09:04:17.496Z"
   },
   {
    "duration": 293,
    "start_time": "2023-08-11T09:04:26.342Z"
   },
   {
    "duration": 296,
    "start_time": "2023-08-11T09:04:40.175Z"
   },
   {
    "duration": 542,
    "start_time": "2023-08-11T09:27:43.325Z"
   },
   {
    "duration": 435,
    "start_time": "2023-08-11T09:28:23.336Z"
   },
   {
    "duration": 450,
    "start_time": "2023-08-11T09:30:00.134Z"
   },
   {
    "duration": 10166,
    "start_time": "2023-08-11T09:59:50.215Z"
   },
   {
    "duration": 1375,
    "start_time": "2023-08-11T10:00:00.384Z"
   },
   {
    "duration": 190,
    "start_time": "2023-08-11T10:00:01.761Z"
   },
   {
    "duration": 3,
    "start_time": "2023-08-11T10:00:01.953Z"
   },
   {
    "duration": 372,
    "start_time": "2023-08-11T10:00:01.958Z"
   },
   {
    "duration": 230,
    "start_time": "2023-08-11T10:00:02.332Z"
   },
   {
    "duration": 83,
    "start_time": "2023-08-11T10:00:02.563Z"
   },
   {
    "duration": 93,
    "start_time": "2023-08-11T10:00:02.648Z"
   },
   {
    "duration": 40,
    "start_time": "2023-08-11T10:00:02.743Z"
   },
   {
    "duration": 16,
    "start_time": "2023-08-11T10:00:02.785Z"
   },
   {
    "duration": 30,
    "start_time": "2023-08-11T10:00:02.806Z"
   },
   {
    "duration": 38,
    "start_time": "2023-08-11T10:00:02.838Z"
   },
   {
    "duration": 45,
    "start_time": "2023-08-11T10:00:02.878Z"
   },
   {
    "duration": 22,
    "start_time": "2023-08-11T10:00:02.925Z"
   },
   {
    "duration": 32,
    "start_time": "2023-08-11T10:00:02.949Z"
   },
   {
    "duration": 27,
    "start_time": "2023-08-11T10:00:02.983Z"
   },
   {
    "duration": 36,
    "start_time": "2023-08-11T10:00:03.014Z"
   },
   {
    "duration": 22,
    "start_time": "2023-08-11T10:00:03.052Z"
   },
   {
    "duration": 162,
    "start_time": "2023-08-11T10:00:03.076Z"
   },
   {
    "duration": 157,
    "start_time": "2023-08-11T10:00:03.240Z"
   },
   {
    "duration": 144,
    "start_time": "2023-08-11T10:00:03.399Z"
   },
   {
    "duration": 139,
    "start_time": "2023-08-11T10:00:03.545Z"
   },
   {
    "duration": 137,
    "start_time": "2023-08-11T10:00:03.692Z"
   },
   {
    "duration": 220,
    "start_time": "2023-08-11T10:00:03.831Z"
   },
   {
    "duration": 151,
    "start_time": "2023-08-11T10:00:04.052Z"
   },
   {
    "duration": 142,
    "start_time": "2023-08-11T10:00:04.213Z"
   },
   {
    "duration": 154,
    "start_time": "2023-08-11T10:00:04.356Z"
   },
   {
    "duration": 9,
    "start_time": "2023-08-11T10:00:04.513Z"
   },
   {
    "duration": 37,
    "start_time": "2023-08-11T10:00:04.523Z"
   },
   {
    "duration": 31,
    "start_time": "2023-08-11T10:00:04.562Z"
   },
   {
    "duration": 40,
    "start_time": "2023-08-11T10:00:04.595Z"
   },
   {
    "duration": 7,
    "start_time": "2023-08-11T10:00:04.637Z"
   },
   {
    "duration": 338,
    "start_time": "2023-08-11T10:00:04.647Z"
   },
   {
    "duration": 15,
    "start_time": "2023-08-11T10:00:04.988Z"
   },
   {
    "duration": 242,
    "start_time": "2023-08-11T10:00:05.006Z"
   },
   {
    "duration": 7,
    "start_time": "2023-08-11T10:00:05.250Z"
   },
   {
    "duration": 284,
    "start_time": "2023-08-11T10:00:05.258Z"
   },
   {
    "duration": 6,
    "start_time": "2023-08-11T10:00:05.544Z"
   },
   {
    "duration": 256,
    "start_time": "2023-08-11T10:00:05.552Z"
   },
   {
    "duration": 30,
    "start_time": "2023-08-11T10:00:05.811Z"
   },
   {
    "duration": 60,
    "start_time": "2023-08-11T10:00:05.844Z"
   },
   {
    "duration": 39,
    "start_time": "2023-08-11T10:00:05.906Z"
   },
   {
    "duration": 23,
    "start_time": "2023-08-11T10:00:05.947Z"
   },
   {
    "duration": 942,
    "start_time": "2023-08-11T10:00:05.971Z"
   },
   {
    "duration": 14,
    "start_time": "2023-08-11T10:00:06.915Z"
   },
   {
    "duration": 20,
    "start_time": "2023-08-11T10:00:06.930Z"
   },
   {
    "duration": 22,
    "start_time": "2023-08-11T10:00:06.952Z"
   },
   {
    "duration": 27,
    "start_time": "2023-08-11T10:00:06.975Z"
   },
   {
    "duration": 316,
    "start_time": "2023-08-11T10:00:07.005Z"
   },
   {
    "duration": 405,
    "start_time": "2023-08-11T10:00:07.323Z"
   },
   {
    "duration": 194,
    "start_time": "2023-08-11T10:00:07.730Z"
   },
   {
    "duration": 9,
    "start_time": "2023-08-11T10:00:07.926Z"
   },
   {
    "duration": 527,
    "start_time": "2023-08-11T10:00:07.942Z"
   },
   {
    "duration": 1358,
    "start_time": "2023-08-11T10:00:08.471Z"
   },
   {
    "duration": 3501,
    "start_time": "2023-08-11T10:00:09.831Z"
   },
   {
    "duration": 3,
    "start_time": "2023-08-11T10:00:13.334Z"
   },
   {
    "duration": 14,
    "start_time": "2023-08-11T10:03:29.487Z"
   },
   {
    "duration": 158,
    "start_time": "2023-08-11T10:07:21.267Z"
   },
   {
    "duration": 9,
    "start_time": "2023-08-11T10:07:23.416Z"
   },
   {
    "duration": 286,
    "start_time": "2023-08-11T10:07:25.129Z"
   },
   {
    "duration": 14,
    "start_time": "2023-08-11T10:07:39.881Z"
   },
   {
    "duration": 7,
    "start_time": "2023-08-11T10:07:46.922Z"
   },
   {
    "duration": 342,
    "start_time": "2023-08-11T10:53:22.254Z"
   },
   {
    "duration": 126,
    "start_time": "2023-08-11T10:57:19.029Z"
   },
   {
    "duration": 10,
    "start_time": "2023-08-11T11:04:45.817Z"
   },
   {
    "duration": 7,
    "start_time": "2023-08-11T11:04:52.175Z"
   },
   {
    "duration": 482,
    "start_time": "2023-08-11T11:05:26.259Z"
   },
   {
    "duration": 418,
    "start_time": "2023-08-11T11:05:36.755Z"
   },
   {
    "duration": 555,
    "start_time": "2023-08-11T11:05:50.963Z"
   },
   {
    "duration": 491,
    "start_time": "2023-08-11T11:05:56.463Z"
   },
   {
    "duration": 1085,
    "start_time": "2023-08-11T11:12:29.662Z"
   },
   {
    "duration": 19,
    "start_time": "2023-08-11T11:14:06.607Z"
   },
   {
    "duration": 17,
    "start_time": "2023-08-11T11:14:16.912Z"
   },
   {
    "duration": 13,
    "start_time": "2023-08-11T11:15:46.406Z"
   },
   {
    "duration": 7,
    "start_time": "2023-08-11T11:16:08.260Z"
   },
   {
    "duration": 8,
    "start_time": "2023-08-11T11:16:21.932Z"
   },
   {
    "duration": 0,
    "start_time": "2023-08-11T11:16:34.656Z"
   },
   {
    "duration": 15,
    "start_time": "2023-08-11T11:16:47.178Z"
   },
   {
    "duration": 16,
    "start_time": "2023-08-11T11:16:54.120Z"
   },
   {
    "duration": 22,
    "start_time": "2023-08-11T11:17:01.096Z"
   },
   {
    "duration": 20,
    "start_time": "2023-08-11T11:17:09.079Z"
   },
   {
    "duration": 18,
    "start_time": "2023-08-11T11:18:46.114Z"
   },
   {
    "duration": 15,
    "start_time": "2023-08-11T11:18:52.806Z"
   },
   {
    "duration": 313,
    "start_time": "2023-08-11T11:19:04.959Z"
   },
   {
    "duration": 210,
    "start_time": "2023-08-11T11:19:19.459Z"
   },
   {
    "duration": 203,
    "start_time": "2023-08-11T11:19:36.880Z"
   },
   {
    "duration": 293,
    "start_time": "2023-08-11T11:19:42.423Z"
   },
   {
    "duration": 212,
    "start_time": "2023-08-11T11:19:45.956Z"
   },
   {
    "duration": 308,
    "start_time": "2023-08-11T11:19:51.634Z"
   },
   {
    "duration": 397,
    "start_time": "2023-08-11T11:19:54.679Z"
   },
   {
    "duration": 343,
    "start_time": "2023-08-11T11:20:04.607Z"
   },
   {
    "duration": 240,
    "start_time": "2023-08-11T11:20:08.279Z"
   },
   {
    "duration": 296,
    "start_time": "2023-08-11T11:20:12.673Z"
   },
   {
    "duration": 125,
    "start_time": "2023-08-11T11:20:27.371Z"
   },
   {
    "duration": 294,
    "start_time": "2023-08-11T11:20:31.108Z"
   },
   {
    "duration": 281,
    "start_time": "2023-08-11T11:21:47.786Z"
   },
   {
    "duration": 295,
    "start_time": "2023-08-11T11:22:08.080Z"
   },
   {
    "duration": 286,
    "start_time": "2023-08-11T11:22:33.694Z"
   },
   {
    "duration": 247,
    "start_time": "2023-08-11T11:22:39.707Z"
   },
   {
    "duration": 234,
    "start_time": "2023-08-11T11:22:44.292Z"
   },
   {
    "duration": 205,
    "start_time": "2023-08-11T11:22:48.126Z"
   },
   {
    "duration": 293,
    "start_time": "2023-08-11T11:23:08.369Z"
   },
   {
    "duration": 174,
    "start_time": "2023-08-11T11:23:11.129Z"
   },
   {
    "duration": 265,
    "start_time": "2023-08-11T11:23:24.478Z"
   },
   {
    "duration": 282,
    "start_time": "2023-08-11T11:23:34.355Z"
   },
   {
    "duration": 224,
    "start_time": "2023-08-11T11:23:45.968Z"
   },
   {
    "duration": 228,
    "start_time": "2023-08-11T11:23:50.669Z"
   },
   {
    "duration": 256,
    "start_time": "2023-08-11T11:23:56.358Z"
   },
   {
    "duration": 288,
    "start_time": "2023-08-11T11:31:13.620Z"
   },
   {
    "duration": 349,
    "start_time": "2023-08-11T11:31:25.413Z"
   },
   {
    "duration": 2,
    "start_time": "2023-08-11T11:33:17.967Z"
   },
   {
    "duration": 5,
    "start_time": "2023-08-11T11:33:22.919Z"
   },
   {
    "duration": 6,
    "start_time": "2023-08-11T11:33:37.416Z"
   },
   {
    "duration": 166,
    "start_time": "2023-08-11T11:33:47.512Z"
   },
   {
    "duration": 296,
    "start_time": "2023-08-11T11:35:49.778Z"
   },
   {
    "duration": 372,
    "start_time": "2023-08-11T11:38:17.774Z"
   },
   {
    "duration": 318,
    "start_time": "2023-08-11T11:38:27.419Z"
   },
   {
    "duration": 324,
    "start_time": "2023-08-11T11:38:43.859Z"
   },
   {
    "duration": 410,
    "start_time": "2023-08-11T11:38:57.202Z"
   },
   {
    "duration": 3,
    "start_time": "2023-08-11T11:39:23.707Z"
   },
   {
    "duration": 366,
    "start_time": "2023-08-11T11:39:25.029Z"
   },
   {
    "duration": 149,
    "start_time": "2023-08-11T11:40:14.369Z"
   },
   {
    "duration": 3,
    "start_time": "2023-08-11T11:40:15.736Z"
   },
   {
    "duration": 344,
    "start_time": "2023-08-11T11:40:16.379Z"
   },
   {
    "duration": 1105,
    "start_time": "2023-08-11T15:05:26.819Z"
   },
   {
    "duration": 11882,
    "start_time": "2023-08-11T15:05:32.832Z"
   },
   {
    "duration": 1297,
    "start_time": "2023-08-11T15:05:44.716Z"
   },
   {
    "duration": 448,
    "start_time": "2023-08-11T15:05:46.015Z"
   },
   {
    "duration": 5,
    "start_time": "2023-08-11T15:05:46.472Z"
   },
   {
    "duration": 234,
    "start_time": "2023-08-11T15:05:46.479Z"
   },
   {
    "duration": 207,
    "start_time": "2023-08-11T15:05:46.715Z"
   },
   {
    "duration": 81,
    "start_time": "2023-08-11T15:05:46.924Z"
   },
   {
    "duration": 33,
    "start_time": "2023-08-11T15:05:47.007Z"
   },
   {
    "duration": 61,
    "start_time": "2023-08-11T15:05:47.070Z"
   },
   {
    "duration": 6,
    "start_time": "2023-08-11T15:05:47.134Z"
   },
   {
    "duration": 30,
    "start_time": "2023-08-11T15:05:47.142Z"
   },
   {
    "duration": 43,
    "start_time": "2023-08-11T15:05:47.174Z"
   },
   {
    "duration": 16,
    "start_time": "2023-08-11T15:05:47.219Z"
   },
   {
    "duration": 11,
    "start_time": "2023-08-11T15:05:47.237Z"
   },
   {
    "duration": 42,
    "start_time": "2023-08-11T15:05:47.250Z"
   },
   {
    "duration": 18,
    "start_time": "2023-08-11T15:05:47.294Z"
   },
   {
    "duration": 24,
    "start_time": "2023-08-11T15:05:47.315Z"
   },
   {
    "duration": 12,
    "start_time": "2023-08-11T15:05:47.341Z"
   },
   {
    "duration": 194,
    "start_time": "2023-08-11T15:05:47.354Z"
   },
   {
    "duration": 186,
    "start_time": "2023-08-11T15:05:47.550Z"
   },
   {
    "duration": 170,
    "start_time": "2023-08-11T15:05:47.738Z"
   },
   {
    "duration": 143,
    "start_time": "2023-08-11T15:05:47.910Z"
   },
   {
    "duration": 157,
    "start_time": "2023-08-11T15:05:48.055Z"
   },
   {
    "duration": 186,
    "start_time": "2023-08-11T15:05:48.215Z"
   },
   {
    "duration": 275,
    "start_time": "2023-08-11T15:05:48.406Z"
   },
   {
    "duration": 143,
    "start_time": "2023-08-11T15:05:48.685Z"
   },
   {
    "duration": 162,
    "start_time": "2023-08-11T15:05:48.830Z"
   },
   {
    "duration": 10,
    "start_time": "2023-08-11T15:05:48.997Z"
   },
   {
    "duration": 27,
    "start_time": "2023-08-11T15:05:49.009Z"
   },
   {
    "duration": 17,
    "start_time": "2023-08-11T15:05:49.038Z"
   },
   {
    "duration": 68,
    "start_time": "2023-08-11T15:05:49.061Z"
   },
   {
    "duration": 8,
    "start_time": "2023-08-11T15:05:49.131Z"
   },
   {
    "duration": 201,
    "start_time": "2023-08-11T15:05:49.142Z"
   },
   {
    "duration": 16,
    "start_time": "2023-08-11T15:05:49.345Z"
   },
   {
    "duration": 238,
    "start_time": "2023-08-11T15:05:49.362Z"
   },
   {
    "duration": 9,
    "start_time": "2023-08-11T15:05:49.601Z"
   },
   {
    "duration": 273,
    "start_time": "2023-08-11T15:05:49.612Z"
   },
   {
    "duration": 9,
    "start_time": "2023-08-11T15:05:49.891Z"
   },
   {
    "duration": 242,
    "start_time": "2023-08-11T15:05:49.902Z"
   },
   {
    "duration": 33,
    "start_time": "2023-08-11T15:05:50.146Z"
   },
   {
    "duration": 99,
    "start_time": "2023-08-11T15:05:50.180Z"
   },
   {
    "duration": 38,
    "start_time": "2023-08-11T15:05:50.281Z"
   },
   {
    "duration": 29,
    "start_time": "2023-08-11T15:05:50.322Z"
   },
   {
    "duration": 994,
    "start_time": "2023-08-11T15:05:50.352Z"
   },
   {
    "duration": 17,
    "start_time": "2023-08-11T15:05:51.348Z"
   },
   {
    "duration": 40,
    "start_time": "2023-08-11T15:05:51.367Z"
   },
   {
    "duration": 19,
    "start_time": "2023-08-11T15:05:51.409Z"
   },
   {
    "duration": 66,
    "start_time": "2023-08-11T15:05:51.430Z"
   },
   {
    "duration": 227,
    "start_time": "2023-08-11T15:05:51.498Z"
   },
   {
    "duration": 527,
    "start_time": "2023-08-11T15:05:51.727Z"
   },
   {
    "duration": 158,
    "start_time": "2023-08-11T15:05:52.258Z"
   },
   {
    "duration": 8,
    "start_time": "2023-08-11T15:05:52.418Z"
   },
   {
    "duration": 549,
    "start_time": "2023-08-11T15:05:52.428Z"
   },
   {
    "duration": 13,
    "start_time": "2023-08-11T15:05:52.981Z"
   },
   {
    "duration": 36,
    "start_time": "2023-08-11T15:05:52.995Z"
   },
   {
    "duration": 246,
    "start_time": "2023-08-11T15:05:53.032Z"
   },
   {
    "duration": 406,
    "start_time": "2023-08-11T15:05:53.282Z"
   },
   {
    "duration": 135,
    "start_time": "2023-08-11T15:05:53.690Z"
   },
   {
    "duration": 8,
    "start_time": "2023-08-11T15:05:53.827Z"
   },
   {
    "duration": 617,
    "start_time": "2023-08-11T15:05:53.837Z"
   },
   {
    "duration": 7,
    "start_time": "2023-08-11T15:05:54.456Z"
   },
   {
    "duration": 451,
    "start_time": "2023-08-11T15:05:54.472Z"
   },
   {
    "duration": 5,
    "start_time": "2023-08-11T15:05:54.925Z"
   },
   {
    "duration": 419,
    "start_time": "2023-08-11T15:05:54.931Z"
   },
   {
    "duration": 1367,
    "start_time": "2023-08-11T15:05:55.352Z"
   },
   {
    "duration": 131,
    "start_time": "2023-08-11T15:05:56.721Z"
   },
   {
    "duration": 0,
    "start_time": "2023-08-11T15:05:56.853Z"
   },
   {
    "duration": 3544,
    "start_time": "2023-08-11T15:06:11.686Z"
   },
   {
    "duration": 3707,
    "start_time": "2023-08-11T15:06:26.701Z"
   },
   {
    "duration": 1784,
    "start_time": "2023-08-11T15:11:37.243Z"
   },
   {
    "duration": 27,
    "start_time": "2023-08-11T15:24:39.688Z"
   },
   {
    "duration": 9,
    "start_time": "2023-08-11T15:38:55.931Z"
   },
   {
    "duration": 686,
    "start_time": "2023-08-11T15:39:11.986Z"
   },
   {
    "duration": 14,
    "start_time": "2023-08-11T15:43:20.207Z"
   },
   {
    "duration": 9,
    "start_time": "2023-08-11T15:43:43.041Z"
   },
   {
    "duration": 492,
    "start_time": "2023-08-11T15:43:44.003Z"
   },
   {
    "duration": 24,
    "start_time": "2023-08-11T15:48:48.689Z"
   },
   {
    "duration": 603,
    "start_time": "2023-08-11T16:02:38.011Z"
   },
   {
    "duration": 7,
    "start_time": "2023-08-11T16:03:23.442Z"
   },
   {
    "duration": 18,
    "start_time": "2023-08-11T16:03:44.981Z"
   },
   {
    "duration": 10,
    "start_time": "2023-08-11T16:03:48.696Z"
   },
   {
    "duration": 7,
    "start_time": "2023-08-11T16:04:15.234Z"
   },
   {
    "duration": 8,
    "start_time": "2023-08-11T16:18:29.901Z"
   },
   {
    "duration": 38,
    "start_time": "2023-08-11T16:18:31.397Z"
   },
   {
    "duration": 9,
    "start_time": "2023-08-11T16:20:36.805Z"
   },
   {
    "duration": 7,
    "start_time": "2023-08-11T16:22:00.314Z"
   },
   {
    "duration": 7,
    "start_time": "2023-08-11T16:25:08.030Z"
   },
   {
    "duration": 15,
    "start_time": "2023-08-11T16:25:09.761Z"
   },
   {
    "duration": 20,
    "start_time": "2023-08-11T16:25:12.646Z"
   },
   {
    "duration": 42257,
    "start_time": "2023-08-11T16:25:36.584Z"
   },
   {
    "duration": 35,
    "start_time": "2023-08-11T16:26:32.784Z"
   },
   {
    "duration": 24,
    "start_time": "2023-08-11T16:27:10.213Z"
   },
   {
    "duration": 21,
    "start_time": "2023-08-11T16:27:14.794Z"
   },
   {
    "duration": 59,
    "start_time": "2023-08-11T16:27:15.984Z"
   },
   {
    "duration": 16001,
    "start_time": "2023-08-11T16:27:55.612Z"
   },
   {
    "duration": 16225,
    "start_time": "2023-08-11T16:28:17.747Z"
   },
   {
    "duration": 18166,
    "start_time": "2023-08-11T16:28:46.359Z"
   },
   {
    "duration": 80,
    "start_time": "2023-08-11T16:29:41.647Z"
   },
   {
    "duration": 35,
    "start_time": "2023-08-11T16:30:31.154Z"
   },
   {
    "duration": 70,
    "start_time": "2023-08-11T16:31:39.559Z"
   },
   {
    "duration": 43,
    "start_time": "2023-08-11T16:31:45.513Z"
   },
   {
    "duration": 9865,
    "start_time": "2023-08-11T16:36:56.740Z"
   },
   {
    "duration": 3579,
    "start_time": "2023-08-11T16:37:15.549Z"
   },
   {
    "duration": 20646,
    "start_time": "2023-08-11T16:37:19.132Z"
   },
   {
    "duration": 1452,
    "start_time": "2023-08-11T16:37:39.784Z"
   },
   {
    "duration": 226,
    "start_time": "2023-08-11T16:37:41.239Z"
   },
   {
    "duration": 14,
    "start_time": "2023-08-11T16:37:41.478Z"
   },
   {
    "duration": 243,
    "start_time": "2023-08-11T16:37:41.504Z"
   },
   {
    "duration": 224,
    "start_time": "2023-08-11T16:37:41.750Z"
   },
   {
    "duration": 72,
    "start_time": "2023-08-11T16:37:41.981Z"
   },
   {
    "duration": 64,
    "start_time": "2023-08-11T16:37:42.055Z"
   },
   {
    "duration": 76,
    "start_time": "2023-08-11T16:37:42.126Z"
   },
   {
    "duration": 19,
    "start_time": "2023-08-11T16:37:42.206Z"
   },
   {
    "duration": 38,
    "start_time": "2023-08-11T16:37:42.227Z"
   },
   {
    "duration": 49,
    "start_time": "2023-08-11T16:37:42.273Z"
   },
   {
    "duration": 16,
    "start_time": "2023-08-11T16:37:42.324Z"
   },
   {
    "duration": 14,
    "start_time": "2023-08-11T16:37:42.342Z"
   },
   {
    "duration": 57,
    "start_time": "2023-08-11T16:37:42.362Z"
   },
   {
    "duration": 27,
    "start_time": "2023-08-11T16:37:42.421Z"
   },
   {
    "duration": 69,
    "start_time": "2023-08-11T16:37:42.450Z"
   },
   {
    "duration": 11,
    "start_time": "2023-08-11T16:37:42.521Z"
   },
   {
    "duration": 169,
    "start_time": "2023-08-11T16:37:42.533Z"
   },
   {
    "duration": 148,
    "start_time": "2023-08-11T16:37:42.704Z"
   },
   {
    "duration": 190,
    "start_time": "2023-08-11T16:37:42.853Z"
   },
   {
    "duration": 151,
    "start_time": "2023-08-11T16:37:43.045Z"
   },
   {
    "duration": 243,
    "start_time": "2023-08-11T16:37:43.197Z"
   },
   {
    "duration": 158,
    "start_time": "2023-08-11T16:37:43.441Z"
   },
   {
    "duration": 137,
    "start_time": "2023-08-11T16:37:43.604Z"
   },
   {
    "duration": 148,
    "start_time": "2023-08-11T16:37:43.743Z"
   },
   {
    "duration": 148,
    "start_time": "2023-08-11T16:37:43.896Z"
   },
   {
    "duration": 4,
    "start_time": "2023-08-11T16:37:44.046Z"
   },
   {
    "duration": 65,
    "start_time": "2023-08-11T16:37:44.059Z"
   },
   {
    "duration": 19,
    "start_time": "2023-08-11T16:37:44.126Z"
   },
   {
    "duration": 67,
    "start_time": "2023-08-11T16:37:44.147Z"
   },
   {
    "duration": 7,
    "start_time": "2023-08-11T16:37:44.215Z"
   },
   {
    "duration": 177,
    "start_time": "2023-08-11T16:37:44.224Z"
   },
   {
    "duration": 8,
    "start_time": "2023-08-11T16:37:44.402Z"
   },
   {
    "duration": 205,
    "start_time": "2023-08-11T16:37:44.411Z"
   },
   {
    "duration": 8,
    "start_time": "2023-08-11T16:37:44.618Z"
   },
   {
    "duration": 275,
    "start_time": "2023-08-11T16:37:44.628Z"
   },
   {
    "duration": 10,
    "start_time": "2023-08-11T16:37:44.908Z"
   },
   {
    "duration": 219,
    "start_time": "2023-08-11T16:37:44.919Z"
   },
   {
    "duration": 57,
    "start_time": "2023-08-11T16:37:45.139Z"
   },
   {
    "duration": 37,
    "start_time": "2023-08-11T16:37:45.205Z"
   },
   {
    "duration": 25,
    "start_time": "2023-08-11T16:37:45.244Z"
   },
   {
    "duration": 46,
    "start_time": "2023-08-11T16:37:45.272Z"
   },
   {
    "duration": 1031,
    "start_time": "2023-08-11T16:37:45.320Z"
   },
   {
    "duration": 22,
    "start_time": "2023-08-11T16:37:46.358Z"
   },
   {
    "duration": 32,
    "start_time": "2023-08-11T16:37:46.392Z"
   },
   {
    "duration": 86,
    "start_time": "2023-08-11T16:37:46.427Z"
   },
   {
    "duration": 25,
    "start_time": "2023-08-11T16:37:46.515Z"
   },
   {
    "duration": 272,
    "start_time": "2023-08-11T16:37:46.542Z"
   },
   {
    "duration": 427,
    "start_time": "2023-08-11T16:37:46.816Z"
   },
   {
    "duration": 156,
    "start_time": "2023-08-11T16:37:47.245Z"
   },
   {
    "duration": 11,
    "start_time": "2023-08-11T16:37:47.403Z"
   },
   {
    "duration": 579,
    "start_time": "2023-08-11T16:37:47.416Z"
   },
   {
    "duration": 9,
    "start_time": "2023-08-11T16:37:47.997Z"
   },
   {
    "duration": 34,
    "start_time": "2023-08-11T16:37:48.008Z"
   },
   {
    "duration": 250,
    "start_time": "2023-08-11T16:37:48.044Z"
   },
   {
    "duration": 441,
    "start_time": "2023-08-11T16:37:48.301Z"
   },
   {
    "duration": 366,
    "start_time": "2023-08-11T16:37:48.744Z"
   },
   {
    "duration": 19,
    "start_time": "2023-08-11T16:37:49.112Z"
   },
   {
    "duration": 551,
    "start_time": "2023-08-11T16:37:49.133Z"
   },
   {
    "duration": 10,
    "start_time": "2023-08-11T16:37:49.691Z"
   },
   {
    "duration": 482,
    "start_time": "2023-08-11T16:37:49.703Z"
   },
   {
    "duration": 11,
    "start_time": "2023-08-11T16:37:50.200Z"
   },
   {
    "duration": 450,
    "start_time": "2023-08-11T16:37:50.214Z"
   },
   {
    "duration": 1372,
    "start_time": "2023-08-11T16:37:50.667Z"
   },
   {
    "duration": 4054,
    "start_time": "2023-08-11T16:37:52.041Z"
   },
   {
    "duration": 17,
    "start_time": "2023-08-11T16:37:56.102Z"
   },
   {
    "duration": 25,
    "start_time": "2023-08-11T16:37:56.123Z"
   },
   {
    "duration": 22,
    "start_time": "2023-08-11T16:37:56.150Z"
   },
   {
    "duration": 61,
    "start_time": "2023-08-11T16:37:56.175Z"
   },
   {
    "duration": 17,
    "start_time": "2023-08-11T16:37:56.238Z"
   },
   {
    "duration": 270,
    "start_time": "2023-08-11T16:37:56.257Z"
   },
   {
    "duration": 5958,
    "start_time": "2023-08-11T16:38:35.197Z"
   },
   {
    "duration": 4,
    "start_time": "2023-08-11T16:39:10.235Z"
   },
   {
    "duration": 10133,
    "start_time": "2023-08-11T16:39:10.253Z"
   },
   {
    "duration": 1444,
    "start_time": "2023-08-11T16:39:20.389Z"
   },
   {
    "duration": 167,
    "start_time": "2023-08-11T16:39:21.835Z"
   },
   {
    "duration": 4,
    "start_time": "2023-08-11T16:39:22.004Z"
   },
   {
    "duration": 259,
    "start_time": "2023-08-11T16:39:22.010Z"
   },
   {
    "duration": 230,
    "start_time": "2023-08-11T16:39:22.271Z"
   },
   {
    "duration": 72,
    "start_time": "2023-08-11T16:39:22.503Z"
   },
   {
    "duration": 39,
    "start_time": "2023-08-11T16:39:22.576Z"
   },
   {
    "duration": 63,
    "start_time": "2023-08-11T16:39:22.617Z"
   },
   {
    "duration": 8,
    "start_time": "2023-08-11T16:39:22.683Z"
   },
   {
    "duration": 30,
    "start_time": "2023-08-11T16:39:22.695Z"
   },
   {
    "duration": 47,
    "start_time": "2023-08-11T16:39:22.727Z"
   },
   {
    "duration": 36,
    "start_time": "2023-08-11T16:39:22.783Z"
   },
   {
    "duration": 26,
    "start_time": "2023-08-11T16:39:22.821Z"
   },
   {
    "duration": 55,
    "start_time": "2023-08-11T16:39:22.849Z"
   },
   {
    "duration": 19,
    "start_time": "2023-08-11T16:39:22.905Z"
   },
   {
    "duration": 24,
    "start_time": "2023-08-11T16:39:22.926Z"
   },
   {
    "duration": 20,
    "start_time": "2023-08-11T16:39:22.952Z"
   },
   {
    "duration": 166,
    "start_time": "2023-08-11T16:39:22.973Z"
   },
   {
    "duration": 155,
    "start_time": "2023-08-11T16:39:23.141Z"
   },
   {
    "duration": 148,
    "start_time": "2023-08-11T16:39:23.298Z"
   },
   {
    "duration": 242,
    "start_time": "2023-08-11T16:39:23.448Z"
   },
   {
    "duration": 140,
    "start_time": "2023-08-11T16:39:23.692Z"
   },
   {
    "duration": 159,
    "start_time": "2023-08-11T16:39:23.834Z"
   },
   {
    "duration": 139,
    "start_time": "2023-08-11T16:39:23.995Z"
   },
   {
    "duration": 133,
    "start_time": "2023-08-11T16:39:24.147Z"
   },
   {
    "duration": 144,
    "start_time": "2023-08-11T16:39:24.282Z"
   },
   {
    "duration": 5,
    "start_time": "2023-08-11T16:39:24.430Z"
   },
   {
    "duration": 41,
    "start_time": "2023-08-11T16:39:24.437Z"
   },
   {
    "duration": 32,
    "start_time": "2023-08-11T16:39:24.484Z"
   },
   {
    "duration": 26,
    "start_time": "2023-08-11T16:39:24.518Z"
   },
   {
    "duration": 10,
    "start_time": "2023-08-11T16:39:24.547Z"
   },
   {
    "duration": 212,
    "start_time": "2023-08-11T16:39:24.563Z"
   },
   {
    "duration": 8,
    "start_time": "2023-08-11T16:39:24.778Z"
   },
   {
    "duration": 210,
    "start_time": "2023-08-11T16:39:24.787Z"
   },
   {
    "duration": 8,
    "start_time": "2023-08-11T16:39:24.999Z"
   },
   {
    "duration": 254,
    "start_time": "2023-08-11T16:39:25.008Z"
   },
   {
    "duration": 10,
    "start_time": "2023-08-11T16:39:25.264Z"
   },
   {
    "duration": 242,
    "start_time": "2023-08-11T16:39:25.276Z"
   },
   {
    "duration": 25,
    "start_time": "2023-08-11T16:39:25.519Z"
   },
   {
    "duration": 67,
    "start_time": "2023-08-11T16:39:25.545Z"
   },
   {
    "duration": 31,
    "start_time": "2023-08-11T16:39:25.614Z"
   },
   {
    "duration": 53,
    "start_time": "2023-08-11T16:39:25.647Z"
   },
   {
    "duration": 992,
    "start_time": "2023-08-11T16:39:25.702Z"
   },
   {
    "duration": 11,
    "start_time": "2023-08-11T16:39:26.696Z"
   },
   {
    "duration": 56,
    "start_time": "2023-08-11T16:39:26.709Z"
   },
   {
    "duration": 42,
    "start_time": "2023-08-11T16:39:26.767Z"
   },
   {
    "duration": 81,
    "start_time": "2023-08-11T16:39:26.812Z"
   },
   {
    "duration": 307,
    "start_time": "2023-08-11T16:39:26.895Z"
   },
   {
    "duration": 960,
    "start_time": "2023-08-11T16:39:27.204Z"
   },
   {
    "duration": 320,
    "start_time": "2023-08-11T16:39:28.168Z"
   },
   {
    "duration": 17,
    "start_time": "2023-08-11T16:39:28.491Z"
   },
   {
    "duration": 991,
    "start_time": "2023-08-11T16:39:28.510Z"
   },
   {
    "duration": 8,
    "start_time": "2023-08-11T16:39:29.503Z"
   },
   {
    "duration": 19,
    "start_time": "2023-08-11T16:39:29.513Z"
   },
   {
    "duration": 190,
    "start_time": "2023-08-11T16:39:29.534Z"
   },
   {
    "duration": 480,
    "start_time": "2023-08-11T16:39:29.726Z"
   },
   {
    "duration": 143,
    "start_time": "2023-08-11T16:39:30.208Z"
   },
   {
    "duration": 27,
    "start_time": "2023-08-11T16:39:30.353Z"
   },
   {
    "duration": 496,
    "start_time": "2023-08-11T16:39:30.383Z"
   },
   {
    "duration": 10,
    "start_time": "2023-08-11T16:39:30.881Z"
   },
   {
    "duration": 369,
    "start_time": "2023-08-11T16:39:30.894Z"
   },
   {
    "duration": 16,
    "start_time": "2023-08-11T16:39:31.265Z"
   },
   {
    "duration": 435,
    "start_time": "2023-08-11T16:39:31.284Z"
   },
   {
    "duration": 1217,
    "start_time": "2023-08-11T16:39:31.721Z"
   },
   {
    "duration": 3350,
    "start_time": "2023-08-11T16:39:32.940Z"
   },
   {
    "duration": 9,
    "start_time": "2023-08-11T16:39:36.292Z"
   },
   {
    "duration": 37,
    "start_time": "2023-08-11T16:39:36.302Z"
   },
   {
    "duration": 54,
    "start_time": "2023-08-11T16:39:36.341Z"
   },
   {
    "duration": 17,
    "start_time": "2023-08-11T16:39:36.397Z"
   },
   {
    "duration": 25,
    "start_time": "2023-08-11T16:39:36.416Z"
   },
   {
    "duration": 214,
    "start_time": "2023-08-11T16:39:36.443Z"
   },
   {
    "duration": 53,
    "start_time": "2023-08-11T16:39:57.419Z"
   },
   {
    "duration": 64,
    "start_time": "2023-08-11T16:40:14.456Z"
   },
   {
    "duration": 78,
    "start_time": "2023-08-11T16:53:18.305Z"
   },
   {
    "duration": 71,
    "start_time": "2023-08-11T16:55:14.043Z"
   },
   {
    "duration": 57,
    "start_time": "2023-08-11T16:55:19.435Z"
   },
   {
    "duration": 24,
    "start_time": "2023-08-11T16:55:37.002Z"
   },
   {
    "duration": 10,
    "start_time": "2023-08-11T16:55:48.590Z"
   },
   {
    "duration": 5,
    "start_time": "2023-08-11T16:57:03.187Z"
   },
   {
    "duration": 9,
    "start_time": "2023-08-11T16:57:23.721Z"
   },
   {
    "duration": 4,
    "start_time": "2023-08-11T17:20:15.395Z"
   },
   {
    "duration": 10296,
    "start_time": "2023-08-11T17:20:15.402Z"
   },
   {
    "duration": 1401,
    "start_time": "2023-08-11T17:20:25.700Z"
   },
   {
    "duration": 163,
    "start_time": "2023-08-11T17:20:27.104Z"
   },
   {
    "duration": 7,
    "start_time": "2023-08-11T17:20:27.275Z"
   },
   {
    "duration": 301,
    "start_time": "2023-08-11T17:20:27.289Z"
   },
   {
    "duration": 258,
    "start_time": "2023-08-11T17:20:27.592Z"
   },
   {
    "duration": 82,
    "start_time": "2023-08-11T17:20:27.852Z"
   },
   {
    "duration": 41,
    "start_time": "2023-08-11T17:20:27.936Z"
   },
   {
    "duration": 72,
    "start_time": "2023-08-11T17:20:27.979Z"
   },
   {
    "duration": 6,
    "start_time": "2023-08-11T17:20:28.053Z"
   },
   {
    "duration": 70,
    "start_time": "2023-08-11T17:20:28.063Z"
   },
   {
    "duration": 59,
    "start_time": "2023-08-11T17:20:28.135Z"
   },
   {
    "duration": 42,
    "start_time": "2023-08-11T17:20:28.198Z"
   },
   {
    "duration": 69,
    "start_time": "2023-08-11T17:20:28.243Z"
   },
   {
    "duration": 27,
    "start_time": "2023-08-11T17:20:28.314Z"
   },
   {
    "duration": 46,
    "start_time": "2023-08-11T17:20:28.343Z"
   },
   {
    "duration": 96,
    "start_time": "2023-08-11T17:20:28.391Z"
   },
   {
    "duration": 27,
    "start_time": "2023-08-11T17:20:28.490Z"
   },
   {
    "duration": 191,
    "start_time": "2023-08-11T17:20:28.519Z"
   },
   {
    "duration": 160,
    "start_time": "2023-08-11T17:20:28.712Z"
   },
   {
    "duration": 146,
    "start_time": "2023-08-11T17:20:28.874Z"
   },
   {
    "duration": 261,
    "start_time": "2023-08-11T17:20:29.021Z"
   },
   {
    "duration": 172,
    "start_time": "2023-08-11T17:20:29.287Z"
   },
   {
    "duration": 163,
    "start_time": "2023-08-11T17:20:29.461Z"
   },
   {
    "duration": 149,
    "start_time": "2023-08-11T17:20:29.626Z"
   },
   {
    "duration": 137,
    "start_time": "2023-08-11T17:20:29.779Z"
   },
   {
    "duration": 162,
    "start_time": "2023-08-11T17:20:29.917Z"
   },
   {
    "duration": 176,
    "start_time": "2023-08-11T17:20:30.082Z"
   },
   {
    "duration": 93,
    "start_time": "2023-08-11T17:20:30.260Z"
   },
   {
    "duration": 90,
    "start_time": "2023-08-11T17:20:30.356Z"
   },
   {
    "duration": 96,
    "start_time": "2023-08-11T17:20:30.448Z"
   },
   {
    "duration": 51,
    "start_time": "2023-08-11T17:20:30.546Z"
   },
   {
    "duration": 206,
    "start_time": "2023-08-11T17:20:30.600Z"
   },
   {
    "duration": 7,
    "start_time": "2023-08-11T17:20:30.808Z"
   },
   {
    "duration": 205,
    "start_time": "2023-08-11T17:20:30.817Z"
   },
   {
    "duration": 8,
    "start_time": "2023-08-11T17:20:31.024Z"
   },
   {
    "duration": 283,
    "start_time": "2023-08-11T17:20:31.033Z"
   },
   {
    "duration": 8,
    "start_time": "2023-08-11T17:20:31.318Z"
   },
   {
    "duration": 284,
    "start_time": "2023-08-11T17:20:31.328Z"
   },
   {
    "duration": 26,
    "start_time": "2023-08-11T17:20:31.617Z"
   },
   {
    "duration": 97,
    "start_time": "2023-08-11T17:20:31.644Z"
   },
   {
    "duration": 86,
    "start_time": "2023-08-11T17:20:31.743Z"
   },
   {
    "duration": 65,
    "start_time": "2023-08-11T17:20:31.831Z"
   },
   {
    "duration": 1123,
    "start_time": "2023-08-11T17:20:31.898Z"
   },
   {
    "duration": 8,
    "start_time": "2023-08-11T17:20:33.023Z"
   },
   {
    "duration": 48,
    "start_time": "2023-08-11T17:20:33.032Z"
   },
   {
    "duration": 20,
    "start_time": "2023-08-11T17:20:33.082Z"
   },
   {
    "duration": 33,
    "start_time": "2023-08-11T17:20:33.104Z"
   },
   {
    "duration": 228,
    "start_time": "2023-08-11T17:20:33.139Z"
   },
   {
    "duration": 359,
    "start_time": "2023-08-11T17:20:33.371Z"
   },
   {
    "duration": 152,
    "start_time": "2023-08-11T17:20:33.732Z"
   },
   {
    "duration": 8,
    "start_time": "2023-08-11T17:20:33.886Z"
   },
   {
    "duration": 507,
    "start_time": "2023-08-11T17:20:33.896Z"
   },
   {
    "duration": 9,
    "start_time": "2023-08-11T17:20:34.405Z"
   },
   {
    "duration": 31,
    "start_time": "2023-08-11T17:20:34.416Z"
   },
   {
    "duration": 204,
    "start_time": "2023-08-11T17:20:34.449Z"
   },
   {
    "duration": 526,
    "start_time": "2023-08-11T17:20:34.655Z"
   },
   {
    "duration": 127,
    "start_time": "2023-08-11T17:20:35.184Z"
   },
   {
    "duration": 11,
    "start_time": "2023-08-11T17:20:35.313Z"
   },
   {
    "duration": 548,
    "start_time": "2023-08-11T17:20:35.326Z"
   },
   {
    "duration": 10,
    "start_time": "2023-08-11T17:20:35.876Z"
   },
   {
    "duration": 355,
    "start_time": "2023-08-11T17:20:35.888Z"
   },
   {
    "duration": 3,
    "start_time": "2023-08-11T17:20:36.245Z"
   },
   {
    "duration": 392,
    "start_time": "2023-08-11T17:20:36.250Z"
   },
   {
    "duration": 1143,
    "start_time": "2023-08-11T17:20:36.644Z"
   },
   {
    "duration": 3486,
    "start_time": "2023-08-11T17:20:37.788Z"
   },
   {
    "duration": 11,
    "start_time": "2023-08-11T17:20:41.277Z"
   },
   {
    "duration": 16,
    "start_time": "2023-08-11T17:20:41.290Z"
   },
   {
    "duration": 20,
    "start_time": "2023-08-11T17:20:41.308Z"
   },
   {
    "duration": 59,
    "start_time": "2023-08-11T17:20:41.330Z"
   },
   {
    "duration": 17,
    "start_time": "2023-08-11T17:20:41.391Z"
   },
   {
    "duration": 13,
    "start_time": "2023-08-11T17:20:41.410Z"
   },
   {
    "duration": 5,
    "start_time": "2023-08-11T17:24:09.414Z"
   },
   {
    "duration": 19438,
    "start_time": "2023-08-11T17:39:27.821Z"
   },
   {
    "duration": 4,
    "start_time": "2023-08-11T17:43:09.219Z"
   },
   {
    "duration": 7,
    "start_time": "2023-08-11T17:46:18.079Z"
   },
   {
    "duration": 8,
    "start_time": "2023-08-11T17:46:23.362Z"
   },
   {
    "duration": 19863,
    "start_time": "2023-08-11T17:46:24.326Z"
   },
   {
    "duration": 17166,
    "start_time": "2023-08-11T17:46:46.418Z"
   },
   {
    "duration": 131,
    "start_time": "2023-08-11T17:51:54.861Z"
   },
   {
    "duration": 34,
    "start_time": "2023-08-11T17:52:44.095Z"
   },
   {
    "duration": 36278,
    "start_time": "2023-08-11T17:54:44.817Z"
   },
   {
    "duration": 5,
    "start_time": "2023-08-11T17:56:34.942Z"
   },
   {
    "duration": 36476,
    "start_time": "2023-08-11T17:56:39.108Z"
   },
   {
    "duration": 36695,
    "start_time": "2023-08-11T17:57:37.860Z"
   },
   {
    "duration": 71,
    "start_time": "2023-08-11T18:08:25.367Z"
   },
   {
    "duration": 11349,
    "start_time": "2023-08-11T18:08:46.242Z"
   },
   {
    "duration": 117,
    "start_time": "2023-08-11T18:14:20.620Z"
   },
   {
    "duration": 18,
    "start_time": "2023-08-11T18:14:46.638Z"
   },
   {
    "duration": 110081,
    "start_time": "2023-08-11T18:14:54.294Z"
   },
   {
    "duration": 14,
    "start_time": "2023-08-11T18:18:29.958Z"
   },
   {
    "duration": 7,
    "start_time": "2023-08-11T19:50:18.588Z"
   },
   {
    "duration": 14155,
    "start_time": "2023-08-11T19:50:18.637Z"
   },
   {
    "duration": 1987,
    "start_time": "2023-08-11T19:50:32.795Z"
   },
   {
    "duration": 547,
    "start_time": "2023-08-11T19:50:34.784Z"
   },
   {
    "duration": 5,
    "start_time": "2023-08-11T19:50:35.334Z"
   },
   {
    "duration": 270,
    "start_time": "2023-08-11T19:50:35.341Z"
   },
   {
    "duration": 232,
    "start_time": "2023-08-11T19:50:35.613Z"
   },
   {
    "duration": 88,
    "start_time": "2023-08-11T19:50:35.847Z"
   },
   {
    "duration": 105,
    "start_time": "2023-08-11T19:50:35.937Z"
   },
   {
    "duration": 135,
    "start_time": "2023-08-11T19:50:36.044Z"
   },
   {
    "duration": 7,
    "start_time": "2023-08-11T19:50:36.183Z"
   },
   {
    "duration": 68,
    "start_time": "2023-08-11T19:50:36.192Z"
   },
   {
    "duration": 30,
    "start_time": "2023-08-11T19:50:36.263Z"
   },
   {
    "duration": 30,
    "start_time": "2023-08-11T19:50:36.295Z"
   },
   {
    "duration": 20,
    "start_time": "2023-08-11T19:50:36.327Z"
   },
   {
    "duration": 14,
    "start_time": "2023-08-11T19:50:36.349Z"
   },
   {
    "duration": 15,
    "start_time": "2023-08-11T19:50:36.364Z"
   },
   {
    "duration": 41,
    "start_time": "2023-08-11T19:50:36.381Z"
   },
   {
    "duration": 31,
    "start_time": "2023-08-11T19:50:36.424Z"
   },
   {
    "duration": 179,
    "start_time": "2023-08-11T19:50:36.457Z"
   },
   {
    "duration": 146,
    "start_time": "2023-08-11T19:50:36.638Z"
   },
   {
    "duration": 267,
    "start_time": "2023-08-11T19:50:36.787Z"
   },
   {
    "duration": 157,
    "start_time": "2023-08-11T19:50:37.056Z"
   },
   {
    "duration": 136,
    "start_time": "2023-08-11T19:50:37.215Z"
   },
   {
    "duration": 198,
    "start_time": "2023-08-11T19:50:37.353Z"
   },
   {
    "duration": 174,
    "start_time": "2023-08-11T19:50:37.553Z"
   },
   {
    "duration": 131,
    "start_time": "2023-08-11T19:50:37.729Z"
   },
   {
    "duration": 156,
    "start_time": "2023-08-11T19:50:37.862Z"
   },
   {
    "duration": 8,
    "start_time": "2023-08-11T19:50:38.023Z"
   },
   {
    "duration": 30,
    "start_time": "2023-08-11T19:50:38.033Z"
   },
   {
    "duration": 22,
    "start_time": "2023-08-11T19:50:38.065Z"
   },
   {
    "duration": 37,
    "start_time": "2023-08-11T19:50:38.088Z"
   },
   {
    "duration": 104,
    "start_time": "2023-08-11T19:50:38.131Z"
   },
   {
    "duration": 236,
    "start_time": "2023-08-11T19:50:38.236Z"
   },
   {
    "duration": 8,
    "start_time": "2023-08-11T19:50:38.474Z"
   },
   {
    "duration": 216,
    "start_time": "2023-08-11T19:50:38.484Z"
   },
   {
    "duration": 20,
    "start_time": "2023-08-11T19:50:38.702Z"
   },
   {
    "duration": 319,
    "start_time": "2023-08-11T19:50:38.723Z"
   },
   {
    "duration": 10,
    "start_time": "2023-08-11T19:50:39.044Z"
   },
   {
    "duration": 397,
    "start_time": "2023-08-11T19:50:39.056Z"
   },
   {
    "duration": 36,
    "start_time": "2023-08-11T19:50:39.455Z"
   },
   {
    "duration": 124,
    "start_time": "2023-08-11T19:50:39.509Z"
   },
   {
    "duration": 53,
    "start_time": "2023-08-11T19:50:39.635Z"
   },
   {
    "duration": 13,
    "start_time": "2023-08-11T19:50:39.690Z"
   },
   {
    "duration": 847,
    "start_time": "2023-08-11T19:50:39.704Z"
   },
   {
    "duration": 9,
    "start_time": "2023-08-11T19:50:40.552Z"
   },
   {
    "duration": 48,
    "start_time": "2023-08-11T19:50:40.562Z"
   },
   {
    "duration": 62,
    "start_time": "2023-08-11T19:50:40.612Z"
   },
   {
    "duration": 56,
    "start_time": "2023-08-11T19:50:40.676Z"
   },
   {
    "duration": 260,
    "start_time": "2023-08-11T19:50:40.734Z"
   },
   {
    "duration": 357,
    "start_time": "2023-08-11T19:50:40.996Z"
   },
   {
    "duration": 168,
    "start_time": "2023-08-11T19:50:41.356Z"
   },
   {
    "duration": 10,
    "start_time": "2023-08-11T19:50:41.526Z"
   },
   {
    "duration": 679,
    "start_time": "2023-08-11T19:50:41.539Z"
   },
   {
    "duration": 10,
    "start_time": "2023-08-11T19:50:42.226Z"
   },
   {
    "duration": 123,
    "start_time": "2023-08-11T19:50:42.238Z"
   },
   {
    "duration": 231,
    "start_time": "2023-08-11T19:50:42.363Z"
   },
   {
    "duration": 476,
    "start_time": "2023-08-11T19:50:42.596Z"
   },
   {
    "duration": 144,
    "start_time": "2023-08-11T19:50:43.074Z"
   },
   {
    "duration": 10,
    "start_time": "2023-08-11T19:50:43.220Z"
   },
   {
    "duration": 485,
    "start_time": "2023-08-11T19:50:43.234Z"
   },
   {
    "duration": 8,
    "start_time": "2023-08-11T19:50:43.729Z"
   },
   {
    "duration": 409,
    "start_time": "2023-08-11T19:50:43.739Z"
   },
   {
    "duration": 5,
    "start_time": "2023-08-11T19:50:44.151Z"
   },
   {
    "duration": 468,
    "start_time": "2023-08-11T19:50:44.158Z"
   },
   {
    "duration": 1162,
    "start_time": "2023-08-11T19:50:44.628Z"
   },
   {
    "duration": 3554,
    "start_time": "2023-08-11T19:50:45.793Z"
   },
   {
    "duration": 16,
    "start_time": "2023-08-11T19:50:49.349Z"
   },
   {
    "duration": 79,
    "start_time": "2023-08-11T19:50:49.367Z"
   },
   {
    "duration": 51,
    "start_time": "2023-08-11T19:50:49.449Z"
   },
   {
    "duration": 53,
    "start_time": "2023-08-11T19:50:49.502Z"
   },
   {
    "duration": 36,
    "start_time": "2023-08-11T19:50:49.558Z"
   },
   {
    "duration": 213,
    "start_time": "2023-08-11T19:50:49.596Z"
   },
   {
    "duration": 0,
    "start_time": "2023-08-11T19:50:49.811Z"
   },
   {
    "duration": 0,
    "start_time": "2023-08-11T19:50:49.812Z"
   },
   {
    "duration": 0,
    "start_time": "2023-08-11T19:50:49.813Z"
   },
   {
    "duration": 0,
    "start_time": "2023-08-11T19:50:49.816Z"
   },
   {
    "duration": 0,
    "start_time": "2023-08-11T19:50:49.817Z"
   },
   {
    "duration": 4,
    "start_time": "2023-08-11T19:51:18.276Z"
   },
   {
    "duration": 288,
    "start_time": "2023-08-11T19:51:22.631Z"
   },
   {
    "duration": 5,
    "start_time": "2023-08-11T19:51:22.922Z"
   },
   {
    "duration": 336,
    "start_time": "2023-08-11T19:51:22.929Z"
   },
   {
    "duration": 123841,
    "start_time": "2023-08-11T19:51:23.267Z"
   },
   {
    "duration": 24,
    "start_time": "2023-08-11T19:53:27.114Z"
   },
   {
    "duration": 0,
    "start_time": "2023-08-11T19:53:27.141Z"
   },
   {
    "duration": 14,
    "start_time": "2023-08-11T19:53:31.426Z"
   },
   {
    "duration": 9342,
    "start_time": "2023-08-11T19:55:16.572Z"
   },
   {
    "duration": 5,
    "start_time": "2023-08-11T19:55:35.387Z"
   },
   {
    "duration": 14188,
    "start_time": "2023-08-11T19:55:35.394Z"
   },
   {
    "duration": 1736,
    "start_time": "2023-08-11T19:55:49.586Z"
   },
   {
    "duration": 186,
    "start_time": "2023-08-11T19:55:51.330Z"
   },
   {
    "duration": 8,
    "start_time": "2023-08-11T19:55:51.522Z"
   },
   {
    "duration": 326,
    "start_time": "2023-08-11T19:55:51.534Z"
   },
   {
    "duration": 262,
    "start_time": "2023-08-11T19:55:51.862Z"
   },
   {
    "duration": 68,
    "start_time": "2023-08-11T19:55:52.129Z"
   },
   {
    "duration": 56,
    "start_time": "2023-08-11T19:55:52.200Z"
   },
   {
    "duration": 283,
    "start_time": "2023-08-11T19:55:52.266Z"
   },
   {
    "duration": 183,
    "start_time": "2023-08-11T19:55:52.552Z"
   },
   {
    "duration": 137,
    "start_time": "2023-08-11T19:55:52.737Z"
   },
   {
    "duration": 71,
    "start_time": "2023-08-11T19:55:52.877Z"
   },
   {
    "duration": 56,
    "start_time": "2023-08-11T19:55:52.950Z"
   },
   {
    "duration": 94,
    "start_time": "2023-08-11T19:55:53.008Z"
   },
   {
    "duration": 68,
    "start_time": "2023-08-11T19:55:53.104Z"
   },
   {
    "duration": 84,
    "start_time": "2023-08-11T19:55:53.174Z"
   },
   {
    "duration": 104,
    "start_time": "2023-08-11T19:55:53.260Z"
   },
   {
    "duration": 22,
    "start_time": "2023-08-11T19:55:53.366Z"
   },
   {
    "duration": 335,
    "start_time": "2023-08-11T19:55:53.390Z"
   },
   {
    "duration": 327,
    "start_time": "2023-08-11T19:55:53.727Z"
   },
   {
    "duration": 303,
    "start_time": "2023-08-11T19:55:54.058Z"
   },
   {
    "duration": 203,
    "start_time": "2023-08-11T19:55:54.363Z"
   },
   {
    "duration": 471,
    "start_time": "2023-08-11T19:55:54.569Z"
   },
   {
    "duration": 197,
    "start_time": "2023-08-11T19:55:55.042Z"
   },
   {
    "duration": 198,
    "start_time": "2023-08-11T19:55:55.241Z"
   },
   {
    "duration": 181,
    "start_time": "2023-08-11T19:55:55.444Z"
   },
   {
    "duration": 194,
    "start_time": "2023-08-11T19:55:55.630Z"
   },
   {
    "duration": 10,
    "start_time": "2023-08-11T19:55:55.841Z"
   },
   {
    "duration": 44,
    "start_time": "2023-08-11T19:55:55.853Z"
   },
   {
    "duration": 30,
    "start_time": "2023-08-11T19:55:55.906Z"
   },
   {
    "duration": 71,
    "start_time": "2023-08-11T19:55:55.943Z"
   },
   {
    "duration": 25,
    "start_time": "2023-08-11T19:55:56.019Z"
   },
   {
    "duration": 285,
    "start_time": "2023-08-11T19:55:56.047Z"
   },
   {
    "duration": 11,
    "start_time": "2023-08-11T19:55:56.338Z"
   },
   {
    "duration": 310,
    "start_time": "2023-08-11T19:55:56.353Z"
   },
   {
    "duration": 12,
    "start_time": "2023-08-11T19:55:56.668Z"
   },
   {
    "duration": 391,
    "start_time": "2023-08-11T19:55:56.687Z"
   },
   {
    "duration": 12,
    "start_time": "2023-08-11T19:55:57.085Z"
   },
   {
    "duration": 438,
    "start_time": "2023-08-11T19:55:57.099Z"
   },
   {
    "duration": 34,
    "start_time": "2023-08-11T19:55:57.538Z"
   },
   {
    "duration": 40,
    "start_time": "2023-08-11T19:55:57.577Z"
   },
   {
    "duration": 71,
    "start_time": "2023-08-11T19:55:57.623Z"
   },
   {
    "duration": 40,
    "start_time": "2023-08-11T19:55:57.697Z"
   },
   {
    "duration": 1320,
    "start_time": "2023-08-11T19:55:57.740Z"
   },
   {
    "duration": 12,
    "start_time": "2023-08-11T19:55:59.063Z"
   },
   {
    "duration": 18,
    "start_time": "2023-08-11T19:55:59.077Z"
   },
   {
    "duration": 10,
    "start_time": "2023-08-11T19:55:59.109Z"
   },
   {
    "duration": 65,
    "start_time": "2023-08-11T19:55:59.121Z"
   },
   {
    "duration": 247,
    "start_time": "2023-08-11T19:55:59.188Z"
   },
   {
    "duration": 488,
    "start_time": "2023-08-11T19:55:59.437Z"
   },
   {
    "duration": 175,
    "start_time": "2023-08-11T19:55:59.931Z"
   },
   {
    "duration": 15,
    "start_time": "2023-08-11T19:56:00.108Z"
   },
   {
    "duration": 610,
    "start_time": "2023-08-11T19:56:00.128Z"
   },
   {
    "duration": 13,
    "start_time": "2023-08-11T19:56:00.754Z"
   },
   {
    "duration": 93,
    "start_time": "2023-08-11T19:56:00.768Z"
   },
   {
    "duration": 317,
    "start_time": "2023-08-11T19:56:00.863Z"
   },
   {
    "duration": 665,
    "start_time": "2023-08-11T19:56:01.183Z"
   },
   {
    "duration": 176,
    "start_time": "2023-08-11T19:56:01.855Z"
   },
   {
    "duration": 24,
    "start_time": "2023-08-11T19:56:02.036Z"
   },
   {
    "duration": 559,
    "start_time": "2023-08-11T19:56:02.063Z"
   },
   {
    "duration": 10,
    "start_time": "2023-08-11T19:56:02.630Z"
   },
   {
    "duration": 614,
    "start_time": "2023-08-11T19:56:02.645Z"
   },
   {
    "duration": 5,
    "start_time": "2023-08-11T19:56:03.261Z"
   },
   {
    "duration": 512,
    "start_time": "2023-08-11T19:56:03.268Z"
   },
   {
    "duration": 1473,
    "start_time": "2023-08-11T19:56:03.782Z"
   },
   {
    "duration": 4084,
    "start_time": "2023-08-11T19:56:05.259Z"
   },
   {
    "duration": 16,
    "start_time": "2023-08-11T19:56:09.349Z"
   },
   {
    "duration": 18,
    "start_time": "2023-08-11T19:56:09.368Z"
   },
   {
    "duration": 61,
    "start_time": "2023-08-11T19:56:09.390Z"
   },
   {
    "duration": 45,
    "start_time": "2023-08-11T19:56:09.454Z"
   },
   {
    "duration": 45,
    "start_time": "2023-08-11T19:56:09.502Z"
   },
   {
    "duration": 14,
    "start_time": "2023-08-11T19:56:09.550Z"
   },
   {
    "duration": 20446,
    "start_time": "2023-08-11T19:56:09.567Z"
   },
   {
    "duration": 6,
    "start_time": "2023-08-11T19:56:30.022Z"
   },
   {
    "duration": 41533,
    "start_time": "2023-08-11T19:56:30.036Z"
   },
   {
    "duration": 411021,
    "start_time": "2023-08-11T19:57:11.571Z"
   },
   {
    "duration": 25,
    "start_time": "2023-08-11T20:04:02.594Z"
   },
   {
    "duration": 12,
    "start_time": "2023-08-11T20:05:21.776Z"
   },
   {
    "duration": 322,
    "start_time": "2023-08-11T20:05:49.875Z"
   },
   {
    "duration": 139,
    "start_time": "2023-08-11T20:06:08.931Z"
   },
   {
    "duration": 30081,
    "start_time": "2023-08-11T20:06:31.484Z"
   },
   {
    "duration": 410011,
    "start_time": "2023-08-11T20:12:23.790Z"
   },
   {
    "duration": 87,
    "start_time": "2023-08-11T20:19:13.804Z"
   },
   {
    "duration": 9,
    "start_time": "2023-08-11T20:19:45.771Z"
   },
   {
    "duration": 6,
    "start_time": "2023-08-11T20:22:25.694Z"
   },
   {
    "duration": 21,
    "start_time": "2023-08-11T20:23:23.937Z"
   },
   {
    "duration": 623539,
    "start_time": "2023-08-11T20:26:18.945Z"
   },
   {
    "duration": 12,
    "start_time": "2023-08-11T20:37:12.978Z"
   },
   {
    "duration": 20,
    "start_time": "2023-08-11T20:37:15.490Z"
   },
   {
    "duration": 15,
    "start_time": "2023-08-11T20:37:16.759Z"
   },
   {
    "duration": 16,
    "start_time": "2023-08-11T20:38:41.382Z"
   },
   {
    "duration": 7,
    "start_time": "2023-08-11T20:42:25.323Z"
   },
   {
    "duration": 9,
    "start_time": "2023-08-11T20:42:29.331Z"
   },
   {
    "duration": 17,
    "start_time": "2023-08-11T20:42:41.549Z"
   },
   {
    "duration": 14,
    "start_time": "2023-08-11T20:42:53.592Z"
   },
   {
    "duration": 23,
    "start_time": "2023-08-11T20:42:59.323Z"
   },
   {
    "duration": 16,
    "start_time": "2023-08-11T20:43:26.973Z"
   },
   {
    "duration": 286,
    "start_time": "2023-08-11T20:43:31.863Z"
   },
   {
    "duration": 278,
    "start_time": "2023-08-11T20:45:56.283Z"
   },
   {
    "duration": 320,
    "start_time": "2023-08-11T20:48:14.935Z"
   },
   {
    "duration": 6,
    "start_time": "2023-08-11T20:50:59.886Z"
   },
   {
    "duration": 29,
    "start_time": "2023-08-11T20:56:22.202Z"
   },
   {
    "duration": 6,
    "start_time": "2023-08-11T21:01:32.045Z"
   },
   {
    "duration": 3,
    "start_time": "2023-08-11T21:01:40.883Z"
   },
   {
    "duration": 31,
    "start_time": "2023-08-11T21:02:06.147Z"
   },
   {
    "duration": 39,
    "start_time": "2023-08-11T21:02:18.636Z"
   },
   {
    "duration": 36,
    "start_time": "2023-08-11T21:02:30.361Z"
   },
   {
    "duration": 220,
    "start_time": "2023-08-11T21:02:38.907Z"
   },
   {
    "duration": 237,
    "start_time": "2023-08-11T21:03:03.587Z"
   },
   {
    "duration": 17,
    "start_time": "2023-08-11T21:03:20.243Z"
   },
   {
    "duration": 19,
    "start_time": "2023-08-11T21:03:21.883Z"
   },
   {
    "duration": 38,
    "start_time": "2023-08-11T21:04:21.174Z"
   },
   {
    "duration": 21,
    "start_time": "2023-08-11T21:05:12.664Z"
   },
   {
    "duration": 195,
    "start_time": "2023-08-11T21:06:29.565Z"
   },
   {
    "duration": 8,
    "start_time": "2023-08-11T21:07:04.272Z"
   },
   {
    "duration": 7,
    "start_time": "2023-08-11T21:07:40.507Z"
   },
   {
    "duration": 38,
    "start_time": "2023-08-11T21:09:13.991Z"
   },
   {
    "duration": 136,
    "start_time": "2023-08-11T21:09:38.376Z"
   },
   {
    "duration": 31,
    "start_time": "2023-08-11T21:09:47.187Z"
   },
   {
    "duration": 101,
    "start_time": "2023-08-11T21:09:55.553Z"
   },
   {
    "duration": 6,
    "start_time": "2023-08-11T21:10:00.157Z"
   },
   {
    "duration": 278,
    "start_time": "2023-08-11T21:10:05.771Z"
   },
   {
    "duration": 22185,
    "start_time": "2023-08-11T21:32:06.541Z"
   },
   {
    "duration": 46,
    "start_time": "2023-08-13T09:34:38.301Z"
   },
   {
    "duration": 2,
    "start_time": "2023-08-13T09:34:54.639Z"
   },
   {
    "duration": 11019,
    "start_time": "2023-08-13T09:34:54.647Z"
   },
   {
    "duration": 1799,
    "start_time": "2023-08-13T09:35:05.668Z"
   },
   {
    "duration": 403,
    "start_time": "2023-08-13T09:35:07.469Z"
   },
   {
    "duration": 3,
    "start_time": "2023-08-13T09:35:07.874Z"
   },
   {
    "duration": 407,
    "start_time": "2023-08-13T09:35:07.879Z"
   },
   {
    "duration": 197,
    "start_time": "2023-08-13T09:35:08.288Z"
   },
   {
    "duration": 46,
    "start_time": "2023-08-13T09:35:08.487Z"
   },
   {
    "duration": 47,
    "start_time": "2023-08-13T09:35:08.535Z"
   },
   {
    "duration": 37,
    "start_time": "2023-08-13T09:35:08.584Z"
   },
   {
    "duration": 5,
    "start_time": "2023-08-13T09:35:08.623Z"
   },
   {
    "duration": 51,
    "start_time": "2023-08-13T09:35:08.630Z"
   },
   {
    "duration": 20,
    "start_time": "2023-08-13T09:35:08.683Z"
   },
   {
    "duration": 10,
    "start_time": "2023-08-13T09:35:08.704Z"
   },
   {
    "duration": 5,
    "start_time": "2023-08-13T09:35:08.715Z"
   },
   {
    "duration": 7,
    "start_time": "2023-08-13T09:35:08.721Z"
   },
   {
    "duration": 20,
    "start_time": "2023-08-13T09:35:08.729Z"
   },
   {
    "duration": 24,
    "start_time": "2023-08-13T09:35:08.751Z"
   },
   {
    "duration": 11,
    "start_time": "2023-08-13T09:35:08.777Z"
   },
   {
    "duration": 152,
    "start_time": "2023-08-13T09:35:08.789Z"
   },
   {
    "duration": 134,
    "start_time": "2023-08-13T09:35:08.943Z"
   },
   {
    "duration": 206,
    "start_time": "2023-08-13T09:35:09.079Z"
   },
   {
    "duration": 123,
    "start_time": "2023-08-13T09:35:09.287Z"
   },
   {
    "duration": 119,
    "start_time": "2023-08-13T09:35:09.411Z"
   },
   {
    "duration": 130,
    "start_time": "2023-08-13T09:35:09.532Z"
   },
   {
    "duration": 118,
    "start_time": "2023-08-13T09:35:09.664Z"
   },
   {
    "duration": 117,
    "start_time": "2023-08-13T09:35:09.784Z"
   },
   {
    "duration": 129,
    "start_time": "2023-08-13T09:35:09.903Z"
   },
   {
    "duration": 4,
    "start_time": "2023-08-13T09:35:10.036Z"
   },
   {
    "duration": 30,
    "start_time": "2023-08-13T09:35:10.042Z"
   },
   {
    "duration": 13,
    "start_time": "2023-08-13T09:35:10.074Z"
   },
   {
    "duration": 33,
    "start_time": "2023-08-13T09:35:10.089Z"
   },
   {
    "duration": 7,
    "start_time": "2023-08-13T09:35:10.124Z"
   },
   {
    "duration": 160,
    "start_time": "2023-08-13T09:35:10.132Z"
   },
   {
    "duration": 7,
    "start_time": "2023-08-13T09:35:10.293Z"
   },
   {
    "duration": 159,
    "start_time": "2023-08-13T09:35:10.302Z"
   },
   {
    "duration": 8,
    "start_time": "2023-08-13T09:35:10.463Z"
   },
   {
    "duration": 216,
    "start_time": "2023-08-13T09:35:10.473Z"
   },
   {
    "duration": 8,
    "start_time": "2023-08-13T09:35:10.690Z"
   },
   {
    "duration": 269,
    "start_time": "2023-08-13T09:35:10.700Z"
   },
   {
    "duration": 23,
    "start_time": "2023-08-13T09:35:10.971Z"
   },
   {
    "duration": 26,
    "start_time": "2023-08-13T09:35:10.996Z"
   },
   {
    "duration": 45,
    "start_time": "2023-08-13T09:35:11.024Z"
   },
   {
    "duration": 3,
    "start_time": "2023-08-13T09:35:11.072Z"
   },
   {
    "duration": 799,
    "start_time": "2023-08-13T09:35:11.077Z"
   },
   {
    "duration": 10,
    "start_time": "2023-08-13T09:35:11.877Z"
   },
   {
    "duration": 17,
    "start_time": "2023-08-13T09:35:11.889Z"
   },
   {
    "duration": 10,
    "start_time": "2023-08-13T09:35:11.908Z"
   },
   {
    "duration": 17,
    "start_time": "2023-08-13T09:35:11.920Z"
   },
   {
    "duration": 206,
    "start_time": "2023-08-13T09:35:11.938Z"
   },
   {
    "duration": 313,
    "start_time": "2023-08-13T09:35:12.146Z"
   },
   {
    "duration": 114,
    "start_time": "2023-08-13T09:35:12.461Z"
   },
   {
    "duration": 6,
    "start_time": "2023-08-13T09:35:12.577Z"
   },
   {
    "duration": 435,
    "start_time": "2023-08-13T09:35:12.585Z"
   },
   {
    "duration": 9,
    "start_time": "2023-08-13T09:35:13.021Z"
   },
   {
    "duration": 11,
    "start_time": "2023-08-13T09:35:13.032Z"
   },
   {
    "duration": 172,
    "start_time": "2023-08-13T09:35:13.045Z"
   },
   {
    "duration": 391,
    "start_time": "2023-08-13T09:35:13.218Z"
   },
   {
    "duration": 130,
    "start_time": "2023-08-13T09:35:13.610Z"
   },
   {
    "duration": 16,
    "start_time": "2023-08-13T09:35:13.743Z"
   },
   {
    "duration": 452,
    "start_time": "2023-08-13T09:35:13.761Z"
   },
   {
    "duration": 8,
    "start_time": "2023-08-13T09:35:14.215Z"
   },
   {
    "duration": 326,
    "start_time": "2023-08-13T09:35:14.225Z"
   },
   {
    "duration": 7,
    "start_time": "2023-08-13T09:35:14.552Z"
   },
   {
    "duration": 333,
    "start_time": "2023-08-13T09:35:14.560Z"
   },
   {
    "duration": 1009,
    "start_time": "2023-08-13T09:35:14.895Z"
   },
   {
    "duration": 3024,
    "start_time": "2023-08-13T09:35:15.905Z"
   },
   {
    "duration": 72,
    "start_time": "2023-08-13T09:35:34.942Z"
   },
   {
    "duration": 8,
    "start_time": "2023-08-13T09:35:40.423Z"
   },
   {
    "duration": 13,
    "start_time": "2023-08-13T09:35:46.845Z"
   },
   {
    "duration": 5,
    "start_time": "2023-08-13T09:35:51.756Z"
   },
   {
    "duration": 4,
    "start_time": "2023-08-13T09:59:02.409Z"
   }
  ],
  "kernelspec": {
   "display_name": "Python 3 (ipykernel)",
   "language": "python",
   "name": "python3"
  },
  "language_info": {
   "codemirror_mode": {
    "name": "ipython",
    "version": 3
   },
   "file_extension": ".py",
   "mimetype": "text/x-python",
   "name": "python",
   "nbconvert_exporter": "python",
   "pygments_lexer": "ipython3",
   "version": "3.11.5"
  },
  "toc": {
   "base_numbering": 1,
   "nav_menu": {},
   "number_sections": true,
   "sideBar": true,
   "skip_h1_title": true,
   "title_cell": "Table of Contents",
   "title_sidebar": "Contents",
   "toc_cell": false,
   "toc_position": {
    "height": "calc(100% - 180px)",
    "left": "10px",
    "top": "150px",
    "width": "165px"
   },
   "toc_section_display": true,
   "toc_window_display": true
  }
 },
 "nbformat": 4,
 "nbformat_minor": 5
}
