{
 "cells": [
  {
   "cell_type": "markdown",
   "metadata": {},
   "source": [
    "# Проект 'Выбор локации для скважины'"
   ]
  },
  {
   "cell_type": "markdown",
   "metadata": {},
   "source": [
    "## Загрузка и подготовка данных"
   ]
  },
  {
   "cell_type": "markdown",
   "metadata": {},
   "source": [
    "### Импортируем библиотеки."
   ]
  },
  {
   "cell_type": "code",
   "execution_count": 5,
   "metadata": {},
   "outputs": [],
   "source": [
    "import pandas as pd\n",
    "import numpy as np\n",
    "import scipy.stats as st\n",
    "from sklearn.model_selection import train_test_split\n",
    "from sklearn.preprocessing import MinMaxScaler\n",
    "from sklearn.linear_model import LinearRegression\n",
    "from sklearn.metrics import mean_squared_error"
   ]
  },
  {
   "cell_type": "markdown",
   "metadata": {},
   "source": [
    "### Константы"
   ]
  },
  {
   "cell_type": "markdown",
   "metadata": {},
   "source": [
    "Некоторые константы, которые понадобятся нам далее при расчёте прибыли."
   ]
  },
  {
   "cell_type": "code",
   "execution_count": 6,
   "metadata": {},
   "outputs": [],
   "source": [
    "BUDGET = 1e10\n",
    "INCOME_PER_1000_BBL = 450 * 10**3\n",
    "BOREHOLS = 200"
   ]
  },
  {
   "cell_type": "markdown",
   "metadata": {},
   "source": [
    "### Считываем данные и выводим общую информацию."
   ]
  },
  {
   "cell_type": "code",
   "execution_count": 7,
   "metadata": {},
   "outputs": [],
   "source": [
    "try:\n",
    "    data_0 = pd.read_csv('datasets/geo_data_0.csv')\n",
    "    data_1 = pd.read_csv('datasets/geo_data_1.csv')\n",
    "    data_2 = pd.read_csv('datasets/geo_data_2.csv')\n",
    "except:\n",
    "    data_0 = pd.read_csv('geo_data_0.csv')\n",
    "    data_1 = pd.read_csv('geo_data_1.csv')\n",
    "    data_2 = pd.read_csv('geo_data_2.csv')"
   ]
  },
  {
   "cell_type": "code",
   "execution_count": 8,
   "metadata": {},
   "outputs": [
    {
     "name": "stdout",
     "output_type": "stream",
     "text": [
      "<class 'pandas.core.frame.DataFrame'>\n",
      "RangeIndex: 100000 entries, 0 to 99999\n",
      "Data columns (total 5 columns):\n",
      " #   Column   Non-Null Count   Dtype  \n",
      "---  ------   --------------   -----  \n",
      " 0   id       100000 non-null  object \n",
      " 1   f0       100000 non-null  float64\n",
      " 2   f1       100000 non-null  float64\n",
      " 3   f2       100000 non-null  float64\n",
      " 4   product  100000 non-null  float64\n",
      "dtypes: float64(4), object(1)\n",
      "memory usage: 3.8+ MB\n"
     ]
    }
   ],
   "source": [
    "data_0.info()"
   ]
  },
  {
   "cell_type": "markdown",
   "metadata": {},
   "source": [
    "Далее будем рассматривать только **data_0**, т.к. у датафреймов отличаются лишь конкретные характеристики объектов."
   ]
  },
  {
   "cell_type": "code",
   "execution_count": 9,
   "metadata": {},
   "outputs": [
    {
     "data": {
      "text/html": [
       "<div>\n",
       "<style scoped>\n",
       "    .dataframe tbody tr th:only-of-type {\n",
       "        vertical-align: middle;\n",
       "    }\n",
       "\n",
       "    .dataframe tbody tr th {\n",
       "        vertical-align: top;\n",
       "    }\n",
       "\n",
       "    .dataframe thead th {\n",
       "        text-align: right;\n",
       "    }\n",
       "</style>\n",
       "<table border=\"1\" class=\"dataframe\">\n",
       "  <thead>\n",
       "    <tr style=\"text-align: right;\">\n",
       "      <th></th>\n",
       "      <th>f0</th>\n",
       "      <th>f1</th>\n",
       "      <th>f2</th>\n",
       "      <th>product</th>\n",
       "    </tr>\n",
       "  </thead>\n",
       "  <tbody>\n",
       "    <tr>\n",
       "      <th>count</th>\n",
       "      <td>100000.000000</td>\n",
       "      <td>100000.000000</td>\n",
       "      <td>100000.000000</td>\n",
       "      <td>100000.000000</td>\n",
       "    </tr>\n",
       "    <tr>\n",
       "      <th>mean</th>\n",
       "      <td>0.500419</td>\n",
       "      <td>0.250143</td>\n",
       "      <td>2.502647</td>\n",
       "      <td>92.500000</td>\n",
       "    </tr>\n",
       "    <tr>\n",
       "      <th>std</th>\n",
       "      <td>0.871832</td>\n",
       "      <td>0.504433</td>\n",
       "      <td>3.248248</td>\n",
       "      <td>44.288691</td>\n",
       "    </tr>\n",
       "    <tr>\n",
       "      <th>min</th>\n",
       "      <td>-1.408605</td>\n",
       "      <td>-0.848218</td>\n",
       "      <td>-12.088328</td>\n",
       "      <td>0.000000</td>\n",
       "    </tr>\n",
       "    <tr>\n",
       "      <th>25%</th>\n",
       "      <td>-0.072580</td>\n",
       "      <td>-0.200881</td>\n",
       "      <td>0.287748</td>\n",
       "      <td>56.497507</td>\n",
       "    </tr>\n",
       "    <tr>\n",
       "      <th>50%</th>\n",
       "      <td>0.502360</td>\n",
       "      <td>0.250252</td>\n",
       "      <td>2.515969</td>\n",
       "      <td>91.849972</td>\n",
       "    </tr>\n",
       "    <tr>\n",
       "      <th>75%</th>\n",
       "      <td>1.073581</td>\n",
       "      <td>0.700646</td>\n",
       "      <td>4.715088</td>\n",
       "      <td>128.564089</td>\n",
       "    </tr>\n",
       "    <tr>\n",
       "      <th>max</th>\n",
       "      <td>2.362331</td>\n",
       "      <td>1.343769</td>\n",
       "      <td>16.003790</td>\n",
       "      <td>185.364347</td>\n",
       "    </tr>\n",
       "  </tbody>\n",
       "</table>\n",
       "</div>"
      ],
      "text/plain": [
       "                  f0             f1             f2        product\n",
       "count  100000.000000  100000.000000  100000.000000  100000.000000\n",
       "mean        0.500419       0.250143       2.502647      92.500000\n",
       "std         0.871832       0.504433       3.248248      44.288691\n",
       "min        -1.408605      -0.848218     -12.088328       0.000000\n",
       "25%        -0.072580      -0.200881       0.287748      56.497507\n",
       "50%         0.502360       0.250252       2.515969      91.849972\n",
       "75%         1.073581       0.700646       4.715088     128.564089\n",
       "max         2.362331       1.343769      16.003790     185.364347"
      ]
     },
     "execution_count": 9,
     "metadata": {},
     "output_type": "execute_result"
    }
   ],
   "source": [
    "data_0.describe()"
   ]
  },
  {
   "cell_type": "markdown",
   "metadata": {},
   "source": [
    "Первые 5 строчек датасета."
   ]
  },
  {
   "cell_type": "code",
   "execution_count": 10,
   "metadata": {},
   "outputs": [
    {
     "data": {
      "text/html": [
       "<div>\n",
       "<style scoped>\n",
       "    .dataframe tbody tr th:only-of-type {\n",
       "        vertical-align: middle;\n",
       "    }\n",
       "\n",
       "    .dataframe tbody tr th {\n",
       "        vertical-align: top;\n",
       "    }\n",
       "\n",
       "    .dataframe thead th {\n",
       "        text-align: right;\n",
       "    }\n",
       "</style>\n",
       "<table border=\"1\" class=\"dataframe\">\n",
       "  <thead>\n",
       "    <tr style=\"text-align: right;\">\n",
       "      <th></th>\n",
       "      <th>id</th>\n",
       "      <th>f0</th>\n",
       "      <th>f1</th>\n",
       "      <th>f2</th>\n",
       "      <th>product</th>\n",
       "    </tr>\n",
       "  </thead>\n",
       "  <tbody>\n",
       "    <tr>\n",
       "      <th>0</th>\n",
       "      <td>txEyH</td>\n",
       "      <td>0.705745</td>\n",
       "      <td>-0.497823</td>\n",
       "      <td>1.221170</td>\n",
       "      <td>105.280062</td>\n",
       "    </tr>\n",
       "    <tr>\n",
       "      <th>1</th>\n",
       "      <td>2acmU</td>\n",
       "      <td>1.334711</td>\n",
       "      <td>-0.340164</td>\n",
       "      <td>4.365080</td>\n",
       "      <td>73.037750</td>\n",
       "    </tr>\n",
       "    <tr>\n",
       "      <th>2</th>\n",
       "      <td>409Wp</td>\n",
       "      <td>1.022732</td>\n",
       "      <td>0.151990</td>\n",
       "      <td>1.419926</td>\n",
       "      <td>85.265647</td>\n",
       "    </tr>\n",
       "    <tr>\n",
       "      <th>3</th>\n",
       "      <td>iJLyR</td>\n",
       "      <td>-0.032172</td>\n",
       "      <td>0.139033</td>\n",
       "      <td>2.978566</td>\n",
       "      <td>168.620776</td>\n",
       "    </tr>\n",
       "    <tr>\n",
       "      <th>4</th>\n",
       "      <td>Xdl7t</td>\n",
       "      <td>1.988431</td>\n",
       "      <td>0.155413</td>\n",
       "      <td>4.751769</td>\n",
       "      <td>154.036647</td>\n",
       "    </tr>\n",
       "  </tbody>\n",
       "</table>\n",
       "</div>"
      ],
      "text/plain": [
       "      id        f0        f1        f2     product\n",
       "0  txEyH  0.705745 -0.497823  1.221170  105.280062\n",
       "1  2acmU  1.334711 -0.340164  4.365080   73.037750\n",
       "2  409Wp  1.022732  0.151990  1.419926   85.265647\n",
       "3  iJLyR -0.032172  0.139033  2.978566  168.620776\n",
       "4  Xdl7t  1.988431  0.155413  4.751769  154.036647"
      ]
     },
     "execution_count": 10,
     "metadata": {},
     "output_type": "execute_result"
    }
   ],
   "source": [
    "data_0.head()"
   ]
  },
  {
   "cell_type": "markdown",
   "metadata": {},
   "source": [
    "Теперь придётся рассмотреть каждый датасет. \\\n",
    "Гистограммы всех числовых столбцов."
   ]
  },
  {
   "cell_type": "code",
   "execution_count": 11,
   "metadata": {},
   "outputs": [
    {
     "data": {
      "image/png": "[encoded data removed]",
      "text/plain": [
       "<Figure size 600x600 with 4 Axes>"
      ]
     },
     "metadata": {},
     "output_type": "display_data"
    }
   ],
   "source": [
    "data_0.hist(figsize=(6,6));"
   ]
  },
  {
   "cell_type": "code",
   "execution_count": 12,
   "metadata": {},
   "outputs": [
    {
     "data": {
      "image/png": "[encoded data removed]",
      "text/plain": [
       "<Figure size 600x600 with 4 Axes>"
      ]
     },
     "metadata": {},
     "output_type": "display_data"
    }
   ],
   "source": [
    "data_1.hist(figsize=(6,6));"
   ]
  },
  {
   "cell_type": "code",
   "execution_count": 13,
   "metadata": {},
   "outputs": [
    {
     "data": {
      "image/png": "[encoded data removed]",
      "text/plain": [
       "<Figure size 600x600 with 4 Axes>"
      ]
     },
     "metadata": {},
     "output_type": "display_data"
    }
   ],
   "source": [
    "data_2.hist(figsize=(6,6));"
   ]
  },
  {
   "cell_type": "markdown",
   "metadata": {},
   "source": [
    "###  Изучим особенности данных."
   ]
  },
  {
   "cell_type": "markdown",
   "metadata": {},
   "source": [
    "Сначала проверим даннные на наличие дубликатов."
   ]
  },
  {
   "cell_type": "code",
   "execution_count": 14,
   "metadata": {},
   "outputs": [
    {
     "data": {
      "text/plain": [
       "0"
      ]
     },
     "metadata": {},
     "output_type": "display_data"
    },
    {
     "data": {
      "text/plain": [
       "0"
      ]
     },
     "metadata": {},
     "output_type": "display_data"
    },
    {
     "data": {
      "text/plain": [
       "0"
      ]
     },
     "metadata": {},
     "output_type": "display_data"
    }
   ],
   "source": [
    "display(data_0.duplicated().sum())\n",
    "display(data_1.duplicated().sum())\n",
    "display(data_2.duplicated().sum())"
   ]
  },
  {
   "cell_type": "markdown",
   "metadata": {},
   "source": [
    "Их нет - можем двигаться дальше."
   ]
  },
  {
   "cell_type": "code",
   "execution_count": 15,
   "metadata": {},
   "outputs": [
    {
     "data": {
      "text/plain": [
       "id         0\n",
       "f0         0\n",
       "f1         0\n",
       "f2         0\n",
       "product    0\n",
       "dtype: int64"
      ]
     },
     "metadata": {},
     "output_type": "display_data"
    },
    {
     "data": {
      "text/plain": [
       "id         0\n",
       "f0         0\n",
       "f1         0\n",
       "f2         0\n",
       "product    0\n",
       "dtype: int64"
      ]
     },
     "metadata": {},
     "output_type": "display_data"
    },
    {
     "data": {
      "text/plain": [
       "id         0\n",
       "f0         0\n",
       "f1         0\n",
       "f2         0\n",
       "product    0\n",
       "dtype: int64"
      ]
     },
     "metadata": {},
     "output_type": "display_data"
    }
   ],
   "source": [
    "display(data_0.isna().sum())\n",
    "display(data_1.isna().sum())\n",
    "display(data_2.isna().sum())"
   ]
  },
  {
   "cell_type": "markdown",
   "metadata": {},
   "source": [
    "Пропусков тоже не наблюдается!"
   ]
  },
  {
   "cell_type": "markdown",
   "metadata": {},
   "source": [
    "### Проверим зависимости"
   ]
  },
  {
   "cell_type": "code",
   "execution_count": 23,
   "metadata": {},
   "outputs": [
    {
     "name": "stdout",
     "output_type": "stream",
     "text": [
      "Корреляционная матрица для региона №0:\n"
     ]
    },
    {
     "data": {
      "text/html": [
       "<style type=\"text/css\">\n",
       "#T_81d69_row0_col0, #T_81d69_row1_col1, #T_81d69_row2_col2, #T_81d69_row3_col3 {\n",
       "  background-color: #ff0000;\n",
       "  color: #f1f1f1;\n",
       "}\n",
       "#T_81d69_row0_col1, #T_81d69_row0_col2, #T_81d69_row1_col0, #T_81d69_row1_col3 {\n",
       "  background-color: #0000ff;\n",
       "  color: #f1f1f1;\n",
       "}\n",
       "#T_81d69_row0_col3 {\n",
       "  background-color: #9090ff;\n",
       "  color: #f1f1f1;\n",
       "}\n",
       "#T_81d69_row1_col2 {\n",
       "  background-color: #0202ff;\n",
       "  color: #f1f1f1;\n",
       "}\n",
       "#T_81d69_row2_col0 {\n",
       "  background-color: #9a9aff;\n",
       "  color: #f1f1f1;\n",
       "}\n",
       "#T_81d69_row2_col1 {\n",
       "  background-color: #9c9cff;\n",
       "  color: #f1f1f1;\n",
       "}\n",
       "#T_81d69_row2_col3 {\n",
       "  background-color: #ffdcdc;\n",
       "  color: #000000;\n",
       "}\n",
       "#T_81d69_row3_col0 {\n",
       "  background-color: #ceceff;\n",
       "  color: #000000;\n",
       "}\n",
       "#T_81d69_row3_col1 {\n",
       "  background-color: #5858ff;\n",
       "  color: #f1f1f1;\n",
       "}\n",
       "#T_81d69_row3_col2 {\n",
       "  background-color: #f8f8ff;\n",
       "  color: #000000;\n",
       "}\n",
       "</style>\n",
       "<table id=\"T_81d69\">\n",
       "  <thead>\n",
       "    <tr>\n",
       "      <th class=\"blank level0\" >&nbsp;</th>\n",
       "      <th id=\"T_81d69_level0_col0\" class=\"col_heading level0 col0\" >f0</th>\n",
       "      <th id=\"T_81d69_level0_col1\" class=\"col_heading level0 col1\" >f1</th>\n",
       "      <th id=\"T_81d69_level0_col2\" class=\"col_heading level0 col2\" >f2</th>\n",
       "      <th id=\"T_81d69_level0_col3\" class=\"col_heading level0 col3\" >product</th>\n",
       "    </tr>\n",
       "  </thead>\n",
       "  <tbody>\n",
       "    <tr>\n",
       "      <th id=\"T_81d69_level0_row0\" class=\"row_heading level0 row0\" >f0</th>\n",
       "      <td id=\"T_81d69_row0_col0\" class=\"data row0 col0\" >1.000000</td>\n",
       "      <td id=\"T_81d69_row0_col1\" class=\"data row0 col1\" >-0.440723</td>\n",
       "      <td id=\"T_81d69_row0_col2\" class=\"data row0 col2\" >-0.003153</td>\n",
       "      <td id=\"T_81d69_row0_col3\" class=\"data row0 col3\" >0.143536</td>\n",
       "    </tr>\n",
       "    <tr>\n",
       "      <th id=\"T_81d69_level0_row1\" class=\"row_heading level0 row1\" >f1</th>\n",
       "      <td id=\"T_81d69_row1_col0\" class=\"data row1 col0\" >-0.440723</td>\n",
       "      <td id=\"T_81d69_row1_col1\" class=\"data row1 col1\" >1.000000</td>\n",
       "      <td id=\"T_81d69_row1_col2\" class=\"data row1 col2\" >0.001724</td>\n",
       "      <td id=\"T_81d69_row1_col3\" class=\"data row1 col3\" >-0.192356</td>\n",
       "    </tr>\n",
       "    <tr>\n",
       "      <th id=\"T_81d69_level0_row2\" class=\"row_heading level0 row2\" >f2</th>\n",
       "      <td id=\"T_81d69_row2_col0\" class=\"data row2 col0\" >-0.003153</td>\n",
       "      <td id=\"T_81d69_row2_col1\" class=\"data row2 col1\" >0.001724</td>\n",
       "      <td id=\"T_81d69_row2_col2\" class=\"data row2 col2\" >1.000000</td>\n",
       "      <td id=\"T_81d69_row2_col3\" class=\"data row2 col3\" >0.483663</td>\n",
       "    </tr>\n",
       "    <tr>\n",
       "      <th id=\"T_81d69_level0_row3\" class=\"row_heading level0 row3\" >product</th>\n",
       "      <td id=\"T_81d69_row3_col0\" class=\"data row3 col0\" >0.143536</td>\n",
       "      <td id=\"T_81d69_row3_col1\" class=\"data row3 col1\" >-0.192356</td>\n",
       "      <td id=\"T_81d69_row3_col2\" class=\"data row3 col2\" >0.483663</td>\n",
       "      <td id=\"T_81d69_row3_col3\" class=\"data row3 col3\" >1.000000</td>\n",
       "    </tr>\n",
       "  </tbody>\n",
       "</table>\n"
      ],
      "text/plain": [
       "<pandas.io.formats.style.Styler at 0x1ebf50a3e50>"
      ]
     },
     "execution_count": 23,
     "metadata": {},
     "output_type": "execute_result"
    }
   ],
   "source": [
    "print('Корреляционная матрица для региона №0:')\n",
    "data_0.loc[:, 'f0':].corr().style.background_gradient(cmap='bwr')"
   ]
  },
  {
   "cell_type": "code",
   "execution_count": 24,
   "metadata": {},
   "outputs": [
    {
     "name": "stdout",
     "output_type": "stream",
     "text": [
      "Корреляционная матрица для региона №1:\n"
     ]
    },
    {
     "data": {
      "text/html": [
       "<style type=\"text/css\">\n",
       "#T_ec290_row0_col0, #T_ec290_row1_col1, #T_ec290_row2_col2, #T_ec290_row2_col3, #T_ec290_row3_col2, #T_ec290_row3_col3 {\n",
       "  background-color: #ff0000;\n",
       "  color: #f1f1f1;\n",
       "}\n",
       "#T_ec290_row0_col1 {\n",
       "  background-color: #6060ff;\n",
       "  color: #f1f1f1;\n",
       "}\n",
       "#T_ec290_row0_col2, #T_ec290_row0_col3, #T_ec290_row1_col2, #T_ec290_row3_col0, #T_ec290_row3_col1 {\n",
       "  background-color: #0000ff;\n",
       "  color: #f1f1f1;\n",
       "}\n",
       "#T_ec290_row1_col0 {\n",
       "  background-color: #6868ff;\n",
       "  color: #f1f1f1;\n",
       "}\n",
       "#T_ec290_row1_col3 {\n",
       "  background-color: #0a0aff;\n",
       "  color: #f1f1f1;\n",
       "}\n",
       "#T_ec290_row2_col0 {\n",
       "  background-color: #0e0eff;\n",
       "  color: #f1f1f1;\n",
       "}\n",
       "#T_ec290_row2_col1 {\n",
       "  background-color: #0202ff;\n",
       "  color: #f1f1f1;\n",
       "}\n",
       "</style>\n",
       "<table id=\"T_ec290\">\n",
       "  <thead>\n",
       "    <tr>\n",
       "      <th class=\"blank level0\" >&nbsp;</th>\n",
       "      <th id=\"T_ec290_level0_col0\" class=\"col_heading level0 col0\" >f0</th>\n",
       "      <th id=\"T_ec290_level0_col1\" class=\"col_heading level0 col1\" >f1</th>\n",
       "      <th id=\"T_ec290_level0_col2\" class=\"col_heading level0 col2\" >f2</th>\n",
       "      <th id=\"T_ec290_level0_col3\" class=\"col_heading level0 col3\" >product</th>\n",
       "    </tr>\n",
       "  </thead>\n",
       "  <tbody>\n",
       "    <tr>\n",
       "      <th id=\"T_ec290_level0_row0\" class=\"row_heading level0 row0\" >f0</th>\n",
       "      <td id=\"T_ec290_row0_col0\" class=\"data row0 col0\" >1.000000</td>\n",
       "      <td id=\"T_ec290_row0_col1\" class=\"data row0 col1\" >0.182287</td>\n",
       "      <td id=\"T_ec290_row0_col2\" class=\"data row0 col2\" >-0.001777</td>\n",
       "      <td id=\"T_ec290_row0_col3\" class=\"data row0 col3\" >-0.030491</td>\n",
       "    </tr>\n",
       "    <tr>\n",
       "      <th id=\"T_ec290_level0_row1\" class=\"row_heading level0 row1\" >f1</th>\n",
       "      <td id=\"T_ec290_row1_col0\" class=\"data row1 col0\" >0.182287</td>\n",
       "      <td id=\"T_ec290_row1_col1\" class=\"data row1 col1\" >1.000000</td>\n",
       "      <td id=\"T_ec290_row1_col2\" class=\"data row1 col2\" >-0.002595</td>\n",
       "      <td id=\"T_ec290_row1_col3\" class=\"data row1 col3\" >-0.010155</td>\n",
       "    </tr>\n",
       "    <tr>\n",
       "      <th id=\"T_ec290_level0_row2\" class=\"row_heading level0 row2\" >f2</th>\n",
       "      <td id=\"T_ec290_row2_col0\" class=\"data row2 col0\" >-0.001777</td>\n",
       "      <td id=\"T_ec290_row2_col1\" class=\"data row2 col1\" >-0.002595</td>\n",
       "      <td id=\"T_ec290_row2_col2\" class=\"data row2 col2\" >1.000000</td>\n",
       "      <td id=\"T_ec290_row2_col3\" class=\"data row2 col3\" >0.999397</td>\n",
       "    </tr>\n",
       "    <tr>\n",
       "      <th id=\"T_ec290_level0_row3\" class=\"row_heading level0 row3\" >product</th>\n",
       "      <td id=\"T_ec290_row3_col0\" class=\"data row3 col0\" >-0.030491</td>\n",
       "      <td id=\"T_ec290_row3_col1\" class=\"data row3 col1\" >-0.010155</td>\n",
       "      <td id=\"T_ec290_row3_col2\" class=\"data row3 col2\" >0.999397</td>\n",
       "      <td id=\"T_ec290_row3_col3\" class=\"data row3 col3\" >1.000000</td>\n",
       "    </tr>\n",
       "  </tbody>\n",
       "</table>\n"
      ],
      "text/plain": [
       "<pandas.io.formats.style.Styler at 0x1ebf16f51d0>"
      ]
     },
     "execution_count": 24,
     "metadata": {},
     "output_type": "execute_result"
    }
   ],
   "source": [
    "print('Корреляционная матрица для региона №1:')\n",
    "data_1.loc[:, 'f0':].corr().style.background_gradient(cmap='bwr')"
   ]
  },
  {
   "cell_type": "code",
   "execution_count": 25,
   "metadata": {},
   "outputs": [
    {
     "name": "stdout",
     "output_type": "stream",
     "text": [
      "Корреляционная матрица для региона №2:\n"
     ]
    },
    {
     "data": {
      "text/html": [
       "<style type=\"text/css\">\n",
       "#T_117ad_row0_col0, #T_117ad_row1_col1, #T_117ad_row2_col2, #T_117ad_row3_col3 {\n",
       "  background-color: #ff0000;\n",
       "  color: #f1f1f1;\n",
       "}\n",
       "#T_117ad_row0_col1, #T_117ad_row0_col2, #T_117ad_row0_col3, #T_117ad_row1_col0, #T_117ad_row1_col2, #T_117ad_row1_col3, #T_117ad_row2_col0, #T_117ad_row2_col1, #T_117ad_row3_col0, #T_117ad_row3_col1 {\n",
       "  background-color: #0000ff;\n",
       "  color: #f1f1f1;\n",
       "}\n",
       "#T_117ad_row2_col3, #T_117ad_row3_col2 {\n",
       "  background-color: #e4e4ff;\n",
       "  color: #000000;\n",
       "}\n",
       "</style>\n",
       "<table id=\"T_117ad\">\n",
       "  <thead>\n",
       "    <tr>\n",
       "      <th class=\"blank level0\" >&nbsp;</th>\n",
       "      <th id=\"T_117ad_level0_col0\" class=\"col_heading level0 col0\" >f0</th>\n",
       "      <th id=\"T_117ad_level0_col1\" class=\"col_heading level0 col1\" >f1</th>\n",
       "      <th id=\"T_117ad_level0_col2\" class=\"col_heading level0 col2\" >f2</th>\n",
       "      <th id=\"T_117ad_level0_col3\" class=\"col_heading level0 col3\" >product</th>\n",
       "    </tr>\n",
       "  </thead>\n",
       "  <tbody>\n",
       "    <tr>\n",
       "      <th id=\"T_117ad_level0_row0\" class=\"row_heading level0 row0\" >f0</th>\n",
       "      <td id=\"T_117ad_row0_col0\" class=\"data row0 col0\" >1.000000</td>\n",
       "      <td id=\"T_117ad_row0_col1\" class=\"data row0 col1\" >0.000528</td>\n",
       "      <td id=\"T_117ad_row0_col2\" class=\"data row0 col2\" >-0.000448</td>\n",
       "      <td id=\"T_117ad_row0_col3\" class=\"data row0 col3\" >-0.001987</td>\n",
       "    </tr>\n",
       "    <tr>\n",
       "      <th id=\"T_117ad_level0_row1\" class=\"row_heading level0 row1\" >f1</th>\n",
       "      <td id=\"T_117ad_row1_col0\" class=\"data row1 col0\" >0.000528</td>\n",
       "      <td id=\"T_117ad_row1_col1\" class=\"data row1 col1\" >1.000000</td>\n",
       "      <td id=\"T_117ad_row1_col2\" class=\"data row1 col2\" >0.000779</td>\n",
       "      <td id=\"T_117ad_row1_col3\" class=\"data row1 col3\" >-0.001012</td>\n",
       "    </tr>\n",
       "    <tr>\n",
       "      <th id=\"T_117ad_level0_row2\" class=\"row_heading level0 row2\" >f2</th>\n",
       "      <td id=\"T_117ad_row2_col0\" class=\"data row2 col0\" >-0.000448</td>\n",
       "      <td id=\"T_117ad_row2_col1\" class=\"data row2 col1\" >0.000779</td>\n",
       "      <td id=\"T_117ad_row2_col2\" class=\"data row2 col2\" >1.000000</td>\n",
       "      <td id=\"T_117ad_row2_col3\" class=\"data row2 col3\" >0.445871</td>\n",
       "    </tr>\n",
       "    <tr>\n",
       "      <th id=\"T_117ad_level0_row3\" class=\"row_heading level0 row3\" >product</th>\n",
       "      <td id=\"T_117ad_row3_col0\" class=\"data row3 col0\" >-0.001987</td>\n",
       "      <td id=\"T_117ad_row3_col1\" class=\"data row3 col1\" >-0.001012</td>\n",
       "      <td id=\"T_117ad_row3_col2\" class=\"data row3 col2\" >0.445871</td>\n",
       "      <td id=\"T_117ad_row3_col3\" class=\"data row3 col3\" >1.000000</td>\n",
       "    </tr>\n",
       "  </tbody>\n",
       "</table>\n"
      ],
      "text/plain": [
       "<pandas.io.formats.style.Styler at 0x1ebf50bb610>"
      ]
     },
     "execution_count": 25,
     "metadata": {},
     "output_type": "execute_result"
    }
   ],
   "source": [
    "print('Корреляционная матрица для региона №2:')\n",
    "data_2.loc[:, 'f0':].corr().style.background_gradient(cmap='bwr')"
   ]
  },
  {
   "cell_type": "markdown",
   "metadata": {},
   "source": [
    "Судя по таблицам, самым значимым признаком является **f2**. Объёмы запасов нефти зависят от него на **0.48**, **0.99** и **0.45** в каждом из 3-х регионов соответственно. Также в нулевом регионе присутствует отрицательная корреляция (**-0.44**) между **f0** и **f1**. "
   ]
  },
  {
   "cell_type": "markdown",
   "metadata": {},
   "source": [
    "### Подготовим данные"
   ]
  },
  {
   "cell_type": "markdown",
   "metadata": {},
   "source": [
    "Столбец `id` мы использовать не будем (т.к. это просто кодовый номер месторождения), а все остальные признаки численные. Следовательно, преобразовывать никакие категориальные переменные нет необходимости.\n",
    "\n",
    "Теперь выясним придётся ли нам прибегнуть к масштабированию. Для этого проверим границы значений каждого."
   ]
  },
  {
   "cell_type": "code",
   "execution_count": 26,
   "metadata": {},
   "outputs": [],
   "source": [
    "def borders(n, data):\n",
    "    table = data.agg(['min', 'max'])\n",
    "    print(f\"Границы признаков региона №{n}:\\n{table}\\n\")"
   ]
  },
  {
   "cell_type": "code",
   "execution_count": 27,
   "metadata": {},
   "outputs": [
    {
     "name": "stdout",
     "output_type": "stream",
     "text": [
      "Границы признаков региона №0:\n",
      "           f0        f1         f2\n",
      "min -1.408605 -0.848218 -12.088328\n",
      "max  2.362331  1.343769  16.003790\n",
      "\n",
      "Границы признаков региона №1:\n",
      "            f0         f1        f2\n",
      "min -31.609576 -26.358598 -0.018144\n",
      "max  29.421755  18.734063  5.019721\n",
      "\n",
      "Границы признаков региона №2:\n",
      "           f0        f1         f2\n",
      "min -8.760004 -7.084020 -11.970335\n",
      "max  7.238262  7.844801  16.739402\n",
      "\n"
     ]
    }
   ],
   "source": [
    "borders(0, data_0.loc[:, 'f0':'f2'])\n",
    "borders(1, data_1.loc[:, 'f0':'f2'])\n",
    "borders(2, data_2.loc[:, 'f0':'f2'])"
   ]
  },
  {
   "cell_type": "markdown",
   "metadata": {},
   "source": [
    "Мы видим, что разброс у них не очень большой. Однако этого может хватить, чтобы какой-либо из признаков случайно стал более значимым. Так что после разбиения данных на выборки выполним масштабирование."
   ]
  },
  {
   "cell_type": "markdown",
   "metadata": {},
   "source": [
    "### Вывод\n",
    "\n",
    "В нашем распоряжении 3 датасета с информацией о нефтяных скважинах в регионах. В данных нет пропусков и дубликатов, а между некоторыми признаками присутствуют зависимости. Подготовка данных не потребовалась, так как все необходимые столбцы числовые. \\\n",
    "Приступим к построению моделей."
   ]
  },
  {
   "cell_type": "markdown",
   "metadata": {},
   "source": [
    "## Обучение и проверка моделей"
   ]
  },
  {
   "cell_type": "markdown",
   "metadata": {},
   "source": [
    "### Средний запас и RMSE"
   ]
  },
  {
   "cell_type": "markdown",
   "metadata": {},
   "source": [
    "Для каждого региона придётся создавать свою модель, поэтому напишем специальную функцию. "
   ]
  },
  {
   "cell_type": "code",
   "execution_count": 28,
   "metadata": {},
   "outputs": [],
   "source": [
    "def region_model(data, show):\n",
    "    # выделим признаки и ответы\n",
    "    features = data.drop(['product','id'], axis=1)\n",
    "    target = data['product']\n",
    "    \n",
    "    # разобьём данные на обучающую и валидационную выборки\n",
    "    features_train, features_valid, target_train, target_valid = train_test_split(features, target, \n",
    "                                                                                  test_size=0.25, \n",
    "                                                                                  random_state=12345)\n",
    "    # масштабируем признаки\n",
    "    scaler = MinMaxScaler()\n",
    "    features_train = scaler.fit_transform(features_train)\n",
    "    features_valid = scaler.transform(features_valid)\n",
    "    \n",
    "    # обучим модель и сохраним предсказания на валидационной выборке\n",
    "    model = LinearRegression()\n",
    "    model.fit(features_train, target_train)\n",
    "    predictions_valid = pd.Series(model.predict(features_valid))\n",
    "    \n",
    "    # считаем средний запас предсказанного сырья и RMSE модели\n",
    "    average_product = predictions_valid.mean()        \n",
    "    rmse = (mean_squared_error(predictions_valid, target_valid))**0.5\n",
    "    if show:\n",
    "        # напечатаем на экране \n",
    "        print('Средний запас предсказанного сырья: {0:.2f}'.format(average_product))\n",
    "        print('RMSE модели: {0:.2f}'.format(rmse))\n",
    "    else:\n",
    "        # возвращаем предсказания и правильные валидационные ответы, RMSE\n",
    "        return (predictions_valid, target_valid.reset_index(drop=True), rmse)    "
   ]
  },
  {
   "cell_type": "code",
   "execution_count": 29,
   "metadata": {},
   "outputs": [
    {
     "name": "stdout",
     "output_type": "stream",
     "text": [
      "Регион №0:\n",
      "Средний запас предсказанного сырья: 92.59\n",
      "RMSE модели: 37.58\n",
      "\n",
      "Регион №1:\n",
      "Средний запас предсказанного сырья: 68.73\n",
      "RMSE модели: 0.89\n",
      "\n",
      "Регион №2:\n",
      "Средний запас предсказанного сырья: 94.97\n",
      "RMSE модели: 40.03\n",
      "\n"
     ]
    }
   ],
   "source": [
    "i = 0\n",
    "for region in [data_0, data_1, data_2]:\n",
    "    print(f'Регион №{i}:')\n",
    "    region_model(region, 1)\n",
    "    print()\n",
    "    i += 1"
   ]
  },
  {
   "cell_type": "markdown",
   "metadata": {},
   "source": [
    "Судя по полученным числам, в регионе №2 самый большой средний запас сырья, а модель для региона №1 имеет самую низкую среднеквадратичную ошибку."
   ]
  },
  {
   "cell_type": "markdown",
   "metadata": {},
   "source": [
    "Сохраним эти результаты."
   ]
  },
  {
   "cell_type": "code",
   "execution_count": 30,
   "metadata": {},
   "outputs": [],
   "source": [
    "predictions_0, true_0, rmse_0 = region_model(data_0, 0)\n",
    "predictions_1, true_1, rmse_1 = region_model(data_1, 0)\n",
    "predictions_2, true_2, rmse_2 = region_model(data_2, 0)"
   ]
  },
  {
   "cell_type": "markdown",
   "metadata": {},
   "source": [
    "###  Вывод\n",
    "Мы разбили данные на выборки, масштабировали признаки, обучили модели, посчитали средний запас предсказанного сырья и RMSE моделей. Результаты проанализировали и сохранили в отдельные переменные."
   ]
  },
  {
   "cell_type": "markdown",
   "metadata": {},
   "source": [
    "## Подготовка к расчёту прибыли"
   ]
  },
  {
   "cell_type": "markdown",
   "metadata": {},
   "source": [
    "###  Ключевые значения для расчётов"
   ]
  },
  {
   "cell_type": "markdown",
   "metadata": {},
   "source": [
    "Нам необходимо знать:\n",
    "- бюджет на разработку скважин в регионе (`10 млрд руб.`)\n",
    "- доход с каждой единицы продукта (`450 руб. за баррель`)\n",
    "- итогое количество скважин, которые будут разработаны (`200`)"
   ]
  },
  {
   "cell_type": "markdown",
   "metadata": {},
   "source": [
    "Данные константы мы объявили заранее в самом начале проекта. Теперь используем их. "
   ]
  },
  {
   "cell_type": "markdown",
   "metadata": {},
   "source": [
    "### Рассчитаем достаточный объём сырья для безубыточной разработки новой скважины"
   ]
  },
  {
   "cell_type": "markdown",
   "metadata": {},
   "source": [
    "Согласно определению, `точка безубыточности - это объём производства и реализации продукции, при котором расходы будут компенсированы доходами`. Поэтому формула для её нахождения выглядит так: "
   ]
  },
  {
   "cell_type": "code",
   "execution_count": 31,
   "metadata": {},
   "outputs": [
    {
     "name": "stdout",
     "output_type": "stream",
     "text": [
      "Точка безубыточности: 22222 тыс. баррелей\n"
     ]
    }
   ],
   "source": [
    "breakeven = BUDGET / INCOME_PER_1000_BBL\n",
    "print('Точка безубыточности: {0:.0f} тыс. баррелей'.format(breakeven))"
   ]
  },
  {
   "cell_type": "markdown",
   "metadata": {},
   "source": [
    "Следовательно, при таком объёме нефти в регионе мы не будем иметь убытков. Но в конечном итоге нужно выбрать всего 200 лучших месторождений. Найдём средний объём запасов, который должна иметь каждая из этих точек: "
   ]
  },
  {
   "cell_type": "code",
   "execution_count": 32,
   "metadata": {},
   "outputs": [
    {
     "name": "stdout",
     "output_type": "stream",
     "text": [
      "Средний объем нефти в скважине для безубыточного функционирования: 112.0\n"
     ]
    }
   ],
   "source": [
    "print('Средний объем нефти в скважине для безубыточного функционирования:', np.ceil(breakeven / 200))"
   ]
  },
  {
   "cell_type": "markdown",
   "metadata": {},
   "source": [
    "А теперь сравним полученный объём сырья со средним запасом в каждом регионе."
   ]
  },
  {
   "cell_type": "code",
   "execution_count": 33,
   "metadata": {},
   "outputs": [
    {
     "name": "stdout",
     "output_type": "stream",
     "text": [
      "Регион №0: 93\n",
      "Регион №1: 69\n",
      "Регион №2: 95\n"
     ]
    }
   ],
   "source": [
    "print('Регион №0: {0:.0f}'.format(data_0['product'].mean()))\n",
    "print('Регион №1: {0:.0f}'.format(data_1['product'].mean()))\n",
    "print('Регион №2: {0:.0f}'.format(data_2['product'].mean()))"
   ]
  },
  {
   "cell_type": "markdown",
   "metadata": {},
   "source": [
    "Выбрав случайные скважины мы денег точно не заработаем. Все средние ниже точки безубыточности."
   ]
  },
  {
   "cell_type": "markdown",
   "metadata": {},
   "source": [
    "### Напишем функцию для расчёта прибыли"
   ]
  },
  {
   "cell_type": "code",
   "execution_count": 34,
   "metadata": {},
   "outputs": [],
   "source": [
    "def revenue(predictions, target):\n",
    "    # скважины с максимальными значениями предсказаний\n",
    "    top_preds = predictions.sort_values(ascending=False)\n",
    "    # просуммируем целевое значение объёма сырья, соответствующее  \n",
    "    # этим предсказаниям и найдём прибыль\n",
    "    top_target = target[top_preds.index][:BOREHOLS]\n",
    "    total_income = top_target.sum() * INCOME_PER_1000_BBL\n",
    "    return total_income - BUDGET"
   ]
  },
  {
   "cell_type": "markdown",
   "metadata": {},
   "source": [
    "### Вывод\n",
    "Мы сохранили ключевые значения (бюджет и цена на 1 баррель нефти), нашли точку безубыточности, а также создали функцию расчёта прибыли."
   ]
  },
  {
   "cell_type": "markdown",
   "metadata": {},
   "source": [
    "## Расчёт прибыли и рисков "
   ]
  },
  {
   "cell_type": "markdown",
   "metadata": {},
   "source": [
    "### Применим технику Bootstrap с 1000 выборок, чтобы найти распределение прибыли."
   ]
  },
  {
   "cell_type": "code",
   "execution_count": 35,
   "metadata": {},
   "outputs": [],
   "source": [
    "state = np.random.RandomState(12345)"
   ]
  },
  {
   "cell_type": "code",
   "execution_count": 36,
   "metadata": {},
   "outputs": [],
   "source": [
    "def risks_and_toffees(predictions, target):\n",
    "    values = []\n",
    "    \n",
    "    # процедура Bootstrap\n",
    "    for i in range(1000):\n",
    "        target_subsample = target.sample(500, replace=True, random_state=state)\n",
    "        predictions_subsample = predictions[target_subsample.index]\n",
    "        values.append(revenue(predictions_subsample, target_subsample))\n",
    "    values = pd.Series(values)\n",
    "    \n",
    "    # средняя прибыль, 95%-й доверительный интервал и риск убытков\n",
    "    mean_revenue = int(values.mean())\n",
    "    lower = int(np.percentile(values, 2.5)); higher = int(np.percentile(values, 97.5))\n",
    "    interval = (lower, higher)\n",
    "    risk = st.percentileofscore(values, 0)\n",
    "    \n",
    "    # вывод на экран\n",
    "    print(f'Средняя прибыль: {mean_revenue}')\n",
    "    print(f'95%-й доверительный интервал: {interval}')\n",
    "    print(f'Риск убытков: {risk}')"
   ]
  },
  {
   "cell_type": "code",
   "execution_count": null,
   "metadata": {},
   "outputs": [],
   "source": [
    "i = 0\n",
    "zipped = zip([predictions_0, predictions_1, predictions_2], \n",
    "             [true_0, true_1, true_2]) \n",
    "for predictions, target in zipped:\n",
    "    print(f'Регион №{i}:')\n",
    "    risks_and_toffees(predictions, target)\n",
    "    print()\n",
    "    i += 1"
   ]
  },
  {
   "cell_type": "markdown",
   "metadata": {},
   "source": [
    "### Вывод\n",
    "Мы успешно применили Bootstrap и нашли среднюю прибыль, риск убытков и 95%-й доверительный интервал для каждого региона. Также, полученная информация позволяет выбрать самый перспективный регион для разработки скважин. \\\n",
    "И это **регион №1**, т.к. у него: \n",
    "- минимальный риск убытков (`0.3`)\n",
    "- максимальная средняя прибыль (`~518 млн руб.`)"
   ]
  },
  {
   "cell_type": "markdown",
   "metadata": {},
   "source": [
    "## Общий вывод\n",
    "Мы использовали данные о нефтяных месторождениях в 3-х регионах, чтобы оценить прибыльность вложений.\n",
    "1) Данные были изучены и подготовлены к обучению моделей (проверены зависимости; отброшены лишние данные; признаки масштабированы и разделены на 2 выборки). \\\n",
    "2) Для каждого региона мы создали и обучили модель линейной регрессии. Посчитали среднеквадратичную ошибку и средний запас предсказанного сырья. \\\n",
    "3) Выделили ключевые константы для расчётов и сравнили точку безубыточности с реальной ситуацией по всем скважинам регионов. \\\n",
    "4) Применили технику Bootstrap и нашли 95% доверительный интервал для среднего объема нефти в скважинах. Проанализировали риски, среднюю прибыль и выбрали **регион №1**."
   ]
  }
 ],
 "metadata": {
  "ExecuteTimeLog": [
   {
    "duration": 78,
    "start_time": "2023-04-21T14:07:24.607Z"
   },
   {
    "duration": 435,
    "start_time": "2023-04-21T14:07:26.673Z"
   },
   {
    "duration": 787,
    "start_time": "2023-04-21T14:07:27.528Z"
   },
   {
    "duration": 17,
    "start_time": "2023-04-21T14:07:28.336Z"
   },
   {
    "duration": 16,
    "start_time": "2023-04-21T14:07:43.157Z"
   },
   {
    "duration": 16,
    "start_time": "2023-04-21T14:07:44.158Z"
   },
   {
    "duration": 16,
    "start_time": "2023-04-21T14:09:21.595Z"
   },
   {
    "duration": 41,
    "start_time": "2023-04-21T14:12:11.938Z"
   },
   {
    "duration": 38,
    "start_time": "2023-04-21T14:12:33.594Z"
   },
   {
    "duration": 32,
    "start_time": "2023-04-21T14:12:39.857Z"
   },
   {
    "duration": 37,
    "start_time": "2023-04-21T14:12:43.892Z"
   },
   {
    "duration": 817,
    "start_time": "2023-04-21T14:13:05.953Z"
   },
   {
    "duration": 528,
    "start_time": "2023-04-21T14:13:18.655Z"
   },
   {
    "duration": 555,
    "start_time": "2023-04-21T14:13:26.344Z"
   },
   {
    "duration": 499,
    "start_time": "2023-04-21T14:13:34.664Z"
   },
   {
    "duration": 454,
    "start_time": "2023-04-21T14:13:39.621Z"
   },
   {
    "duration": 490,
    "start_time": "2023-04-21T14:13:43.281Z"
   },
   {
    "duration": 35,
    "start_time": "2023-04-22T08:53:12.374Z"
   },
   {
    "duration": 35,
    "start_time": "2023-04-22T08:53:16.490Z"
   },
   {
    "duration": 33,
    "start_time": "2023-04-22T08:53:20.063Z"
   },
   {
    "duration": 95,
    "start_time": "2023-04-22T18:10:31.720Z"
   },
   {
    "duration": 261,
    "start_time": "2023-04-22T18:10:50.088Z"
   },
   {
    "duration": 17,
    "start_time": "2023-04-22T18:11:16.544Z"
   },
   {
    "duration": 22,
    "start_time": "2023-04-22T18:11:27.976Z"
   },
   {
    "duration": 49,
    "start_time": "2023-04-22T18:11:51.226Z"
   },
   {
    "duration": 204,
    "start_time": "2023-04-22T18:13:28.506Z"
   },
   {
    "duration": 17,
    "start_time": "2023-04-22T19:03:21.118Z"
   },
   {
    "duration": 27,
    "start_time": "2023-04-22T19:03:39.288Z"
   },
   {
    "duration": 37,
    "start_time": "2023-04-22T19:03:44.678Z"
   },
   {
    "duration": 34,
    "start_time": "2023-04-22T19:04:09.885Z"
   },
   {
    "duration": 32,
    "start_time": "2023-04-22T19:08:18.338Z"
   },
   {
    "duration": 31,
    "start_time": "2023-04-22T19:08:28.119Z"
   },
   {
    "duration": 33,
    "start_time": "2023-04-22T19:08:44.658Z"
   },
   {
    "duration": 38,
    "start_time": "2023-04-22T19:08:45.674Z"
   },
   {
    "duration": 30,
    "start_time": "2023-04-22T19:08:46.293Z"
   },
   {
    "duration": 23,
    "start_time": "2023-04-22T19:09:07.016Z"
   },
   {
    "duration": 33,
    "start_time": "2023-04-22T19:09:10.369Z"
   },
   {
    "duration": 30,
    "start_time": "2023-04-22T19:09:13.265Z"
   },
   {
    "duration": 42,
    "start_time": "2023-04-22T19:16:45.380Z"
   },
   {
    "duration": 44,
    "start_time": "2023-04-22T19:16:46.412Z"
   },
   {
    "duration": 15,
    "start_time": "2023-04-22T19:54:59.216Z"
   },
   {
    "duration": 4,
    "start_time": "2023-04-22T19:57:41.933Z"
   },
   {
    "duration": 6,
    "start_time": "2023-04-22T19:57:42.772Z"
   },
   {
    "duration": 13,
    "start_time": "2023-04-22T19:57:50.945Z"
   },
   {
    "duration": 21,
    "start_time": "2023-04-22T19:59:42.884Z"
   },
   {
    "duration": 35,
    "start_time": "2023-04-22T20:01:27.582Z"
   },
   {
    "duration": 6,
    "start_time": "2023-04-22T20:02:04.020Z"
   },
   {
    "duration": 15,
    "start_time": "2023-04-22T20:02:05.375Z"
   },
   {
    "duration": 35,
    "start_time": "2023-04-22T20:02:51.244Z"
   },
   {
    "duration": 42,
    "start_time": "2023-04-22T20:03:19.908Z"
   },
   {
    "duration": 51,
    "start_time": "2023-04-22T20:03:30.080Z"
   },
   {
    "duration": 30,
    "start_time": "2023-04-22T20:03:46.956Z"
   },
   {
    "duration": 41,
    "start_time": "2023-04-22T20:04:00.759Z"
   },
   {
    "duration": 5,
    "start_time": "2023-04-22T20:05:37.659Z"
   },
   {
    "duration": 18,
    "start_time": "2023-04-22T20:05:39.411Z"
   },
   {
    "duration": 117,
    "start_time": "2023-04-22T20:07:25.072Z"
   },
   {
    "duration": 125,
    "start_time": "2023-04-22T20:07:31.127Z"
   },
   {
    "duration": 116,
    "start_time": "2023-04-22T20:07:35.680Z"
   },
   {
    "duration": 4,
    "start_time": "2023-04-22T20:07:42.927Z"
   },
   {
    "duration": 37,
    "start_time": "2023-04-22T20:07:44.653Z"
   },
   {
    "duration": 3,
    "start_time": "2023-04-22T20:07:58.351Z"
   },
   {
    "duration": 36,
    "start_time": "2023-04-22T20:08:00.044Z"
   },
   {
    "duration": 5,
    "start_time": "2023-04-22T20:08:06.040Z"
   },
   {
    "duration": 42,
    "start_time": "2023-04-22T20:08:07.314Z"
   },
   {
    "duration": 530,
    "start_time": "2023-04-23T17:33:03.067Z"
   },
   {
    "duration": 1693,
    "start_time": "2023-04-23T17:33:03.599Z"
   },
   {
    "duration": 16,
    "start_time": "2023-04-23T17:33:05.294Z"
   },
   {
    "duration": 47,
    "start_time": "2023-04-23T17:33:05.313Z"
   },
   {
    "duration": 28,
    "start_time": "2023-04-23T17:33:05.362Z"
   },
   {
    "duration": 1008,
    "start_time": "2023-04-23T17:33:05.392Z"
   },
   {
    "duration": 198,
    "start_time": "2023-04-23T17:33:06.403Z"
   },
   {
    "duration": 36,
    "start_time": "2023-04-23T17:33:06.603Z"
   },
   {
    "duration": 109,
    "start_time": "2023-04-23T17:33:06.642Z"
   },
   {
    "duration": 39,
    "start_time": "2023-04-23T17:33:06.754Z"
   },
   {
    "duration": 21,
    "start_time": "2023-04-23T17:33:06.795Z"
   },
   {
    "duration": 23,
    "start_time": "2023-04-23T17:33:06.818Z"
   },
   {
    "duration": 91,
    "start_time": "2023-04-23T17:33:06.843Z"
   },
   {
    "duration": 1305,
    "start_time": "2023-04-23T17:37:17.192Z"
   },
   {
    "duration": 793,
    "start_time": "2023-04-23T17:37:18.499Z"
   },
   {
    "duration": 17,
    "start_time": "2023-04-23T17:37:19.293Z"
   },
   {
    "duration": 106,
    "start_time": "2023-04-23T17:37:19.314Z"
   },
   {
    "duration": 71,
    "start_time": "2023-04-23T17:37:19.422Z"
   },
   {
    "duration": 1306,
    "start_time": "2023-04-23T17:37:19.495Z"
   },
   {
    "duration": 323,
    "start_time": "2023-04-23T17:37:20.803Z"
   },
   {
    "duration": 82,
    "start_time": "2023-04-23T17:37:21.129Z"
   },
   {
    "duration": 86,
    "start_time": "2023-04-23T17:37:21.213Z"
   },
   {
    "duration": 25,
    "start_time": "2023-04-23T17:37:21.303Z"
   },
   {
    "duration": 26,
    "start_time": "2023-04-23T17:37:21.390Z"
   },
   {
    "duration": 4,
    "start_time": "2023-04-23T17:37:21.419Z"
   },
   {
    "duration": 88,
    "start_time": "2023-04-23T17:37:21.425Z"
   },
   {
    "duration": 3,
    "start_time": "2023-04-23T17:53:12.771Z"
   },
   {
    "duration": 433,
    "start_time": "2023-04-23T17:53:12.777Z"
   },
   {
    "duration": 15,
    "start_time": "2023-04-23T17:53:13.212Z"
   },
   {
    "duration": 41,
    "start_time": "2023-04-23T17:53:13.229Z"
   },
   {
    "duration": 11,
    "start_time": "2023-04-23T17:53:13.288Z"
   },
   {
    "duration": 496,
    "start_time": "2023-04-23T17:53:13.300Z"
   },
   {
    "duration": 161,
    "start_time": "2023-04-23T17:53:13.797Z"
   },
   {
    "duration": 40,
    "start_time": "2023-04-23T17:53:13.960Z"
   },
   {
    "duration": 25,
    "start_time": "2023-04-23T17:53:14.002Z"
   },
   {
    "duration": 62,
    "start_time": "2023-04-23T17:53:14.029Z"
   },
   {
    "duration": 32,
    "start_time": "2023-04-23T17:53:14.093Z"
   },
   {
    "duration": 3,
    "start_time": "2023-04-23T17:53:14.127Z"
   },
   {
    "duration": 31,
    "start_time": "2023-04-23T17:53:14.132Z"
   },
   {
    "duration": 32,
    "start_time": "2023-04-23T18:05:43.232Z"
   },
   {
    "duration": 453,
    "start_time": "2023-04-23T18:05:43.266Z"
   },
   {
    "duration": 17,
    "start_time": "2023-04-23T18:05:43.721Z"
   },
   {
    "duration": 60,
    "start_time": "2023-04-23T18:05:43.740Z"
   },
   {
    "duration": 11,
    "start_time": "2023-04-23T18:05:43.807Z"
   },
   {
    "duration": 549,
    "start_time": "2023-04-23T18:05:43.819Z"
   },
   {
    "duration": 422,
    "start_time": "2023-04-23T18:05:44.370Z"
   },
   {
    "duration": 93,
    "start_time": "2023-04-23T18:05:44.797Z"
   },
   {
    "duration": 34,
    "start_time": "2023-04-23T18:05:44.892Z"
   },
   {
    "duration": 91,
    "start_time": "2023-04-23T18:05:44.929Z"
   },
   {
    "duration": 78,
    "start_time": "2023-04-23T18:05:45.021Z"
   },
   {
    "duration": 12,
    "start_time": "2023-04-23T18:05:45.101Z"
   },
   {
    "duration": 90,
    "start_time": "2023-04-23T18:05:45.117Z"
   },
   {
    "duration": 6,
    "start_time": "2023-04-23T18:05:45.209Z"
   },
   {
    "duration": 139,
    "start_time": "2023-04-23T18:32:34.009Z"
   },
   {
    "duration": 0,
    "start_time": "2023-04-23T18:32:34.150Z"
   },
   {
    "duration": 0,
    "start_time": "2023-04-23T18:32:34.151Z"
   },
   {
    "duration": 0,
    "start_time": "2023-04-23T18:32:34.153Z"
   },
   {
    "duration": 0,
    "start_time": "2023-04-23T18:32:34.154Z"
   },
   {
    "duration": 0,
    "start_time": "2023-04-23T18:32:34.155Z"
   },
   {
    "duration": 0,
    "start_time": "2023-04-23T18:32:34.156Z"
   },
   {
    "duration": 0,
    "start_time": "2023-04-23T18:32:34.157Z"
   },
   {
    "duration": 0,
    "start_time": "2023-04-23T18:32:34.158Z"
   },
   {
    "duration": 0,
    "start_time": "2023-04-23T18:32:34.159Z"
   },
   {
    "duration": 0,
    "start_time": "2023-04-23T18:32:34.160Z"
   },
   {
    "duration": 0,
    "start_time": "2023-04-23T18:32:34.161Z"
   },
   {
    "duration": 0,
    "start_time": "2023-04-23T18:32:34.162Z"
   },
   {
    "duration": 0,
    "start_time": "2023-04-23T18:32:34.163Z"
   },
   {
    "duration": 3,
    "start_time": "2023-04-23T18:34:22.110Z"
   },
   {
    "duration": 4,
    "start_time": "2023-04-23T18:34:26.037Z"
   },
   {
    "duration": 442,
    "start_time": "2023-04-23T18:34:26.043Z"
   },
   {
    "duration": 22,
    "start_time": "2023-04-23T18:34:26.487Z"
   },
   {
    "duration": 41,
    "start_time": "2023-04-23T18:34:26.511Z"
   },
   {
    "duration": 11,
    "start_time": "2023-04-23T18:34:26.554Z"
   },
   {
    "duration": 539,
    "start_time": "2023-04-23T18:34:26.567Z"
   },
   {
    "duration": 158,
    "start_time": "2023-04-23T18:34:27.108Z"
   },
   {
    "duration": 43,
    "start_time": "2023-04-23T18:34:27.268Z"
   },
   {
    "duration": 22,
    "start_time": "2023-04-23T18:34:27.314Z"
   },
   {
    "duration": 23,
    "start_time": "2023-04-23T18:34:27.337Z"
   },
   {
    "duration": 28,
    "start_time": "2023-04-23T18:34:27.390Z"
   },
   {
    "duration": 28,
    "start_time": "2023-04-23T18:34:27.420Z"
   },
   {
    "duration": 82,
    "start_time": "2023-04-23T18:34:27.450Z"
   },
   {
    "duration": 5,
    "start_time": "2023-04-23T18:34:27.534Z"
   },
   {
    "duration": 5,
    "start_time": "2023-04-23T18:43:15.875Z"
   },
   {
    "duration": 46,
    "start_time": "2023-04-23T18:43:25.555Z"
   },
   {
    "duration": 8,
    "start_time": "2023-04-23T18:43:38.083Z"
   },
   {
    "duration": 111,
    "start_time": "2023-04-23T18:43:38.989Z"
   },
   {
    "duration": 39,
    "start_time": "2023-04-23T18:48:29.413Z"
   },
   {
    "duration": 8,
    "start_time": "2023-04-23T18:49:19.789Z"
   },
   {
    "duration": 53,
    "start_time": "2023-04-23T18:49:25.244Z"
   },
   {
    "duration": 6,
    "start_time": "2023-04-23T18:49:28.374Z"
   },
   {
    "duration": 87,
    "start_time": "2023-04-23T18:49:29.506Z"
   },
   {
    "duration": 45,
    "start_time": "2023-04-23T18:49:32.562Z"
   },
   {
    "duration": 374,
    "start_time": "2023-04-23T18:52:46.925Z"
   },
   {
    "duration": 412,
    "start_time": "2023-04-23T18:53:19.100Z"
   },
   {
    "duration": 454,
    "start_time": "2023-04-23T18:53:48.160Z"
   },
   {
    "duration": 6,
    "start_time": "2023-04-23T18:54:33.878Z"
   },
   {
    "duration": 392,
    "start_time": "2023-04-23T18:54:34.601Z"
   },
   {
    "duration": 128,
    "start_time": "2023-04-23T18:58:23.187Z"
   },
   {
    "duration": 7,
    "start_time": "2023-04-23T19:01:15.553Z"
   },
   {
    "duration": 413,
    "start_time": "2023-04-23T19:01:16.287Z"
   },
   {
    "duration": 534,
    "start_time": "2023-04-23T19:01:19.475Z"
   },
   {
    "duration": 3,
    "start_time": "2023-04-23T19:54:51.251Z"
   },
   {
    "duration": 3,
    "start_time": "2023-04-23T20:07:09.487Z"
   },
   {
    "duration": 5,
    "start_time": "2023-04-23T20:07:13.911Z"
   },
   {
    "duration": 4,
    "start_time": "2023-04-23T20:07:41.883Z"
   },
   {
    "duration": 10,
    "start_time": "2023-04-23T20:34:01.984Z"
   },
   {
    "duration": 10,
    "start_time": "2023-04-23T20:34:06.658Z"
   },
   {
    "duration": 3,
    "start_time": "2023-04-23T20:34:25.769Z"
   },
   {
    "duration": 3,
    "start_time": "2023-04-23T20:34:28.574Z"
   },
   {
    "duration": 384,
    "start_time": "2023-04-23T20:34:28.579Z"
   },
   {
    "duration": 15,
    "start_time": "2023-04-23T20:34:28.965Z"
   },
   {
    "duration": 43,
    "start_time": "2023-04-23T20:34:28.982Z"
   },
   {
    "duration": 9,
    "start_time": "2023-04-23T20:34:29.027Z"
   },
   {
    "duration": 593,
    "start_time": "2023-04-23T20:34:29.038Z"
   },
   {
    "duration": 158,
    "start_time": "2023-04-23T20:34:29.633Z"
   },
   {
    "duration": 24,
    "start_time": "2023-04-23T20:34:29.793Z"
   },
   {
    "duration": 27,
    "start_time": "2023-04-23T20:34:29.819Z"
   },
   {
    "duration": 57,
    "start_time": "2023-04-23T20:34:29.848Z"
   },
   {
    "duration": 25,
    "start_time": "2023-04-23T20:34:29.908Z"
   },
   {
    "duration": 3,
    "start_time": "2023-04-23T20:34:29.935Z"
   },
   {
    "duration": 65,
    "start_time": "2023-04-23T20:34:29.940Z"
   },
   {
    "duration": 6,
    "start_time": "2023-04-23T20:34:30.007Z"
   },
   {
    "duration": 475,
    "start_time": "2023-04-23T20:34:30.015Z"
   },
   {
    "duration": 505,
    "start_time": "2023-04-23T20:34:30.492Z"
   },
   {
    "duration": 3,
    "start_time": "2023-04-23T20:34:30.999Z"
   },
   {
    "duration": 210,
    "start_time": "2023-04-23T20:34:31.004Z"
   },
   {
    "duration": 28,
    "start_time": "2023-04-23T20:34:31.216Z"
   },
   {
    "duration": 10,
    "start_time": "2023-04-23T20:34:36.152Z"
   },
   {
    "duration": 4,
    "start_time": "2023-04-23T20:34:47.985Z"
   },
   {
    "duration": 8,
    "start_time": "2023-04-23T20:38:41.573Z"
   },
   {
    "duration": 5,
    "start_time": "2023-04-23T20:44:43.828Z"
   },
   {
    "duration": 4,
    "start_time": "2023-04-23T20:44:58.782Z"
   },
   {
    "duration": 5,
    "start_time": "2023-04-23T20:45:47.004Z"
   },
   {
    "duration": 4,
    "start_time": "2023-04-23T20:45:48.237Z"
   },
   {
    "duration": 51,
    "start_time": "2023-04-23T20:53:26.510Z"
   },
   {
    "duration": 5,
    "start_time": "2023-04-23T20:53:29.433Z"
   },
   {
    "duration": 8,
    "start_time": "2023-04-23T20:53:40.715Z"
   },
   {
    "duration": 5,
    "start_time": "2023-04-23T21:09:38.889Z"
   },
   {
    "duration": 3,
    "start_time": "2023-04-23T21:10:09.991Z"
   },
   {
    "duration": 6,
    "start_time": "2023-04-23T21:17:25.903Z"
   },
   {
    "duration": 3,
    "start_time": "2023-04-23T21:17:29.395Z"
   },
   {
    "duration": 3,
    "start_time": "2023-04-23T21:34:40.048Z"
   },
   {
    "duration": 57,
    "start_time": "2023-04-23T21:58:49.606Z"
   },
   {
    "duration": 5,
    "start_time": "2023-04-23T21:59:15.416Z"
   },
   {
    "duration": 6,
    "start_time": "2023-04-23T22:03:45.493Z"
   },
   {
    "duration": 4,
    "start_time": "2023-04-23T22:03:46.841Z"
   },
   {
    "duration": 7,
    "start_time": "2023-04-23T22:03:47.610Z"
   },
   {
    "duration": 15,
    "start_time": "2023-04-23T22:03:49.047Z"
   },
   {
    "duration": 15,
    "start_time": "2023-04-23T22:04:32.889Z"
   },
   {
    "duration": 12,
    "start_time": "2023-04-23T22:05:24.944Z"
   },
   {
    "duration": 427,
    "start_time": "2023-04-23T22:06:39.995Z"
   },
   {
    "duration": 368,
    "start_time": "2023-04-23T22:07:00.240Z"
   },
   {
    "duration": 394,
    "start_time": "2023-04-23T22:07:03.800Z"
   },
   {
    "duration": 411,
    "start_time": "2023-04-23T22:07:22.953Z"
   },
   {
    "duration": 6,
    "start_time": "2023-04-23T22:08:31.875Z"
   },
   {
    "duration": 1473,
    "start_time": "2023-04-23T22:08:33.105Z"
   },
   {
    "duration": 5,
    "start_time": "2023-04-23T22:09:54.702Z"
   },
   {
    "duration": 1465,
    "start_time": "2023-04-23T22:09:55.559Z"
   },
   {
    "duration": 4,
    "start_time": "2023-04-23T22:10:04.050Z"
   },
   {
    "duration": 374,
    "start_time": "2023-04-23T22:10:04.056Z"
   },
   {
    "duration": 18,
    "start_time": "2023-04-23T22:10:04.432Z"
   },
   {
    "duration": 55,
    "start_time": "2023-04-23T22:10:04.453Z"
   },
   {
    "duration": 11,
    "start_time": "2023-04-23T22:10:04.510Z"
   },
   {
    "duration": 512,
    "start_time": "2023-04-23T22:10:04.522Z"
   },
   {
    "duration": 136,
    "start_time": "2023-04-23T22:10:05.036Z"
   },
   {
    "duration": 24,
    "start_time": "2023-04-23T22:10:05.190Z"
   },
   {
    "duration": 27,
    "start_time": "2023-04-23T22:10:05.216Z"
   },
   {
    "duration": 56,
    "start_time": "2023-04-23T22:10:05.245Z"
   },
   {
    "duration": 21,
    "start_time": "2023-04-23T22:10:05.303Z"
   },
   {
    "duration": 18,
    "start_time": "2023-04-23T22:10:05.325Z"
   },
   {
    "duration": 36,
    "start_time": "2023-04-23T22:10:05.344Z"
   },
   {
    "duration": 10,
    "start_time": "2023-04-23T22:10:05.382Z"
   },
   {
    "duration": 406,
    "start_time": "2023-04-23T22:10:05.394Z"
   },
   {
    "duration": 592,
    "start_time": "2023-04-23T22:10:05.803Z"
   },
   {
    "duration": 3,
    "start_time": "2023-04-23T22:10:06.396Z"
   },
   {
    "duration": 190,
    "start_time": "2023-04-23T22:10:06.401Z"
   },
   {
    "duration": 18,
    "start_time": "2023-04-23T22:10:06.593Z"
   },
   {
    "duration": 24,
    "start_time": "2023-04-23T22:10:06.613Z"
   },
   {
    "duration": 8,
    "start_time": "2023-04-23T22:10:06.639Z"
   },
   {
    "duration": 12,
    "start_time": "2023-04-23T22:10:06.649Z"
   },
   {
    "duration": 32,
    "start_time": "2023-04-23T22:10:06.663Z"
   },
   {
    "duration": 4431,
    "start_time": "2023-04-23T22:10:06.698Z"
   },
   {
    "duration": 5,
    "start_time": "2023-04-23T22:14:04.521Z"
   },
   {
    "duration": 4386,
    "start_time": "2023-04-23T22:14:05.278Z"
   },
   {
    "duration": 1110,
    "start_time": "2023-04-23T22:43:44.675Z"
   },
   {
    "duration": 397,
    "start_time": "2023-04-23T22:43:45.787Z"
   },
   {
    "duration": 15,
    "start_time": "2023-04-23T22:43:46.186Z"
   },
   {
    "duration": 49,
    "start_time": "2023-04-23T22:43:46.203Z"
   },
   {
    "duration": 10,
    "start_time": "2023-04-23T22:43:46.254Z"
   },
   {
    "duration": 744,
    "start_time": "2023-04-23T22:43:46.290Z"
   },
   {
    "duration": 160,
    "start_time": "2023-04-23T22:43:47.035Z"
   },
   {
    "duration": 24,
    "start_time": "2023-04-23T22:43:47.197Z"
   },
   {
    "duration": 82,
    "start_time": "2023-04-23T22:43:47.222Z"
   },
   {
    "duration": 21,
    "start_time": "2023-04-23T22:43:47.307Z"
   },
   {
    "duration": 23,
    "start_time": "2023-04-23T22:43:47.330Z"
   },
   {
    "duration": 3,
    "start_time": "2023-04-23T22:43:47.354Z"
   },
   {
    "duration": 29,
    "start_time": "2023-04-23T22:43:47.388Z"
   },
   {
    "duration": 5,
    "start_time": "2023-04-23T22:43:47.419Z"
   },
   {
    "duration": 379,
    "start_time": "2023-04-23T22:43:47.426Z"
   },
   {
    "duration": 597,
    "start_time": "2023-04-23T22:43:47.806Z"
   },
   {
    "duration": 85,
    "start_time": "2023-04-23T22:43:48.405Z"
   },
   {
    "duration": 92,
    "start_time": "2023-04-23T22:43:48.498Z"
   },
   {
    "duration": 10,
    "start_time": "2023-04-23T22:43:48.592Z"
   },
   {
    "duration": 9,
    "start_time": "2023-04-23T22:43:48.604Z"
   },
   {
    "duration": 9,
    "start_time": "2023-04-23T22:43:48.615Z"
   },
   {
    "duration": 10,
    "start_time": "2023-04-23T22:43:48.626Z"
   },
   {
    "duration": 7,
    "start_time": "2023-04-23T22:43:48.638Z"
   },
   {
    "duration": 4234,
    "start_time": "2023-04-23T22:43:48.647Z"
   },
   {
    "duration": 3,
    "start_time": "2023-04-23T22:43:55.738Z"
   },
   {
    "duration": 1875,
    "start_time": "2023-04-24T11:20:12.065Z"
   },
   {
    "duration": 359,
    "start_time": "2023-04-24T11:20:13.943Z"
   },
   {
    "duration": 16,
    "start_time": "2023-04-24T11:20:14.306Z"
   },
   {
    "duration": 44,
    "start_time": "2023-04-24T11:20:14.323Z"
   },
   {
    "duration": 31,
    "start_time": "2023-04-24T11:20:14.370Z"
   },
   {
    "duration": 909,
    "start_time": "2023-04-24T11:20:14.403Z"
   },
   {
    "duration": 161,
    "start_time": "2023-04-24T11:20:15.314Z"
   },
   {
    "duration": 33,
    "start_time": "2023-04-24T11:20:15.477Z"
   },
   {
    "duration": 62,
    "start_time": "2023-04-24T11:20:15.513Z"
   },
   {
    "duration": 22,
    "start_time": "2023-04-24T11:20:15.594Z"
   },
   {
    "duration": 22,
    "start_time": "2023-04-24T11:20:15.618Z"
   },
   {
    "duration": 3,
    "start_time": "2023-04-24T11:20:15.643Z"
   },
   {
    "duration": 62,
    "start_time": "2023-04-24T11:20:15.649Z"
   },
   {
    "duration": 8,
    "start_time": "2023-04-24T11:20:15.713Z"
   },
   {
    "duration": 482,
    "start_time": "2023-04-24T11:20:15.723Z"
   },
   {
    "duration": 594,
    "start_time": "2023-04-24T11:20:16.207Z"
   },
   {
    "duration": 3,
    "start_time": "2023-04-24T11:20:16.803Z"
   },
   {
    "duration": 88,
    "start_time": "2023-04-24T11:20:16.808Z"
   },
   {
    "duration": 107,
    "start_time": "2023-04-24T11:20:16.898Z"
   },
   {
    "duration": 12,
    "start_time": "2023-04-24T11:20:17.007Z"
   },
   {
    "duration": 3,
    "start_time": "2023-04-24T11:20:17.021Z"
   },
   {
    "duration": 8,
    "start_time": "2023-04-24T11:20:17.026Z"
   },
   {
    "duration": 6,
    "start_time": "2023-04-24T11:20:17.036Z"
   },
   {
    "duration": 4136,
    "start_time": "2023-04-24T11:20:17.044Z"
   },
   {
    "duration": 50,
    "start_time": "2023-04-24T16:44:20.694Z"
   },
   {
    "duration": 1170,
    "start_time": "2023-04-24T16:44:25.116Z"
   },
   {
    "duration": 725,
    "start_time": "2023-04-24T16:44:26.288Z"
   },
   {
    "duration": 23,
    "start_time": "2023-04-24T16:44:27.014Z"
   },
   {
    "duration": 77,
    "start_time": "2023-04-24T16:44:27.040Z"
   },
   {
    "duration": 8,
    "start_time": "2023-04-24T16:44:27.119Z"
   },
   {
    "duration": 827,
    "start_time": "2023-04-24T16:44:27.128Z"
   },
   {
    "duration": 411,
    "start_time": "2023-04-24T16:44:27.957Z"
   },
   {
    "duration": 452,
    "start_time": "2023-04-24T16:44:28.370Z"
   },
   {
    "duration": 144,
    "start_time": "2023-04-24T16:44:28.823Z"
   },
   {
    "duration": 22,
    "start_time": "2023-04-24T16:44:28.969Z"
   },
   {
    "duration": 77,
    "start_time": "2023-04-24T16:44:28.992Z"
   },
   {
    "duration": 23,
    "start_time": "2023-04-24T16:44:29.071Z"
   },
   {
    "duration": 26,
    "start_time": "2023-04-24T16:44:29.096Z"
   },
   {
    "duration": 26,
    "start_time": "2023-04-24T16:44:29.123Z"
   },
   {
    "duration": 53,
    "start_time": "2023-04-24T16:44:29.151Z"
   },
   {
    "duration": 7,
    "start_time": "2023-04-24T16:44:29.206Z"
   },
   {
    "duration": 438,
    "start_time": "2023-04-24T16:44:29.215Z"
   },
   {
    "duration": 601,
    "start_time": "2023-04-24T16:44:29.655Z"
   },
   {
    "duration": 6,
    "start_time": "2023-04-24T16:44:30.258Z"
   },
   {
    "duration": 190,
    "start_time": "2023-04-24T16:44:30.266Z"
   },
   {
    "duration": 26,
    "start_time": "2023-04-24T16:44:30.458Z"
   },
   {
    "duration": 45,
    "start_time": "2023-04-24T16:44:30.485Z"
   },
   {
    "duration": 38,
    "start_time": "2023-04-24T16:44:30.531Z"
   },
   {
    "duration": 22,
    "start_time": "2023-04-24T16:44:30.570Z"
   },
   {
    "duration": 42,
    "start_time": "2023-04-24T16:44:30.593Z"
   },
   {
    "duration": 3561,
    "start_time": "2023-04-24T16:44:30.637Z"
   },
   {
    "duration": 335,
    "start_time": "2023-04-24T16:44:49.932Z"
   },
   {
    "duration": 360,
    "start_time": "2023-04-24T16:44:59.719Z"
   },
   {
    "duration": 341,
    "start_time": "2023-04-24T16:45:04.638Z"
   },
   {
    "duration": 18,
    "start_time": "2023-04-24T16:49:36.751Z"
   },
   {
    "duration": 12,
    "start_time": "2023-04-24T16:49:41.130Z"
   },
   {
    "duration": 384,
    "start_time": "2023-04-24T16:52:33.550Z"
   },
   {
    "duration": 1225,
    "start_time": "2023-04-24T16:53:06.661Z"
   },
   {
    "duration": 376,
    "start_time": "2023-04-24T16:53:21.914Z"
   },
   {
    "duration": 4,
    "start_time": "2023-04-24T16:54:04.326Z"
   },
   {
    "duration": 379,
    "start_time": "2023-04-24T16:54:04.332Z"
   },
   {
    "duration": 17,
    "start_time": "2023-04-24T16:54:04.713Z"
   },
   {
    "duration": 67,
    "start_time": "2023-04-24T16:54:04.734Z"
   },
   {
    "duration": 14,
    "start_time": "2023-04-24T16:54:04.803Z"
   },
   {
    "duration": 443,
    "start_time": "2023-04-24T16:54:04.819Z"
   },
   {
    "duration": 364,
    "start_time": "2023-04-24T16:54:05.264Z"
   },
   {
    "duration": 357,
    "start_time": "2023-04-24T16:54:05.631Z"
   },
   {
    "duration": 144,
    "start_time": "2023-04-24T16:54:05.990Z"
   },
   {
    "duration": 30,
    "start_time": "2023-04-24T16:54:06.136Z"
   },
   {
    "duration": 23,
    "start_time": "2023-04-24T16:54:06.167Z"
   },
   {
    "duration": 19,
    "start_time": "2023-04-24T16:54:06.191Z"
   },
   {
    "duration": 21,
    "start_time": "2023-04-24T16:54:06.249Z"
   },
   {
    "duration": 3,
    "start_time": "2023-04-24T16:54:06.272Z"
   },
   {
    "duration": 25,
    "start_time": "2023-04-24T16:54:06.276Z"
   },
   {
    "duration": 5,
    "start_time": "2023-04-24T16:54:06.303Z"
   },
   {
    "duration": 439,
    "start_time": "2023-04-24T16:54:06.309Z"
   },
   {
    "duration": 497,
    "start_time": "2023-04-24T16:54:06.752Z"
   },
   {
    "duration": 6,
    "start_time": "2023-04-24T16:54:07.253Z"
   },
   {
    "duration": 90,
    "start_time": "2023-04-24T16:54:07.261Z"
   },
   {
    "duration": 23,
    "start_time": "2023-04-24T16:54:07.352Z"
   },
   {
    "duration": 23,
    "start_time": "2023-04-24T16:54:07.376Z"
   },
   {
    "duration": 17,
    "start_time": "2023-04-24T16:54:07.401Z"
   },
   {
    "duration": 13,
    "start_time": "2023-04-24T16:54:07.421Z"
   },
   {
    "duration": 30,
    "start_time": "2023-04-24T16:54:07.436Z"
   },
   {
    "duration": 3640,
    "start_time": "2023-04-24T16:54:07.468Z"
   },
   {
    "duration": 3,
    "start_time": "2023-04-24T17:09:38.699Z"
   },
   {
    "duration": 5,
    "start_time": "2023-04-24T17:09:47.038Z"
   },
   {
    "duration": 4,
    "start_time": "2023-04-24T17:09:52.799Z"
   },
   {
    "duration": 18,
    "start_time": "2023-04-24T17:09:54.970Z"
   },
   {
    "duration": 3,
    "start_time": "2023-04-24T17:11:34.733Z"
   },
   {
    "duration": 3,
    "start_time": "2023-04-24T17:11:36.635Z"
   },
   {
    "duration": 7,
    "start_time": "2023-04-24T17:11:36.640Z"
   },
   {
    "duration": 387,
    "start_time": "2023-04-24T17:11:36.650Z"
   },
   {
    "duration": 23,
    "start_time": "2023-04-24T17:11:37.039Z"
   },
   {
    "duration": 63,
    "start_time": "2023-04-24T17:11:37.065Z"
   },
   {
    "duration": 9,
    "start_time": "2023-04-24T17:11:37.129Z"
   },
   {
    "duration": 456,
    "start_time": "2023-04-24T17:11:37.140Z"
   },
   {
    "duration": 407,
    "start_time": "2023-04-24T17:11:37.598Z"
   },
   {
    "duration": 466,
    "start_time": "2023-04-24T17:11:38.007Z"
   },
   {
    "duration": 145,
    "start_time": "2023-04-24T17:11:38.475Z"
   },
   {
    "duration": 44,
    "start_time": "2023-04-24T17:11:38.623Z"
   },
   {
    "duration": 22,
    "start_time": "2023-04-24T17:11:38.668Z"
   },
   {
    "duration": 19,
    "start_time": "2023-04-24T17:11:38.692Z"
   },
   {
    "duration": 39,
    "start_time": "2023-04-24T17:11:38.712Z"
   },
   {
    "duration": 3,
    "start_time": "2023-04-24T17:11:38.753Z"
   },
   {
    "duration": 43,
    "start_time": "2023-04-24T17:11:38.757Z"
   },
   {
    "duration": 6,
    "start_time": "2023-04-24T17:11:38.801Z"
   },
   {
    "duration": 401,
    "start_time": "2023-04-24T17:11:38.849Z"
   },
   {
    "duration": 399,
    "start_time": "2023-04-24T17:11:39.252Z"
   },
   {
    "duration": 5,
    "start_time": "2023-04-24T17:11:39.653Z"
   },
   {
    "duration": 120,
    "start_time": "2023-04-24T17:11:39.661Z"
   },
   {
    "duration": 69,
    "start_time": "2023-04-24T17:11:39.783Z"
   },
   {
    "duration": 9,
    "start_time": "2023-04-24T17:11:39.855Z"
   },
   {
    "duration": 17,
    "start_time": "2023-04-24T17:11:39.867Z"
   },
   {
    "duration": 15,
    "start_time": "2023-04-24T17:11:39.887Z"
   },
   {
    "duration": 4709,
    "start_time": "2023-04-24T17:11:39.905Z"
   },
   {
    "duration": 3,
    "start_time": "2023-04-24T17:29:37.589Z"
   },
   {
    "duration": 6,
    "start_time": "2023-04-24T17:29:37.594Z"
   },
   {
    "duration": 397,
    "start_time": "2023-04-24T17:29:37.601Z"
   },
   {
    "duration": 20,
    "start_time": "2023-04-24T17:29:37.999Z"
   },
   {
    "duration": 60,
    "start_time": "2023-04-24T17:29:38.021Z"
   },
   {
    "duration": 9,
    "start_time": "2023-04-24T17:29:38.082Z"
   },
   {
    "duration": 375,
    "start_time": "2023-04-24T17:29:38.093Z"
   },
   {
    "duration": 529,
    "start_time": "2023-04-24T17:29:38.469Z"
   },
   {
    "duration": 344,
    "start_time": "2023-04-24T17:29:39.000Z"
   },
   {
    "duration": 134,
    "start_time": "2023-04-24T17:29:39.346Z"
   },
   {
    "duration": 22,
    "start_time": "2023-04-24T17:29:39.482Z"
   },
   {
    "duration": 19,
    "start_time": "2023-04-24T17:29:39.506Z"
   },
   {
    "duration": 46,
    "start_time": "2023-04-24T17:29:39.526Z"
   },
   {
    "duration": 21,
    "start_time": "2023-04-24T17:29:39.574Z"
   },
   {
    "duration": 3,
    "start_time": "2023-04-24T17:29:39.596Z"
   },
   {
    "duration": 30,
    "start_time": "2023-04-24T17:29:39.600Z"
   },
   {
    "duration": 5,
    "start_time": "2023-04-24T17:29:39.632Z"
   },
   {
    "duration": 324,
    "start_time": "2023-04-24T17:29:39.638Z"
   },
   {
    "duration": 492,
    "start_time": "2023-04-24T17:29:39.967Z"
   },
   {
    "duration": 83,
    "start_time": "2023-04-24T17:29:40.466Z"
   },
   {
    "duration": 3,
    "start_time": "2023-04-24T17:29:40.551Z"
   },
   {
    "duration": 21,
    "start_time": "2023-04-24T17:29:40.560Z"
   },
   {
    "duration": 3,
    "start_time": "2023-04-24T17:29:40.583Z"
   },
   {
    "duration": 6,
    "start_time": "2023-04-24T17:29:40.588Z"
   },
   {
    "duration": 5,
    "start_time": "2023-04-24T17:29:40.595Z"
   },
   {
    "duration": 4832,
    "start_time": "2023-04-24T17:29:40.601Z"
   },
   {
    "duration": 2051,
    "start_time": "2023-04-24T18:31:38.830Z"
   },
   {
    "duration": 3,
    "start_time": "2023-04-24T18:31:40.883Z"
   },
   {
    "duration": 436,
    "start_time": "2023-04-24T18:31:40.887Z"
   },
   {
    "duration": 24,
    "start_time": "2023-04-24T18:31:41.326Z"
   },
   {
    "duration": 57,
    "start_time": "2023-04-24T18:31:41.352Z"
   },
   {
    "duration": 10,
    "start_time": "2023-04-24T18:31:41.411Z"
   },
   {
    "duration": 736,
    "start_time": "2023-04-24T18:31:41.423Z"
   },
   {
    "duration": 429,
    "start_time": "2023-04-24T18:31:42.162Z"
   },
   {
    "duration": 495,
    "start_time": "2023-04-24T18:31:42.593Z"
   },
   {
    "duration": 183,
    "start_time": "2023-04-24T18:31:43.091Z"
   },
   {
    "duration": 26,
    "start_time": "2023-04-24T18:31:43.276Z"
   },
   {
    "duration": 83,
    "start_time": "2023-04-24T18:31:43.304Z"
   },
   {
    "duration": 27,
    "start_time": "2023-04-24T18:31:43.389Z"
   },
   {
    "duration": 43,
    "start_time": "2023-04-24T18:31:43.418Z"
   },
   {
    "duration": 3,
    "start_time": "2023-04-24T18:31:43.463Z"
   },
   {
    "duration": 29,
    "start_time": "2023-04-24T18:31:43.467Z"
   },
   {
    "duration": 6,
    "start_time": "2023-04-24T18:31:43.497Z"
   },
   {
    "duration": 345,
    "start_time": "2023-04-24T18:31:43.505Z"
   },
   {
    "duration": 421,
    "start_time": "2023-04-24T18:31:43.932Z"
   },
   {
    "duration": 287,
    "start_time": "2023-04-24T18:31:44.355Z"
   },
   {
    "duration": 0,
    "start_time": "2023-04-24T18:31:44.644Z"
   },
   {
    "duration": 0,
    "start_time": "2023-04-24T18:31:44.645Z"
   },
   {
    "duration": 0,
    "start_time": "2023-04-24T18:31:44.646Z"
   },
   {
    "duration": 0,
    "start_time": "2023-04-24T18:31:44.647Z"
   },
   {
    "duration": 0,
    "start_time": "2023-04-24T18:31:44.648Z"
   },
   {
    "duration": 0,
    "start_time": "2023-04-24T18:31:44.650Z"
   },
   {
    "duration": 3,
    "start_time": "2023-04-24T18:32:23.622Z"
   },
   {
    "duration": 5,
    "start_time": "2023-04-24T18:32:27.421Z"
   },
   {
    "duration": 4,
    "start_time": "2023-04-24T18:32:32.384Z"
   },
   {
    "duration": 35,
    "start_time": "2023-04-24T18:32:32.394Z"
   },
   {
    "duration": 30,
    "start_time": "2023-04-24T18:32:32.431Z"
   },
   {
    "duration": 13,
    "start_time": "2023-04-24T18:32:32.463Z"
   },
   {
    "duration": 17,
    "start_time": "2023-04-24T18:32:32.479Z"
   },
   {
    "duration": 62,
    "start_time": "2023-04-24T18:32:32.498Z"
   },
   {
    "duration": 3,
    "start_time": "2023-04-24T18:33:14.671Z"
   },
   {
    "duration": 6,
    "start_time": "2023-04-24T18:33:18.346Z"
   },
   {
    "duration": 4099,
    "start_time": "2023-04-24T18:33:20.923Z"
   },
   {
    "duration": 1870,
    "start_time": "2023-04-24T18:33:42.427Z"
   },
   {
    "duration": 3,
    "start_time": "2023-04-24T18:33:44.299Z"
   },
   {
    "duration": 397,
    "start_time": "2023-04-24T18:33:44.303Z"
   },
   {
    "duration": 14,
    "start_time": "2023-04-24T18:33:44.702Z"
   },
   {
    "duration": 51,
    "start_time": "2023-04-24T18:33:44.718Z"
   },
   {
    "duration": 8,
    "start_time": "2023-04-24T18:33:44.770Z"
   },
   {
    "duration": 627,
    "start_time": "2023-04-24T18:33:44.779Z"
   },
   {
    "duration": 404,
    "start_time": "2023-04-24T18:33:45.407Z"
   },
   {
    "duration": 460,
    "start_time": "2023-04-24T18:33:45.813Z"
   },
   {
    "duration": 141,
    "start_time": "2023-04-24T18:33:46.276Z"
   },
   {
    "duration": 45,
    "start_time": "2023-04-24T18:33:46.418Z"
   },
   {
    "duration": 85,
    "start_time": "2023-04-24T18:33:46.465Z"
   },
   {
    "duration": 24,
    "start_time": "2023-04-24T18:33:46.555Z"
   },
   {
    "duration": 35,
    "start_time": "2023-04-24T18:33:46.581Z"
   },
   {
    "duration": 4,
    "start_time": "2023-04-24T18:33:46.618Z"
   },
   {
    "duration": 56,
    "start_time": "2023-04-24T18:33:46.624Z"
   },
   {
    "duration": 7,
    "start_time": "2023-04-24T18:33:46.682Z"
   },
   {
    "duration": 342,
    "start_time": "2023-04-24T18:33:46.691Z"
   },
   {
    "duration": 518,
    "start_time": "2023-04-24T18:33:47.038Z"
   },
   {
    "duration": 4,
    "start_time": "2023-04-24T18:33:47.558Z"
   },
   {
    "duration": 200,
    "start_time": "2023-04-24T18:33:47.564Z"
   },
   {
    "duration": 11,
    "start_time": "2023-04-24T18:33:47.766Z"
   },
   {
    "duration": 4,
    "start_time": "2023-04-24T18:33:47.779Z"
   },
   {
    "duration": 6,
    "start_time": "2023-04-24T18:33:47.784Z"
   },
   {
    "duration": 16,
    "start_time": "2023-04-24T18:33:47.791Z"
   },
   {
    "duration": 3985,
    "start_time": "2023-04-24T18:33:47.809Z"
   }
  ],
  "kernelspec": {
   "display_name": "Python 3 (ipykernel)",
   "language": "python",
   "name": "python3"
  },
  "language_info": {
   "codemirror_mode": {
    "name": "ipython",
    "version": 3
   },
   "file_extension": ".py",
   "mimetype": "text/x-python",
   "name": "python",
   "nbconvert_exporter": "python",
   "pygments_lexer": "ipython3",
   "version": "3.11.5"
  },
  "toc": {
   "base_numbering": 1,
   "nav_menu": {
    "height": "138px",
    "width": "342px"
   },
   "number_sections": true,
   "sideBar": true,
   "skip_h1_title": true,
   "title_cell": "Table of Contents",
   "title_sidebar": "Contents",
   "toc_cell": false,
   "toc_position": {
    "height": "calc(100% - 180px)",
    "left": "10px",
    "top": "150px",
    "width": "371px"
   },
   "toc_section_display": true,
   "toc_window_display": true
  }
 },
 "nbformat": 4,
 "nbformat_minor": 4
}
