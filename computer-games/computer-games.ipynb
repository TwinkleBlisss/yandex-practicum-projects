{
 "cells": [
  {
   "cell_type": "markdown",
   "metadata": {},
   "source": [
    "# Проект 'Исследование данных о компьютерных играх'"
   ]
  },
  {
   "cell_type": "markdown",
   "metadata": {},
   "source": [
    "## Общая информация "
   ]
  },
  {
   "cell_type": "markdown",
   "metadata": {},
   "source": [
    "### Загрузка библиотек"
   ]
  },
  {
   "cell_type": "code",
   "execution_count": 1,
   "metadata": {},
   "outputs": [],
   "source": [
    "import pandas as pd\n",
    "import numpy as np\n",
    "import matplotlib.pyplot as plt\n",
    "from scipy import stats as st"
   ]
  },
  {
   "cell_type": "markdown",
   "metadata": {},
   "source": [
    "### Загрузка датасета"
   ]
  },
  {
   "cell_type": "code",
   "execution_count": 2,
   "metadata": {},
   "outputs": [],
   "source": [
    "try:\n",
    "    data = pd.read_csv('datasets\\games.csv')\n",
    "except:\n",
    "    data = pd.read_csv('games.csv')"
   ]
  },
  {
   "cell_type": "markdown",
   "metadata": {},
   "source": [
    "### Содержание датасета"
   ]
  },
  {
   "cell_type": "code",
   "execution_count": 3,
   "metadata": {},
   "outputs": [
    {
     "name": "stdout",
     "output_type": "stream",
     "text": [
      "<class 'pandas.core.frame.DataFrame'>\n",
      "RangeIndex: 16715 entries, 0 to 16714\n",
      "Data columns (total 11 columns):\n",
      " #   Column           Non-Null Count  Dtype  \n",
      "---  ------           --------------  -----  \n",
      " 0   Name             16713 non-null  object \n",
      " 1   Platform         16715 non-null  object \n",
      " 2   Year_of_Release  16446 non-null  float64\n",
      " 3   Genre            16713 non-null  object \n",
      " 4   NA_sales         16715 non-null  float64\n",
      " 5   EU_sales         16715 non-null  float64\n",
      " 6   JP_sales         16715 non-null  float64\n",
      " 7   Other_sales      16715 non-null  float64\n",
      " 8   Critic_Score     8137 non-null   float64\n",
      " 9   User_Score       10014 non-null  object \n",
      " 10  Rating           9949 non-null   object \n",
      "dtypes: float64(6), object(5)\n",
      "memory usage: 1.4+ MB\n"
     ]
    }
   ],
   "source": [
    "# общая информация о датасете\n",
    "data.info()"
   ]
  },
  {
   "cell_type": "code",
   "execution_count": 4,
   "metadata": {},
   "outputs": [
    {
     "data": {
      "text/html": [
       "<div>\n",
       "<style scoped>\n",
       "    .dataframe tbody tr th:only-of-type {\n",
       "        vertical-align: middle;\n",
       "    }\n",
       "\n",
       "    .dataframe tbody tr th {\n",
       "        vertical-align: top;\n",
       "    }\n",
       "\n",
       "    .dataframe thead th {\n",
       "        text-align: right;\n",
       "    }\n",
       "</style>\n",
       "<table border=\"1\" class=\"dataframe\">\n",
       "  <thead>\n",
       "    <tr style=\"text-align: right;\">\n",
       "      <th></th>\n",
       "      <th>Name</th>\n",
       "      <th>Platform</th>\n",
       "      <th>Year_of_Release</th>\n",
       "      <th>Genre</th>\n",
       "      <th>NA_sales</th>\n",
       "      <th>EU_sales</th>\n",
       "      <th>JP_sales</th>\n",
       "      <th>Other_sales</th>\n",
       "      <th>Critic_Score</th>\n",
       "      <th>User_Score</th>\n",
       "      <th>Rating</th>\n",
       "    </tr>\n",
       "  </thead>\n",
       "  <tbody>\n",
       "    <tr>\n",
       "      <th>0</th>\n",
       "      <td>Wii Sports</td>\n",
       "      <td>Wii</td>\n",
       "      <td>2006.0</td>\n",
       "      <td>Sports</td>\n",
       "      <td>41.36</td>\n",
       "      <td>28.96</td>\n",
       "      <td>3.77</td>\n",
       "      <td>8.45</td>\n",
       "      <td>76.0</td>\n",
       "      <td>8</td>\n",
       "      <td>E</td>\n",
       "    </tr>\n",
       "    <tr>\n",
       "      <th>1</th>\n",
       "      <td>Super Mario Bros.</td>\n",
       "      <td>NES</td>\n",
       "      <td>1985.0</td>\n",
       "      <td>Platform</td>\n",
       "      <td>29.08</td>\n",
       "      <td>3.58</td>\n",
       "      <td>6.81</td>\n",
       "      <td>0.77</td>\n",
       "      <td>NaN</td>\n",
       "      <td>NaN</td>\n",
       "      <td>NaN</td>\n",
       "    </tr>\n",
       "    <tr>\n",
       "      <th>2</th>\n",
       "      <td>Mario Kart Wii</td>\n",
       "      <td>Wii</td>\n",
       "      <td>2008.0</td>\n",
       "      <td>Racing</td>\n",
       "      <td>15.68</td>\n",
       "      <td>12.76</td>\n",
       "      <td>3.79</td>\n",
       "      <td>3.29</td>\n",
       "      <td>82.0</td>\n",
       "      <td>8.3</td>\n",
       "      <td>E</td>\n",
       "    </tr>\n",
       "    <tr>\n",
       "      <th>3</th>\n",
       "      <td>Wii Sports Resort</td>\n",
       "      <td>Wii</td>\n",
       "      <td>2009.0</td>\n",
       "      <td>Sports</td>\n",
       "      <td>15.61</td>\n",
       "      <td>10.93</td>\n",
       "      <td>3.28</td>\n",
       "      <td>2.95</td>\n",
       "      <td>80.0</td>\n",
       "      <td>8</td>\n",
       "      <td>E</td>\n",
       "    </tr>\n",
       "    <tr>\n",
       "      <th>4</th>\n",
       "      <td>Pokemon Red/Pokemon Blue</td>\n",
       "      <td>GB</td>\n",
       "      <td>1996.0</td>\n",
       "      <td>Role-Playing</td>\n",
       "      <td>11.27</td>\n",
       "      <td>8.89</td>\n",
       "      <td>10.22</td>\n",
       "      <td>1.00</td>\n",
       "      <td>NaN</td>\n",
       "      <td>NaN</td>\n",
       "      <td>NaN</td>\n",
       "    </tr>\n",
       "  </tbody>\n",
       "</table>\n",
       "</div>"
      ],
      "text/plain": [
       "                       Name Platform  Year_of_Release         Genre  NA_sales  \\\n",
       "0                Wii Sports      Wii           2006.0        Sports     41.36   \n",
       "1         Super Mario Bros.      NES           1985.0      Platform     29.08   \n",
       "2            Mario Kart Wii      Wii           2008.0        Racing     15.68   \n",
       "3         Wii Sports Resort      Wii           2009.0        Sports     15.61   \n",
       "4  Pokemon Red/Pokemon Blue       GB           1996.0  Role-Playing     11.27   \n",
       "\n",
       "   EU_sales  JP_sales  Other_sales  Critic_Score User_Score Rating  \n",
       "0     28.96      3.77         8.45          76.0          8      E  \n",
       "1      3.58      6.81         0.77           NaN        NaN    NaN  \n",
       "2     12.76      3.79         3.29          82.0        8.3      E  \n",
       "3     10.93      3.28         2.95          80.0          8      E  \n",
       "4      8.89     10.22         1.00           NaN        NaN    NaN  "
      ]
     },
     "execution_count": 4,
     "metadata": {},
     "output_type": "execute_result"
    }
   ],
   "source": [
    "# первые 5 строк таблицы \n",
    "data.head()"
   ]
  },
  {
   "cell_type": "code",
   "execution_count": 5,
   "metadata": {},
   "outputs": [
    {
     "data": {
      "image/png": "[encoded data removed]",
      "text/plain": [
       "<Figure size 576x576 with 6 Axes>"
      ]
     },
     "metadata": {
      "needs_background": "light"
     },
     "output_type": "display_data"
    }
   ],
   "source": [
    "# гистограмма для всех числовых столбцов\n",
    "data.hist(figsize=(8, 8));"
   ]
  },
  {
   "cell_type": "markdown",
   "metadata": {},
   "source": [
    "### Вывод\n",
    "В датасете 11 столбцов с различными характеристиками компьютерных игр. По общей гистограмме хорошо видно распредедение годов выхода и оценок критиков. Продажи в регионах мира показаны не репрезентативно, так как, видимо, имеют выбросы. Столбец с оценками пользователей вообше не отображён, потому что имеет не подходящий тип данных. С этой и другими проблемами разберёмся во время предобработки.  "
   ]
  },
  {
   "cell_type": "markdown",
   "metadata": {},
   "source": [
    "## Подготовка данных (предобработка)"
   ]
  },
  {
   "cell_type": "markdown",
   "metadata": {},
   "source": [
    "### Заменим названия столбцов (приведём к нижнему регистру)"
   ]
  },
  {
   "cell_type": "code",
   "execution_count": 6,
   "metadata": {},
   "outputs": [
    {
     "data": {
      "text/plain": [
       "Index(['Name', 'Platform', 'Year_of_Release', 'Genre', 'NA_sales', 'EU_sales',\n",
       "       'JP_sales', 'Other_sales', 'Critic_Score', 'User_Score', 'Rating'],\n",
       "      dtype='object')"
      ]
     },
     "execution_count": 6,
     "metadata": {},
     "output_type": "execute_result"
    }
   ],
   "source": [
    "data.columns"
   ]
  },
  {
   "cell_type": "markdown",
   "metadata": {},
   "source": [
    "Все стобцы датасета названы некорректно. Так что переименуем каждый, используя метод 'str.lower()':"
   ]
  },
  {
   "cell_type": "code",
   "execution_count": 7,
   "metadata": {},
   "outputs": [],
   "source": [
    "data.columns = data.columns.str.lower()"
   ]
  },
  {
   "cell_type": "code",
   "execution_count": 8,
   "metadata": {},
   "outputs": [
    {
     "data": {
      "text/plain": [
       "Index(['name', 'platform', 'year_of_release', 'genre', 'na_sales', 'eu_sales',\n",
       "       'jp_sales', 'other_sales', 'critic_score', 'user_score', 'rating'],\n",
       "      dtype='object')"
      ]
     },
     "execution_count": 8,
     "metadata": {},
     "output_type": "execute_result"
    }
   ],
   "source": [
    "data.columns"
   ]
  },
  {
   "cell_type": "markdown",
   "metadata": {},
   "source": [
    "### Преобразуем данные в нужные типы"
   ]
  },
  {
   "cell_type": "markdown",
   "metadata": {},
   "source": [
    "Найдём столбцы, где тип переменной не соответствует смыслу."
   ]
  },
  {
   "cell_type": "code",
   "execution_count": 9,
   "metadata": {},
   "outputs": [
    {
     "data": {
      "text/plain": [
       "name                object\n",
       "platform            object\n",
       "year_of_release    float64\n",
       "genre               object\n",
       "na_sales           float64\n",
       "eu_sales           float64\n",
       "jp_sales           float64\n",
       "other_sales        float64\n",
       "critic_score       float64\n",
       "user_score          object\n",
       "rating              object\n",
       "dtype: object"
      ]
     },
     "execution_count": 9,
     "metadata": {},
     "output_type": "execute_result"
    }
   ],
   "source": [
    "data.dtypes"
   ]
  },
  {
   "cell_type": "markdown",
   "metadata": {},
   "source": [
    "Из общей информации о датасете видно, что:\n",
    "-  В столбце \"year_of_release\" надо поменять float на int;\n",
    "-  Пользовательскую оценку надо изменить с object на float;\n",
    "\n",
    "Попробуем изменить тип данных в приведённых столбцах."
   ]
  },
  {
   "cell_type": "code",
   "execution_count": 10,
   "metadata": {},
   "outputs": [
    {
     "name": "stdout",
     "output_type": "stream",
     "text": [
      "Не удалось поменять типы столбцов\n"
     ]
    }
   ],
   "source": [
    "try:\n",
    "    data['year_of_release'] = data['year_of_release'].astype('int')\n",
    "    data['user_score'] = data['user_score'].astype('float')\n",
    "except:\n",
    "    print('Не удалось поменять типы столбцов')"
   ]
  },
  {
   "cell_type": "markdown",
   "metadata": {},
   "source": [
    "Легко проверить, что мы не смогли сделать это из-за nan-ов или других , которые присутствуют в этих столбцах. Поэтому сразу перейдём к обработке аномалий и пропусков."
   ]
  },
  {
   "cell_type": "markdown",
   "metadata": {},
   "source": [
    "### Обработаем пропуски и непонятные значения "
   ]
  },
  {
   "cell_type": "markdown",
   "metadata": {},
   "source": [
    "#### Для каждого столбца определим уникальные элементы"
   ]
  },
  {
   "cell_type": "code",
   "execution_count": 11,
   "metadata": {},
   "outputs": [
    {
     "data": {
      "text/plain": [
       "'name'"
      ]
     },
     "metadata": {},
     "output_type": "display_data"
    },
    {
     "data": {
      "text/plain": [
       "array(['Wii Sports', 'Super Mario Bros.', 'Mario Kart Wii', ...,\n",
       "       'Woody Woodpecker in Crazy Castle 5', 'LMA Manager 2007',\n",
       "       'Haitaka no Psychedelica'], dtype=object)"
      ]
     },
     "metadata": {},
     "output_type": "display_data"
    },
    {
     "data": {
      "text/plain": [
       "'platform'"
      ]
     },
     "metadata": {},
     "output_type": "display_data"
    },
    {
     "data": {
      "text/plain": [
       "array(['Wii', 'NES', 'GB', 'DS', 'X360', 'PS3', 'PS2', 'SNES', 'GBA',\n",
       "       'PS4', '3DS', 'N64', 'PS', 'XB', 'PC', '2600', 'PSP', 'XOne',\n",
       "       'WiiU', 'GC', 'GEN', 'DC', 'PSV', 'SAT', 'SCD', 'WS', 'NG', 'TG16',\n",
       "       '3DO', 'GG', 'PCFX'], dtype=object)"
      ]
     },
     "metadata": {},
     "output_type": "display_data"
    },
    {
     "data": {
      "text/plain": [
       "'year_of_release'"
      ]
     },
     "metadata": {},
     "output_type": "display_data"
    },
    {
     "data": {
      "text/plain": [
       "array([2006., 1985., 2008., 2009., 1996., 1989., 1984., 2005., 1999.,\n",
       "       2007., 2010., 2013., 2004., 1990., 1988., 2002., 2001., 2011.,\n",
       "       1998., 2015., 2012., 2014., 1992., 1997., 1993., 1994., 1982.,\n",
       "       2016., 2003., 1986., 2000.,   nan, 1995., 1991., 1981., 1987.,\n",
       "       1980., 1983.])"
      ]
     },
     "metadata": {},
     "output_type": "display_data"
    },
    {
     "data": {
      "text/plain": [
       "'genre'"
      ]
     },
     "metadata": {},
     "output_type": "display_data"
    },
    {
     "data": {
      "text/plain": [
       "array(['Sports', 'Platform', 'Racing', 'Role-Playing', 'Puzzle', 'Misc',\n",
       "       'Shooter', 'Simulation', 'Action', 'Fighting', 'Adventure',\n",
       "       'Strategy', nan], dtype=object)"
      ]
     },
     "metadata": {},
     "output_type": "display_data"
    },
    {
     "data": {
      "text/plain": [
       "'critic_score'"
      ]
     },
     "metadata": {},
     "output_type": "display_data"
    },
    {
     "data": {
      "text/plain": [
       "array([76., nan, 82., 80., 89., 58., 87., 91., 61., 97., 95., 77., 88.,\n",
       "       83., 94., 93., 85., 86., 98., 96., 90., 84., 73., 74., 78., 92.,\n",
       "       71., 72., 68., 62., 49., 67., 81., 66., 56., 79., 70., 59., 64.,\n",
       "       75., 60., 63., 69., 50., 25., 42., 44., 55., 48., 57., 29., 47.,\n",
       "       65., 54., 20., 53., 37., 38., 33., 52., 30., 32., 43., 45., 51.,\n",
       "       40., 46., 39., 34., 35., 41., 36., 28., 31., 27., 26., 19., 23.,\n",
       "       24., 21., 17., 22., 13.])"
      ]
     },
     "metadata": {},
     "output_type": "display_data"
    },
    {
     "data": {
      "text/plain": [
       "'user_score'"
      ]
     },
     "metadata": {},
     "output_type": "display_data"
    },
    {
     "data": {
      "text/plain": [
       "array(['8', nan, '8.3', '8.5', '6.6', '8.4', '8.6', '7.7', '6.3', '7.4',\n",
       "       '8.2', '9', '7.9', '8.1', '8.7', '7.1', '3.4', '5.3', '4.8', '3.2',\n",
       "       '8.9', '6.4', '7.8', '7.5', '2.6', '7.2', '9.2', '7', '7.3', '4.3',\n",
       "       '7.6', '5.7', '5', '9.1', '6.5', 'tbd', '8.8', '6.9', '9.4', '6.8',\n",
       "       '6.1', '6.7', '5.4', '4', '4.9', '4.5', '9.3', '6.2', '4.2', '6',\n",
       "       '3.7', '4.1', '5.8', '5.6', '5.5', '4.4', '4.6', '5.9', '3.9',\n",
       "       '3.1', '2.9', '5.2', '3.3', '4.7', '5.1', '3.5', '2.5', '1.9', '3',\n",
       "       '2.7', '2.2', '2', '9.5', '2.1', '3.6', '2.8', '1.8', '3.8', '0',\n",
       "       '1.6', '9.6', '2.4', '1.7', '1.1', '0.3', '1.5', '0.7', '1.2',\n",
       "       '2.3', '0.5', '1.3', '0.2', '0.6', '1.4', '0.9', '1', '9.7'],\n",
       "      dtype=object)"
      ]
     },
     "metadata": {},
     "output_type": "display_data"
    },
    {
     "data": {
      "text/plain": [
       "'rating'"
      ]
     },
     "metadata": {},
     "output_type": "display_data"
    },
    {
     "data": {
      "text/plain": [
       "array(['E', nan, 'M', 'T', 'E10+', 'K-A', 'AO', 'EC', 'RP'], dtype=object)"
      ]
     },
     "metadata": {},
     "output_type": "display_data"
    }
   ],
   "source": [
    "columns = data.columns\n",
    "for column in columns:\n",
    "    if 'sales' not in column:\n",
    "        display(column)\n",
    "        display(data[column].unique())"
   ]
  },
  {
   "cell_type": "code",
   "execution_count": 12,
   "metadata": {},
   "outputs": [],
   "source": [
    "# названия жанров также приведём к нижнему регистру\n",
    "data['genre'] = data['genre'].str.lower()"
   ]
  },
  {
   "cell_type": "markdown",
   "metadata": {},
   "source": [
    "По этим данным видно, что в 'year_of_release', 'genre', 'critic_score', 'user_score', 'rating' присутствуют некорректные значения. \n",
    "Обратим внимание на 'user_sсore', а точнее на значение 'tbd' в нём. Эта аббревиатура означает **to be determined**, то есть так обозначается величина, значение которой предстоит определить. По смыслу это просто пропуски, не установленные пользовательские оценки. Поэтому заменим такие аномалии на 'nan'."
   ]
  },
  {
   "cell_type": "code",
   "execution_count": 13,
   "metadata": {},
   "outputs": [
    {
     "data": {
      "text/plain": [
       "array(['8', nan, '8.3', '8.5', '6.6', '8.4', '8.6', '7.7', '6.3', '7.4',\n",
       "       '8.2', '9', '7.9', '8.1', '8.7', '7.1', '3.4', '5.3', '4.8', '3.2',\n",
       "       '8.9', '6.4', '7.8', '7.5', '2.6', '7.2', '9.2', '7', '7.3', '4.3',\n",
       "       '7.6', '5.7', '5', '9.1', '6.5', '8.8', '6.9', '9.4', '6.8', '6.1',\n",
       "       '6.7', '5.4', '4', '4.9', '4.5', '9.3', '6.2', '4.2', '6', '3.7',\n",
       "       '4.1', '5.8', '5.6', '5.5', '4.4', '4.6', '5.9', '3.9', '3.1',\n",
       "       '2.9', '5.2', '3.3', '4.7', '5.1', '3.5', '2.5', '1.9', '3', '2.7',\n",
       "       '2.2', '2', '9.5', '2.1', '3.6', '2.8', '1.8', '3.8', '0', '1.6',\n",
       "       '9.6', '2.4', '1.7', '1.1', '0.3', '1.5', '0.7', '1.2', '2.3',\n",
       "       '0.5', '1.3', '0.2', '0.6', '1.4', '0.9', '1', '9.7'], dtype=object)"
      ]
     },
     "execution_count": 13,
     "metadata": {},
     "output_type": "execute_result"
    }
   ],
   "source": [
    "data['user_score'] = data['user_score'].replace('tbd', np.NaN)\n",
    "# проверим успешность замены\n",
    "data['user_score'].unique()"
   ]
  },
  {
   "cell_type": "markdown",
   "metadata": {},
   "source": [
    "Непонятное значение исчезло. Остальные аномалии разберём чуть дальше."
   ]
  },
  {
   "cell_type": "markdown",
   "metadata": {},
   "source": [
    "#### Изучим пропуски и устраним их там, где это возможно."
   ]
  },
  {
   "cell_type": "code",
   "execution_count": 14,
   "metadata": {},
   "outputs": [
    {
     "data": {
      "text/plain": [
       "name                  2\n",
       "platform              0\n",
       "year_of_release     269\n",
       "genre                 2\n",
       "na_sales              0\n",
       "eu_sales              0\n",
       "jp_sales              0\n",
       "other_sales           0\n",
       "critic_score       8578\n",
       "user_score         9125\n",
       "rating             6766\n",
       "dtype: int64"
      ]
     },
     "execution_count": 14,
     "metadata": {},
     "output_type": "execute_result"
    }
   ],
   "source": [
    "# количество пропущенных значений в каждом столбце\n",
    "data.isna().sum()"
   ]
  },
  {
   "cell_type": "markdown",
   "metadata": {},
   "source": [
    "В 6 стобцах датасета имеются проуски. Пойдём по порядку:\n",
    "- В стобце `name` указано название компьюетерной игры. Это категориальная переменная, поэтому заполнить пустые места средним или медианой невозможно. Но и без этого параметра нельзя обойтись потому, что только он определяет конкретную игру. Значение могло быть упущено по невнимательности или из-за отсутствия названия у игры. Пропуски всего 2, так что удаление этих строчек из датасета ни на что не повлияет.\n",
    "- В годе выпуска, `year_of_release`, есть 269 пустых значений. Его либо забыли указать, либо не смогли точно определить год. Угадать такой параметр мы не можем, поэтому эти пропуски также удалим.\n",
    "- Жанр игры (`genre`) возможно угадать, если разобраться в сущности игры (однако в упущенных примерах это сделать видимо не смогли). Поэтому их тоже удалим.\n",
    "- `critic_score` и `user_score` очень важные для игры параметры. Зачастую по ним люди судят о качестве продукта и принимают решение о покупке. К несчастью именно в этих столбцах очень много пропущено. Видимо какие-то игры просто остались без оценки, а какие-то явлсяются слишком новыми. Правильнее всего будет отнести такие примеры к отдельной категории (отметим их значением '-1', так как для обеих оценок это невозможное значение).\n",
    "- Столбец `rating` тоже содержит много nan-ов. Далеко не во всех играх легко определить возрастной рейтинг, поэтому как минимум в 6766 случаях организация ESRB не смогла это сделать. Для них также создадим отдельную категорию ('no_rate')."
   ]
  },
  {
   "cell_type": "code",
   "execution_count": 15,
   "metadata": {},
   "outputs": [
    {
     "data": {
      "text/plain": [
       "name               0\n",
       "platform           0\n",
       "year_of_release    0\n",
       "genre              0\n",
       "na_sales           0\n",
       "eu_sales           0\n",
       "jp_sales           0\n",
       "other_sales        0\n",
       "critic_score       0\n",
       "user_score         0\n",
       "rating             0\n",
       "dtype: int64"
      ]
     },
     "execution_count": 15,
     "metadata": {},
     "output_type": "execute_result"
    }
   ],
   "source": [
    "# удалим строки с пустыми значениями в столбцах 'name', 'year_of_release', 'genre'\n",
    "data.dropna(subset=['name', 'year_of_release', 'genre'], inplace=True)\n",
    "# заполним пропуски в 'critic_score', 'user_score' и 'rating' соответствующими значениями\n",
    "data['critic_score'] = data['critic_score'].fillna(-1)\n",
    "data['user_score'] = data['user_score'].fillna(-1)\n",
    "data['rating'] = data['rating'].fillna('no_rate')\n",
    "# проверим количество пропусков после удаления\n",
    "data.isna().sum()"
   ]
  },
  {
   "cell_type": "markdown",
   "metadata": {},
   "source": [
    "С пропусками мы разобрались. Теперь наконец поменяем типы в столбцах 'year_of_release' и 'user_score'."
   ]
  },
  {
   "cell_type": "code",
   "execution_count": 16,
   "metadata": {},
   "outputs": [],
   "source": [
    "data['year_of_release'] = data['year_of_release'].astype('int')\n",
    "data['user_score'] = data['user_score'].astype('float')"
   ]
  },
  {
   "cell_type": "code",
   "execution_count": 17,
   "metadata": {},
   "outputs": [
    {
     "name": "stdout",
     "output_type": "stream",
     "text": [
      "<class 'pandas.core.frame.DataFrame'>\n",
      "Int64Index: 16444 entries, 0 to 16714\n",
      "Data columns (total 11 columns):\n",
      " #   Column           Non-Null Count  Dtype  \n",
      "---  ------           --------------  -----  \n",
      " 0   name             16444 non-null  object \n",
      " 1   platform         16444 non-null  object \n",
      " 2   year_of_release  16444 non-null  int64  \n",
      " 3   genre            16444 non-null  object \n",
      " 4   na_sales         16444 non-null  float64\n",
      " 5   eu_sales         16444 non-null  float64\n",
      " 6   jp_sales         16444 non-null  float64\n",
      " 7   other_sales      16444 non-null  float64\n",
      " 8   critic_score     16444 non-null  float64\n",
      " 9   user_score       16444 non-null  float64\n",
      " 10  rating           16444 non-null  object \n",
      "dtypes: float64(6), int64(1), object(4)\n",
      "memory usage: 1.5+ MB\n"
     ]
    }
   ],
   "source": [
    "# выведем информацию о датасете для проверки изменений\n",
    "data.info()"
   ]
  },
  {
   "cell_type": "markdown",
   "metadata": {},
   "source": [
    "Типы переменных соответствуют смыслу, а пропуски устранены с минимальными потерями (<300 удаленных строк)."
   ]
  },
  {
   "cell_type": "markdown",
   "metadata": {},
   "source": [
    "### Посчитаем суммарные продажи во всех регионах"
   ]
  },
  {
   "cell_type": "markdown",
   "metadata": {},
   "source": [
    "Значения из столбцов 'na_sales', 'eu_sales', 'jp_sales' и 'other_sales' складываем и записываем в столбец 'world_sales'."
   ]
  },
  {
   "cell_type": "code",
   "execution_count": 18,
   "metadata": {},
   "outputs": [
    {
     "data": {
      "text/html": [
       "<div>\n",
       "<style scoped>\n",
       "    .dataframe tbody tr th:only-of-type {\n",
       "        vertical-align: middle;\n",
       "    }\n",
       "\n",
       "    .dataframe tbody tr th {\n",
       "        vertical-align: top;\n",
       "    }\n",
       "\n",
       "    .dataframe thead th {\n",
       "        text-align: right;\n",
       "    }\n",
       "</style>\n",
       "<table border=\"1\" class=\"dataframe\">\n",
       "  <thead>\n",
       "    <tr style=\"text-align: right;\">\n",
       "      <th></th>\n",
       "      <th>name</th>\n",
       "      <th>platform</th>\n",
       "      <th>year_of_release</th>\n",
       "      <th>genre</th>\n",
       "      <th>na_sales</th>\n",
       "      <th>eu_sales</th>\n",
       "      <th>jp_sales</th>\n",
       "      <th>other_sales</th>\n",
       "      <th>critic_score</th>\n",
       "      <th>user_score</th>\n",
       "      <th>rating</th>\n",
       "      <th>world_sales</th>\n",
       "    </tr>\n",
       "  </thead>\n",
       "  <tbody>\n",
       "    <tr>\n",
       "      <th>0</th>\n",
       "      <td>Wii Sports</td>\n",
       "      <td>Wii</td>\n",
       "      <td>2006</td>\n",
       "      <td>sports</td>\n",
       "      <td>41.36</td>\n",
       "      <td>28.96</td>\n",
       "      <td>3.77</td>\n",
       "      <td>8.45</td>\n",
       "      <td>76.0</td>\n",
       "      <td>8.0</td>\n",
       "      <td>E</td>\n",
       "      <td>82.54</td>\n",
       "    </tr>\n",
       "    <tr>\n",
       "      <th>1</th>\n",
       "      <td>Super Mario Bros.</td>\n",
       "      <td>NES</td>\n",
       "      <td>1985</td>\n",
       "      <td>platform</td>\n",
       "      <td>29.08</td>\n",
       "      <td>3.58</td>\n",
       "      <td>6.81</td>\n",
       "      <td>0.77</td>\n",
       "      <td>-1.0</td>\n",
       "      <td>-1.0</td>\n",
       "      <td>no_rate</td>\n",
       "      <td>40.24</td>\n",
       "    </tr>\n",
       "    <tr>\n",
       "      <th>2</th>\n",
       "      <td>Mario Kart Wii</td>\n",
       "      <td>Wii</td>\n",
       "      <td>2008</td>\n",
       "      <td>racing</td>\n",
       "      <td>15.68</td>\n",
       "      <td>12.76</td>\n",
       "      <td>3.79</td>\n",
       "      <td>3.29</td>\n",
       "      <td>82.0</td>\n",
       "      <td>8.3</td>\n",
       "      <td>E</td>\n",
       "      <td>35.52</td>\n",
       "    </tr>\n",
       "    <tr>\n",
       "      <th>3</th>\n",
       "      <td>Wii Sports Resort</td>\n",
       "      <td>Wii</td>\n",
       "      <td>2009</td>\n",
       "      <td>sports</td>\n",
       "      <td>15.61</td>\n",
       "      <td>10.93</td>\n",
       "      <td>3.28</td>\n",
       "      <td>2.95</td>\n",
       "      <td>80.0</td>\n",
       "      <td>8.0</td>\n",
       "      <td>E</td>\n",
       "      <td>32.77</td>\n",
       "    </tr>\n",
       "    <tr>\n",
       "      <th>4</th>\n",
       "      <td>Pokemon Red/Pokemon Blue</td>\n",
       "      <td>GB</td>\n",
       "      <td>1996</td>\n",
       "      <td>role-playing</td>\n",
       "      <td>11.27</td>\n",
       "      <td>8.89</td>\n",
       "      <td>10.22</td>\n",
       "      <td>1.00</td>\n",
       "      <td>-1.0</td>\n",
       "      <td>-1.0</td>\n",
       "      <td>no_rate</td>\n",
       "      <td>31.38</td>\n",
       "    </tr>\n",
       "  </tbody>\n",
       "</table>\n",
       "</div>"
      ],
      "text/plain": [
       "                       name platform  year_of_release         genre  na_sales  \\\n",
       "0                Wii Sports      Wii             2006        sports     41.36   \n",
       "1         Super Mario Bros.      NES             1985      platform     29.08   \n",
       "2            Mario Kart Wii      Wii             2008        racing     15.68   \n",
       "3         Wii Sports Resort      Wii             2009        sports     15.61   \n",
       "4  Pokemon Red/Pokemon Blue       GB             1996  role-playing     11.27   \n",
       "\n",
       "   eu_sales  jp_sales  other_sales  critic_score  user_score   rating  \\\n",
       "0     28.96      3.77         8.45          76.0         8.0        E   \n",
       "1      3.58      6.81         0.77          -1.0        -1.0  no_rate   \n",
       "2     12.76      3.79         3.29          82.0         8.3        E   \n",
       "3     10.93      3.28         2.95          80.0         8.0        E   \n",
       "4      8.89     10.22         1.00          -1.0        -1.0  no_rate   \n",
       "\n",
       "   world_sales  \n",
       "0        82.54  \n",
       "1        40.24  \n",
       "2        35.52  \n",
       "3        32.77  \n",
       "4        31.38  "
      ]
     },
     "execution_count": 18,
     "metadata": {},
     "output_type": "execute_result"
    }
   ],
   "source": [
    "data['world_sales'] = data[['na_sales', 'eu_sales', 'jp_sales', 'other_sales']].sum(axis=1)\n",
    "data.head()"
   ]
  },
  {
   "cell_type": "markdown",
   "metadata": {},
   "source": [
    "### Вывод\n",
    "Теперь подготовка данных полностью завершена. Мы привели названия стобцов к нижнему регистру с помощью метода str.lower(). Преобразовали типы данных там, где это было необходимо. Удалили или заполнили \"заглушками\" пропуски, потеряв лишь 1% данных и объяснив причины упущенных значений в каждом столбце. А также создали дополнительный столбец с мировыми продажами. \n",
    "На результаты анализа больше ничего не повлияет. Можно переходить к следующему этапу."
   ]
  },
  {
   "cell_type": "markdown",
   "metadata": {},
   "source": [
    "## Исследовательский анализ данных"
   ]
  },
  {
   "cell_type": "markdown",
   "metadata": {},
   "source": [
    "### Посморим, сколько игр выпускалось в разные годы"
   ]
  },
  {
   "cell_type": "code",
   "execution_count": 19,
   "metadata": {},
   "outputs": [
    {
     "data": {
      "image/png": "[encoded data removed]",
      "text/plain": [
       "<Figure size 720x360 with 1 Axes>"
      ]
     },
     "metadata": {
      "needs_background": "light"
     },
     "output_type": "display_data"
    }
   ],
   "source": [
    "# сргуппируем данные по годам\n",
    "games_per_year = data.pivot_table(index='year_of_release', aggfunc='count')['name']\n",
    "games_per_year.plot(grid=True, figsize=(10,5), title='Кол-во выпущенных игр по годам');\n",
    "plt.xlabel('Год релиза')\n",
    "plt.ylabel('Кол-во игр')\n",
    "plt.show()"
   ]
  },
  {
   "cell_type": "markdown",
   "metadata": {},
   "source": [
    "По количеству выпущенных игр в период с 1980 по 2016 год, можно сказать, что имеет смысл сократить временные рамки. До 1995 года индустрия только начинала своё развитие, поэтому для дальнейшего анализа эти данные нам не понадобятся. Но так как наше исследование направлено на прогнозирование ситуации в 2017 году, оставим игры, вышедшие после 2010 года."
   ]
  },
  {
   "cell_type": "code",
   "execution_count": 20,
   "metadata": {},
   "outputs": [],
   "source": [
    "# сохраним данные за всё время \n",
    "data_all = data\n",
    "# рассмотрим данные с 2000 по 2016 год\n",
    "data = data.query('2010 <= year_of_release <= 2016')"
   ]
  },
  {
   "cell_type": "markdown",
   "metadata": {},
   "source": [
    "### Рассморим как менялись продажи по платформам"
   ]
  },
  {
   "cell_type": "code",
   "execution_count": 21,
   "metadata": {},
   "outputs": [
    {
     "data": {
      "image/png": "[encoded data removed]",
      "text/plain": [
       "<Figure size 1080x504 with 1 Axes>"
      ]
     },
     "metadata": {
      "needs_background": "light"
     },
     "output_type": "display_data"
    }
   ],
   "source": [
    "# сгруппируем продажи по платформам за каждый год\n",
    "platform_sales_per_year = data.pivot_table(index='year_of_release', columns = 'platform', values='world_sales', aggfunc='sum')\n",
    "platform_sales_per_year.plot(grid=True, figsize=(15, 7));\n",
    "plt.xlabel('Год релиза')\n",
    "plt.ylabel('Продажи (млн. копий)')\n",
    "plt.show()"
   ]
  },
  {
   "cell_type": "markdown",
   "metadata": {},
   "source": [
    "Из графика видно, что за последние 6 лет продажи всех платформ стремительно падали, а к 2016 году стали почти нулевыми. Под это описание не попадают только две платформы: PS4 и XOne."
   ]
  },
  {
   "cell_type": "markdown",
   "metadata": {},
   "source": [
    "#### Выберем платформы с наибольшими суммарными продажами"
   ]
  },
  {
   "cell_type": "code",
   "execution_count": 22,
   "metadata": {},
   "outputs": [
    {
     "data": {
      "text/html": [
       "<div>\n",
       "<style scoped>\n",
       "    .dataframe tbody tr th:only-of-type {\n",
       "        vertical-align: middle;\n",
       "    }\n",
       "\n",
       "    .dataframe tbody tr th {\n",
       "        vertical-align: top;\n",
       "    }\n",
       "\n",
       "    .dataframe thead th {\n",
       "        text-align: right;\n",
       "    }\n",
       "</style>\n",
       "<table border=\"1\" class=\"dataframe\">\n",
       "  <thead>\n",
       "    <tr style=\"text-align: right;\">\n",
       "      <th></th>\n",
       "      <th>world_sales</th>\n",
       "    </tr>\n",
       "    <tr>\n",
       "      <th>platform</th>\n",
       "      <th></th>\n",
       "    </tr>\n",
       "  </thead>\n",
       "  <tbody>\n",
       "    <tr>\n",
       "      <th>PS3</th>\n",
       "      <td>587.74</td>\n",
       "    </tr>\n",
       "    <tr>\n",
       "      <th>X360</th>\n",
       "      <td>550.41</td>\n",
       "    </tr>\n",
       "    <tr>\n",
       "      <th>PS4</th>\n",
       "      <td>314.14</td>\n",
       "    </tr>\n",
       "    <tr>\n",
       "      <th>3DS</th>\n",
       "      <td>257.81</td>\n",
       "    </tr>\n",
       "    <tr>\n",
       "      <th>Wii</th>\n",
       "      <td>222.97</td>\n",
       "    </tr>\n",
       "    <tr>\n",
       "      <th>XOne</th>\n",
       "      <td>159.32</td>\n",
       "    </tr>\n",
       "    <tr>\n",
       "      <th>DS</th>\n",
       "      <td>123.75</td>\n",
       "    </tr>\n",
       "    <tr>\n",
       "      <th>PC</th>\n",
       "      <td>121.96</td>\n",
       "    </tr>\n",
       "    <tr>\n",
       "      <th>WiiU</th>\n",
       "      <td>82.19</td>\n",
       "    </tr>\n",
       "    <tr>\n",
       "      <th>PSP</th>\n",
       "      <td>64.05</td>\n",
       "    </tr>\n",
       "    <tr>\n",
       "      <th>PSV</th>\n",
       "      <td>53.81</td>\n",
       "    </tr>\n",
       "    <tr>\n",
       "      <th>PS2</th>\n",
       "      <td>6.09</td>\n",
       "    </tr>\n",
       "  </tbody>\n",
       "</table>\n",
       "</div>"
      ],
      "text/plain": [
       "          world_sales\n",
       "platform             \n",
       "PS3            587.74\n",
       "X360           550.41\n",
       "PS4            314.14\n",
       "3DS            257.81\n",
       "Wii            222.97\n",
       "XOne           159.32\n",
       "DS             123.75\n",
       "PC             121.96\n",
       "WiiU            82.19\n",
       "PSP             64.05\n",
       "PSV             53.81\n",
       "PS2              6.09"
      ]
     },
     "execution_count": 22,
     "metadata": {},
     "output_type": "execute_result"
    }
   ],
   "source": [
    "# покажем суммарные продажи по каждой платформе\n",
    "platform_sales = data.pivot_table(index='platform', values='world_sales', aggfunc='sum')\n",
    "platform_sales.sort_values(by='world_sales', ascending=False)"
   ]
  },
  {
   "cell_type": "markdown",
   "metadata": {},
   "source": [
    "Топ-3 занимают PS3, X360 и PS4. Однако мы всё ещё рассматриваем довольно большой период. К 2015 году продажи первых двух стали меньше 25 млн. копий, а PS4 и XOne появились только в 2013, поэтому их суммарные продажи пока уступают старым конкурентам. \n",
    "\n",
    "Построим распределение по годам для PS3, X360, PS4 и XOne (2013-2016)."
   ]
  },
  {
   "cell_type": "code",
   "execution_count": 23,
   "metadata": {},
   "outputs": [
    {
     "data": {
      "image/png": "[encoded data removed]",
      "text/plain": [
       "<Figure size 1080x504 with 1 Axes>"
      ]
     },
     "metadata": {
      "needs_background": "light"
     },
     "output_type": "display_data"
    }
   ],
   "source": [
    "# сделаем срез данных\n",
    "data = data.query(\"platform == ['PS3', 'X360', 'PS4', 'XOne'] and year_of_release >= 2013\")\n",
    "# сгруппруем и построим график\n",
    "data.pivot_table(index='year_of_release', columns = 'platform', values='world_sales', aggfunc='sum')\\\n",
    "    .plot(grid=True, figsize=(15, 7));\n",
    "plt.xlabel('Год релиза')\n",
    "plt.ylabel('Продажи (млн. копий)')\n",
    "plt.show()"
   ]
  },
  {
   "cell_type": "markdown",
   "metadata": {},
   "source": [
    "По графику наглядно видно, что лидерами однозначно являются новые платформы PS4 и XOne."
   ]
  },
  {
   "cell_type": "markdown",
   "metadata": {},
   "source": [
    "#### За какой характерный срок появляются новые и исчезают старые платформы?"
   ]
  },
  {
   "cell_type": "code",
   "execution_count": 24,
   "metadata": {},
   "outputs": [
    {
     "data": {
      "image/png": "[encoded data removed]",
      "text/plain": [
       "<Figure size 1440x720 with 1 Axes>"
      ]
     },
     "metadata": {
      "needs_background": "light"
     },
     "output_type": "display_data"
    }
   ],
   "source": [
    "# построим график продаж всех платформ по всем годам\n",
    "data_all.pivot_table(index='year_of_release', columns = 'platform', values='world_sales', aggfunc='sum')\\\n",
    "    .plot(grid=True, figsize=(20, 10));"
   ]
  },
  {
   "cell_type": "markdown",
   "metadata": {},
   "source": [
    "До 1995 года новые платофрмы появлялись довольно редко, в среднем каждые 5 лет. Но и актуальными они оставались почти по 10 лет, так как конкурентов почти не было. После 1995 года платформы стали появляться чаще и с 2000 года каждый год выпускали что-то новое. Непопулярные конкуренты оставались на рынке около 5 лет, а крупные платформы держались на плаву десятилетиями, выпуская к устареванию своих моделей их обновленные варианты (X360->XOne, PS2->PS3-PS4). "
   ]
  },
  {
   "cell_type": "markdown",
   "metadata": {},
   "source": [
    "### Перейдём к актуальному для исследования периоду"
   ]
  },
  {
   "cell_type": "markdown",
   "metadata": {},
   "source": [
    "Основная задача данных — помочь построить прогноз на 2017 год. Для этого не нужно знать историю развития индустрии компьютерных игр. Важно лишь понять тенденции последних лет. Поэтому исходя из расположенных выше графиков, можно определить самый актуальный для нас период: 2015-2016 годы.   "
   ]
  },
  {
   "cell_type": "code",
   "execution_count": 25,
   "metadata": {},
   "outputs": [
    {
     "data": {
      "image/png": "[encoded data removed]",
      "text/plain": [
       "<Figure size 1440x720 with 1 Axes>"
      ]
     },
     "metadata": {
      "needs_background": "light"
     },
     "output_type": "display_data"
    }
   ],
   "source": [
    "# сделаем срез датасета data_all\n",
    "data = data_all.query('year_of_release >= 2015')\n",
    "# отобразим этот период на графике\n",
    "data.pivot_table(index='year_of_release', columns = 'platform', values='world_sales', aggfunc='sum')\\\n",
    "    .plot(grid=True, figsize=(20, 10));"
   ]
  },
  {
   "cell_type": "markdown",
   "metadata": {},
   "source": [
    "#### Какие платформы лидируют по продажам, растут или падают? \n",
    "Лидеры продаж: PS4, XOne, 3DS. За данный период продажи упали у всех, даже у самых популярных платформ. Потенциально прибыльными будем считать тех, у кого в 2016 году продано больше 20 млн. копий (это PS4 и XOne)."
   ]
  },
  {
   "cell_type": "markdown",
   "metadata": {},
   "source": [
    "#### Построим график «ящик с усами» по глобальным продажам игр в разбивке по платформам"
   ]
  },
  {
   "cell_type": "code",
   "execution_count": 26,
   "metadata": {},
   "outputs": [
    {
     "data": {
      "text/html": [
       "<div>\n",
       "<style scoped>\n",
       "    .dataframe tbody tr th:only-of-type {\n",
       "        vertical-align: middle;\n",
       "    }\n",
       "\n",
       "    .dataframe tbody tr th {\n",
       "        vertical-align: top;\n",
       "    }\n",
       "\n",
       "    .dataframe thead th {\n",
       "        text-align: right;\n",
       "    }\n",
       "</style>\n",
       "<table border=\"1\" class=\"dataframe\">\n",
       "  <thead>\n",
       "    <tr style=\"text-align: right;\">\n",
       "      <th></th>\n",
       "      <th>count</th>\n",
       "      <th>mean</th>\n",
       "      <th>std</th>\n",
       "      <th>min</th>\n",
       "      <th>25%</th>\n",
       "      <th>50%</th>\n",
       "      <th>75%</th>\n",
       "      <th>max</th>\n",
       "    </tr>\n",
       "    <tr>\n",
       "      <th>platform</th>\n",
       "      <th></th>\n",
       "      <th></th>\n",
       "      <th></th>\n",
       "      <th></th>\n",
       "      <th></th>\n",
       "      <th></th>\n",
       "      <th></th>\n",
       "      <th></th>\n",
       "    </tr>\n",
       "  </thead>\n",
       "  <tbody>\n",
       "    <tr>\n",
       "      <th>3DS</th>\n",
       "      <td>132.0</td>\n",
       "      <td>0.325152</td>\n",
       "      <td>0.798620</td>\n",
       "      <td>0.01</td>\n",
       "      <td>0.030</td>\n",
       "      <td>0.090</td>\n",
       "      <td>0.2325</td>\n",
       "      <td>7.14</td>\n",
       "    </tr>\n",
       "    <tr>\n",
       "      <th>PC</th>\n",
       "      <td>104.0</td>\n",
       "      <td>0.132404</td>\n",
       "      <td>0.209449</td>\n",
       "      <td>0.01</td>\n",
       "      <td>0.020</td>\n",
       "      <td>0.050</td>\n",
       "      <td>0.1425</td>\n",
       "      <td>1.28</td>\n",
       "    </tr>\n",
       "    <tr>\n",
       "      <th>PS3</th>\n",
       "      <td>111.0</td>\n",
       "      <td>0.183964</td>\n",
       "      <td>0.342696</td>\n",
       "      <td>0.01</td>\n",
       "      <td>0.020</td>\n",
       "      <td>0.060</td>\n",
       "      <td>0.1600</td>\n",
       "      <td>2.70</td>\n",
       "    </tr>\n",
       "    <tr>\n",
       "      <th>PS4</th>\n",
       "      <td>301.0</td>\n",
       "      <td>0.625083</td>\n",
       "      <td>1.457063</td>\n",
       "      <td>0.01</td>\n",
       "      <td>0.050</td>\n",
       "      <td>0.120</td>\n",
       "      <td>0.4200</td>\n",
       "      <td>14.63</td>\n",
       "    </tr>\n",
       "    <tr>\n",
       "      <th>PSP</th>\n",
       "      <td>3.0</td>\n",
       "      <td>0.040000</td>\n",
       "      <td>0.034641</td>\n",
       "      <td>0.02</td>\n",
       "      <td>0.020</td>\n",
       "      <td>0.020</td>\n",
       "      <td>0.0500</td>\n",
       "      <td>0.08</td>\n",
       "    </tr>\n",
       "    <tr>\n",
       "      <th>PSV</th>\n",
       "      <td>195.0</td>\n",
       "      <td>0.053846</td>\n",
       "      <td>0.063669</td>\n",
       "      <td>0.01</td>\n",
       "      <td>0.020</td>\n",
       "      <td>0.030</td>\n",
       "      <td>0.0600</td>\n",
       "      <td>0.41</td>\n",
       "    </tr>\n",
       "    <tr>\n",
       "      <th>Wii</th>\n",
       "      <td>5.0</td>\n",
       "      <td>0.264000</td>\n",
       "      <td>0.390487</td>\n",
       "      <td>0.01</td>\n",
       "      <td>0.030</td>\n",
       "      <td>0.150</td>\n",
       "      <td>0.1800</td>\n",
       "      <td>0.95</td>\n",
       "    </tr>\n",
       "    <tr>\n",
       "      <th>WiiU</th>\n",
       "      <td>42.0</td>\n",
       "      <td>0.498810</td>\n",
       "      <td>0.850240</td>\n",
       "      <td>0.01</td>\n",
       "      <td>0.050</td>\n",
       "      <td>0.215</td>\n",
       "      <td>0.5175</td>\n",
       "      <td>4.44</td>\n",
       "    </tr>\n",
       "    <tr>\n",
       "      <th>X360</th>\n",
       "      <td>48.0</td>\n",
       "      <td>0.280833</td>\n",
       "      <td>0.381207</td>\n",
       "      <td>0.01</td>\n",
       "      <td>0.040</td>\n",
       "      <td>0.110</td>\n",
       "      <td>0.3525</td>\n",
       "      <td>1.70</td>\n",
       "    </tr>\n",
       "    <tr>\n",
       "      <th>XOne</th>\n",
       "      <td>167.0</td>\n",
       "      <td>0.516707</td>\n",
       "      <td>0.965940</td>\n",
       "      <td>0.01</td>\n",
       "      <td>0.035</td>\n",
       "      <td>0.130</td>\n",
       "      <td>0.5550</td>\n",
       "      <td>7.39</td>\n",
       "    </tr>\n",
       "  </tbody>\n",
       "</table>\n",
       "</div>"
      ],
      "text/plain": [
       "          count      mean       std   min    25%    50%     75%    max\n",
       "platform                                                              \n",
       "3DS       132.0  0.325152  0.798620  0.01  0.030  0.090  0.2325   7.14\n",
       "PC        104.0  0.132404  0.209449  0.01  0.020  0.050  0.1425   1.28\n",
       "PS3       111.0  0.183964  0.342696  0.01  0.020  0.060  0.1600   2.70\n",
       "PS4       301.0  0.625083  1.457063  0.01  0.050  0.120  0.4200  14.63\n",
       "PSP         3.0  0.040000  0.034641  0.02  0.020  0.020  0.0500   0.08\n",
       "PSV       195.0  0.053846  0.063669  0.01  0.020  0.030  0.0600   0.41\n",
       "Wii         5.0  0.264000  0.390487  0.01  0.030  0.150  0.1800   0.95\n",
       "WiiU       42.0  0.498810  0.850240  0.01  0.050  0.215  0.5175   4.44\n",
       "X360       48.0  0.280833  0.381207  0.01  0.040  0.110  0.3525   1.70\n",
       "XOne      167.0  0.516707  0.965940  0.01  0.035  0.130  0.5550   7.39"
      ]
     },
     "execution_count": 26,
     "metadata": {},
     "output_type": "execute_result"
    }
   ],
   "source": [
    "data.groupby('platform')['world_sales'].describe()"
   ]
  },
  {
   "cell_type": "code",
   "execution_count": 27,
   "metadata": {},
   "outputs": [
    {
     "data": {
      "image/png": "[encoded data removed]",
      "text/plain": [
       "<Figure size 504x504 with 1 Axes>"
      ]
     },
     "metadata": {
      "needs_background": "light"
     },
     "output_type": "display_data"
    }
   ],
   "source": [
    "data.boxplot(column='world_sales', by='platform', grid=True, figsize=(7,7));"
   ]
  },
  {
   "cell_type": "code",
   "execution_count": 61,
   "metadata": {},
   "outputs": [
    {
     "data": {
      "image/png": "[encoded data removed]",
      "text/plain": [
       "<Figure size 1224x792 with 1 Axes>"
      ]
     },
     "metadata": {
      "needs_background": "light"
     },
     "output_type": "display_data"
    }
   ],
   "source": [
    "# код ревьюера\n",
    "\n",
    "import seaborn as sns\n",
    "\n",
    "plt.figure(figsize=(17, 11))\n",
    "sns.boxplot(data=data, y='platform', x='world_sales')\n",
    "plt.xlim(-0.1, 5)\n",
    "\n",
    "plt.title('Объемы продаж игр на разных платформах', size=17)\n",
    "plt.xlabel('Объем продаж', size=12)\n",
    "plt.ylabel('Название платформы', size=12)\n",
    "\n",
    "plt.show()"
   ]
  },
  {
   "cell_type": "markdown",
   "metadata": {},
   "source": [
    "Диаграмма размаха для платформ показывает, что у 3DS, PS4 и XOne присутствует много выбросов. Это вполне логично можно объяснить \"супер успешными\" играми."
   ]
  },
  {
   "cell_type": "markdown",
   "metadata": {},
   "source": [
    "#### Посмотрим, как влияют на продажи внутри одной популярной платформы отзывы пользователей и критиков"
   ]
  },
  {
   "cell_type": "markdown",
   "metadata": {},
   "source": [
    "Для проверки возьмём платформу PS4."
   ]
  },
  {
   "cell_type": "code",
   "execution_count": 28,
   "metadata": {},
   "outputs": [],
   "source": [
    "# уберём из рассмотрения данные с пропущенными полями critic и user score\n",
    "data = data.query('user_score != -1 and critic_score != -1')"
   ]
  },
  {
   "cell_type": "code",
   "execution_count": 29,
   "metadata": {},
   "outputs": [
    {
     "data": {
      "image/png": "[encoded data removed]",
      "text/plain": [
       "<Figure size 504x504 with 1 Axes>"
      ]
     },
     "metadata": {
      "needs_background": "light"
     },
     "output_type": "display_data"
    }
   ],
   "source": [
    "# построим диаграмму рассеяния для пользовательских оценок\n",
    "data[data['platform']=='PS4'].plot(x='user_score', y='world_sales', kind='scatter', grid=True, figsize=(7,7), alpha=0.5);"
   ]
  },
  {
   "cell_type": "code",
   "execution_count": 30,
   "metadata": {},
   "outputs": [
    {
     "data": {
      "image/png": "[encoded data removed]",
      "text/plain": [
       "<Figure size 504x504 with 1 Axes>"
      ]
     },
     "metadata": {
      "needs_background": "light"
     },
     "output_type": "display_data"
    }
   ],
   "source": [
    "# построим диаграмму рассеяния для оценок критиков\n",
    "data[data['platform']=='PS4'].plot(x='critic_score', y='world_sales', kind='scatter', grid=True, figsize=(7,7), alpha=0.5);"
   ]
  },
  {
   "cell_type": "markdown",
   "metadata": {},
   "source": [
    "Теперь посчитаем корреляцию между отзывами и продажами."
   ]
  },
  {
   "cell_type": "code",
   "execution_count": 31,
   "metadata": {},
   "outputs": [
    {
     "name": "stdout",
     "output_type": "stream",
     "text": [
      "Коэфф. корреляции пользовательских оценок: -0.06436843081030288\n",
      "Коэфф. корреляции оценок критиков: 0.3920741369660568\n"
     ]
    }
   ],
   "source": [
    "data_ps4 = data[data['platform']=='PS4']\n",
    "\n",
    "# пользователи\n",
    "corr_user_ps4 = data_ps4['user_score'].corr(data_ps4['world_sales'])\n",
    "print('Коэфф. корреляции пользовательских оценок:', corr_user_ps4)\n",
    "\n",
    "# критики\n",
    "corr_critic_ps4 = data_ps4['critic_score'].corr(data_ps4['world_sales'])\n",
    "print('Коэфф. корреляции оценок критиков:', corr_critic_ps4)"
   ]
  },
  {
   "cell_type": "markdown",
   "metadata": {},
   "source": [
    "##### Вывод\n",
    "По диаграммам рассеяния для PS4 видно, что большая часть отзывов положительная (6-8 и 60-80), однако среди пользователей гораздо больше усредненных значений (4-6). Корреляция для пользовательских оценок - слабо отрицательная или даже нулевая (-0.06), а для оценок критиков - слабо положительная (0.39). "
   ]
  },
  {
   "cell_type": "markdown",
   "metadata": {},
   "source": [
    "### Соотнесём выводы с продажами игр на других платформах"
   ]
  },
  {
   "cell_type": "markdown",
   "metadata": {},
   "source": [
    "Для платформ XOne, 3DS и PC построим диаграммы рассеяния по user_score и critic_score, а также посчитаем коэффициенты корреляции между ними и продажами отдельной платформы. Затем сравним результаты с выводами для платформы PS4."
   ]
  },
  {
   "cell_type": "markdown",
   "metadata": {},
   "source": [
    "#### XOne"
   ]
  },
  {
   "cell_type": "code",
   "execution_count": 32,
   "metadata": {},
   "outputs": [
    {
     "data": {
      "image/png": "[encoded data removed]",
      "text/plain": [
       "<Figure size 504x504 with 1 Axes>"
      ]
     },
     "metadata": {
      "needs_background": "light"
     },
     "output_type": "display_data"
    }
   ],
   "source": [
    "# построим диаграмму рассеяния для пользовательских оценок\n",
    "data[data['platform']=='XOne'].plot(x='user_score', y='world_sales', kind='scatter', grid=True, figsize=(7,7), alpha=0.5);"
   ]
  },
  {
   "cell_type": "code",
   "execution_count": 33,
   "metadata": {},
   "outputs": [
    {
     "data": {
      "image/png": "[encoded data removed]",
      "text/plain": [
       "<Figure size 504x504 with 1 Axes>"
      ]
     },
     "metadata": {
      "needs_background": "light"
     },
     "output_type": "display_data"
    }
   ],
   "source": [
    "# построим диаграмму рассеяния для оценок критиков\n",
    "data[data['platform']=='XOne'].plot(x='critic_score', y='world_sales', kind='scatter', grid=True, figsize=(7,7), alpha=0.5);"
   ]
  },
  {
   "cell_type": "code",
   "execution_count": 34,
   "metadata": {},
   "outputs": [
    {
     "name": "stdout",
     "output_type": "stream",
     "text": [
      "Коэфф. корреляции пользовательских оценок: -0.06868389218473443\n",
      "Коэфф. корреляции оценок критиков: 0.4225192624742895\n"
     ]
    }
   ],
   "source": [
    "data_xone = data[data['platform']=='XOne']\n",
    "\n",
    "# пользователи\n",
    "corr_user_xone = data_xone['user_score'].corr(data_xone['world_sales'])\n",
    "print('Коэфф. корреляции пользовательских оценок:', corr_user_xone)\n",
    "\n",
    "# критики\n",
    "corr_critic_xone = data_xone['critic_score'].corr(data_xone['world_sales'])\n",
    "print('Коэфф. корреляции оценок критиков:', corr_critic_xone)"
   ]
  },
  {
   "cell_type": "markdown",
   "metadata": {},
   "source": [
    "#### 3DS"
   ]
  },
  {
   "cell_type": "code",
   "execution_count": 35,
   "metadata": {},
   "outputs": [
    {
     "data": {
      "image/png": "[encoded data removed]",
      "text/plain": [
       "<Figure size 504x504 with 1 Axes>"
      ]
     },
     "metadata": {
      "needs_background": "light"
     },
     "output_type": "display_data"
    }
   ],
   "source": [
    "# построим диаграмму рассеяния для пользовательских оценок\n",
    "data[data['platform']=='3DS'].plot(x='user_score', y='world_sales', kind='scatter', grid=True, figsize=(7,7), alpha=0.5);"
   ]
  },
  {
   "cell_type": "code",
   "execution_count": 36,
   "metadata": {},
   "outputs": [
    {
     "data": {
      "image/png": "[encoded data removed]",
      "text/plain": [
       "<Figure size 504x504 with 1 Axes>"
      ]
     },
     "metadata": {
      "needs_background": "light"
     },
     "output_type": "display_data"
    }
   ],
   "source": [
    "# построим диаграмму рассеяния для оценок критиков\n",
    "data[data['platform']=='3DS'].plot(x='critic_score', y='world_sales', kind='scatter', grid=True, figsize=(7,7), alpha=0.5);"
   ]
  },
  {
   "cell_type": "code",
   "execution_count": 37,
   "metadata": {},
   "outputs": [
    {
     "name": "stdout",
     "output_type": "stream",
     "text": [
      "Коэфф. корреляции пользовательских оценок: 0.24047698587957067\n",
      "Коэфф. корреляции оценок критиков: 0.17757455046092874\n"
     ]
    }
   ],
   "source": [
    "data_3ds = data[data['platform']=='3DS']\n",
    "\n",
    "# пользователи\n",
    "corr_user_3ds = data_3ds['user_score'].corr(data_3ds['world_sales'])\n",
    "print('Коэфф. корреляции пользовательских оценок:', corr_user_3ds)\n",
    "\n",
    "# критики\n",
    "corr_critic_3ds = data_3ds['critic_score'].corr(data_3ds['world_sales'])\n",
    "print('Коэфф. корреляции оценок критиков:', corr_critic_3ds)"
   ]
  },
  {
   "cell_type": "markdown",
   "metadata": {},
   "source": [
    "#### PC"
   ]
  },
  {
   "cell_type": "code",
   "execution_count": 38,
   "metadata": {},
   "outputs": [
    {
     "data": {
      "image/png": "[encoded data removed]",
      "text/plain": [
       "<Figure size 504x504 with 1 Axes>"
      ]
     },
     "metadata": {
      "needs_background": "light"
     },
     "output_type": "display_data"
    }
   ],
   "source": [
    "# построим диаграмму рассеяния для пользовательских оценок\n",
    "data[data['platform']=='PC'].plot(x='user_score', y='world_sales', kind='scatter', grid=True, figsize=(7,7), alpha=0.5);"
   ]
  },
  {
   "cell_type": "code",
   "execution_count": 39,
   "metadata": {},
   "outputs": [
    {
     "data": {
      "image/png": "[encoded data removed]",
      "text/plain": [
       "<Figure size 504x504 with 1 Axes>"
      ]
     },
     "metadata": {
      "needs_background": "light"
     },
     "output_type": "display_data"
    }
   ],
   "source": [
    "# построим диаграмму рассеяния для оценок критиков\n",
    "data[data['platform']=='PC'].plot(x='critic_score', y='world_sales', kind='scatter', grid=True, figsize=(7,7), alpha=0.5);"
   ]
  },
  {
   "cell_type": "code",
   "execution_count": 40,
   "metadata": {},
   "outputs": [
    {
     "name": "stdout",
     "output_type": "stream",
     "text": [
      "Коэфф. корреляции пользовательских оценок: 0.14031210542891726\n",
      "Коэфф. корреляции оценок критиков: 0.3773317477241351\n"
     ]
    }
   ],
   "source": [
    "data_pc = data[data['platform']=='PC']\n",
    "\n",
    "# пользователи\n",
    "corr_user_pc = data_pc['user_score'].corr(data_pc['world_sales'])\n",
    "print('Коэфф. корреляции пользовательских оценок:', corr_user_pc)\n",
    "\n",
    "# критики\n",
    "corr_critic_pc = data_pc['critic_score'].corr(data_pc['world_sales'])\n",
    "print('Коэфф. корреляции оценок критиков:', corr_critic_pc)"
   ]
  },
  {
   "cell_type": "markdown",
   "metadata": {},
   "source": [
    "#### Вывод\n",
    "Отзывы критиков по всем платформам имеют похожие распределения. Однако у PS4 и XOne большая часть значений находятся в диапазоне 70-90, а у 3DS и PC они равно мерно разбросаны от 60 до 80. С пользовательскими оценками всё иначе. У PS4, 3DS и XOne они преимущественно находятся на уровне 5.5-8.5, а любители PC отличаются особой придирчивостью, поэтому низких отзывов на этой платформе столько же, сколько и больших.\n",
    "Коэффициенты корреляции для PS4, PC и XOne примерно равны 0 и 0.4 (user и critic_score соответственно), а у 3DS они наоброт составляют 0.24 для user_score и 0.17 для critic_score.\n"
   ]
  },
  {
   "cell_type": "markdown",
   "metadata": {},
   "source": [
    "### Распределение игр по жанрам"
   ]
  },
  {
   "cell_type": "markdown",
   "metadata": {},
   "source": [
    "#### Количественное распределение"
   ]
  },
  {
   "cell_type": "code",
   "execution_count": 41,
   "metadata": {},
   "outputs": [
    {
     "data": {
      "text/plain": [
       "genre\n",
       "action          147\n",
       "shooter          56\n",
       "sports           51\n",
       "role-playing     50\n",
       "adventure        28\n",
       "racing           25\n",
       "fighting         20\n",
       "misc             19\n",
       "platform         18\n",
       "strategy         16\n",
       "simulation       15\n",
       "puzzle            3\n",
       "Name: name, dtype: int64"
      ]
     },
     "execution_count": 41,
     "metadata": {},
     "output_type": "execute_result"
    }
   ],
   "source": [
    "data.pivot_table(index='genre', values='name', aggfunc='count')['name'].sort_values(ascending=False)"
   ]
  },
  {
   "cell_type": "markdown",
   "metadata": {},
   "source": [
    "Наибольшее кол-во игр: \n",
    "- `action` (147)\n",
    "- `shooter` (56)\n",
    "\n",
    "Наименьшее кол-во игр:\n",
    "- `puzzle` (3)\n",
    "- `simulation` (15)"
   ]
  },
  {
   "cell_type": "markdown",
   "metadata": {},
   "source": [
    "#### Прибыльность жанров"
   ]
  },
  {
   "cell_type": "code",
   "execution_count": 42,
   "metadata": {},
   "outputs": [
    {
     "data": {
      "image/png": "[encoded data removed]",
      "text/plain": [
       "<Figure size 1080x504 with 1 Axes>"
      ]
     },
     "metadata": {
      "needs_background": "light"
     },
     "output_type": "display_data"
    }
   ],
   "source": [
    "# рассмотрим медианные значения \n",
    "data.pivot_table(index='genre', values='world_sales', aggfunc='median')\\\n",
    "    .boxplot(grid=True, by='genre', figsize=(15, 7));\n",
    "plt.xlabel('genre')\n",
    "plt.ylabel('median sales')\n",
    "plt.show()"
   ]
  },
  {
   "cell_type": "markdown",
   "metadata": {},
   "source": [
    "Топ-5 популярных жанров:\n",
    "- `shooter`\n",
    "- `misc` \n",
    "- `sports`\n",
    "- `fighting`\n",
    "- `role-playing`\n",
    "\n",
    "Топ-5 непопулярных жанров:\n",
    "- `puzzle`\n",
    "- `adventure` \n",
    "- `racing`\n",
    "- `strategy`\n",
    "- `platform`"
   ]
  },
  {
   "cell_type": "markdown",
   "metadata": {},
   "source": [
    "### Вывод\n"
   ]
  },
  {
   "cell_type": "markdown",
   "metadata": {},
   "source": [
    "Мы провели исследовательский анализ данных, в ходе которого сделали следующее:\n",
    "1. Определили сколько игр выпускалось в разные годы;\n",
    "2. Изучили изменения продаж по платформам и установили их примерные сроки существования;\n",
    "3. Выбрали актуальный для исследования период и нашли в нём самые популярные платформы, для одной из которых рассмотрели влияние отзывов на продажи;\n",
    "4. Описали влияние отзывов на продажи на 3-х других платформах;\n",
    "5. Оценили распределение игр по жанрам, а также нашли самые прибыльные и убыточные из них.\n",
    "\n",
    "Перейдём к следующему этапу работы."
   ]
  },
  {
   "cell_type": "markdown",
   "metadata": {},
   "source": [
    "## Составим портрет пользователя каждого региона\n",
    "Определите для пользователя каждого региона (NA, EU, JP):\n",
    "- Самые популярные платформы (топ-5)\n",
    "- Самые популярные жанры (топ-5)\n",
    "- Влияет ли рейтинг ESRB на продажи в этом регионе"
   ]
  },
  {
   "cell_type": "markdown",
   "metadata": {},
   "source": [
    "### Регион North-America (NA)"
   ]
  },
  {
   "cell_type": "markdown",
   "metadata": {},
   "source": [
    "#### Платформы"
   ]
  },
  {
   "cell_type": "code",
   "execution_count": 43,
   "metadata": {},
   "outputs": [
    {
     "data": {
      "image/png": "[encoded data removed]",
      "text/plain": [
       "<Figure size 504x216 with 1 Axes>"
      ]
     },
     "metadata": {
      "needs_background": "light"
     },
     "output_type": "display_data"
    }
   ],
   "source": [
    "# сгруппируем актуальные данные по платформам \n",
    "platform_na_actual =  data.groupby('platform')['na_sales'].sum().sort_values(ascending=False).head()\n",
    "# нарисуем гисттограмму\n",
    "platform_na_actual.plot(kind='bar', grid=True, figsize=(7, 3), title='Топ-5 платформ в Северной Америке (актуальные данные)');\n",
    "\n",
    "plt.xlabel('платформы')\n",
    "plt.ylabel('Продажи (млн. копий)')\n",
    "\n",
    "plt.show()"
   ]
  },
  {
   "cell_type": "code",
   "execution_count": 44,
   "metadata": {},
   "outputs": [
    {
     "name": "stdout",
     "output_type": "stream",
     "text": [
      "Доля продаж топовых платформ в Северной Америке: \n",
      " platform\n",
      "PS4     45.568270\n",
      "XOne    38.605508\n",
      "WiiU     7.699767\n",
      "3DS      4.422033\n",
      "PC       3.355314\n",
      "Name: na_sales, dtype: float64\n"
     ]
    }
   ],
   "source": [
    "# доля продаж платформ по актуальной таблице\n",
    "total = data['na_sales'].sum()\n",
    "percentage_na = platform_na_actual / total * 100\n",
    "print('Доля продаж топовых платформ в Северной Америке: \\n', percentage_na)"
   ]
  },
  {
   "cell_type": "markdown",
   "metadata": {},
   "source": [
    "#### Жанры"
   ]
  },
  {
   "cell_type": "code",
   "execution_count": 45,
   "metadata": {},
   "outputs": [
    {
     "data": {
      "image/png": "[encoded data removed]",
      "text/plain": [
       "<Figure size 504x216 with 1 Axes>"
      ]
     },
     "metadata": {
      "needs_background": "light"
     },
     "output_type": "display_data"
    }
   ],
   "source": [
    "# сгруппируем актуальные данные по жанрам \n",
    "genre_na_actual =  data.groupby('genre')['na_sales'].sum().sort_values(ascending=False).head()\n",
    "# нарисуем гисттограмму\n",
    "genre_na_actual.plot(kind='bar', grid=True, figsize=(7, 3), title='Топ-5 жанров в Северной Америке (актуальные данные)');\n",
    "\n",
    "plt.xlabel('жанры')\n",
    "plt.ylabel('Продажи (млн. копий)')\n",
    "\n",
    "plt.show()"
   ]
  },
  {
   "cell_type": "code",
   "execution_count": 46,
   "metadata": {},
   "outputs": [
    {
     "name": "stdout",
     "output_type": "stream",
     "text": [
      "Доля продаж топовых жанров в Северной Америке: \n",
      " genre\n",
      "shooter         27.724981\n",
      "action          24.301784\n",
      "sports          20.073701\n",
      "role-playing    11.714507\n",
      "fighting         4.771140\n",
      "Name: na_sales, dtype: float64\n"
     ]
    }
   ],
   "source": [
    "# доля продаж жанров по актуальной таблице\n",
    "total = data['na_sales'].sum()\n",
    "percentage_na = genre_na_actual / total * 100\n",
    "print('Доля продаж топовых жанров в Северной Америке: \\n', percentage_na)"
   ]
  },
  {
   "cell_type": "markdown",
   "metadata": {},
   "source": [
    "#### Рейтинг ESRB"
   ]
  },
  {
   "cell_type": "code",
   "execution_count": 47,
   "metadata": {},
   "outputs": [
    {
     "data": {
      "image/png": "[encoded data removed]",
      "text/plain": [
       "<Figure size 504x216 with 1 Axes>"
      ]
     },
     "metadata": {
      "needs_background": "light"
     },
     "output_type": "display_data"
    }
   ],
   "source": [
    "# сгруппируем актуальные данные по рейтингам \n",
    "rating_na =  data.groupby('rating')['na_sales'].sum().sort_values(ascending=False).head()\n",
    "# нарисуем гисттограмму\n",
    "rating_na.plot(kind='bar', grid=True, figsize=(7, 3), \n",
    "               title='Топ-5 рейтингов по продажам в Северной Америке (актуальные данные)');\n",
    "plt.xlabel('рейтинги')\n",
    "plt.ylabel('Продажи (млн. копий)')\n",
    "\n",
    "plt.show()"
   ]
  },
  {
   "cell_type": "markdown",
   "metadata": {},
   "source": [
    "Итак, в Северной Америке:\n",
    "- наиболее популярная платформа - PS4;\n",
    "- наиболее популярный жанр - 'shooter';\n",
    "- наиболее прибыльный рейтинг - 'M'."
   ]
  },
  {
   "cell_type": "markdown",
   "metadata": {},
   "source": [
    "### Регион Europe (EU)"
   ]
  },
  {
   "cell_type": "markdown",
   "metadata": {},
   "source": [
    "#### Платформы"
   ]
  },
  {
   "cell_type": "code",
   "execution_count": 48,
   "metadata": {},
   "outputs": [
    {
     "data": {
      "image/png": "[encoded data removed]",
      "text/plain": [
       "<Figure size 504x216 with 1 Axes>"
      ]
     },
     "metadata": {
      "needs_background": "light"
     },
     "output_type": "display_data"
    }
   ],
   "source": [
    "# сгруппируем актуальные данные по платформам \n",
    "platform_eu_actual =  data.groupby('platform')['eu_sales'].sum().sort_values(ascending=False).head()\n",
    "# нарисуем гисттограмму\n",
    "platform_eu_actual.plot(kind='bar', grid=True, figsize=(7, 3), title='Топ-5 платформ в Европе (актуальные данные)');\n",
    "\n",
    "plt.xlabel('платформы')\n",
    "plt.ylabel('Продажи (млн. копий)')\n",
    "\n",
    "plt.show()"
   ]
  },
  {
   "cell_type": "code",
   "execution_count": 49,
   "metadata": {},
   "outputs": [
    {
     "name": "stdout",
     "output_type": "stream",
     "text": [
      "Доля продаж топовых платформ в Европе: \n",
      " platform\n",
      "PS4     61.859694\n",
      "XOne    21.680164\n",
      "PC       7.561713\n",
      "WiiU     5.542004\n",
      "3DS      2.897844\n",
      "Name: eu_sales, dtype: float64\n"
     ]
    }
   ],
   "source": [
    "# доля продаж платформ по актуальной таблице\n",
    "total = data['eu_sales'].sum()\n",
    "percentage_eu = platform_eu_actual / total * 100\n",
    "print('Доля продаж топовых платформ в Европе: \\n', percentage_eu)"
   ]
  },
  {
   "cell_type": "markdown",
   "metadata": {},
   "source": [
    "#### Жанры"
   ]
  },
  {
   "cell_type": "code",
   "execution_count": 50,
   "metadata": {},
   "outputs": [
    {
     "data": {
      "image/png": "[encoded data removed]",
      "text/plain": [
       "<Figure size 504x216 with 1 Axes>"
      ]
     },
     "metadata": {
      "needs_background": "light"
     },
     "output_type": "display_data"
    }
   ],
   "source": [
    "# сгруппируем актуальные данные по жанрам \n",
    "genre_eu_actual =  data.groupby('genre')['eu_sales'].sum().sort_values(ascending=False).head()\n",
    "# нарисуем гисттограмму\n",
    "genre_eu_actual.plot(kind='bar', grid=True, figsize=(7, 3), title='Топ-5 жанров в Европе (актуальные данные)');\n",
    "\n",
    "plt.xlabel('жанры')\n",
    "plt.ylabel('Продажи (млн. копий)')\n",
    "\n",
    "plt.show()"
   ]
  },
  {
   "cell_type": "code",
   "execution_count": 51,
   "metadata": {},
   "outputs": [
    {
     "name": "stdout",
     "output_type": "stream",
     "text": [
      "Доля продаж топовых жанров в Европе: \n",
      " genre\n",
      "action          25.456142\n",
      "shooter         23.114450\n",
      "sports          21.982632\n",
      "role-playing    11.405991\n",
      "racing           3.863792\n",
      "Name: eu_sales, dtype: float64\n"
     ]
    }
   ],
   "source": [
    "# доля продаж жанров по актуальной таблице\n",
    "total = data['eu_sales'].sum()\n",
    "percentage_eu = genre_eu_actual / total * 100\n",
    "print('Доля продаж топовых жанров в Европе: \\n', percentage_eu)"
   ]
  },
  {
   "cell_type": "markdown",
   "metadata": {},
   "source": [
    "#### Рейтинг ESRB"
   ]
  },
  {
   "cell_type": "code",
   "execution_count": 52,
   "metadata": {},
   "outputs": [
    {
     "data": {
      "image/png": "[encoded data removed]",
      "text/plain": [
       "<Figure size 504x216 with 1 Axes>"
      ]
     },
     "metadata": {
      "needs_background": "light"
     },
     "output_type": "display_data"
    }
   ],
   "source": [
    "# сгруппируем актуальные данные по жанрам \n",
    "rating_eu =  data.groupby('rating')['eu_sales'].sum().sort_values(ascending=False).head()\n",
    "# нарисуем гисттограмму\n",
    "rating_eu.plot(kind='bar', grid=True, figsize=(7, 3), \n",
    "               title='Топ-5 рейтингов по продажам в Европе (актуальные данные)');\n",
    "plt.xlabel('рейтинги')\n",
    "plt.ylabel('Продажи (млн. копий)')\n",
    "\n",
    "plt.show()"
   ]
  },
  {
   "cell_type": "markdown",
   "metadata": {},
   "source": [
    "Итак, в Европе:\n",
    "- наиболее популярная платформа - PS4;\n",
    "- наиболее популярный жанр - 'action';\n",
    "- наиболее прибыльный рейтинг - 'M'."
   ]
  },
  {
   "cell_type": "markdown",
   "metadata": {},
   "source": [
    "### Регион Japan (JP)"
   ]
  },
  {
   "cell_type": "markdown",
   "metadata": {},
   "source": [
    "#### Платформы"
   ]
  },
  {
   "cell_type": "code",
   "execution_count": 53,
   "metadata": {},
   "outputs": [
    {
     "data": {
      "image/png": "[encoded data removed]",
      "text/plain": [
       "<Figure size 504x216 with 1 Axes>"
      ]
     },
     "metadata": {
      "needs_background": "light"
     },
     "output_type": "display_data"
    }
   ],
   "source": [
    "# сгруппируем актуальные данные по платформам \n",
    "platform_jp_actual =  data.groupby('platform')['jp_sales'].sum().sort_values(ascending=False).head()\n",
    "# нарисуем гисттограмму\n",
    "platform_jp_actual.plot(kind='bar', grid=True, figsize=(7, 3), title='Топ-5 платформ в Японии (актуальные данные)');\n",
    "\n",
    "plt.xlabel('платформы')\n",
    "plt.ylabel('Продажи (млн. копий)')\n",
    "\n",
    "plt.show()"
   ]
  },
  {
   "cell_type": "code",
   "execution_count": 54,
   "metadata": {},
   "outputs": [
    {
     "name": "stdout",
     "output_type": "stream",
     "text": [
      "Доля продаж топовых платформ в Японии: \n",
      " platform\n",
      "PS4     39.436620\n",
      "3DS     27.434170\n",
      "WiiU    22.473974\n",
      "PSV      9.797918\n",
      "XOne     0.857318\n",
      "Name: jp_sales, dtype: float64\n"
     ]
    }
   ],
   "source": [
    "# доля продаж платформ по актуальной таблице\n",
    "total = data['jp_sales'].sum()\n",
    "percentage_jp = platform_jp_actual / total * 100\n",
    "print('Доля продаж топовых платформ в Японии: \\n', percentage_jp)"
   ]
  },
  {
   "cell_type": "markdown",
   "metadata": {},
   "source": [
    "#### Жанры"
   ]
  },
  {
   "cell_type": "code",
   "execution_count": 55,
   "metadata": {},
   "outputs": [
    {
     "data": {
      "image/png": "[encoded data removed]",
      "text/plain": [
       "<Figure size 504x216 with 1 Axes>"
      ]
     },
     "metadata": {
      "needs_background": "light"
     },
     "output_type": "display_data"
    }
   ],
   "source": [
    "# сгруппируем актуальные данные по жанрам \n",
    "genre_jp_actual =  data.groupby('genre')['jp_sales'].sum().sort_values(ascending=False).head()\n",
    "# нарисуем гисттограмму\n",
    "genre_jp_actual.plot(kind='bar', grid=True, figsize=(7, 3), title='Топ-5 жанров в Японии (актуальные данные)');\n",
    "\n",
    "plt.xlabel('жанры')\n",
    "plt.ylabel('Продажи (млн. копий)')\n",
    "\n",
    "plt.show()"
   ]
  },
  {
   "cell_type": "code",
   "execution_count": 56,
   "metadata": {},
   "outputs": [
    {
     "name": "stdout",
     "output_type": "stream",
     "text": [
      "Доля продаж топовых жанров в Японии: \n",
      " genre\n",
      "action          25.964483\n",
      "role-playing    20.453154\n",
      "shooter         18.371096\n",
      "simulation       9.552970\n",
      "platform         7.899571\n",
      "Name: jp_sales, dtype: float64\n"
     ]
    }
   ],
   "source": [
    "# доля продаж жанров по актуальной таблице\n",
    "total = data['jp_sales'].sum()\n",
    "percentage_jp = genre_jp_actual / total * 100\n",
    "print('Доля продаж топовых жанров в Японии: \\n', percentage_jp)"
   ]
  },
  {
   "cell_type": "markdown",
   "metadata": {},
   "source": [
    "#### Рейтинг ESRB"
   ]
  },
  {
   "cell_type": "code",
   "execution_count": 57,
   "metadata": {},
   "outputs": [
    {
     "data": {
      "image/png": "[encoded data removed]",
      "text/plain": [
       "<Figure size 504x216 with 1 Axes>"
      ]
     },
     "metadata": {
      "needs_background": "light"
     },
     "output_type": "display_data"
    }
   ],
   "source": [
    "# сгруппируем актуальные данные по жанрам \n",
    "rating_jp =  data.groupby('rating')['jp_sales'].sum().sort_values(ascending=False).head()\n",
    "# нарисуем гисттограмму\n",
    "rating_jp.plot(kind='bar', grid=True, figsize=(7, 3), \n",
    "               title='Топ-5 рейтингов по продажам в Японии (актуальные данные)');\n",
    "plt.xlabel('рейтинги')\n",
    "plt.ylabel('Продажи (млн. копий)')\n",
    "\n",
    "plt.show()"
   ]
  },
  {
   "cell_type": "markdown",
   "metadata": {},
   "source": [
    "Итак, в Японии:\n",
    "- наиболее популярная платформа - PS4;\n",
    "- наиболее популярный жанр - 'action';\n",
    "- наиболее прибыльный рейтинг - 'E'."
   ]
  },
  {
   "cell_type": "markdown",
   "metadata": {},
   "source": [
    "### Вывод\n",
    "Для пользователя каждого региона (NA, EU, JP) мы определили самые популярные платформы и жанры, а также проверили влияет ли рейтинг ESBR на продажи. \n",
    "Результаты получились следующие:\n",
    "\n",
    "`По платформам`:\n",
    "- в Северной Америке - PS4 (45.5%)\n",
    "- в Европе - PS4 (61.8%)\n",
    "- в Японии - PS4 (39.4%)\n",
    "\n",
    "`По жанрам`:\n",
    "- в Северной Америке - shooter (27.7%)\n",
    "- в Европе - action (25.5%)\n",
    "- в Японии - action (26%)\n",
    "\n",
    "`По рейтингу ESRB`:\n",
    "Во всех регионах, кроме Японии преимущественно покупали игры с взрослым возрастным рейтингом. **Следовательно, он влияет на продажи.** А в стране восходящего солнца лучше продаются игры категории E (для всех). Затем идут подростки (T) и взрослые (M).\n",
    "- в Северной Америке - M\n",
    "- в Европе - M\n",
    "- в Японии - E\n",
    "\n",
    "Теперь перейдём к заключительному этапу."
   ]
  },
  {
   "cell_type": "markdown",
   "metadata": {},
   "source": [
    "## Проверка гипотез"
   ]
  },
  {
   "cell_type": "markdown",
   "metadata": {},
   "source": [
    "### Гипотеза №1\n",
    "Средние пользовательские рейтинги платформ Xbox One и PC одинаковые.\n",
    "\n",
    "- `H0: cредние пользовательские рейтинги платформ Xbox One и PC одинаковые`;\n",
    "- `H1: cредние пользовательские рейтинги платформ Xbox One и PC разные`."
   ]
  },
  {
   "cell_type": "code",
   "execution_count": 58,
   "metadata": {},
   "outputs": [
    {
     "name": "stdout",
     "output_type": "stream",
     "text": [
      "p-value: 0.3280257221394691\n",
      "Не получилось отвергнуть нулевую гипотезу\n"
     ]
    }
   ],
   "source": [
    "# возьмём актуальный датасет\n",
    "hypo1_data = data[data['user_score'] != -1]\n",
    "\n",
    "# выборки\n",
    "XOne = hypo1_data[hypo1_data['platform'] == 'XOne']['user_score']\n",
    "PC = hypo1_data[hypo1_data['platform'] == 'PC']['user_score']\n",
    "\n",
    "alpha = .05 # уровень статистической значимости\n",
    "\n",
    "\n",
    "# используем метод для проверки гипотезы о равенстве \n",
    "# среднего двух генеральных совокупностей по взятым из них выборкам\n",
    "results = st.ttest_ind(XOne, PC) # дисперсия в данном случае не повлияет на результат\n",
    "\n",
    "print('p-value:', results.pvalue)\n",
    "\n",
    "if results.pvalue < alpha:\n",
    "    print('Отвергаем нулевую гипотезу')\n",
    "else:\n",
    "    print('Не получилось отвергнуть нулевую гипотезу') "
   ]
  },
  {
   "cell_type": "markdown",
   "metadata": {},
   "source": [
    "Следовательно, нулевая гипотеза остаётся, так как **нет достаточных оснований полагать, что средние пользовательские рейтинги платформ Xbox One и PC не одинаковые**. \n",
    "\n"
   ]
  },
  {
   "cell_type": "markdown",
   "metadata": {},
   "source": [
    "### Гипотеза №2\n",
    "Средние пользовательские рейтинги жанров action и sports разные.\n",
    "- `H0: средние пользовательские рейтинги жанров action и sports одинаковые`;\n",
    "- `H1: средние пользовательские рейтинги жанров action и sports разные`."
   ]
  },
  {
   "cell_type": "code",
   "execution_count": 59,
   "metadata": {},
   "outputs": [
    {
     "name": "stdout",
     "output_type": "stream",
     "text": [
      "p-value: 3.5087325539494814e-07\n",
      "Отвергаем нулевую гипотезу\n"
     ]
    }
   ],
   "source": [
    "# возьмём актуальный датасет, но уберём из него заглушки для рейтинга\n",
    "hypo2_data = data[data['user_score'] != -1]\n",
    "# выборки\n",
    "action = hypo2_data[hypo2_data['genre'] == 'action']['user_score']\n",
    "sports = hypo2_data[hypo2_data['genre'] == 'sports']['user_score']\n",
    "\n",
    "alpha = .05 # уровень статистической значимости\n",
    "\n",
    "\n",
    "# используем метод для проверки гипотезы о равенстве \n",
    "# среднего двух генеральных совокупностей по взятым из них выборкам\n",
    "results = st.ttest_ind(action, sports) # дисперсия в данном случае не повлияет на результат\n",
    "\n",
    "print('p-value:', results.pvalue)\n",
    "\n",
    "if results.pvalue < alpha:\n",
    "    print('Отвергаем нулевую гипотезу')\n",
    "else:\n",
    "    print('Не получилось отвергнуть нулевую гипотезу') "
   ]
  },
  {
   "cell_type": "markdown",
   "metadata": {},
   "source": [
    "Следовательно, мы отвергаем нулевую гипотезу. Cредние пользовательские рейтинги жанров action и sports разные! \n",
    "\n",
    "**Гипотеза верна.**"
   ]
  },
  {
   "cell_type": "markdown",
   "metadata": {},
   "source": [
    "### Вывод\n",
    "Мы проверили две гипотезы: о равенстве 'user_score' для XOne и PC, а также о различии 'user_score' для жанров action и sports. Пороговое значение alpha для обоих случаев было равно 0.05; I нулевую гипотезу мы сформулировали также, как она и была указана в задании, а II поменяли наоборот, так как изначально мы проверяем равенство средних двух ген. совокупностей по выборкам. Метод st.ttest_ind() был выбран исходя из того, что выборки независимы. \n",
    "\n",
    "По итогу II нулевая гипотеза была отвергнута, а значит средние 'user_score' для **action** и **sports** - разные."
   ]
  },
  {
   "cell_type": "markdown",
   "metadata": {},
   "source": [
    "## Общий вывод\n",
    "В самом начале перед нами стояла задача ознакомиться с датасетом и устранить все его недочёты (неправильные регистры, типы данных или пропуски). Таким образом мы сделали следующее:\n",
    "- привели названия столбцов к правильному виду;\n",
    "- привели 2 параметра к нужным типам, разобравшись с пропущенными и аномальными значениями;\n",
    "- выделили в отдельные категории пропуски в оценках игр\n",
    "\n",
    "В ходе анализа мы рассмотрели очень много различных параметров и выявили следующие вещи:\n",
    "1. Рынок компьютерных игр набрал обороты только к 1995 году, поэтому устаревшие данные можно смело отбрасывать;\n",
    "2. По графику изменений продаж по платформам можно легко увидеть закономерности их появления и угасания, а также выделить самые прибыльные из них;\n",
    "3. Период **с 2015 по 2016 год** является самым показательным для предсказания тенденций 2017 года;\n",
    "4. В эти два года самыми популярными плафтормами были **PS4 и XOne**, так как они вышли в 2013 году и начали вытеснять устаревшие модели;\n",
    "5. Отзывы пользователей и критиков слабо влияют на продажи игр для платформы PS4, но бОльшая часть из них всё равно положительные (8/10 или 80/100);\n",
    "6. Для других платформ (3DS, XOne, PC) выводы о PS4 остаются актуальными, но пользовательские оценки игр на PC гораздо более жёсткие;\n",
    "7. Жанрами с самыми высокими медианными продажами являются **[shooter, misc, sports, fighting, role-playing]**, а **[puzzle, adventure, racing, strategy, platform]** - с самыми низкими медианными продажами;\n",
    "8. По актуальным данным (2015-2016 годы) портреты пользователей регионов NA, EU и JP довольно похожы. ТОП платформа для всех - **PS4**. ТОП жанры - **shooter и action**. Также мы установили, что возрастной рейтинг влияет на продажи (**M** - самый прибыльный);\n",
    "9. Проверка I гипотезы не дала оснований для её отвержения, а II показала, что средние пользовательские оценки для **[action, sports]** - разные.\n",
    "\n",
    "**Рекомендация отделу маркетинга:** по результатам исследования рынка компьютерных игр за последние годы можно смело сказать, что рекламную компанию на 2017 год следует сосредоточить на платформах PS4 и XOne, так как они являются лидерами продаж за 2015-2016 годы. Также нужно обратить внимание на жанры shooter и action, потому что они являются самыми популярными в портретах пользователей, и игры рейтинга M, их продажи были максимальными.   "
   ]
  }
 ],
 "metadata": {
  "ExecuteTimeLog": [
   {
    "duration": 1368,
    "start_time": "2023-02-27T12:42:13.487Z"
   },
   {
    "duration": 144,
    "start_time": "2023-02-27T12:42:40.896Z"
   },
   {
    "duration": 13,
    "start_time": "2023-02-27T12:42:49.034Z"
   },
   {
    "duration": 106,
    "start_time": "2023-02-27T12:42:59.492Z"
   },
   {
    "duration": 17,
    "start_time": "2023-02-27T12:43:01.152Z"
   },
   {
    "duration": 23,
    "start_time": "2023-02-27T12:43:48.256Z"
   },
   {
    "duration": 740,
    "start_time": "2023-02-27T12:44:59.068Z"
   },
   {
    "duration": 564,
    "start_time": "2023-02-27T12:45:45.666Z"
   },
   {
    "duration": 615,
    "start_time": "2023-02-27T12:46:04.272Z"
   },
   {
    "duration": 14,
    "start_time": "2023-02-27T12:46:22.452Z"
   },
   {
    "duration": 4,
    "start_time": "2023-02-27T12:56:39.180Z"
   },
   {
    "duration": 3,
    "start_time": "2023-02-27T12:58:42.935Z"
   },
   {
    "duration": 5,
    "start_time": "2023-02-27T12:58:43.929Z"
   },
   {
    "duration": 4,
    "start_time": "2023-02-27T12:59:07.951Z"
   },
   {
    "duration": 4,
    "start_time": "2023-02-27T12:59:09.546Z"
   },
   {
    "duration": 4,
    "start_time": "2023-02-27T12:59:11.564Z"
   },
   {
    "duration": 121,
    "start_time": "2023-02-27T12:59:11.570Z"
   },
   {
    "duration": 14,
    "start_time": "2023-02-27T12:59:11.692Z"
   },
   {
    "duration": 15,
    "start_time": "2023-02-27T12:59:11.708Z"
   },
   {
    "duration": 576,
    "start_time": "2023-02-27T12:59:11.725Z"
   },
   {
    "duration": 4,
    "start_time": "2023-02-27T12:59:12.303Z"
   },
   {
    "duration": 21,
    "start_time": "2023-02-27T12:59:12.308Z"
   },
   {
    "duration": 14,
    "start_time": "2023-02-27T13:01:35.330Z"
   },
   {
    "duration": 102,
    "start_time": "2023-02-27T13:09:55.279Z"
   },
   {
    "duration": 6,
    "start_time": "2023-02-27T13:10:10.045Z"
   },
   {
    "duration": 5,
    "start_time": "2023-02-27T13:12:07.894Z"
   },
   {
    "duration": 1739,
    "start_time": "2023-02-27T13:13:29.873Z"
   },
   {
    "duration": 4,
    "start_time": "2023-02-27T13:13:41.853Z"
   },
   {
    "duration": 5,
    "start_time": "2023-02-27T13:13:43.624Z"
   },
   {
    "duration": 14,
    "start_time": "2023-02-27T13:13:45.148Z"
   },
   {
    "duration": 4,
    "start_time": "2023-02-27T13:16:02.678Z"
   },
   {
    "duration": 5,
    "start_time": "2023-02-27T13:16:12.254Z"
   },
   {
    "duration": 6,
    "start_time": "2023-02-27T13:28:15.284Z"
   },
   {
    "duration": 4,
    "start_time": "2023-02-27T13:28:58.036Z"
   },
   {
    "duration": 5,
    "start_time": "2023-02-27T13:29:21.498Z"
   },
   {
    "duration": 5,
    "start_time": "2023-02-27T13:29:32.923Z"
   },
   {
    "duration": 3,
    "start_time": "2023-02-27T14:04:38.097Z"
   },
   {
    "duration": 181,
    "start_time": "2023-02-27T14:04:38.102Z"
   },
   {
    "duration": 14,
    "start_time": "2023-02-27T14:04:38.285Z"
   },
   {
    "duration": 16,
    "start_time": "2023-02-27T14:04:38.302Z"
   },
   {
    "duration": 603,
    "start_time": "2023-02-27T14:04:38.320Z"
   },
   {
    "duration": 5,
    "start_time": "2023-02-27T14:04:38.925Z"
   },
   {
    "duration": 7,
    "start_time": "2023-02-27T14:04:38.931Z"
   },
   {
    "duration": 7,
    "start_time": "2023-02-27T14:04:38.939Z"
   },
   {
    "duration": 11,
    "start_time": "2023-02-27T14:04:38.948Z"
   },
   {
    "duration": 4,
    "start_time": "2023-02-27T14:04:38.961Z"
   },
   {
    "duration": 11,
    "start_time": "2023-02-27T14:23:18.157Z"
   },
   {
    "duration": 33,
    "start_time": "2023-02-27T14:23:26.195Z"
   },
   {
    "duration": 110,
    "start_time": "2023-02-27T14:24:29.730Z"
   },
   {
    "duration": 22,
    "start_time": "2023-02-27T14:24:48.324Z"
   },
   {
    "duration": 19,
    "start_time": "2023-02-27T14:25:21.042Z"
   },
   {
    "duration": 36,
    "start_time": "2023-02-27T14:31:17.071Z"
   },
   {
    "duration": 26,
    "start_time": "2023-02-27T14:31:24.987Z"
   },
   {
    "duration": 11,
    "start_time": "2023-02-27T14:35:54.254Z"
   },
   {
    "duration": 9,
    "start_time": "2023-02-27T14:35:58.769Z"
   },
   {
    "duration": 7,
    "start_time": "2023-02-27T15:00:35.261Z"
   },
   {
    "duration": 10,
    "start_time": "2023-02-27T15:03:11.223Z"
   },
   {
    "duration": 9,
    "start_time": "2023-02-27T15:27:14.114Z"
   },
   {
    "duration": 10,
    "start_time": "2023-02-27T15:27:20.557Z"
   },
   {
    "duration": 16,
    "start_time": "2023-02-27T15:30:06.387Z"
   },
   {
    "duration": 31,
    "start_time": "2023-02-27T15:30:29.162Z"
   },
   {
    "duration": 26,
    "start_time": "2023-02-27T15:30:41.689Z"
   },
   {
    "duration": 16,
    "start_time": "2023-02-27T15:32:24.199Z"
   },
   {
    "duration": 20,
    "start_time": "2023-02-27T15:33:42.596Z"
   },
   {
    "duration": 3,
    "start_time": "2023-02-27T15:33:46.252Z"
   },
   {
    "duration": 112,
    "start_time": "2023-02-27T15:33:46.257Z"
   },
   {
    "duration": 16,
    "start_time": "2023-02-27T15:33:46.371Z"
   },
   {
    "duration": 17,
    "start_time": "2023-02-27T15:33:46.388Z"
   },
   {
    "duration": 676,
    "start_time": "2023-02-27T15:33:46.407Z"
   },
   {
    "duration": 5,
    "start_time": "2023-02-27T15:33:47.085Z"
   },
   {
    "duration": 9,
    "start_time": "2023-02-27T15:33:47.092Z"
   },
   {
    "duration": 11,
    "start_time": "2023-02-27T15:33:47.104Z"
   },
   {
    "duration": 7,
    "start_time": "2023-02-27T15:33:47.117Z"
   },
   {
    "duration": 19,
    "start_time": "2023-02-27T15:33:47.126Z"
   },
   {
    "duration": 34,
    "start_time": "2023-02-27T15:33:47.148Z"
   },
   {
    "duration": 34,
    "start_time": "2023-02-27T15:33:47.183Z"
   },
   {
    "duration": 10,
    "start_time": "2023-02-27T15:33:47.218Z"
   },
   {
    "duration": 12,
    "start_time": "2023-02-27T15:33:47.231Z"
   },
   {
    "duration": 22,
    "start_time": "2023-02-27T15:33:47.245Z"
   },
   {
    "duration": 31,
    "start_time": "2023-02-27T15:33:47.268Z"
   },
   {
    "duration": 3,
    "start_time": "2023-02-27T15:33:58.871Z"
   },
   {
    "duration": 15,
    "start_time": "2023-02-27T15:34:29.727Z"
   },
   {
    "duration": 20,
    "start_time": "2023-02-27T15:44:20.641Z"
   },
   {
    "duration": 18,
    "start_time": "2023-02-27T15:44:31.553Z"
   },
   {
    "duration": 9,
    "start_time": "2023-02-27T15:59:19.578Z"
   },
   {
    "duration": 15,
    "start_time": "2023-02-27T15:59:27.222Z"
   },
   {
    "duration": 147,
    "start_time": "2023-02-27T15:59:42.612Z"
   },
   {
    "duration": 156,
    "start_time": "2023-02-27T15:59:49.189Z"
   },
   {
    "duration": 153,
    "start_time": "2023-02-27T16:00:00.180Z"
   },
   {
    "duration": 152,
    "start_time": "2023-02-27T16:00:09.810Z"
   },
   {
    "duration": 292,
    "start_time": "2023-02-27T16:02:00.893Z"
   },
   {
    "duration": 154,
    "start_time": "2023-02-27T16:02:10.908Z"
   },
   {
    "duration": 147,
    "start_time": "2023-02-27T16:02:16.069Z"
   },
   {
    "duration": 151,
    "start_time": "2023-02-27T16:02:54.616Z"
   },
   {
    "duration": 190,
    "start_time": "2023-02-27T16:08:04.709Z"
   },
   {
    "duration": 243,
    "start_time": "2023-02-27T16:08:19.051Z"
   },
   {
    "duration": 16,
    "start_time": "2023-02-27T16:56:05.155Z"
   },
   {
    "duration": 15,
    "start_time": "2023-02-27T16:57:20.977Z"
   },
   {
    "duration": 137,
    "start_time": "2023-02-27T16:57:33.368Z"
   },
   {
    "duration": 151,
    "start_time": "2023-02-27T17:01:24.426Z"
   },
   {
    "duration": 16,
    "start_time": "2023-02-27T17:03:57.364Z"
   },
   {
    "duration": 61,
    "start_time": "2023-02-27T17:04:05.513Z"
   },
   {
    "duration": 479,
    "start_time": "2023-02-27T17:04:24.518Z"
   },
   {
    "duration": 533,
    "start_time": "2023-02-27T17:04:52.754Z"
   },
   {
    "duration": 16,
    "start_time": "2023-02-27T17:07:58.639Z"
   },
   {
    "duration": 12,
    "start_time": "2023-02-27T17:08:16.141Z"
   },
   {
    "duration": 20,
    "start_time": "2023-02-27T17:08:26.118Z"
   },
   {
    "duration": 18,
    "start_time": "2023-02-27T17:08:56.001Z"
   },
   {
    "duration": 265,
    "start_time": "2023-02-27T17:09:02.122Z"
   },
   {
    "duration": 143,
    "start_time": "2023-02-27T17:09:20.095Z"
   },
   {
    "duration": 21,
    "start_time": "2023-02-27T17:09:51.516Z"
   },
   {
    "duration": 11,
    "start_time": "2023-02-27T17:30:20.473Z"
   },
   {
    "duration": 517,
    "start_time": "2023-02-27T17:30:31.500Z"
   },
   {
    "duration": 9,
    "start_time": "2023-02-27T17:32:07.576Z"
   },
   {
    "duration": 560,
    "start_time": "2023-02-27T17:32:10.152Z"
   },
   {
    "duration": 6,
    "start_time": "2023-02-27T17:33:56.076Z"
   },
   {
    "duration": 325,
    "start_time": "2023-02-27T17:33:57.166Z"
   },
   {
    "duration": 107,
    "start_time": "2023-02-27T17:35:30.324Z"
   },
   {
    "duration": 303,
    "start_time": "2023-02-27T17:35:33.607Z"
   },
   {
    "duration": 348,
    "start_time": "2023-02-27T17:36:01.873Z"
   },
   {
    "duration": 330,
    "start_time": "2023-02-27T17:44:44.106Z"
   },
   {
    "duration": 15,
    "start_time": "2023-02-27T17:45:41.849Z"
   },
   {
    "duration": 16,
    "start_time": "2023-02-27T17:45:55.053Z"
   },
   {
    "duration": 13,
    "start_time": "2023-02-27T17:46:09.725Z"
   },
   {
    "duration": 14,
    "start_time": "2023-02-27T17:46:21.472Z"
   },
   {
    "duration": 20,
    "start_time": "2023-02-27T17:46:30.539Z"
   },
   {
    "duration": 15,
    "start_time": "2023-02-27T17:47:53.400Z"
   },
   {
    "duration": 27,
    "start_time": "2023-02-27T18:02:55.881Z"
   },
   {
    "duration": 16,
    "start_time": "2023-02-27T18:03:38.966Z"
   },
   {
    "duration": 24,
    "start_time": "2023-02-27T18:04:12.285Z"
   },
   {
    "duration": 12,
    "start_time": "2023-02-27T18:04:23.546Z"
   },
   {
    "duration": 12,
    "start_time": "2023-02-27T18:05:05.774Z"
   },
   {
    "duration": 12,
    "start_time": "2023-02-27T18:05:23.680Z"
   },
   {
    "duration": 3,
    "start_time": "2023-02-27T18:05:27.109Z"
   },
   {
    "duration": 147,
    "start_time": "2023-02-27T18:05:27.115Z"
   },
   {
    "duration": 17,
    "start_time": "2023-02-27T18:05:27.264Z"
   },
   {
    "duration": 15,
    "start_time": "2023-02-27T18:05:27.283Z"
   },
   {
    "duration": 636,
    "start_time": "2023-02-27T18:05:27.300Z"
   },
   {
    "duration": 4,
    "start_time": "2023-02-27T18:05:27.937Z"
   },
   {
    "duration": 7,
    "start_time": "2023-02-27T18:05:27.943Z"
   },
   {
    "duration": 10,
    "start_time": "2023-02-27T18:05:27.951Z"
   },
   {
    "duration": 8,
    "start_time": "2023-02-27T18:05:27.963Z"
   },
   {
    "duration": 13,
    "start_time": "2023-02-27T18:05:27.973Z"
   },
   {
    "duration": 34,
    "start_time": "2023-02-27T18:05:28.000Z"
   },
   {
    "duration": 9,
    "start_time": "2023-02-27T18:05:28.036Z"
   },
   {
    "duration": 16,
    "start_time": "2023-02-27T18:05:28.047Z"
   },
   {
    "duration": 10,
    "start_time": "2023-02-27T18:05:28.100Z"
   },
   {
    "duration": 22,
    "start_time": "2023-02-27T18:05:28.112Z"
   },
   {
    "duration": 8,
    "start_time": "2023-02-27T18:05:28.135Z"
   },
   {
    "duration": 17,
    "start_time": "2023-02-27T18:05:28.144Z"
   },
   {
    "duration": 50,
    "start_time": "2023-02-27T18:05:28.163Z"
   },
   {
    "duration": 209,
    "start_time": "2023-02-27T18:05:28.215Z"
   },
   {
    "duration": 9,
    "start_time": "2023-02-27T18:05:28.426Z"
   },
   {
    "duration": 370,
    "start_time": "2023-02-27T18:05:28.437Z"
   },
   {
    "duration": 19,
    "start_time": "2023-02-27T18:05:28.809Z"
   },
   {
    "duration": 17,
    "start_time": "2023-02-27T18:05:28.829Z"
   },
   {
    "duration": 12,
    "start_time": "2023-02-27T18:36:59.084Z"
   },
   {
    "duration": 21,
    "start_time": "2023-02-27T18:37:12.571Z"
   },
   {
    "duration": 4,
    "start_time": "2023-02-27T18:37:15.974Z"
   },
   {
    "duration": 142,
    "start_time": "2023-02-27T18:37:15.980Z"
   },
   {
    "duration": 14,
    "start_time": "2023-02-27T18:37:16.124Z"
   },
   {
    "duration": 27,
    "start_time": "2023-02-27T18:37:16.140Z"
   },
   {
    "duration": 819,
    "start_time": "2023-02-27T18:37:16.170Z"
   },
   {
    "duration": 18,
    "start_time": "2023-02-27T18:37:16.991Z"
   },
   {
    "duration": 17,
    "start_time": "2023-02-27T18:37:17.012Z"
   },
   {
    "duration": 10,
    "start_time": "2023-02-27T18:37:17.031Z"
   },
   {
    "duration": 11,
    "start_time": "2023-02-27T18:37:17.042Z"
   },
   {
    "duration": 8,
    "start_time": "2023-02-27T18:37:17.055Z"
   },
   {
    "duration": 64,
    "start_time": "2023-02-27T18:37:17.065Z"
   },
   {
    "duration": 12,
    "start_time": "2023-02-27T18:37:17.131Z"
   },
   {
    "duration": 22,
    "start_time": "2023-02-27T18:37:17.146Z"
   },
   {
    "duration": 25,
    "start_time": "2023-02-27T18:37:17.170Z"
   },
   {
    "duration": 52,
    "start_time": "2023-02-27T18:37:17.197Z"
   },
   {
    "duration": 9,
    "start_time": "2023-02-27T18:37:17.251Z"
   },
   {
    "duration": 19,
    "start_time": "2023-02-27T18:37:17.262Z"
   },
   {
    "duration": 26,
    "start_time": "2023-02-27T18:37:17.284Z"
   },
   {
    "duration": 199,
    "start_time": "2023-02-27T18:37:17.312Z"
   },
   {
    "duration": 18,
    "start_time": "2023-02-27T18:37:17.513Z"
   },
   {
    "duration": 362,
    "start_time": "2023-02-27T18:37:17.532Z"
   },
   {
    "duration": 24,
    "start_time": "2023-02-27T18:37:17.896Z"
   },
   {
    "duration": 52,
    "start_time": "2023-02-27T18:37:17.922Z"
   },
   {
    "duration": 7,
    "start_time": "2023-02-27T18:38:34.325Z"
   },
   {
    "duration": 40,
    "start_time": "2023-02-27T18:38:47.118Z"
   },
   {
    "duration": 29,
    "start_time": "2023-02-27T18:39:22.797Z"
   },
   {
    "duration": 3,
    "start_time": "2023-02-27T18:39:26.837Z"
   },
   {
    "duration": 126,
    "start_time": "2023-02-27T18:39:26.842Z"
   },
   {
    "duration": 22,
    "start_time": "2023-02-27T18:39:26.970Z"
   },
   {
    "duration": 16,
    "start_time": "2023-02-27T18:39:26.995Z"
   },
   {
    "duration": 693,
    "start_time": "2023-02-27T18:39:27.014Z"
   },
   {
    "duration": 5,
    "start_time": "2023-02-27T18:39:27.709Z"
   },
   {
    "duration": 9,
    "start_time": "2023-02-27T18:39:27.716Z"
   },
   {
    "duration": 13,
    "start_time": "2023-02-27T18:39:27.727Z"
   },
   {
    "duration": 14,
    "start_time": "2023-02-27T18:39:27.742Z"
   },
   {
    "duration": 9,
    "start_time": "2023-02-27T18:39:27.758Z"
   },
   {
    "duration": 66,
    "start_time": "2023-02-27T18:39:27.769Z"
   },
   {
    "duration": 13,
    "start_time": "2023-02-27T18:39:27.837Z"
   },
   {
    "duration": 52,
    "start_time": "2023-02-27T18:39:27.852Z"
   },
   {
    "duration": 11,
    "start_time": "2023-02-27T18:39:27.907Z"
   },
   {
    "duration": 21,
    "start_time": "2023-02-27T18:39:27.920Z"
   },
   {
    "duration": 8,
    "start_time": "2023-02-27T18:39:27.943Z"
   },
   {
    "duration": 53,
    "start_time": "2023-02-27T18:39:27.953Z"
   },
   {
    "duration": 20,
    "start_time": "2023-02-27T18:39:28.008Z"
   },
   {
    "duration": 207,
    "start_time": "2023-02-27T18:39:28.030Z"
   },
   {
    "duration": 7,
    "start_time": "2023-02-27T18:39:28.239Z"
   },
   {
    "duration": 391,
    "start_time": "2023-02-27T18:39:28.248Z"
   },
   {
    "duration": 17,
    "start_time": "2023-02-27T18:39:28.641Z"
   },
   {
    "duration": 52,
    "start_time": "2023-02-27T18:39:28.659Z"
   },
   {
    "duration": 3,
    "start_time": "2023-02-27T18:39:50.345Z"
   },
   {
    "duration": 107,
    "start_time": "2023-02-27T18:39:50.350Z"
   },
   {
    "duration": 14,
    "start_time": "2023-02-27T18:39:50.459Z"
   },
   {
    "duration": 21,
    "start_time": "2023-02-27T18:39:50.477Z"
   },
   {
    "duration": 728,
    "start_time": "2023-02-27T18:39:50.499Z"
   },
   {
    "duration": 5,
    "start_time": "2023-02-27T18:39:51.229Z"
   },
   {
    "duration": 8,
    "start_time": "2023-02-27T18:39:51.236Z"
   },
   {
    "duration": 19,
    "start_time": "2023-02-27T18:39:51.246Z"
   },
   {
    "duration": 16,
    "start_time": "2023-02-27T18:39:51.267Z"
   },
   {
    "duration": 24,
    "start_time": "2023-02-27T18:39:51.286Z"
   },
   {
    "duration": 81,
    "start_time": "2023-02-27T18:39:51.312Z"
   },
   {
    "duration": 9,
    "start_time": "2023-02-27T18:39:51.394Z"
   },
   {
    "duration": 17,
    "start_time": "2023-02-27T18:39:51.405Z"
   },
   {
    "duration": 25,
    "start_time": "2023-02-27T18:39:51.424Z"
   },
   {
    "duration": 25,
    "start_time": "2023-02-27T18:39:51.450Z"
   },
   {
    "duration": 7,
    "start_time": "2023-02-27T18:39:51.477Z"
   },
   {
    "duration": 27,
    "start_time": "2023-02-27T18:39:51.485Z"
   },
   {
    "duration": 25,
    "start_time": "2023-02-27T18:39:51.514Z"
   },
   {
    "duration": 190,
    "start_time": "2023-02-27T18:39:51.540Z"
   },
   {
    "duration": 8,
    "start_time": "2023-02-27T18:39:51.734Z"
   },
   {
    "duration": 350,
    "start_time": "2023-02-27T18:39:51.744Z"
   },
   {
    "duration": 18,
    "start_time": "2023-02-27T18:39:52.096Z"
   },
   {
    "duration": 41,
    "start_time": "2023-02-27T18:39:52.116Z"
   },
   {
    "duration": 228,
    "start_time": "2023-02-27T18:40:10.398Z"
   },
   {
    "duration": 215,
    "start_time": "2023-02-27T18:41:16.169Z"
   },
   {
    "duration": 5,
    "start_time": "2023-02-27T18:41:43.247Z"
   },
   {
    "duration": 110,
    "start_time": "2023-02-27T18:41:43.255Z"
   },
   {
    "duration": 18,
    "start_time": "2023-02-27T18:41:43.367Z"
   },
   {
    "duration": 14,
    "start_time": "2023-02-27T18:41:43.387Z"
   },
   {
    "duration": 658,
    "start_time": "2023-02-27T18:41:43.403Z"
   },
   {
    "duration": 5,
    "start_time": "2023-02-27T18:41:44.063Z"
   },
   {
    "duration": 10,
    "start_time": "2023-02-27T18:41:44.070Z"
   },
   {
    "duration": 19,
    "start_time": "2023-02-27T18:41:44.082Z"
   },
   {
    "duration": 12,
    "start_time": "2023-02-27T18:41:44.103Z"
   },
   {
    "duration": 5,
    "start_time": "2023-02-27T18:41:44.117Z"
   },
   {
    "duration": 75,
    "start_time": "2023-02-27T18:41:44.124Z"
   },
   {
    "duration": 10,
    "start_time": "2023-02-27T18:41:44.201Z"
   },
   {
    "duration": 16,
    "start_time": "2023-02-27T18:41:44.213Z"
   },
   {
    "duration": 16,
    "start_time": "2023-02-27T18:41:44.232Z"
   },
   {
    "duration": 26,
    "start_time": "2023-02-27T18:41:44.249Z"
   },
   {
    "duration": 24,
    "start_time": "2023-02-27T18:41:44.277Z"
   },
   {
    "duration": 14,
    "start_time": "2023-02-27T18:41:44.303Z"
   },
   {
    "duration": 18,
    "start_time": "2023-02-27T18:41:44.319Z"
   },
   {
    "duration": 211,
    "start_time": "2023-02-27T18:41:44.338Z"
   },
   {
    "duration": 10,
    "start_time": "2023-02-27T18:41:44.551Z"
   },
   {
    "duration": 464,
    "start_time": "2023-02-27T18:41:44.563Z"
   },
   {
    "duration": 18,
    "start_time": "2023-02-27T18:41:45.028Z"
   },
   {
    "duration": 389,
    "start_time": "2023-02-27T18:41:45.047Z"
   },
   {
    "duration": 246,
    "start_time": "2023-02-27T18:44:28.060Z"
   },
   {
    "duration": 224,
    "start_time": "2023-02-27T18:45:24.462Z"
   },
   {
    "duration": 226,
    "start_time": "2023-02-27T18:45:35.723Z"
   },
   {
    "duration": 226,
    "start_time": "2023-02-27T18:45:42.994Z"
   },
   {
    "duration": 182,
    "start_time": "2023-02-27T18:46:06.306Z"
   },
   {
    "duration": 162,
    "start_time": "2023-02-27T18:46:19.594Z"
   },
   {
    "duration": 154,
    "start_time": "2023-02-27T18:46:22.198Z"
   },
   {
    "duration": 3,
    "start_time": "2023-02-27T18:46:30.976Z"
   },
   {
    "duration": 184,
    "start_time": "2023-02-27T18:46:30.982Z"
   },
   {
    "duration": 16,
    "start_time": "2023-02-27T18:46:31.168Z"
   },
   {
    "duration": 59,
    "start_time": "2023-02-27T18:46:31.186Z"
   },
   {
    "duration": 662,
    "start_time": "2023-02-27T18:46:31.246Z"
   },
   {
    "duration": 7,
    "start_time": "2023-02-27T18:46:31.910Z"
   },
   {
    "duration": 37,
    "start_time": "2023-02-27T18:46:31.918Z"
   },
   {
    "duration": 36,
    "start_time": "2023-02-27T18:46:31.958Z"
   },
   {
    "duration": 30,
    "start_time": "2023-02-27T18:46:31.996Z"
   },
   {
    "duration": 36,
    "start_time": "2023-02-27T18:46:32.029Z"
   },
   {
    "duration": 64,
    "start_time": "2023-02-27T18:46:32.067Z"
   },
   {
    "duration": 8,
    "start_time": "2023-02-27T18:46:32.133Z"
   },
   {
    "duration": 14,
    "start_time": "2023-02-27T18:46:32.142Z"
   },
   {
    "duration": 41,
    "start_time": "2023-02-27T18:46:32.158Z"
   },
   {
    "duration": 26,
    "start_time": "2023-02-27T18:46:32.201Z"
   },
   {
    "duration": 16,
    "start_time": "2023-02-27T18:46:32.229Z"
   },
   {
    "duration": 152,
    "start_time": "2023-02-27T18:46:32.247Z"
   },
   {
    "duration": 26,
    "start_time": "2023-02-27T18:46:32.401Z"
   },
   {
    "duration": 197,
    "start_time": "2023-02-27T18:46:32.429Z"
   },
   {
    "duration": 7,
    "start_time": "2023-02-27T18:46:32.628Z"
   },
   {
    "duration": 353,
    "start_time": "2023-02-27T18:46:32.637Z"
   },
   {
    "duration": 22,
    "start_time": "2023-02-27T18:46:32.991Z"
   },
   {
    "duration": 229,
    "start_time": "2023-02-27T18:46:33.014Z"
   },
   {
    "duration": 241,
    "start_time": "2023-02-27T18:50:50.513Z"
   },
   {
    "duration": 600,
    "start_time": "2023-02-27T19:32:54.918Z"
   },
   {
    "duration": 576,
    "start_time": "2023-02-27T19:33:11.517Z"
   },
   {
    "duration": 600,
    "start_time": "2023-02-27T19:33:19.725Z"
   },
   {
    "duration": 39,
    "start_time": "2023-02-27T20:03:32.623Z"
   },
   {
    "duration": 771,
    "start_time": "2023-02-27T20:08:29.056Z"
   },
   {
    "duration": 371,
    "start_time": "2023-02-27T20:08:35.639Z"
   },
   {
    "duration": 3,
    "start_time": "2023-02-27T20:09:07.247Z"
   },
   {
    "duration": 123,
    "start_time": "2023-02-27T20:09:07.252Z"
   },
   {
    "duration": 15,
    "start_time": "2023-02-27T20:09:07.377Z"
   },
   {
    "duration": 32,
    "start_time": "2023-02-27T20:09:07.394Z"
   },
   {
    "duration": 659,
    "start_time": "2023-02-27T20:09:07.429Z"
   },
   {
    "duration": 5,
    "start_time": "2023-02-27T20:09:08.090Z"
   },
   {
    "duration": 13,
    "start_time": "2023-02-27T20:09:08.100Z"
   },
   {
    "duration": 13,
    "start_time": "2023-02-27T20:09:08.116Z"
   },
   {
    "duration": 11,
    "start_time": "2023-02-27T20:09:08.131Z"
   },
   {
    "duration": 16,
    "start_time": "2023-02-27T20:09:08.145Z"
   },
   {
    "duration": 54,
    "start_time": "2023-02-27T20:09:08.165Z"
   },
   {
    "duration": 8,
    "start_time": "2023-02-27T20:09:08.221Z"
   },
   {
    "duration": 15,
    "start_time": "2023-02-27T20:09:08.231Z"
   },
   {
    "duration": 10,
    "start_time": "2023-02-27T20:09:08.249Z"
   },
   {
    "duration": 58,
    "start_time": "2023-02-27T20:09:08.261Z"
   },
   {
    "duration": 9,
    "start_time": "2023-02-27T20:09:08.322Z"
   },
   {
    "duration": 27,
    "start_time": "2023-02-27T20:09:08.333Z"
   },
   {
    "duration": 46,
    "start_time": "2023-02-27T20:09:08.363Z"
   },
   {
    "duration": 215,
    "start_time": "2023-02-27T20:09:08.412Z"
   },
   {
    "duration": 9,
    "start_time": "2023-02-27T20:09:08.629Z"
   },
   {
    "duration": 363,
    "start_time": "2023-02-27T20:09:08.640Z"
   },
   {
    "duration": 15,
    "start_time": "2023-02-27T20:09:09.005Z"
   },
   {
    "duration": 262,
    "start_time": "2023-02-27T20:09:09.022Z"
   },
   {
    "duration": 587,
    "start_time": "2023-02-27T20:09:09.286Z"
   },
   {
    "duration": 387,
    "start_time": "2023-02-27T20:09:09.875Z"
   },
   {
    "duration": 457,
    "start_time": "2023-02-27T20:09:43.225Z"
   },
   {
    "duration": 265,
    "start_time": "2023-02-27T20:18:59.447Z"
   },
   {
    "duration": 262,
    "start_time": "2023-02-27T20:19:02.462Z"
   },
   {
    "duration": 47,
    "start_time": "2023-02-27T20:22:07.534Z"
   },
   {
    "duration": 7,
    "start_time": "2023-02-27T20:22:13.949Z"
   },
   {
    "duration": 243,
    "start_time": "2023-02-27T20:22:16.891Z"
   },
   {
    "duration": 3,
    "start_time": "2023-02-27T20:22:22.234Z"
   },
   {
    "duration": 135,
    "start_time": "2023-02-27T20:22:22.241Z"
   },
   {
    "duration": 15,
    "start_time": "2023-02-27T20:22:22.378Z"
   },
   {
    "duration": 17,
    "start_time": "2023-02-27T20:22:22.395Z"
   },
   {
    "duration": 585,
    "start_time": "2023-02-27T20:22:22.414Z"
   },
   {
    "duration": 4,
    "start_time": "2023-02-27T20:22:23.000Z"
   },
   {
    "duration": 8,
    "start_time": "2023-02-27T20:22:23.006Z"
   },
   {
    "duration": 6,
    "start_time": "2023-02-27T20:22:23.016Z"
   },
   {
    "duration": 21,
    "start_time": "2023-02-27T20:22:23.024Z"
   },
   {
    "duration": 7,
    "start_time": "2023-02-27T20:22:23.047Z"
   },
   {
    "duration": 50,
    "start_time": "2023-02-27T20:22:23.057Z"
   },
   {
    "duration": 8,
    "start_time": "2023-02-27T20:22:23.109Z"
   },
   {
    "duration": 18,
    "start_time": "2023-02-27T20:22:23.119Z"
   },
   {
    "duration": 9,
    "start_time": "2023-02-27T20:22:23.140Z"
   },
   {
    "duration": 25,
    "start_time": "2023-02-27T20:22:23.151Z"
   },
   {
    "duration": 27,
    "start_time": "2023-02-27T20:22:23.177Z"
   },
   {
    "duration": 14,
    "start_time": "2023-02-27T20:22:23.205Z"
   },
   {
    "duration": 18,
    "start_time": "2023-02-27T20:22:23.221Z"
   },
   {
    "duration": 193,
    "start_time": "2023-02-27T20:22:23.240Z"
   },
   {
    "duration": 6,
    "start_time": "2023-02-27T20:22:23.435Z"
   },
   {
    "duration": 455,
    "start_time": "2023-02-27T20:22:23.443Z"
   },
   {
    "duration": 17,
    "start_time": "2023-02-27T20:22:23.901Z"
   },
   {
    "duration": 285,
    "start_time": "2023-02-27T20:22:23.921Z"
   },
   {
    "duration": 536,
    "start_time": "2023-02-27T20:22:24.207Z"
   },
   {
    "duration": 297,
    "start_time": "2023-02-27T20:22:24.745Z"
   },
   {
    "duration": 6,
    "start_time": "2023-02-27T20:22:25.044Z"
   },
   {
    "duration": 253,
    "start_time": "2023-02-27T20:22:25.051Z"
   },
   {
    "duration": 136,
    "start_time": "2023-02-27T20:22:52.271Z"
   },
   {
    "duration": 185,
    "start_time": "2023-02-27T20:23:28.124Z"
   },
   {
    "duration": 162,
    "start_time": "2023-02-27T20:24:01.465Z"
   },
   {
    "duration": 13,
    "start_time": "2023-02-27T20:25:37.089Z"
   },
   {
    "duration": 13,
    "start_time": "2023-02-27T20:25:45.420Z"
   },
   {
    "duration": 18,
    "start_time": "2023-02-27T20:25:50.484Z"
   },
   {
    "duration": 14,
    "start_time": "2023-02-27T20:26:06.406Z"
   },
   {
    "duration": 8,
    "start_time": "2023-02-27T20:26:21.923Z"
   },
   {
    "duration": 42,
    "start_time": "2023-02-27T20:26:25.453Z"
   },
   {
    "duration": 20,
    "start_time": "2023-02-27T20:26:31.967Z"
   },
   {
    "duration": 17,
    "start_time": "2023-02-27T20:26:41.602Z"
   },
   {
    "duration": 19,
    "start_time": "2023-02-27T20:27:03.734Z"
   },
   {
    "duration": 4,
    "start_time": "2023-02-27T20:27:25.187Z"
   },
   {
    "duration": 7,
    "start_time": "2023-02-27T20:27:32.278Z"
   },
   {
    "duration": 21,
    "start_time": "2023-02-27T20:27:39.353Z"
   },
   {
    "duration": 137,
    "start_time": "2023-02-27T20:28:55.212Z"
   },
   {
    "duration": 130,
    "start_time": "2023-02-27T20:54:20.008Z"
   },
   {
    "duration": 131,
    "start_time": "2023-02-27T20:54:26.454Z"
   },
   {
    "duration": 261,
    "start_time": "2023-02-27T20:54:38.818Z"
   },
   {
    "duration": 159,
    "start_time": "2023-02-27T20:54:45.453Z"
   },
   {
    "duration": 183,
    "start_time": "2023-02-27T20:55:01.471Z"
   },
   {
    "duration": 153,
    "start_time": "2023-02-27T20:55:15.189Z"
   },
   {
    "duration": 133,
    "start_time": "2023-02-27T20:55:30.762Z"
   },
   {
    "duration": 147,
    "start_time": "2023-02-27T20:57:25.093Z"
   },
   {
    "duration": 169,
    "start_time": "2023-02-27T20:57:47.093Z"
   },
   {
    "duration": 143,
    "start_time": "2023-02-27T20:57:48.276Z"
   },
   {
    "duration": 3,
    "start_time": "2023-02-27T21:09:06.357Z"
   },
   {
    "duration": 99,
    "start_time": "2023-02-27T21:09:06.362Z"
   },
   {
    "duration": 16,
    "start_time": "2023-02-27T21:09:06.463Z"
   },
   {
    "duration": 15,
    "start_time": "2023-02-27T21:09:06.481Z"
   },
   {
    "duration": 636,
    "start_time": "2023-02-27T21:09:06.498Z"
   },
   {
    "duration": 4,
    "start_time": "2023-02-27T21:09:07.136Z"
   },
   {
    "duration": 18,
    "start_time": "2023-02-27T21:09:07.143Z"
   },
   {
    "duration": 19,
    "start_time": "2023-02-27T21:09:07.163Z"
   },
   {
    "duration": 14,
    "start_time": "2023-02-27T21:09:07.183Z"
   },
   {
    "duration": 6,
    "start_time": "2023-02-27T21:09:07.200Z"
   },
   {
    "duration": 34,
    "start_time": "2023-02-27T21:09:07.208Z"
   },
   {
    "duration": 9,
    "start_time": "2023-02-27T21:09:07.244Z"
   },
   {
    "duration": 45,
    "start_time": "2023-02-27T21:09:07.255Z"
   },
   {
    "duration": 10,
    "start_time": "2023-02-27T21:09:07.302Z"
   },
   {
    "duration": 22,
    "start_time": "2023-02-27T21:09:07.314Z"
   },
   {
    "duration": 7,
    "start_time": "2023-02-27T21:09:07.337Z"
   },
   {
    "duration": 17,
    "start_time": "2023-02-27T21:09:07.345Z"
   },
   {
    "duration": 49,
    "start_time": "2023-02-27T21:09:07.364Z"
   },
   {
    "duration": 167,
    "start_time": "2023-02-27T21:09:07.414Z"
   },
   {
    "duration": 16,
    "start_time": "2023-02-27T21:09:07.583Z"
   },
   {
    "duration": 338,
    "start_time": "2023-02-27T21:09:07.601Z"
   },
   {
    "duration": 14,
    "start_time": "2023-02-27T21:09:07.941Z"
   },
   {
    "duration": 348,
    "start_time": "2023-02-27T21:09:07.957Z"
   },
   {
    "duration": 550,
    "start_time": "2023-02-27T21:09:08.308Z"
   },
   {
    "duration": 313,
    "start_time": "2023-02-27T21:09:08.860Z"
   },
   {
    "duration": 6,
    "start_time": "2023-02-27T21:09:09.175Z"
   },
   {
    "duration": 24,
    "start_time": "2023-02-27T21:09:09.183Z"
   },
   {
    "duration": 157,
    "start_time": "2023-02-27T21:09:09.209Z"
   },
   {
    "duration": 144,
    "start_time": "2023-02-27T21:09:09.367Z"
   },
   {
    "duration": 147,
    "start_time": "2023-02-27T21:09:09.512Z"
   },
   {
    "duration": 8,
    "start_time": "2023-02-27T21:09:09.660Z"
   },
   {
    "duration": 8,
    "start_time": "2023-02-27T21:09:29.826Z"
   },
   {
    "duration": 8,
    "start_time": "2023-02-27T21:09:46.164Z"
   },
   {
    "duration": 11,
    "start_time": "2023-02-27T21:15:24.049Z"
   },
   {
    "duration": 10,
    "start_time": "2023-02-27T21:16:01.983Z"
   },
   {
    "duration": 19,
    "start_time": "2023-02-27T21:50:41.966Z"
   },
   {
    "duration": 84,
    "start_time": "2023-02-27T21:50:48.331Z"
   },
   {
    "duration": 466,
    "start_time": "2023-02-27T21:55:54.494Z"
   },
   {
    "duration": 696,
    "start_time": "2023-02-27T21:56:01.005Z"
   },
   {
    "duration": 490,
    "start_time": "2023-02-27T21:56:09.091Z"
   },
   {
    "duration": 674,
    "start_time": "2023-02-27T21:56:19.820Z"
   },
   {
    "duration": 508,
    "start_time": "2023-02-27T21:56:25.503Z"
   },
   {
    "duration": 483,
    "start_time": "2023-02-27T21:56:33.487Z"
   },
   {
    "duration": 699,
    "start_time": "2023-02-27T22:00:42.090Z"
   },
   {
    "duration": 541,
    "start_time": "2023-02-27T22:00:49.713Z"
   },
   {
    "duration": 144,
    "start_time": "2023-02-27T22:01:59.197Z"
   },
   {
    "duration": 128,
    "start_time": "2023-02-27T22:02:06.345Z"
   },
   {
    "duration": 718,
    "start_time": "2023-02-27T22:02:24.004Z"
   },
   {
    "duration": 528,
    "start_time": "2023-02-27T22:03:37.034Z"
   },
   {
    "duration": 10,
    "start_time": "2023-02-27T22:18:41.081Z"
   },
   {
    "duration": 127,
    "start_time": "2023-02-27T22:18:47.239Z"
   },
   {
    "duration": 1167,
    "start_time": "2023-02-27T22:21:48.397Z"
   },
   {
    "duration": 102,
    "start_time": "2023-02-27T22:21:49.566Z"
   },
   {
    "duration": 16,
    "start_time": "2023-02-27T22:21:49.669Z"
   },
   {
    "duration": 18,
    "start_time": "2023-02-27T22:21:49.687Z"
   },
   {
    "duration": 613,
    "start_time": "2023-02-27T22:21:49.706Z"
   },
   {
    "duration": 4,
    "start_time": "2023-02-27T22:21:50.320Z"
   },
   {
    "duration": 7,
    "start_time": "2023-02-27T22:21:50.326Z"
   },
   {
    "duration": 8,
    "start_time": "2023-02-27T22:21:50.335Z"
   },
   {
    "duration": 7,
    "start_time": "2023-02-27T22:21:50.345Z"
   },
   {
    "duration": 23,
    "start_time": "2023-02-27T22:21:50.355Z"
   },
   {
    "duration": 35,
    "start_time": "2023-02-27T22:21:50.379Z"
   },
   {
    "duration": 8,
    "start_time": "2023-02-27T22:21:50.416Z"
   },
   {
    "duration": 11,
    "start_time": "2023-02-27T22:21:50.425Z"
   },
   {
    "duration": 9,
    "start_time": "2023-02-27T22:21:50.438Z"
   },
   {
    "duration": 57,
    "start_time": "2023-02-27T22:21:50.448Z"
   },
   {
    "duration": 6,
    "start_time": "2023-02-27T22:21:50.507Z"
   },
   {
    "duration": 17,
    "start_time": "2023-02-27T22:21:50.515Z"
   },
   {
    "duration": 19,
    "start_time": "2023-02-27T22:21:50.534Z"
   },
   {
    "duration": 202,
    "start_time": "2023-02-27T22:21:50.555Z"
   },
   {
    "duration": 8,
    "start_time": "2023-02-27T22:21:50.758Z"
   },
   {
    "duration": 353,
    "start_time": "2023-02-27T22:21:50.768Z"
   },
   {
    "duration": 17,
    "start_time": "2023-02-27T22:21:51.123Z"
   },
   {
    "duration": 221,
    "start_time": "2023-02-27T22:21:51.141Z"
   },
   {
    "duration": 539,
    "start_time": "2023-02-27T22:21:51.363Z"
   },
   {
    "duration": 282,
    "start_time": "2023-02-27T22:21:51.904Z"
   },
   {
    "duration": 12,
    "start_time": "2023-02-27T22:21:52.188Z"
   },
   {
    "duration": 26,
    "start_time": "2023-02-27T22:21:52.202Z"
   },
   {
    "duration": 222,
    "start_time": "2023-02-27T22:21:52.231Z"
   },
   {
    "duration": 139,
    "start_time": "2023-02-27T22:21:52.455Z"
   },
   {
    "duration": 154,
    "start_time": "2023-02-27T22:21:52.599Z"
   },
   {
    "duration": 8,
    "start_time": "2023-02-27T22:21:52.755Z"
   },
   {
    "duration": 11,
    "start_time": "2023-02-27T22:21:52.764Z"
   },
   {
    "duration": 97,
    "start_time": "2023-02-27T22:21:52.777Z"
   },
   {
    "duration": 473,
    "start_time": "2023-02-27T22:21:52.876Z"
   },
   {
    "duration": 486,
    "start_time": "2023-02-27T22:21:53.350Z"
   },
   {
    "duration": 641,
    "start_time": "2023-02-27T22:21:53.838Z"
   },
   {
    "duration": 122,
    "start_time": "2023-02-27T22:21:54.481Z"
   },
   {
    "duration": 132,
    "start_time": "2023-02-27T22:22:05.356Z"
   },
   {
    "duration": 127,
    "start_time": "2023-02-27T22:22:47.607Z"
   },
   {
    "duration": 202951,
    "start_time": "2023-02-27T22:23:17.758Z"
   },
   {
    "duration": 513,
    "start_time": "2023-02-27T22:26:40.711Z"
   },
   {
    "duration": 129,
    "start_time": "2023-02-27T22:27:22.137Z"
   },
   {
    "duration": 5,
    "start_time": "2023-02-27T22:30:48.480Z"
   },
   {
    "duration": 150,
    "start_time": "2023-02-27T22:31:32.003Z"
   },
   {
    "duration": 135,
    "start_time": "2023-02-27T22:31:39.259Z"
   },
   {
    "duration": 136,
    "start_time": "2023-02-27T22:31:43.197Z"
   },
   {
    "duration": 160,
    "start_time": "2023-02-27T22:32:15.353Z"
   },
   {
    "duration": 134,
    "start_time": "2023-02-27T22:32:24.585Z"
   },
   {
    "duration": 142,
    "start_time": "2023-02-27T22:33:59.005Z"
   },
   {
    "duration": 16,
    "start_time": "2023-02-27T22:35:03.626Z"
   },
   {
    "duration": 145,
    "start_time": "2023-02-27T22:35:23.666Z"
   },
   {
    "duration": 172,
    "start_time": "2023-02-27T22:36:01.736Z"
   },
   {
    "duration": 20,
    "start_time": "2023-02-27T22:36:27.759Z"
   },
   {
    "duration": 15,
    "start_time": "2023-02-27T22:36:46.272Z"
   },
   {
    "duration": 13,
    "start_time": "2023-02-27T22:36:59.868Z"
   },
   {
    "duration": 15,
    "start_time": "2023-02-27T22:37:08.650Z"
   },
   {
    "duration": 12,
    "start_time": "2023-02-27T22:37:11.210Z"
   },
   {
    "duration": 14,
    "start_time": "2023-02-27T22:39:26.793Z"
   },
   {
    "duration": 12,
    "start_time": "2023-02-27T22:39:58.224Z"
   },
   {
    "duration": 5,
    "start_time": "2023-02-27T23:05:54.157Z"
   },
   {
    "duration": 8,
    "start_time": "2023-02-27T23:06:00.045Z"
   },
   {
    "duration": 10,
    "start_time": "2023-02-27T23:06:12.338Z"
   },
   {
    "duration": 8,
    "start_time": "2023-02-27T23:06:19.412Z"
   },
   {
    "duration": 8,
    "start_time": "2023-02-27T23:06:23.745Z"
   },
   {
    "duration": 6,
    "start_time": "2023-02-27T23:07:05.996Z"
   },
   {
    "duration": 117,
    "start_time": "2023-02-27T23:07:50.090Z"
   },
   {
    "duration": 143,
    "start_time": "2023-02-27T23:07:55.991Z"
   },
   {
    "duration": 123,
    "start_time": "2023-02-27T23:08:08.516Z"
   },
   {
    "duration": 121,
    "start_time": "2023-02-27T23:08:15.417Z"
   },
   {
    "duration": 123,
    "start_time": "2023-02-27T23:09:12.716Z"
   },
   {
    "duration": 130,
    "start_time": "2023-02-27T23:09:34.982Z"
   },
   {
    "duration": 131,
    "start_time": "2023-02-27T23:10:15.773Z"
   },
   {
    "duration": 125,
    "start_time": "2023-02-27T23:10:21.507Z"
   },
   {
    "duration": 146,
    "start_time": "2023-02-27T23:15:30.100Z"
   },
   {
    "duration": 135,
    "start_time": "2023-02-27T23:15:53.314Z"
   },
   {
    "duration": 138,
    "start_time": "2023-02-27T23:16:03.728Z"
   },
   {
    "duration": 130,
    "start_time": "2023-02-27T23:16:12.927Z"
   },
   {
    "duration": 132,
    "start_time": "2023-02-27T23:16:16.622Z"
   },
   {
    "duration": 137,
    "start_time": "2023-02-27T23:16:21.741Z"
   },
   {
    "duration": 132,
    "start_time": "2023-02-27T23:16:25.438Z"
   },
   {
    "duration": 141,
    "start_time": "2023-02-27T23:16:30.366Z"
   },
   {
    "duration": 247,
    "start_time": "2023-02-27T23:18:02.144Z"
   },
   {
    "duration": 224,
    "start_time": "2023-02-27T23:18:26.106Z"
   },
   {
    "duration": 223,
    "start_time": "2023-02-27T23:18:32.100Z"
   },
   {
    "duration": 15,
    "start_time": "2023-02-27T23:20:34.486Z"
   },
   {
    "duration": 254,
    "start_time": "2023-02-27T23:21:48.660Z"
   },
   {
    "duration": 223,
    "start_time": "2023-02-27T23:25:16.724Z"
   },
   {
    "duration": 220,
    "start_time": "2023-02-27T23:25:25.296Z"
   },
   {
    "duration": 209,
    "start_time": "2023-02-27T23:25:31.572Z"
   },
   {
    "duration": 221,
    "start_time": "2023-02-27T23:25:50.009Z"
   },
   {
    "duration": 232,
    "start_time": "2023-02-27T23:26:20.545Z"
   },
   {
    "duration": 223,
    "start_time": "2023-02-27T23:26:32.949Z"
   },
   {
    "duration": 226,
    "start_time": "2023-02-27T23:26:44.660Z"
   },
   {
    "duration": 119,
    "start_time": "2023-02-27T23:27:54.788Z"
   },
   {
    "duration": 238,
    "start_time": "2023-02-27T23:28:01.563Z"
   },
   {
    "duration": 134,
    "start_time": "2023-02-27T23:28:12.569Z"
   },
   {
    "duration": 5,
    "start_time": "2023-02-27T23:49:09.490Z"
   },
   {
    "duration": 4,
    "start_time": "2023-02-27T23:49:30.301Z"
   },
   {
    "duration": 6,
    "start_time": "2023-02-27T23:49:32.804Z"
   },
   {
    "duration": 6,
    "start_time": "2023-02-27T23:49:32.991Z"
   },
   {
    "duration": 5,
    "start_time": "2023-02-27T23:49:56.239Z"
   },
   {
    "duration": 121,
    "start_time": "2023-02-27T23:50:31.802Z"
   },
   {
    "duration": 124,
    "start_time": "2023-02-27T23:50:39.266Z"
   },
   {
    "duration": 5,
    "start_time": "2023-02-27T23:51:26.155Z"
   },
   {
    "duration": 5,
    "start_time": "2023-02-27T23:51:31.794Z"
   },
   {
    "duration": 6,
    "start_time": "2023-02-27T23:51:47.620Z"
   },
   {
    "duration": 130,
    "start_time": "2023-02-27T23:54:01.056Z"
   },
   {
    "duration": 126,
    "start_time": "2023-02-27T23:54:44.359Z"
   },
   {
    "duration": 6,
    "start_time": "2023-02-27T23:56:09.756Z"
   },
   {
    "duration": 7,
    "start_time": "2023-02-28T00:00:35.960Z"
   },
   {
    "duration": 7,
    "start_time": "2023-02-28T00:00:43.582Z"
   },
   {
    "duration": 7,
    "start_time": "2023-02-28T00:00:56.366Z"
   },
   {
    "duration": 15,
    "start_time": "2023-02-28T00:02:10.030Z"
   },
   {
    "duration": 115,
    "start_time": "2023-02-28T00:02:16.786Z"
   },
   {
    "duration": 13,
    "start_time": "2023-02-28T00:03:37.663Z"
   },
   {
    "duration": 116,
    "start_time": "2023-02-28T00:06:18.419Z"
   },
   {
    "duration": 118,
    "start_time": "2023-02-28T00:06:25.946Z"
   },
   {
    "duration": 125,
    "start_time": "2023-02-28T00:06:51.166Z"
   },
   {
    "duration": 124,
    "start_time": "2023-02-28T00:06:59.689Z"
   },
   {
    "duration": 128,
    "start_time": "2023-02-28T00:07:08.115Z"
   },
   {
    "duration": 121,
    "start_time": "2023-02-28T00:09:52.432Z"
   },
   {
    "duration": 121,
    "start_time": "2023-02-28T00:10:22.165Z"
   },
   {
    "duration": 128,
    "start_time": "2023-02-28T00:15:51.678Z"
   },
   {
    "duration": 126,
    "start_time": "2023-02-28T00:16:17.170Z"
   },
   {
    "duration": 103,
    "start_time": "2023-02-28T00:16:34.626Z"
   },
   {
    "duration": 5,
    "start_time": "2023-02-28T00:17:01.844Z"
   },
   {
    "duration": 1008,
    "start_time": "2023-02-28T00:17:25.725Z"
   },
   {
    "duration": 143,
    "start_time": "2023-02-28T00:17:53.394Z"
   },
   {
    "duration": 5,
    "start_time": "2023-02-28T00:18:14.183Z"
   },
   {
    "duration": 123,
    "start_time": "2023-02-28T00:18:33.465Z"
   },
   {
    "duration": 130,
    "start_time": "2023-02-28T00:18:56.342Z"
   },
   {
    "duration": 139,
    "start_time": "2023-02-28T00:20:02.506Z"
   },
   {
    "duration": 126,
    "start_time": "2023-02-28T00:21:24.056Z"
   },
   {
    "duration": 127,
    "start_time": "2023-02-28T00:22:28.570Z"
   },
   {
    "duration": 6,
    "start_time": "2023-02-28T00:23:52.894Z"
   },
   {
    "duration": 129,
    "start_time": "2023-02-28T00:24:20.905Z"
   },
   {
    "duration": 117,
    "start_time": "2023-02-28T00:24:38.620Z"
   },
   {
    "duration": 6,
    "start_time": "2023-02-28T00:25:06.521Z"
   },
   {
    "duration": 121,
    "start_time": "2023-02-28T00:25:36.229Z"
   },
   {
    "duration": 126,
    "start_time": "2023-02-28T00:39:36.966Z"
   },
   {
    "duration": 8,
    "start_time": "2023-02-28T00:39:37.095Z"
   },
   {
    "duration": 20,
    "start_time": "2023-02-28T01:01:40.231Z"
   },
   {
    "duration": 23,
    "start_time": "2023-02-28T01:06:31.712Z"
   },
   {
    "duration": 10,
    "start_time": "2023-02-28T01:07:54.235Z"
   },
   {
    "duration": 10,
    "start_time": "2023-02-28T01:07:58.046Z"
   },
   {
    "duration": 9,
    "start_time": "2023-02-28T01:08:00.783Z"
   },
   {
    "duration": 3,
    "start_time": "2023-02-28T01:13:13.469Z"
   },
   {
    "duration": 99,
    "start_time": "2023-02-28T01:13:13.474Z"
   },
   {
    "duration": 13,
    "start_time": "2023-02-28T01:13:13.574Z"
   },
   {
    "duration": 13,
    "start_time": "2023-02-28T01:13:13.589Z"
   },
   {
    "duration": 653,
    "start_time": "2023-02-28T01:13:13.603Z"
   },
   {
    "duration": 4,
    "start_time": "2023-02-28T01:13:14.258Z"
   },
   {
    "duration": 10,
    "start_time": "2023-02-28T01:13:14.263Z"
   },
   {
    "duration": 7,
    "start_time": "2023-02-28T01:13:14.274Z"
   },
   {
    "duration": 17,
    "start_time": "2023-02-28T01:13:14.283Z"
   },
   {
    "duration": 8,
    "start_time": "2023-02-28T01:13:14.301Z"
   },
   {
    "duration": 25,
    "start_time": "2023-02-28T01:13:14.311Z"
   },
   {
    "duration": 8,
    "start_time": "2023-02-28T01:13:14.338Z"
   },
   {
    "duration": 14,
    "start_time": "2023-02-28T01:13:14.347Z"
   },
   {
    "duration": 43,
    "start_time": "2023-02-28T01:13:14.363Z"
   },
   {
    "duration": 19,
    "start_time": "2023-02-28T01:13:14.408Z"
   },
   {
    "duration": 5,
    "start_time": "2023-02-28T01:13:14.429Z"
   },
   {
    "duration": 17,
    "start_time": "2023-02-28T01:13:14.436Z"
   },
   {
    "duration": 21,
    "start_time": "2023-02-28T01:13:14.454Z"
   },
   {
    "duration": 171,
    "start_time": "2023-02-28T01:13:14.477Z"
   },
   {
    "duration": 6,
    "start_time": "2023-02-28T01:13:14.649Z"
   },
   {
    "duration": 306,
    "start_time": "2023-02-28T01:13:14.657Z"
   },
   {
    "duration": 15,
    "start_time": "2023-02-28T01:13:14.965Z"
   },
   {
    "duration": 241,
    "start_time": "2023-02-28T01:13:14.982Z"
   },
   {
    "duration": 546,
    "start_time": "2023-02-28T01:13:15.225Z"
   },
   {
    "duration": 453,
    "start_time": "2023-02-28T01:13:15.773Z"
   },
   {
    "duration": 6,
    "start_time": "2023-02-28T01:13:16.227Z"
   },
   {
    "duration": 29,
    "start_time": "2023-02-28T01:13:16.235Z"
   },
   {
    "duration": 156,
    "start_time": "2023-02-28T01:13:16.265Z"
   },
   {
    "duration": 169,
    "start_time": "2023-02-28T01:13:16.424Z"
   },
   {
    "duration": 139,
    "start_time": "2023-02-28T01:13:16.599Z"
   },
   {
    "duration": 8,
    "start_time": "2023-02-28T01:13:16.739Z"
   },
   {
    "duration": 14,
    "start_time": "2023-02-28T01:13:16.749Z"
   },
   {
    "duration": 191,
    "start_time": "2023-02-28T01:13:16.765Z"
   },
   {
    "duration": 508,
    "start_time": "2023-02-28T01:13:16.958Z"
   },
   {
    "duration": 492,
    "start_time": "2023-02-28T01:13:17.468Z"
   },
   {
    "duration": 591,
    "start_time": "2023-02-28T01:13:17.962Z"
   },
   {
    "duration": 13,
    "start_time": "2023-02-28T01:13:18.555Z"
   },
   {
    "duration": 14,
    "start_time": "2023-02-28T01:13:18.569Z"
   },
   {
    "duration": 141,
    "start_time": "2023-02-28T01:13:18.599Z"
   },
   {
    "duration": 124,
    "start_time": "2023-02-28T01:13:18.741Z"
   },
   {
    "duration": 5,
    "start_time": "2023-02-28T01:13:18.867Z"
   },
   {
    "duration": 128,
    "start_time": "2023-02-28T01:13:18.874Z"
   },
   {
    "duration": 131,
    "start_time": "2023-02-28T01:13:19.003Z"
   },
   {
    "duration": 4,
    "start_time": "2023-02-28T01:13:19.136Z"
   },
   {
    "duration": 134,
    "start_time": "2023-02-28T01:13:19.142Z"
   },
   {
    "duration": 136,
    "start_time": "2023-02-28T01:13:19.277Z"
   },
   {
    "duration": 118,
    "start_time": "2023-02-28T01:13:19.415Z"
   },
   {
    "duration": 6,
    "start_time": "2023-02-28T01:13:19.535Z"
   },
   {
    "duration": 128,
    "start_time": "2023-02-28T01:13:19.542Z"
   },
   {
    "duration": 141,
    "start_time": "2023-02-28T01:13:19.672Z"
   },
   {
    "duration": 6,
    "start_time": "2023-02-28T01:13:19.814Z"
   },
   {
    "duration": 133,
    "start_time": "2023-02-28T01:13:19.821Z"
   },
   {
    "duration": 133,
    "start_time": "2023-02-28T01:13:19.956Z"
   },
   {
    "duration": 124,
    "start_time": "2023-02-28T01:13:20.091Z"
   },
   {
    "duration": 5,
    "start_time": "2023-02-28T01:13:20.217Z"
   },
   {
    "duration": 152,
    "start_time": "2023-02-28T01:13:20.224Z"
   },
   {
    "duration": 140,
    "start_time": "2023-02-28T01:13:20.377Z"
   },
   {
    "duration": 6,
    "start_time": "2023-02-28T01:13:20.518Z"
   },
   {
    "duration": 257,
    "start_time": "2023-02-28T01:13:20.525Z"
   },
   {
    "duration": 103,
    "start_time": "2023-02-28T01:13:20.783Z"
   },
   {
    "duration": 10,
    "start_time": "2023-02-28T01:14:12.663Z"
   },
   {
    "duration": 99,
    "start_time": "2023-02-28T01:15:28.648Z"
   },
   {
    "duration": 9,
    "start_time": "2023-02-28T01:15:32.675Z"
   },
   {
    "duration": 11,
    "start_time": "2023-02-28T01:17:59.766Z"
   },
   {
    "duration": 10,
    "start_time": "2023-02-28T01:18:10.186Z"
   },
   {
    "duration": 9,
    "start_time": "2023-02-28T01:22:45.126Z"
   },
   {
    "duration": 1199,
    "start_time": "2023-02-28T02:11:03.966Z"
   },
   {
    "duration": 99,
    "start_time": "2023-02-28T02:11:05.168Z"
   },
   {
    "duration": 19,
    "start_time": "2023-02-28T02:11:05.269Z"
   },
   {
    "duration": 29,
    "start_time": "2023-02-28T02:11:05.291Z"
   },
   {
    "duration": 613,
    "start_time": "2023-02-28T02:11:05.322Z"
   },
   {
    "duration": 5,
    "start_time": "2023-02-28T02:11:05.938Z"
   },
   {
    "duration": 7,
    "start_time": "2023-02-28T02:11:05.945Z"
   },
   {
    "duration": 8,
    "start_time": "2023-02-28T02:11:05.953Z"
   },
   {
    "duration": 13,
    "start_time": "2023-02-28T02:11:05.963Z"
   },
   {
    "duration": 21,
    "start_time": "2023-02-28T02:11:05.979Z"
   },
   {
    "duration": 27,
    "start_time": "2023-02-28T02:11:06.001Z"
   },
   {
    "duration": 9,
    "start_time": "2023-02-28T02:11:06.030Z"
   },
   {
    "duration": 13,
    "start_time": "2023-02-28T02:11:06.040Z"
   },
   {
    "duration": 46,
    "start_time": "2023-02-28T02:11:06.054Z"
   },
   {
    "duration": 24,
    "start_time": "2023-02-28T02:11:06.101Z"
   },
   {
    "duration": 8,
    "start_time": "2023-02-28T02:11:06.127Z"
   },
   {
    "duration": 16,
    "start_time": "2023-02-28T02:11:06.137Z"
   },
   {
    "duration": 45,
    "start_time": "2023-02-28T02:11:06.155Z"
   },
   {
    "duration": 167,
    "start_time": "2023-02-28T02:11:06.201Z"
   },
   {
    "duration": 7,
    "start_time": "2023-02-28T02:11:06.370Z"
   },
   {
    "duration": 366,
    "start_time": "2023-02-28T02:11:06.379Z"
   },
   {
    "duration": 17,
    "start_time": "2023-02-28T02:11:06.747Z"
   },
   {
    "duration": 253,
    "start_time": "2023-02-28T02:11:06.766Z"
   },
   {
    "duration": 598,
    "start_time": "2023-02-28T02:11:07.021Z"
   },
   {
    "duration": 291,
    "start_time": "2023-02-28T02:11:07.621Z"
   },
   {
    "duration": 6,
    "start_time": "2023-02-28T02:11:07.913Z"
   },
   {
    "duration": 23,
    "start_time": "2023-02-28T02:11:07.921Z"
   },
   {
    "duration": 246,
    "start_time": "2023-02-28T02:11:07.948Z"
   },
   {
    "duration": 141,
    "start_time": "2023-02-28T02:11:08.199Z"
   },
   {
    "duration": 157,
    "start_time": "2023-02-28T02:11:08.342Z"
   },
   {
    "duration": 8,
    "start_time": "2023-02-28T02:11:08.500Z"
   },
   {
    "duration": 9,
    "start_time": "2023-02-28T02:11:08.510Z"
   },
   {
    "duration": 96,
    "start_time": "2023-02-28T02:11:08.520Z"
   },
   {
    "duration": 495,
    "start_time": "2023-02-28T02:11:08.618Z"
   },
   {
    "duration": 477,
    "start_time": "2023-02-28T02:11:09.114Z"
   },
   {
    "duration": 599,
    "start_time": "2023-02-28T02:11:09.593Z"
   },
   {
    "duration": 17,
    "start_time": "2023-02-28T02:11:10.193Z"
   },
   {
    "duration": 13,
    "start_time": "2023-02-28T02:11:10.212Z"
   },
   {
    "duration": 152,
    "start_time": "2023-02-28T02:11:10.227Z"
   },
   {
    "duration": 125,
    "start_time": "2023-02-28T02:11:10.381Z"
   },
   {
    "duration": 6,
    "start_time": "2023-02-28T02:11:10.508Z"
   },
   {
    "duration": 127,
    "start_time": "2023-02-28T02:11:10.516Z"
   },
   {
    "duration": 137,
    "start_time": "2023-02-28T02:11:10.644Z"
   },
   {
    "duration": 6,
    "start_time": "2023-02-28T02:11:10.782Z"
   },
   {
    "duration": 139,
    "start_time": "2023-02-28T02:11:10.789Z"
   },
   {
    "duration": 141,
    "start_time": "2023-02-28T02:11:10.930Z"
   },
   {
    "duration": 117,
    "start_time": "2023-02-28T02:11:11.072Z"
   },
   {
    "duration": 8,
    "start_time": "2023-02-28T02:11:11.191Z"
   },
   {
    "duration": 217,
    "start_time": "2023-02-28T02:11:11.200Z"
   },
   {
    "duration": 145,
    "start_time": "2023-02-28T02:11:11.419Z"
   },
   {
    "duration": 5,
    "start_time": "2023-02-28T02:11:11.565Z"
   },
   {
    "duration": 136,
    "start_time": "2023-02-28T02:11:11.572Z"
   },
   {
    "duration": 137,
    "start_time": "2023-02-28T02:11:11.710Z"
   },
   {
    "duration": 122,
    "start_time": "2023-02-28T02:11:11.849Z"
   },
   {
    "duration": 5,
    "start_time": "2023-02-28T02:11:11.973Z"
   },
   {
    "duration": 157,
    "start_time": "2023-02-28T02:11:11.979Z"
   },
   {
    "duration": 141,
    "start_time": "2023-02-28T02:11:12.137Z"
   },
   {
    "duration": 6,
    "start_time": "2023-02-28T02:11:12.279Z"
   },
   {
    "duration": 140,
    "start_time": "2023-02-28T02:11:12.286Z"
   },
   {
    "duration": 9,
    "start_time": "2023-02-28T02:11:12.428Z"
   },
   {
    "duration": 8,
    "start_time": "2023-02-28T02:11:12.439Z"
   },
   {
    "duration": 1384,
    "start_time": "2023-02-28T16:00:32.278Z"
   },
   {
    "duration": 129,
    "start_time": "2023-02-28T16:00:33.664Z"
   },
   {
    "duration": 21,
    "start_time": "2023-02-28T16:00:33.795Z"
   },
   {
    "duration": 44,
    "start_time": "2023-02-28T16:00:33.817Z"
   },
   {
    "duration": 676,
    "start_time": "2023-02-28T16:00:33.864Z"
   },
   {
    "duration": 5,
    "start_time": "2023-02-28T16:00:34.541Z"
   },
   {
    "duration": 11,
    "start_time": "2023-02-28T16:00:34.548Z"
   },
   {
    "duration": 12,
    "start_time": "2023-02-28T16:00:34.562Z"
   },
   {
    "duration": 11,
    "start_time": "2023-02-28T16:00:34.575Z"
   },
   {
    "duration": 29,
    "start_time": "2023-02-28T16:00:34.587Z"
   },
   {
    "duration": 45,
    "start_time": "2023-02-28T16:00:34.617Z"
   },
   {
    "duration": 22,
    "start_time": "2023-02-28T16:00:34.664Z"
   },
   {
    "duration": 12,
    "start_time": "2023-02-28T16:00:34.688Z"
   },
   {
    "duration": 36,
    "start_time": "2023-02-28T16:00:34.703Z"
   },
   {
    "duration": 31,
    "start_time": "2023-02-28T16:00:34.740Z"
   },
   {
    "duration": 7,
    "start_time": "2023-02-28T16:00:34.773Z"
   },
   {
    "duration": 48,
    "start_time": "2023-02-28T16:00:34.782Z"
   },
   {
    "duration": 42,
    "start_time": "2023-02-28T16:00:34.832Z"
   },
   {
    "duration": 186,
    "start_time": "2023-02-28T16:00:34.876Z"
   },
   {
    "duration": 7,
    "start_time": "2023-02-28T16:00:35.064Z"
   },
   {
    "duration": 368,
    "start_time": "2023-02-28T16:00:35.072Z"
   },
   {
    "duration": 12,
    "start_time": "2023-02-28T16:00:35.442Z"
   },
   {
    "duration": 252,
    "start_time": "2023-02-28T16:00:35.456Z"
   },
   {
    "duration": 658,
    "start_time": "2023-02-28T16:00:35.710Z"
   },
   {
    "duration": 334,
    "start_time": "2023-02-28T16:00:36.370Z"
   },
   {
    "duration": 6,
    "start_time": "2023-02-28T16:00:36.707Z"
   },
   {
    "duration": 42,
    "start_time": "2023-02-28T16:00:36.715Z"
   },
   {
    "duration": 158,
    "start_time": "2023-02-28T16:00:36.759Z"
   },
   {
    "duration": 154,
    "start_time": "2023-02-28T16:00:36.919Z"
   },
   {
    "duration": 164,
    "start_time": "2023-02-28T16:00:37.075Z"
   },
   {
    "duration": 8,
    "start_time": "2023-02-28T16:00:37.241Z"
   },
   {
    "duration": 15,
    "start_time": "2023-02-28T16:00:37.251Z"
   },
   {
    "duration": 90,
    "start_time": "2023-02-28T16:00:37.268Z"
   },
   {
    "duration": 549,
    "start_time": "2023-02-28T16:00:37.360Z"
   },
   {
    "duration": 669,
    "start_time": "2023-02-28T16:00:37.911Z"
   },
   {
    "duration": 551,
    "start_time": "2023-02-28T16:00:38.582Z"
   },
   {
    "duration": 14,
    "start_time": "2023-02-28T16:00:39.137Z"
   },
   {
    "duration": 12,
    "start_time": "2023-02-28T16:00:39.152Z"
   },
   {
    "duration": 151,
    "start_time": "2023-02-28T16:00:39.166Z"
   },
   {
    "duration": 147,
    "start_time": "2023-02-28T16:00:39.318Z"
   },
   {
    "duration": 5,
    "start_time": "2023-02-28T16:00:39.469Z"
   },
   {
    "duration": 153,
    "start_time": "2023-02-28T16:00:39.476Z"
   },
   {
    "duration": 149,
    "start_time": "2023-02-28T16:00:39.631Z"
   },
   {
    "duration": 6,
    "start_time": "2023-02-28T16:00:39.782Z"
   },
   {
    "duration": 242,
    "start_time": "2023-02-28T16:00:39.790Z"
   },
   {
    "duration": 139,
    "start_time": "2023-02-28T16:00:40.037Z"
   },
   {
    "duration": 127,
    "start_time": "2023-02-28T16:00:40.178Z"
   },
   {
    "duration": 5,
    "start_time": "2023-02-28T16:00:40.307Z"
   },
   {
    "duration": 159,
    "start_time": "2023-02-28T16:00:40.314Z"
   },
   {
    "duration": 156,
    "start_time": "2023-02-28T16:00:40.474Z"
   },
   {
    "duration": 9,
    "start_time": "2023-02-28T16:00:40.632Z"
   },
   {
    "duration": 143,
    "start_time": "2023-02-28T16:00:40.643Z"
   },
   {
    "duration": 152,
    "start_time": "2023-02-28T16:00:40.788Z"
   },
   {
    "duration": 124,
    "start_time": "2023-02-28T16:00:40.941Z"
   },
   {
    "duration": 5,
    "start_time": "2023-02-28T16:00:41.067Z"
   },
   {
    "duration": 164,
    "start_time": "2023-02-28T16:00:41.074Z"
   },
   {
    "duration": 135,
    "start_time": "2023-02-28T16:00:41.240Z"
   },
   {
    "duration": 6,
    "start_time": "2023-02-28T16:00:41.376Z"
   },
   {
    "duration": 149,
    "start_time": "2023-02-28T16:00:41.383Z"
   },
   {
    "duration": 13,
    "start_time": "2023-02-28T16:00:41.534Z"
   },
   {
    "duration": 18,
    "start_time": "2023-02-28T16:00:41.549Z"
   },
   {
    "duration": 1297,
    "start_time": "2023-02-28T16:13:07.455Z"
   },
   {
    "duration": 85,
    "start_time": "2023-02-28T16:13:08.754Z"
   },
   {
    "duration": 21,
    "start_time": "2023-02-28T16:13:08.841Z"
   },
   {
    "duration": 16,
    "start_time": "2023-02-28T16:13:08.864Z"
   },
   {
    "duration": 618,
    "start_time": "2023-02-28T16:13:08.882Z"
   },
   {
    "duration": 5,
    "start_time": "2023-02-28T16:13:09.502Z"
   },
   {
    "duration": 16,
    "start_time": "2023-02-28T16:13:09.509Z"
   },
   {
    "duration": 15,
    "start_time": "2023-02-28T16:13:09.526Z"
   },
   {
    "duration": 13,
    "start_time": "2023-02-28T16:13:09.543Z"
   },
   {
    "duration": 13,
    "start_time": "2023-02-28T16:13:09.559Z"
   },
   {
    "duration": 31,
    "start_time": "2023-02-28T16:13:09.574Z"
   },
   {
    "duration": 34,
    "start_time": "2023-02-28T16:13:09.606Z"
   },
   {
    "duration": 35,
    "start_time": "2023-02-28T16:13:09.641Z"
   },
   {
    "duration": 23,
    "start_time": "2023-02-28T16:13:09.678Z"
   },
   {
    "duration": 32,
    "start_time": "2023-02-28T16:13:09.703Z"
   },
   {
    "duration": 6,
    "start_time": "2023-02-28T16:13:09.738Z"
   },
   {
    "duration": 34,
    "start_time": "2023-02-28T16:13:09.748Z"
   },
   {
    "duration": 20,
    "start_time": "2023-02-28T16:13:09.784Z"
   },
   {
    "duration": 200,
    "start_time": "2023-02-28T16:13:09.805Z"
   },
   {
    "duration": 7,
    "start_time": "2023-02-28T16:13:10.007Z"
   },
   {
    "duration": 342,
    "start_time": "2023-02-28T16:13:10.016Z"
   },
   {
    "duration": 13,
    "start_time": "2023-02-28T16:13:10.360Z"
   },
   {
    "duration": 243,
    "start_time": "2023-02-28T16:13:10.374Z"
   },
   {
    "duration": 648,
    "start_time": "2023-02-28T16:13:10.619Z"
   },
   {
    "duration": 341,
    "start_time": "2023-02-28T16:13:11.269Z"
   },
   {
    "duration": 6,
    "start_time": "2023-02-28T16:13:11.612Z"
   },
   {
    "duration": 28,
    "start_time": "2023-02-28T16:13:11.620Z"
   },
   {
    "duration": 152,
    "start_time": "2023-02-28T16:13:11.652Z"
   },
   {
    "duration": 159,
    "start_time": "2023-02-28T16:13:11.806Z"
   },
   {
    "duration": 160,
    "start_time": "2023-02-28T16:13:11.967Z"
   },
   {
    "duration": 15,
    "start_time": "2023-02-28T16:13:12.129Z"
   },
   {
    "duration": 20,
    "start_time": "2023-02-28T16:13:12.146Z"
   },
   {
    "duration": 101,
    "start_time": "2023-02-28T16:13:12.167Z"
   },
   {
    "duration": 615,
    "start_time": "2023-02-28T16:13:12.270Z"
   },
   {
    "duration": 653,
    "start_time": "2023-02-28T16:13:12.887Z"
   },
   {
    "duration": 561,
    "start_time": "2023-02-28T16:13:13.542Z"
   },
   {
    "duration": 13,
    "start_time": "2023-02-28T16:13:14.104Z"
   },
   {
    "duration": 21,
    "start_time": "2023-02-28T16:13:14.119Z"
   },
   {
    "duration": 145,
    "start_time": "2023-02-28T16:13:14.142Z"
   },
   {
    "duration": 136,
    "start_time": "2023-02-28T16:13:14.288Z"
   },
   {
    "duration": 12,
    "start_time": "2023-02-28T16:13:14.426Z"
   },
   {
    "duration": 136,
    "start_time": "2023-02-28T16:13:14.439Z"
   },
   {
    "duration": 156,
    "start_time": "2023-02-28T16:13:14.576Z"
   },
   {
    "duration": 9,
    "start_time": "2023-02-28T16:13:14.733Z"
   },
   {
    "duration": 246,
    "start_time": "2023-02-28T16:13:14.743Z"
   },
   {
    "duration": 152,
    "start_time": "2023-02-28T16:13:14.991Z"
   },
   {
    "duration": 141,
    "start_time": "2023-02-28T16:13:15.146Z"
   },
   {
    "duration": 5,
    "start_time": "2023-02-28T16:13:15.289Z"
   },
   {
    "duration": 146,
    "start_time": "2023-02-28T16:13:15.296Z"
   },
   {
    "duration": 151,
    "start_time": "2023-02-28T16:13:15.443Z"
   },
   {
    "duration": 6,
    "start_time": "2023-02-28T16:13:15.595Z"
   },
   {
    "duration": 141,
    "start_time": "2023-02-28T16:13:15.602Z"
   },
   {
    "duration": 150,
    "start_time": "2023-02-28T16:13:15.745Z"
   },
   {
    "duration": 129,
    "start_time": "2023-02-28T16:13:15.897Z"
   },
   {
    "duration": 5,
    "start_time": "2023-02-28T16:13:16.037Z"
   },
   {
    "duration": 158,
    "start_time": "2023-02-28T16:13:16.045Z"
   },
   {
    "duration": 146,
    "start_time": "2023-02-28T16:13:16.205Z"
   },
   {
    "duration": 6,
    "start_time": "2023-02-28T16:13:16.354Z"
   },
   {
    "duration": 173,
    "start_time": "2023-02-28T16:13:16.362Z"
   },
   {
    "duration": 11,
    "start_time": "2023-02-28T16:13:16.537Z"
   },
   {
    "duration": 15,
    "start_time": "2023-02-28T16:13:16.549Z"
   },
   {
    "duration": 1316,
    "start_time": "2023-02-28T16:53:39.509Z"
   },
   {
    "duration": 534,
    "start_time": "2023-02-28T16:53:40.827Z"
   },
   {
    "duration": 17,
    "start_time": "2023-02-28T16:53:41.363Z"
   },
   {
    "duration": 33,
    "start_time": "2023-02-28T16:53:41.382Z"
   },
   {
    "duration": 596,
    "start_time": "2023-02-28T16:53:41.418Z"
   },
   {
    "duration": 4,
    "start_time": "2023-02-28T16:53:42.016Z"
   },
   {
    "duration": 18,
    "start_time": "2023-02-28T16:53:42.022Z"
   },
   {
    "duration": 26,
    "start_time": "2023-02-28T16:53:42.041Z"
   },
   {
    "duration": 14,
    "start_time": "2023-02-28T16:53:42.069Z"
   },
   {
    "duration": 20,
    "start_time": "2023-02-28T16:53:42.086Z"
   },
   {
    "duration": 37,
    "start_time": "2023-02-28T16:53:42.107Z"
   },
   {
    "duration": 18,
    "start_time": "2023-02-28T16:53:42.146Z"
   },
   {
    "duration": 7,
    "start_time": "2023-02-28T16:53:42.166Z"
   },
   {
    "duration": 31,
    "start_time": "2023-02-28T16:53:42.175Z"
   },
   {
    "duration": 25,
    "start_time": "2023-02-28T16:53:42.209Z"
   },
   {
    "duration": 6,
    "start_time": "2023-02-28T16:53:42.235Z"
   },
   {
    "duration": 30,
    "start_time": "2023-02-28T16:53:42.242Z"
   },
   {
    "duration": 18,
    "start_time": "2023-02-28T16:53:42.274Z"
   },
   {
    "duration": 183,
    "start_time": "2023-02-28T16:53:42.293Z"
   },
   {
    "duration": 7,
    "start_time": "2023-02-28T16:53:42.477Z"
   },
   {
    "duration": 377,
    "start_time": "2023-02-28T16:53:42.486Z"
   },
   {
    "duration": 14,
    "start_time": "2023-02-28T16:53:42.865Z"
   },
   {
    "duration": 224,
    "start_time": "2023-02-28T16:53:42.881Z"
   },
   {
    "duration": 596,
    "start_time": "2023-02-28T16:53:43.107Z"
   },
   {
    "duration": 359,
    "start_time": "2023-02-28T16:53:43.705Z"
   },
   {
    "duration": 38,
    "start_time": "2023-02-28T16:53:44.066Z"
   },
   {
    "duration": 317,
    "start_time": "2023-02-28T16:53:44.106Z"
   },
   {
    "duration": 155,
    "start_time": "2023-02-28T16:53:44.426Z"
   },
   {
    "duration": 144,
    "start_time": "2023-02-28T16:53:44.583Z"
   },
   {
    "duration": 8,
    "start_time": "2023-02-28T16:53:44.728Z"
   },
   {
    "duration": 11,
    "start_time": "2023-02-28T16:53:44.752Z"
   },
   {
    "duration": 91,
    "start_time": "2023-02-28T16:53:44.764Z"
   },
   {
    "duration": 561,
    "start_time": "2023-02-28T16:53:44.856Z"
   },
   {
    "duration": 635,
    "start_time": "2023-02-28T16:53:45.419Z"
   },
   {
    "duration": 612,
    "start_time": "2023-02-28T16:53:46.056Z"
   },
   {
    "duration": 13,
    "start_time": "2023-02-28T16:53:46.670Z"
   },
   {
    "duration": 12,
    "start_time": "2023-02-28T16:53:46.685Z"
   },
   {
    "duration": 143,
    "start_time": "2023-02-28T16:53:46.699Z"
   },
   {
    "duration": 161,
    "start_time": "2023-02-28T16:53:46.844Z"
   },
   {
    "duration": 5,
    "start_time": "2023-02-28T16:53:47.007Z"
   },
   {
    "duration": 151,
    "start_time": "2023-02-28T16:53:47.013Z"
   },
   {
    "duration": 143,
    "start_time": "2023-02-28T16:53:47.165Z"
   },
   {
    "duration": 5,
    "start_time": "2023-02-28T16:53:47.310Z"
   },
   {
    "duration": 149,
    "start_time": "2023-02-28T16:53:47.316Z"
   },
   {
    "duration": 134,
    "start_time": "2023-02-28T16:53:47.467Z"
   },
   {
    "duration": 222,
    "start_time": "2023-02-28T16:53:47.603Z"
   },
   {
    "duration": 6,
    "start_time": "2023-02-28T16:53:47.826Z"
   },
   {
    "duration": 155,
    "start_time": "2023-02-28T16:53:47.833Z"
   },
   {
    "duration": 163,
    "start_time": "2023-02-28T16:53:47.990Z"
   },
   {
    "duration": 7,
    "start_time": "2023-02-28T16:53:48.162Z"
   },
   {
    "duration": 138,
    "start_time": "2023-02-28T16:53:48.171Z"
   },
   {
    "duration": 153,
    "start_time": "2023-02-28T16:53:48.311Z"
   },
   {
    "duration": 122,
    "start_time": "2023-02-28T16:53:48.466Z"
   },
   {
    "duration": 5,
    "start_time": "2023-02-28T16:53:48.590Z"
   },
   {
    "duration": 162,
    "start_time": "2023-02-28T16:53:48.597Z"
   },
   {
    "duration": 131,
    "start_time": "2023-02-28T16:53:48.760Z"
   },
   {
    "duration": 5,
    "start_time": "2023-02-28T16:53:48.893Z"
   },
   {
    "duration": 148,
    "start_time": "2023-02-28T16:53:48.900Z"
   },
   {
    "duration": 18,
    "start_time": "2023-02-28T16:53:49.051Z"
   },
   {
    "duration": 13,
    "start_time": "2023-02-28T16:53:49.070Z"
   },
   {
    "duration": 3,
    "start_time": "2023-02-28T17:10:06.120Z"
   },
   {
    "duration": 32,
    "start_time": "2023-02-28T17:10:45.400Z"
   },
   {
    "duration": 6,
    "start_time": "2023-02-28T17:10:54.117Z"
   },
   {
    "duration": 153,
    "start_time": "2023-02-28T17:11:09.197Z"
   },
   {
    "duration": 153,
    "start_time": "2023-02-28T17:11:11.080Z"
   },
   {
    "duration": 8,
    "start_time": "2023-02-28T17:11:14.436Z"
   },
   {
    "duration": 122,
    "start_time": "2023-02-28T17:11:56.076Z"
   },
   {
    "duration": 5,
    "start_time": "2023-02-28T17:11:59.904Z"
   },
   {
    "duration": 6,
    "start_time": "2023-02-28T17:13:28.701Z"
   },
   {
    "duration": 8,
    "start_time": "2023-02-28T17:30:55.229Z"
   },
   {
    "duration": 8,
    "start_time": "2023-02-28T17:31:05.423Z"
   },
   {
    "duration": 221,
    "start_time": "2023-02-28T17:33:26.059Z"
   },
   {
    "duration": 140,
    "start_time": "2023-02-28T17:33:30.102Z"
   },
   {
    "duration": 7,
    "start_time": "2023-02-28T17:33:33.172Z"
   },
   {
    "duration": 170,
    "start_time": "2023-02-28T17:36:19.284Z"
   },
   {
    "duration": 161,
    "start_time": "2023-02-28T17:36:20.833Z"
   },
   {
    "duration": 8,
    "start_time": "2023-02-28T17:36:33.408Z"
   },
   {
    "duration": 154,
    "start_time": "2023-02-28T17:37:45.478Z"
   },
   {
    "duration": 137,
    "start_time": "2023-02-28T17:37:51.762Z"
   },
   {
    "duration": 8,
    "start_time": "2023-02-28T17:37:53.957Z"
   },
   {
    "duration": 11,
    "start_time": "2023-02-28T20:33:09.658Z"
   },
   {
    "duration": 12,
    "start_time": "2023-02-28T20:33:16.209Z"
   },
   {
    "duration": 13,
    "start_time": "2023-02-28T20:39:44.923Z"
   },
   {
    "duration": 126,
    "start_time": "2023-02-28T20:40:10.452Z"
   },
   {
    "duration": 105,
    "start_time": "2023-02-28T20:40:19.482Z"
   },
   {
    "duration": 19,
    "start_time": "2023-02-28T20:41:44.413Z"
   },
   {
    "duration": 17,
    "start_time": "2023-02-28T20:41:53.694Z"
   },
   {
    "duration": 17,
    "start_time": "2023-02-28T20:41:58.003Z"
   },
   {
    "duration": 108,
    "start_time": "2023-02-28T20:42:06.328Z"
   },
   {
    "duration": 248,
    "start_time": "2023-02-28T20:42:38.664Z"
   },
   {
    "duration": 353,
    "start_time": "2023-02-28T20:42:50.427Z"
   },
   {
    "duration": 267,
    "start_time": "2023-02-28T20:42:53.774Z"
   },
   {
    "duration": 166,
    "start_time": "2023-02-28T20:44:35.591Z"
   },
   {
    "duration": 266,
    "start_time": "2023-02-28T20:45:31.953Z"
   },
   {
    "duration": 79,
    "start_time": "2023-02-28T20:45:50.140Z"
   },
   {
    "duration": 267,
    "start_time": "2023-02-28T20:45:54.200Z"
   },
   {
    "duration": 100,
    "start_time": "2023-02-28T20:46:00.478Z"
   },
   {
    "duration": 288,
    "start_time": "2023-02-28T20:46:03.583Z"
   },
   {
    "duration": 360,
    "start_time": "2023-02-28T20:46:13.933Z"
   },
   {
    "duration": 1029,
    "start_time": "2023-03-01T14:55:07.340Z"
   },
   {
    "duration": 80,
    "start_time": "2023-03-01T14:55:08.371Z"
   },
   {
    "duration": 13,
    "start_time": "2023-03-01T14:55:08.452Z"
   },
   {
    "duration": 16,
    "start_time": "2023-03-01T14:55:08.467Z"
   },
   {
    "duration": 531,
    "start_time": "2023-03-01T14:55:08.484Z"
   },
   {
    "duration": 4,
    "start_time": "2023-03-01T14:55:09.017Z"
   },
   {
    "duration": 6,
    "start_time": "2023-03-01T14:55:09.022Z"
   },
   {
    "duration": 11,
    "start_time": "2023-03-01T14:55:09.030Z"
   },
   {
    "duration": 5,
    "start_time": "2023-03-01T14:55:09.042Z"
   },
   {
    "duration": 6,
    "start_time": "2023-03-01T14:55:09.049Z"
   },
   {
    "duration": 27,
    "start_time": "2023-03-01T14:55:09.057Z"
   },
   {
    "duration": 7,
    "start_time": "2023-03-01T14:55:09.085Z"
   },
   {
    "duration": 10,
    "start_time": "2023-03-01T14:55:09.093Z"
   },
   {
    "duration": 8,
    "start_time": "2023-03-01T14:55:09.140Z"
   },
   {
    "duration": 18,
    "start_time": "2023-03-01T14:55:09.150Z"
   },
   {
    "duration": 6,
    "start_time": "2023-03-01T14:55:09.169Z"
   },
   {
    "duration": 12,
    "start_time": "2023-03-01T14:55:09.177Z"
   },
   {
    "duration": 16,
    "start_time": "2023-03-01T14:55:09.190Z"
   },
   {
    "duration": 194,
    "start_time": "2023-03-01T14:55:09.207Z"
   },
   {
    "duration": 7,
    "start_time": "2023-03-01T14:55:09.403Z"
   },
   {
    "duration": 343,
    "start_time": "2023-03-01T14:55:09.412Z"
   },
   {
    "duration": 14,
    "start_time": "2023-03-01T14:55:09.756Z"
   },
   {
    "duration": 209,
    "start_time": "2023-03-01T14:55:09.772Z"
   },
   {
    "duration": 511,
    "start_time": "2023-03-01T14:55:09.983Z"
   },
   {
    "duration": 296,
    "start_time": "2023-03-01T14:55:10.496Z"
   },
   {
    "duration": 32,
    "start_time": "2023-03-01T14:55:10.793Z"
   },
   {
    "duration": 310,
    "start_time": "2023-03-01T14:55:10.827Z"
   },
   {
    "duration": 6,
    "start_time": "2023-03-01T14:55:11.141Z"
   },
   {
    "duration": 146,
    "start_time": "2023-03-01T14:55:11.148Z"
   },
   {
    "duration": 159,
    "start_time": "2023-03-01T14:55:11.296Z"
   },
   {
    "duration": 8,
    "start_time": "2023-03-01T14:55:11.457Z"
   },
   {
    "duration": 169,
    "start_time": "2023-03-01T14:55:11.467Z"
   },
   {
    "duration": 155,
    "start_time": "2023-03-01T14:55:11.640Z"
   },
   {
    "duration": 6,
    "start_time": "2023-03-01T14:55:11.797Z"
   },
   {
    "duration": 171,
    "start_time": "2023-03-01T14:55:11.805Z"
   },
   {
    "duration": 150,
    "start_time": "2023-03-01T14:55:11.977Z"
   },
   {
    "duration": 11,
    "start_time": "2023-03-01T14:55:12.129Z"
   },
   {
    "duration": 157,
    "start_time": "2023-03-01T14:55:12.141Z"
   },
   {
    "duration": 151,
    "start_time": "2023-03-01T14:55:12.300Z"
   },
   {
    "duration": 7,
    "start_time": "2023-03-01T14:55:12.453Z"
   },
   {
    "duration": 19,
    "start_time": "2023-03-01T14:55:12.462Z"
   },
   {
    "duration": 389,
    "start_time": "2023-03-01T14:55:12.483Z"
   },
   {
    "duration": 127,
    "start_time": "2023-03-01T14:55:12.873Z"
   },
   {
    "duration": 5,
    "start_time": "2023-03-01T14:55:13.001Z"
   },
   {
    "duration": 148,
    "start_time": "2023-03-01T14:55:13.007Z"
   },
   {
    "duration": 6,
    "start_time": "2023-03-01T14:55:13.157Z"
   },
   {
    "duration": 143,
    "start_time": "2023-03-01T14:55:13.164Z"
   },
   {
    "duration": 124,
    "start_time": "2023-03-01T14:55:13.309Z"
   },
   {
    "duration": 6,
    "start_time": "2023-03-01T14:55:13.440Z"
   },
   {
    "duration": 134,
    "start_time": "2023-03-01T14:55:13.447Z"
   },
   {
    "duration": 5,
    "start_time": "2023-03-01T14:55:13.583Z"
   },
   {
    "duration": 132,
    "start_time": "2023-03-01T14:55:13.589Z"
   },
   {
    "duration": 130,
    "start_time": "2023-03-01T14:55:13.722Z"
   },
   {
    "duration": 5,
    "start_time": "2023-03-01T14:55:13.853Z"
   },
   {
    "duration": 130,
    "start_time": "2023-03-01T14:55:13.860Z"
   },
   {
    "duration": 5,
    "start_time": "2023-03-01T14:55:13.991Z"
   },
   {
    "duration": 127,
    "start_time": "2023-03-01T14:55:13.998Z"
   },
   {
    "duration": 14,
    "start_time": "2023-03-01T14:55:14.127Z"
   },
   {
    "duration": 8,
    "start_time": "2023-03-01T14:55:14.143Z"
   },
   {
    "duration": 105,
    "start_time": "2023-03-01T14:57:34.767Z"
   },
   {
    "duration": 344,
    "start_time": "2023-03-01T14:57:47.385Z"
   },
   {
    "duration": 10,
    "start_time": "2023-03-01T14:59:01.780Z"
   }
  ],
  "kernelspec": {
   "display_name": "Python 3 (ipykernel)",
   "language": "python",
   "name": "python3"
  },
  "language_info": {
   "codemirror_mode": {
    "name": "ipython",
    "version": 3
   },
   "file_extension": ".py",
   "mimetype": "text/x-python",
   "name": "python",
   "nbconvert_exporter": "python",
   "pygments_lexer": "ipython3",
   "version": "3.11.5"
  },
  "toc": {
   "base_numbering": 1,
   "nav_menu": {
    "height": "785px",
    "width": "799px"
   },
   "number_sections": true,
   "sideBar": true,
   "skip_h1_title": true,
   "title_cell": "Table of Contents",
   "title_sidebar": "Contents",
   "toc_cell": false,
   "toc_position": {},
   "toc_section_display": true,
   "toc_window_display": false
  }
 },
 "nbformat": 4,
 "nbformat_minor": 4
}
